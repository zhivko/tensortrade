{
 "cells": [
  {
   "cell_type": "code",
   "execution_count": 1,
   "metadata": {},
   "outputs": [],
   "source": [
    "# https://www.tensortrade.org/en/latest/examples/setup_environment_tutorial.html\n",
    "import ta\n",
    "\n",
    "import pandas as pd\n",
    "import tensortrade.env.default as default\n",
    "\n",
    "from tensortrade.data.cdd import CryptoDataDownload\n",
    "from tensortrade.feed.core import Stream, DataFeed, NameSpace\n",
    "from tensortrade.oms.instruments import USD, BTC, ETH, LTC\n",
    "from tensortrade.oms.wallets import Wallet, Portfolio\n",
    "from tensortrade.oms.exchanges import Exchange\n",
    "from tensortrade.oms.services.execution.simulated import execute_order\n"
   ]
  },
  {
   "cell_type": "code",
   "execution_count": 2,
   "metadata": {},
   "outputs": [],
   "source": [
    "cdd = CryptoDataDownload()\n",
    "\n",
    "bitfinex_data = pd.concat([\n",
    "    cdd.fetch(\"Bitfinex\", \"USD\", \"BTC\", \"1h\").add_prefix(\"BTC:\"),\n",
    "    cdd.fetch(\"Bitfinex\", \"USD\", \"ETH\", \"1h\").add_prefix(\"ETH:\")\n",
    "], axis=1)\n",
    "\n",
    "bitstamp_data = pd.concat([\n",
    "    cdd.fetch(\"Bitstamp\", \"USD\", \"BTC\", \"1h\").add_prefix(\"BTC:\"),\n",
    "    cdd.fetch(\"Bitstamp\", \"USD\", \"LTC\", \"1h\").add_prefix(\"LTC:\")\n",
    "], axis=1)"
   ]
  },
  {
   "cell_type": "code",
   "execution_count": 3,
   "metadata": {},
   "outputs": [],
   "source": [
    "bitfinex = Exchange(\"bitfinex\", service=execute_order)(\n",
    "    Stream.source(list(bitfinex_data['BTC:close']), dtype=\"float\").rename(\"USD-BTC\"),\n",
    "    Stream.source(list(bitfinex_data['ETH:close']), dtype=\"float\").rename(\"USD-ETH\")\n",
    ")\n",
    "\n",
    "bitstamp = Exchange(\"bitstamp\", service=execute_order)(\n",
    "    Stream.source(list(bitstamp_data['BTC:close']), dtype=\"float\").rename(\"USD-BTC\"),\n",
    "    Stream.source(list(bitstamp_data['LTC:close']), dtype=\"float\").rename(\"USD-LTC\")\n",
    ")"
   ]
  },
  {
   "cell_type": "code",
   "execution_count": 4,
   "metadata": {},
   "outputs": [
    {
     "name": "stderr",
     "output_type": "stream",
     "text": [
      "/home/klemen/.local/lib/python3.8/site-packages/ta/wrapper.py:89: SettingWithCopyWarning: \n",
      "A value is trying to be set on a copy of a slice from a DataFrame.\n",
      "Try using .loc[row_indexer,col_indexer] = value instead\n",
      "\n",
      "See the caveats in the documentation: https://pandas.pydata.org/pandas-docs/stable/user_guide/indexing.html#returning-a-view-versus-a-copy\n",
      "  df[f\"{colprefix}volume_adi\"] = AccDistIndexIndicator(\n",
      "/home/klemen/.local/lib/python3.8/site-packages/ta/wrapper.py:94: SettingWithCopyWarning: \n",
      "A value is trying to be set on a copy of a slice from a DataFrame.\n",
      "Try using .loc[row_indexer,col_indexer] = value instead\n",
      "\n",
      "See the caveats in the documentation: https://pandas.pydata.org/pandas-docs/stable/user_guide/indexing.html#returning-a-view-versus-a-copy\n",
      "  df[f\"{colprefix}volume_obv\"] = OnBalanceVolumeIndicator(\n",
      "/home/klemen/.local/lib/python3.8/site-packages/ta/wrapper.py:99: SettingWithCopyWarning: \n",
      "A value is trying to be set on a copy of a slice from a DataFrame.\n",
      "Try using .loc[row_indexer,col_indexer] = value instead\n",
      "\n",
      "See the caveats in the documentation: https://pandas.pydata.org/pandas-docs/stable/user_guide/indexing.html#returning-a-view-versus-a-copy\n",
      "  df[f\"{colprefix}volume_cmf\"] = ChaikinMoneyFlowIndicator(\n",
      "/home/klemen/.local/lib/python3.8/site-packages/ta/wrapper.py:104: SettingWithCopyWarning: \n",
      "A value is trying to be set on a copy of a slice from a DataFrame.\n",
      "Try using .loc[row_indexer,col_indexer] = value instead\n",
      "\n",
      "See the caveats in the documentation: https://pandas.pydata.org/pandas-docs/stable/user_guide/indexing.html#returning-a-view-versus-a-copy\n",
      "  df[f\"{colprefix}volume_fi\"] = ForceIndexIndicator(\n",
      "/home/klemen/.local/lib/python3.8/site-packages/ta/wrapper.py:109: SettingWithCopyWarning: \n",
      "A value is trying to be set on a copy of a slice from a DataFrame.\n",
      "Try using .loc[row_indexer,col_indexer] = value instead\n",
      "\n",
      "See the caveats in the documentation: https://pandas.pydata.org/pandas-docs/stable/user_guide/indexing.html#returning-a-view-versus-a-copy\n",
      "  df[f\"{colprefix}volume_mfi\"] = MFIIndicator(\n",
      "/home/klemen/.local/lib/python3.8/site-packages/ta/wrapper.py:122: SettingWithCopyWarning: \n",
      "A value is trying to be set on a copy of a slice from a DataFrame.\n",
      "Try using .loc[row_indexer,col_indexer] = value instead\n",
      "\n",
      "See the caveats in the documentation: https://pandas.pydata.org/pandas-docs/stable/user_guide/indexing.html#returning-a-view-versus-a-copy\n",
      "  df[f\"{colprefix}volume_em\"] = indicator_eom.ease_of_movement()\n",
      "/home/klemen/.local/lib/python3.8/site-packages/ta/trend.py:768: RuntimeWarning: invalid value encountered in double_scalars\n",
      "  dip[i] = 100 * (self._dip[i] / self._trs[i])\n",
      "/home/klemen/.local/lib/python3.8/site-packages/ta/trend.py:772: RuntimeWarning: invalid value encountered in double_scalars\n",
      "  din[i] = 100 * (self._din[i] / self._trs[i])\n",
      "/home/klemen/.local/lib/python3.8/site-packages/ta/wrapper.py:89: SettingWithCopyWarning: \n",
      "A value is trying to be set on a copy of a slice from a DataFrame.\n",
      "Try using .loc[row_indexer,col_indexer] = value instead\n",
      "\n",
      "See the caveats in the documentation: https://pandas.pydata.org/pandas-docs/stable/user_guide/indexing.html#returning-a-view-versus-a-copy\n",
      "  df[f\"{colprefix}volume_adi\"] = AccDistIndexIndicator(\n",
      "/home/klemen/.local/lib/python3.8/site-packages/ta/wrapper.py:94: SettingWithCopyWarning: \n",
      "A value is trying to be set on a copy of a slice from a DataFrame.\n",
      "Try using .loc[row_indexer,col_indexer] = value instead\n",
      "\n",
      "See the caveats in the documentation: https://pandas.pydata.org/pandas-docs/stable/user_guide/indexing.html#returning-a-view-versus-a-copy\n",
      "  df[f\"{colprefix}volume_obv\"] = OnBalanceVolumeIndicator(\n",
      "/home/klemen/.local/lib/python3.8/site-packages/ta/wrapper.py:99: SettingWithCopyWarning: \n",
      "A value is trying to be set on a copy of a slice from a DataFrame.\n",
      "Try using .loc[row_indexer,col_indexer] = value instead\n",
      "\n",
      "See the caveats in the documentation: https://pandas.pydata.org/pandas-docs/stable/user_guide/indexing.html#returning-a-view-versus-a-copy\n",
      "  df[f\"{colprefix}volume_cmf\"] = ChaikinMoneyFlowIndicator(\n",
      "/home/klemen/.local/lib/python3.8/site-packages/ta/wrapper.py:104: SettingWithCopyWarning: \n",
      "A value is trying to be set on a copy of a slice from a DataFrame.\n",
      "Try using .loc[row_indexer,col_indexer] = value instead\n",
      "\n",
      "See the caveats in the documentation: https://pandas.pydata.org/pandas-docs/stable/user_guide/indexing.html#returning-a-view-versus-a-copy\n",
      "  df[f\"{colprefix}volume_fi\"] = ForceIndexIndicator(\n",
      "/home/klemen/.local/lib/python3.8/site-packages/ta/wrapper.py:109: SettingWithCopyWarning: \n",
      "A value is trying to be set on a copy of a slice from a DataFrame.\n",
      "Try using .loc[row_indexer,col_indexer] = value instead\n",
      "\n",
      "See the caveats in the documentation: https://pandas.pydata.org/pandas-docs/stable/user_guide/indexing.html#returning-a-view-versus-a-copy\n",
      "  df[f\"{colprefix}volume_mfi\"] = MFIIndicator(\n",
      "/home/klemen/.local/lib/python3.8/site-packages/ta/wrapper.py:122: SettingWithCopyWarning: \n",
      "A value is trying to be set on a copy of a slice from a DataFrame.\n",
      "Try using .loc[row_indexer,col_indexer] = value instead\n",
      "\n",
      "See the caveats in the documentation: https://pandas.pydata.org/pandas-docs/stable/user_guide/indexing.html#returning-a-view-versus-a-copy\n",
      "  df[f\"{colprefix}volume_em\"] = indicator_eom.ease_of_movement()\n",
      "/home/klemen/.local/lib/python3.8/site-packages/ta/trend.py:768: RuntimeWarning: invalid value encountered in double_scalars\n",
      "  dip[i] = 100 * (self._dip[i] / self._trs[i])\n",
      "/home/klemen/.local/lib/python3.8/site-packages/ta/trend.py:772: RuntimeWarning: invalid value encountered in double_scalars\n",
      "  din[i] = 100 * (self._din[i] / self._trs[i])\n"
     ]
    }
   ],
   "source": [
    "# Add all features for bitstamp BTC & ETH\n",
    "bitfinex_btc = bitfinex_data.loc[:, [name.startswith(\"BTC\") for name in bitfinex_data.columns]]\n",
    "bitfinex_eth = bitfinex_data.loc[:, [name.startswith(\"ETH\") for name in bitfinex_data.columns]]\n",
    "\n",
    "ta.add_all_ta_features(\n",
    "    bitfinex_btc,\n",
    "    colprefix=\"BTC:\",\n",
    "    **{k: \"BTC:\" + k for k in ['open', 'high', 'low', 'close', 'volume']}\n",
    ")\n",
    "\n",
    "\n",
    "with NameSpace(\"bitfinex\"):\n",
    "    bitfinex_streams = [\n",
    "        Stream.source(list(bitfinex_btc[c]), dtype=\"float\").rename(c) for c in bitfinex_btc.columns\n",
    "    ]\n",
    "    bitfinex_streams += [\n",
    "        Stream.source(list(bitfinex_eth[c]), dtype=\"float\").rename(c) for c in bitfinex_eth.columns\n",
    "    ]\n",
    "\n",
    "\n",
    "# Add all features for bitstamp BTC & LTC\n",
    "bitstamp_btc = bitstamp_data.loc[:, [name.startswith(\"BTC\") for name in bitstamp_data.columns]]  \n",
    "bitstamp_ltc = bitstamp_data.loc[:, [name.startswith(\"LTC\") for name in bitstamp_data.columns]]\n",
    "\n",
    "ta.add_all_ta_features(\n",
    "    bitstamp_ltc,\n",
    "    colprefix=\"LTC:\",\n",
    "    **{k: \"LTC:\" + k for k in ['open', 'high', 'low', 'close', 'volume']}\n",
    ")\n",
    "\n",
    "with NameSpace(\"bitstamp\"):\n",
    "    bitstamp_streams = [\n",
    "        Stream.source(list(bitstamp_btc[c]), dtype=\"float\").rename(c) for c in bitstamp_btc.columns\n",
    "    ]\n",
    "    bitstamp_streams += [\n",
    "        Stream.source(list(bitstamp_ltc[c]), dtype=\"float\").rename(c) for c in bitstamp_ltc.columns\n",
    "    ]\n",
    "\n",
    "\n",
    "feed = DataFeed(bitfinex_streams + bitstamp_streams)\n"
   ]
  },
  {
   "cell_type": "code",
   "execution_count": 5,
   "metadata": {},
   "outputs": [
    {
     "data": {
      "text/plain": [
       "{'bitfinex:/BTC:date': Timestamp('2018-05-15 06:00:00'),\n",
       " 'bitfinex:/BTC:unix': 1526364000,\n",
       " 'bitfinex:/BTC:open': 8723.8,\n",
       " 'bitfinex:/BTC:high': 8793.0,\n",
       " 'bitfinex:/BTC:low': 8714.9,\n",
       " 'bitfinex:/BTC:close': 8739.0,\n",
       " 'bitfinex:/BTC:volume': 8988053.53,\n",
       " 'bitfinex:/BTC:volume_adi': -3441008.969871901,\n",
       " 'bitfinex:/BTC:volume_obv': 8988053.53,\n",
       " 'bitfinex:/BTC:volume_cmf': nan,\n",
       " 'bitfinex:/BTC:volume_fi': nan,\n",
       " 'bitfinex:/BTC:volume_mfi': nan,\n",
       " 'bitfinex:/BTC:volume_em': nan,\n",
       " 'bitfinex:/BTC:volume_sma_em': nan,\n",
       " 'bitfinex:/BTC:volume_vpt': -813501.9453160722,\n",
       " 'bitfinex:/BTC:volume_nvi': 1000.0,\n",
       " 'bitfinex:/BTC:volume_vwap': nan,\n",
       " 'bitfinex:/BTC:volatility_atr': 0.0,\n",
       " 'bitfinex:/BTC:volatility_bbm': nan,\n",
       " 'bitfinex:/BTC:volatility_bbh': nan,\n",
       " 'bitfinex:/BTC:volatility_bbl': nan,\n",
       " 'bitfinex:/BTC:volatility_bbw': nan,\n",
       " 'bitfinex:/BTC:volatility_bbp': nan,\n",
       " 'bitfinex:/BTC:volatility_bbhi': 0.0,\n",
       " 'bitfinex:/BTC:volatility_bbli': 0.0,\n",
       " 'bitfinex:/BTC:volatility_kcc': nan,\n",
       " 'bitfinex:/BTC:volatility_kch': 8827.066666666668,\n",
       " 'bitfinex:/BTC:volatility_kcl': 8670.866666666667,\n",
       " 'bitfinex:/BTC:volatility_kcw': nan,\n",
       " 'bitfinex:/BTC:volatility_kcp': 0.4361929150661517,\n",
       " 'bitfinex:/BTC:volatility_kchi': 0.0,\n",
       " 'bitfinex:/BTC:volatility_kcli': 0.0,\n",
       " 'bitfinex:/BTC:volatility_dcl': nan,\n",
       " 'bitfinex:/BTC:volatility_dch': nan,\n",
       " 'bitfinex:/BTC:volatility_dcm': nan,\n",
       " 'bitfinex:/BTC:volatility_dcw': nan,\n",
       " 'bitfinex:/BTC:volatility_dcp': nan,\n",
       " 'bitfinex:/BTC:volatility_ui': nan,\n",
       " 'bitfinex:/BTC:trend_macd': nan,\n",
       " 'bitfinex:/BTC:trend_macd_signal': nan,\n",
       " 'bitfinex:/BTC:trend_macd_diff': nan,\n",
       " 'bitfinex:/BTC:trend_sma_fast': nan,\n",
       " 'bitfinex:/BTC:trend_sma_slow': nan,\n",
       " 'bitfinex:/BTC:trend_ema_fast': nan,\n",
       " 'bitfinex:/BTC:trend_ema_slow': nan,\n",
       " 'bitfinex:/BTC:trend_adx': 0.0,\n",
       " 'bitfinex:/BTC:trend_adx_pos': 0.0,\n",
       " 'bitfinex:/BTC:trend_adx_neg': 0.0,\n",
       " 'bitfinex:/BTC:trend_vortex_ind_pos': nan,\n",
       " 'bitfinex:/BTC:trend_vortex_ind_neg': nan,\n",
       " 'bitfinex:/BTC:trend_vortex_ind_diff': nan,\n",
       " 'bitfinex:/BTC:trend_trix': nan,\n",
       " 'bitfinex:/BTC:trend_mass_index': nan,\n",
       " 'bitfinex:/BTC:trend_cci': nan,\n",
       " 'bitfinex:/BTC:trend_dpo': nan,\n",
       " 'bitfinex:/BTC:trend_kst': nan,\n",
       " 'bitfinex:/BTC:trend_kst_sig': nan,\n",
       " 'bitfinex:/BTC:trend_kst_diff': nan,\n",
       " 'bitfinex:/BTC:trend_ichimoku_conv': nan,\n",
       " 'bitfinex:/BTC:trend_ichimoku_base': nan,\n",
       " 'bitfinex:/BTC:trend_ichimoku_a': nan,\n",
       " 'bitfinex:/BTC:trend_ichimoku_b': 8753.95,\n",
       " 'bitfinex:/BTC:trend_visual_ichimoku_a': 9583.891647917546,\n",
       " 'bitfinex:/BTC:trend_visual_ichimoku_b': 9558.217037319355,\n",
       " 'bitfinex:/BTC:trend_aroon_up': nan,\n",
       " 'bitfinex:/BTC:trend_aroon_down': nan,\n",
       " 'bitfinex:/BTC:trend_aroon_ind': nan,\n",
       " 'bitfinex:/BTC:trend_psar_up': nan,\n",
       " 'bitfinex:/BTC:trend_psar_down': nan,\n",
       " 'bitfinex:/BTC:trend_psar_up_indicator': 0.0,\n",
       " 'bitfinex:/BTC:trend_psar_down_indicator': 0.0,\n",
       " 'bitfinex:/BTC:trend_stc': nan,\n",
       " 'bitfinex:/BTC:momentum_rsi': nan,\n",
       " 'bitfinex:/BTC:momentum_stoch_rsi': nan,\n",
       " 'bitfinex:/BTC:momentum_stoch_rsi_k': nan,\n",
       " 'bitfinex:/BTC:momentum_stoch_rsi_d': nan,\n",
       " 'bitfinex:/BTC:momentum_tsi': nan,\n",
       " 'bitfinex:/BTC:momentum_uo': nan,\n",
       " 'bitfinex:/BTC:momentum_stoch': nan,\n",
       " 'bitfinex:/BTC:momentum_stoch_signal': nan,\n",
       " 'bitfinex:/BTC:momentum_wr': nan,\n",
       " 'bitfinex:/BTC:momentum_ao': nan,\n",
       " 'bitfinex:/BTC:momentum_kama': nan,\n",
       " 'bitfinex:/BTC:momentum_roc': nan,\n",
       " 'bitfinex:/BTC:momentum_ppo': nan,\n",
       " 'bitfinex:/BTC:momentum_ppo_signal': nan,\n",
       " 'bitfinex:/BTC:momentum_ppo_hist': nan,\n",
       " 'bitfinex:/BTC:others_dr': -9.027754035557301,\n",
       " 'bitfinex:/BTC:others_dlr': nan,\n",
       " 'bitfinex:/BTC:others_cr': 0.0,\n",
       " 'bitfinex:/ETH:date': Timestamp('2018-05-15 06:00:00'),\n",
       " 'bitfinex:/ETH:unix': 1526364000,\n",
       " 'bitfinex:/ETH:open': 733.12,\n",
       " 'bitfinex:/ETH:high': 736.48,\n",
       " 'bitfinex:/ETH:low': 731.19,\n",
       " 'bitfinex:/ETH:close': 733.04,\n",
       " 'bitfinex:/ETH:volume': 4246576.84,\n",
       " 'bitstamp:/BTC:date': Timestamp('2018-05-15 06:00:00'),\n",
       " 'bitstamp:/BTC:unix': 1526364000,\n",
       " 'bitstamp:/BTC:open': 8733.86,\n",
       " 'bitstamp:/BTC:high': 8796.68,\n",
       " 'bitstamp:/BTC:low': 8707.28,\n",
       " 'bitstamp:/BTC:close': 8740.99,\n",
       " 'bitstamp:/BTC:volume': 559.93,\n",
       " 'bitstamp:/LTC:date': Timestamp('2018-05-15 06:00:00'),\n",
       " 'bitstamp:/LTC:unix': 1526364000,\n",
       " 'bitstamp:/LTC:open': 147.2,\n",
       " 'bitstamp:/LTC:high': 148.7,\n",
       " 'bitstamp:/LTC:low': 147.01,\n",
       " 'bitstamp:/LTC:close': 147.2,\n",
       " 'bitstamp:/LTC:volume': 1907.28,\n",
       " 'bitstamp:/LTC:volume_adi': -1478.424142011839,\n",
       " 'bitstamp:/LTC:volume_obv': 1907.28,\n",
       " 'bitstamp:/LTC:volume_cmf': nan,\n",
       " 'bitstamp:/LTC:volume_fi': nan,\n",
       " 'bitstamp:/LTC:volume_mfi': nan,\n",
       " 'bitstamp:/LTC:volume_em': nan,\n",
       " 'bitstamp:/LTC:volume_sma_em': nan,\n",
       " 'bitstamp:/LTC:volume_vpt': 2332.2077376984134,\n",
       " 'bitstamp:/LTC:volume_nvi': 1000.0,\n",
       " 'bitstamp:/LTC:volume_vwap': nan,\n",
       " 'bitstamp:/LTC:volatility_atr': 0.0,\n",
       " 'bitstamp:/LTC:volatility_bbm': nan,\n",
       " 'bitstamp:/LTC:volatility_bbh': nan,\n",
       " 'bitstamp:/LTC:volatility_bbl': nan,\n",
       " 'bitstamp:/LTC:volatility_bbw': nan,\n",
       " 'bitstamp:/LTC:volatility_bbp': nan,\n",
       " 'bitstamp:/LTC:volatility_bbhi': 0.0,\n",
       " 'bitstamp:/LTC:volatility_bbli': 0.0,\n",
       " 'bitstamp:/LTC:volatility_kcc': nan,\n",
       " 'bitstamp:/LTC:volatility_kch': 149.32666666666665,\n",
       " 'bitstamp:/LTC:volatility_kcl': 145.94666666666666,\n",
       " 'bitstamp:/LTC:volatility_kcw': nan,\n",
       " 'bitstamp:/LTC:volatility_kcp': 0.3708086785009858,\n",
       " 'bitstamp:/LTC:volatility_kchi': 0.0,\n",
       " 'bitstamp:/LTC:volatility_kcli': 0.0,\n",
       " 'bitstamp:/LTC:volatility_dcl': nan,\n",
       " 'bitstamp:/LTC:volatility_dch': nan,\n",
       " 'bitstamp:/LTC:volatility_dcm': nan,\n",
       " 'bitstamp:/LTC:volatility_dcw': nan,\n",
       " 'bitstamp:/LTC:volatility_dcp': nan,\n",
       " 'bitstamp:/LTC:volatility_ui': nan,\n",
       " 'bitstamp:/LTC:trend_macd': nan,\n",
       " 'bitstamp:/LTC:trend_macd_signal': nan,\n",
       " 'bitstamp:/LTC:trend_macd_diff': nan,\n",
       " 'bitstamp:/LTC:trend_sma_fast': nan,\n",
       " 'bitstamp:/LTC:trend_sma_slow': nan,\n",
       " 'bitstamp:/LTC:trend_ema_fast': nan,\n",
       " 'bitstamp:/LTC:trend_ema_slow': nan,\n",
       " 'bitstamp:/LTC:trend_adx': 0.0,\n",
       " 'bitstamp:/LTC:trend_adx_pos': 0.0,\n",
       " 'bitstamp:/LTC:trend_adx_neg': 0.0,\n",
       " 'bitstamp:/LTC:trend_vortex_ind_pos': nan,\n",
       " 'bitstamp:/LTC:trend_vortex_ind_neg': nan,\n",
       " 'bitstamp:/LTC:trend_vortex_ind_diff': nan,\n",
       " 'bitstamp:/LTC:trend_trix': nan,\n",
       " 'bitstamp:/LTC:trend_mass_index': nan,\n",
       " 'bitstamp:/LTC:trend_cci': nan,\n",
       " 'bitstamp:/LTC:trend_dpo': nan,\n",
       " 'bitstamp:/LTC:trend_kst': nan,\n",
       " 'bitstamp:/LTC:trend_kst_sig': nan,\n",
       " 'bitstamp:/LTC:trend_kst_diff': nan,\n",
       " 'bitstamp:/LTC:trend_ichimoku_conv': nan,\n",
       " 'bitstamp:/LTC:trend_ichimoku_base': nan,\n",
       " 'bitstamp:/LTC:trend_ichimoku_a': nan,\n",
       " 'bitstamp:/LTC:trend_ichimoku_b': 147.855,\n",
       " 'bitstamp:/LTC:trend_visual_ichimoku_a': 66.57547966024066,\n",
       " 'bitstamp:/LTC:trend_visual_ichimoku_b': 66.61236066051076,\n",
       " 'bitstamp:/LTC:trend_aroon_up': nan,\n",
       " 'bitstamp:/LTC:trend_aroon_down': nan,\n",
       " 'bitstamp:/LTC:trend_aroon_ind': nan,\n",
       " 'bitstamp:/LTC:trend_psar_up': nan,\n",
       " 'bitstamp:/LTC:trend_psar_down': nan,\n",
       " 'bitstamp:/LTC:trend_psar_up_indicator': 0.0,\n",
       " 'bitstamp:/LTC:trend_psar_down_indicator': 0.0,\n",
       " 'bitstamp:/LTC:trend_stc': nan,\n",
       " 'bitstamp:/LTC:momentum_rsi': nan,\n",
       " 'bitstamp:/LTC:momentum_stoch_rsi': nan,\n",
       " 'bitstamp:/LTC:momentum_stoch_rsi_k': nan,\n",
       " 'bitstamp:/LTC:momentum_stoch_rsi_d': nan,\n",
       " 'bitstamp:/LTC:momentum_tsi': nan,\n",
       " 'bitstamp:/LTC:momentum_uo': nan,\n",
       " 'bitstamp:/LTC:momentum_stoch': nan,\n",
       " 'bitstamp:/LTC:momentum_stoch_signal': nan,\n",
       " 'bitstamp:/LTC:momentum_wr': nan,\n",
       " 'bitstamp:/LTC:momentum_ao': nan,\n",
       " 'bitstamp:/LTC:momentum_kama': nan,\n",
       " 'bitstamp:/LTC:momentum_roc': nan,\n",
       " 'bitstamp:/LTC:momentum_ppo': nan,\n",
       " 'bitstamp:/LTC:momentum_ppo_signal': nan,\n",
       " 'bitstamp:/LTC:momentum_ppo_hist': nan,\n",
       " 'bitstamp:/LTC:others_dr': 120.5307208174994,\n",
       " 'bitstamp:/LTC:others_dlr': nan,\n",
       " 'bitstamp:/LTC:others_cr': 0.0}"
      ]
     },
     "execution_count": 5,
     "metadata": {},
     "output_type": "execute_result"
    }
   ],
   "source": [
    "feed.next()"
   ]
  },
  {
   "cell_type": "code",
   "execution_count": 6,
   "metadata": {},
   "outputs": [],
   "source": [
    "portfolio = Portfolio(USD, [\n",
    "    Wallet(bitfinex, 10000 * USD),\n",
    "    Wallet(bitfinex, 10 * BTC),\n",
    "    Wallet(bitfinex, 5 * ETH),\n",
    "    Wallet(bitstamp, 1000 * USD),\n",
    "    Wallet(bitstamp, 5 * BTC),\n",
    "    Wallet(bitstamp, 3 * LTC),\n",
    "])\n"
   ]
  },
  {
   "cell_type": "code",
   "execution_count": 7,
   "metadata": {},
   "outputs": [],
   "source": [
    "env = default.create(\n",
    "    portfolio=portfolio,\n",
    "    action_scheme=\"managed-risk\",\n",
    "    reward_scheme=\"simple\",\n",
    "    feed=feed,\n",
    "    window_size=15,\n",
    "    enable_logger=False\n",
    ")"
   ]
  },
  {
   "cell_type": "code",
   "execution_count": 8,
   "metadata": {},
   "outputs": [
    {
     "data": {
      "text/plain": [
       "{'internal': {'bitfinex:/USD-BTC': 8739.0,\n",
       "  'bitfinex:/USD-ETH': 733.04,\n",
       "  'bitfinex:/USD:/free': 10000.0,\n",
       "  'bitfinex:/USD:/locked': 0.0,\n",
       "  'bitfinex:/USD:/total': 10000.0,\n",
       "  'bitfinex:/BTC:/free': 10.0,\n",
       "  'bitfinex:/BTC:/locked': 0.0,\n",
       "  'bitfinex:/BTC:/total': 10.0,\n",
       "  'bitfinex:/BTC:/worth': 87390.0,\n",
       "  'bitfinex:/ETH:/free': 5.0,\n",
       "  'bitfinex:/ETH:/locked': 0.0,\n",
       "  'bitfinex:/ETH:/total': 5.0,\n",
       "  'bitfinex:/ETH:/worth': 3665.2,\n",
       "  'bitstamp:/USD-BTC': 8740.99,\n",
       "  'bitstamp:/USD-LTC': 147.2,\n",
       "  'bitstamp:/USD:/free': 1000.0,\n",
       "  'bitstamp:/USD:/locked': 0.0,\n",
       "  'bitstamp:/USD:/total': 1000.0,\n",
       "  'bitstamp:/BTC:/free': 5.0,\n",
       "  'bitstamp:/BTC:/locked': 0.0,\n",
       "  'bitstamp:/BTC:/total': 5.0,\n",
       "  'bitstamp:/BTC:/worth': 43704.95,\n",
       "  'bitstamp:/LTC:/free': 3.0,\n",
       "  'bitstamp:/LTC:/locked': 0.0,\n",
       "  'bitstamp:/LTC:/total': 3.0,\n",
       "  'bitstamp:/LTC:/worth': 441.59999999999997,\n",
       "  'net_worth': 146201.75},\n",
       " 'external': {'bitfinex:/BTC:date': Timestamp('2018-05-15 06:00:00'),\n",
       "  'bitfinex:/BTC:unix': 1526364000,\n",
       "  'bitfinex:/BTC:open': 8723.8,\n",
       "  'bitfinex:/BTC:high': 8793.0,\n",
       "  'bitfinex:/BTC:low': 8714.9,\n",
       "  'bitfinex:/BTC:close': 8739.0,\n",
       "  'bitfinex:/BTC:volume': 8988053.53,\n",
       "  'bitfinex:/BTC:volume_adi': -3441008.969871901,\n",
       "  'bitfinex:/BTC:volume_obv': 8988053.53,\n",
       "  'bitfinex:/BTC:volume_cmf': nan,\n",
       "  'bitfinex:/BTC:volume_fi': nan,\n",
       "  'bitfinex:/BTC:volume_mfi': nan,\n",
       "  'bitfinex:/BTC:volume_em': nan,\n",
       "  'bitfinex:/BTC:volume_sma_em': nan,\n",
       "  'bitfinex:/BTC:volume_vpt': -813501.9453160722,\n",
       "  'bitfinex:/BTC:volume_nvi': 1000.0,\n",
       "  'bitfinex:/BTC:volume_vwap': nan,\n",
       "  'bitfinex:/BTC:volatility_atr': 0.0,\n",
       "  'bitfinex:/BTC:volatility_bbm': nan,\n",
       "  'bitfinex:/BTC:volatility_bbh': nan,\n",
       "  'bitfinex:/BTC:volatility_bbl': nan,\n",
       "  'bitfinex:/BTC:volatility_bbw': nan,\n",
       "  'bitfinex:/BTC:volatility_bbp': nan,\n",
       "  'bitfinex:/BTC:volatility_bbhi': 0.0,\n",
       "  'bitfinex:/BTC:volatility_bbli': 0.0,\n",
       "  'bitfinex:/BTC:volatility_kcc': nan,\n",
       "  'bitfinex:/BTC:volatility_kch': 8827.066666666668,\n",
       "  'bitfinex:/BTC:volatility_kcl': 8670.866666666667,\n",
       "  'bitfinex:/BTC:volatility_kcw': nan,\n",
       "  'bitfinex:/BTC:volatility_kcp': 0.4361929150661517,\n",
       "  'bitfinex:/BTC:volatility_kchi': 0.0,\n",
       "  'bitfinex:/BTC:volatility_kcli': 0.0,\n",
       "  'bitfinex:/BTC:volatility_dcl': nan,\n",
       "  'bitfinex:/BTC:volatility_dch': nan,\n",
       "  'bitfinex:/BTC:volatility_dcm': nan,\n",
       "  'bitfinex:/BTC:volatility_dcw': nan,\n",
       "  'bitfinex:/BTC:volatility_dcp': nan,\n",
       "  'bitfinex:/BTC:volatility_ui': nan,\n",
       "  'bitfinex:/BTC:trend_macd': nan,\n",
       "  'bitfinex:/BTC:trend_macd_signal': nan,\n",
       "  'bitfinex:/BTC:trend_macd_diff': nan,\n",
       "  'bitfinex:/BTC:trend_sma_fast': nan,\n",
       "  'bitfinex:/BTC:trend_sma_slow': nan,\n",
       "  'bitfinex:/BTC:trend_ema_fast': nan,\n",
       "  'bitfinex:/BTC:trend_ema_slow': nan,\n",
       "  'bitfinex:/BTC:trend_adx': 0.0,\n",
       "  'bitfinex:/BTC:trend_adx_pos': 0.0,\n",
       "  'bitfinex:/BTC:trend_adx_neg': 0.0,\n",
       "  'bitfinex:/BTC:trend_vortex_ind_pos': nan,\n",
       "  'bitfinex:/BTC:trend_vortex_ind_neg': nan,\n",
       "  'bitfinex:/BTC:trend_vortex_ind_diff': nan,\n",
       "  'bitfinex:/BTC:trend_trix': nan,\n",
       "  'bitfinex:/BTC:trend_mass_index': nan,\n",
       "  'bitfinex:/BTC:trend_cci': nan,\n",
       "  'bitfinex:/BTC:trend_dpo': nan,\n",
       "  'bitfinex:/BTC:trend_kst': nan,\n",
       "  'bitfinex:/BTC:trend_kst_sig': nan,\n",
       "  'bitfinex:/BTC:trend_kst_diff': nan,\n",
       "  'bitfinex:/BTC:trend_ichimoku_conv': nan,\n",
       "  'bitfinex:/BTC:trend_ichimoku_base': nan,\n",
       "  'bitfinex:/BTC:trend_ichimoku_a': nan,\n",
       "  'bitfinex:/BTC:trend_ichimoku_b': 8753.95,\n",
       "  'bitfinex:/BTC:trend_visual_ichimoku_a': 9583.891647917546,\n",
       "  'bitfinex:/BTC:trend_visual_ichimoku_b': 9558.217037319355,\n",
       "  'bitfinex:/BTC:trend_aroon_up': nan,\n",
       "  'bitfinex:/BTC:trend_aroon_down': nan,\n",
       "  'bitfinex:/BTC:trend_aroon_ind': nan,\n",
       "  'bitfinex:/BTC:trend_psar_up': nan,\n",
       "  'bitfinex:/BTC:trend_psar_down': nan,\n",
       "  'bitfinex:/BTC:trend_psar_up_indicator': 0.0,\n",
       "  'bitfinex:/BTC:trend_psar_down_indicator': 0.0,\n",
       "  'bitfinex:/BTC:trend_stc': nan,\n",
       "  'bitfinex:/BTC:momentum_rsi': nan,\n",
       "  'bitfinex:/BTC:momentum_stoch_rsi': nan,\n",
       "  'bitfinex:/BTC:momentum_stoch_rsi_k': nan,\n",
       "  'bitfinex:/BTC:momentum_stoch_rsi_d': nan,\n",
       "  'bitfinex:/BTC:momentum_tsi': nan,\n",
       "  'bitfinex:/BTC:momentum_uo': nan,\n",
       "  'bitfinex:/BTC:momentum_stoch': nan,\n",
       "  'bitfinex:/BTC:momentum_stoch_signal': nan,\n",
       "  'bitfinex:/BTC:momentum_wr': nan,\n",
       "  'bitfinex:/BTC:momentum_ao': nan,\n",
       "  'bitfinex:/BTC:momentum_kama': nan,\n",
       "  'bitfinex:/BTC:momentum_roc': nan,\n",
       "  'bitfinex:/BTC:momentum_ppo': nan,\n",
       "  'bitfinex:/BTC:momentum_ppo_signal': nan,\n",
       "  'bitfinex:/BTC:momentum_ppo_hist': nan,\n",
       "  'bitfinex:/BTC:others_dr': -9.027754035557301,\n",
       "  'bitfinex:/BTC:others_dlr': nan,\n",
       "  'bitfinex:/BTC:others_cr': 0.0,\n",
       "  'bitfinex:/ETH:date': Timestamp('2018-05-15 06:00:00'),\n",
       "  'bitfinex:/ETH:unix': 1526364000,\n",
       "  'bitfinex:/ETH:open': 733.12,\n",
       "  'bitfinex:/ETH:high': 736.48,\n",
       "  'bitfinex:/ETH:low': 731.19,\n",
       "  'bitfinex:/ETH:close': 733.04,\n",
       "  'bitfinex:/ETH:volume': 4246576.84,\n",
       "  'bitstamp:/BTC:date': Timestamp('2018-05-15 06:00:00'),\n",
       "  'bitstamp:/BTC:unix': 1526364000,\n",
       "  'bitstamp:/BTC:open': 8733.86,\n",
       "  'bitstamp:/BTC:high': 8796.68,\n",
       "  'bitstamp:/BTC:low': 8707.28,\n",
       "  'bitstamp:/BTC:close': 8740.99,\n",
       "  'bitstamp:/BTC:volume': 559.93,\n",
       "  'bitstamp:/LTC:date': Timestamp('2018-05-15 06:00:00'),\n",
       "  'bitstamp:/LTC:unix': 1526364000,\n",
       "  'bitstamp:/LTC:open': 147.2,\n",
       "  'bitstamp:/LTC:high': 148.7,\n",
       "  'bitstamp:/LTC:low': 147.01,\n",
       "  'bitstamp:/LTC:close': 147.2,\n",
       "  'bitstamp:/LTC:volume': 1907.28,\n",
       "  'bitstamp:/LTC:volume_adi': -1478.424142011839,\n",
       "  'bitstamp:/LTC:volume_obv': 1907.28,\n",
       "  'bitstamp:/LTC:volume_cmf': nan,\n",
       "  'bitstamp:/LTC:volume_fi': nan,\n",
       "  'bitstamp:/LTC:volume_mfi': nan,\n",
       "  'bitstamp:/LTC:volume_em': nan,\n",
       "  'bitstamp:/LTC:volume_sma_em': nan,\n",
       "  'bitstamp:/LTC:volume_vpt': 2332.2077376984134,\n",
       "  'bitstamp:/LTC:volume_nvi': 1000.0,\n",
       "  'bitstamp:/LTC:volume_vwap': nan,\n",
       "  'bitstamp:/LTC:volatility_atr': 0.0,\n",
       "  'bitstamp:/LTC:volatility_bbm': nan,\n",
       "  'bitstamp:/LTC:volatility_bbh': nan,\n",
       "  'bitstamp:/LTC:volatility_bbl': nan,\n",
       "  'bitstamp:/LTC:volatility_bbw': nan,\n",
       "  'bitstamp:/LTC:volatility_bbp': nan,\n",
       "  'bitstamp:/LTC:volatility_bbhi': 0.0,\n",
       "  'bitstamp:/LTC:volatility_bbli': 0.0,\n",
       "  'bitstamp:/LTC:volatility_kcc': nan,\n",
       "  'bitstamp:/LTC:volatility_kch': 149.32666666666665,\n",
       "  'bitstamp:/LTC:volatility_kcl': 145.94666666666666,\n",
       "  'bitstamp:/LTC:volatility_kcw': nan,\n",
       "  'bitstamp:/LTC:volatility_kcp': 0.3708086785009858,\n",
       "  'bitstamp:/LTC:volatility_kchi': 0.0,\n",
       "  'bitstamp:/LTC:volatility_kcli': 0.0,\n",
       "  'bitstamp:/LTC:volatility_dcl': nan,\n",
       "  'bitstamp:/LTC:volatility_dch': nan,\n",
       "  'bitstamp:/LTC:volatility_dcm': nan,\n",
       "  'bitstamp:/LTC:volatility_dcw': nan,\n",
       "  'bitstamp:/LTC:volatility_dcp': nan,\n",
       "  'bitstamp:/LTC:volatility_ui': nan,\n",
       "  'bitstamp:/LTC:trend_macd': nan,\n",
       "  'bitstamp:/LTC:trend_macd_signal': nan,\n",
       "  'bitstamp:/LTC:trend_macd_diff': nan,\n",
       "  'bitstamp:/LTC:trend_sma_fast': nan,\n",
       "  'bitstamp:/LTC:trend_sma_slow': nan,\n",
       "  'bitstamp:/LTC:trend_ema_fast': nan,\n",
       "  'bitstamp:/LTC:trend_ema_slow': nan,\n",
       "  'bitstamp:/LTC:trend_adx': 0.0,\n",
       "  'bitstamp:/LTC:trend_adx_pos': 0.0,\n",
       "  'bitstamp:/LTC:trend_adx_neg': 0.0,\n",
       "  'bitstamp:/LTC:trend_vortex_ind_pos': nan,\n",
       "  'bitstamp:/LTC:trend_vortex_ind_neg': nan,\n",
       "  'bitstamp:/LTC:trend_vortex_ind_diff': nan,\n",
       "  'bitstamp:/LTC:trend_trix': nan,\n",
       "  'bitstamp:/LTC:trend_mass_index': nan,\n",
       "  'bitstamp:/LTC:trend_cci': nan,\n",
       "  'bitstamp:/LTC:trend_dpo': nan,\n",
       "  'bitstamp:/LTC:trend_kst': nan,\n",
       "  'bitstamp:/LTC:trend_kst_sig': nan,\n",
       "  'bitstamp:/LTC:trend_kst_diff': nan,\n",
       "  'bitstamp:/LTC:trend_ichimoku_conv': nan,\n",
       "  'bitstamp:/LTC:trend_ichimoku_base': nan,\n",
       "  'bitstamp:/LTC:trend_ichimoku_a': nan,\n",
       "  'bitstamp:/LTC:trend_ichimoku_b': 147.855,\n",
       "  'bitstamp:/LTC:trend_visual_ichimoku_a': 66.57547966024066,\n",
       "  'bitstamp:/LTC:trend_visual_ichimoku_b': 66.61236066051076,\n",
       "  'bitstamp:/LTC:trend_aroon_up': nan,\n",
       "  'bitstamp:/LTC:trend_aroon_down': nan,\n",
       "  'bitstamp:/LTC:trend_aroon_ind': nan,\n",
       "  'bitstamp:/LTC:trend_psar_up': nan,\n",
       "  'bitstamp:/LTC:trend_psar_down': nan,\n",
       "  'bitstamp:/LTC:trend_psar_up_indicator': 0.0,\n",
       "  'bitstamp:/LTC:trend_psar_down_indicator': 0.0,\n",
       "  'bitstamp:/LTC:trend_stc': nan,\n",
       "  'bitstamp:/LTC:momentum_rsi': nan,\n",
       "  'bitstamp:/LTC:momentum_stoch_rsi': nan,\n",
       "  'bitstamp:/LTC:momentum_stoch_rsi_k': nan,\n",
       "  'bitstamp:/LTC:momentum_stoch_rsi_d': nan,\n",
       "  'bitstamp:/LTC:momentum_tsi': nan,\n",
       "  'bitstamp:/LTC:momentum_uo': nan,\n",
       "  'bitstamp:/LTC:momentum_stoch': nan,\n",
       "  'bitstamp:/LTC:momentum_stoch_signal': nan,\n",
       "  'bitstamp:/LTC:momentum_wr': nan,\n",
       "  'bitstamp:/LTC:momentum_ao': nan,\n",
       "  'bitstamp:/LTC:momentum_kama': nan,\n",
       "  'bitstamp:/LTC:momentum_roc': nan,\n",
       "  'bitstamp:/LTC:momentum_ppo': nan,\n",
       "  'bitstamp:/LTC:momentum_ppo_signal': nan,\n",
       "  'bitstamp:/LTC:momentum_ppo_hist': nan,\n",
       "  'bitstamp:/LTC:others_dr': 120.5307208174994,\n",
       "  'bitstamp:/LTC:others_dlr': nan,\n",
       "  'bitstamp:/LTC:others_cr': 0.0}}"
      ]
     },
     "execution_count": 8,
     "metadata": {},
     "output_type": "execute_result"
    }
   ],
   "source": [
    "env.observer.feed.next()\n",
    "\n"
   ]
  },
  {
   "cell_type": "code",
   "execution_count": 9,
   "metadata": {},
   "outputs": [
    {
     "name": "stdout",
     "output_type": "stream",
     "text": [
      "Collecting git+https://github.com/tensortrade-org/tensortrade.git\n",
      "  Cloning https://github.com/tensortrade-org/tensortrade.git to /tmp/pip-req-build-rti5vdv8\n",
      "  Running command git clone -q https://github.com/tensortrade-org/tensortrade.git /tmp/pip-req-build-rti5vdv8\n",
      "Requirement already satisfied (use --upgrade to upgrade): tensortrade==1.0.2.dev0 from git+https://github.com/tensortrade-org/tensortrade.git in /usr/local/lib/python3.8/dist-packages/tensortrade-1.0.2.dev0-py3.8.egg\n",
      "Requirement already satisfied: gym>=0.14.0 in /usr/local/lib/python3.8/dist-packages/gym-0.18.0-py3.8.egg (from tensortrade==1.0.2.dev0) (0.18.0)\n",
      "Requirement already satisfied: ipython>=7.12.0 in /home/klemen/.local/lib/python3.8/site-packages (from tensortrade==1.0.2.dev0) (7.19.0)\n",
      "Requirement already satisfied: matplotlib>=3.1.1 in /home/klemen/.local/lib/python3.8/site-packages (from tensortrade==1.0.2.dev0) (3.3.3)\n",
      "Requirement already satisfied: numpy>=1.17.0 in /home/klemen/.local/lib/python3.8/site-packages (from tensortrade==1.0.2.dev0) (1.19.4)\n",
      "Requirement already satisfied: pandas>=0.25.0 in /home/klemen/.local/lib/python3.8/site-packages (from tensortrade==1.0.2.dev0) (1.2.0)\n",
      "Requirement already satisfied: plotly>=4.5.0 in /home/klemen/.local/lib/python3.8/site-packages (from tensortrade==1.0.2.dev0) (4.14.1)\n",
      "Requirement already satisfied: pyyaml>=5.1.2 in /usr/lib/python3/dist-packages (from tensortrade==1.0.2.dev0) (5.3.1)\n",
      "Requirement already satisfied: stochastic>=0.6.0 in /usr/local/lib/python3.8/dist-packages/stochastic-0.6.0-py3.8.egg (from tensortrade==1.0.2.dev0) (0.6.0)\n",
      "Requirement already satisfied: tensorflow>=2.1.0 in /home/klemen/.local/lib/python3.8/site-packages (from tensortrade==1.0.2.dev0) (2.4.0)\n",
      "Requirement already satisfied: Pillow<=7.2.0 in /usr/lib/python3/dist-packages (from gym>=0.14.0->tensortrade==1.0.2.dev0) (7.0.0)\n",
      "Requirement already satisfied: cloudpickle<1.7.0,>=1.2.0 in /usr/local/lib/python3.8/dist-packages/cloudpickle-1.6.0-py3.8.egg (from gym>=0.14.0->tensortrade==1.0.2.dev0) (1.6.0)\n",
      "Requirement already satisfied: pyglet<=1.5.0,>=1.4.0 in /usr/local/lib/python3.8/dist-packages/pyglet-1.5.0-py3.8.egg (from gym>=0.14.0->tensortrade==1.0.2.dev0) (1.5.0)\n",
      "Requirement already satisfied: scipy in /home/klemen/.local/lib/python3.8/site-packages (from gym>=0.14.0->tensortrade==1.0.2.dev0) (1.5.4)\n",
      "Requirement already satisfied: prompt-toolkit!=3.0.0,!=3.0.1,<3.1.0,>=2.0.0 in /home/klemen/.local/lib/python3.8/site-packages (from ipython>=7.12.0->tensortrade==1.0.2.dev0) (3.0.8)\n",
      "Requirement already satisfied: traitlets>=4.2 in /home/klemen/.local/lib/python3.8/site-packages (from ipython>=7.12.0->tensortrade==1.0.2.dev0) (5.0.5)\n",
      "Requirement already satisfied: backcall in /home/klemen/.local/lib/python3.8/site-packages (from ipython>=7.12.0->tensortrade==1.0.2.dev0) (0.2.0)\n",
      "Requirement already satisfied: jedi>=0.10 in /home/klemen/.local/lib/python3.8/site-packages (from ipython>=7.12.0->tensortrade==1.0.2.dev0) (0.18.0)\n",
      "Requirement already satisfied: pexpect>4.3; sys_platform != \"win32\" in /usr/lib/python3/dist-packages (from ipython>=7.12.0->tensortrade==1.0.2.dev0) (4.6.0)\n",
      "Requirement already satisfied: setuptools>=18.5 in /usr/lib/python3/dist-packages (from ipython>=7.12.0->tensortrade==1.0.2.dev0) (45.2.0)\n",
      "Requirement already satisfied: pygments in /home/klemen/.local/lib/python3.8/site-packages (from ipython>=7.12.0->tensortrade==1.0.2.dev0) (2.7.3)\n",
      "Requirement already satisfied: pickleshare in /home/klemen/.local/lib/python3.8/site-packages (from ipython>=7.12.0->tensortrade==1.0.2.dev0) (0.7.5)\n",
      "Requirement already satisfied: decorator in /home/klemen/.local/lib/python3.8/site-packages (from ipython>=7.12.0->tensortrade==1.0.2.dev0) (4.4.2)\n",
      "Requirement already satisfied: pyparsing!=2.0.4,!=2.1.2,!=2.1.6,>=2.0.3 in /home/klemen/.local/lib/python3.8/site-packages (from matplotlib>=3.1.1->tensortrade==1.0.2.dev0) (2.4.7)\n",
      "Requirement already satisfied: kiwisolver>=1.0.1 in /home/klemen/.local/lib/python3.8/site-packages (from matplotlib>=3.1.1->tensortrade==1.0.2.dev0) (1.3.1)\n",
      "Requirement already satisfied: python-dateutil>=2.1 in /usr/lib/python3/dist-packages (from matplotlib>=3.1.1->tensortrade==1.0.2.dev0) (2.7.3)\n",
      "Requirement already satisfied: cycler>=0.10 in /home/klemen/.local/lib/python3.8/site-packages (from matplotlib>=3.1.1->tensortrade==1.0.2.dev0) (0.10.0)\n",
      "Requirement already satisfied: pytz>=2017.3 in /usr/lib/python3/dist-packages (from pandas>=0.25.0->tensortrade==1.0.2.dev0) (2019.3)\n",
      "Requirement already satisfied: six in /home/klemen/.local/lib/python3.8/site-packages (from plotly>=4.5.0->tensortrade==1.0.2.dev0) (1.15.0)\n",
      "Requirement already satisfied: retrying>=1.3.3 in /home/klemen/.local/lib/python3.8/site-packages (from plotly>=4.5.0->tensortrade==1.0.2.dev0) (1.3.3)\n",
      "Requirement already satisfied: tensorboard~=2.4 in /home/klemen/.local/lib/python3.8/site-packages (from tensorflow>=2.1.0->tensortrade==1.0.2.dev0) (2.4.0)\n",
      "Requirement already satisfied: keras-preprocessing~=1.1.2 in /home/klemen/.local/lib/python3.8/site-packages (from tensorflow>=2.1.0->tensortrade==1.0.2.dev0) (1.1.2)\n",
      "Requirement already satisfied: protobuf>=3.9.2 in /home/klemen/.local/lib/python3.8/site-packages (from tensorflow>=2.1.0->tensortrade==1.0.2.dev0) (3.14.0)\n",
      "Requirement already satisfied: gast==0.3.3 in /home/klemen/.local/lib/python3.8/site-packages (from tensorflow>=2.1.0->tensortrade==1.0.2.dev0) (0.3.3)\n",
      "Requirement already satisfied: grpcio~=1.32.0 in /home/klemen/.local/lib/python3.8/site-packages (from tensorflow>=2.1.0->tensortrade==1.0.2.dev0) (1.32.0)\n",
      "Requirement already satisfied: opt-einsum~=3.3.0 in /home/klemen/.local/lib/python3.8/site-packages (from tensorflow>=2.1.0->tensortrade==1.0.2.dev0) (3.3.0)\n",
      "Requirement already satisfied: wrapt~=1.12.1 in /home/klemen/.local/lib/python3.8/site-packages (from tensorflow>=2.1.0->tensortrade==1.0.2.dev0) (1.12.1)\n",
      "Requirement already satisfied: tensorflow-estimator<2.5.0,>=2.4.0rc0 in /home/klemen/.local/lib/python3.8/site-packages (from tensorflow>=2.1.0->tensortrade==1.0.2.dev0) (2.4.0)\n",
      "Requirement already satisfied: h5py~=2.10.0 in /home/klemen/.local/lib/python3.8/site-packages (from tensorflow>=2.1.0->tensortrade==1.0.2.dev0) (2.10.0)\n",
      "Requirement already satisfied: flatbuffers~=1.12.0 in /home/klemen/.local/lib/python3.8/site-packages (from tensorflow>=2.1.0->tensortrade==1.0.2.dev0) (1.12)\n",
      "Requirement already satisfied: absl-py~=0.10 in /home/klemen/.local/lib/python3.8/site-packages (from tensorflow>=2.1.0->tensortrade==1.0.2.dev0) (0.11.0)\n",
      "Requirement already satisfied: google-pasta~=0.2 in /home/klemen/.local/lib/python3.8/site-packages (from tensorflow>=2.1.0->tensortrade==1.0.2.dev0) (0.2.0)\n",
      "Requirement already satisfied: astunparse~=1.6.3 in /home/klemen/.local/lib/python3.8/site-packages (from tensorflow>=2.1.0->tensortrade==1.0.2.dev0) (1.6.3)\n",
      "Requirement already satisfied: termcolor~=1.1.0 in /home/klemen/.local/lib/python3.8/site-packages (from tensorflow>=2.1.0->tensortrade==1.0.2.dev0) (1.1.0)\n",
      "Requirement already satisfied: typing-extensions~=3.7.4 in /home/klemen/.local/lib/python3.8/site-packages (from tensorflow>=2.1.0->tensortrade==1.0.2.dev0) (3.7.4.3)\n",
      "Requirement already satisfied: wheel~=0.35 in /home/klemen/.local/lib/python3.8/site-packages (from tensorflow>=2.1.0->tensortrade==1.0.2.dev0) (0.36.2)\n",
      "Requirement already satisfied: future in /usr/lib/python3/dist-packages (from pyglet<=1.5.0,>=1.4.0->gym>=0.14.0->tensortrade==1.0.2.dev0) (0.18.2)\n",
      "Requirement already satisfied: wcwidth in /home/klemen/.local/lib/python3.8/site-packages (from prompt-toolkit!=3.0.0,!=3.0.1,<3.1.0,>=2.0.0->ipython>=7.12.0->tensortrade==1.0.2.dev0) (0.2.5)\n",
      "Requirement already satisfied: ipython-genutils in /home/klemen/.local/lib/python3.8/site-packages (from traitlets>=4.2->ipython>=7.12.0->tensortrade==1.0.2.dev0) (0.2.0)\n",
      "Requirement already satisfied: parso<0.9.0,>=0.8.0 in /home/klemen/.local/lib/python3.8/site-packages (from jedi>=0.10->ipython>=7.12.0->tensortrade==1.0.2.dev0) (0.8.1)\n",
      "Requirement already satisfied: tensorboard-plugin-wit>=1.6.0 in /home/klemen/.local/lib/python3.8/site-packages (from tensorboard~=2.4->tensorflow>=2.1.0->tensortrade==1.0.2.dev0) (1.7.0)\n",
      "Requirement already satisfied: werkzeug>=0.11.15 in /home/klemen/.local/lib/python3.8/site-packages (from tensorboard~=2.4->tensorflow>=2.1.0->tensortrade==1.0.2.dev0) (1.0.1)\n"
     ]
    },
    {
     "name": "stdout",
     "output_type": "stream",
     "text": [
      "Requirement already satisfied: requests<3,>=2.21.0 in /usr/lib/python3/dist-packages (from tensorboard~=2.4->tensorflow>=2.1.0->tensortrade==1.0.2.dev0) (2.22.0)\n",
      "Requirement already satisfied: markdown>=2.6.8 in /home/klemen/.local/lib/python3.8/site-packages (from tensorboard~=2.4->tensorflow>=2.1.0->tensortrade==1.0.2.dev0) (3.3.3)\n",
      "Requirement already satisfied: google-auth-oauthlib<0.5,>=0.4.1 in /home/klemen/.local/lib/python3.8/site-packages (from tensorboard~=2.4->tensorflow>=2.1.0->tensortrade==1.0.2.dev0) (0.4.2)\n",
      "Requirement already satisfied: google-auth<2,>=1.6.3 in /home/klemen/.local/lib/python3.8/site-packages (from tensorboard~=2.4->tensorflow>=2.1.0->tensortrade==1.0.2.dev0) (1.24.0)\n",
      "Requirement already satisfied: requests-oauthlib>=0.7.0 in /home/klemen/.local/lib/python3.8/site-packages (from google-auth-oauthlib<0.5,>=0.4.1->tensorboard~=2.4->tensorflow>=2.1.0->tensortrade==1.0.2.dev0) (1.3.0)\n",
      "Requirement already satisfied: cachetools<5.0,>=2.0.0 in /home/klemen/.local/lib/python3.8/site-packages (from google-auth<2,>=1.6.3->tensorboard~=2.4->tensorflow>=2.1.0->tensortrade==1.0.2.dev0) (4.2.0)\n",
      "Requirement already satisfied: rsa<5,>=3.1.4; python_version >= \"3.6\" in /home/klemen/.local/lib/python3.8/site-packages (from google-auth<2,>=1.6.3->tensorboard~=2.4->tensorflow>=2.1.0->tensortrade==1.0.2.dev0) (4.6)\n",
      "Requirement already satisfied: pyasn1-modules>=0.2.1 in /home/klemen/.local/lib/python3.8/site-packages (from google-auth<2,>=1.6.3->tensorboard~=2.4->tensorflow>=2.1.0->tensortrade==1.0.2.dev0) (0.2.8)\n",
      "Requirement already satisfied: oauthlib>=3.0.0 in /usr/lib/python3/dist-packages (from requests-oauthlib>=0.7.0->google-auth-oauthlib<0.5,>=0.4.1->tensorboard~=2.4->tensorflow>=2.1.0->tensortrade==1.0.2.dev0) (3.1.0)\n",
      "Requirement already satisfied: pyasn1>=0.1.3 in /home/klemen/.local/lib/python3.8/site-packages (from rsa<5,>=3.1.4; python_version >= \"3.6\"->google-auth<2,>=1.6.3->tensorboard~=2.4->tensorflow>=2.1.0->tensortrade==1.0.2.dev0) (0.4.8)\n",
      "Building wheels for collected packages: tensortrade\n",
      "  Building wheel for tensortrade (setup.py) ... \u001b[?25ldone\n",
      "\u001b[?25h  Created wheel for tensortrade: filename=tensortrade-1.0.2.dev0-py3-none-any.whl size=133825 sha256=3169d53d40b31ccc804df18235dab4f3240b9b48b9355e7960236d80ff12bb18\n",
      "  Stored in directory: /tmp/pip-ephem-wheel-cache-80mo5z08/wheels/56/40/cd/062610cd30890c4d916f4d2141799782cfe27a6357233016f4\n",
      "Successfully built tensortrade\n"
     ]
    }
   ],
   "source": [
    "!python3 -m pip install git+https://github.com/tensortrade-org/tensortrade.git"
   ]
  },
  {
   "cell_type": "code",
   "execution_count": 10,
   "metadata": {},
   "outputs": [],
   "source": [
    "import pandas as pd\n",
    "import tensortrade.env.default as default\n",
    "\n",
    "from tensortrade.data.cdd import CryptoDataDownload\n",
    "from tensortrade.feed.core import Stream, DataFeed\n",
    "from tensortrade.oms.exchanges import Exchange\n",
    "from tensortrade.oms.services.execution.simulated import execute_order\n",
    "from tensortrade.oms.instruments import USD, BTC, ETH\n",
    "from tensortrade.oms.wallets import Wallet, Portfolio\n",
    "from tensortrade.agents import DQNAgent"
   ]
  },
  {
   "cell_type": "code",
   "execution_count": 11,
   "metadata": {},
   "outputs": [],
   "source": [
    "%matplotlib inline"
   ]
  },
  {
   "cell_type": "code",
   "execution_count": 12,
   "metadata": {},
   "outputs": [],
   "source": [
    "cdd = CryptoDataDownload()\n",
    "\n",
    "data = cdd.fetch(\"Bitfinex\", \"USD\", \"BTC\", \"1h\")"
   ]
  },
  {
   "cell_type": "code",
   "execution_count": 13,
   "metadata": {},
   "outputs": [],
   "source": [
    "def rsi(price: Stream[float], period: float) -> Stream[float]:\n",
    "    r = price.diff()\n",
    "    upside = r.clamp_min(0).abs()\n",
    "    downside = r.clamp_max(0).abs()\n",
    "    rs = upside.ewm(alpha=1 / period).mean() / downside.ewm(alpha=1 / period).mean()\n",
    "    return 100*(1 - (1 + rs) ** -1)\n",
    "\n",
    "\n",
    "def macd(price: Stream[float], fast: float, slow: float, signal: float) -> Stream[float]:\n",
    "    fm = price.ewm(span=fast, adjust=False).mean()\n",
    "    sm = price.ewm(span=slow, adjust=False).mean()\n",
    "    md = fm - sm\n",
    "    signal = md - md.ewm(span=signal, adjust=False).mean()\n",
    "    return signal\n",
    "\n",
    "\n",
    "features = []\n",
    "for c in data.columns[1:]:\n",
    "    s = Stream.source(list(data[c]), dtype=\"float\").rename(data[c].name)\n",
    "    features += [s]\n",
    "\n",
    "cp = Stream.select(features, lambda s: s.name == \"close\")\n",
    "\n",
    "features = [\n",
    "    cp.log().diff().rename(\"lr\"),\n",
    "    rsi(cp, period=20).rename(\"rsi\"),\n",
    "    macd(cp, fast=10, slow=50, signal=5).rename(\"macd\")\n",
    "]\n",
    "\n",
    "feed = DataFeed(features)\n",
    "feed.compile()"
   ]
  },
  {
   "cell_type": "code",
   "execution_count": 14,
   "metadata": {},
   "outputs": [
    {
     "name": "stdout",
     "output_type": "stream",
     "text": [
      "{'lr': nan, 'rsi': nan, 'macd': 0.0}\n",
      "{'lr': 0.00045761355334761333, 'rsi': 100.0, 'macd': 0.3802733214494462}\n",
      "{'lr': -0.0022099203461092287, 'rsi': 16.45021645021696, 'macd': -1.2850831900864756}\n",
      "{'lr': -0.001789832853125617, 'rsi': 9.61512851245181, 'macd': -3.5410157838872425}\n",
      "{'lr': 0.00872379407148216, 'rsi': 71.2075575333076, 'macd': 2.810321575123835}\n"
     ]
    },
    {
     "name": "stderr",
     "output_type": "stream",
     "text": [
      "/usr/local/lib/python3.8/dist-packages/tensortrade-1.0.2.dev0-py3.8.egg/tensortrade/feed/core/operators.py:171: RuntimeWarning: divide by zero encountered in true_divide\n",
      "  return self.op(self.inputs[0].value, self.inputs[1].value)\n"
     ]
    }
   ],
   "source": [
    "for i in range(5):\n",
    "    print(feed.next())"
   ]
  },
  {
   "cell_type": "code",
   "execution_count": 15,
   "metadata": {},
   "outputs": [],
   "source": [
    "bitfinex = Exchange(\"bitfinex\", service=execute_order)(\n",
    "    Stream.source(list(data[\"close\"]), dtype=\"float\").rename(\"USD-BTC\")\n",
    ")\n",
    "\n",
    "portfolio = Portfolio(USD, [\n",
    "    Wallet(bitfinex, 10000 * USD),\n",
    "    Wallet(bitfinex, 10 * BTC)\n",
    "])\n",
    "\n",
    "\n",
    "renderer_feed = DataFeed([\n",
    "    Stream.source(list(data[\"date\"])).rename(\"date\"),\n",
    "    Stream.source(list(data[\"open\"]), dtype=\"float\").rename(\"open\"),\n",
    "    Stream.source(list(data[\"high\"]), dtype=\"float\").rename(\"high\"),\n",
    "    Stream.source(list(data[\"low\"]), dtype=\"float\").rename(\"low\"),\n",
    "    Stream.source(list(data[\"close\"]), dtype=\"float\").rename(\"close\"),\n",
    "    Stream.source(list(data[\"volume\"]), dtype=\"float\").rename(\"volume\")\n",
    "])\n",
    "\n",
    "\n",
    "env = default.create(\n",
    "    portfolio=portfolio,\n",
    "    action_scheme=\"managed-risk\",\n",
    "    reward_scheme=\"risk-adjusted\",\n",
    "    feed=feed,\n",
    "    renderer_feed=renderer_feed,\n",
    "    renderer=default.renderers.PlotlyTradingChart(),\n",
    "    window_size=20\n",
    ")"
   ]
  },
  {
   "cell_type": "code",
   "execution_count": 16,
   "metadata": {},
   "outputs": [
    {
     "data": {
      "text/plain": [
       "{'internal': {'bitfinex:/USD-BTC': 8739.0,\n",
       "  'bitfinex:/USD:/free': 10000.0,\n",
       "  'bitfinex:/USD:/locked': 0.0,\n",
       "  'bitfinex:/USD:/total': 10000.0,\n",
       "  'bitfinex:/BTC:/free': 10.0,\n",
       "  'bitfinex:/BTC:/locked': 0.0,\n",
       "  'bitfinex:/BTC:/total': 10.0,\n",
       "  'bitfinex:/BTC:/worth': 87390.0,\n",
       "  'net_worth': 97390.0},\n",
       " 'external': {'lr': nan, 'rsi': nan, 'macd': 0.0},\n",
       " 'renderer': {'date': Timestamp('2018-05-15 06:00:00'),\n",
       "  'open': 8723.8,\n",
       "  'high': 8793.0,\n",
       "  'low': 8714.9,\n",
       "  'close': 8739.0,\n",
       "  'volume': 8988053.53}}"
      ]
     },
     "execution_count": 16,
     "metadata": {},
     "output_type": "execute_result"
    }
   ],
   "source": [
    "env.observer.feed.next()\n"
   ]
  },
  {
   "cell_type": "code",
   "execution_count": 19,
   "metadata": {},
   "outputs": [
    {
     "data": {
      "application/vnd.jupyter.widget-view+json": {
       "model_id": "8064246932534587a59ed6f71a603ecb",
       "version_major": 2,
       "version_minor": 0
      },
      "text/plain": [
       "FigureWidget({\n",
       "    'data': [{'close': array([8739. , 8743. , 8723.7, ..., 7905.9, 7897.3, 7877.4]),\n",
       "          …"
      ]
     },
     "metadata": {},
     "output_type": "display_data"
    },
    {
     "data": {
      "application/vnd.plotly.v1+json": {
       "config": {
        "plotlyServerURL": "https://plot.ly"
       },
       "data": [
        {
         "close": [
          8739,
          8743,
          8723.7,
          8708.1,
          8784.4,
          8755.2,
          8762,
          8742.6,
          8512,
          8520.8,
          8532.1,
          8553.8,
          8516.5,
          8551.2,
          8516.7,
          8476,
          8459.9,
          8467.5,
          8454.2,
          8327.9,
          8124.4,
          8152,
          8205.3,
          8197.7,
          8223.9,
          8221.1,
          8194.2,
          8225.1,
          8357.2,
          8358.5,
          8348.6,
          8158.1,
          8205.9,
          8276,
          8255.2,
          8286.4,
          8266.2,
          8227.4,
          8290,
          8271.9,
          8278.1,
          8336.1,
          8346.07,
          8368.7,
          8373.5,
          8355,
          8319.5,
          8352.2,
          8337.8,
          8246.7,
          8270.1
         ],
         "high": [
          8793,
          8754.8,
          8743.1,
          8737.8,
          8855.7,
          8804.9,
          8789.1,
          8798.1,
          8742.7,
          8544,
          8580,
          8578.4,
          8553.8,
          8560.5,
          8558,
          8540.9,
          8552,
          8498.4,
          8492.7,
          8462.1,
          8328.7,
          8217,
          8236.87,
          8221.3,
          8270.8,
          8241.4,
          8241.9,
          8258.5,
          8420,
          8426.3,
          8380,
          8372.8,
          8212,
          8370.2,
          8318.5,
          8349.3,
          8328,
          8375,
          8290.8,
          8314,
          8366.9,
          8357.3,
          8396.8,
          8376.1,
          8394,
          8482.2,
          8373.5,
          8374.8,
          8364.3,
          8345.7,
          8280.6
         ],
         "low": [
          8714.9,
          8719.3,
          8653.2,
          8701.2,
          8695.8,
          8734.8,
          8743,
          8633,
          8480.2,
          8472.5,
          8485.7,
          8499,
          8438.1,
          8436.8,
          8479.3,
          8476,
          8415,
          8451,
          8420,
          8282,
          8100,
          8124.4,
          8152,
          8152,
          8156.1,
          8197.33,
          8177.4,
          8194.2,
          8225.1,
          8356.8,
          8342.2,
          8121.7,
          8158.07,
          8205.8,
          8192.6,
          8240.9,
          8266.1,
          8227.01,
          8222,
          8252.2,
          8271.9,
          8274,
          8319.2,
          8311.3,
          8354.9,
          8320.9,
          8316.4,
          8274.2,
          8333.1,
          8190.4,
          8202.5
         ],
         "name": "Price",
         "open": [
          8723.8,
          8739,
          8743,
          8723.7,
          8708.1,
          8784.4,
          8755.2,
          8762,
          8742.6,
          8512,
          8520.8,
          8532.1,
          8553.8,
          8516.5,
          8551.2,
          8516.7,
          8476,
          8459.9,
          8467.5,
          8454.2,
          8327.9,
          8124.4,
          8152,
          8205.3,
          8197.7,
          8223.9,
          8221.1,
          8194.2,
          8225.1,
          8357.2,
          8358.5,
          8348.6,
          8158.1,
          8205.9,
          8276,
          8255.2,
          8286.4,
          8266.2,
          8227.4,
          8290,
          8271.9,
          8278.1,
          8336.1,
          8346.07,
          8368.7,
          8373.5,
          8355,
          8319.5,
          8352.2,
          8337.8,
          8246.7
         ],
         "showlegend": false,
         "type": "candlestick",
         "uid": "be5690eb-1fb1-447f-bbe2-c87085671b48",
         "xaxis": "x",
         "yaxis": "y"
        },
        {
         "marker": {
          "color": "DodgerBlue"
         },
         "name": "Volume",
         "showlegend": false,
         "type": "bar",
         "uid": "5ce9108d-9052-4658-8ea9-4c5a42f7f751",
         "xaxis": "x2",
         "y": [
          8988053.53,
          2288904.12,
          8891773.14,
          2054868.28,
          17309722.58,
          5755257.93,
          4406994.79,
          16375559.14,
          30884779.63,
          13585970.87,
          10472251.96,
          8155202.96,
          23290913.96,
          12093565.11,
          4843869.92,
          3853166.53,
          10032951.79,
          3405881.75,
          4240758.74,
          16395261.35,
          35444924.51,
          8483096.75,
          5883397.96,
          8490665.11,
          12865221.51,
          4455698.32,
          8168354.32,
          5245383.3,
          25717067.45,
          10531322.67,
          5479810.58,
          24269108.57,
          5457501.18,
          15802905.65,
          15226854.34,
          22453283.24,
          2340358.52,
          6197892.42,
          4343002.13,
          4066149.47,
          6783076.23,
          6912962.07,
          7878424.24,
          5713233.04,
          4875954.44,
          18714875.92,
          2581490.9,
          7487354.53,
          2795240.16,
          15044687.38,
          8332633.39
         ],
         "yaxis": "y2"
        },
        {
         "mode": "lines",
         "name": "bitfinex:/USD-BTC",
         "type": "scatter",
         "uid": "3e0fa295-9351-4c5a-b276-05cb885bc559",
         "xaxis": "x3",
         "y": [
          8739,
          8743,
          8723.7,
          8708.1,
          8784.4,
          8755.2,
          8762,
          8742.6,
          8512,
          8520.8,
          8532.1,
          8553.8,
          8516.5,
          8551.2,
          8516.7,
          8476,
          8459.9,
          8467.5,
          8454.2,
          8327.9,
          8124.4,
          8152,
          8205.3,
          8197.7,
          8223.9,
          8221.1,
          8194.2,
          8225.1,
          8357.2,
          8358.5,
          8348.6,
          8158.1,
          8205.9,
          8276,
          8255.2,
          8286.4,
          8266.2,
          8227.4,
          8290,
          8271.9,
          8278.1,
          8336.1,
          8346.07,
          8368.7,
          8373.5,
          8355,
          8319.5,
          8352.2,
          8337.8,
          8246.7,
          8270.1
         ],
         "yaxis": "y3"
        },
        {
         "mode": "lines",
         "name": "bitfinex:/USD:/free",
         "type": "scatter",
         "uid": "f151d270-20bc-4f9f-bdb2-6c20abb873e6",
         "xaxis": "x3",
         "y": [
          10000,
          5000,
          5000,
          5000,
          2500,
          2500,
          1250,
          1250,
          1250,
          9728.01,
          9728.01,
          4864,
          4864,
          2432,
          2432,
          2432,
          2432,
          1216,
          1216,
          1216,
          8299.05,
          5310.31,
          2655.15,
          2655.15,
          1327.57,
          1327.57,
          1327.57,
          663.79,
          331.9,
          4574.75,
          7953.88,
          7953.88,
          3976.94,
          1988.47,
          1988.47,
          1988.47,
          1988.47,
          1988.47,
          1988.47,
          1590.78,
          1590.78,
          1590.78,
          5630.15,
          5630.15,
          6977.31,
          8994.23,
          8994.23,
          8994.23,
          8994.23,
          8994.23,
          8994.23
         ],
         "yaxis": "y3"
        },
        {
         "mode": "lines",
         "name": "bitfinex:/USD:/locked",
         "type": "scatter",
         "uid": "44aadd7f-fc29-4cef-a13e-32b972b5c765",
         "xaxis": "x3",
         "y": [
          0,
          0,
          34867.08,
          55741.15,
          55741.15,
          68352.74,
          68352.74,
          75900.4,
          80418.97,
          83718.51,
          84379.1,
          84379.1,
          85440.14,
          85440.14,
          85758.35,
          86011.89,
          86213.76,
          86213.76,
          86375.09,
          86503.95,
          34608.26,
          9373.61,
          1825.95,
          18667.91,
          18667.91,
          32172.02,
          59171.04,
          59171.04,
          59171.04,
          46334.71,
          53197.27,
          56624.49,
          55963.9,
          55963.9,
          57995.67,
          58401,
          59051.98,
          59441.62,
          59557.96,
          59557.96,
          59651.54,
          59651.54,
          59651.54,
          59651.54,
          57793.75,
          57884.69,
          57884.69,
          57884.69,
          57884.69,
          57884.69,
          57884.69
         ],
         "yaxis": "y3"
        },
        {
         "mode": "lines",
         "name": "bitfinex:/USD:/total",
         "type": "scatter",
         "uid": "18c61f0d-5270-439e-80cd-523e136dd11a",
         "xaxis": "x3",
         "y": [
          10000,
          5000,
          39867.08,
          60741.15,
          58241.15,
          70852.74,
          69602.74,
          77150.4,
          81668.97,
          93446.52,
          94107.11,
          89243.1,
          90304.14,
          87872.14,
          88190.35,
          88443.89,
          88645.76,
          87429.76,
          87591.09,
          87719.95,
          42907.31,
          14683.92,
          4481.1,
          21323.06,
          19995.48,
          33499.59,
          60498.61,
          59834.83,
          59502.94,
          50909.46,
          61151.15,
          64578.37,
          59940.84,
          57952.37,
          59984.14,
          60389.47,
          61040.45,
          61430.09,
          61546.43,
          61148.74,
          61242.32,
          61242.32,
          65281.69,
          65281.69,
          64771.06,
          66878.92,
          66878.92,
          66878.92,
          66878.92,
          66878.92,
          66878.92
         ],
         "yaxis": "y3"
        },
        {
         "mode": "lines",
         "name": "bitfinex:/BTC:/free",
         "type": "scatter",
         "uid": "89e35d7a-6159-4e93-9f8a-fcf29279fad7",
         "xaxis": "x3",
         "y": [
          10,
          10,
          6,
          3.6,
          3.6,
          2.16,
          2.16,
          1.296,
          0.7776,
          0.3888,
          0.31104,
          0.31104,
          0.186624,
          0.186624,
          0.1492992,
          0.11943936,
          0.09555149,
          0.09555149,
          0.07644119,
          0.06115295,
          6.27393106,
          9.37064589,
          10.2937347,
          8.23498776,
          8.23498776,
          6.58799021,
          3.2939951,
          3.2939951,
          3.2939951,
          1.64699755,
          0.82349877,
          0.41174938,
          0.49248019,
          0.49248019,
          0.2462401,
          0.19699208,
          0.11819525,
          0.07091715,
          0.05673372,
          0.05673372,
          0.04538698,
          0.04538698,
          0.04538698,
          0.04538698,
          0.02723219,
          0.01633931,
          0.01633931,
          0.01633931,
          0.01633931,
          0.01633931,
          0.01633931
         ],
         "yaxis": "y3"
        },
        {
         "mode": "lines",
         "name": "bitfinex:/BTC:/locked",
         "type": "scatter",
         "uid": "9f6eac37-950d-42bd-960c-9739c8f15114",
         "xaxis": "x3",
         "y": [
          0,
          0.5704314,
          0.5704314,
          0.5704314,
          0.85665916,
          0.85665916,
          0.99900314,
          0.99900314,
          0.99900314,
          0,
          0,
          0.56837355,
          0.56837355,
          0.85307971,
          0.85307971,
          0.85307971,
          0.85307971,
          0.99638519,
          0.99638519,
          0.99638519,
          0.14330548,
          0.50921545,
          0.83394435,
          0.83394435,
          0.99540427,
          0.99540427,
          0.99540427,
          1.07616749,
          1.11639679,
          3.7756648,
          3.37017268,
          3.37017268,
          3.85619393,
          4.09778839,
          4.09778839,
          4.09778839,
          4.09778839,
          4.09778839,
          4.09778839,
          4.1456171,
          4.1456171,
          4.1456171,
          3.65959585,
          3.65959585,
          3.73750883,
          3.49591437,
          3.49591437,
          3.49591437,
          3.49591437,
          3.49591437,
          3.49591437
         ],
         "yaxis": "y3"
        },
        {
         "mode": "lines",
         "name": "bitfinex:/BTC:/total",
         "type": "scatter",
         "uid": "84533d1b-dfe4-4b7c-9a54-d1bca7484577",
         "xaxis": "x3",
         "y": [
          10,
          10.5704314,
          6.5704314,
          4.1704314,
          4.45665916,
          3.01665916,
          3.15900314,
          2.29500314,
          1.77660314,
          0.3888,
          0.31104,
          0.87941355,
          0.75499755,
          1.03970371,
          1.00237891,
          0.97251907,
          0.9486312,
          1.09193668,
          1.07282638,
          1.05753814,
          6.41723654,
          9.87986134,
          11.12767905,
          9.06893211,
          9.23039203,
          7.58339448,
          4.28939937,
          4.37016259,
          4.41039189,
          5.42266235,
          4.19367145,
          3.78192206,
          4.34867412,
          4.59026858,
          4.34402849,
          4.29478047,
          4.21598364,
          4.16870554,
          4.15452211,
          4.20235082,
          4.19100408,
          4.19100408,
          3.70498283,
          3.70498283,
          3.76474102,
          3.51225368,
          3.51225368,
          3.51225368,
          3.51225368,
          3.51225368,
          3.51225368
         ],
         "yaxis": "y3"
        },
        {
         "mode": "lines",
         "name": "bitfinex:/BTC:/worth",
         "type": "scatter",
         "uid": "1c8adcbc-2465-4e55-9c69-d7fc2291196b",
         "xaxis": "x3",
         "y": [
          87390,
          92417.2817302,
          57318.47240418001,
          36316.533674340004,
          39149.076725104,
          26411.454277632005,
          27679.18551268,
          20064.294451764,
          15122.445927679999,
          3312.8870399999996,
          2653.824384,
          7522.32762399,
          6429.936634575,
          8890.714364952,
          8536.960462797,
          8243.071637320001,
          8025.325088879999,
          9245.973837900001,
          9069.888781796,
          8807.071876105998,
          52136.196545576,
          80540.62964368,
          91305.94490896499,
          74344.384758147,
          75909.82101551701,
          62343.844359528004,
          35148.196317654,
          35945.024319009,
          36858.527103108,
          45325.323252475006,
          35011.28546747,
          30853.298357686,
          35684.784961307996,
          37989.06276808,
          35860.82399064801,
          35588.268886608,
          34850.16396496801,
          34297.607959796005,
          34440.9882919,
          34761.425747958005,
          34693.550874648,
          34936.629111288,
          30922.0460479781,
          31005.889809421,
          31524.05893097,
          29344.8794964,
          29220.19449076,
          29335.045186096006,
          29284.468733104,
          28964.502422856003,
          29046.689158968
         ],
         "yaxis": "y3"
        },
        {
         "mode": "lines",
         "name": "net_worth",
         "type": "scatter",
         "uid": "2dc2075a-de83-4e22-9001-14c4f33b0696",
         "xaxis": "x3",
         "y": [
          97390,
          97417.2817302,
          97185.55240418001,
          97057.68367434,
          97390.226725104,
          97264.194277632,
          97281.92551268,
          97214.694451764,
          96791.41592768,
          96759.40704,
          96760.93438400001,
          96765.42762399,
          96734.076634575,
          96762.854364952,
          96727.310462797,
          96686.96163732,
          96671.08508887999,
          96675.7338379,
          96660.978781796,
          96527.021876106,
          95043.506545576,
          95224.54964368,
          95787.04490896499,
          95667.444758147,
          95905.301015517,
          95843.43435952801,
          95646.806317654,
          95779.854319009,
          96361.467103108,
          96234.783252475,
          96162.43546747,
          95431.668357686,
          95625.624961308,
          95941.43276808,
          95844.96399064802,
          95977.738886608,
          95890.61396496801,
          95727.697959796,
          95987.4182919,
          95910.165747958,
          95935.870874648,
          96178.949111288,
          96203.7360479781,
          96287.579809421,
          96295.11893097,
          96223.7994964,
          96099.11449076,
          96213.965186096,
          96163.388733104,
          95843.422422856,
          95925.609158968
         ],
         "yaxis": "y3"
        },
        {
         "marker": {
          "color": "DarkGreen"
         },
         "mode": "lines",
         "name": "Net Worth",
         "type": "scatter",
         "uid": "d9691fd2-f666-4ad6-9d95-37178101d890",
         "xaxis": "x4",
         "y": [
          97390,
          97417.2817302,
          97185.55240418001,
          97057.68367434,
          97390.226725104,
          97264.194277632,
          97281.92551268,
          97214.694451764,
          96791.41592768,
          96759.40704,
          96760.93438400001,
          96765.42762399,
          96734.076634575,
          96762.854364952,
          96727.310462797,
          96686.96163732,
          96671.08508887999,
          96675.7338379,
          96660.978781796,
          96527.021876106,
          95043.506545576,
          95224.54964368,
          95787.04490896499,
          95667.444758147,
          95905.301015517,
          95843.43435952801,
          95646.806317654,
          95779.854319009,
          96361.467103108,
          96234.783252475,
          96162.43546747,
          95431.668357686,
          95625.624961308,
          95941.43276808,
          95844.96399064802,
          95977.738886608,
          95890.61396496801,
          95727.697959796,
          95987.4182919,
          95910.165747958,
          95935.870874648,
          96178.949111288,
          96203.7360479781,
          96287.579809421,
          96295.11893097,
          96223.7994964,
          96099.11449076,
          96213.965186096,
          96163.388733104,
          95843.422422856,
          95925.609158968
         ],
         "yaxis": "y4"
        }
       ],
       "layout": {
        "annotations": [
         {
          "arrowcolor": "FireBrick",
          "arrowhead": 2,
          "arrowsize": 0.8,
          "arrowwidth": 4,
          "ax": 0,
          "ay": -15,
          "hoverlabel": {
           "bgcolor": "FireBrick"
          },
          "hovertext": "Step 45 [2018-05-17 02:00:00]<br>SELL 0.0108602 BTC @ 8373.5 USD MARKET<br>Total: 90.94 USD - Comm.: 0.00003268 BTC",
          "opacity": 0.6,
          "showarrow": true,
          "x": 44,
          "xref": "x",
          "y": 8373.5,
          "yref": "y"
         },
         {
          "arrowcolor": "FireBrick",
          "arrowhead": 2,
          "arrowsize": 0.8,
          "arrowwidth": 4,
          "ax": 0,
          "ay": -15,
          "hoverlabel": {
           "bgcolor": "FireBrick"
          },
          "hovertext": "Step 45 [2018-05-17 02:00:00]<br>SELL 0.24086968 BTC @ 8373.5 USD MARKET<br>Total: 2016.92 USD - Comm.: 0.00072478 BTC",
          "opacity": 0.6,
          "showarrow": true,
          "x": 44,
          "xref": "x",
          "y": 8373.5,
          "yref": "y"
         },
         {
          "arrowcolor": "FireBrick",
          "arrowhead": 2,
          "arrowsize": 0.8,
          "arrowwidth": 4,
          "ax": 0,
          "ay": -15,
          "hoverlabel": {
           "bgcolor": "FireBrick"
          },
          "hovertext": "Step 44 [2018-05-17 01:00:00]<br>SELL 0.01810033 BTC @ 8368.7 USD MARKET<br>Total: 151.48 USD - Comm.: 0.00005446 BTC",
          "opacity": 0.6,
          "showarrow": true,
          "x": 43,
          "xref": "x",
          "y": 8368.7,
          "yref": "y"
         },
         {
          "arrowcolor": "DarkGreen",
          "arrowhead": 2,
          "arrowsize": 0.8,
          "arrowwidth": 4,
          "ax": 0,
          "ay": 15,
          "hoverlabel": {
           "bgcolor": "DarkGreen"
          },
          "hovertext": "Step 44 [2018-05-17 01:00:00]<br>BUY 0.2393729 BTC @ 8368.7 USD MARKET<br>Total: 2003.24 USD - Comm.: 6.03 USD",
          "opacity": 0.6,
          "showarrow": true,
          "x": 43,
          "xref": "x",
          "y": 8368.7,
          "yref": "y"
         },
         {
          "arrowcolor": "FireBrick",
          "arrowhead": 2,
          "arrowsize": 0.8,
          "arrowwidth": 4,
          "ax": 0,
          "ay": -15,
          "hoverlabel": {
           "bgcolor": "FireBrick"
          },
          "hovertext": "Step 44 [2018-05-17 01:00:00]<br>SELL 0.16097554 BTC @ 8368.7 USD MARKET<br>Total: 1347.16 USD - Comm.: 0.00048438 BTC",
          "opacity": 0.6,
          "showarrow": true,
          "x": 43,
          "xref": "x",
          "y": 8368.7,
          "yref": "y"
         },
         {
          "arrowcolor": "FireBrick",
          "arrowhead": 2,
          "arrowsize": 0.8,
          "arrowwidth": 4,
          "ax": 0,
          "ay": -15,
          "hoverlabel": {
           "bgcolor": "FireBrick"
          },
          "hovertext": "Step 42 [2018-05-16 23:00:00]<br>SELL 0.48456319 BTC @ 8336.1 USD MARKET<br>Total: 4039.37 USD - Comm.: 0.00145806 BTC",
          "opacity": 0.6,
          "showarrow": true,
          "x": 41,
          "xref": "x",
          "y": 8336.1,
          "yref": "y"
         },
         {
          "arrowcolor": "FireBrick",
          "arrowhead": 2,
          "arrowsize": 0.8,
          "arrowwidth": 4,
          "ax": 0,
          "ay": -15,
          "hoverlabel": {
           "bgcolor": "FireBrick"
          },
          "hovertext": "Step 40 [2018-05-16 21:00:00]<br>SELL 0.0113127 BTC @ 8271.9 USD MARKET<br>Total: 93.58 USD - Comm.: 0.00003404 BTC",
          "opacity": 0.6,
          "showarrow": true,
          "x": 39,
          "xref": "x",
          "y": 8271.9,
          "yref": "y"
         },
         {
          "arrowcolor": "DarkGreen",
          "arrowhead": 2,
          "arrowsize": 0.8,
          "arrowwidth": 4,
          "ax": 0,
          "ay": 15,
          "hoverlabel": {
           "bgcolor": "DarkGreen"
          },
          "hovertext": "Step 39 [2018-05-16 20:00:00]<br>BUY 0.04782871 BTC @ 8290.0 USD MARKET<br>Total: 396.5 USD - Comm.: 1.19 USD",
          "opacity": 0.6,
          "showarrow": true,
          "x": 38,
          "xref": "x",
          "y": 8290,
          "yref": "y"
         },
         {
          "arrowcolor": "FireBrick",
          "arrowhead": 2,
          "arrowsize": 0.8,
          "arrowwidth": 4,
          "ax": 0,
          "ay": -15,
          "hoverlabel": {
           "bgcolor": "FireBrick"
          },
          "hovertext": "Step 38 [2018-05-16 19:00:00]<br>SELL 0.01414088 BTC @ 8227.4 USD MARKET<br>Total: 116.34 USD - Comm.: 0.00004255 BTC",
          "opacity": 0.6,
          "showarrow": true,
          "x": 37,
          "xref": "x",
          "y": 8227.4,
          "yref": "y"
         },
         {
          "arrowcolor": "FireBrick",
          "arrowhead": 2,
          "arrowsize": 0.8,
          "arrowwidth": 4,
          "ax": 0,
          "ay": -15,
          "hoverlabel": {
           "bgcolor": "FireBrick"
          },
          "hovertext": "Step 37 [2018-05-16 18:00:00]<br>SELL 0.04713627 BTC @ 8266.2 USD MARKET<br>Total: 389.64 USD - Comm.: 0.00014183 BTC",
          "opacity": 0.6,
          "showarrow": true,
          "x": 36,
          "xref": "x",
          "y": 8266.2,
          "yref": "y"
         },
         {
          "arrowcolor": "FireBrick",
          "arrowhead": 2,
          "arrowsize": 0.8,
          "arrowwidth": 4,
          "ax": 0,
          "ay": -15,
          "hoverlabel": {
           "bgcolor": "FireBrick"
          },
          "hovertext": "Step 36 [2018-05-16 17:00:00]<br>SELL 0.07856044 BTC @ 8286.4 USD MARKET<br>Total: 650.98 USD - Comm.: 0.00023639 BTC",
          "opacity": 0.6,
          "showarrow": true,
          "x": 35,
          "xref": "x",
          "y": 8286.4,
          "yref": "y"
         },
         {
          "arrowcolor": "FireBrick",
          "arrowhead": 2,
          "arrowsize": 0.8,
          "arrowwidth": 4,
          "ax": 0,
          "ay": -15,
          "hoverlabel": {
           "bgcolor": "FireBrick"
          },
          "hovertext": "Step 35 [2018-05-16 16:00:00]<br>SELL 0.04910028 BTC @ 8255.2 USD MARKET<br>Total: 405.33 USD - Comm.: 0.00014774 BTC",
          "opacity": 0.6,
          "showarrow": true,
          "x": 34,
          "xref": "x",
          "y": 8255.2,
          "yref": "y"
         },
         {
          "arrowcolor": "FireBrick",
          "arrowhead": 2,
          "arrowsize": 0.8,
          "arrowwidth": 4,
          "ax": 0,
          "ay": -15,
          "hoverlabel": {
           "bgcolor": "FireBrick"
          },
          "hovertext": "Step 34 [2018-05-16 15:00:00]<br>SELL 0.24550137 BTC @ 8276.0 USD MARKET<br>Total: 2031.77 USD - Comm.: 0.00073872 BTC",
          "opacity": 0.6,
          "showarrow": true,
          "x": 33,
          "xref": "x",
          "y": 8276,
          "yref": "y"
         },
         {
          "arrowcolor": "DarkGreen",
          "arrowhead": 2,
          "arrowsize": 0.8,
          "arrowwidth": 4,
          "ax": 0,
          "ay": 15,
          "hoverlabel": {
           "bgcolor": "DarkGreen"
          },
          "hovertext": "Step 33 [2018-05-16 14:00:00]<br>BUY 0.24159446 BTC @ 8205.9 USD MARKET<br>Total: 1982.5 USD - Comm.: 5.97 USD",
          "opacity": 0.6,
          "showarrow": true,
          "x": 32,
          "xref": "x",
          "y": 8205.9,
          "yref": "y"
         },
         {
          "arrowcolor": "DarkGreen",
          "arrowhead": 2,
          "arrowsize": 0.8,
          "arrowwidth": 4,
          "ax": 0,
          "ay": 15,
          "hoverlabel": {
           "bgcolor": "DarkGreen"
          },
          "hovertext": "Step 32 [2018-05-16 13:00:00]<br>BUY 0.48602125 BTC @ 8158.1 USD MARKET<br>Total: 3965.01 USD - Comm.: 11.93 USD",
          "opacity": 0.6,
          "showarrow": true,
          "x": 31,
          "xref": "x",
          "y": 8158.1,
          "yref": "y"
         },
         {
          "arrowcolor": "DarkGreen",
          "arrowhead": 2,
          "arrowsize": 0.8,
          "arrowwidth": 4,
          "ax": 0,
          "ay": 15,
          "hoverlabel": {
           "bgcolor": "DarkGreen"
          },
          "hovertext": "Step 32 [2018-05-16 13:00:00]<br>BUY 0.08073081 BTC @ 8158.1 USD MARKET<br>Total: 658.61 USD - Comm.: 1.98 USD",
          "opacity": 0.6,
          "showarrow": true,
          "x": 31,
          "xref": "x",
          "y": 8158.1,
          "yref": "y"
         },
         {
          "arrowcolor": "FireBrick",
          "arrowhead": 2,
          "arrowsize": 0.8,
          "arrowwidth": 4,
          "ax": 0,
          "ay": -15,
          "hoverlabel": {
           "bgcolor": "FireBrick"
          },
          "hovertext": "Step 31 [2018-05-16 12:00:00]<br>SELL 0.41051414 BTC @ 8348.6 USD MARKET<br>Total: 3427.22 USD - Comm.: 0.00123525 BTC",
          "opacity": 0.6,
          "showarrow": true,
          "x": 30,
          "xref": "x",
          "y": 8348.6,
          "yref": "y"
         },
         {
          "arrowcolor": "FireBrick",
          "arrowhead": 2,
          "arrowsize": 0.8,
          "arrowwidth": 4,
          "ax": 0,
          "ay": -15,
          "hoverlabel": {
           "bgcolor": "FireBrick"
          },
          "hovertext": "Step 30 [2018-05-16 11:00:00]<br>SELL 0.82102828 BTC @ 8358.5 USD MARKET<br>Total: 6862.56 USD - Comm.: 0.00247050 BTC",
          "opacity": 0.6,
          "showarrow": true,
          "x": 29,
          "xref": "x",
          "y": 8358.5,
          "yref": "y"
         },
         {
          "arrowcolor": "FireBrick",
          "arrowhead": 2,
          "arrowsize": 0.8,
          "arrowwidth": 4,
          "ax": 0,
          "ay": -15,
          "hoverlabel": {
           "bgcolor": "FireBrick"
          },
          "hovertext": "Step 30 [2018-05-16 11:00:00]<br>SELL 0.08052093 BTC @ 8358.5 USD MARKET<br>Total: 673.03 USD - Comm.: 0.00024229 BTC",
          "opacity": 0.6,
          "showarrow": true,
          "x": 29,
          "xref": "x",
          "y": 8358.5,
          "yref": "y"
         },
         {
          "arrowcolor": "FireBrick",
          "arrowhead": 2,
          "arrowsize": 0.8,
          "arrowwidth": 4,
          "ax": 0,
          "ay": -15,
          "hoverlabel": {
           "bgcolor": "FireBrick"
          },
          "hovertext": "Step 30 [2018-05-16 11:00:00]<br>SELL 0.32375471 BTC @ 8358.5 USD MARKET<br>Total: 2706.1 USD - Comm.: 0.00097419 BTC",
          "opacity": 0.6,
          "showarrow": true,
          "x": 29,
          "xref": "x",
          "y": 8358.5,
          "yref": "y"
         },
         {
          "arrowcolor": "FireBrick",
          "arrowhead": 2,
          "arrowsize": 0.8,
          "arrowwidth": 4,
          "ax": 0,
          "ay": -15,
          "hoverlabel": {
           "bgcolor": "FireBrick"
          },
          "hovertext": "Step 29 [2018-05-16 10:00:00]<br>SELL 1.64205656 BTC @ 8357.2 USD MARKET<br>Total: 13723.0 USD - Comm.: 0.00494099 BTC",
          "opacity": 0.6,
          "showarrow": true,
          "x": 28,
          "xref": "x",
          "y": 8357.2,
          "yref": "y"
         },
         {
          "arrowcolor": "DarkGreen",
          "arrowhead": 2,
          "arrowsize": 0.8,
          "arrowwidth": 4,
          "ax": 0,
          "ay": 15,
          "hoverlabel": {
           "bgcolor": "DarkGreen"
          },
          "hovertext": "Step 29 [2018-05-16 10:00:00]<br>BUY 3.16848346 BTC @ 8357.2 USD MARKET<br>Total: 26479.65 USD - Comm.: 79.68 USD",
          "opacity": 0.6,
          "showarrow": true,
          "x": 28,
          "xref": "x",
          "y": 8357.2,
          "yref": "y"
         },
         {
          "arrowcolor": "FireBrick",
          "arrowhead": 2,
          "arrowsize": 0.8,
          "arrowwidth": 4,
          "ax": 0,
          "ay": -15,
          "hoverlabel": {
           "bgcolor": "FireBrick"
          },
          "hovertext": "Step 29 [2018-05-16 10:00:00]<br>SELL 0.5076878 BTC @ 8357.2 USD MARKET<br>Total: 4242.85 USD - Comm.: 0.00152765 BTC",
          "opacity": 0.6,
          "showarrow": true,
          "x": 28,
          "xref": "x",
          "y": 8357.2,
          "yref": "y"
         },
         {
          "arrowcolor": "DarkGreen",
          "arrowhead": 2,
          "arrowsize": 0.8,
          "arrowwidth": 4,
          "ax": 0,
          "ay": 15,
          "hoverlabel": {
           "bgcolor": "DarkGreen"
          },
          "hovertext": "Step 28 [2018-05-16 09:00:00]<br>BUY 0.0402293 BTC @ 8225.1 USD MARKET<br>Total: 330.89 USD - Comm.: 1.00 USD",
          "opacity": 0.6,
          "showarrow": true,
          "x": 27,
          "xref": "x",
          "y": 8225.1,
          "yref": "y"
         },
         {
          "arrowcolor": "DarkGreen",
          "arrowhead": 2,
          "arrowsize": 0.8,
          "arrowwidth": 4,
          "ax": 0,
          "ay": 15,
          "hoverlabel": {
           "bgcolor": "DarkGreen"
          },
          "hovertext": "Step 27 [2018-05-16 08:00:00]<br>BUY 0.08076322 BTC @ 8194.2 USD MARKET<br>Total: 661.79 USD - Comm.: 1.99 USD",
          "opacity": 0.6,
          "showarrow": true,
          "x": 26,
          "xref": "x",
          "y": 8194.2,
          "yref": "y"
         },
         {
          "arrowcolor": "FireBrick",
          "arrowhead": 2,
          "arrowsize": 0.8,
          "arrowwidth": 4,
          "ax": 0,
          "ay": -15,
          "hoverlabel": {
           "bgcolor": "FireBrick"
          },
          "hovertext": "Step 26 [2018-05-16 07:00:00]<br>SELL 3.28411312 BTC @ 8221.1 USD MARKET<br>Total: 26999.02 USD - Comm.: 0.00988199 BTC",
          "opacity": 0.6,
          "showarrow": true,
          "x": 25,
          "xref": "x",
          "y": 8221.1,
          "yref": "y"
         },
         {
          "arrowcolor": "FireBrick",
          "arrowhead": 2,
          "arrowsize": 0.8,
          "arrowwidth": 4,
          "ax": 0,
          "ay": -15,
          "hoverlabel": {
           "bgcolor": "FireBrick"
          },
          "hovertext": "Step 25 [2018-05-16 06:00:00]<br>SELL 1.64205656 BTC @ 8223.9 USD MARKET<br>Total: 13504.11 USD - Comm.: 0.00494099 BTC",
          "opacity": 0.6,
          "showarrow": true,
          "x": 24,
          "xref": "x",
          "y": 8223.9,
          "yref": "y"
         },
         {
          "arrowcolor": "DarkGreen",
          "arrowhead": 2,
          "arrowsize": 0.8,
          "arrowwidth": 4,
          "ax": 0,
          "ay": 15,
          "hoverlabel": {
           "bgcolor": "DarkGreen"
          },
          "hovertext": "Step 24 [2018-05-16 05:00:00]<br>BUY 0.16145992 BTC @ 8197.7 USD MARKET<br>Total: 1323.6 USD - Comm.: 3.98 USD",
          "opacity": 0.6,
          "showarrow": true,
          "x": 23,
          "xref": "x",
          "y": 8197.7,
          "yref": "y"
         },
         {
          "arrowcolor": "FireBrick",
          "arrowhead": 2,
          "arrowsize": 0.8,
          "arrowwidth": 4,
          "ax": 0,
          "ay": -15,
          "hoverlabel": {
           "bgcolor": "FireBrick"
          },
          "hovertext": "Step 23 [2018-05-16 04:00:00]<br>SELL 2.0525707 BTC @ 8205.3 USD MARKET<br>Total: 16841.96 USD - Comm.: 0.00617624 BTC",
          "opacity": 0.6,
          "showarrow": true,
          "x": 22,
          "xref": "x",
          "y": 8205.3,
          "yref": "y"
         },
         {
          "arrowcolor": "DarkGreen",
          "arrowhead": 2,
          "arrowsize": 0.8,
          "arrowwidth": 4,
          "ax": 0,
          "ay": 15,
          "hoverlabel": {
           "bgcolor": "DarkGreen"
          },
          "hovertext": "Step 22 [2018-05-16 03:00:00]<br>BUY 0.3247289 BTC @ 8152.0 USD MARKET<br>Total: 2647.19 USD - Comm.: 7.97 USD",
          "opacity": 0.6,
          "showarrow": true,
          "x": 21,
          "xref": "x",
          "y": 8152,
          "yref": "y"
         },
         {
          "arrowcolor": "DarkGreen",
          "arrowhead": 2,
          "arrowsize": 0.8,
          "arrowwidth": 4,
          "ax": 0,
          "ay": 15,
          "hoverlabel": {
           "bgcolor": "DarkGreen"
          },
          "hovertext": "Step 22 [2018-05-16 03:00:00]<br>BUY 0.92308881 BTC @ 8152.0 USD MARKET<br>Total: 7525.02 USD - Comm.: 22.64 USD",
          "opacity": 0.6,
          "showarrow": true,
          "x": 21,
          "xref": "x",
          "y": 8152,
          "yref": "y"
         },
         {
          "arrowcolor": "DarkGreen",
          "arrowhead": 2,
          "arrowsize": 0.8,
          "arrowwidth": 4,
          "ax": 0,
          "ay": 15,
          "hoverlabel": {
           "bgcolor": "DarkGreen"
          },
          "hovertext": "Step 21 [2018-05-16 02:00:00]<br>BUY 0.50921545 BTC @ 8124.4 USD MARKET<br>Total: 4137.07 USD - Comm.: 12.45 USD",
          "opacity": 0.6,
          "showarrow": true,
          "x": 20,
          "xref": "x",
          "y": 8124.4,
          "yref": "y"
         },
         {
          "arrowcolor": "FireBrick",
          "arrowhead": 2,
          "arrowsize": 0.8,
          "arrowwidth": 4,
          "ax": 0,
          "ay": -15,
          "hoverlabel": {
           "bgcolor": "FireBrick"
          },
          "hovertext": "Step 21 [2018-05-16 02:00:00]<br>SELL 0.14287556 BTC @ 8124.4 USD MARKET<br>Total: 1160.78 USD - Comm.: 0.00042992 BTC",
          "opacity": 0.6,
          "showarrow": true,
          "x": 20,
          "xref": "x",
          "y": 8124.4,
          "yref": "y"
         },
         {
          "arrowcolor": "DarkGreen",
          "arrowhead": 2,
          "arrowsize": 0.8,
          "arrowwidth": 4,
          "ax": 0,
          "ay": 15,
          "hoverlabel": {
           "bgcolor": "DarkGreen"
          },
          "hovertext": "Step 21 [2018-05-16 02:00:00]<br>BUY 0.13020777 BTC @ 8124.4 USD MARKET<br>Total: 1057.86 USD - Comm.: 3.18 USD",
          "opacity": 0.6,
          "showarrow": true,
          "x": 20,
          "xref": "x",
          "y": 8124.4,
          "yref": "y"
         },
         {
          "arrowcolor": "DarkGreen",
          "arrowhead": 2,
          "arrowsize": 0.8,
          "arrowwidth": 4,
          "ax": 0,
          "ay": 15,
          "hoverlabel": {
           "bgcolor": "DarkGreen"
          },
          "hovertext": "Step 21 [2018-05-16 02:00:00]<br>BUY 0.40490867 BTC @ 8124.4 USD MARKET<br>Total: 3289.64 USD - Comm.: 9.90 USD",
          "opacity": 0.6,
          "showarrow": true,
          "x": 20,
          "xref": "x",
          "y": 8124.4,
          "yref": "y"
         },
         {
          "arrowcolor": "DarkGreen",
          "arrowhead": 2,
          "arrowsize": 0.8,
          "arrowwidth": 4,
          "ax": 0,
          "ay": 15,
          "hoverlabel": {
           "bgcolor": "DarkGreen"
          },
          "hovertext": "Step 21 [2018-05-16 02:00:00]<br>BUY 2.56159839 BTC @ 8124.4 USD MARKET<br>Total: 20811.45 USD - Comm.: 62.62 USD",
          "opacity": 0.6,
          "showarrow": true,
          "x": 20,
          "xref": "x",
          "y": 8124.4,
          "yref": "y"
         },
         {
          "arrowcolor": "FireBrick",
          "arrowhead": 2,
          "arrowsize": 0.8,
          "arrowwidth": 4,
          "ax": 0,
          "ay": -15,
          "hoverlabel": {
           "bgcolor": "FireBrick"
          },
          "hovertext": "Step 20 [2018-05-16 01:00:00]<br>SELL 0.0121939 BTC @ 8327.9 USD MARKET<br>Total: 101.55 USD - Comm.: 0.00003669 BTC",
          "opacity": 0.6,
          "showarrow": true,
          "x": 19,
          "xref": "x",
          "y": 8327.9,
          "yref": "y"
         },
         {
          "arrowcolor": "FireBrick",
          "arrowhead": 2,
          "arrowsize": 0.8,
          "arrowwidth": 4,
          "ax": 0,
          "ay": -15,
          "hoverlabel": {
           "bgcolor": "FireBrick"
          },
          "hovertext": "Step 20 [2018-05-16 01:00:00]<br>SELL 0.28385204 BTC @ 8327.9 USD MARKET<br>Total: 2363.89 USD - Comm.: 0.00085412 BTC",
          "opacity": 0.6,
          "showarrow": true,
          "x": 19,
          "xref": "x",
          "y": 8327.9,
          "yref": "y"
         },
         {
          "arrowcolor": "FireBrick",
          "arrowhead": 2,
          "arrowsize": 0.8,
          "arrowwidth": 4,
          "ax": 0,
          "ay": -15,
          "hoverlabel": {
           "bgcolor": "FireBrick"
          },
          "hovertext": "Step 20 [2018-05-16 01:00:00]<br>SELL 0.56666843 BTC @ 8327.9 USD MARKET<br>Total: 4719.16 USD - Comm.: 0.00170512 BTC",
          "opacity": 0.6,
          "showarrow": true,
          "x": 19,
          "xref": "x",
          "y": 8327.9,
          "yref": "y"
         },
         {
          "arrowcolor": "DarkGreen",
          "arrowhead": 2,
          "arrowsize": 0.8,
          "arrowwidth": 4,
          "ax": 0,
          "ay": 15,
          "hoverlabel": {
           "bgcolor": "DarkGreen"
          },
          "hovertext": "Step 20 [2018-05-16 01:00:00]<br>BUY 0.5409539 BTC @ 8327.9 USD MARKET<br>Total: 4505.01 USD - Comm.: 13.56 USD",
          "opacity": 0.6,
          "showarrow": true,
          "x": 19,
          "xref": "x",
          "y": 8327.9,
          "yref": "y"
         },
         {
          "arrowcolor": "DarkGreen",
          "arrowhead": 2,
          "arrowsize": 0.8,
          "arrowwidth": 4,
          "ax": 0,
          "ay": 15,
          "hoverlabel": {
           "bgcolor": "DarkGreen"
          },
          "hovertext": "Step 20 [2018-05-16 01:00:00]<br>BUY 1.50983561 BTC @ 8327.9 USD MARKET<br>Total: 12573.76 USD - Comm.: 37.83 USD",
          "opacity": 0.6,
          "showarrow": true,
          "x": 19,
          "xref": "x",
          "y": 8327.9,
          "yref": "y"
         },
         {
          "arrowcolor": "DarkGreen",
          "arrowhead": 2,
          "arrowsize": 0.8,
          "arrowwidth": 4,
          "ax": 0,
          "ay": 15,
          "hoverlabel": {
           "bgcolor": "DarkGreen"
          },
          "hovertext": "Step 20 [2018-05-16 01:00:00]<br>BUY 4.17421919 BTC @ 8327.9 USD MARKET<br>Total: 34762.48 USD - Comm.: 104.60 USD",
          "opacity": 0.6,
          "showarrow": true,
          "x": 19,
          "xref": "x",
          "y": 8327.9,
          "yref": "y"
         },
         {
          "arrowcolor": "FireBrick",
          "arrowhead": 2,
          "arrowsize": 0.8,
          "arrowwidth": 4,
          "ax": 0,
          "ay": -15,
          "hoverlabel": {
           "bgcolor": "FireBrick"
          },
          "hovertext": "Step 19 [2018-05-16 00:00:00]<br>SELL 0.01524238 BTC @ 8454.2 USD MARKET<br>Total: 128.86 USD - Comm.: 0.00004586 BTC",
          "opacity": 0.6,
          "showarrow": true,
          "x": 18,
          "xref": "x",
          "y": 8454.2,
          "yref": "y"
         },
         {
          "arrowcolor": "FireBrick",
          "arrowhead": 2,
          "arrowsize": 0.8,
          "arrowwidth": 4,
          "ax": 0,
          "ay": -15,
          "hoverlabel": {
           "bgcolor": "FireBrick"
          },
          "hovertext": "Step 18 [2018-05-15 23:00:00]<br>SELL 0.01905297 BTC @ 8467.5 USD MARKET<br>Total: 161.33 USD - Comm.: 0.00005733 BTC",
          "opacity": 0.6,
          "showarrow": true,
          "x": 17,
          "xref": "x",
          "y": 8467.5,
          "yref": "y"
         },
         {
          "arrowcolor": "DarkGreen",
          "arrowhead": 2,
          "arrowsize": 0.8,
          "arrowwidth": 4,
          "ax": 0,
          "ay": 15,
          "hoverlabel": {
           "bgcolor": "DarkGreen"
          },
          "hovertext": "Step 17 [2018-05-15 22:00:00]<br>BUY 0.14330548 BTC @ 8459.9 USD MARKET<br>Total: 1212.35 USD - Comm.: 3.65 USD",
          "opacity": 0.6,
          "showarrow": true,
          "x": 16,
          "xref": "x",
          "y": 8459.9,
          "yref": "y"
         },
         {
          "arrowcolor": "FireBrick",
          "arrowhead": 2,
          "arrowsize": 0.8,
          "arrowwidth": 4,
          "ax": 0,
          "ay": -15,
          "hoverlabel": {
           "bgcolor": "FireBrick"
          },
          "hovertext": "Step 16 [2018-05-15 21:00:00]<br>SELL 0.02381621 BTC @ 8476.0 USD MARKET<br>Total: 201.87 USD - Comm.: 0.00007166 BTC",
          "opacity": 0.6,
          "showarrow": true,
          "x": 15,
          "xref": "x",
          "y": 8476,
          "yref": "y"
         },
         {
          "arrowcolor": "FireBrick",
          "arrowhead": 2,
          "arrowsize": 0.8,
          "arrowwidth": 4,
          "ax": 0,
          "ay": -15,
          "hoverlabel": {
           "bgcolor": "FireBrick"
          },
          "hovertext": "Step 15 [2018-05-15 20:00:00]<br>SELL 0.02977026 BTC @ 8516.7 USD MARKET<br>Total: 253.54 USD - Comm.: 0.00008958 BTC",
          "opacity": 0.6,
          "showarrow": true,
          "x": 14,
          "xref": "x",
          "y": 8516.7,
          "yref": "y"
         },
         {
          "arrowcolor": "FireBrick",
          "arrowhead": 2,
          "arrowsize": 0.8,
          "arrowwidth": 4,
          "ax": 0,
          "ay": -15,
          "hoverlabel": {
           "bgcolor": "FireBrick"
          },
          "hovertext": "Step 14 [2018-05-15 19:00:00]<br>SELL 0.03721283 BTC @ 8551.2 USD MARKET<br>Total: 318.21 USD - Comm.: 0.00011197 BTC",
          "opacity": 0.6,
          "showarrow": true,
          "x": 13,
          "xref": "x",
          "y": 8551.2,
          "yref": "y"
         },
         {
          "arrowcolor": "DarkGreen",
          "arrowhead": 2,
          "arrowsize": 0.8,
          "arrowwidth": 4,
          "ax": 0,
          "ay": 15,
          "hoverlabel": {
           "bgcolor": "DarkGreen"
          },
          "hovertext": "Step 13 [2018-05-15 18:00:00]<br>BUY 0.28470616 BTC @ 8516.5 USD MARKET<br>Total: 2424.7 USD - Comm.: 7.30 USD",
          "opacity": 0.6,
          "showarrow": true,
          "x": 12,
          "xref": "x",
          "y": 8516.5,
          "yref": "y"
         },
         {
          "arrowcolor": "FireBrick",
          "arrowhead": 2,
          "arrowsize": 0.8,
          "arrowwidth": 4,
          "ax": 0,
          "ay": -15,
          "hoverlabel": {
           "bgcolor": "FireBrick"
          },
          "hovertext": "Step 12 [2018-05-15 17:00:00]<br>SELL 0.12404275 BTC @ 8553.8 USD MARKET<br>Total: 1061.04 USD - Comm.: 0.00037325 BTC",
          "opacity": 0.6,
          "showarrow": true,
          "x": 11,
          "xref": "x",
          "y": 8553.8,
          "yref": "y"
         },
         {
          "arrowcolor": "DarkGreen",
          "arrowhead": 2,
          "arrowsize": 0.8,
          "arrowwidth": 4,
          "ax": 0,
          "ay": 15,
          "hoverlabel": {
           "bgcolor": "DarkGreen"
          },
          "hovertext": "Step 11 [2018-05-15 16:00:00]<br>BUY 0.56837355 BTC @ 8532.1 USD MARKET<br>Total: 4849.42 USD - Comm.: 14.59 USD",
          "opacity": 0.6,
          "showarrow": true,
          "x": 10,
          "xref": "x",
          "y": 8532.1,
          "yref": "y"
         },
         {
          "arrowcolor": "FireBrick",
          "arrowhead": 2,
          "arrowsize": 0.8,
          "arrowwidth": 4,
          "ax": 0,
          "ay": -15,
          "hoverlabel": {
           "bgcolor": "FireBrick"
          },
          "hovertext": "Step 10 [2018-05-15 15:00:00]<br>SELL 0.07752672 BTC @ 8520.8 USD MARKET<br>Total: 660.59 USD - Comm.: 0.00023328 BTC",
          "opacity": 0.6,
          "showarrow": true,
          "x": 9,
          "xref": "x",
          "y": 8520.8,
          "yref": "y"
         },
         {
          "arrowcolor": "FireBrick",
          "arrowhead": 2,
          "arrowsize": 0.8,
          "arrowwidth": 4,
          "ax": 0,
          "ay": -15,
          "hoverlabel": {
           "bgcolor": "FireBrick"
          },
          "hovertext": "Step 9 [2018-05-15 14:00:00]<br>SELL 0.3876336 BTC @ 8512.0 USD MARKET<br>Total: 3299.54 USD - Comm.: 0.00116640 BTC",
          "opacity": 0.6,
          "showarrow": true,
          "x": 8,
          "xref": "x",
          "y": 8512,
          "yref": "y"
         },
         {
          "arrowcolor": "FireBrick",
          "arrowhead": 2,
          "arrowsize": 0.8,
          "arrowwidth": 4,
          "ax": 0,
          "ay": -15,
          "hoverlabel": {
           "bgcolor": "FireBrick"
          },
          "hovertext": "Step 9 [2018-05-15 14:00:00]<br>SELL 0.14191695 BTC @ 8512.0 USD MARKET<br>Total: 1208.0 USD - Comm.: 0.00042703 BTC",
          "opacity": 0.6,
          "showarrow": true,
          "x": 8,
          "xref": "x",
          "y": 8512,
          "yref": "y"
         },
         {
          "arrowcolor": "FireBrick",
          "arrowhead": 2,
          "arrowsize": 0.8,
          "arrowwidth": 4,
          "ax": 0,
          "ay": -15,
          "hoverlabel": {
           "bgcolor": "FireBrick"
          },
          "hovertext": "Step 9 [2018-05-15 14:00:00]<br>SELL 0.28536908 BTC @ 8512.0 USD MARKET<br>Total: 2429.06 USD - Comm.: 0.00085868 BTC",
          "opacity": 0.6,
          "showarrow": true,
          "x": 8,
          "xref": "x",
          "y": 8512,
          "yref": "y"
         },
         {
          "arrowcolor": "FireBrick",
          "arrowhead": 2,
          "arrowsize": 0.8,
          "arrowwidth": 4,
          "ax": 0,
          "ay": -15,
          "hoverlabel": {
           "bgcolor": "FireBrick"
          },
          "hovertext": "Step 9 [2018-05-15 14:00:00]<br>SELL 0.56872011 BTC @ 8512.0 USD MARKET<br>Total: 4840.95 USD - Comm.: 0.00171129 BTC",
          "opacity": 0.6,
          "showarrow": true,
          "x": 8,
          "xref": "x",
          "y": 8512,
          "yref": "y"
         },
         {
          "arrowcolor": "FireBrick",
          "arrowhead": 2,
          "arrowsize": 0.8,
          "arrowwidth": 4,
          "ax": 0,
          "ay": -15,
          "hoverlabel": {
           "bgcolor": "FireBrick"
          },
          "hovertext": "Step 8 [2018-05-15 13:00:00]<br>SELL 0.5168448 BTC @ 8742.6 USD MARKET<br>Total: 4518.57 USD - Comm.: 0.00155520 BTC",
          "opacity": 0.6,
          "showarrow": true,
          "x": 7,
          "xref": "x",
          "y": 8742.6,
          "yref": "y"
         },
         {
          "arrowcolor": "FireBrick",
          "arrowhead": 2,
          "arrowsize": 0.8,
          "arrowwidth": 4,
          "ax": 0,
          "ay": -15,
          "hoverlabel": {
           "bgcolor": "FireBrick"
          },
          "hovertext": "Step 7 [2018-05-15 12:00:00]<br>SELL 0.861408 BTC @ 8762.0 USD MARKET<br>Total: 7547.66 USD - Comm.: 0.00259200 BTC",
          "opacity": 0.6,
          "showarrow": true,
          "x": 6,
          "xref": "x",
          "y": 8762,
          "yref": "y"
         },
         {
          "arrowcolor": "DarkGreen",
          "arrowhead": 2,
          "arrowsize": 0.8,
          "arrowwidth": 4,
          "ax": 0,
          "ay": 15,
          "hoverlabel": {
           "bgcolor": "DarkGreen"
          },
          "hovertext": "Step 6 [2018-05-15 11:00:00]<br>BUY 0.14234398 BTC @ 8755.2 USD MARKET<br>Total: 1246.25 USD - Comm.: 3.75 USD",
          "opacity": 0.6,
          "showarrow": true,
          "x": 5,
          "xref": "x",
          "y": 8755.2,
          "yref": "y"
         },
         {
          "arrowcolor": "FireBrick",
          "arrowhead": 2,
          "arrowsize": 0.8,
          "arrowwidth": 4,
          "ax": 0,
          "ay": -15,
          "hoverlabel": {
           "bgcolor": "FireBrick"
          },
          "hovertext": "Step 5 [2018-05-15 10:00:00]<br>SELL 1.43568 BTC @ 8784.4 USD MARKET<br>Total: 12611.59 USD - Comm.: 0.00432000 BTC",
          "opacity": 0.6,
          "showarrow": true,
          "x": 4,
          "xref": "x",
          "y": 8784.4,
          "yref": "y"
         },
         {
          "arrowcolor": "DarkGreen",
          "arrowhead": 2,
          "arrowsize": 0.8,
          "arrowwidth": 4,
          "ax": 0,
          "ay": 15,
          "hoverlabel": {
           "bgcolor": "DarkGreen"
          },
          "hovertext": "Step 4 [2018-05-15 09:00:00]<br>BUY 0.28622776 BTC @ 8708.1 USD MARKET<br>Total: 2492.5 USD - Comm.: 7.50 USD",
          "opacity": 0.6,
          "showarrow": true,
          "x": 3,
          "xref": "x",
          "y": 8708.1,
          "yref": "y"
         },
         {
          "arrowcolor": "FireBrick",
          "arrowhead": 2,
          "arrowsize": 0.8,
          "arrowwidth": 4,
          "ax": 0,
          "ay": -15,
          "hoverlabel": {
           "bgcolor": "FireBrick"
          },
          "hovertext": "Step 3 [2018-05-15 08:00:00]<br>SELL 2.3928 BTC @ 8723.7 USD MARKET<br>Total: 20874.07 USD - Comm.: 0.00720000 BTC",
          "opacity": 0.6,
          "showarrow": true,
          "x": 2,
          "xref": "x",
          "y": 8723.7,
          "yref": "y"
         },
         {
          "arrowcolor": "FireBrick",
          "arrowhead": 2,
          "arrowsize": 0.8,
          "arrowwidth": 4,
          "ax": 0,
          "ay": -15,
          "hoverlabel": {
           "bgcolor": "FireBrick"
          },
          "hovertext": "Step 2 [2018-05-15 07:00:00]<br>SELL 3.988 BTC @ 8743.0 USD MARKET<br>Total: 34867.08 USD - Comm.: 0.01200000 BTC",
          "opacity": 0.6,
          "showarrow": true,
          "x": 1,
          "xref": "x",
          "y": 8743,
          "yref": "y"
         },
         {
          "arrowcolor": "DarkGreen",
          "arrowhead": 2,
          "arrowsize": 0.8,
          "arrowwidth": 4,
          "ax": 0,
          "ay": 15,
          "hoverlabel": {
           "bgcolor": "DarkGreen"
          },
          "hovertext": "Step 1 [2018-05-15 06:00:00]<br>BUY 0.5704314 BTC @ 8739.0 USD MARKET<br>Total: 4985.0 USD - Comm.: 15.00 USD",
          "opacity": 0.6,
          "showarrow": true,
          "x": 0,
          "xref": "x",
          "y": 8739,
          "yref": "y"
         }
        ],
        "margin": {
         "t": 50
        },
        "template": {
         "data": {
          "bar": [
           {
            "error_x": {
             "color": "#2a3f5f"
            },
            "error_y": {
             "color": "#2a3f5f"
            },
            "marker": {
             "line": {
              "color": "white",
              "width": 0.5
             }
            },
            "type": "bar"
           }
          ],
          "barpolar": [
           {
            "marker": {
             "line": {
              "color": "white",
              "width": 0.5
             }
            },
            "type": "barpolar"
           }
          ],
          "carpet": [
           {
            "aaxis": {
             "endlinecolor": "#2a3f5f",
             "gridcolor": "#C8D4E3",
             "linecolor": "#C8D4E3",
             "minorgridcolor": "#C8D4E3",
             "startlinecolor": "#2a3f5f"
            },
            "baxis": {
             "endlinecolor": "#2a3f5f",
             "gridcolor": "#C8D4E3",
             "linecolor": "#C8D4E3",
             "minorgridcolor": "#C8D4E3",
             "startlinecolor": "#2a3f5f"
            },
            "type": "carpet"
           }
          ],
          "choropleth": [
           {
            "colorbar": {
             "outlinewidth": 0,
             "ticks": ""
            },
            "type": "choropleth"
           }
          ],
          "contour": [
           {
            "colorbar": {
             "outlinewidth": 0,
             "ticks": ""
            },
            "colorscale": [
             [
              0,
              "#0d0887"
             ],
             [
              0.1111111111111111,
              "#46039f"
             ],
             [
              0.2222222222222222,
              "#7201a8"
             ],
             [
              0.3333333333333333,
              "#9c179e"
             ],
             [
              0.4444444444444444,
              "#bd3786"
             ],
             [
              0.5555555555555556,
              "#d8576b"
             ],
             [
              0.6666666666666666,
              "#ed7953"
             ],
             [
              0.7777777777777778,
              "#fb9f3a"
             ],
             [
              0.8888888888888888,
              "#fdca26"
             ],
             [
              1,
              "#f0f921"
             ]
            ],
            "type": "contour"
           }
          ],
          "contourcarpet": [
           {
            "colorbar": {
             "outlinewidth": 0,
             "ticks": ""
            },
            "type": "contourcarpet"
           }
          ],
          "heatmap": [
           {
            "colorbar": {
             "outlinewidth": 0,
             "ticks": ""
            },
            "colorscale": [
             [
              0,
              "#0d0887"
             ],
             [
              0.1111111111111111,
              "#46039f"
             ],
             [
              0.2222222222222222,
              "#7201a8"
             ],
             [
              0.3333333333333333,
              "#9c179e"
             ],
             [
              0.4444444444444444,
              "#bd3786"
             ],
             [
              0.5555555555555556,
              "#d8576b"
             ],
             [
              0.6666666666666666,
              "#ed7953"
             ],
             [
              0.7777777777777778,
              "#fb9f3a"
             ],
             [
              0.8888888888888888,
              "#fdca26"
             ],
             [
              1,
              "#f0f921"
             ]
            ],
            "type": "heatmap"
           }
          ],
          "heatmapgl": [
           {
            "colorbar": {
             "outlinewidth": 0,
             "ticks": ""
            },
            "colorscale": [
             [
              0,
              "#0d0887"
             ],
             [
              0.1111111111111111,
              "#46039f"
             ],
             [
              0.2222222222222222,
              "#7201a8"
             ],
             [
              0.3333333333333333,
              "#9c179e"
             ],
             [
              0.4444444444444444,
              "#bd3786"
             ],
             [
              0.5555555555555556,
              "#d8576b"
             ],
             [
              0.6666666666666666,
              "#ed7953"
             ],
             [
              0.7777777777777778,
              "#fb9f3a"
             ],
             [
              0.8888888888888888,
              "#fdca26"
             ],
             [
              1,
              "#f0f921"
             ]
            ],
            "type": "heatmapgl"
           }
          ],
          "histogram": [
           {
            "marker": {
             "colorbar": {
              "outlinewidth": 0,
              "ticks": ""
             }
            },
            "type": "histogram"
           }
          ],
          "histogram2d": [
           {
            "colorbar": {
             "outlinewidth": 0,
             "ticks": ""
            },
            "colorscale": [
             [
              0,
              "#0d0887"
             ],
             [
              0.1111111111111111,
              "#46039f"
             ],
             [
              0.2222222222222222,
              "#7201a8"
             ],
             [
              0.3333333333333333,
              "#9c179e"
             ],
             [
              0.4444444444444444,
              "#bd3786"
             ],
             [
              0.5555555555555556,
              "#d8576b"
             ],
             [
              0.6666666666666666,
              "#ed7953"
             ],
             [
              0.7777777777777778,
              "#fb9f3a"
             ],
             [
              0.8888888888888888,
              "#fdca26"
             ],
             [
              1,
              "#f0f921"
             ]
            ],
            "type": "histogram2d"
           }
          ],
          "histogram2dcontour": [
           {
            "colorbar": {
             "outlinewidth": 0,
             "ticks": ""
            },
            "colorscale": [
             [
              0,
              "#0d0887"
             ],
             [
              0.1111111111111111,
              "#46039f"
             ],
             [
              0.2222222222222222,
              "#7201a8"
             ],
             [
              0.3333333333333333,
              "#9c179e"
             ],
             [
              0.4444444444444444,
              "#bd3786"
             ],
             [
              0.5555555555555556,
              "#d8576b"
             ],
             [
              0.6666666666666666,
              "#ed7953"
             ],
             [
              0.7777777777777778,
              "#fb9f3a"
             ],
             [
              0.8888888888888888,
              "#fdca26"
             ],
             [
              1,
              "#f0f921"
             ]
            ],
            "type": "histogram2dcontour"
           }
          ],
          "mesh3d": [
           {
            "colorbar": {
             "outlinewidth": 0,
             "ticks": ""
            },
            "type": "mesh3d"
           }
          ],
          "parcoords": [
           {
            "line": {
             "colorbar": {
              "outlinewidth": 0,
              "ticks": ""
             }
            },
            "type": "parcoords"
           }
          ],
          "pie": [
           {
            "automargin": true,
            "type": "pie"
           }
          ],
          "scatter": [
           {
            "marker": {
             "colorbar": {
              "outlinewidth": 0,
              "ticks": ""
             }
            },
            "type": "scatter"
           }
          ],
          "scatter3d": [
           {
            "line": {
             "colorbar": {
              "outlinewidth": 0,
              "ticks": ""
             }
            },
            "marker": {
             "colorbar": {
              "outlinewidth": 0,
              "ticks": ""
             }
            },
            "type": "scatter3d"
           }
          ],
          "scattercarpet": [
           {
            "marker": {
             "colorbar": {
              "outlinewidth": 0,
              "ticks": ""
             }
            },
            "type": "scattercarpet"
           }
          ],
          "scattergeo": [
           {
            "marker": {
             "colorbar": {
              "outlinewidth": 0,
              "ticks": ""
             }
            },
            "type": "scattergeo"
           }
          ],
          "scattergl": [
           {
            "marker": {
             "colorbar": {
              "outlinewidth": 0,
              "ticks": ""
             }
            },
            "type": "scattergl"
           }
          ],
          "scattermapbox": [
           {
            "marker": {
             "colorbar": {
              "outlinewidth": 0,
              "ticks": ""
             }
            },
            "type": "scattermapbox"
           }
          ],
          "scatterpolar": [
           {
            "marker": {
             "colorbar": {
              "outlinewidth": 0,
              "ticks": ""
             }
            },
            "type": "scatterpolar"
           }
          ],
          "scatterpolargl": [
           {
            "marker": {
             "colorbar": {
              "outlinewidth": 0,
              "ticks": ""
             }
            },
            "type": "scatterpolargl"
           }
          ],
          "scatterternary": [
           {
            "marker": {
             "colorbar": {
              "outlinewidth": 0,
              "ticks": ""
             }
            },
            "type": "scatterternary"
           }
          ],
          "surface": [
           {
            "colorbar": {
             "outlinewidth": 0,
             "ticks": ""
            },
            "colorscale": [
             [
              0,
              "#0d0887"
             ],
             [
              0.1111111111111111,
              "#46039f"
             ],
             [
              0.2222222222222222,
              "#7201a8"
             ],
             [
              0.3333333333333333,
              "#9c179e"
             ],
             [
              0.4444444444444444,
              "#bd3786"
             ],
             [
              0.5555555555555556,
              "#d8576b"
             ],
             [
              0.6666666666666666,
              "#ed7953"
             ],
             [
              0.7777777777777778,
              "#fb9f3a"
             ],
             [
              0.8888888888888888,
              "#fdca26"
             ],
             [
              1,
              "#f0f921"
             ]
            ],
            "type": "surface"
           }
          ],
          "table": [
           {
            "cells": {
             "fill": {
              "color": "#EBF0F8"
             },
             "line": {
              "color": "white"
             }
            },
            "header": {
             "fill": {
              "color": "#C8D4E3"
             },
             "line": {
              "color": "white"
             }
            },
            "type": "table"
           }
          ]
         },
         "layout": {
          "annotationdefaults": {
           "arrowcolor": "#2a3f5f",
           "arrowhead": 0,
           "arrowwidth": 1
          },
          "autotypenumbers": "strict",
          "coloraxis": {
           "colorbar": {
            "outlinewidth": 0,
            "ticks": ""
           }
          },
          "colorscale": {
           "diverging": [
            [
             0,
             "#8e0152"
            ],
            [
             0.1,
             "#c51b7d"
            ],
            [
             0.2,
             "#de77ae"
            ],
            [
             0.3,
             "#f1b6da"
            ],
            [
             0.4,
             "#fde0ef"
            ],
            [
             0.5,
             "#f7f7f7"
            ],
            [
             0.6,
             "#e6f5d0"
            ],
            [
             0.7,
             "#b8e186"
            ],
            [
             0.8,
             "#7fbc41"
            ],
            [
             0.9,
             "#4d9221"
            ],
            [
             1,
             "#276419"
            ]
           ],
           "sequential": [
            [
             0,
             "#0d0887"
            ],
            [
             0.1111111111111111,
             "#46039f"
            ],
            [
             0.2222222222222222,
             "#7201a8"
            ],
            [
             0.3333333333333333,
             "#9c179e"
            ],
            [
             0.4444444444444444,
             "#bd3786"
            ],
            [
             0.5555555555555556,
             "#d8576b"
            ],
            [
             0.6666666666666666,
             "#ed7953"
            ],
            [
             0.7777777777777778,
             "#fb9f3a"
            ],
            [
             0.8888888888888888,
             "#fdca26"
            ],
            [
             1,
             "#f0f921"
            ]
           ],
           "sequentialminus": [
            [
             0,
             "#0d0887"
            ],
            [
             0.1111111111111111,
             "#46039f"
            ],
            [
             0.2222222222222222,
             "#7201a8"
            ],
            [
             0.3333333333333333,
             "#9c179e"
            ],
            [
             0.4444444444444444,
             "#bd3786"
            ],
            [
             0.5555555555555556,
             "#d8576b"
            ],
            [
             0.6666666666666666,
             "#ed7953"
            ],
            [
             0.7777777777777778,
             "#fb9f3a"
            ],
            [
             0.8888888888888888,
             "#fdca26"
            ],
            [
             1,
             "#f0f921"
            ]
           ]
          },
          "colorway": [
           "#636efa",
           "#EF553B",
           "#00cc96",
           "#ab63fa",
           "#FFA15A",
           "#19d3f3",
           "#FF6692",
           "#B6E880",
           "#FF97FF",
           "#FECB52"
          ],
          "font": {
           "color": "#2a3f5f"
          },
          "geo": {
           "bgcolor": "white",
           "lakecolor": "white",
           "landcolor": "white",
           "showlakes": true,
           "showland": true,
           "subunitcolor": "#C8D4E3"
          },
          "hoverlabel": {
           "align": "left"
          },
          "hovermode": "closest",
          "mapbox": {
           "style": "light"
          },
          "paper_bgcolor": "white",
          "plot_bgcolor": "white",
          "polar": {
           "angularaxis": {
            "gridcolor": "#EBF0F8",
            "linecolor": "#EBF0F8",
            "ticks": ""
           },
           "bgcolor": "white",
           "radialaxis": {
            "gridcolor": "#EBF0F8",
            "linecolor": "#EBF0F8",
            "ticks": ""
           }
          },
          "scene": {
           "xaxis": {
            "backgroundcolor": "white",
            "gridcolor": "#DFE8F3",
            "gridwidth": 2,
            "linecolor": "#EBF0F8",
            "showbackground": true,
            "ticks": "",
            "zerolinecolor": "#EBF0F8"
           },
           "yaxis": {
            "backgroundcolor": "white",
            "gridcolor": "#DFE8F3",
            "gridwidth": 2,
            "linecolor": "#EBF0F8",
            "showbackground": true,
            "ticks": "",
            "zerolinecolor": "#EBF0F8"
           },
           "zaxis": {
            "backgroundcolor": "white",
            "gridcolor": "#DFE8F3",
            "gridwidth": 2,
            "linecolor": "#EBF0F8",
            "showbackground": true,
            "ticks": "",
            "zerolinecolor": "#EBF0F8"
           }
          },
          "shapedefaults": {
           "line": {
            "color": "#2a3f5f"
           }
          },
          "ternary": {
           "aaxis": {
            "gridcolor": "#DFE8F3",
            "linecolor": "#A2B1C6",
            "ticks": ""
           },
           "baxis": {
            "gridcolor": "#DFE8F3",
            "linecolor": "#A2B1C6",
            "ticks": ""
           },
           "bgcolor": "white",
           "caxis": {
            "gridcolor": "#DFE8F3",
            "linecolor": "#A2B1C6",
            "ticks": ""
           }
          },
          "title": {
           "x": 0.05
          },
          "xaxis": {
           "automargin": true,
           "gridcolor": "#EBF0F8",
           "linecolor": "#EBF0F8",
           "ticks": "",
           "title": {
            "standoff": 15
           },
           "zerolinecolor": "#EBF0F8",
           "zerolinewidth": 2
          },
          "yaxis": {
           "automargin": true,
           "gridcolor": "#EBF0F8",
           "linecolor": "#EBF0F8",
           "ticks": "",
           "title": {
            "standoff": 15
           },
           "zerolinecolor": "#EBF0F8",
           "zerolinewidth": 2
          }
         }
        },
        "title": {
         "text": "[2021-02-10 15:36:26 PM] Episode: 200/200 Step: 51/200"
        },
        "xaxis": {
         "anchor": "y",
         "domain": [
          0,
          1
         ],
         "gridcolor": "Gainsboro",
         "linecolor": "Grey",
         "matches": "x4",
         "rangeslider": {
          "visible": false
         },
         "showticklabels": false,
         "title": {
          "font": {
           "size": 12
          },
          "standoff": 7,
          "text": "Price"
         }
        },
        "xaxis2": {
         "anchor": "y2",
         "domain": [
          0,
          1
         ],
         "gridcolor": "Gainsboro",
         "linecolor": "Grey",
         "matches": "x4",
         "showticklabels": false,
         "title": {
          "font": {
           "size": 12
          },
          "standoff": 7,
          "text": "Volume"
         }
        },
        "xaxis3": {
         "anchor": "y3",
         "domain": [
          0,
          1
         ],
         "gridcolor": "Gainsboro",
         "linecolor": "Grey",
         "matches": "x4",
         "showticklabels": false,
         "title": {
          "font": {
           "size": 12
          },
          "standoff": 7,
          "text": "Performance"
         }
        },
        "xaxis4": {
         "anchor": "y4",
         "domain": [
          0,
          1
         ],
         "gridcolor": "Gainsboro",
         "linecolor": "Grey",
         "title": {
          "font": {
           "size": 12
          },
          "standoff": 7,
          "text": "Net Worth"
         }
        },
        "yaxis": {
         "anchor": "x",
         "domain": [
          0.49950000000000006,
          1
         ],
         "gridcolor": "Gainsboro",
         "linecolor": "Grey"
        },
        "yaxis2": {
         "anchor": "x2",
         "domain": [
          0.333,
          0.46950000000000003
         ],
         "gridcolor": "Gainsboro",
         "linecolor": "Grey"
        },
        "yaxis3": {
         "anchor": "x3",
         "domain": [
          0.1665,
          0.30300000000000005
         ],
         "gridcolor": "Gainsboro",
         "linecolor": "Grey"
        },
        "yaxis4": {
         "anchor": "x4",
         "domain": [
          0,
          0.1365
         ],
         "gridcolor": "Gainsboro",
         "linecolor": "Grey"
        }
       }
      },
      "text/html": [
       "<div>                            <div id=\"c3ce26f5-f509-4016-a311-c7f6fb3a0c40\" class=\"plotly-graph-div\" style=\"height:525px; width:100%;\"></div>            <script type=\"text/javascript\">                require([\"plotly\"], function(Plotly) {                    window.PLOTLYENV=window.PLOTLYENV || {};                                    if (document.getElementById(\"c3ce26f5-f509-4016-a311-c7f6fb3a0c40\")) {                    Plotly.newPlot(                        \"c3ce26f5-f509-4016-a311-c7f6fb3a0c40\",                        [{\"close\": [8739.0, 8743.0, 8723.7, 8708.1, 8784.4, 8755.2, 8762.0, 8742.6, 8512.0, 8520.8, 8532.1, 8553.8, 8516.5, 8551.2, 8516.7, 8476.0, 8459.9, 8467.5, 8454.2, 8327.9, 8124.4, 8152.0, 8205.3, 8197.7, 8223.9, 8221.1, 8194.2, 8225.1, 8357.2, 8358.5, 8348.6, 8158.1, 8205.9, 8276.0, 8255.2, 8286.4, 8266.2, 8227.4, 8290.0, 8271.9, 8278.1, 8336.1, 8346.07, 8368.7, 8373.5, 8355.0, 8319.5, 8352.2, 8337.8, 8246.7, 8270.1], \"high\": [8793.0, 8754.8, 8743.1, 8737.8, 8855.7, 8804.9, 8789.1, 8798.1, 8742.7, 8544.0, 8580.0, 8578.4, 8553.8, 8560.5, 8558.0, 8540.9, 8552.0, 8498.4, 8492.7, 8462.1, 8328.7, 8217.0, 8236.87, 8221.3, 8270.8, 8241.4, 8241.9, 8258.5, 8420.0, 8426.3, 8380.0, 8372.8, 8212.0, 8370.2, 8318.5, 8349.3, 8328.0, 8375.0, 8290.8, 8314.0, 8366.9, 8357.3, 8396.8, 8376.1, 8394.0, 8482.2, 8373.5, 8374.8, 8364.3, 8345.7, 8280.6], \"low\": [8714.9, 8719.3, 8653.2, 8701.2, 8695.8, 8734.8, 8743.0, 8633.0, 8480.2, 8472.5, 8485.7, 8499.0, 8438.1, 8436.8, 8479.3, 8476.0, 8415.0, 8451.0, 8420.0, 8282.0, 8100.0, 8124.4, 8152.0, 8152.0, 8156.1, 8197.33, 8177.4, 8194.2, 8225.1, 8356.8, 8342.2, 8121.7, 8158.07, 8205.8, 8192.6, 8240.9, 8266.1, 8227.01, 8222.0, 8252.2, 8271.9, 8274.0, 8319.2, 8311.3, 8354.9, 8320.9, 8316.4, 8274.2, 8333.1, 8190.4, 8202.5], \"name\": \"Price\", \"open\": [8723.8, 8739.0, 8743.0, 8723.7, 8708.1, 8784.4, 8755.2, 8762.0, 8742.6, 8512.0, 8520.8, 8532.1, 8553.8, 8516.5, 8551.2, 8516.7, 8476.0, 8459.9, 8467.5, 8454.2, 8327.9, 8124.4, 8152.0, 8205.3, 8197.7, 8223.9, 8221.1, 8194.2, 8225.1, 8357.2, 8358.5, 8348.6, 8158.1, 8205.9, 8276.0, 8255.2, 8286.4, 8266.2, 8227.4, 8290.0, 8271.9, 8278.1, 8336.1, 8346.07, 8368.7, 8373.5, 8355.0, 8319.5, 8352.2, 8337.8, 8246.7], \"showlegend\": false, \"type\": \"candlestick\", \"uid\": \"be5690eb-1fb1-447f-bbe2-c87085671b48\", \"xaxis\": \"x\", \"yaxis\": \"y\"}, {\"marker\": {\"color\": \"DodgerBlue\"}, \"name\": \"Volume\", \"showlegend\": false, \"type\": \"bar\", \"uid\": \"5ce9108d-9052-4658-8ea9-4c5a42f7f751\", \"xaxis\": \"x2\", \"y\": [8988053.53, 2288904.12, 8891773.14, 2054868.28, 17309722.58, 5755257.93, 4406994.79, 16375559.14, 30884779.63, 13585970.87, 10472251.96, 8155202.96, 23290913.96, 12093565.11, 4843869.92, 3853166.53, 10032951.79, 3405881.75, 4240758.74, 16395261.35, 35444924.51, 8483096.75, 5883397.96, 8490665.11, 12865221.51, 4455698.32, 8168354.32, 5245383.3, 25717067.45, 10531322.67, 5479810.58, 24269108.57, 5457501.18, 15802905.65, 15226854.34, 22453283.24, 2340358.52, 6197892.42, 4343002.13, 4066149.47, 6783076.23, 6912962.07, 7878424.24, 5713233.04, 4875954.44, 18714875.92, 2581490.9, 7487354.53, 2795240.16, 15044687.38, 8332633.39], \"yaxis\": \"y2\"}, {\"mode\": \"lines\", \"name\": \"bitfinex:/USD-BTC\", \"type\": \"scatter\", \"uid\": \"3e0fa295-9351-4c5a-b276-05cb885bc559\", \"xaxis\": \"x3\", \"y\": [8739.0, 8743.0, 8723.7, 8708.1, 8784.4, 8755.2, 8762.0, 8742.6, 8512.0, 8520.8, 8532.1, 8553.8, 8516.5, 8551.2, 8516.7, 8476.0, 8459.9, 8467.5, 8454.2, 8327.9, 8124.4, 8152.0, 8205.3, 8197.7, 8223.9, 8221.1, 8194.2, 8225.1, 8357.2, 8358.5, 8348.6, 8158.1, 8205.9, 8276.0, 8255.2, 8286.4, 8266.2, 8227.4, 8290.0, 8271.9, 8278.1, 8336.1, 8346.07, 8368.7, 8373.5, 8355.0, 8319.5, 8352.2, 8337.8, 8246.7, 8270.1], \"yaxis\": \"y3\"}, {\"mode\": \"lines\", \"name\": \"bitfinex:/USD:/free\", \"type\": \"scatter\", \"uid\": \"f151d270-20bc-4f9f-bdb2-6c20abb873e6\", \"xaxis\": \"x3\", \"y\": [10000.0, 5000.0, 5000.0, 5000.0, 2500.0, 2500.0, 1250.0, 1250.0, 1250.0, 9728.01, 9728.01, 4864.0, 4864.0, 2432.0, 2432.0, 2432.0, 2432.0, 1216.0, 1216.0, 1216.0, 8299.05, 5310.31, 2655.15, 2655.15, 1327.57, 1327.57, 1327.57, 663.79, 331.9, 4574.75, 7953.88, 7953.88, 3976.94, 1988.47, 1988.47, 1988.47, 1988.47, 1988.47, 1988.47, 1590.78, 1590.78, 1590.78, 5630.15, 5630.15, 6977.31, 8994.23, 8994.23, 8994.23, 8994.23, 8994.23, 8994.23], \"yaxis\": \"y3\"}, {\"mode\": \"lines\", \"name\": \"bitfinex:/USD:/locked\", \"type\": \"scatter\", \"uid\": \"44aadd7f-fc29-4cef-a13e-32b972b5c765\", \"xaxis\": \"x3\", \"y\": [0.0, 0.0, 34867.08, 55741.15, 55741.15, 68352.74, 68352.74, 75900.4, 80418.97, 83718.51, 84379.1, 84379.1, 85440.14, 85440.14, 85758.35, 86011.89, 86213.76, 86213.76, 86375.09, 86503.95, 34608.26, 9373.61, 1825.95, 18667.91, 18667.91, 32172.02, 59171.04, 59171.04, 59171.04, 46334.71, 53197.27, 56624.49, 55963.9, 55963.9, 57995.67, 58401.0, 59051.98, 59441.62, 59557.96, 59557.96, 59651.54, 59651.54, 59651.54, 59651.54, 57793.75, 57884.69, 57884.69, 57884.69, 57884.69, 57884.69, 57884.69], \"yaxis\": \"y3\"}, {\"mode\": \"lines\", \"name\": \"bitfinex:/USD:/total\", \"type\": \"scatter\", \"uid\": \"18c61f0d-5270-439e-80cd-523e136dd11a\", \"xaxis\": \"x3\", \"y\": [10000.0, 5000.0, 39867.08, 60741.15, 58241.15, 70852.74, 69602.74, 77150.4, 81668.97, 93446.52, 94107.11, 89243.1, 90304.14, 87872.14, 88190.35, 88443.89, 88645.76, 87429.76, 87591.09, 87719.95, 42907.31, 14683.92, 4481.1, 21323.06, 19995.48, 33499.59, 60498.61, 59834.83, 59502.94, 50909.46, 61151.15, 64578.37, 59940.84, 57952.37, 59984.14, 60389.47, 61040.45, 61430.09, 61546.43, 61148.74, 61242.32, 61242.32, 65281.69, 65281.69, 64771.06, 66878.92, 66878.92, 66878.92, 66878.92, 66878.92, 66878.92], \"yaxis\": \"y3\"}, {\"mode\": \"lines\", \"name\": \"bitfinex:/BTC:/free\", \"type\": \"scatter\", \"uid\": \"89e35d7a-6159-4e93-9f8a-fcf29279fad7\", \"xaxis\": \"x3\", \"y\": [10.0, 10.0, 6.0, 3.6, 3.6, 2.16, 2.16, 1.296, 0.7776, 0.3888, 0.31104, 0.31104, 0.186624, 0.186624, 0.1492992, 0.11943936, 0.09555149, 0.09555149, 0.07644119, 0.06115295, 6.27393106, 9.37064589, 10.2937347, 8.23498776, 8.23498776, 6.58799021, 3.2939951, 3.2939951, 3.2939951, 1.64699755, 0.82349877, 0.41174938, 0.49248019, 0.49248019, 0.2462401, 0.19699208, 0.11819525, 0.07091715, 0.05673372, 0.05673372, 0.04538698, 0.04538698, 0.04538698, 0.04538698, 0.02723219, 0.01633931, 0.01633931, 0.01633931, 0.01633931, 0.01633931, 0.01633931], \"yaxis\": \"y3\"}, {\"mode\": \"lines\", \"name\": \"bitfinex:/BTC:/locked\", \"type\": \"scatter\", \"uid\": \"9f6eac37-950d-42bd-960c-9739c8f15114\", \"xaxis\": \"x3\", \"y\": [0.0, 0.5704314, 0.5704314, 0.5704314, 0.85665916, 0.85665916, 0.99900314, 0.99900314, 0.99900314, 0.0, 0.0, 0.56837355, 0.56837355, 0.85307971, 0.85307971, 0.85307971, 0.85307971, 0.99638519, 0.99638519, 0.99638519, 0.14330548, 0.50921545, 0.83394435, 0.83394435, 0.99540427, 0.99540427, 0.99540427, 1.07616749, 1.11639679, 3.7756648, 3.37017268, 3.37017268, 3.85619393, 4.09778839, 4.09778839, 4.09778839, 4.09778839, 4.09778839, 4.09778839, 4.1456171, 4.1456171, 4.1456171, 3.65959585, 3.65959585, 3.73750883, 3.49591437, 3.49591437, 3.49591437, 3.49591437, 3.49591437, 3.49591437], \"yaxis\": \"y3\"}, {\"mode\": \"lines\", \"name\": \"bitfinex:/BTC:/total\", \"type\": \"scatter\", \"uid\": \"84533d1b-dfe4-4b7c-9a54-d1bca7484577\", \"xaxis\": \"x3\", \"y\": [10.0, 10.5704314, 6.5704314, 4.1704314, 4.45665916, 3.01665916, 3.15900314, 2.29500314, 1.77660314, 0.3888, 0.31104, 0.87941355, 0.75499755, 1.03970371, 1.00237891, 0.97251907, 0.9486312, 1.09193668, 1.07282638, 1.05753814, 6.41723654, 9.87986134, 11.12767905, 9.06893211, 9.23039203, 7.58339448, 4.28939937, 4.37016259, 4.41039189, 5.42266235, 4.19367145, 3.78192206, 4.34867412, 4.59026858, 4.34402849, 4.29478047, 4.21598364, 4.16870554, 4.15452211, 4.20235082, 4.19100408, 4.19100408, 3.70498283, 3.70498283, 3.76474102, 3.51225368, 3.51225368, 3.51225368, 3.51225368, 3.51225368, 3.51225368], \"yaxis\": \"y3\"}, {\"mode\": \"lines\", \"name\": \"bitfinex:/BTC:/worth\", \"type\": \"scatter\", \"uid\": \"1c8adcbc-2465-4e55-9c69-d7fc2291196b\", \"xaxis\": \"x3\", \"y\": [87390.0, 92417.2817302, 57318.47240418001, 36316.533674340004, 39149.076725104, 26411.454277632005, 27679.18551268, 20064.294451764, 15122.445927679999, 3312.8870399999996, 2653.824384, 7522.32762399, 6429.936634575, 8890.714364952, 8536.960462797, 8243.071637320001, 8025.325088879999, 9245.973837900001, 9069.888781796, 8807.071876105998, 52136.196545576, 80540.62964368, 91305.94490896499, 74344.384758147, 75909.82101551701, 62343.844359528004, 35148.196317654, 35945.024319009, 36858.527103108, 45325.323252475006, 35011.28546747, 30853.298357686, 35684.784961307996, 37989.06276808, 35860.82399064801, 35588.268886608, 34850.16396496801, 34297.607959796005, 34440.9882919, 34761.425747958005, 34693.550874648, 34936.629111288, 30922.0460479781, 31005.889809421, 31524.05893097, 29344.8794964, 29220.19449076, 29335.045186096006, 29284.468733104, 28964.502422856003, 29046.689158968], \"yaxis\": \"y3\"}, {\"mode\": \"lines\", \"name\": \"net_worth\", \"type\": \"scatter\", \"uid\": \"2dc2075a-de83-4e22-9001-14c4f33b0696\", \"xaxis\": \"x3\", \"y\": [97390.0, 97417.2817302, 97185.55240418001, 97057.68367434, 97390.226725104, 97264.194277632, 97281.92551268, 97214.694451764, 96791.41592768, 96759.40704, 96760.93438400001, 96765.42762399, 96734.076634575, 96762.854364952, 96727.310462797, 96686.96163732, 96671.08508887999, 96675.7338379, 96660.978781796, 96527.021876106, 95043.506545576, 95224.54964368, 95787.04490896499, 95667.444758147, 95905.301015517, 95843.43435952801, 95646.806317654, 95779.854319009, 96361.467103108, 96234.783252475, 96162.43546747, 95431.668357686, 95625.624961308, 95941.43276808, 95844.96399064802, 95977.738886608, 95890.61396496801, 95727.697959796, 95987.4182919, 95910.165747958, 95935.870874648, 96178.949111288, 96203.7360479781, 96287.579809421, 96295.11893097, 96223.7994964, 96099.11449076, 96213.965186096, 96163.388733104, 95843.422422856, 95925.609158968], \"yaxis\": \"y3\"}, {\"marker\": {\"color\": \"DarkGreen\"}, \"mode\": \"lines\", \"name\": \"Net Worth\", \"type\": \"scatter\", \"uid\": \"d9691fd2-f666-4ad6-9d95-37178101d890\", \"xaxis\": \"x4\", \"y\": [97390.0, 97417.2817302, 97185.55240418001, 97057.68367434, 97390.226725104, 97264.194277632, 97281.92551268, 97214.694451764, 96791.41592768, 96759.40704, 96760.93438400001, 96765.42762399, 96734.076634575, 96762.854364952, 96727.310462797, 96686.96163732, 96671.08508887999, 96675.7338379, 96660.978781796, 96527.021876106, 95043.506545576, 95224.54964368, 95787.04490896499, 95667.444758147, 95905.301015517, 95843.43435952801, 95646.806317654, 95779.854319009, 96361.467103108, 96234.783252475, 96162.43546747, 95431.668357686, 95625.624961308, 95941.43276808, 95844.96399064802, 95977.738886608, 95890.61396496801, 95727.697959796, 95987.4182919, 95910.165747958, 95935.870874648, 96178.949111288, 96203.7360479781, 96287.579809421, 96295.11893097, 96223.7994964, 96099.11449076, 96213.965186096, 96163.388733104, 95843.422422856, 95925.609158968], \"yaxis\": \"y4\"}],                        {\"annotations\": [{\"arrowcolor\": \"FireBrick\", \"arrowhead\": 2, \"arrowsize\": 0.8, \"arrowwidth\": 4, \"ax\": 0, \"ay\": -15, \"hoverlabel\": {\"bgcolor\": \"FireBrick\"}, \"hovertext\": \"Step 45 [2018-05-17 02:00:00]<br>SELL 0.0108602 BTC @ 8373.5 USD MARKET<br>Total: 90.94 USD - Comm.: 0.00003268 BTC\", \"opacity\": 0.6, \"showarrow\": true, \"x\": 44, \"xref\": \"x\", \"y\": 8373.5, \"yref\": \"y\"}, {\"arrowcolor\": \"FireBrick\", \"arrowhead\": 2, \"arrowsize\": 0.8, \"arrowwidth\": 4, \"ax\": 0, \"ay\": -15, \"hoverlabel\": {\"bgcolor\": \"FireBrick\"}, \"hovertext\": \"Step 45 [2018-05-17 02:00:00]<br>SELL 0.24086968 BTC @ 8373.5 USD MARKET<br>Total: 2016.92 USD - Comm.: 0.00072478 BTC\", \"opacity\": 0.6, \"showarrow\": true, \"x\": 44, \"xref\": \"x\", \"y\": 8373.5, \"yref\": \"y\"}, {\"arrowcolor\": \"FireBrick\", \"arrowhead\": 2, \"arrowsize\": 0.8, \"arrowwidth\": 4, \"ax\": 0, \"ay\": -15, \"hoverlabel\": {\"bgcolor\": \"FireBrick\"}, \"hovertext\": \"Step 44 [2018-05-17 01:00:00]<br>SELL 0.01810033 BTC @ 8368.7 USD MARKET<br>Total: 151.48 USD - Comm.: 0.00005446 BTC\", \"opacity\": 0.6, \"showarrow\": true, \"x\": 43, \"xref\": \"x\", \"y\": 8368.7, \"yref\": \"y\"}, {\"arrowcolor\": \"DarkGreen\", \"arrowhead\": 2, \"arrowsize\": 0.8, \"arrowwidth\": 4, \"ax\": 0, \"ay\": 15, \"hoverlabel\": {\"bgcolor\": \"DarkGreen\"}, \"hovertext\": \"Step 44 [2018-05-17 01:00:00]<br>BUY 0.2393729 BTC @ 8368.7 USD MARKET<br>Total: 2003.24 USD - Comm.: 6.03 USD\", \"opacity\": 0.6, \"showarrow\": true, \"x\": 43, \"xref\": \"x\", \"y\": 8368.7, \"yref\": \"y\"}, {\"arrowcolor\": \"FireBrick\", \"arrowhead\": 2, \"arrowsize\": 0.8, \"arrowwidth\": 4, \"ax\": 0, \"ay\": -15, \"hoverlabel\": {\"bgcolor\": \"FireBrick\"}, \"hovertext\": \"Step 44 [2018-05-17 01:00:00]<br>SELL 0.16097554 BTC @ 8368.7 USD MARKET<br>Total: 1347.16 USD - Comm.: 0.00048438 BTC\", \"opacity\": 0.6, \"showarrow\": true, \"x\": 43, \"xref\": \"x\", \"y\": 8368.7, \"yref\": \"y\"}, {\"arrowcolor\": \"FireBrick\", \"arrowhead\": 2, \"arrowsize\": 0.8, \"arrowwidth\": 4, \"ax\": 0, \"ay\": -15, \"hoverlabel\": {\"bgcolor\": \"FireBrick\"}, \"hovertext\": \"Step 42 [2018-05-16 23:00:00]<br>SELL 0.48456319 BTC @ 8336.1 USD MARKET<br>Total: 4039.37 USD - Comm.: 0.00145806 BTC\", \"opacity\": 0.6, \"showarrow\": true, \"x\": 41, \"xref\": \"x\", \"y\": 8336.1, \"yref\": \"y\"}, {\"arrowcolor\": \"FireBrick\", \"arrowhead\": 2, \"arrowsize\": 0.8, \"arrowwidth\": 4, \"ax\": 0, \"ay\": -15, \"hoverlabel\": {\"bgcolor\": \"FireBrick\"}, \"hovertext\": \"Step 40 [2018-05-16 21:00:00]<br>SELL 0.0113127 BTC @ 8271.9 USD MARKET<br>Total: 93.58 USD - Comm.: 0.00003404 BTC\", \"opacity\": 0.6, \"showarrow\": true, \"x\": 39, \"xref\": \"x\", \"y\": 8271.9, \"yref\": \"y\"}, {\"arrowcolor\": \"DarkGreen\", \"arrowhead\": 2, \"arrowsize\": 0.8, \"arrowwidth\": 4, \"ax\": 0, \"ay\": 15, \"hoverlabel\": {\"bgcolor\": \"DarkGreen\"}, \"hovertext\": \"Step 39 [2018-05-16 20:00:00]<br>BUY 0.04782871 BTC @ 8290.0 USD MARKET<br>Total: 396.5 USD - Comm.: 1.19 USD\", \"opacity\": 0.6, \"showarrow\": true, \"x\": 38, \"xref\": \"x\", \"y\": 8290.0, \"yref\": \"y\"}, {\"arrowcolor\": \"FireBrick\", \"arrowhead\": 2, \"arrowsize\": 0.8, \"arrowwidth\": 4, \"ax\": 0, \"ay\": -15, \"hoverlabel\": {\"bgcolor\": \"FireBrick\"}, \"hovertext\": \"Step 38 [2018-05-16 19:00:00]<br>SELL 0.01414088 BTC @ 8227.4 USD MARKET<br>Total: 116.34 USD - Comm.: 0.00004255 BTC\", \"opacity\": 0.6, \"showarrow\": true, \"x\": 37, \"xref\": \"x\", \"y\": 8227.4, \"yref\": \"y\"}, {\"arrowcolor\": \"FireBrick\", \"arrowhead\": 2, \"arrowsize\": 0.8, \"arrowwidth\": 4, \"ax\": 0, \"ay\": -15, \"hoverlabel\": {\"bgcolor\": \"FireBrick\"}, \"hovertext\": \"Step 37 [2018-05-16 18:00:00]<br>SELL 0.04713627 BTC @ 8266.2 USD MARKET<br>Total: 389.64 USD - Comm.: 0.00014183 BTC\", \"opacity\": 0.6, \"showarrow\": true, \"x\": 36, \"xref\": \"x\", \"y\": 8266.2, \"yref\": \"y\"}, {\"arrowcolor\": \"FireBrick\", \"arrowhead\": 2, \"arrowsize\": 0.8, \"arrowwidth\": 4, \"ax\": 0, \"ay\": -15, \"hoverlabel\": {\"bgcolor\": \"FireBrick\"}, \"hovertext\": \"Step 36 [2018-05-16 17:00:00]<br>SELL 0.07856044 BTC @ 8286.4 USD MARKET<br>Total: 650.98 USD - Comm.: 0.00023639 BTC\", \"opacity\": 0.6, \"showarrow\": true, \"x\": 35, \"xref\": \"x\", \"y\": 8286.4, \"yref\": \"y\"}, {\"arrowcolor\": \"FireBrick\", \"arrowhead\": 2, \"arrowsize\": 0.8, \"arrowwidth\": 4, \"ax\": 0, \"ay\": -15, \"hoverlabel\": {\"bgcolor\": \"FireBrick\"}, \"hovertext\": \"Step 35 [2018-05-16 16:00:00]<br>SELL 0.04910028 BTC @ 8255.2 USD MARKET<br>Total: 405.33 USD - Comm.: 0.00014774 BTC\", \"opacity\": 0.6, \"showarrow\": true, \"x\": 34, \"xref\": \"x\", \"y\": 8255.2, \"yref\": \"y\"}, {\"arrowcolor\": \"FireBrick\", \"arrowhead\": 2, \"arrowsize\": 0.8, \"arrowwidth\": 4, \"ax\": 0, \"ay\": -15, \"hoverlabel\": {\"bgcolor\": \"FireBrick\"}, \"hovertext\": \"Step 34 [2018-05-16 15:00:00]<br>SELL 0.24550137 BTC @ 8276.0 USD MARKET<br>Total: 2031.77 USD - Comm.: 0.00073872 BTC\", \"opacity\": 0.6, \"showarrow\": true, \"x\": 33, \"xref\": \"x\", \"y\": 8276.0, \"yref\": \"y\"}, {\"arrowcolor\": \"DarkGreen\", \"arrowhead\": 2, \"arrowsize\": 0.8, \"arrowwidth\": 4, \"ax\": 0, \"ay\": 15, \"hoverlabel\": {\"bgcolor\": \"DarkGreen\"}, \"hovertext\": \"Step 33 [2018-05-16 14:00:00]<br>BUY 0.24159446 BTC @ 8205.9 USD MARKET<br>Total: 1982.5 USD - Comm.: 5.97 USD\", \"opacity\": 0.6, \"showarrow\": true, \"x\": 32, \"xref\": \"x\", \"y\": 8205.9, \"yref\": \"y\"}, {\"arrowcolor\": \"DarkGreen\", \"arrowhead\": 2, \"arrowsize\": 0.8, \"arrowwidth\": 4, \"ax\": 0, \"ay\": 15, \"hoverlabel\": {\"bgcolor\": \"DarkGreen\"}, \"hovertext\": \"Step 32 [2018-05-16 13:00:00]<br>BUY 0.48602125 BTC @ 8158.1 USD MARKET<br>Total: 3965.01 USD - Comm.: 11.93 USD\", \"opacity\": 0.6, \"showarrow\": true, \"x\": 31, \"xref\": \"x\", \"y\": 8158.1, \"yref\": \"y\"}, {\"arrowcolor\": \"DarkGreen\", \"arrowhead\": 2, \"arrowsize\": 0.8, \"arrowwidth\": 4, \"ax\": 0, \"ay\": 15, \"hoverlabel\": {\"bgcolor\": \"DarkGreen\"}, \"hovertext\": \"Step 32 [2018-05-16 13:00:00]<br>BUY 0.08073081 BTC @ 8158.1 USD MARKET<br>Total: 658.61 USD - Comm.: 1.98 USD\", \"opacity\": 0.6, \"showarrow\": true, \"x\": 31, \"xref\": \"x\", \"y\": 8158.1, \"yref\": \"y\"}, {\"arrowcolor\": \"FireBrick\", \"arrowhead\": 2, \"arrowsize\": 0.8, \"arrowwidth\": 4, \"ax\": 0, \"ay\": -15, \"hoverlabel\": {\"bgcolor\": \"FireBrick\"}, \"hovertext\": \"Step 31 [2018-05-16 12:00:00]<br>SELL 0.41051414 BTC @ 8348.6 USD MARKET<br>Total: 3427.22 USD - Comm.: 0.00123525 BTC\", \"opacity\": 0.6, \"showarrow\": true, \"x\": 30, \"xref\": \"x\", \"y\": 8348.6, \"yref\": \"y\"}, {\"arrowcolor\": \"FireBrick\", \"arrowhead\": 2, \"arrowsize\": 0.8, \"arrowwidth\": 4, \"ax\": 0, \"ay\": -15, \"hoverlabel\": {\"bgcolor\": \"FireBrick\"}, \"hovertext\": \"Step 30 [2018-05-16 11:00:00]<br>SELL 0.82102828 BTC @ 8358.5 USD MARKET<br>Total: 6862.56 USD - Comm.: 0.00247050 BTC\", \"opacity\": 0.6, \"showarrow\": true, \"x\": 29, \"xref\": \"x\", \"y\": 8358.5, \"yref\": \"y\"}, {\"arrowcolor\": \"FireBrick\", \"arrowhead\": 2, \"arrowsize\": 0.8, \"arrowwidth\": 4, \"ax\": 0, \"ay\": -15, \"hoverlabel\": {\"bgcolor\": \"FireBrick\"}, \"hovertext\": \"Step 30 [2018-05-16 11:00:00]<br>SELL 0.08052093 BTC @ 8358.5 USD MARKET<br>Total: 673.03 USD - Comm.: 0.00024229 BTC\", \"opacity\": 0.6, \"showarrow\": true, \"x\": 29, \"xref\": \"x\", \"y\": 8358.5, \"yref\": \"y\"}, {\"arrowcolor\": \"FireBrick\", \"arrowhead\": 2, \"arrowsize\": 0.8, \"arrowwidth\": 4, \"ax\": 0, \"ay\": -15, \"hoverlabel\": {\"bgcolor\": \"FireBrick\"}, \"hovertext\": \"Step 30 [2018-05-16 11:00:00]<br>SELL 0.32375471 BTC @ 8358.5 USD MARKET<br>Total: 2706.1 USD - Comm.: 0.00097419 BTC\", \"opacity\": 0.6, \"showarrow\": true, \"x\": 29, \"xref\": \"x\", \"y\": 8358.5, \"yref\": \"y\"}, {\"arrowcolor\": \"FireBrick\", \"arrowhead\": 2, \"arrowsize\": 0.8, \"arrowwidth\": 4, \"ax\": 0, \"ay\": -15, \"hoverlabel\": {\"bgcolor\": \"FireBrick\"}, \"hovertext\": \"Step 29 [2018-05-16 10:00:00]<br>SELL 1.64205656 BTC @ 8357.2 USD MARKET<br>Total: 13723.0 USD - Comm.: 0.00494099 BTC\", \"opacity\": 0.6, \"showarrow\": true, \"x\": 28, \"xref\": \"x\", \"y\": 8357.2, \"yref\": \"y\"}, {\"arrowcolor\": \"DarkGreen\", \"arrowhead\": 2, \"arrowsize\": 0.8, \"arrowwidth\": 4, \"ax\": 0, \"ay\": 15, \"hoverlabel\": {\"bgcolor\": \"DarkGreen\"}, \"hovertext\": \"Step 29 [2018-05-16 10:00:00]<br>BUY 3.16848346 BTC @ 8357.2 USD MARKET<br>Total: 26479.65 USD - Comm.: 79.68 USD\", \"opacity\": 0.6, \"showarrow\": true, \"x\": 28, \"xref\": \"x\", \"y\": 8357.2, \"yref\": \"y\"}, {\"arrowcolor\": \"FireBrick\", \"arrowhead\": 2, \"arrowsize\": 0.8, \"arrowwidth\": 4, \"ax\": 0, \"ay\": -15, \"hoverlabel\": {\"bgcolor\": \"FireBrick\"}, \"hovertext\": \"Step 29 [2018-05-16 10:00:00]<br>SELL 0.5076878 BTC @ 8357.2 USD MARKET<br>Total: 4242.85 USD - Comm.: 0.00152765 BTC\", \"opacity\": 0.6, \"showarrow\": true, \"x\": 28, \"xref\": \"x\", \"y\": 8357.2, \"yref\": \"y\"}, {\"arrowcolor\": \"DarkGreen\", \"arrowhead\": 2, \"arrowsize\": 0.8, \"arrowwidth\": 4, \"ax\": 0, \"ay\": 15, \"hoverlabel\": {\"bgcolor\": \"DarkGreen\"}, \"hovertext\": \"Step 28 [2018-05-16 09:00:00]<br>BUY 0.0402293 BTC @ 8225.1 USD MARKET<br>Total: 330.89 USD - Comm.: 1.00 USD\", \"opacity\": 0.6, \"showarrow\": true, \"x\": 27, \"xref\": \"x\", \"y\": 8225.1, \"yref\": \"y\"}, {\"arrowcolor\": \"DarkGreen\", \"arrowhead\": 2, \"arrowsize\": 0.8, \"arrowwidth\": 4, \"ax\": 0, \"ay\": 15, \"hoverlabel\": {\"bgcolor\": \"DarkGreen\"}, \"hovertext\": \"Step 27 [2018-05-16 08:00:00]<br>BUY 0.08076322 BTC @ 8194.2 USD MARKET<br>Total: 661.79 USD - Comm.: 1.99 USD\", \"opacity\": 0.6, \"showarrow\": true, \"x\": 26, \"xref\": \"x\", \"y\": 8194.2, \"yref\": \"y\"}, {\"arrowcolor\": \"FireBrick\", \"arrowhead\": 2, \"arrowsize\": 0.8, \"arrowwidth\": 4, \"ax\": 0, \"ay\": -15, \"hoverlabel\": {\"bgcolor\": \"FireBrick\"}, \"hovertext\": \"Step 26 [2018-05-16 07:00:00]<br>SELL 3.28411312 BTC @ 8221.1 USD MARKET<br>Total: 26999.02 USD - Comm.: 0.00988199 BTC\", \"opacity\": 0.6, \"showarrow\": true, \"x\": 25, \"xref\": \"x\", \"y\": 8221.1, \"yref\": \"y\"}, {\"arrowcolor\": \"FireBrick\", \"arrowhead\": 2, \"arrowsize\": 0.8, \"arrowwidth\": 4, \"ax\": 0, \"ay\": -15, \"hoverlabel\": {\"bgcolor\": \"FireBrick\"}, \"hovertext\": \"Step 25 [2018-05-16 06:00:00]<br>SELL 1.64205656 BTC @ 8223.9 USD MARKET<br>Total: 13504.11 USD - Comm.: 0.00494099 BTC\", \"opacity\": 0.6, \"showarrow\": true, \"x\": 24, \"xref\": \"x\", \"y\": 8223.9, \"yref\": \"y\"}, {\"arrowcolor\": \"DarkGreen\", \"arrowhead\": 2, \"arrowsize\": 0.8, \"arrowwidth\": 4, \"ax\": 0, \"ay\": 15, \"hoverlabel\": {\"bgcolor\": \"DarkGreen\"}, \"hovertext\": \"Step 24 [2018-05-16 05:00:00]<br>BUY 0.16145992 BTC @ 8197.7 USD MARKET<br>Total: 1323.6 USD - Comm.: 3.98 USD\", \"opacity\": 0.6, \"showarrow\": true, \"x\": 23, \"xref\": \"x\", \"y\": 8197.7, \"yref\": \"y\"}, {\"arrowcolor\": \"FireBrick\", \"arrowhead\": 2, \"arrowsize\": 0.8, \"arrowwidth\": 4, \"ax\": 0, \"ay\": -15, \"hoverlabel\": {\"bgcolor\": \"FireBrick\"}, \"hovertext\": \"Step 23 [2018-05-16 04:00:00]<br>SELL 2.0525707 BTC @ 8205.3 USD MARKET<br>Total: 16841.96 USD - Comm.: 0.00617624 BTC\", \"opacity\": 0.6, \"showarrow\": true, \"x\": 22, \"xref\": \"x\", \"y\": 8205.3, \"yref\": \"y\"}, {\"arrowcolor\": \"DarkGreen\", \"arrowhead\": 2, \"arrowsize\": 0.8, \"arrowwidth\": 4, \"ax\": 0, \"ay\": 15, \"hoverlabel\": {\"bgcolor\": \"DarkGreen\"}, \"hovertext\": \"Step 22 [2018-05-16 03:00:00]<br>BUY 0.3247289 BTC @ 8152.0 USD MARKET<br>Total: 2647.19 USD - Comm.: 7.97 USD\", \"opacity\": 0.6, \"showarrow\": true, \"x\": 21, \"xref\": \"x\", \"y\": 8152.0, \"yref\": \"y\"}, {\"arrowcolor\": \"DarkGreen\", \"arrowhead\": 2, \"arrowsize\": 0.8, \"arrowwidth\": 4, \"ax\": 0, \"ay\": 15, \"hoverlabel\": {\"bgcolor\": \"DarkGreen\"}, \"hovertext\": \"Step 22 [2018-05-16 03:00:00]<br>BUY 0.92308881 BTC @ 8152.0 USD MARKET<br>Total: 7525.02 USD - Comm.: 22.64 USD\", \"opacity\": 0.6, \"showarrow\": true, \"x\": 21, \"xref\": \"x\", \"y\": 8152.0, \"yref\": \"y\"}, {\"arrowcolor\": \"DarkGreen\", \"arrowhead\": 2, \"arrowsize\": 0.8, \"arrowwidth\": 4, \"ax\": 0, \"ay\": 15, \"hoverlabel\": {\"bgcolor\": \"DarkGreen\"}, \"hovertext\": \"Step 21 [2018-05-16 02:00:00]<br>BUY 0.50921545 BTC @ 8124.4 USD MARKET<br>Total: 4137.07 USD - Comm.: 12.45 USD\", \"opacity\": 0.6, \"showarrow\": true, \"x\": 20, \"xref\": \"x\", \"y\": 8124.4, \"yref\": \"y\"}, {\"arrowcolor\": \"FireBrick\", \"arrowhead\": 2, \"arrowsize\": 0.8, \"arrowwidth\": 4, \"ax\": 0, \"ay\": -15, \"hoverlabel\": {\"bgcolor\": \"FireBrick\"}, \"hovertext\": \"Step 21 [2018-05-16 02:00:00]<br>SELL 0.14287556 BTC @ 8124.4 USD MARKET<br>Total: 1160.78 USD - Comm.: 0.00042992 BTC\", \"opacity\": 0.6, \"showarrow\": true, \"x\": 20, \"xref\": \"x\", \"y\": 8124.4, \"yref\": \"y\"}, {\"arrowcolor\": \"DarkGreen\", \"arrowhead\": 2, \"arrowsize\": 0.8, \"arrowwidth\": 4, \"ax\": 0, \"ay\": 15, \"hoverlabel\": {\"bgcolor\": \"DarkGreen\"}, \"hovertext\": \"Step 21 [2018-05-16 02:00:00]<br>BUY 0.13020777 BTC @ 8124.4 USD MARKET<br>Total: 1057.86 USD - Comm.: 3.18 USD\", \"opacity\": 0.6, \"showarrow\": true, \"x\": 20, \"xref\": \"x\", \"y\": 8124.4, \"yref\": \"y\"}, {\"arrowcolor\": \"DarkGreen\", \"arrowhead\": 2, \"arrowsize\": 0.8, \"arrowwidth\": 4, \"ax\": 0, \"ay\": 15, \"hoverlabel\": {\"bgcolor\": \"DarkGreen\"}, \"hovertext\": \"Step 21 [2018-05-16 02:00:00]<br>BUY 0.40490867 BTC @ 8124.4 USD MARKET<br>Total: 3289.64 USD - Comm.: 9.90 USD\", \"opacity\": 0.6, \"showarrow\": true, \"x\": 20, \"xref\": \"x\", \"y\": 8124.4, \"yref\": \"y\"}, {\"arrowcolor\": \"DarkGreen\", \"arrowhead\": 2, \"arrowsize\": 0.8, \"arrowwidth\": 4, \"ax\": 0, \"ay\": 15, \"hoverlabel\": {\"bgcolor\": \"DarkGreen\"}, \"hovertext\": \"Step 21 [2018-05-16 02:00:00]<br>BUY 2.56159839 BTC @ 8124.4 USD MARKET<br>Total: 20811.45 USD - Comm.: 62.62 USD\", \"opacity\": 0.6, \"showarrow\": true, \"x\": 20, \"xref\": \"x\", \"y\": 8124.4, \"yref\": \"y\"}, {\"arrowcolor\": \"FireBrick\", \"arrowhead\": 2, \"arrowsize\": 0.8, \"arrowwidth\": 4, \"ax\": 0, \"ay\": -15, \"hoverlabel\": {\"bgcolor\": \"FireBrick\"}, \"hovertext\": \"Step 20 [2018-05-16 01:00:00]<br>SELL 0.0121939 BTC @ 8327.9 USD MARKET<br>Total: 101.55 USD - Comm.: 0.00003669 BTC\", \"opacity\": 0.6, \"showarrow\": true, \"x\": 19, \"xref\": \"x\", \"y\": 8327.9, \"yref\": \"y\"}, {\"arrowcolor\": \"FireBrick\", \"arrowhead\": 2, \"arrowsize\": 0.8, \"arrowwidth\": 4, \"ax\": 0, \"ay\": -15, \"hoverlabel\": {\"bgcolor\": \"FireBrick\"}, \"hovertext\": \"Step 20 [2018-05-16 01:00:00]<br>SELL 0.28385204 BTC @ 8327.9 USD MARKET<br>Total: 2363.89 USD - Comm.: 0.00085412 BTC\", \"opacity\": 0.6, \"showarrow\": true, \"x\": 19, \"xref\": \"x\", \"y\": 8327.9, \"yref\": \"y\"}, {\"arrowcolor\": \"FireBrick\", \"arrowhead\": 2, \"arrowsize\": 0.8, \"arrowwidth\": 4, \"ax\": 0, \"ay\": -15, \"hoverlabel\": {\"bgcolor\": \"FireBrick\"}, \"hovertext\": \"Step 20 [2018-05-16 01:00:00]<br>SELL 0.56666843 BTC @ 8327.9 USD MARKET<br>Total: 4719.16 USD - Comm.: 0.00170512 BTC\", \"opacity\": 0.6, \"showarrow\": true, \"x\": 19, \"xref\": \"x\", \"y\": 8327.9, \"yref\": \"y\"}, {\"arrowcolor\": \"DarkGreen\", \"arrowhead\": 2, \"arrowsize\": 0.8, \"arrowwidth\": 4, \"ax\": 0, \"ay\": 15, \"hoverlabel\": {\"bgcolor\": \"DarkGreen\"}, \"hovertext\": \"Step 20 [2018-05-16 01:00:00]<br>BUY 0.5409539 BTC @ 8327.9 USD MARKET<br>Total: 4505.01 USD - Comm.: 13.56 USD\", \"opacity\": 0.6, \"showarrow\": true, \"x\": 19, \"xref\": \"x\", \"y\": 8327.9, \"yref\": \"y\"}, {\"arrowcolor\": \"DarkGreen\", \"arrowhead\": 2, \"arrowsize\": 0.8, \"arrowwidth\": 4, \"ax\": 0, \"ay\": 15, \"hoverlabel\": {\"bgcolor\": \"DarkGreen\"}, \"hovertext\": \"Step 20 [2018-05-16 01:00:00]<br>BUY 1.50983561 BTC @ 8327.9 USD MARKET<br>Total: 12573.76 USD - Comm.: 37.83 USD\", \"opacity\": 0.6, \"showarrow\": true, \"x\": 19, \"xref\": \"x\", \"y\": 8327.9, \"yref\": \"y\"}, {\"arrowcolor\": \"DarkGreen\", \"arrowhead\": 2, \"arrowsize\": 0.8, \"arrowwidth\": 4, \"ax\": 0, \"ay\": 15, \"hoverlabel\": {\"bgcolor\": \"DarkGreen\"}, \"hovertext\": \"Step 20 [2018-05-16 01:00:00]<br>BUY 4.17421919 BTC @ 8327.9 USD MARKET<br>Total: 34762.48 USD - Comm.: 104.60 USD\", \"opacity\": 0.6, \"showarrow\": true, \"x\": 19, \"xref\": \"x\", \"y\": 8327.9, \"yref\": \"y\"}, {\"arrowcolor\": \"FireBrick\", \"arrowhead\": 2, \"arrowsize\": 0.8, \"arrowwidth\": 4, \"ax\": 0, \"ay\": -15, \"hoverlabel\": {\"bgcolor\": \"FireBrick\"}, \"hovertext\": \"Step 19 [2018-05-16 00:00:00]<br>SELL 0.01524238 BTC @ 8454.2 USD MARKET<br>Total: 128.86 USD - Comm.: 0.00004586 BTC\", \"opacity\": 0.6, \"showarrow\": true, \"x\": 18, \"xref\": \"x\", \"y\": 8454.2, \"yref\": \"y\"}, {\"arrowcolor\": \"FireBrick\", \"arrowhead\": 2, \"arrowsize\": 0.8, \"arrowwidth\": 4, \"ax\": 0, \"ay\": -15, \"hoverlabel\": {\"bgcolor\": \"FireBrick\"}, \"hovertext\": \"Step 18 [2018-05-15 23:00:00]<br>SELL 0.01905297 BTC @ 8467.5 USD MARKET<br>Total: 161.33 USD - Comm.: 0.00005733 BTC\", \"opacity\": 0.6, \"showarrow\": true, \"x\": 17, \"xref\": \"x\", \"y\": 8467.5, \"yref\": \"y\"}, {\"arrowcolor\": \"DarkGreen\", \"arrowhead\": 2, \"arrowsize\": 0.8, \"arrowwidth\": 4, \"ax\": 0, \"ay\": 15, \"hoverlabel\": {\"bgcolor\": \"DarkGreen\"}, \"hovertext\": \"Step 17 [2018-05-15 22:00:00]<br>BUY 0.14330548 BTC @ 8459.9 USD MARKET<br>Total: 1212.35 USD - Comm.: 3.65 USD\", \"opacity\": 0.6, \"showarrow\": true, \"x\": 16, \"xref\": \"x\", \"y\": 8459.9, \"yref\": \"y\"}, {\"arrowcolor\": \"FireBrick\", \"arrowhead\": 2, \"arrowsize\": 0.8, \"arrowwidth\": 4, \"ax\": 0, \"ay\": -15, \"hoverlabel\": {\"bgcolor\": \"FireBrick\"}, \"hovertext\": \"Step 16 [2018-05-15 21:00:00]<br>SELL 0.02381621 BTC @ 8476.0 USD MARKET<br>Total: 201.87 USD - Comm.: 0.00007166 BTC\", \"opacity\": 0.6, \"showarrow\": true, \"x\": 15, \"xref\": \"x\", \"y\": 8476.0, \"yref\": \"y\"}, {\"arrowcolor\": \"FireBrick\", \"arrowhead\": 2, \"arrowsize\": 0.8, \"arrowwidth\": 4, \"ax\": 0, \"ay\": -15, \"hoverlabel\": {\"bgcolor\": \"FireBrick\"}, \"hovertext\": \"Step 15 [2018-05-15 20:00:00]<br>SELL 0.02977026 BTC @ 8516.7 USD MARKET<br>Total: 253.54 USD - Comm.: 0.00008958 BTC\", \"opacity\": 0.6, \"showarrow\": true, \"x\": 14, \"xref\": \"x\", \"y\": 8516.7, \"yref\": \"y\"}, {\"arrowcolor\": \"FireBrick\", \"arrowhead\": 2, \"arrowsize\": 0.8, \"arrowwidth\": 4, \"ax\": 0, \"ay\": -15, \"hoverlabel\": {\"bgcolor\": \"FireBrick\"}, \"hovertext\": \"Step 14 [2018-05-15 19:00:00]<br>SELL 0.03721283 BTC @ 8551.2 USD MARKET<br>Total: 318.21 USD - Comm.: 0.00011197 BTC\", \"opacity\": 0.6, \"showarrow\": true, \"x\": 13, \"xref\": \"x\", \"y\": 8551.2, \"yref\": \"y\"}, {\"arrowcolor\": \"DarkGreen\", \"arrowhead\": 2, \"arrowsize\": 0.8, \"arrowwidth\": 4, \"ax\": 0, \"ay\": 15, \"hoverlabel\": {\"bgcolor\": \"DarkGreen\"}, \"hovertext\": \"Step 13 [2018-05-15 18:00:00]<br>BUY 0.28470616 BTC @ 8516.5 USD MARKET<br>Total: 2424.7 USD - Comm.: 7.30 USD\", \"opacity\": 0.6, \"showarrow\": true, \"x\": 12, \"xref\": \"x\", \"y\": 8516.5, \"yref\": \"y\"}, {\"arrowcolor\": \"FireBrick\", \"arrowhead\": 2, \"arrowsize\": 0.8, \"arrowwidth\": 4, \"ax\": 0, \"ay\": -15, \"hoverlabel\": {\"bgcolor\": \"FireBrick\"}, \"hovertext\": \"Step 12 [2018-05-15 17:00:00]<br>SELL 0.12404275 BTC @ 8553.8 USD MARKET<br>Total: 1061.04 USD - Comm.: 0.00037325 BTC\", \"opacity\": 0.6, \"showarrow\": true, \"x\": 11, \"xref\": \"x\", \"y\": 8553.8, \"yref\": \"y\"}, {\"arrowcolor\": \"DarkGreen\", \"arrowhead\": 2, \"arrowsize\": 0.8, \"arrowwidth\": 4, \"ax\": 0, \"ay\": 15, \"hoverlabel\": {\"bgcolor\": \"DarkGreen\"}, \"hovertext\": \"Step 11 [2018-05-15 16:00:00]<br>BUY 0.56837355 BTC @ 8532.1 USD MARKET<br>Total: 4849.42 USD - Comm.: 14.59 USD\", \"opacity\": 0.6, \"showarrow\": true, \"x\": 10, \"xref\": \"x\", \"y\": 8532.1, \"yref\": \"y\"}, {\"arrowcolor\": \"FireBrick\", \"arrowhead\": 2, \"arrowsize\": 0.8, \"arrowwidth\": 4, \"ax\": 0, \"ay\": -15, \"hoverlabel\": {\"bgcolor\": \"FireBrick\"}, \"hovertext\": \"Step 10 [2018-05-15 15:00:00]<br>SELL 0.07752672 BTC @ 8520.8 USD MARKET<br>Total: 660.59 USD - Comm.: 0.00023328 BTC\", \"opacity\": 0.6, \"showarrow\": true, \"x\": 9, \"xref\": \"x\", \"y\": 8520.8, \"yref\": \"y\"}, {\"arrowcolor\": \"FireBrick\", \"arrowhead\": 2, \"arrowsize\": 0.8, \"arrowwidth\": 4, \"ax\": 0, \"ay\": -15, \"hoverlabel\": {\"bgcolor\": \"FireBrick\"}, \"hovertext\": \"Step 9 [2018-05-15 14:00:00]<br>SELL 0.3876336 BTC @ 8512.0 USD MARKET<br>Total: 3299.54 USD - Comm.: 0.00116640 BTC\", \"opacity\": 0.6, \"showarrow\": true, \"x\": 8, \"xref\": \"x\", \"y\": 8512.0, \"yref\": \"y\"}, {\"arrowcolor\": \"FireBrick\", \"arrowhead\": 2, \"arrowsize\": 0.8, \"arrowwidth\": 4, \"ax\": 0, \"ay\": -15, \"hoverlabel\": {\"bgcolor\": \"FireBrick\"}, \"hovertext\": \"Step 9 [2018-05-15 14:00:00]<br>SELL 0.14191695 BTC @ 8512.0 USD MARKET<br>Total: 1208.0 USD - Comm.: 0.00042703 BTC\", \"opacity\": 0.6, \"showarrow\": true, \"x\": 8, \"xref\": \"x\", \"y\": 8512.0, \"yref\": \"y\"}, {\"arrowcolor\": \"FireBrick\", \"arrowhead\": 2, \"arrowsize\": 0.8, \"arrowwidth\": 4, \"ax\": 0, \"ay\": -15, \"hoverlabel\": {\"bgcolor\": \"FireBrick\"}, \"hovertext\": \"Step 9 [2018-05-15 14:00:00]<br>SELL 0.28536908 BTC @ 8512.0 USD MARKET<br>Total: 2429.06 USD - Comm.: 0.00085868 BTC\", \"opacity\": 0.6, \"showarrow\": true, \"x\": 8, \"xref\": \"x\", \"y\": 8512.0, \"yref\": \"y\"}, {\"arrowcolor\": \"FireBrick\", \"arrowhead\": 2, \"arrowsize\": 0.8, \"arrowwidth\": 4, \"ax\": 0, \"ay\": -15, \"hoverlabel\": {\"bgcolor\": \"FireBrick\"}, \"hovertext\": \"Step 9 [2018-05-15 14:00:00]<br>SELL 0.56872011 BTC @ 8512.0 USD MARKET<br>Total: 4840.95 USD - Comm.: 0.00171129 BTC\", \"opacity\": 0.6, \"showarrow\": true, \"x\": 8, \"xref\": \"x\", \"y\": 8512.0, \"yref\": \"y\"}, {\"arrowcolor\": \"FireBrick\", \"arrowhead\": 2, \"arrowsize\": 0.8, \"arrowwidth\": 4, \"ax\": 0, \"ay\": -15, \"hoverlabel\": {\"bgcolor\": \"FireBrick\"}, \"hovertext\": \"Step 8 [2018-05-15 13:00:00]<br>SELL 0.5168448 BTC @ 8742.6 USD MARKET<br>Total: 4518.57 USD - Comm.: 0.00155520 BTC\", \"opacity\": 0.6, \"showarrow\": true, \"x\": 7, \"xref\": \"x\", \"y\": 8742.6, \"yref\": \"y\"}, {\"arrowcolor\": \"FireBrick\", \"arrowhead\": 2, \"arrowsize\": 0.8, \"arrowwidth\": 4, \"ax\": 0, \"ay\": -15, \"hoverlabel\": {\"bgcolor\": \"FireBrick\"}, \"hovertext\": \"Step 7 [2018-05-15 12:00:00]<br>SELL 0.861408 BTC @ 8762.0 USD MARKET<br>Total: 7547.66 USD - Comm.: 0.00259200 BTC\", \"opacity\": 0.6, \"showarrow\": true, \"x\": 6, \"xref\": \"x\", \"y\": 8762.0, \"yref\": \"y\"}, {\"arrowcolor\": \"DarkGreen\", \"arrowhead\": 2, \"arrowsize\": 0.8, \"arrowwidth\": 4, \"ax\": 0, \"ay\": 15, \"hoverlabel\": {\"bgcolor\": \"DarkGreen\"}, \"hovertext\": \"Step 6 [2018-05-15 11:00:00]<br>BUY 0.14234398 BTC @ 8755.2 USD MARKET<br>Total: 1246.25 USD - Comm.: 3.75 USD\", \"opacity\": 0.6, \"showarrow\": true, \"x\": 5, \"xref\": \"x\", \"y\": 8755.2, \"yref\": \"y\"}, {\"arrowcolor\": \"FireBrick\", \"arrowhead\": 2, \"arrowsize\": 0.8, \"arrowwidth\": 4, \"ax\": 0, \"ay\": -15, \"hoverlabel\": {\"bgcolor\": \"FireBrick\"}, \"hovertext\": \"Step 5 [2018-05-15 10:00:00]<br>SELL 1.43568 BTC @ 8784.4 USD MARKET<br>Total: 12611.59 USD - Comm.: 0.00432000 BTC\", \"opacity\": 0.6, \"showarrow\": true, \"x\": 4, \"xref\": \"x\", \"y\": 8784.4, \"yref\": \"y\"}, {\"arrowcolor\": \"DarkGreen\", \"arrowhead\": 2, \"arrowsize\": 0.8, \"arrowwidth\": 4, \"ax\": 0, \"ay\": 15, \"hoverlabel\": {\"bgcolor\": \"DarkGreen\"}, \"hovertext\": \"Step 4 [2018-05-15 09:00:00]<br>BUY 0.28622776 BTC @ 8708.1 USD MARKET<br>Total: 2492.5 USD - Comm.: 7.50 USD\", \"opacity\": 0.6, \"showarrow\": true, \"x\": 3, \"xref\": \"x\", \"y\": 8708.1, \"yref\": \"y\"}, {\"arrowcolor\": \"FireBrick\", \"arrowhead\": 2, \"arrowsize\": 0.8, \"arrowwidth\": 4, \"ax\": 0, \"ay\": -15, \"hoverlabel\": {\"bgcolor\": \"FireBrick\"}, \"hovertext\": \"Step 3 [2018-05-15 08:00:00]<br>SELL 2.3928 BTC @ 8723.7 USD MARKET<br>Total: 20874.07 USD - Comm.: 0.00720000 BTC\", \"opacity\": 0.6, \"showarrow\": true, \"x\": 2, \"xref\": \"x\", \"y\": 8723.7, \"yref\": \"y\"}, {\"arrowcolor\": \"FireBrick\", \"arrowhead\": 2, \"arrowsize\": 0.8, \"arrowwidth\": 4, \"ax\": 0, \"ay\": -15, \"hoverlabel\": {\"bgcolor\": \"FireBrick\"}, \"hovertext\": \"Step 2 [2018-05-15 07:00:00]<br>SELL 3.988 BTC @ 8743.0 USD MARKET<br>Total: 34867.08 USD - Comm.: 0.01200000 BTC\", \"opacity\": 0.6, \"showarrow\": true, \"x\": 1, \"xref\": \"x\", \"y\": 8743.0, \"yref\": \"y\"}, {\"arrowcolor\": \"DarkGreen\", \"arrowhead\": 2, \"arrowsize\": 0.8, \"arrowwidth\": 4, \"ax\": 0, \"ay\": 15, \"hoverlabel\": {\"bgcolor\": \"DarkGreen\"}, \"hovertext\": \"Step 1 [2018-05-15 06:00:00]<br>BUY 0.5704314 BTC @ 8739.0 USD MARKET<br>Total: 4985.0 USD - Comm.: 15.00 USD\", \"opacity\": 0.6, \"showarrow\": true, \"x\": 0, \"xref\": \"x\", \"y\": 8739.0, \"yref\": \"y\"}], \"margin\": {\"t\": 50}, \"template\": {\"data\": {\"bar\": [{\"error_x\": {\"color\": \"#2a3f5f\"}, \"error_y\": {\"color\": \"#2a3f5f\"}, \"marker\": {\"line\": {\"color\": \"white\", \"width\": 0.5}}, \"type\": \"bar\"}], \"barpolar\": [{\"marker\": {\"line\": {\"color\": \"white\", \"width\": 0.5}}, \"type\": \"barpolar\"}], \"carpet\": [{\"aaxis\": {\"endlinecolor\": \"#2a3f5f\", \"gridcolor\": \"#C8D4E3\", \"linecolor\": \"#C8D4E3\", \"minorgridcolor\": \"#C8D4E3\", \"startlinecolor\": \"#2a3f5f\"}, \"baxis\": {\"endlinecolor\": \"#2a3f5f\", \"gridcolor\": \"#C8D4E3\", \"linecolor\": \"#C8D4E3\", \"minorgridcolor\": \"#C8D4E3\", \"startlinecolor\": \"#2a3f5f\"}, \"type\": \"carpet\"}], \"choropleth\": [{\"colorbar\": {\"outlinewidth\": 0, \"ticks\": \"\"}, \"type\": \"choropleth\"}], \"contour\": [{\"colorbar\": {\"outlinewidth\": 0, \"ticks\": \"\"}, \"colorscale\": [[0.0, \"#0d0887\"], [0.1111111111111111, \"#46039f\"], [0.2222222222222222, \"#7201a8\"], [0.3333333333333333, \"#9c179e\"], [0.4444444444444444, \"#bd3786\"], [0.5555555555555556, \"#d8576b\"], [0.6666666666666666, \"#ed7953\"], [0.7777777777777778, \"#fb9f3a\"], [0.8888888888888888, \"#fdca26\"], [1.0, \"#f0f921\"]], \"type\": \"contour\"}], \"contourcarpet\": [{\"colorbar\": {\"outlinewidth\": 0, \"ticks\": \"\"}, \"type\": \"contourcarpet\"}], \"heatmap\": [{\"colorbar\": {\"outlinewidth\": 0, \"ticks\": \"\"}, \"colorscale\": [[0.0, \"#0d0887\"], [0.1111111111111111, \"#46039f\"], [0.2222222222222222, \"#7201a8\"], [0.3333333333333333, \"#9c179e\"], [0.4444444444444444, \"#bd3786\"], [0.5555555555555556, \"#d8576b\"], [0.6666666666666666, \"#ed7953\"], [0.7777777777777778, \"#fb9f3a\"], [0.8888888888888888, \"#fdca26\"], [1.0, \"#f0f921\"]], \"type\": \"heatmap\"}], \"heatmapgl\": [{\"colorbar\": {\"outlinewidth\": 0, \"ticks\": \"\"}, \"colorscale\": [[0.0, \"#0d0887\"], [0.1111111111111111, \"#46039f\"], [0.2222222222222222, \"#7201a8\"], [0.3333333333333333, \"#9c179e\"], [0.4444444444444444, \"#bd3786\"], [0.5555555555555556, \"#d8576b\"], [0.6666666666666666, \"#ed7953\"], [0.7777777777777778, \"#fb9f3a\"], [0.8888888888888888, \"#fdca26\"], [1.0, \"#f0f921\"]], \"type\": \"heatmapgl\"}], \"histogram\": [{\"marker\": {\"colorbar\": {\"outlinewidth\": 0, \"ticks\": \"\"}}, \"type\": \"histogram\"}], \"histogram2d\": [{\"colorbar\": {\"outlinewidth\": 0, \"ticks\": \"\"}, \"colorscale\": [[0.0, \"#0d0887\"], [0.1111111111111111, \"#46039f\"], [0.2222222222222222, \"#7201a8\"], [0.3333333333333333, \"#9c179e\"], [0.4444444444444444, \"#bd3786\"], [0.5555555555555556, \"#d8576b\"], [0.6666666666666666, \"#ed7953\"], [0.7777777777777778, \"#fb9f3a\"], [0.8888888888888888, \"#fdca26\"], [1.0, \"#f0f921\"]], \"type\": \"histogram2d\"}], \"histogram2dcontour\": [{\"colorbar\": {\"outlinewidth\": 0, \"ticks\": \"\"}, \"colorscale\": [[0.0, \"#0d0887\"], [0.1111111111111111, \"#46039f\"], [0.2222222222222222, \"#7201a8\"], [0.3333333333333333, \"#9c179e\"], [0.4444444444444444, \"#bd3786\"], [0.5555555555555556, \"#d8576b\"], [0.6666666666666666, \"#ed7953\"], [0.7777777777777778, \"#fb9f3a\"], [0.8888888888888888, \"#fdca26\"], [1.0, \"#f0f921\"]], \"type\": \"histogram2dcontour\"}], \"mesh3d\": [{\"colorbar\": {\"outlinewidth\": 0, \"ticks\": \"\"}, \"type\": \"mesh3d\"}], \"parcoords\": [{\"line\": {\"colorbar\": {\"outlinewidth\": 0, \"ticks\": \"\"}}, \"type\": \"parcoords\"}], \"pie\": [{\"automargin\": true, \"type\": \"pie\"}], \"scatter\": [{\"marker\": {\"colorbar\": {\"outlinewidth\": 0, \"ticks\": \"\"}}, \"type\": \"scatter\"}], \"scatter3d\": [{\"line\": {\"colorbar\": {\"outlinewidth\": 0, \"ticks\": \"\"}}, \"marker\": {\"colorbar\": {\"outlinewidth\": 0, \"ticks\": \"\"}}, \"type\": \"scatter3d\"}], \"scattercarpet\": [{\"marker\": {\"colorbar\": {\"outlinewidth\": 0, \"ticks\": \"\"}}, \"type\": \"scattercarpet\"}], \"scattergeo\": [{\"marker\": {\"colorbar\": {\"outlinewidth\": 0, \"ticks\": \"\"}}, \"type\": \"scattergeo\"}], \"scattergl\": [{\"marker\": {\"colorbar\": {\"outlinewidth\": 0, \"ticks\": \"\"}}, \"type\": \"scattergl\"}], \"scattermapbox\": [{\"marker\": {\"colorbar\": {\"outlinewidth\": 0, \"ticks\": \"\"}}, \"type\": \"scattermapbox\"}], \"scatterpolar\": [{\"marker\": {\"colorbar\": {\"outlinewidth\": 0, \"ticks\": \"\"}}, \"type\": \"scatterpolar\"}], \"scatterpolargl\": [{\"marker\": {\"colorbar\": {\"outlinewidth\": 0, \"ticks\": \"\"}}, \"type\": \"scatterpolargl\"}], \"scatterternary\": [{\"marker\": {\"colorbar\": {\"outlinewidth\": 0, \"ticks\": \"\"}}, \"type\": \"scatterternary\"}], \"surface\": [{\"colorbar\": {\"outlinewidth\": 0, \"ticks\": \"\"}, \"colorscale\": [[0.0, \"#0d0887\"], [0.1111111111111111, \"#46039f\"], [0.2222222222222222, \"#7201a8\"], [0.3333333333333333, \"#9c179e\"], [0.4444444444444444, \"#bd3786\"], [0.5555555555555556, \"#d8576b\"], [0.6666666666666666, \"#ed7953\"], [0.7777777777777778, \"#fb9f3a\"], [0.8888888888888888, \"#fdca26\"], [1.0, \"#f0f921\"]], \"type\": \"surface\"}], \"table\": [{\"cells\": {\"fill\": {\"color\": \"#EBF0F8\"}, \"line\": {\"color\": \"white\"}}, \"header\": {\"fill\": {\"color\": \"#C8D4E3\"}, \"line\": {\"color\": \"white\"}}, \"type\": \"table\"}]}, \"layout\": {\"annotationdefaults\": {\"arrowcolor\": \"#2a3f5f\", \"arrowhead\": 0, \"arrowwidth\": 1}, \"autotypenumbers\": \"strict\", \"coloraxis\": {\"colorbar\": {\"outlinewidth\": 0, \"ticks\": \"\"}}, \"colorscale\": {\"diverging\": [[0, \"#8e0152\"], [0.1, \"#c51b7d\"], [0.2, \"#de77ae\"], [0.3, \"#f1b6da\"], [0.4, \"#fde0ef\"], [0.5, \"#f7f7f7\"], [0.6, \"#e6f5d0\"], [0.7, \"#b8e186\"], [0.8, \"#7fbc41\"], [0.9, \"#4d9221\"], [1, \"#276419\"]], \"sequential\": [[0.0, \"#0d0887\"], [0.1111111111111111, \"#46039f\"], [0.2222222222222222, \"#7201a8\"], [0.3333333333333333, \"#9c179e\"], [0.4444444444444444, \"#bd3786\"], [0.5555555555555556, \"#d8576b\"], [0.6666666666666666, \"#ed7953\"], [0.7777777777777778, \"#fb9f3a\"], [0.8888888888888888, \"#fdca26\"], [1.0, \"#f0f921\"]], \"sequentialminus\": [[0.0, \"#0d0887\"], [0.1111111111111111, \"#46039f\"], [0.2222222222222222, \"#7201a8\"], [0.3333333333333333, \"#9c179e\"], [0.4444444444444444, \"#bd3786\"], [0.5555555555555556, \"#d8576b\"], [0.6666666666666666, \"#ed7953\"], [0.7777777777777778, \"#fb9f3a\"], [0.8888888888888888, \"#fdca26\"], [1.0, \"#f0f921\"]]}, \"colorway\": [\"#636efa\", \"#EF553B\", \"#00cc96\", \"#ab63fa\", \"#FFA15A\", \"#19d3f3\", \"#FF6692\", \"#B6E880\", \"#FF97FF\", \"#FECB52\"], \"font\": {\"color\": \"#2a3f5f\"}, \"geo\": {\"bgcolor\": \"white\", \"lakecolor\": \"white\", \"landcolor\": \"white\", \"showlakes\": true, \"showland\": true, \"subunitcolor\": \"#C8D4E3\"}, \"hoverlabel\": {\"align\": \"left\"}, \"hovermode\": \"closest\", \"mapbox\": {\"style\": \"light\"}, \"paper_bgcolor\": \"white\", \"plot_bgcolor\": \"white\", \"polar\": {\"angularaxis\": {\"gridcolor\": \"#EBF0F8\", \"linecolor\": \"#EBF0F8\", \"ticks\": \"\"}, \"bgcolor\": \"white\", \"radialaxis\": {\"gridcolor\": \"#EBF0F8\", \"linecolor\": \"#EBF0F8\", \"ticks\": \"\"}}, \"scene\": {\"xaxis\": {\"backgroundcolor\": \"white\", \"gridcolor\": \"#DFE8F3\", \"gridwidth\": 2, \"linecolor\": \"#EBF0F8\", \"showbackground\": true, \"ticks\": \"\", \"zerolinecolor\": \"#EBF0F8\"}, \"yaxis\": {\"backgroundcolor\": \"white\", \"gridcolor\": \"#DFE8F3\", \"gridwidth\": 2, \"linecolor\": \"#EBF0F8\", \"showbackground\": true, \"ticks\": \"\", \"zerolinecolor\": \"#EBF0F8\"}, \"zaxis\": {\"backgroundcolor\": \"white\", \"gridcolor\": \"#DFE8F3\", \"gridwidth\": 2, \"linecolor\": \"#EBF0F8\", \"showbackground\": true, \"ticks\": \"\", \"zerolinecolor\": \"#EBF0F8\"}}, \"shapedefaults\": {\"line\": {\"color\": \"#2a3f5f\"}}, \"ternary\": {\"aaxis\": {\"gridcolor\": \"#DFE8F3\", \"linecolor\": \"#A2B1C6\", \"ticks\": \"\"}, \"baxis\": {\"gridcolor\": \"#DFE8F3\", \"linecolor\": \"#A2B1C6\", \"ticks\": \"\"}, \"bgcolor\": \"white\", \"caxis\": {\"gridcolor\": \"#DFE8F3\", \"linecolor\": \"#A2B1C6\", \"ticks\": \"\"}}, \"title\": {\"x\": 0.05}, \"xaxis\": {\"automargin\": true, \"gridcolor\": \"#EBF0F8\", \"linecolor\": \"#EBF0F8\", \"ticks\": \"\", \"title\": {\"standoff\": 15}, \"zerolinecolor\": \"#EBF0F8\", \"zerolinewidth\": 2}, \"yaxis\": {\"automargin\": true, \"gridcolor\": \"#EBF0F8\", \"linecolor\": \"#EBF0F8\", \"ticks\": \"\", \"title\": {\"standoff\": 15}, \"zerolinecolor\": \"#EBF0F8\", \"zerolinewidth\": 2}}}, \"title\": {\"text\": \"[2021-02-10 15:36:26 PM] Episode: 200/200 Step: 51/200\"}, \"xaxis\": {\"anchor\": \"y\", \"domain\": [0.0, 1.0], \"gridcolor\": \"Gainsboro\", \"linecolor\": \"Grey\", \"matches\": \"x4\", \"rangeslider\": {\"visible\": false}, \"showticklabels\": false, \"title\": {\"font\": {\"size\": 12}, \"standoff\": 7, \"text\": \"Price\"}}, \"xaxis2\": {\"anchor\": \"y2\", \"domain\": [0.0, 1.0], \"gridcolor\": \"Gainsboro\", \"linecolor\": \"Grey\", \"matches\": \"x4\", \"showticklabels\": false, \"title\": {\"font\": {\"size\": 12}, \"standoff\": 7, \"text\": \"Volume\"}}, \"xaxis3\": {\"anchor\": \"y3\", \"domain\": [0.0, 1.0], \"gridcolor\": \"Gainsboro\", \"linecolor\": \"Grey\", \"matches\": \"x4\", \"showticklabels\": false, \"title\": {\"font\": {\"size\": 12}, \"standoff\": 7, \"text\": \"Performance\"}}, \"xaxis4\": {\"anchor\": \"y4\", \"domain\": [0.0, 1.0], \"gridcolor\": \"Gainsboro\", \"linecolor\": \"Grey\", \"title\": {\"font\": {\"size\": 12}, \"standoff\": 7, \"text\": \"Net Worth\"}}, \"yaxis\": {\"anchor\": \"x\", \"domain\": [0.49950000000000006, 1.0], \"gridcolor\": \"Gainsboro\", \"linecolor\": \"Grey\"}, \"yaxis2\": {\"anchor\": \"x2\", \"domain\": [0.333, 0.46950000000000003], \"gridcolor\": \"Gainsboro\", \"linecolor\": \"Grey\"}, \"yaxis3\": {\"anchor\": \"x3\", \"domain\": [0.1665, 0.30300000000000005], \"gridcolor\": \"Gainsboro\", \"linecolor\": \"Grey\"}, \"yaxis4\": {\"anchor\": \"x4\", \"domain\": [0.0, 0.1365], \"gridcolor\": \"Gainsboro\", \"linecolor\": \"Grey\"}},                        {\"responsive\": true}                    ).then(function(){\n",
       "                            \n",
       "var gd = document.getElementById('c3ce26f5-f509-4016-a311-c7f6fb3a0c40');\n",
       "var x = new MutationObserver(function (mutations, observer) {{\n",
       "        var display = window.getComputedStyle(gd).display;\n",
       "        if (!display || display === 'none') {{\n",
       "            console.log([gd, 'removed!']);\n",
       "            Plotly.purge(gd);\n",
       "            observer.disconnect();\n",
       "        }}\n",
       "}});\n",
       "\n",
       "// Listen for the removal of the full notebook cells\n",
       "var notebookContainer = gd.closest('#notebook-container');\n",
       "if (notebookContainer) {{\n",
       "    x.observe(notebookContainer, {childList: true});\n",
       "}}\n",
       "\n",
       "// Listen for the clearing of the current output cell\n",
       "var outputEl = gd.closest('.output');\n",
       "if (outputEl) {{\n",
       "    x.observe(outputEl, {childList: true});\n",
       "}}\n",
       "\n",
       "                        })                };                });            </script>        </div>"
      ]
     },
     "metadata": {},
     "output_type": "display_data"
    },
    {
     "data": {
      "application/vnd.jupyter.widget-view+json": {
       "model_id": "8064246932534587a59ed6f71a603ecb",
       "version_major": 2,
       "version_minor": 0
      },
      "text/plain": [
       "FigureWidget({\n",
       "    'data': [{'close': array([8739.  , 8743.  , 8723.7 , 8708.1 , 8784.4 , 8755.2 , 8762.  , 87…"
      ]
     },
     "metadata": {},
     "output_type": "display_data"
    },
    {
     "data": {
      "application/vnd.plotly.v1+json": {
       "config": {
        "plotlyServerURL": "https://plot.ly"
       },
       "data": [
        {
         "close": [
          8739,
          8743,
          8723.7,
          8708.1,
          8784.4,
          8755.2,
          8762,
          8742.6,
          8512,
          8520.8,
          8532.1,
          8553.8,
          8516.5,
          8551.2,
          8516.7,
          8476,
          8459.9,
          8467.5,
          8454.2,
          8327.9,
          8124.4,
          8152,
          8205.3,
          8197.7,
          8223.9,
          8221.1,
          8194.2,
          8225.1,
          8357.2,
          8358.5,
          8348.6,
          8158.1,
          8205.9,
          8276,
          8255.2,
          8286.4,
          8266.2,
          8227.4,
          8290,
          8271.9,
          8278.1,
          8336.1,
          8346.07,
          8368.7,
          8373.5,
          8355,
          8319.5,
          8352.2,
          8337.8,
          8246.7,
          8270.1,
          8279.4,
          8296.4,
          8302,
          8274.8,
          8288.8,
          8311.8,
          8300.9,
          8271.6,
          8250,
          8163.4,
          8170,
          8206.1,
          8147.08,
          8069.9,
          8054.3,
          7958,
          7981.1,
          7995.1,
          7996,
          8016,
          8035.7,
          7964,
          8085,
          8123.6,
          8102.4,
          8130,
          8101.5,
          8105.5,
          8095.7,
          8074.9,
          8105,
          8130,
          8103.3,
          8209.1,
          8224.9,
          8224.2,
          8226.9,
          8214,
          8238.9,
          8215,
          8192.9,
          8200,
          8237.5,
          8226.4,
          8236.2,
          8216.7,
          8171.4,
          8210,
          8188.9,
          8238.5
         ],
         "high": [
          8793,
          8754.8,
          8743.1,
          8737.8,
          8855.7,
          8804.9,
          8789.1,
          8798.1,
          8742.7,
          8544,
          8580,
          8578.4,
          8553.8,
          8560.5,
          8558,
          8540.9,
          8552,
          8498.4,
          8492.7,
          8462.1,
          8328.7,
          8217,
          8236.87,
          8221.3,
          8270.8,
          8241.4,
          8241.9,
          8258.5,
          8420,
          8426.3,
          8380,
          8372.8,
          8212,
          8370.2,
          8318.5,
          8349.3,
          8328,
          8375,
          8290.8,
          8314,
          8366.9,
          8357.3,
          8396.8,
          8376.1,
          8394,
          8482.2,
          8373.5,
          8374.8,
          8364.3,
          8345.7,
          8280.6,
          8315.6,
          8313.2,
          8316,
          8337.4,
          8299.9,
          8363,
          8323.8,
          8320.6,
          8271.6,
          8266.4,
          8192,
          8232,
          8206.5,
          8147.08,
          8093,
          8063,
          8024.9,
          8022.7,
          8023,
          8057,
          8046.2,
          8035.7,
          8161,
          8138.7,
          8130.8,
          8145.8,
          8131.7,
          8128,
          8116,
          8095.8,
          8133,
          8157.6,
          8143.9,
          8224,
          8277.2,
          8250.1,
          8265.5,
          8246.9,
          8247.5,
          8255,
          8225.2,
          8211.6,
          8277.8,
          8270.7,
          8236.92,
          8250,
          8219,
          8210,
          8213,
          8250
         ],
         "low": [
          8714.9,
          8719.3,
          8653.2,
          8701.2,
          8695.8,
          8734.8,
          8743,
          8633,
          8480.2,
          8472.5,
          8485.7,
          8499,
          8438.1,
          8436.8,
          8479.3,
          8476,
          8415,
          8451,
          8420,
          8282,
          8100,
          8124.4,
          8152,
          8152,
          8156.1,
          8197.33,
          8177.4,
          8194.2,
          8225.1,
          8356.8,
          8342.2,
          8121.7,
          8158.07,
          8205.8,
          8192.6,
          8240.9,
          8266.1,
          8227.01,
          8222,
          8252.2,
          8271.9,
          8274,
          8319.2,
          8311.3,
          8354.9,
          8320.9,
          8316.4,
          8274.2,
          8333.1,
          8190.4,
          8202.5,
          8263,
          8256.7,
          8280,
          8227.8,
          8266.44,
          8287.8,
          8286.9,
          8218.3,
          8228.76,
          8119.4,
          8153,
          8170,
          8144.4,
          7982.5,
          7990.7,
          7925,
          7941.3,
          7944.8,
          7977.03,
          7995.8,
          7990.12,
          7950.8,
          7964,
          8080.3,
          8085.1,
          8093.1,
          8050,
          8079.7,
          8050,
          8036.7,
          8066.2,
          8080,
          8093.8,
          8085.9,
          8200.3,
          8205.5,
          8222.8,
          8200.3,
          8214,
          8211,
          8164.1,
          8178.7,
          8185.86,
          8222.1,
          8216,
          8216.1,
          8140.2,
          8145.2,
          8185.1,
          8188.8
         ],
         "name": "Price",
         "open": [
          8723.8,
          8739,
          8743,
          8723.7,
          8708.1,
          8784.4,
          8755.2,
          8762,
          8742.6,
          8512,
          8520.8,
          8532.1,
          8553.8,
          8516.5,
          8551.2,
          8516.7,
          8476,
          8459.9,
          8467.5,
          8454.2,
          8327.9,
          8124.4,
          8152,
          8205.3,
          8197.7,
          8223.9,
          8221.1,
          8194.2,
          8225.1,
          8357.2,
          8358.5,
          8348.6,
          8158.1,
          8205.9,
          8276,
          8255.2,
          8286.4,
          8266.2,
          8227.4,
          8290,
          8271.9,
          8278.1,
          8336.1,
          8346.07,
          8368.7,
          8373.5,
          8355,
          8319.5,
          8352.2,
          8337.8,
          8246.7,
          8270.1,
          8279.4,
          8296.4,
          8302,
          8274.8,
          8288.8,
          8311.8,
          8300.9,
          8271.6,
          8250,
          8163.4,
          8170,
          8206.1,
          8147.08,
          8069.9,
          8054.3,
          7958,
          7981.1,
          7995.1,
          7996,
          8016,
          8035.7,
          7964,
          8085,
          8123.6,
          8102.4,
          8130,
          8101.5,
          8105.5,
          8095.7,
          8074.9,
          8105,
          8130,
          8103.3,
          8209.1,
          8224.9,
          8224.2,
          8226.9,
          8214,
          8238.9,
          8215,
          8192.9,
          8200,
          8237.5,
          8226.4,
          8236.2,
          8216.7,
          8171.4,
          8210,
          8188.9
         ],
         "showlegend": false,
         "type": "candlestick",
         "uid": "be5690eb-1fb1-447f-bbe2-c87085671b48",
         "xaxis": "x",
         "yaxis": "y"
        },
        {
         "marker": {
          "color": "DodgerBlue"
         },
         "name": "Volume",
         "showlegend": false,
         "type": "bar",
         "uid": "5ce9108d-9052-4658-8ea9-4c5a42f7f751",
         "xaxis": "x2",
         "y": [
          8988053.53,
          2288904.12,
          8891773.14,
          2054868.28,
          17309722.58,
          5755257.93,
          4406994.79,
          16375559.14,
          30884779.63,
          13585970.87,
          10472251.96,
          8155202.96,
          23290913.96,
          12093565.11,
          4843869.92,
          3853166.53,
          10032951.79,
          3405881.75,
          4240758.74,
          16395261.35,
          35444924.51,
          8483096.75,
          5883397.96,
          8490665.11,
          12865221.51,
          4455698.32,
          8168354.32,
          5245383.3,
          25717067.45,
          10531322.67,
          5479810.58,
          24269108.57,
          5457501.18,
          15802905.65,
          15226854.34,
          22453283.24,
          2340358.52,
          6197892.42,
          4343002.13,
          4066149.47,
          6783076.23,
          6912962.07,
          7878424.24,
          5713233.04,
          4875954.44,
          18714875.92,
          2581490.9,
          7487354.53,
          2795240.16,
          15044687.38,
          8332633.39,
          3351047.32,
          3576555.25,
          4412616.65,
          10318967.27,
          3219867.82,
          6528544.81,
          2382210.39,
          14537481.76,
          4152516.31,
          14783512.43,
          5582076.74,
          6338329.71,
          4880828.76,
          38371646.78,
          7470965.86,
          13753738,
          7557856.78,
          7570792.35,
          5015084.5,
          9380234.91,
          4996646.68,
          6179627.26,
          23205279.31,
          7010761.88,
          4485979.41,
          5708771.23,
          7389891.81,
          8258179.49,
          6649750.04,
          6531746.84,
          5094499.16,
          8542485.5,
          4862989.56,
          10479980.91,
          22630523.07,
          2287274.86,
          2232387.29,
          1645824.8,
          2765733.43,
          3205020.99,
          3952721.71,
          1140139.1,
          7996865.15,
          2889095.12,
          1665538.5,
          1151743,
          9742621.25,
          2324514.41,
          2334663.76,
          2927809.75
         ],
         "yaxis": "y2"
        },
        {
         "mode": "lines",
         "name": "bitfinex:/USD-BTC",
         "type": "scatter",
         "uid": "3e0fa295-9351-4c5a-b276-05cb885bc559",
         "xaxis": "x3",
         "y": [
          8739,
          8743,
          8723.7,
          8708.1,
          8784.4,
          8755.2,
          8762,
          8742.6,
          8512,
          8520.8,
          8532.1,
          8553.8,
          8516.5,
          8551.2,
          8516.7,
          8476,
          8459.9,
          8467.5,
          8454.2,
          8327.9,
          8124.4,
          8152,
          8205.3,
          8197.7,
          8223.9,
          8221.1,
          8194.2,
          8225.1,
          8357.2,
          8358.5,
          8348.6,
          8158.1,
          8205.9,
          8276,
          8255.2,
          8286.4,
          8266.2,
          8227.4,
          8290,
          8271.9,
          8278.1,
          8336.1,
          8346.07,
          8368.7,
          8373.5,
          8355,
          8319.5,
          8352.2,
          8337.8,
          8246.7,
          8270.1,
          8279.4,
          8296.4,
          8302,
          8274.8,
          8288.8,
          8311.8,
          8300.9,
          8271.6,
          8250,
          8163.4,
          8170,
          8206.1,
          8147.08,
          8069.9,
          8054.3,
          7958,
          7981.1,
          7995.1,
          7996,
          8016,
          8035.7,
          7964,
          8085,
          8123.6,
          8102.4,
          8130,
          8101.5,
          8105.5,
          8095.7,
          8074.9,
          8105,
          8130,
          8103.3,
          8209.1,
          8224.9,
          8224.2,
          8226.9,
          8214,
          8238.9,
          8215,
          8192.9,
          8200,
          8237.5,
          8226.4,
          8236.2,
          8216.7,
          8171.4,
          8210,
          8188.9,
          8238.5
         ],
         "yaxis": "y3"
        },
        {
         "mode": "lines",
         "name": "bitfinex:/USD:/free",
         "type": "scatter",
         "uid": "f151d270-20bc-4f9f-bdb2-6c20abb873e6",
         "xaxis": "x3",
         "y": [
          10000,
          5000,
          5000,
          5000,
          2500,
          2500,
          1250,
          1250,
          1250,
          9728.01,
          9728.01,
          4864,
          4864,
          2432,
          2432,
          2432,
          2432,
          1216,
          1216,
          1216,
          8299.05,
          5310.31,
          2655.15,
          2655.15,
          1327.57,
          1327.57,
          1327.57,
          663.79,
          331.9,
          4574.75,
          7953.88,
          7953.88,
          3976.94,
          1988.47,
          1988.47,
          1988.47,
          1988.47,
          1988.47,
          1988.47,
          1590.78,
          1590.78,
          1590.78,
          5630.15,
          5630.15,
          6977.31,
          8994.23,
          8994.23,
          8994.23,
          8994.23,
          8994.23,
          8994.23,
          8994.23,
          8994.23,
          8994.23,
          8994.23,
          8994.23,
          8994.23,
          8994.23,
          8994.23,
          8994.23,
          8994.23,
          8994.23,
          8994.23,
          5396.54,
          5396.54,
          5396.54,
          4640.28,
          2699.62,
          1349.81,
          674.91,
          337.46,
          101.24,
          50.62,
          25.31,
          12.66,
          2392.55,
          1196.27,
          1196.27,
          598.14,
          598.14,
          598.14,
          598.14,
          598.14,
          598.14,
          598.14,
          2373.96,
          3064.1,
          3064.1,
          3064.1,
          3064.1,
          3064.1,
          3064.1,
          3064.1,
          3064.1,
          3064.1,
          3064.1,
          3064.1,
          3064.1,
          3064.1,
          3064.1,
          3064.1
         ],
         "yaxis": "y3"
        },
        {
         "mode": "lines",
         "name": "bitfinex:/USD:/locked",
         "type": "scatter",
         "uid": "44aadd7f-fc29-4cef-a13e-32b972b5c765",
         "xaxis": "x3",
         "y": [
          0,
          0,
          34867.08,
          55741.15,
          55741.15,
          68352.74,
          68352.74,
          75900.4,
          80418.97,
          83718.51,
          84379.1,
          84379.1,
          85440.14,
          85440.14,
          85758.35,
          86011.89,
          86213.76,
          86213.76,
          86375.09,
          86503.95,
          34608.26,
          9373.61,
          1825.95,
          18667.91,
          18667.91,
          32172.02,
          59171.04,
          59171.04,
          59171.04,
          46334.71,
          53197.27,
          56624.49,
          55963.9,
          55963.9,
          57995.67,
          58401,
          59051.98,
          59441.62,
          59557.96,
          59557.96,
          59651.54,
          59651.54,
          59651.54,
          59651.54,
          57793.75,
          57884.69,
          57884.69,
          57884.69,
          57884.69,
          57884.69,
          57884.69,
          57884.69,
          57884.69,
          57884.69,
          57884.69,
          57884.69,
          57884.69,
          57884.69,
          57884.69,
          57884.69,
          57884.69,
          57884.69,
          57884.69,
          57884.69,
          57884.69,
          57723.36,
          57594.5,
          56922.94,
          56578.46,
          56578.46,
          56578.46,
          56578.46,
          56578.46,
          56476.91,
          56476.91,
          56788.09,
          56788.09,
          57037.23,
          57037.23,
          57235.94,
          57394.72,
          57521.41,
          57623.14,
          57704.78,
          57704.78,
          57704.78,
          57836.93,
          57836.93,
          57836.93,
          57836.93,
          57712.76,
          57712.76,
          57712.76,
          57712.76,
          57712.76,
          57712.76,
          57712.76,
          57712.76,
          57712.76,
          57712.76,
          57712.76
         ],
         "yaxis": "y3"
        },
        {
         "mode": "lines",
         "name": "bitfinex:/USD:/total",
         "type": "scatter",
         "uid": "18c61f0d-5270-439e-80cd-523e136dd11a",
         "xaxis": "x3",
         "y": [
          10000,
          5000,
          39867.08,
          60741.15,
          58241.15,
          70852.74,
          69602.74,
          77150.4,
          81668.97,
          93446.52,
          94107.11,
          89243.1,
          90304.14,
          87872.14,
          88190.35,
          88443.89,
          88645.76,
          87429.76,
          87591.09,
          87719.95,
          42907.31,
          14683.92,
          4481.1,
          21323.06,
          19995.48,
          33499.59,
          60498.61,
          59834.83,
          59502.94,
          50909.46,
          61151.15,
          64578.37,
          59940.84,
          57952.37,
          59984.14,
          60389.47,
          61040.45,
          61430.09,
          61546.43,
          61148.74,
          61242.32,
          61242.32,
          65281.69,
          65281.69,
          64771.06,
          66878.92,
          66878.92,
          66878.92,
          66878.92,
          66878.92,
          66878.92,
          66878.92,
          66878.92,
          66878.92,
          66878.92,
          66878.92,
          66878.92,
          66878.92,
          66878.92,
          66878.92,
          66878.92,
          66878.92,
          66878.92,
          63281.23,
          63281.23,
          63119.9,
          62234.78,
          59622.56,
          57928.27,
          57253.37,
          56915.92,
          56679.7,
          56629.08,
          56502.22,
          56489.57,
          59180.64,
          57984.36,
          58233.5,
          57635.37,
          57834.08,
          57992.86,
          58119.55,
          58221.28,
          58302.92,
          58302.92,
          60078.74,
          60901.03,
          60901.03,
          60901.03,
          60901.03,
          60776.86,
          60776.86,
          60776.86,
          60776.86,
          60776.86,
          60776.86,
          60776.86,
          60776.86,
          60776.86,
          60776.86,
          60776.86
         ],
         "yaxis": "y3"
        },
        {
         "mode": "lines",
         "name": "bitfinex:/BTC:/free",
         "type": "scatter",
         "uid": "89e35d7a-6159-4e93-9f8a-fcf29279fad7",
         "xaxis": "x3",
         "y": [
          10,
          10,
          6,
          3.6,
          3.6,
          2.16,
          2.16,
          1.296,
          0.7776,
          0.3888,
          0.31104,
          0.31104,
          0.186624,
          0.186624,
          0.1492992,
          0.11943936,
          0.09555149,
          0.09555149,
          0.07644119,
          0.06115295,
          6.27393106,
          9.37064589,
          10.2937347,
          8.23498776,
          8.23498776,
          6.58799021,
          3.2939951,
          3.2939951,
          3.2939951,
          1.64699755,
          0.82349877,
          0.41174938,
          0.49248019,
          0.49248019,
          0.2462401,
          0.19699208,
          0.11819525,
          0.07091715,
          0.05673372,
          0.05673372,
          0.04538698,
          0.04538698,
          0.04538698,
          0.04538698,
          0.02723219,
          0.01633931,
          0.01633931,
          0.01633931,
          0.01633931,
          0.01633931,
          0.01633931,
          0.01633931,
          0.01633931,
          0.01633931,
          0.01633931,
          0.01633931,
          0.01633931,
          0.01633931,
          0.01633931,
          0.01633931,
          0.01633931,
          0.01633931,
          0.01633931,
          0.01633931,
          0.01633931,
          0.0362714,
          0.05222189,
          0.13635735,
          0.17939027,
          0.17939027,
          0.17939027,
          0.17939027,
          0.17939027,
          0.19210373,
          0.19210373,
          0.15368298,
          0.15368298,
          0.12294638,
          0.12294638,
          0.0983571,
          0.07868568,
          0.06294854,
          0.05035883,
          0.04028706,
          0.04028706,
          0.04028706,
          0.02417224,
          0.02417224,
          0.02417224,
          0.02417224,
          0.02417224,
          0.02417224,
          0.02417224,
          0.02417224,
          0.02417224,
          0.02417224,
          0.02417224,
          0.02417224,
          0.02417224,
          0.02417224,
          0.02417224
         ],
         "yaxis": "y3"
        },
        {
         "mode": "lines",
         "name": "bitfinex:/BTC:/locked",
         "type": "scatter",
         "uid": "9f6eac37-950d-42bd-960c-9739c8f15114",
         "xaxis": "x3",
         "y": [
          0,
          0.5704314,
          0.5704314,
          0.5704314,
          0.85665916,
          0.85665916,
          0.99900314,
          0.99900314,
          0.99900314,
          0,
          0,
          0.56837355,
          0.56837355,
          0.85307971,
          0.85307971,
          0.85307971,
          0.85307971,
          0.99638519,
          0.99638519,
          0.99638519,
          0.14330548,
          0.50921545,
          0.83394435,
          0.83394435,
          0.99540427,
          0.99540427,
          0.99540427,
          1.07616749,
          1.11639679,
          3.7756648,
          3.37017268,
          3.37017268,
          3.85619393,
          4.09778839,
          4.09778839,
          4.09778839,
          4.09778839,
          4.09778839,
          4.09778839,
          4.1456171,
          4.1456171,
          4.1456171,
          3.65959585,
          3.65959585,
          3.73750883,
          3.49591437,
          3.49591437,
          3.49591437,
          3.49591437,
          3.49591437,
          3.49591437,
          3.49591437,
          3.49591437,
          3.49591437,
          3.49591437,
          3.49591437,
          3.49591437,
          3.49591437,
          3.49591437,
          3.49591437,
          3.49591437,
          3.49591437,
          3.49591437,
          3.93301604,
          3.93301604,
          3.93301604,
          4.02638867,
          4.2692335,
          4.43785186,
          4.52201341,
          4.56408945,
          4.59346944,
          4.59975016,
          4.60291817,
          4.60447785,
          4.3106363,
          4.45783836,
          4.45783836,
          4.53144695,
          4.53144695,
          4.53144695,
          4.53144695,
          4.53144695,
          4.53144695,
          4.53144695,
          4.31447183,
          4.23031028,
          4.23031028,
          4.23031028,
          4.23031028,
          4.24533656,
          4.24533656,
          4.24533656,
          4.24533656,
          4.24533656,
          4.24533656,
          4.24533656,
          4.24533656,
          4.24533656,
          4.24533656,
          4.24533656
         ],
         "yaxis": "y3"
        },
        {
         "mode": "lines",
         "name": "bitfinex:/BTC:/total",
         "type": "scatter",
         "uid": "84533d1b-dfe4-4b7c-9a54-d1bca7484577",
         "xaxis": "x3",
         "y": [
          10,
          10.5704314,
          6.5704314,
          4.1704314,
          4.45665916,
          3.01665916,
          3.15900314,
          2.29500314,
          1.77660314,
          0.3888,
          0.31104,
          0.87941355,
          0.75499755,
          1.03970371,
          1.00237891,
          0.97251907,
          0.9486312,
          1.09193668,
          1.07282638,
          1.05753814,
          6.41723654,
          9.87986134,
          11.12767905,
          9.06893211,
          9.23039203,
          7.58339448,
          4.28939937,
          4.37016259,
          4.41039189,
          5.42266235,
          4.19367145,
          3.78192206,
          4.34867412,
          4.59026858,
          4.34402849,
          4.29478047,
          4.21598364,
          4.16870554,
          4.15452211,
          4.20235082,
          4.19100408,
          4.19100408,
          3.70498283,
          3.70498283,
          3.76474102,
          3.51225368,
          3.51225368,
          3.51225368,
          3.51225368,
          3.51225368,
          3.51225368,
          3.51225368,
          3.51225368,
          3.51225368,
          3.51225368,
          3.51225368,
          3.51225368,
          3.51225368,
          3.51225368,
          3.51225368,
          3.51225368,
          3.51225368,
          3.51225368,
          3.94935535,
          3.94935535,
          3.96928744,
          4.07861056,
          4.40559085,
          4.61724213,
          4.70140368,
          4.74347972,
          4.77285971,
          4.77914043,
          4.7950219,
          4.79658158,
          4.46431928,
          4.61152134,
          4.58078474,
          4.65439333,
          4.62980405,
          4.61013263,
          4.59439549,
          4.58180578,
          4.57173401,
          4.57173401,
          4.35475889,
          4.25448252,
          4.25448252,
          4.25448252,
          4.25448252,
          4.2695088,
          4.2695088,
          4.2695088,
          4.2695088,
          4.2695088,
          4.2695088,
          4.2695088,
          4.2695088,
          4.2695088,
          4.2695088,
          4.2695088
         ],
         "yaxis": "y3"
        },
        {
         "mode": "lines",
         "name": "bitfinex:/BTC:/worth",
         "type": "scatter",
         "uid": "1c8adcbc-2465-4e55-9c69-d7fc2291196b",
         "xaxis": "x3",
         "y": [
          87390,
          92417.2817302,
          57318.47240418001,
          36316.533674340004,
          39149.076725104,
          26411.454277632005,
          27679.18551268,
          20064.294451764,
          15122.445927679999,
          3312.8870399999996,
          2653.824384,
          7522.32762399,
          6429.936634575,
          8890.714364952,
          8536.960462797,
          8243.071637320001,
          8025.325088879999,
          9245.973837900001,
          9069.888781796,
          8807.071876105998,
          52136.196545576,
          80540.62964368,
          91305.94490896499,
          74344.384758147,
          75909.82101551701,
          62343.844359528004,
          35148.196317654,
          35945.024319009,
          36858.527103108,
          45325.323252475006,
          35011.28546747,
          30853.298357686,
          35684.784961307996,
          37989.06276808,
          35860.82399064801,
          35588.268886608,
          34850.16396496801,
          34297.607959796005,
          34440.9882919,
          34761.425747958005,
          34693.550874648,
          34936.629111288,
          30922.0460479781,
          31005.889809421,
          31524.05893097,
          29344.8794964,
          29220.19449076,
          29335.045186096006,
          29284.468733104,
          28964.502422856003,
          29046.689158968,
          29079.353118192,
          29139.061430752,
          29158.730051360002,
          29063.196751264,
          29112.368302783998,
          29193.150137424,
          29154.866572312,
          29051.957539488,
          28976.09286,
          28671.931691312,
          28695.1125656,
          28821.904923448,
          32175.713984878,
          31870.902738964996,
          31969.831827992002,
          32457.582836480004,
          35161.461132935,
          36915.312553563,
          37592.423825280006,
          38023.73343552,
          38353.268771646995,
          38061.07438452,
          38767.7520615,
          38965.510123288,
          36171.70053427199,
          37491.66849420001,
          37111.22757111,
          37726.185136315005,
          37481.504647584996,
          37226.359973987,
          37237.57544645,
          37250.0809914,
          37046.132203233,
          37529.821661491005,
          35817.456394361,
          34989.715140984,
          35001.202243788,
          34946.31941928,
          35052.256034027996,
          35074.014791999994,
          34979.658647519995,
          35009.97216,
          35170.07874,
          35122.687192319994,
          35164.52837856,
          35081.27295696,
          34887.864208319996,
          35052.667248,
          34962.580612319995,
          35174.34824879999
         ],
         "yaxis": "y3"
        },
        {
         "mode": "lines",
         "name": "net_worth",
         "type": "scatter",
         "uid": "2dc2075a-de83-4e22-9001-14c4f33b0696",
         "xaxis": "x3",
         "y": [
          97390,
          97417.2817302,
          97185.55240418001,
          97057.68367434,
          97390.226725104,
          97264.194277632,
          97281.92551268,
          97214.694451764,
          96791.41592768,
          96759.40704,
          96760.93438400001,
          96765.42762399,
          96734.076634575,
          96762.854364952,
          96727.310462797,
          96686.96163732,
          96671.08508887999,
          96675.7338379,
          96660.978781796,
          96527.021876106,
          95043.506545576,
          95224.54964368,
          95787.04490896499,
          95667.444758147,
          95905.301015517,
          95843.43435952801,
          95646.806317654,
          95779.854319009,
          96361.467103108,
          96234.783252475,
          96162.43546747,
          95431.668357686,
          95625.624961308,
          95941.43276808,
          95844.96399064802,
          95977.738886608,
          95890.61396496801,
          95727.697959796,
          95987.4182919,
          95910.165747958,
          95935.870874648,
          96178.949111288,
          96203.7360479781,
          96287.579809421,
          96295.11893097,
          96223.7994964,
          96099.11449076,
          96213.965186096,
          96163.388733104,
          95843.422422856,
          95925.609158968,
          95958.273118192,
          96017.981430752,
          96037.65005136,
          95942.116751264,
          95991.288302784,
          96072.070137424,
          96033.786572312,
          95930.87753948799,
          95855.01286,
          95550.851691312,
          95574.0325656,
          95700.824923448,
          95456.943984878,
          95152.132738965,
          95089.731827992,
          94692.36283648,
          94784.021132935,
          94843.582553563,
          94845.79382528001,
          94939.65343552,
          95032.96877164699,
          94690.15438451999,
          95269.97206150001,
          95455.080123288,
          95352.34053427199,
          95476.0284942,
          95344.72757111001,
          95361.555136315,
          95315.584647585,
          95219.219973987,
          95357.12544645,
          95471.3609914,
          95349.052203233,
          95832.741661491,
          95896.196394361,
          95890.745140984,
          95902.23224378799,
          95847.34941928,
          95953.28603402799,
          95850.87479199999,
          95756.51864751999,
          95786.83215999999,
          95946.93874,
          95899.54719232,
          95941.38837855999,
          95858.13295696,
          95664.72420832,
          95829.527248,
          95739.44061232,
          95951.20824879999
         ],
         "yaxis": "y3"
        },
        {
         "marker": {
          "color": "DarkGreen"
         },
         "mode": "lines",
         "name": "Net Worth",
         "type": "scatter",
         "uid": "d9691fd2-f666-4ad6-9d95-37178101d890",
         "xaxis": "x4",
         "y": [
          97390,
          97417.2817302,
          97185.55240418001,
          97057.68367434,
          97390.226725104,
          97264.194277632,
          97281.92551268,
          97214.694451764,
          96791.41592768,
          96759.40704,
          96760.93438400001,
          96765.42762399,
          96734.076634575,
          96762.854364952,
          96727.310462797,
          96686.96163732,
          96671.08508887999,
          96675.7338379,
          96660.978781796,
          96527.021876106,
          95043.506545576,
          95224.54964368,
          95787.04490896499,
          95667.444758147,
          95905.301015517,
          95843.43435952801,
          95646.806317654,
          95779.854319009,
          96361.467103108,
          96234.783252475,
          96162.43546747,
          95431.668357686,
          95625.624961308,
          95941.43276808,
          95844.96399064802,
          95977.738886608,
          95890.61396496801,
          95727.697959796,
          95987.4182919,
          95910.165747958,
          95935.870874648,
          96178.949111288,
          96203.7360479781,
          96287.579809421,
          96295.11893097,
          96223.7994964,
          96099.11449076,
          96213.965186096,
          96163.388733104,
          95843.422422856,
          95925.609158968,
          95958.273118192,
          96017.981430752,
          96037.65005136,
          95942.116751264,
          95991.288302784,
          96072.070137424,
          96033.786572312,
          95930.87753948799,
          95855.01286,
          95550.851691312,
          95574.0325656,
          95700.824923448,
          95456.943984878,
          95152.132738965,
          95089.731827992,
          94692.36283648,
          94784.021132935,
          94843.582553563,
          94845.79382528001,
          94939.65343552,
          95032.96877164699,
          94690.15438451999,
          95269.97206150001,
          95455.080123288,
          95352.34053427199,
          95476.0284942,
          95344.72757111001,
          95361.555136315,
          95315.584647585,
          95219.219973987,
          95357.12544645,
          95471.3609914,
          95349.052203233,
          95832.741661491,
          95896.196394361,
          95890.745140984,
          95902.23224378799,
          95847.34941928,
          95953.28603402799,
          95850.87479199999,
          95756.51864751999,
          95786.83215999999,
          95946.93874,
          95899.54719232,
          95941.38837855999,
          95858.13295696,
          95664.72420832,
          95829.527248,
          95739.44061232,
          95951.20824879999
         ],
         "yaxis": "y4"
        }
       ],
       "layout": {
        "annotations": [
         {
          "arrowcolor": "FireBrick",
          "arrowhead": 2,
          "arrowsize": 0.8,
          "arrowwidth": 4,
          "ax": 0,
          "ay": -15,
          "hoverlabel": {
           "bgcolor": "FireBrick"
          },
          "hovertext": "Step 45 [2018-05-17 02:00:00]<br>SELL 0.0108602 BTC @ 8373.5 USD MARKET<br>Total: 90.94 USD - Comm.: 0.00003268 BTC",
          "opacity": 0.6,
          "showarrow": true,
          "x": 44,
          "xref": "x",
          "y": 8373.5,
          "yref": "y"
         },
         {
          "arrowcolor": "FireBrick",
          "arrowhead": 2,
          "arrowsize": 0.8,
          "arrowwidth": 4,
          "ax": 0,
          "ay": -15,
          "hoverlabel": {
           "bgcolor": "FireBrick"
          },
          "hovertext": "Step 45 [2018-05-17 02:00:00]<br>SELL 0.24086968 BTC @ 8373.5 USD MARKET<br>Total: 2016.92 USD - Comm.: 0.00072478 BTC",
          "opacity": 0.6,
          "showarrow": true,
          "x": 44,
          "xref": "x",
          "y": 8373.5,
          "yref": "y"
         },
         {
          "arrowcolor": "FireBrick",
          "arrowhead": 2,
          "arrowsize": 0.8,
          "arrowwidth": 4,
          "ax": 0,
          "ay": -15,
          "hoverlabel": {
           "bgcolor": "FireBrick"
          },
          "hovertext": "Step 44 [2018-05-17 01:00:00]<br>SELL 0.01810033 BTC @ 8368.7 USD MARKET<br>Total: 151.48 USD - Comm.: 0.00005446 BTC",
          "opacity": 0.6,
          "showarrow": true,
          "x": 43,
          "xref": "x",
          "y": 8368.7,
          "yref": "y"
         },
         {
          "arrowcolor": "DarkGreen",
          "arrowhead": 2,
          "arrowsize": 0.8,
          "arrowwidth": 4,
          "ax": 0,
          "ay": 15,
          "hoverlabel": {
           "bgcolor": "DarkGreen"
          },
          "hovertext": "Step 44 [2018-05-17 01:00:00]<br>BUY 0.2393729 BTC @ 8368.7 USD MARKET<br>Total: 2003.24 USD - Comm.: 6.03 USD",
          "opacity": 0.6,
          "showarrow": true,
          "x": 43,
          "xref": "x",
          "y": 8368.7,
          "yref": "y"
         },
         {
          "arrowcolor": "FireBrick",
          "arrowhead": 2,
          "arrowsize": 0.8,
          "arrowwidth": 4,
          "ax": 0,
          "ay": -15,
          "hoverlabel": {
           "bgcolor": "FireBrick"
          },
          "hovertext": "Step 44 [2018-05-17 01:00:00]<br>SELL 0.16097554 BTC @ 8368.7 USD MARKET<br>Total: 1347.16 USD - Comm.: 0.00048438 BTC",
          "opacity": 0.6,
          "showarrow": true,
          "x": 43,
          "xref": "x",
          "y": 8368.7,
          "yref": "y"
         },
         {
          "arrowcolor": "FireBrick",
          "arrowhead": 2,
          "arrowsize": 0.8,
          "arrowwidth": 4,
          "ax": 0,
          "ay": -15,
          "hoverlabel": {
           "bgcolor": "FireBrick"
          },
          "hovertext": "Step 42 [2018-05-16 23:00:00]<br>SELL 0.48456319 BTC @ 8336.1 USD MARKET<br>Total: 4039.37 USD - Comm.: 0.00145806 BTC",
          "opacity": 0.6,
          "showarrow": true,
          "x": 41,
          "xref": "x",
          "y": 8336.1,
          "yref": "y"
         },
         {
          "arrowcolor": "FireBrick",
          "arrowhead": 2,
          "arrowsize": 0.8,
          "arrowwidth": 4,
          "ax": 0,
          "ay": -15,
          "hoverlabel": {
           "bgcolor": "FireBrick"
          },
          "hovertext": "Step 40 [2018-05-16 21:00:00]<br>SELL 0.0113127 BTC @ 8271.9 USD MARKET<br>Total: 93.58 USD - Comm.: 0.00003404 BTC",
          "opacity": 0.6,
          "showarrow": true,
          "x": 39,
          "xref": "x",
          "y": 8271.9,
          "yref": "y"
         },
         {
          "arrowcolor": "DarkGreen",
          "arrowhead": 2,
          "arrowsize": 0.8,
          "arrowwidth": 4,
          "ax": 0,
          "ay": 15,
          "hoverlabel": {
           "bgcolor": "DarkGreen"
          },
          "hovertext": "Step 39 [2018-05-16 20:00:00]<br>BUY 0.04782871 BTC @ 8290.0 USD MARKET<br>Total: 396.5 USD - Comm.: 1.19 USD",
          "opacity": 0.6,
          "showarrow": true,
          "x": 38,
          "xref": "x",
          "y": 8290,
          "yref": "y"
         },
         {
          "arrowcolor": "FireBrick",
          "arrowhead": 2,
          "arrowsize": 0.8,
          "arrowwidth": 4,
          "ax": 0,
          "ay": -15,
          "hoverlabel": {
           "bgcolor": "FireBrick"
          },
          "hovertext": "Step 38 [2018-05-16 19:00:00]<br>SELL 0.01414088 BTC @ 8227.4 USD MARKET<br>Total: 116.34 USD - Comm.: 0.00004255 BTC",
          "opacity": 0.6,
          "showarrow": true,
          "x": 37,
          "xref": "x",
          "y": 8227.4,
          "yref": "y"
         },
         {
          "arrowcolor": "FireBrick",
          "arrowhead": 2,
          "arrowsize": 0.8,
          "arrowwidth": 4,
          "ax": 0,
          "ay": -15,
          "hoverlabel": {
           "bgcolor": "FireBrick"
          },
          "hovertext": "Step 37 [2018-05-16 18:00:00]<br>SELL 0.04713627 BTC @ 8266.2 USD MARKET<br>Total: 389.64 USD - Comm.: 0.00014183 BTC",
          "opacity": 0.6,
          "showarrow": true,
          "x": 36,
          "xref": "x",
          "y": 8266.2,
          "yref": "y"
         },
         {
          "arrowcolor": "FireBrick",
          "arrowhead": 2,
          "arrowsize": 0.8,
          "arrowwidth": 4,
          "ax": 0,
          "ay": -15,
          "hoverlabel": {
           "bgcolor": "FireBrick"
          },
          "hovertext": "Step 36 [2018-05-16 17:00:00]<br>SELL 0.07856044 BTC @ 8286.4 USD MARKET<br>Total: 650.98 USD - Comm.: 0.00023639 BTC",
          "opacity": 0.6,
          "showarrow": true,
          "x": 35,
          "xref": "x",
          "y": 8286.4,
          "yref": "y"
         },
         {
          "arrowcolor": "FireBrick",
          "arrowhead": 2,
          "arrowsize": 0.8,
          "arrowwidth": 4,
          "ax": 0,
          "ay": -15,
          "hoverlabel": {
           "bgcolor": "FireBrick"
          },
          "hovertext": "Step 35 [2018-05-16 16:00:00]<br>SELL 0.04910028 BTC @ 8255.2 USD MARKET<br>Total: 405.33 USD - Comm.: 0.00014774 BTC",
          "opacity": 0.6,
          "showarrow": true,
          "x": 34,
          "xref": "x",
          "y": 8255.2,
          "yref": "y"
         },
         {
          "arrowcolor": "FireBrick",
          "arrowhead": 2,
          "arrowsize": 0.8,
          "arrowwidth": 4,
          "ax": 0,
          "ay": -15,
          "hoverlabel": {
           "bgcolor": "FireBrick"
          },
          "hovertext": "Step 34 [2018-05-16 15:00:00]<br>SELL 0.24550137 BTC @ 8276.0 USD MARKET<br>Total: 2031.77 USD - Comm.: 0.00073872 BTC",
          "opacity": 0.6,
          "showarrow": true,
          "x": 33,
          "xref": "x",
          "y": 8276,
          "yref": "y"
         },
         {
          "arrowcolor": "DarkGreen",
          "arrowhead": 2,
          "arrowsize": 0.8,
          "arrowwidth": 4,
          "ax": 0,
          "ay": 15,
          "hoverlabel": {
           "bgcolor": "DarkGreen"
          },
          "hovertext": "Step 33 [2018-05-16 14:00:00]<br>BUY 0.24159446 BTC @ 8205.9 USD MARKET<br>Total: 1982.5 USD - Comm.: 5.97 USD",
          "opacity": 0.6,
          "showarrow": true,
          "x": 32,
          "xref": "x",
          "y": 8205.9,
          "yref": "y"
         },
         {
          "arrowcolor": "DarkGreen",
          "arrowhead": 2,
          "arrowsize": 0.8,
          "arrowwidth": 4,
          "ax": 0,
          "ay": 15,
          "hoverlabel": {
           "bgcolor": "DarkGreen"
          },
          "hovertext": "Step 32 [2018-05-16 13:00:00]<br>BUY 0.48602125 BTC @ 8158.1 USD MARKET<br>Total: 3965.01 USD - Comm.: 11.93 USD",
          "opacity": 0.6,
          "showarrow": true,
          "x": 31,
          "xref": "x",
          "y": 8158.1,
          "yref": "y"
         },
         {
          "arrowcolor": "DarkGreen",
          "arrowhead": 2,
          "arrowsize": 0.8,
          "arrowwidth": 4,
          "ax": 0,
          "ay": 15,
          "hoverlabel": {
           "bgcolor": "DarkGreen"
          },
          "hovertext": "Step 32 [2018-05-16 13:00:00]<br>BUY 0.08073081 BTC @ 8158.1 USD MARKET<br>Total: 658.61 USD - Comm.: 1.98 USD",
          "opacity": 0.6,
          "showarrow": true,
          "x": 31,
          "xref": "x",
          "y": 8158.1,
          "yref": "y"
         },
         {
          "arrowcolor": "FireBrick",
          "arrowhead": 2,
          "arrowsize": 0.8,
          "arrowwidth": 4,
          "ax": 0,
          "ay": -15,
          "hoverlabel": {
           "bgcolor": "FireBrick"
          },
          "hovertext": "Step 31 [2018-05-16 12:00:00]<br>SELL 0.41051414 BTC @ 8348.6 USD MARKET<br>Total: 3427.22 USD - Comm.: 0.00123525 BTC",
          "opacity": 0.6,
          "showarrow": true,
          "x": 30,
          "xref": "x",
          "y": 8348.6,
          "yref": "y"
         },
         {
          "arrowcolor": "FireBrick",
          "arrowhead": 2,
          "arrowsize": 0.8,
          "arrowwidth": 4,
          "ax": 0,
          "ay": -15,
          "hoverlabel": {
           "bgcolor": "FireBrick"
          },
          "hovertext": "Step 30 [2018-05-16 11:00:00]<br>SELL 0.82102828 BTC @ 8358.5 USD MARKET<br>Total: 6862.56 USD - Comm.: 0.00247050 BTC",
          "opacity": 0.6,
          "showarrow": true,
          "x": 29,
          "xref": "x",
          "y": 8358.5,
          "yref": "y"
         },
         {
          "arrowcolor": "FireBrick",
          "arrowhead": 2,
          "arrowsize": 0.8,
          "arrowwidth": 4,
          "ax": 0,
          "ay": -15,
          "hoverlabel": {
           "bgcolor": "FireBrick"
          },
          "hovertext": "Step 30 [2018-05-16 11:00:00]<br>SELL 0.08052093 BTC @ 8358.5 USD MARKET<br>Total: 673.03 USD - Comm.: 0.00024229 BTC",
          "opacity": 0.6,
          "showarrow": true,
          "x": 29,
          "xref": "x",
          "y": 8358.5,
          "yref": "y"
         },
         {
          "arrowcolor": "FireBrick",
          "arrowhead": 2,
          "arrowsize": 0.8,
          "arrowwidth": 4,
          "ax": 0,
          "ay": -15,
          "hoverlabel": {
           "bgcolor": "FireBrick"
          },
          "hovertext": "Step 30 [2018-05-16 11:00:00]<br>SELL 0.32375471 BTC @ 8358.5 USD MARKET<br>Total: 2706.1 USD - Comm.: 0.00097419 BTC",
          "opacity": 0.6,
          "showarrow": true,
          "x": 29,
          "xref": "x",
          "y": 8358.5,
          "yref": "y"
         },
         {
          "arrowcolor": "FireBrick",
          "arrowhead": 2,
          "arrowsize": 0.8,
          "arrowwidth": 4,
          "ax": 0,
          "ay": -15,
          "hoverlabel": {
           "bgcolor": "FireBrick"
          },
          "hovertext": "Step 29 [2018-05-16 10:00:00]<br>SELL 1.64205656 BTC @ 8357.2 USD MARKET<br>Total: 13723.0 USD - Comm.: 0.00494099 BTC",
          "opacity": 0.6,
          "showarrow": true,
          "x": 28,
          "xref": "x",
          "y": 8357.2,
          "yref": "y"
         },
         {
          "arrowcolor": "DarkGreen",
          "arrowhead": 2,
          "arrowsize": 0.8,
          "arrowwidth": 4,
          "ax": 0,
          "ay": 15,
          "hoverlabel": {
           "bgcolor": "DarkGreen"
          },
          "hovertext": "Step 29 [2018-05-16 10:00:00]<br>BUY 3.16848346 BTC @ 8357.2 USD MARKET<br>Total: 26479.65 USD - Comm.: 79.68 USD",
          "opacity": 0.6,
          "showarrow": true,
          "x": 28,
          "xref": "x",
          "y": 8357.2,
          "yref": "y"
         },
         {
          "arrowcolor": "FireBrick",
          "arrowhead": 2,
          "arrowsize": 0.8,
          "arrowwidth": 4,
          "ax": 0,
          "ay": -15,
          "hoverlabel": {
           "bgcolor": "FireBrick"
          },
          "hovertext": "Step 29 [2018-05-16 10:00:00]<br>SELL 0.5076878 BTC @ 8357.2 USD MARKET<br>Total: 4242.85 USD - Comm.: 0.00152765 BTC",
          "opacity": 0.6,
          "showarrow": true,
          "x": 28,
          "xref": "x",
          "y": 8357.2,
          "yref": "y"
         },
         {
          "arrowcolor": "DarkGreen",
          "arrowhead": 2,
          "arrowsize": 0.8,
          "arrowwidth": 4,
          "ax": 0,
          "ay": 15,
          "hoverlabel": {
           "bgcolor": "DarkGreen"
          },
          "hovertext": "Step 28 [2018-05-16 09:00:00]<br>BUY 0.0402293 BTC @ 8225.1 USD MARKET<br>Total: 330.89 USD - Comm.: 1.00 USD",
          "opacity": 0.6,
          "showarrow": true,
          "x": 27,
          "xref": "x",
          "y": 8225.1,
          "yref": "y"
         },
         {
          "arrowcolor": "DarkGreen",
          "arrowhead": 2,
          "arrowsize": 0.8,
          "arrowwidth": 4,
          "ax": 0,
          "ay": 15,
          "hoverlabel": {
           "bgcolor": "DarkGreen"
          },
          "hovertext": "Step 27 [2018-05-16 08:00:00]<br>BUY 0.08076322 BTC @ 8194.2 USD MARKET<br>Total: 661.79 USD - Comm.: 1.99 USD",
          "opacity": 0.6,
          "showarrow": true,
          "x": 26,
          "xref": "x",
          "y": 8194.2,
          "yref": "y"
         },
         {
          "arrowcolor": "FireBrick",
          "arrowhead": 2,
          "arrowsize": 0.8,
          "arrowwidth": 4,
          "ax": 0,
          "ay": -15,
          "hoverlabel": {
           "bgcolor": "FireBrick"
          },
          "hovertext": "Step 26 [2018-05-16 07:00:00]<br>SELL 3.28411312 BTC @ 8221.1 USD MARKET<br>Total: 26999.02 USD - Comm.: 0.00988199 BTC",
          "opacity": 0.6,
          "showarrow": true,
          "x": 25,
          "xref": "x",
          "y": 8221.1,
          "yref": "y"
         },
         {
          "arrowcolor": "FireBrick",
          "arrowhead": 2,
          "arrowsize": 0.8,
          "arrowwidth": 4,
          "ax": 0,
          "ay": -15,
          "hoverlabel": {
           "bgcolor": "FireBrick"
          },
          "hovertext": "Step 25 [2018-05-16 06:00:00]<br>SELL 1.64205656 BTC @ 8223.9 USD MARKET<br>Total: 13504.11 USD - Comm.: 0.00494099 BTC",
          "opacity": 0.6,
          "showarrow": true,
          "x": 24,
          "xref": "x",
          "y": 8223.9,
          "yref": "y"
         },
         {
          "arrowcolor": "DarkGreen",
          "arrowhead": 2,
          "arrowsize": 0.8,
          "arrowwidth": 4,
          "ax": 0,
          "ay": 15,
          "hoverlabel": {
           "bgcolor": "DarkGreen"
          },
          "hovertext": "Step 24 [2018-05-16 05:00:00]<br>BUY 0.16145992 BTC @ 8197.7 USD MARKET<br>Total: 1323.6 USD - Comm.: 3.98 USD",
          "opacity": 0.6,
          "showarrow": true,
          "x": 23,
          "xref": "x",
          "y": 8197.7,
          "yref": "y"
         },
         {
          "arrowcolor": "FireBrick",
          "arrowhead": 2,
          "arrowsize": 0.8,
          "arrowwidth": 4,
          "ax": 0,
          "ay": -15,
          "hoverlabel": {
           "bgcolor": "FireBrick"
          },
          "hovertext": "Step 23 [2018-05-16 04:00:00]<br>SELL 2.0525707 BTC @ 8205.3 USD MARKET<br>Total: 16841.96 USD - Comm.: 0.00617624 BTC",
          "opacity": 0.6,
          "showarrow": true,
          "x": 22,
          "xref": "x",
          "y": 8205.3,
          "yref": "y"
         },
         {
          "arrowcolor": "DarkGreen",
          "arrowhead": 2,
          "arrowsize": 0.8,
          "arrowwidth": 4,
          "ax": 0,
          "ay": 15,
          "hoverlabel": {
           "bgcolor": "DarkGreen"
          },
          "hovertext": "Step 22 [2018-05-16 03:00:00]<br>BUY 0.3247289 BTC @ 8152.0 USD MARKET<br>Total: 2647.19 USD - Comm.: 7.97 USD",
          "opacity": 0.6,
          "showarrow": true,
          "x": 21,
          "xref": "x",
          "y": 8152,
          "yref": "y"
         },
         {
          "arrowcolor": "DarkGreen",
          "arrowhead": 2,
          "arrowsize": 0.8,
          "arrowwidth": 4,
          "ax": 0,
          "ay": 15,
          "hoverlabel": {
           "bgcolor": "DarkGreen"
          },
          "hovertext": "Step 22 [2018-05-16 03:00:00]<br>BUY 0.92308881 BTC @ 8152.0 USD MARKET<br>Total: 7525.02 USD - Comm.: 22.64 USD",
          "opacity": 0.6,
          "showarrow": true,
          "x": 21,
          "xref": "x",
          "y": 8152,
          "yref": "y"
         },
         {
          "arrowcolor": "DarkGreen",
          "arrowhead": 2,
          "arrowsize": 0.8,
          "arrowwidth": 4,
          "ax": 0,
          "ay": 15,
          "hoverlabel": {
           "bgcolor": "DarkGreen"
          },
          "hovertext": "Step 21 [2018-05-16 02:00:00]<br>BUY 0.50921545 BTC @ 8124.4 USD MARKET<br>Total: 4137.07 USD - Comm.: 12.45 USD",
          "opacity": 0.6,
          "showarrow": true,
          "x": 20,
          "xref": "x",
          "y": 8124.4,
          "yref": "y"
         },
         {
          "arrowcolor": "FireBrick",
          "arrowhead": 2,
          "arrowsize": 0.8,
          "arrowwidth": 4,
          "ax": 0,
          "ay": -15,
          "hoverlabel": {
           "bgcolor": "FireBrick"
          },
          "hovertext": "Step 21 [2018-05-16 02:00:00]<br>SELL 0.14287556 BTC @ 8124.4 USD MARKET<br>Total: 1160.78 USD - Comm.: 0.00042992 BTC",
          "opacity": 0.6,
          "showarrow": true,
          "x": 20,
          "xref": "x",
          "y": 8124.4,
          "yref": "y"
         },
         {
          "arrowcolor": "DarkGreen",
          "arrowhead": 2,
          "arrowsize": 0.8,
          "arrowwidth": 4,
          "ax": 0,
          "ay": 15,
          "hoverlabel": {
           "bgcolor": "DarkGreen"
          },
          "hovertext": "Step 21 [2018-05-16 02:00:00]<br>BUY 0.13020777 BTC @ 8124.4 USD MARKET<br>Total: 1057.86 USD - Comm.: 3.18 USD",
          "opacity": 0.6,
          "showarrow": true,
          "x": 20,
          "xref": "x",
          "y": 8124.4,
          "yref": "y"
         },
         {
          "arrowcolor": "DarkGreen",
          "arrowhead": 2,
          "arrowsize": 0.8,
          "arrowwidth": 4,
          "ax": 0,
          "ay": 15,
          "hoverlabel": {
           "bgcolor": "DarkGreen"
          },
          "hovertext": "Step 21 [2018-05-16 02:00:00]<br>BUY 0.40490867 BTC @ 8124.4 USD MARKET<br>Total: 3289.64 USD - Comm.: 9.90 USD",
          "opacity": 0.6,
          "showarrow": true,
          "x": 20,
          "xref": "x",
          "y": 8124.4,
          "yref": "y"
         },
         {
          "arrowcolor": "DarkGreen",
          "arrowhead": 2,
          "arrowsize": 0.8,
          "arrowwidth": 4,
          "ax": 0,
          "ay": 15,
          "hoverlabel": {
           "bgcolor": "DarkGreen"
          },
          "hovertext": "Step 21 [2018-05-16 02:00:00]<br>BUY 2.56159839 BTC @ 8124.4 USD MARKET<br>Total: 20811.45 USD - Comm.: 62.62 USD",
          "opacity": 0.6,
          "showarrow": true,
          "x": 20,
          "xref": "x",
          "y": 8124.4,
          "yref": "y"
         },
         {
          "arrowcolor": "FireBrick",
          "arrowhead": 2,
          "arrowsize": 0.8,
          "arrowwidth": 4,
          "ax": 0,
          "ay": -15,
          "hoverlabel": {
           "bgcolor": "FireBrick"
          },
          "hovertext": "Step 20 [2018-05-16 01:00:00]<br>SELL 0.0121939 BTC @ 8327.9 USD MARKET<br>Total: 101.55 USD - Comm.: 0.00003669 BTC",
          "opacity": 0.6,
          "showarrow": true,
          "x": 19,
          "xref": "x",
          "y": 8327.9,
          "yref": "y"
         },
         {
          "arrowcolor": "FireBrick",
          "arrowhead": 2,
          "arrowsize": 0.8,
          "arrowwidth": 4,
          "ax": 0,
          "ay": -15,
          "hoverlabel": {
           "bgcolor": "FireBrick"
          },
          "hovertext": "Step 20 [2018-05-16 01:00:00]<br>SELL 0.28385204 BTC @ 8327.9 USD MARKET<br>Total: 2363.89 USD - Comm.: 0.00085412 BTC",
          "opacity": 0.6,
          "showarrow": true,
          "x": 19,
          "xref": "x",
          "y": 8327.9,
          "yref": "y"
         },
         {
          "arrowcolor": "FireBrick",
          "arrowhead": 2,
          "arrowsize": 0.8,
          "arrowwidth": 4,
          "ax": 0,
          "ay": -15,
          "hoverlabel": {
           "bgcolor": "FireBrick"
          },
          "hovertext": "Step 20 [2018-05-16 01:00:00]<br>SELL 0.56666843 BTC @ 8327.9 USD MARKET<br>Total: 4719.16 USD - Comm.: 0.00170512 BTC",
          "opacity": 0.6,
          "showarrow": true,
          "x": 19,
          "xref": "x",
          "y": 8327.9,
          "yref": "y"
         },
         {
          "arrowcolor": "DarkGreen",
          "arrowhead": 2,
          "arrowsize": 0.8,
          "arrowwidth": 4,
          "ax": 0,
          "ay": 15,
          "hoverlabel": {
           "bgcolor": "DarkGreen"
          },
          "hovertext": "Step 20 [2018-05-16 01:00:00]<br>BUY 0.5409539 BTC @ 8327.9 USD MARKET<br>Total: 4505.01 USD - Comm.: 13.56 USD",
          "opacity": 0.6,
          "showarrow": true,
          "x": 19,
          "xref": "x",
          "y": 8327.9,
          "yref": "y"
         },
         {
          "arrowcolor": "DarkGreen",
          "arrowhead": 2,
          "arrowsize": 0.8,
          "arrowwidth": 4,
          "ax": 0,
          "ay": 15,
          "hoverlabel": {
           "bgcolor": "DarkGreen"
          },
          "hovertext": "Step 20 [2018-05-16 01:00:00]<br>BUY 1.50983561 BTC @ 8327.9 USD MARKET<br>Total: 12573.76 USD - Comm.: 37.83 USD",
          "opacity": 0.6,
          "showarrow": true,
          "x": 19,
          "xref": "x",
          "y": 8327.9,
          "yref": "y"
         },
         {
          "arrowcolor": "DarkGreen",
          "arrowhead": 2,
          "arrowsize": 0.8,
          "arrowwidth": 4,
          "ax": 0,
          "ay": 15,
          "hoverlabel": {
           "bgcolor": "DarkGreen"
          },
          "hovertext": "Step 20 [2018-05-16 01:00:00]<br>BUY 4.17421919 BTC @ 8327.9 USD MARKET<br>Total: 34762.48 USD - Comm.: 104.60 USD",
          "opacity": 0.6,
          "showarrow": true,
          "x": 19,
          "xref": "x",
          "y": 8327.9,
          "yref": "y"
         },
         {
          "arrowcolor": "FireBrick",
          "arrowhead": 2,
          "arrowsize": 0.8,
          "arrowwidth": 4,
          "ax": 0,
          "ay": -15,
          "hoverlabel": {
           "bgcolor": "FireBrick"
          },
          "hovertext": "Step 19 [2018-05-16 00:00:00]<br>SELL 0.01524238 BTC @ 8454.2 USD MARKET<br>Total: 128.86 USD - Comm.: 0.00004586 BTC",
          "opacity": 0.6,
          "showarrow": true,
          "x": 18,
          "xref": "x",
          "y": 8454.2,
          "yref": "y"
         },
         {
          "arrowcolor": "FireBrick",
          "arrowhead": 2,
          "arrowsize": 0.8,
          "arrowwidth": 4,
          "ax": 0,
          "ay": -15,
          "hoverlabel": {
           "bgcolor": "FireBrick"
          },
          "hovertext": "Step 18 [2018-05-15 23:00:00]<br>SELL 0.01905297 BTC @ 8467.5 USD MARKET<br>Total: 161.33 USD - Comm.: 0.00005733 BTC",
          "opacity": 0.6,
          "showarrow": true,
          "x": 17,
          "xref": "x",
          "y": 8467.5,
          "yref": "y"
         },
         {
          "arrowcolor": "DarkGreen",
          "arrowhead": 2,
          "arrowsize": 0.8,
          "arrowwidth": 4,
          "ax": 0,
          "ay": 15,
          "hoverlabel": {
           "bgcolor": "DarkGreen"
          },
          "hovertext": "Step 17 [2018-05-15 22:00:00]<br>BUY 0.14330548 BTC @ 8459.9 USD MARKET<br>Total: 1212.35 USD - Comm.: 3.65 USD",
          "opacity": 0.6,
          "showarrow": true,
          "x": 16,
          "xref": "x",
          "y": 8459.9,
          "yref": "y"
         },
         {
          "arrowcolor": "FireBrick",
          "arrowhead": 2,
          "arrowsize": 0.8,
          "arrowwidth": 4,
          "ax": 0,
          "ay": -15,
          "hoverlabel": {
           "bgcolor": "FireBrick"
          },
          "hovertext": "Step 16 [2018-05-15 21:00:00]<br>SELL 0.02381621 BTC @ 8476.0 USD MARKET<br>Total: 201.87 USD - Comm.: 0.00007166 BTC",
          "opacity": 0.6,
          "showarrow": true,
          "x": 15,
          "xref": "x",
          "y": 8476,
          "yref": "y"
         },
         {
          "arrowcolor": "FireBrick",
          "arrowhead": 2,
          "arrowsize": 0.8,
          "arrowwidth": 4,
          "ax": 0,
          "ay": -15,
          "hoverlabel": {
           "bgcolor": "FireBrick"
          },
          "hovertext": "Step 15 [2018-05-15 20:00:00]<br>SELL 0.02977026 BTC @ 8516.7 USD MARKET<br>Total: 253.54 USD - Comm.: 0.00008958 BTC",
          "opacity": 0.6,
          "showarrow": true,
          "x": 14,
          "xref": "x",
          "y": 8516.7,
          "yref": "y"
         },
         {
          "arrowcolor": "FireBrick",
          "arrowhead": 2,
          "arrowsize": 0.8,
          "arrowwidth": 4,
          "ax": 0,
          "ay": -15,
          "hoverlabel": {
           "bgcolor": "FireBrick"
          },
          "hovertext": "Step 14 [2018-05-15 19:00:00]<br>SELL 0.03721283 BTC @ 8551.2 USD MARKET<br>Total: 318.21 USD - Comm.: 0.00011197 BTC",
          "opacity": 0.6,
          "showarrow": true,
          "x": 13,
          "xref": "x",
          "y": 8551.2,
          "yref": "y"
         },
         {
          "arrowcolor": "DarkGreen",
          "arrowhead": 2,
          "arrowsize": 0.8,
          "arrowwidth": 4,
          "ax": 0,
          "ay": 15,
          "hoverlabel": {
           "bgcolor": "DarkGreen"
          },
          "hovertext": "Step 13 [2018-05-15 18:00:00]<br>BUY 0.28470616 BTC @ 8516.5 USD MARKET<br>Total: 2424.7 USD - Comm.: 7.30 USD",
          "opacity": 0.6,
          "showarrow": true,
          "x": 12,
          "xref": "x",
          "y": 8516.5,
          "yref": "y"
         },
         {
          "arrowcolor": "FireBrick",
          "arrowhead": 2,
          "arrowsize": 0.8,
          "arrowwidth": 4,
          "ax": 0,
          "ay": -15,
          "hoverlabel": {
           "bgcolor": "FireBrick"
          },
          "hovertext": "Step 12 [2018-05-15 17:00:00]<br>SELL 0.12404275 BTC @ 8553.8 USD MARKET<br>Total: 1061.04 USD - Comm.: 0.00037325 BTC",
          "opacity": 0.6,
          "showarrow": true,
          "x": 11,
          "xref": "x",
          "y": 8553.8,
          "yref": "y"
         },
         {
          "arrowcolor": "DarkGreen",
          "arrowhead": 2,
          "arrowsize": 0.8,
          "arrowwidth": 4,
          "ax": 0,
          "ay": 15,
          "hoverlabel": {
           "bgcolor": "DarkGreen"
          },
          "hovertext": "Step 11 [2018-05-15 16:00:00]<br>BUY 0.56837355 BTC @ 8532.1 USD MARKET<br>Total: 4849.42 USD - Comm.: 14.59 USD",
          "opacity": 0.6,
          "showarrow": true,
          "x": 10,
          "xref": "x",
          "y": 8532.1,
          "yref": "y"
         },
         {
          "arrowcolor": "FireBrick",
          "arrowhead": 2,
          "arrowsize": 0.8,
          "arrowwidth": 4,
          "ax": 0,
          "ay": -15,
          "hoverlabel": {
           "bgcolor": "FireBrick"
          },
          "hovertext": "Step 10 [2018-05-15 15:00:00]<br>SELL 0.07752672 BTC @ 8520.8 USD MARKET<br>Total: 660.59 USD - Comm.: 0.00023328 BTC",
          "opacity": 0.6,
          "showarrow": true,
          "x": 9,
          "xref": "x",
          "y": 8520.8,
          "yref": "y"
         },
         {
          "arrowcolor": "FireBrick",
          "arrowhead": 2,
          "arrowsize": 0.8,
          "arrowwidth": 4,
          "ax": 0,
          "ay": -15,
          "hoverlabel": {
           "bgcolor": "FireBrick"
          },
          "hovertext": "Step 9 [2018-05-15 14:00:00]<br>SELL 0.3876336 BTC @ 8512.0 USD MARKET<br>Total: 3299.54 USD - Comm.: 0.00116640 BTC",
          "opacity": 0.6,
          "showarrow": true,
          "x": 8,
          "xref": "x",
          "y": 8512,
          "yref": "y"
         },
         {
          "arrowcolor": "FireBrick",
          "arrowhead": 2,
          "arrowsize": 0.8,
          "arrowwidth": 4,
          "ax": 0,
          "ay": -15,
          "hoverlabel": {
           "bgcolor": "FireBrick"
          },
          "hovertext": "Step 9 [2018-05-15 14:00:00]<br>SELL 0.14191695 BTC @ 8512.0 USD MARKET<br>Total: 1208.0 USD - Comm.: 0.00042703 BTC",
          "opacity": 0.6,
          "showarrow": true,
          "x": 8,
          "xref": "x",
          "y": 8512,
          "yref": "y"
         },
         {
          "arrowcolor": "FireBrick",
          "arrowhead": 2,
          "arrowsize": 0.8,
          "arrowwidth": 4,
          "ax": 0,
          "ay": -15,
          "hoverlabel": {
           "bgcolor": "FireBrick"
          },
          "hovertext": "Step 9 [2018-05-15 14:00:00]<br>SELL 0.28536908 BTC @ 8512.0 USD MARKET<br>Total: 2429.06 USD - Comm.: 0.00085868 BTC",
          "opacity": 0.6,
          "showarrow": true,
          "x": 8,
          "xref": "x",
          "y": 8512,
          "yref": "y"
         },
         {
          "arrowcolor": "FireBrick",
          "arrowhead": 2,
          "arrowsize": 0.8,
          "arrowwidth": 4,
          "ax": 0,
          "ay": -15,
          "hoverlabel": {
           "bgcolor": "FireBrick"
          },
          "hovertext": "Step 9 [2018-05-15 14:00:00]<br>SELL 0.56872011 BTC @ 8512.0 USD MARKET<br>Total: 4840.95 USD - Comm.: 0.00171129 BTC",
          "opacity": 0.6,
          "showarrow": true,
          "x": 8,
          "xref": "x",
          "y": 8512,
          "yref": "y"
         },
         {
          "arrowcolor": "FireBrick",
          "arrowhead": 2,
          "arrowsize": 0.8,
          "arrowwidth": 4,
          "ax": 0,
          "ay": -15,
          "hoverlabel": {
           "bgcolor": "FireBrick"
          },
          "hovertext": "Step 8 [2018-05-15 13:00:00]<br>SELL 0.5168448 BTC @ 8742.6 USD MARKET<br>Total: 4518.57 USD - Comm.: 0.00155520 BTC",
          "opacity": 0.6,
          "showarrow": true,
          "x": 7,
          "xref": "x",
          "y": 8742.6,
          "yref": "y"
         },
         {
          "arrowcolor": "FireBrick",
          "arrowhead": 2,
          "arrowsize": 0.8,
          "arrowwidth": 4,
          "ax": 0,
          "ay": -15,
          "hoverlabel": {
           "bgcolor": "FireBrick"
          },
          "hovertext": "Step 7 [2018-05-15 12:00:00]<br>SELL 0.861408 BTC @ 8762.0 USD MARKET<br>Total: 7547.66 USD - Comm.: 0.00259200 BTC",
          "opacity": 0.6,
          "showarrow": true,
          "x": 6,
          "xref": "x",
          "y": 8762,
          "yref": "y"
         },
         {
          "arrowcolor": "DarkGreen",
          "arrowhead": 2,
          "arrowsize": 0.8,
          "arrowwidth": 4,
          "ax": 0,
          "ay": 15,
          "hoverlabel": {
           "bgcolor": "DarkGreen"
          },
          "hovertext": "Step 6 [2018-05-15 11:00:00]<br>BUY 0.14234398 BTC @ 8755.2 USD MARKET<br>Total: 1246.25 USD - Comm.: 3.75 USD",
          "opacity": 0.6,
          "showarrow": true,
          "x": 5,
          "xref": "x",
          "y": 8755.2,
          "yref": "y"
         },
         {
          "arrowcolor": "FireBrick",
          "arrowhead": 2,
          "arrowsize": 0.8,
          "arrowwidth": 4,
          "ax": 0,
          "ay": -15,
          "hoverlabel": {
           "bgcolor": "FireBrick"
          },
          "hovertext": "Step 5 [2018-05-15 10:00:00]<br>SELL 1.43568 BTC @ 8784.4 USD MARKET<br>Total: 12611.59 USD - Comm.: 0.00432000 BTC",
          "opacity": 0.6,
          "showarrow": true,
          "x": 4,
          "xref": "x",
          "y": 8784.4,
          "yref": "y"
         },
         {
          "arrowcolor": "DarkGreen",
          "arrowhead": 2,
          "arrowsize": 0.8,
          "arrowwidth": 4,
          "ax": 0,
          "ay": 15,
          "hoverlabel": {
           "bgcolor": "DarkGreen"
          },
          "hovertext": "Step 4 [2018-05-15 09:00:00]<br>BUY 0.28622776 BTC @ 8708.1 USD MARKET<br>Total: 2492.5 USD - Comm.: 7.50 USD",
          "opacity": 0.6,
          "showarrow": true,
          "x": 3,
          "xref": "x",
          "y": 8708.1,
          "yref": "y"
         },
         {
          "arrowcolor": "FireBrick",
          "arrowhead": 2,
          "arrowsize": 0.8,
          "arrowwidth": 4,
          "ax": 0,
          "ay": -15,
          "hoverlabel": {
           "bgcolor": "FireBrick"
          },
          "hovertext": "Step 3 [2018-05-15 08:00:00]<br>SELL 2.3928 BTC @ 8723.7 USD MARKET<br>Total: 20874.07 USD - Comm.: 0.00720000 BTC",
          "opacity": 0.6,
          "showarrow": true,
          "x": 2,
          "xref": "x",
          "y": 8723.7,
          "yref": "y"
         },
         {
          "arrowcolor": "FireBrick",
          "arrowhead": 2,
          "arrowsize": 0.8,
          "arrowwidth": 4,
          "ax": 0,
          "ay": -15,
          "hoverlabel": {
           "bgcolor": "FireBrick"
          },
          "hovertext": "Step 2 [2018-05-15 07:00:00]<br>SELL 3.988 BTC @ 8743.0 USD MARKET<br>Total: 34867.08 USD - Comm.: 0.01200000 BTC",
          "opacity": 0.6,
          "showarrow": true,
          "x": 1,
          "xref": "x",
          "y": 8743,
          "yref": "y"
         },
         {
          "arrowcolor": "DarkGreen",
          "arrowhead": 2,
          "arrowsize": 0.8,
          "arrowwidth": 4,
          "ax": 0,
          "ay": 15,
          "hoverlabel": {
           "bgcolor": "DarkGreen"
          },
          "hovertext": "Step 1 [2018-05-15 06:00:00]<br>BUY 0.5704314 BTC @ 8739.0 USD MARKET<br>Total: 4985.0 USD - Comm.: 15.00 USD",
          "opacity": 0.6,
          "showarrow": true,
          "x": 0,
          "xref": "x",
          "y": 8739,
          "yref": "y"
         },
         {
          "arrowcolor": "DarkGreen",
          "arrowhead": 2,
          "arrowsize": 0.8,
          "arrowwidth": 4,
          "ax": 0,
          "ay": 15,
          "hoverlabel": {
           "bgcolor": "DarkGreen"
          },
          "hovertext": "Step 90 [2018-05-18 23:00:00]<br>BUY 0.01502628 BTC @ 8238.9 USD MARKET<br>Total: 123.8 USD - Comm.: 0.37 USD",
          "opacity": 0.6,
          "showarrow": true,
          "x": 89,
          "xref": "x",
          "y": 8238.9,
          "yref": "y"
         },
         {
          "arrowcolor": "FireBrick",
          "arrowhead": 2,
          "arrowsize": 0.8,
          "arrowwidth": 4,
          "ax": 0,
          "ay": -15,
          "hoverlabel": {
           "bgcolor": "FireBrick"
          },
          "hovertext": "Step 86 [2018-05-18 19:00:00]<br>SELL 0.01606648 BTC @ 8224.9 USD MARKET<br>Total: 132.15 USD - Comm.: 0.00004834 BTC",
          "opacity": 0.6,
          "showarrow": true,
          "x": 85,
          "xref": "x",
          "y": 8224.9,
          "yref": "y"
         },
         {
          "arrowcolor": "FireBrick",
          "arrowhead": 2,
          "arrowsize": 0.8,
          "arrowwidth": 4,
          "ax": 0,
          "ay": -15,
          "hoverlabel": {
           "bgcolor": "FireBrick"
          },
          "hovertext": "Step 86 [2018-05-18 19:00:00]<br>SELL 0.08390907 BTC @ 8224.9 USD MARKET<br>Total: 690.14 USD - Comm.: 0.00025248 BTC",
          "opacity": 0.6,
          "showarrow": true,
          "x": 85,
          "xref": "x",
          "y": 8224.9,
          "yref": "y"
         },
         {
          "arrowcolor": "FireBrick",
          "arrowhead": 2,
          "arrowsize": 0.8,
          "arrowwidth": 4,
          "ax": 0,
          "ay": -15,
          "hoverlabel": {
           "bgcolor": "FireBrick"
          },
          "hovertext": "Step 85 [2018-05-18 18:00:00]<br>SELL 0.00626188 BTC @ 8209.1 USD MARKET<br>Total: 51.4 USD - Comm.: 0.00001884 BTC",
          "opacity": 0.6,
          "showarrow": true,
          "x": 84,
          "xref": "x",
          "y": 8209.1,
          "yref": "y"
         },
         {
          "arrowcolor": "FireBrick",
          "arrowhead": 2,
          "arrowsize": 0.8,
          "arrowwidth": 4,
          "ax": 0,
          "ay": -15,
          "hoverlabel": {
           "bgcolor": "FireBrick"
          },
          "hovertext": "Step 85 [2018-05-18 18:00:00]<br>SELL 0.04194981 BTC @ 8209.1 USD MARKET<br>Total: 344.37 USD - Comm.: 0.00012623 BTC",
          "opacity": 0.6,
          "showarrow": true,
          "x": 84,
          "xref": "x",
          "y": 8209.1,
          "yref": "y"
         },
         {
          "arrowcolor": "FireBrick",
          "arrowhead": 2,
          "arrowsize": 0.8,
          "arrowwidth": 4,
          "ax": 0,
          "ay": -15,
          "hoverlabel": {
           "bgcolor": "FireBrick"
          },
          "hovertext": "Step 85 [2018-05-18 18:00:00]<br>SELL 0.1681125 BTC @ 8209.1 USD MARKET<br>Total: 1380.05 USD - Comm.: 0.00050586 BTC",
          "opacity": 0.6,
          "showarrow": true,
          "x": 84,
          "xref": "x",
          "y": 8209.1,
          "yref": "y"
         },
         {
          "arrowcolor": "FireBrick",
          "arrowhead": 2,
          "arrowsize": 0.8,
          "arrowwidth": 4,
          "ax": 0,
          "ay": -15,
          "hoverlabel": {
           "bgcolor": "FireBrick"
          },
          "hovertext": "Step 83 [2018-05-18 16:00:00]<br>SELL 0.01004155 BTC @ 8130.0 USD MARKET<br>Total: 81.64 USD - Comm.: 0.00003022 BTC",
          "opacity": 0.6,
          "showarrow": true,
          "x": 82,
          "xref": "x",
          "y": 8130,
          "yref": "y"
         },
         {
          "arrowcolor": "FireBrick",
          "arrowhead": 2,
          "arrowsize": 0.8,
          "arrowwidth": 4,
          "ax": 0,
          "ay": -15,
          "hoverlabel": {
           "bgcolor": "FireBrick"
          },
          "hovertext": "Step 82 [2018-05-18 15:00:00]<br>SELL 0.01255194 BTC @ 8105.0 USD MARKET<br>Total: 101.73 USD - Comm.: 0.00003777 BTC",
          "opacity": 0.6,
          "showarrow": true,
          "x": 81,
          "xref": "x",
          "y": 8105,
          "yref": "y"
         },
         {
          "arrowcolor": "FireBrick",
          "arrowhead": 2,
          "arrowsize": 0.8,
          "arrowwidth": 4,
          "ax": 0,
          "ay": -15,
          "hoverlabel": {
           "bgcolor": "FireBrick"
          },
          "hovertext": "Step 81 [2018-05-18 14:00:00]<br>SELL 0.01568993 BTC @ 8074.9 USD MARKET<br>Total: 126.69 USD - Comm.: 0.00004721 BTC",
          "opacity": 0.6,
          "showarrow": true,
          "x": 80,
          "xref": "x",
          "y": 8074.9,
          "yref": "y"
         },
         {
          "arrowcolor": "FireBrick",
          "arrowhead": 2,
          "arrowsize": 0.8,
          "arrowwidth": 4,
          "ax": 0,
          "ay": -15,
          "hoverlabel": {
           "bgcolor": "FireBrick"
          },
          "hovertext": "Step 80 [2018-05-18 13:00:00]<br>SELL 0.01961241 BTC @ 8095.7 USD MARKET<br>Total: 158.78 USD - Comm.: 0.00005901 BTC",
          "opacity": 0.6,
          "showarrow": true,
          "x": 79,
          "xref": "x",
          "y": 8095.7,
          "yref": "y"
         },
         {
          "arrowcolor": "FireBrick",
          "arrowhead": 2,
          "arrowsize": 0.8,
          "arrowwidth": 4,
          "ax": 0,
          "ay": -15,
          "hoverlabel": {
           "bgcolor": "FireBrick"
          },
          "hovertext": "Step 79 [2018-05-18 12:00:00]<br>SELL 0.02451551 BTC @ 8105.5 USD MARKET<br>Total: 198.71 USD - Comm.: 0.00007377 BTC",
          "opacity": 0.6,
          "showarrow": true,
          "x": 78,
          "xref": "x",
          "y": 8105.5,
          "yref": "y"
         },
         {
          "arrowcolor": "DarkGreen",
          "arrowhead": 2,
          "arrowsize": 0.8,
          "arrowwidth": 4,
          "ax": 0,
          "ay": 15,
          "hoverlabel": {
           "bgcolor": "DarkGreen"
          },
          "hovertext": "Step 78 [2018-05-18 11:00:00]<br>BUY 0.07360859 BTC @ 8101.5 USD MARKET<br>Total: 596.34 USD - Comm.: 1.79 USD",
          "opacity": 0.6,
          "showarrow": true,
          "x": 77,
          "xref": "x",
          "y": 8101.5,
          "yref": "y"
         },
         {
          "arrowcolor": "FireBrick",
          "arrowhead": 2,
          "arrowsize": 0.8,
          "arrowwidth": 4,
          "ax": 0,
          "ay": -15,
          "hoverlabel": {
           "bgcolor": "FireBrick"
          },
          "hovertext": "Step 77 [2018-05-18 10:00:00]<br>SELL 0.03064439 BTC @ 8130.0 USD MARKET<br>Total: 249.14 USD - Comm.: 0.00009221 BTC",
          "opacity": 0.6,
          "showarrow": true,
          "x": 76,
          "xref": "x",
          "y": 8130,
          "yref": "y"
         },
         {
          "arrowcolor": "DarkGreen",
          "arrowhead": 2,
          "arrowsize": 0.8,
          "arrowwidth": 4,
          "ax": 0,
          "ay": 15,
          "hoverlabel": {
           "bgcolor": "DarkGreen"
          },
          "hovertext": "Step 76 [2018-05-18 09:00:00]<br>BUY 0.14720206 BTC @ 8102.4 USD MARKET<br>Total: 1192.69 USD - Comm.: 3.59 USD",
          "opacity": 0.6,
          "showarrow": true,
          "x": 75,
          "xref": "x",
          "y": 8102.4,
          "yref": "y"
         },
         {
          "arrowcolor": "FireBrick",
          "arrowhead": 2,
          "arrowsize": 0.8,
          "arrowwidth": 4,
          "ax": 0,
          "ay": -15,
          "hoverlabel": {
           "bgcolor": "FireBrick"
          },
          "hovertext": "Step 75 [2018-05-18 08:00:00]<br>SELL 0.03830549 BTC @ 8123.6 USD MARKET<br>Total: 311.18 USD - Comm.: 0.00011526 BTC",
          "opacity": 0.6,
          "showarrow": true,
          "x": 74,
          "xref": "x",
          "y": 8123.6,
          "yref": "y"
         },
         {
          "arrowcolor": "FireBrick",
          "arrowhead": 2,
          "arrowsize": 0.8,
          "arrowwidth": 4,
          "ax": 0,
          "ay": -15,
          "hoverlabel": {
           "bgcolor": "FireBrick"
          },
          "hovertext": "Step 75 [2018-05-18 08:00:00]<br>SELL 0.00315851 BTC @ 8123.6 USD MARKET<br>Total: 25.66 USD - Comm.: 0.00000950 BTC",
          "opacity": 0.6,
          "showarrow": true,
          "x": 74,
          "xref": "x",
          "y": 8123.6,
          "yref": "y"
         },
         {
          "arrowcolor": "FireBrick",
          "arrowhead": 2,
          "arrowsize": 0.8,
          "arrowwidth": 4,
          "ax": 0,
          "ay": -15,
          "hoverlabel": {
           "bgcolor": "FireBrick"
          },
          "hovertext": "Step 75 [2018-05-18 08:00:00]<br>SELL 0.28980152 BTC @ 8123.6 USD MARKET<br>Total: 2354.23 USD - Comm.: 0.00087202 BTC",
          "opacity": 0.6,
          "showarrow": true,
          "x": 74,
          "xref": "x",
          "y": 8123.6,
          "yref": "y"
         },
         {
          "arrowcolor": "DarkGreen",
          "arrowhead": 2,
          "arrowsize": 0.8,
          "arrowwidth": 4,
          "ax": 0,
          "ay": 15,
          "hoverlabel": {
           "bgcolor": "DarkGreen"
          },
          "hovertext": "Step 74 [2018-05-18 07:00:00]<br>BUY 0.00155968 BTC @ 8085.0 USD MARKET<br>Total: 12.61 USD - Comm.: 0.04 USD",
          "opacity": 0.6,
          "showarrow": true,
          "x": 73,
          "xref": "x",
          "y": 8085,
          "yref": "y"
         },
         {
          "arrowcolor": "DarkGreen",
          "arrowhead": 2,
          "arrowsize": 0.8,
          "arrowwidth": 4,
          "ax": 0,
          "ay": 15,
          "hoverlabel": {
           "bgcolor": "DarkGreen"
          },
          "hovertext": "Step 73 [2018-05-18 06:00:00]<br>BUY 0.00316801 BTC @ 7964.0 USD MARKET<br>Total: 25.23 USD - Comm.: 0.08 USD",
          "opacity": 0.6,
          "showarrow": true,
          "x": 72,
          "xref": "x",
          "y": 7964,
          "yref": "y"
         },
         {
          "arrowcolor": "DarkGreen",
          "arrowhead": 2,
          "arrowsize": 0.8,
          "arrowwidth": 4,
          "ax": 0,
          "ay": 15,
          "hoverlabel": {
           "bgcolor": "DarkGreen"
          },
          "hovertext": "Step 73 [2018-05-18 06:00:00]<br>BUY 0.01271346 BTC @ 7964.0 USD MARKET<br>Total: 101.25 USD - Comm.: 0.30 USD",
          "opacity": 0.6,
          "showarrow": true,
          "x": 72,
          "xref": "x",
          "y": 7964,
          "yref": "y"
         },
         {
          "arrowcolor": "DarkGreen",
          "arrowhead": 2,
          "arrowsize": 0.8,
          "arrowwidth": 4,
          "ax": 0,
          "ay": 15,
          "hoverlabel": {
           "bgcolor": "DarkGreen"
          },
          "hovertext": "Step 72 [2018-05-18 05:00:00]<br>BUY 0.00628072 BTC @ 8035.7 USD MARKET<br>Total: 50.47 USD - Comm.: 0.15 USD",
          "opacity": 0.6,
          "showarrow": true,
          "x": 71,
          "xref": "x",
          "y": 8035.7,
          "yref": "y"
         },
         {
          "arrowcolor": "DarkGreen",
          "arrowhead": 2,
          "arrowsize": 0.8,
          "arrowwidth": 4,
          "ax": 0,
          "ay": 15,
          "hoverlabel": {
           "bgcolor": "DarkGreen"
          },
          "hovertext": "Step 71 [2018-05-18 04:00:00]<br>BUY 0.02937999 BTC @ 8016.0 USD MARKET<br>Total: 235.51 USD - Comm.: 0.71 USD",
          "opacity": 0.6,
          "showarrow": true,
          "x": 70,
          "xref": "x",
          "y": 8016,
          "yref": "y"
         },
         {
          "arrowcolor": "DarkGreen",
          "arrowhead": 2,
          "arrowsize": 0.8,
          "arrowwidth": 4,
          "ax": 0,
          "ay": 15,
          "hoverlabel": {
           "bgcolor": "DarkGreen"
          },
          "hovertext": "Step 70 [2018-05-18 03:00:00]<br>BUY 0.04207604 BTC @ 7996.0 USD MARKET<br>Total: 336.44 USD - Comm.: 1.01 USD",
          "opacity": 0.6,
          "showarrow": true,
          "x": 69,
          "xref": "x",
          "y": 7996,
          "yref": "y"
         },
         {
          "arrowcolor": "DarkGreen",
          "arrowhead": 2,
          "arrowsize": 0.8,
          "arrowwidth": 4,
          "ax": 0,
          "ay": 15,
          "hoverlabel": {
           "bgcolor": "DarkGreen"
          },
          "hovertext": "Step 69 [2018-05-18 02:00:00]<br>BUY 0.08416155 BTC @ 7995.1 USD MARKET<br>Total: 672.88 USD - Comm.: 2.02 USD",
          "opacity": 0.6,
          "showarrow": true,
          "x": 68,
          "xref": "x",
          "y": 7995.1,
          "yref": "y"
         },
         {
          "arrowcolor": "DarkGreen",
          "arrowhead": 2,
          "arrowsize": 0.8,
          "arrowwidth": 4,
          "ax": 0,
          "ay": 15,
          "hoverlabel": {
           "bgcolor": "DarkGreen"
          },
          "hovertext": "Step 68 [2018-05-18 01:00:00]<br>BUY 0.16861836 BTC @ 7981.1 USD MARKET<br>Total: 1345.76 USD - Comm.: 4.05 USD",
          "opacity": 0.6,
          "showarrow": true,
          "x": 67,
          "xref": "x",
          "y": 7981.1,
          "yref": "y"
         },
         {
          "arrowcolor": "DarkGreen",
          "arrowhead": 2,
          "arrowsize": 0.8,
          "arrowwidth": 4,
          "ax": 0,
          "ay": 15,
          "hoverlabel": {
           "bgcolor": "DarkGreen"
          },
          "hovertext": "Step 68 [2018-05-18 01:00:00]<br>BUY 0.01136059 BTC @ 7981.1 USD MARKET<br>Total: 90.67 USD - Comm.: 0.27 USD",
          "opacity": 0.6,
          "showarrow": true,
          "x": 67,
          "xref": "x",
          "y": 7981.1,
          "yref": "y"
         },
         {
          "arrowcolor": "DarkGreen",
          "arrowhead": 2,
          "arrowsize": 0.8,
          "arrowwidth": 4,
          "ax": 0,
          "ay": 15,
          "hoverlabel": {
           "bgcolor": "DarkGreen"
          },
          "hovertext": "Step 68 [2018-05-18 01:00:00]<br>BUY 0.03167233 BTC @ 7981.1 USD MARKET<br>Total: 252.78 USD - Comm.: 0.76 USD",
          "opacity": 0.6,
          "showarrow": true,
          "x": 67,
          "xref": "x",
          "y": 7981.1,
          "yref": "y"
         },
         {
          "arrowcolor": "DarkGreen",
          "arrowhead": 2,
          "arrowsize": 0.8,
          "arrowwidth": 4,
          "ax": 0,
          "ay": 15,
          "hoverlabel": {
           "bgcolor": "DarkGreen"
          },
          "hovertext": "Step 67 [2018-05-18 00:00:00]<br>BUY 0.29067354 BTC @ 7958.0 USD MARKET<br>Total: 2313.18 USD - Comm.: 6.96 USD",
          "opacity": 0.6,
          "showarrow": true,
          "x": 66,
          "xref": "x",
          "y": 7958,
          "yref": "y"
         },
         {
          "arrowcolor": "DarkGreen",
          "arrowhead": 2,
          "arrowsize": 0.8,
          "arrowwidth": 4,
          "ax": 0,
          "ay": 15,
          "hoverlabel": {
           "bgcolor": "DarkGreen"
          },
          "hovertext": "Step 67 [2018-05-18 00:00:00]<br>BUY 0.01897839 BTC @ 7958.0 USD MARKET<br>Total: 151.03 USD - Comm.: 0.45 USD",
          "opacity": 0.6,
          "showarrow": true,
          "x": 66,
          "xref": "x",
          "y": 7958,
          "yref": "y"
         },
         {
          "arrowcolor": "FireBrick",
          "arrowhead": 2,
          "arrowsize": 0.8,
          "arrowwidth": 4,
          "ax": 0,
          "ay": -15,
          "hoverlabel": {
           "bgcolor": "FireBrick"
          },
          "hovertext": "Step 67 [2018-05-18 00:00:00]<br>SELL 0.04768522 BTC @ 7958.0 USD MARKET<br>Total: 379.48 USD - Comm.: 0.00014349 BTC",
          "opacity": 0.6,
          "showarrow": true,
          "x": 66,
          "xref": "x",
          "y": 7958,
          "yref": "y"
         },
         {
          "arrowcolor": "DarkGreen",
          "arrowhead": 2,
          "arrowsize": 0.8,
          "arrowwidth": 4,
          "ax": 0,
          "ay": 15,
          "hoverlabel": {
           "bgcolor": "DarkGreen"
          },
          "hovertext": "Step 67 [2018-05-18 00:00:00]<br>BUY 0.02529027 BTC @ 7958.0 USD MARKET<br>Total: 201.26 USD - Comm.: 0.61 USD",
          "opacity": 0.6,
          "showarrow": true,
          "x": 66,
          "xref": "x",
          "y": 7958,
          "yref": "y"
         },
         {
          "arrowcolor": "DarkGreen",
          "arrowhead": 2,
          "arrowsize": 0.8,
          "arrowwidth": 4,
          "ax": 0,
          "ay": 15,
          "hoverlabel": {
           "bgcolor": "DarkGreen"
          },
          "hovertext": "Step 67 [2018-05-18 00:00:00]<br>BUY 0.0398668 BTC @ 7958.0 USD MARKET<br>Total: 317.26 USD - Comm.: 0.95 USD",
          "opacity": 0.6,
          "showarrow": true,
          "x": 66,
          "xref": "x",
          "y": 7958,
          "yref": "y"
         },
         {
          "arrowcolor": "DarkGreen",
          "arrowhead": 2,
          "arrowsize": 0.8,
          "arrowwidth": 4,
          "ax": 0,
          "ay": 15,
          "hoverlabel": {
           "bgcolor": "DarkGreen"
          },
          "hovertext": "Step 66 [2018-05-17 23:00:00]<br>BUY 0.13360193 BTC @ 8054.3 USD MARKET<br>Total: 1076.07 USD - Comm.: 3.24 USD",
          "opacity": 0.6,
          "showarrow": true,
          "x": 65,
          "xref": "x",
          "y": 8054.3,
          "yref": "y"
         },
         {
          "arrowcolor": "FireBrick",
          "arrowhead": 2,
          "arrowsize": 0.8,
          "arrowwidth": 4,
          "ax": 0,
          "ay": -15,
          "hoverlabel": {
           "bgcolor": "FireBrick"
          },
          "hovertext": "Step 66 [2018-05-17 23:00:00]<br>SELL 0.04010861 BTC @ 8054.3 USD MARKET<br>Total: 323.05 USD - Comm.: 0.00012069 BTC",
          "opacity": 0.6,
          "showarrow": true,
          "x": 65,
          "xref": "x",
          "y": 8054.3,
          "yref": "y"
         },
         {
          "arrowcolor": "DarkGreen",
          "arrowhead": 2,
          "arrowsize": 0.8,
          "arrowwidth": 4,
          "ax": 0,
          "ay": 15,
          "hoverlabel": {
           "bgcolor": "DarkGreen"
          },
          "hovertext": "Step 66 [2018-05-17 23:00:00]<br>BUY 0.01595049 BTC @ 8054.3 USD MARKET<br>Total: 128.47 USD - Comm.: 0.39 USD",
          "opacity": 0.6,
          "showarrow": true,
          "x": 65,
          "xref": "x",
          "y": 8054.3,
          "yref": "y"
         },
         {
          "arrowcolor": "DarkGreen",
          "arrowhead": 2,
          "arrowsize": 0.8,
          "arrowwidth": 4,
          "ax": 0,
          "ay": 15,
          "hoverlabel": {
           "bgcolor": "DarkGreen"
          },
          "hovertext": "Step 65 [2018-05-17 22:00:00]<br>BUY 0.01993209 BTC @ 8069.9 USD MARKET<br>Total: 160.85 USD - Comm.: 0.48 USD",
          "opacity": 0.6,
          "showarrow": true,
          "x": 64,
          "xref": "x",
          "y": 8069.9,
          "yref": "y"
         },
         {
          "arrowcolor": "DarkGreen",
          "arrowhead": 2,
          "arrowsize": 0.8,
          "arrowwidth": 4,
          "ax": 0,
          "ay": 15,
          "hoverlabel": {
           "bgcolor": "DarkGreen"
          },
          "hovertext": "Step 63 [2018-05-17 20:00:00]<br>BUY 0.43710167 BTC @ 8206.1 USD MARKET<br>Total: 3586.9 USD - Comm.: 10.79 USD",
          "opacity": 0.6,
          "showarrow": true,
          "x": 62,
          "xref": "x",
          "y": 8206.1,
          "yref": "y"
         }
        ],
        "margin": {
         "t": 50
        },
        "template": {
         "data": {
          "bar": [
           {
            "error_x": {
             "color": "#2a3f5f"
            },
            "error_y": {
             "color": "#2a3f5f"
            },
            "marker": {
             "line": {
              "color": "white",
              "width": 0.5
             }
            },
            "type": "bar"
           }
          ],
          "barpolar": [
           {
            "marker": {
             "line": {
              "color": "white",
              "width": 0.5
             }
            },
            "type": "barpolar"
           }
          ],
          "carpet": [
           {
            "aaxis": {
             "endlinecolor": "#2a3f5f",
             "gridcolor": "#C8D4E3",
             "linecolor": "#C8D4E3",
             "minorgridcolor": "#C8D4E3",
             "startlinecolor": "#2a3f5f"
            },
            "baxis": {
             "endlinecolor": "#2a3f5f",
             "gridcolor": "#C8D4E3",
             "linecolor": "#C8D4E3",
             "minorgridcolor": "#C8D4E3",
             "startlinecolor": "#2a3f5f"
            },
            "type": "carpet"
           }
          ],
          "choropleth": [
           {
            "colorbar": {
             "outlinewidth": 0,
             "ticks": ""
            },
            "type": "choropleth"
           }
          ],
          "contour": [
           {
            "colorbar": {
             "outlinewidth": 0,
             "ticks": ""
            },
            "colorscale": [
             [
              0,
              "#0d0887"
             ],
             [
              0.1111111111111111,
              "#46039f"
             ],
             [
              0.2222222222222222,
              "#7201a8"
             ],
             [
              0.3333333333333333,
              "#9c179e"
             ],
             [
              0.4444444444444444,
              "#bd3786"
             ],
             [
              0.5555555555555556,
              "#d8576b"
             ],
             [
              0.6666666666666666,
              "#ed7953"
             ],
             [
              0.7777777777777778,
              "#fb9f3a"
             ],
             [
              0.8888888888888888,
              "#fdca26"
             ],
             [
              1,
              "#f0f921"
             ]
            ],
            "type": "contour"
           }
          ],
          "contourcarpet": [
           {
            "colorbar": {
             "outlinewidth": 0,
             "ticks": ""
            },
            "type": "contourcarpet"
           }
          ],
          "heatmap": [
           {
            "colorbar": {
             "outlinewidth": 0,
             "ticks": ""
            },
            "colorscale": [
             [
              0,
              "#0d0887"
             ],
             [
              0.1111111111111111,
              "#46039f"
             ],
             [
              0.2222222222222222,
              "#7201a8"
             ],
             [
              0.3333333333333333,
              "#9c179e"
             ],
             [
              0.4444444444444444,
              "#bd3786"
             ],
             [
              0.5555555555555556,
              "#d8576b"
             ],
             [
              0.6666666666666666,
              "#ed7953"
             ],
             [
              0.7777777777777778,
              "#fb9f3a"
             ],
             [
              0.8888888888888888,
              "#fdca26"
             ],
             [
              1,
              "#f0f921"
             ]
            ],
            "type": "heatmap"
           }
          ],
          "heatmapgl": [
           {
            "colorbar": {
             "outlinewidth": 0,
             "ticks": ""
            },
            "colorscale": [
             [
              0,
              "#0d0887"
             ],
             [
              0.1111111111111111,
              "#46039f"
             ],
             [
              0.2222222222222222,
              "#7201a8"
             ],
             [
              0.3333333333333333,
              "#9c179e"
             ],
             [
              0.4444444444444444,
              "#bd3786"
             ],
             [
              0.5555555555555556,
              "#d8576b"
             ],
             [
              0.6666666666666666,
              "#ed7953"
             ],
             [
              0.7777777777777778,
              "#fb9f3a"
             ],
             [
              0.8888888888888888,
              "#fdca26"
             ],
             [
              1,
              "#f0f921"
             ]
            ],
            "type": "heatmapgl"
           }
          ],
          "histogram": [
           {
            "marker": {
             "colorbar": {
              "outlinewidth": 0,
              "ticks": ""
             }
            },
            "type": "histogram"
           }
          ],
          "histogram2d": [
           {
            "colorbar": {
             "outlinewidth": 0,
             "ticks": ""
            },
            "colorscale": [
             [
              0,
              "#0d0887"
             ],
             [
              0.1111111111111111,
              "#46039f"
             ],
             [
              0.2222222222222222,
              "#7201a8"
             ],
             [
              0.3333333333333333,
              "#9c179e"
             ],
             [
              0.4444444444444444,
              "#bd3786"
             ],
             [
              0.5555555555555556,
              "#d8576b"
             ],
             [
              0.6666666666666666,
              "#ed7953"
             ],
             [
              0.7777777777777778,
              "#fb9f3a"
             ],
             [
              0.8888888888888888,
              "#fdca26"
             ],
             [
              1,
              "#f0f921"
             ]
            ],
            "type": "histogram2d"
           }
          ],
          "histogram2dcontour": [
           {
            "colorbar": {
             "outlinewidth": 0,
             "ticks": ""
            },
            "colorscale": [
             [
              0,
              "#0d0887"
             ],
             [
              0.1111111111111111,
              "#46039f"
             ],
             [
              0.2222222222222222,
              "#7201a8"
             ],
             [
              0.3333333333333333,
              "#9c179e"
             ],
             [
              0.4444444444444444,
              "#bd3786"
             ],
             [
              0.5555555555555556,
              "#d8576b"
             ],
             [
              0.6666666666666666,
              "#ed7953"
             ],
             [
              0.7777777777777778,
              "#fb9f3a"
             ],
             [
              0.8888888888888888,
              "#fdca26"
             ],
             [
              1,
              "#f0f921"
             ]
            ],
            "type": "histogram2dcontour"
           }
          ],
          "mesh3d": [
           {
            "colorbar": {
             "outlinewidth": 0,
             "ticks": ""
            },
            "type": "mesh3d"
           }
          ],
          "parcoords": [
           {
            "line": {
             "colorbar": {
              "outlinewidth": 0,
              "ticks": ""
             }
            },
            "type": "parcoords"
           }
          ],
          "pie": [
           {
            "automargin": true,
            "type": "pie"
           }
          ],
          "scatter": [
           {
            "marker": {
             "colorbar": {
              "outlinewidth": 0,
              "ticks": ""
             }
            },
            "type": "scatter"
           }
          ],
          "scatter3d": [
           {
            "line": {
             "colorbar": {
              "outlinewidth": 0,
              "ticks": ""
             }
            },
            "marker": {
             "colorbar": {
              "outlinewidth": 0,
              "ticks": ""
             }
            },
            "type": "scatter3d"
           }
          ],
          "scattercarpet": [
           {
            "marker": {
             "colorbar": {
              "outlinewidth": 0,
              "ticks": ""
             }
            },
            "type": "scattercarpet"
           }
          ],
          "scattergeo": [
           {
            "marker": {
             "colorbar": {
              "outlinewidth": 0,
              "ticks": ""
             }
            },
            "type": "scattergeo"
           }
          ],
          "scattergl": [
           {
            "marker": {
             "colorbar": {
              "outlinewidth": 0,
              "ticks": ""
             }
            },
            "type": "scattergl"
           }
          ],
          "scattermapbox": [
           {
            "marker": {
             "colorbar": {
              "outlinewidth": 0,
              "ticks": ""
             }
            },
            "type": "scattermapbox"
           }
          ],
          "scatterpolar": [
           {
            "marker": {
             "colorbar": {
              "outlinewidth": 0,
              "ticks": ""
             }
            },
            "type": "scatterpolar"
           }
          ],
          "scatterpolargl": [
           {
            "marker": {
             "colorbar": {
              "outlinewidth": 0,
              "ticks": ""
             }
            },
            "type": "scatterpolargl"
           }
          ],
          "scatterternary": [
           {
            "marker": {
             "colorbar": {
              "outlinewidth": 0,
              "ticks": ""
             }
            },
            "type": "scatterternary"
           }
          ],
          "surface": [
           {
            "colorbar": {
             "outlinewidth": 0,
             "ticks": ""
            },
            "colorscale": [
             [
              0,
              "#0d0887"
             ],
             [
              0.1111111111111111,
              "#46039f"
             ],
             [
              0.2222222222222222,
              "#7201a8"
             ],
             [
              0.3333333333333333,
              "#9c179e"
             ],
             [
              0.4444444444444444,
              "#bd3786"
             ],
             [
              0.5555555555555556,
              "#d8576b"
             ],
             [
              0.6666666666666666,
              "#ed7953"
             ],
             [
              0.7777777777777778,
              "#fb9f3a"
             ],
             [
              0.8888888888888888,
              "#fdca26"
             ],
             [
              1,
              "#f0f921"
             ]
            ],
            "type": "surface"
           }
          ],
          "table": [
           {
            "cells": {
             "fill": {
              "color": "#EBF0F8"
             },
             "line": {
              "color": "white"
             }
            },
            "header": {
             "fill": {
              "color": "#C8D4E3"
             },
             "line": {
              "color": "white"
             }
            },
            "type": "table"
           }
          ]
         },
         "layout": {
          "annotationdefaults": {
           "arrowcolor": "#2a3f5f",
           "arrowhead": 0,
           "arrowwidth": 1
          },
          "autotypenumbers": "strict",
          "coloraxis": {
           "colorbar": {
            "outlinewidth": 0,
            "ticks": ""
           }
          },
          "colorscale": {
           "diverging": [
            [
             0,
             "#8e0152"
            ],
            [
             0.1,
             "#c51b7d"
            ],
            [
             0.2,
             "#de77ae"
            ],
            [
             0.3,
             "#f1b6da"
            ],
            [
             0.4,
             "#fde0ef"
            ],
            [
             0.5,
             "#f7f7f7"
            ],
            [
             0.6,
             "#e6f5d0"
            ],
            [
             0.7,
             "#b8e186"
            ],
            [
             0.8,
             "#7fbc41"
            ],
            [
             0.9,
             "#4d9221"
            ],
            [
             1,
             "#276419"
            ]
           ],
           "sequential": [
            [
             0,
             "#0d0887"
            ],
            [
             0.1111111111111111,
             "#46039f"
            ],
            [
             0.2222222222222222,
             "#7201a8"
            ],
            [
             0.3333333333333333,
             "#9c179e"
            ],
            [
             0.4444444444444444,
             "#bd3786"
            ],
            [
             0.5555555555555556,
             "#d8576b"
            ],
            [
             0.6666666666666666,
             "#ed7953"
            ],
            [
             0.7777777777777778,
             "#fb9f3a"
            ],
            [
             0.8888888888888888,
             "#fdca26"
            ],
            [
             1,
             "#f0f921"
            ]
           ],
           "sequentialminus": [
            [
             0,
             "#0d0887"
            ],
            [
             0.1111111111111111,
             "#46039f"
            ],
            [
             0.2222222222222222,
             "#7201a8"
            ],
            [
             0.3333333333333333,
             "#9c179e"
            ],
            [
             0.4444444444444444,
             "#bd3786"
            ],
            [
             0.5555555555555556,
             "#d8576b"
            ],
            [
             0.6666666666666666,
             "#ed7953"
            ],
            [
             0.7777777777777778,
             "#fb9f3a"
            ],
            [
             0.8888888888888888,
             "#fdca26"
            ],
            [
             1,
             "#f0f921"
            ]
           ]
          },
          "colorway": [
           "#636efa",
           "#EF553B",
           "#00cc96",
           "#ab63fa",
           "#FFA15A",
           "#19d3f3",
           "#FF6692",
           "#B6E880",
           "#FF97FF",
           "#FECB52"
          ],
          "font": {
           "color": "#2a3f5f"
          },
          "geo": {
           "bgcolor": "white",
           "lakecolor": "white",
           "landcolor": "white",
           "showlakes": true,
           "showland": true,
           "subunitcolor": "#C8D4E3"
          },
          "hoverlabel": {
           "align": "left"
          },
          "hovermode": "closest",
          "mapbox": {
           "style": "light"
          },
          "paper_bgcolor": "white",
          "plot_bgcolor": "white",
          "polar": {
           "angularaxis": {
            "gridcolor": "#EBF0F8",
            "linecolor": "#EBF0F8",
            "ticks": ""
           },
           "bgcolor": "white",
           "radialaxis": {
            "gridcolor": "#EBF0F8",
            "linecolor": "#EBF0F8",
            "ticks": ""
           }
          },
          "scene": {
           "xaxis": {
            "backgroundcolor": "white",
            "gridcolor": "#DFE8F3",
            "gridwidth": 2,
            "linecolor": "#EBF0F8",
            "showbackground": true,
            "ticks": "",
            "zerolinecolor": "#EBF0F8"
           },
           "yaxis": {
            "backgroundcolor": "white",
            "gridcolor": "#DFE8F3",
            "gridwidth": 2,
            "linecolor": "#EBF0F8",
            "showbackground": true,
            "ticks": "",
            "zerolinecolor": "#EBF0F8"
           },
           "zaxis": {
            "backgroundcolor": "white",
            "gridcolor": "#DFE8F3",
            "gridwidth": 2,
            "linecolor": "#EBF0F8",
            "showbackground": true,
            "ticks": "",
            "zerolinecolor": "#EBF0F8"
           }
          },
          "shapedefaults": {
           "line": {
            "color": "#2a3f5f"
           }
          },
          "ternary": {
           "aaxis": {
            "gridcolor": "#DFE8F3",
            "linecolor": "#A2B1C6",
            "ticks": ""
           },
           "baxis": {
            "gridcolor": "#DFE8F3",
            "linecolor": "#A2B1C6",
            "ticks": ""
           },
           "bgcolor": "white",
           "caxis": {
            "gridcolor": "#DFE8F3",
            "linecolor": "#A2B1C6",
            "ticks": ""
           }
          },
          "title": {
           "x": 0.05
          },
          "xaxis": {
           "automargin": true,
           "gridcolor": "#EBF0F8",
           "linecolor": "#EBF0F8",
           "ticks": "",
           "title": {
            "standoff": 15
           },
           "zerolinecolor": "#EBF0F8",
           "zerolinewidth": 2
          },
          "yaxis": {
           "automargin": true,
           "gridcolor": "#EBF0F8",
           "linecolor": "#EBF0F8",
           "ticks": "",
           "title": {
            "standoff": 15
           },
           "zerolinecolor": "#EBF0F8",
           "zerolinewidth": 2
          }
         }
        },
        "title": {
         "text": "[2021-02-10 15:36:29 PM] Episode: 200/200 Step: 101/200"
        },
        "xaxis": {
         "anchor": "y",
         "domain": [
          0,
          1
         ],
         "gridcolor": "Gainsboro",
         "linecolor": "Grey",
         "matches": "x4",
         "rangeslider": {
          "visible": false
         },
         "showticklabels": false,
         "title": {
          "font": {
           "size": 12
          },
          "standoff": 7,
          "text": "Price"
         }
        },
        "xaxis2": {
         "anchor": "y2",
         "domain": [
          0,
          1
         ],
         "gridcolor": "Gainsboro",
         "linecolor": "Grey",
         "matches": "x4",
         "showticklabels": false,
         "title": {
          "font": {
           "size": 12
          },
          "standoff": 7,
          "text": "Volume"
         }
        },
        "xaxis3": {
         "anchor": "y3",
         "domain": [
          0,
          1
         ],
         "gridcolor": "Gainsboro",
         "linecolor": "Grey",
         "matches": "x4",
         "showticklabels": false,
         "title": {
          "font": {
           "size": 12
          },
          "standoff": 7,
          "text": "Performance"
         }
        },
        "xaxis4": {
         "anchor": "y4",
         "domain": [
          0,
          1
         ],
         "gridcolor": "Gainsboro",
         "linecolor": "Grey",
         "title": {
          "font": {
           "size": 12
          },
          "standoff": 7,
          "text": "Net Worth"
         }
        },
        "yaxis": {
         "anchor": "x",
         "domain": [
          0.49950000000000006,
          1
         ],
         "gridcolor": "Gainsboro",
         "linecolor": "Grey"
        },
        "yaxis2": {
         "anchor": "x2",
         "domain": [
          0.333,
          0.46950000000000003
         ],
         "gridcolor": "Gainsboro",
         "linecolor": "Grey"
        },
        "yaxis3": {
         "anchor": "x3",
         "domain": [
          0.1665,
          0.30300000000000005
         ],
         "gridcolor": "Gainsboro",
         "linecolor": "Grey"
        },
        "yaxis4": {
         "anchor": "x4",
         "domain": [
          0,
          0.1365
         ],
         "gridcolor": "Gainsboro",
         "linecolor": "Grey"
        }
       }
      },
      "text/html": [
       "<div>                            <div id=\"9a2d57d4-7f5b-445b-99b3-0d330c8e1752\" class=\"plotly-graph-div\" style=\"height:525px; width:100%;\"></div>            <script type=\"text/javascript\">                require([\"plotly\"], function(Plotly) {                    window.PLOTLYENV=window.PLOTLYENV || {};                                    if (document.getElementById(\"9a2d57d4-7f5b-445b-99b3-0d330c8e1752\")) {                    Plotly.newPlot(                        \"9a2d57d4-7f5b-445b-99b3-0d330c8e1752\",                        [{\"close\": [8739.0, 8743.0, 8723.7, 8708.1, 8784.4, 8755.2, 8762.0, 8742.6, 8512.0, 8520.8, 8532.1, 8553.8, 8516.5, 8551.2, 8516.7, 8476.0, 8459.9, 8467.5, 8454.2, 8327.9, 8124.4, 8152.0, 8205.3, 8197.7, 8223.9, 8221.1, 8194.2, 8225.1, 8357.2, 8358.5, 8348.6, 8158.1, 8205.9, 8276.0, 8255.2, 8286.4, 8266.2, 8227.4, 8290.0, 8271.9, 8278.1, 8336.1, 8346.07, 8368.7, 8373.5, 8355.0, 8319.5, 8352.2, 8337.8, 8246.7, 8270.1, 8279.4, 8296.4, 8302.0, 8274.8, 8288.8, 8311.8, 8300.9, 8271.6, 8250.0, 8163.4, 8170.0, 8206.1, 8147.08, 8069.9, 8054.3, 7958.0, 7981.1, 7995.1, 7996.0, 8016.0, 8035.7, 7964.0, 8085.0, 8123.6, 8102.4, 8130.0, 8101.5, 8105.5, 8095.7, 8074.9, 8105.0, 8130.0, 8103.3, 8209.1, 8224.9, 8224.2, 8226.9, 8214.0, 8238.9, 8215.0, 8192.9, 8200.0, 8237.5, 8226.4, 8236.2, 8216.7, 8171.4, 8210.0, 8188.9, 8238.5], \"high\": [8793.0, 8754.8, 8743.1, 8737.8, 8855.7, 8804.9, 8789.1, 8798.1, 8742.7, 8544.0, 8580.0, 8578.4, 8553.8, 8560.5, 8558.0, 8540.9, 8552.0, 8498.4, 8492.7, 8462.1, 8328.7, 8217.0, 8236.87, 8221.3, 8270.8, 8241.4, 8241.9, 8258.5, 8420.0, 8426.3, 8380.0, 8372.8, 8212.0, 8370.2, 8318.5, 8349.3, 8328.0, 8375.0, 8290.8, 8314.0, 8366.9, 8357.3, 8396.8, 8376.1, 8394.0, 8482.2, 8373.5, 8374.8, 8364.3, 8345.7, 8280.6, 8315.6, 8313.2, 8316.0, 8337.4, 8299.9, 8363.0, 8323.8, 8320.6, 8271.6, 8266.4, 8192.0, 8232.0, 8206.5, 8147.08, 8093.0, 8063.0, 8024.9, 8022.7, 8023.0, 8057.0, 8046.2, 8035.7, 8161.0, 8138.7, 8130.8, 8145.8, 8131.7, 8128.0, 8116.0, 8095.8, 8133.0, 8157.6, 8143.9, 8224.0, 8277.2, 8250.1, 8265.5, 8246.9, 8247.5, 8255.0, 8225.2, 8211.6, 8277.8, 8270.7, 8236.92, 8250.0, 8219.0, 8210.0, 8213.0, 8250.0], \"low\": [8714.9, 8719.3, 8653.2, 8701.2, 8695.8, 8734.8, 8743.0, 8633.0, 8480.2, 8472.5, 8485.7, 8499.0, 8438.1, 8436.8, 8479.3, 8476.0, 8415.0, 8451.0, 8420.0, 8282.0, 8100.0, 8124.4, 8152.0, 8152.0, 8156.1, 8197.33, 8177.4, 8194.2, 8225.1, 8356.8, 8342.2, 8121.7, 8158.07, 8205.8, 8192.6, 8240.9, 8266.1, 8227.01, 8222.0, 8252.2, 8271.9, 8274.0, 8319.2, 8311.3, 8354.9, 8320.9, 8316.4, 8274.2, 8333.1, 8190.4, 8202.5, 8263.0, 8256.7, 8280.0, 8227.8, 8266.44, 8287.8, 8286.9, 8218.3, 8228.76, 8119.4, 8153.0, 8170.0, 8144.4, 7982.5, 7990.7, 7925.0, 7941.3, 7944.8, 7977.03, 7995.8, 7990.12, 7950.8, 7964.0, 8080.3, 8085.1, 8093.1, 8050.0, 8079.7, 8050.0, 8036.7, 8066.2, 8080.0, 8093.8, 8085.9, 8200.3, 8205.5, 8222.8, 8200.3, 8214.0, 8211.0, 8164.1, 8178.7, 8185.86, 8222.1, 8216.0, 8216.1, 8140.2, 8145.2, 8185.1, 8188.8], \"name\": \"Price\", \"open\": [8723.8, 8739.0, 8743.0, 8723.7, 8708.1, 8784.4, 8755.2, 8762.0, 8742.6, 8512.0, 8520.8, 8532.1, 8553.8, 8516.5, 8551.2, 8516.7, 8476.0, 8459.9, 8467.5, 8454.2, 8327.9, 8124.4, 8152.0, 8205.3, 8197.7, 8223.9, 8221.1, 8194.2, 8225.1, 8357.2, 8358.5, 8348.6, 8158.1, 8205.9, 8276.0, 8255.2, 8286.4, 8266.2, 8227.4, 8290.0, 8271.9, 8278.1, 8336.1, 8346.07, 8368.7, 8373.5, 8355.0, 8319.5, 8352.2, 8337.8, 8246.7, 8270.1, 8279.4, 8296.4, 8302.0, 8274.8, 8288.8, 8311.8, 8300.9, 8271.6, 8250.0, 8163.4, 8170.0, 8206.1, 8147.08, 8069.9, 8054.3, 7958.0, 7981.1, 7995.1, 7996.0, 8016.0, 8035.7, 7964.0, 8085.0, 8123.6, 8102.4, 8130.0, 8101.5, 8105.5, 8095.7, 8074.9, 8105.0, 8130.0, 8103.3, 8209.1, 8224.9, 8224.2, 8226.9, 8214.0, 8238.9, 8215.0, 8192.9, 8200.0, 8237.5, 8226.4, 8236.2, 8216.7, 8171.4, 8210.0, 8188.9], \"showlegend\": false, \"type\": \"candlestick\", \"uid\": \"be5690eb-1fb1-447f-bbe2-c87085671b48\", \"xaxis\": \"x\", \"yaxis\": \"y\"}, {\"marker\": {\"color\": \"DodgerBlue\"}, \"name\": \"Volume\", \"showlegend\": false, \"type\": \"bar\", \"uid\": \"5ce9108d-9052-4658-8ea9-4c5a42f7f751\", \"xaxis\": \"x2\", \"y\": [8988053.53, 2288904.12, 8891773.14, 2054868.28, 17309722.58, 5755257.93, 4406994.79, 16375559.14, 30884779.63, 13585970.87, 10472251.96, 8155202.96, 23290913.96, 12093565.11, 4843869.92, 3853166.53, 10032951.79, 3405881.75, 4240758.74, 16395261.35, 35444924.51, 8483096.75, 5883397.96, 8490665.11, 12865221.51, 4455698.32, 8168354.32, 5245383.3, 25717067.45, 10531322.67, 5479810.58, 24269108.57, 5457501.18, 15802905.65, 15226854.34, 22453283.24, 2340358.52, 6197892.42, 4343002.13, 4066149.47, 6783076.23, 6912962.07, 7878424.24, 5713233.04, 4875954.44, 18714875.92, 2581490.9, 7487354.53, 2795240.16, 15044687.38, 8332633.39, 3351047.32, 3576555.25, 4412616.65, 10318967.27, 3219867.82, 6528544.81, 2382210.39, 14537481.76, 4152516.31, 14783512.43, 5582076.74, 6338329.71, 4880828.76, 38371646.78, 7470965.86, 13753738.0, 7557856.78, 7570792.35, 5015084.5, 9380234.91, 4996646.68, 6179627.26, 23205279.31, 7010761.88, 4485979.41, 5708771.23, 7389891.81, 8258179.49, 6649750.04, 6531746.84, 5094499.16, 8542485.5, 4862989.56, 10479980.91, 22630523.07, 2287274.86, 2232387.29, 1645824.8, 2765733.43, 3205020.99, 3952721.71, 1140139.1, 7996865.15, 2889095.12, 1665538.5, 1151743.0, 9742621.25, 2324514.41, 2334663.76, 2927809.75], \"yaxis\": \"y2\"}, {\"mode\": \"lines\", \"name\": \"bitfinex:/USD-BTC\", \"type\": \"scatter\", \"uid\": \"3e0fa295-9351-4c5a-b276-05cb885bc559\", \"xaxis\": \"x3\", \"y\": [8739.0, 8743.0, 8723.7, 8708.1, 8784.4, 8755.2, 8762.0, 8742.6, 8512.0, 8520.8, 8532.1, 8553.8, 8516.5, 8551.2, 8516.7, 8476.0, 8459.9, 8467.5, 8454.2, 8327.9, 8124.4, 8152.0, 8205.3, 8197.7, 8223.9, 8221.1, 8194.2, 8225.1, 8357.2, 8358.5, 8348.6, 8158.1, 8205.9, 8276.0, 8255.2, 8286.4, 8266.2, 8227.4, 8290.0, 8271.9, 8278.1, 8336.1, 8346.07, 8368.7, 8373.5, 8355.0, 8319.5, 8352.2, 8337.8, 8246.7, 8270.1, 8279.4, 8296.4, 8302.0, 8274.8, 8288.8, 8311.8, 8300.9, 8271.6, 8250.0, 8163.4, 8170.0, 8206.1, 8147.08, 8069.9, 8054.3, 7958.0, 7981.1, 7995.1, 7996.0, 8016.0, 8035.7, 7964.0, 8085.0, 8123.6, 8102.4, 8130.0, 8101.5, 8105.5, 8095.7, 8074.9, 8105.0, 8130.0, 8103.3, 8209.1, 8224.9, 8224.2, 8226.9, 8214.0, 8238.9, 8215.0, 8192.9, 8200.0, 8237.5, 8226.4, 8236.2, 8216.7, 8171.4, 8210.0, 8188.9, 8238.5], \"yaxis\": \"y3\"}, {\"mode\": \"lines\", \"name\": \"bitfinex:/USD:/free\", \"type\": \"scatter\", \"uid\": \"f151d270-20bc-4f9f-bdb2-6c20abb873e6\", \"xaxis\": \"x3\", \"y\": [10000.0, 5000.0, 5000.0, 5000.0, 2500.0, 2500.0, 1250.0, 1250.0, 1250.0, 9728.01, 9728.01, 4864.0, 4864.0, 2432.0, 2432.0, 2432.0, 2432.0, 1216.0, 1216.0, 1216.0, 8299.05, 5310.31, 2655.15, 2655.15, 1327.57, 1327.57, 1327.57, 663.79, 331.9, 4574.75, 7953.88, 7953.88, 3976.94, 1988.47, 1988.47, 1988.47, 1988.47, 1988.47, 1988.47, 1590.78, 1590.78, 1590.78, 5630.15, 5630.15, 6977.31, 8994.23, 8994.23, 8994.23, 8994.23, 8994.23, 8994.23, 8994.23, 8994.23, 8994.23, 8994.23, 8994.23, 8994.23, 8994.23, 8994.23, 8994.23, 8994.23, 8994.23, 8994.23, 5396.54, 5396.54, 5396.54, 4640.28, 2699.62, 1349.81, 674.91, 337.46, 101.24, 50.62, 25.31, 12.66, 2392.55, 1196.27, 1196.27, 598.14, 598.14, 598.14, 598.14, 598.14, 598.14, 598.14, 2373.96, 3064.1, 3064.1, 3064.1, 3064.1, 3064.1, 3064.1, 3064.1, 3064.1, 3064.1, 3064.1, 3064.1, 3064.1, 3064.1, 3064.1, 3064.1], \"yaxis\": \"y3\"}, {\"mode\": \"lines\", \"name\": \"bitfinex:/USD:/locked\", \"type\": \"scatter\", \"uid\": \"44aadd7f-fc29-4cef-a13e-32b972b5c765\", \"xaxis\": \"x3\", \"y\": [0.0, 0.0, 34867.08, 55741.15, 55741.15, 68352.74, 68352.74, 75900.4, 80418.97, 83718.51, 84379.1, 84379.1, 85440.14, 85440.14, 85758.35, 86011.89, 86213.76, 86213.76, 86375.09, 86503.95, 34608.26, 9373.61, 1825.95, 18667.91, 18667.91, 32172.02, 59171.04, 59171.04, 59171.04, 46334.71, 53197.27, 56624.49, 55963.9, 55963.9, 57995.67, 58401.0, 59051.98, 59441.62, 59557.96, 59557.96, 59651.54, 59651.54, 59651.54, 59651.54, 57793.75, 57884.69, 57884.69, 57884.69, 57884.69, 57884.69, 57884.69, 57884.69, 57884.69, 57884.69, 57884.69, 57884.69, 57884.69, 57884.69, 57884.69, 57884.69, 57884.69, 57884.69, 57884.69, 57884.69, 57884.69, 57723.36, 57594.5, 56922.94, 56578.46, 56578.46, 56578.46, 56578.46, 56578.46, 56476.91, 56476.91, 56788.09, 56788.09, 57037.23, 57037.23, 57235.94, 57394.72, 57521.41, 57623.14, 57704.78, 57704.78, 57704.78, 57836.93, 57836.93, 57836.93, 57836.93, 57712.76, 57712.76, 57712.76, 57712.76, 57712.76, 57712.76, 57712.76, 57712.76, 57712.76, 57712.76, 57712.76], \"yaxis\": \"y3\"}, {\"mode\": \"lines\", \"name\": \"bitfinex:/USD:/total\", \"type\": \"scatter\", \"uid\": \"18c61f0d-5270-439e-80cd-523e136dd11a\", \"xaxis\": \"x3\", \"y\": [10000.0, 5000.0, 39867.08, 60741.15, 58241.15, 70852.74, 69602.74, 77150.4, 81668.97, 93446.52, 94107.11, 89243.1, 90304.14, 87872.14, 88190.35, 88443.89, 88645.76, 87429.76, 87591.09, 87719.95, 42907.31, 14683.92, 4481.1, 21323.06, 19995.48, 33499.59, 60498.61, 59834.83, 59502.94, 50909.46, 61151.15, 64578.37, 59940.84, 57952.37, 59984.14, 60389.47, 61040.45, 61430.09, 61546.43, 61148.74, 61242.32, 61242.32, 65281.69, 65281.69, 64771.06, 66878.92, 66878.92, 66878.92, 66878.92, 66878.92, 66878.92, 66878.92, 66878.92, 66878.92, 66878.92, 66878.92, 66878.92, 66878.92, 66878.92, 66878.92, 66878.92, 66878.92, 66878.92, 63281.23, 63281.23, 63119.9, 62234.78, 59622.56, 57928.27, 57253.37, 56915.92, 56679.7, 56629.08, 56502.22, 56489.57, 59180.64, 57984.36, 58233.5, 57635.37, 57834.08, 57992.86, 58119.55, 58221.28, 58302.92, 58302.92, 60078.74, 60901.03, 60901.03, 60901.03, 60901.03, 60776.86, 60776.86, 60776.86, 60776.86, 60776.86, 60776.86, 60776.86, 60776.86, 60776.86, 60776.86, 60776.86], \"yaxis\": \"y3\"}, {\"mode\": \"lines\", \"name\": \"bitfinex:/BTC:/free\", \"type\": \"scatter\", \"uid\": \"89e35d7a-6159-4e93-9f8a-fcf29279fad7\", \"xaxis\": \"x3\", \"y\": [10.0, 10.0, 6.0, 3.6, 3.6, 2.16, 2.16, 1.296, 0.7776, 0.3888, 0.31104, 0.31104, 0.186624, 0.186624, 0.1492992, 0.11943936, 0.09555149, 0.09555149, 0.07644119, 0.06115295, 6.27393106, 9.37064589, 10.2937347, 8.23498776, 8.23498776, 6.58799021, 3.2939951, 3.2939951, 3.2939951, 1.64699755, 0.82349877, 0.41174938, 0.49248019, 0.49248019, 0.2462401, 0.19699208, 0.11819525, 0.07091715, 0.05673372, 0.05673372, 0.04538698, 0.04538698, 0.04538698, 0.04538698, 0.02723219, 0.01633931, 0.01633931, 0.01633931, 0.01633931, 0.01633931, 0.01633931, 0.01633931, 0.01633931, 0.01633931, 0.01633931, 0.01633931, 0.01633931, 0.01633931, 0.01633931, 0.01633931, 0.01633931, 0.01633931, 0.01633931, 0.01633931, 0.01633931, 0.0362714, 0.05222189, 0.13635735, 0.17939027, 0.17939027, 0.17939027, 0.17939027, 0.17939027, 0.19210373, 0.19210373, 0.15368298, 0.15368298, 0.12294638, 0.12294638, 0.0983571, 0.07868568, 0.06294854, 0.05035883, 0.04028706, 0.04028706, 0.04028706, 0.02417224, 0.02417224, 0.02417224, 0.02417224, 0.02417224, 0.02417224, 0.02417224, 0.02417224, 0.02417224, 0.02417224, 0.02417224, 0.02417224, 0.02417224, 0.02417224, 0.02417224], \"yaxis\": \"y3\"}, {\"mode\": \"lines\", \"name\": \"bitfinex:/BTC:/locked\", \"type\": \"scatter\", \"uid\": \"9f6eac37-950d-42bd-960c-9739c8f15114\", \"xaxis\": \"x3\", \"y\": [0.0, 0.5704314, 0.5704314, 0.5704314, 0.85665916, 0.85665916, 0.99900314, 0.99900314, 0.99900314, 0.0, 0.0, 0.56837355, 0.56837355, 0.85307971, 0.85307971, 0.85307971, 0.85307971, 0.99638519, 0.99638519, 0.99638519, 0.14330548, 0.50921545, 0.83394435, 0.83394435, 0.99540427, 0.99540427, 0.99540427, 1.07616749, 1.11639679, 3.7756648, 3.37017268, 3.37017268, 3.85619393, 4.09778839, 4.09778839, 4.09778839, 4.09778839, 4.09778839, 4.09778839, 4.1456171, 4.1456171, 4.1456171, 3.65959585, 3.65959585, 3.73750883, 3.49591437, 3.49591437, 3.49591437, 3.49591437, 3.49591437, 3.49591437, 3.49591437, 3.49591437, 3.49591437, 3.49591437, 3.49591437, 3.49591437, 3.49591437, 3.49591437, 3.49591437, 3.49591437, 3.49591437, 3.49591437, 3.93301604, 3.93301604, 3.93301604, 4.02638867, 4.2692335, 4.43785186, 4.52201341, 4.56408945, 4.59346944, 4.59975016, 4.60291817, 4.60447785, 4.3106363, 4.45783836, 4.45783836, 4.53144695, 4.53144695, 4.53144695, 4.53144695, 4.53144695, 4.53144695, 4.53144695, 4.31447183, 4.23031028, 4.23031028, 4.23031028, 4.23031028, 4.24533656, 4.24533656, 4.24533656, 4.24533656, 4.24533656, 4.24533656, 4.24533656, 4.24533656, 4.24533656, 4.24533656, 4.24533656], \"yaxis\": \"y3\"}, {\"mode\": \"lines\", \"name\": \"bitfinex:/BTC:/total\", \"type\": \"scatter\", \"uid\": \"84533d1b-dfe4-4b7c-9a54-d1bca7484577\", \"xaxis\": \"x3\", \"y\": [10.0, 10.5704314, 6.5704314, 4.1704314, 4.45665916, 3.01665916, 3.15900314, 2.29500314, 1.77660314, 0.3888, 0.31104, 0.87941355, 0.75499755, 1.03970371, 1.00237891, 0.97251907, 0.9486312, 1.09193668, 1.07282638, 1.05753814, 6.41723654, 9.87986134, 11.12767905, 9.06893211, 9.23039203, 7.58339448, 4.28939937, 4.37016259, 4.41039189, 5.42266235, 4.19367145, 3.78192206, 4.34867412, 4.59026858, 4.34402849, 4.29478047, 4.21598364, 4.16870554, 4.15452211, 4.20235082, 4.19100408, 4.19100408, 3.70498283, 3.70498283, 3.76474102, 3.51225368, 3.51225368, 3.51225368, 3.51225368, 3.51225368, 3.51225368, 3.51225368, 3.51225368, 3.51225368, 3.51225368, 3.51225368, 3.51225368, 3.51225368, 3.51225368, 3.51225368, 3.51225368, 3.51225368, 3.51225368, 3.94935535, 3.94935535, 3.96928744, 4.07861056, 4.40559085, 4.61724213, 4.70140368, 4.74347972, 4.77285971, 4.77914043, 4.7950219, 4.79658158, 4.46431928, 4.61152134, 4.58078474, 4.65439333, 4.62980405, 4.61013263, 4.59439549, 4.58180578, 4.57173401, 4.57173401, 4.35475889, 4.25448252, 4.25448252, 4.25448252, 4.25448252, 4.2695088, 4.2695088, 4.2695088, 4.2695088, 4.2695088, 4.2695088, 4.2695088, 4.2695088, 4.2695088, 4.2695088, 4.2695088], \"yaxis\": \"y3\"}, {\"mode\": \"lines\", \"name\": \"bitfinex:/BTC:/worth\", \"type\": \"scatter\", \"uid\": \"1c8adcbc-2465-4e55-9c69-d7fc2291196b\", \"xaxis\": \"x3\", \"y\": [87390.0, 92417.2817302, 57318.47240418001, 36316.533674340004, 39149.076725104, 26411.454277632005, 27679.18551268, 20064.294451764, 15122.445927679999, 3312.8870399999996, 2653.824384, 7522.32762399, 6429.936634575, 8890.714364952, 8536.960462797, 8243.071637320001, 8025.325088879999, 9245.973837900001, 9069.888781796, 8807.071876105998, 52136.196545576, 80540.62964368, 91305.94490896499, 74344.384758147, 75909.82101551701, 62343.844359528004, 35148.196317654, 35945.024319009, 36858.527103108, 45325.323252475006, 35011.28546747, 30853.298357686, 35684.784961307996, 37989.06276808, 35860.82399064801, 35588.268886608, 34850.16396496801, 34297.607959796005, 34440.9882919, 34761.425747958005, 34693.550874648, 34936.629111288, 30922.0460479781, 31005.889809421, 31524.05893097, 29344.8794964, 29220.19449076, 29335.045186096006, 29284.468733104, 28964.502422856003, 29046.689158968, 29079.353118192, 29139.061430752, 29158.730051360002, 29063.196751264, 29112.368302783998, 29193.150137424, 29154.866572312, 29051.957539488, 28976.09286, 28671.931691312, 28695.1125656, 28821.904923448, 32175.713984878, 31870.902738964996, 31969.831827992002, 32457.582836480004, 35161.461132935, 36915.312553563, 37592.423825280006, 38023.73343552, 38353.268771646995, 38061.07438452, 38767.7520615, 38965.510123288, 36171.70053427199, 37491.66849420001, 37111.22757111, 37726.185136315005, 37481.504647584996, 37226.359973987, 37237.57544645, 37250.0809914, 37046.132203233, 37529.821661491005, 35817.456394361, 34989.715140984, 35001.202243788, 34946.31941928, 35052.256034027996, 35074.014791999994, 34979.658647519995, 35009.97216, 35170.07874, 35122.687192319994, 35164.52837856, 35081.27295696, 34887.864208319996, 35052.667248, 34962.580612319995, 35174.34824879999], \"yaxis\": \"y3\"}, {\"mode\": \"lines\", \"name\": \"net_worth\", \"type\": \"scatter\", \"uid\": \"2dc2075a-de83-4e22-9001-14c4f33b0696\", \"xaxis\": \"x3\", \"y\": [97390.0, 97417.2817302, 97185.55240418001, 97057.68367434, 97390.226725104, 97264.194277632, 97281.92551268, 97214.694451764, 96791.41592768, 96759.40704, 96760.93438400001, 96765.42762399, 96734.076634575, 96762.854364952, 96727.310462797, 96686.96163732, 96671.08508887999, 96675.7338379, 96660.978781796, 96527.021876106, 95043.506545576, 95224.54964368, 95787.04490896499, 95667.444758147, 95905.301015517, 95843.43435952801, 95646.806317654, 95779.854319009, 96361.467103108, 96234.783252475, 96162.43546747, 95431.668357686, 95625.624961308, 95941.43276808, 95844.96399064802, 95977.738886608, 95890.61396496801, 95727.697959796, 95987.4182919, 95910.165747958, 95935.870874648, 96178.949111288, 96203.7360479781, 96287.579809421, 96295.11893097, 96223.7994964, 96099.11449076, 96213.965186096, 96163.388733104, 95843.422422856, 95925.609158968, 95958.273118192, 96017.981430752, 96037.65005136, 95942.116751264, 95991.288302784, 96072.070137424, 96033.786572312, 95930.87753948799, 95855.01286, 95550.851691312, 95574.0325656, 95700.824923448, 95456.943984878, 95152.132738965, 95089.731827992, 94692.36283648, 94784.021132935, 94843.582553563, 94845.79382528001, 94939.65343552, 95032.96877164699, 94690.15438451999, 95269.97206150001, 95455.080123288, 95352.34053427199, 95476.0284942, 95344.72757111001, 95361.555136315, 95315.584647585, 95219.219973987, 95357.12544645, 95471.3609914, 95349.052203233, 95832.741661491, 95896.196394361, 95890.745140984, 95902.23224378799, 95847.34941928, 95953.28603402799, 95850.87479199999, 95756.51864751999, 95786.83215999999, 95946.93874, 95899.54719232, 95941.38837855999, 95858.13295696, 95664.72420832, 95829.527248, 95739.44061232, 95951.20824879999], \"yaxis\": \"y3\"}, {\"marker\": {\"color\": \"DarkGreen\"}, \"mode\": \"lines\", \"name\": \"Net Worth\", \"type\": \"scatter\", \"uid\": \"d9691fd2-f666-4ad6-9d95-37178101d890\", \"xaxis\": \"x4\", \"y\": [97390.0, 97417.2817302, 97185.55240418001, 97057.68367434, 97390.226725104, 97264.194277632, 97281.92551268, 97214.694451764, 96791.41592768, 96759.40704, 96760.93438400001, 96765.42762399, 96734.076634575, 96762.854364952, 96727.310462797, 96686.96163732, 96671.08508887999, 96675.7338379, 96660.978781796, 96527.021876106, 95043.506545576, 95224.54964368, 95787.04490896499, 95667.444758147, 95905.301015517, 95843.43435952801, 95646.806317654, 95779.854319009, 96361.467103108, 96234.783252475, 96162.43546747, 95431.668357686, 95625.624961308, 95941.43276808, 95844.96399064802, 95977.738886608, 95890.61396496801, 95727.697959796, 95987.4182919, 95910.165747958, 95935.870874648, 96178.949111288, 96203.7360479781, 96287.579809421, 96295.11893097, 96223.7994964, 96099.11449076, 96213.965186096, 96163.388733104, 95843.422422856, 95925.609158968, 95958.273118192, 96017.981430752, 96037.65005136, 95942.116751264, 95991.288302784, 96072.070137424, 96033.786572312, 95930.87753948799, 95855.01286, 95550.851691312, 95574.0325656, 95700.824923448, 95456.943984878, 95152.132738965, 95089.731827992, 94692.36283648, 94784.021132935, 94843.582553563, 94845.79382528001, 94939.65343552, 95032.96877164699, 94690.15438451999, 95269.97206150001, 95455.080123288, 95352.34053427199, 95476.0284942, 95344.72757111001, 95361.555136315, 95315.584647585, 95219.219973987, 95357.12544645, 95471.3609914, 95349.052203233, 95832.741661491, 95896.196394361, 95890.745140984, 95902.23224378799, 95847.34941928, 95953.28603402799, 95850.87479199999, 95756.51864751999, 95786.83215999999, 95946.93874, 95899.54719232, 95941.38837855999, 95858.13295696, 95664.72420832, 95829.527248, 95739.44061232, 95951.20824879999], \"yaxis\": \"y4\"}],                        {\"annotations\": [{\"arrowcolor\": \"FireBrick\", \"arrowhead\": 2, \"arrowsize\": 0.8, \"arrowwidth\": 4, \"ax\": 0, \"ay\": -15, \"hoverlabel\": {\"bgcolor\": \"FireBrick\"}, \"hovertext\": \"Step 45 [2018-05-17 02:00:00]<br>SELL 0.0108602 BTC @ 8373.5 USD MARKET<br>Total: 90.94 USD - Comm.: 0.00003268 BTC\", \"opacity\": 0.6, \"showarrow\": true, \"x\": 44, \"xref\": \"x\", \"y\": 8373.5, \"yref\": \"y\"}, {\"arrowcolor\": \"FireBrick\", \"arrowhead\": 2, \"arrowsize\": 0.8, \"arrowwidth\": 4, \"ax\": 0, \"ay\": -15, \"hoverlabel\": {\"bgcolor\": \"FireBrick\"}, \"hovertext\": \"Step 45 [2018-05-17 02:00:00]<br>SELL 0.24086968 BTC @ 8373.5 USD MARKET<br>Total: 2016.92 USD - Comm.: 0.00072478 BTC\", \"opacity\": 0.6, \"showarrow\": true, \"x\": 44, \"xref\": \"x\", \"y\": 8373.5, \"yref\": \"y\"}, {\"arrowcolor\": \"FireBrick\", \"arrowhead\": 2, \"arrowsize\": 0.8, \"arrowwidth\": 4, \"ax\": 0, \"ay\": -15, \"hoverlabel\": {\"bgcolor\": \"FireBrick\"}, \"hovertext\": \"Step 44 [2018-05-17 01:00:00]<br>SELL 0.01810033 BTC @ 8368.7 USD MARKET<br>Total: 151.48 USD - Comm.: 0.00005446 BTC\", \"opacity\": 0.6, \"showarrow\": true, \"x\": 43, \"xref\": \"x\", \"y\": 8368.7, \"yref\": \"y\"}, {\"arrowcolor\": \"DarkGreen\", \"arrowhead\": 2, \"arrowsize\": 0.8, \"arrowwidth\": 4, \"ax\": 0, \"ay\": 15, \"hoverlabel\": {\"bgcolor\": \"DarkGreen\"}, \"hovertext\": \"Step 44 [2018-05-17 01:00:00]<br>BUY 0.2393729 BTC @ 8368.7 USD MARKET<br>Total: 2003.24 USD - Comm.: 6.03 USD\", \"opacity\": 0.6, \"showarrow\": true, \"x\": 43, \"xref\": \"x\", \"y\": 8368.7, \"yref\": \"y\"}, {\"arrowcolor\": \"FireBrick\", \"arrowhead\": 2, \"arrowsize\": 0.8, \"arrowwidth\": 4, \"ax\": 0, \"ay\": -15, \"hoverlabel\": {\"bgcolor\": \"FireBrick\"}, \"hovertext\": \"Step 44 [2018-05-17 01:00:00]<br>SELL 0.16097554 BTC @ 8368.7 USD MARKET<br>Total: 1347.16 USD - Comm.: 0.00048438 BTC\", \"opacity\": 0.6, \"showarrow\": true, \"x\": 43, \"xref\": \"x\", \"y\": 8368.7, \"yref\": \"y\"}, {\"arrowcolor\": \"FireBrick\", \"arrowhead\": 2, \"arrowsize\": 0.8, \"arrowwidth\": 4, \"ax\": 0, \"ay\": -15, \"hoverlabel\": {\"bgcolor\": \"FireBrick\"}, \"hovertext\": \"Step 42 [2018-05-16 23:00:00]<br>SELL 0.48456319 BTC @ 8336.1 USD MARKET<br>Total: 4039.37 USD - Comm.: 0.00145806 BTC\", \"opacity\": 0.6, \"showarrow\": true, \"x\": 41, \"xref\": \"x\", \"y\": 8336.1, \"yref\": \"y\"}, {\"arrowcolor\": \"FireBrick\", \"arrowhead\": 2, \"arrowsize\": 0.8, \"arrowwidth\": 4, \"ax\": 0, \"ay\": -15, \"hoverlabel\": {\"bgcolor\": \"FireBrick\"}, \"hovertext\": \"Step 40 [2018-05-16 21:00:00]<br>SELL 0.0113127 BTC @ 8271.9 USD MARKET<br>Total: 93.58 USD - Comm.: 0.00003404 BTC\", \"opacity\": 0.6, \"showarrow\": true, \"x\": 39, \"xref\": \"x\", \"y\": 8271.9, \"yref\": \"y\"}, {\"arrowcolor\": \"DarkGreen\", \"arrowhead\": 2, \"arrowsize\": 0.8, \"arrowwidth\": 4, \"ax\": 0, \"ay\": 15, \"hoverlabel\": {\"bgcolor\": \"DarkGreen\"}, \"hovertext\": \"Step 39 [2018-05-16 20:00:00]<br>BUY 0.04782871 BTC @ 8290.0 USD MARKET<br>Total: 396.5 USD - Comm.: 1.19 USD\", \"opacity\": 0.6, \"showarrow\": true, \"x\": 38, \"xref\": \"x\", \"y\": 8290.0, \"yref\": \"y\"}, {\"arrowcolor\": \"FireBrick\", \"arrowhead\": 2, \"arrowsize\": 0.8, \"arrowwidth\": 4, \"ax\": 0, \"ay\": -15, \"hoverlabel\": {\"bgcolor\": \"FireBrick\"}, \"hovertext\": \"Step 38 [2018-05-16 19:00:00]<br>SELL 0.01414088 BTC @ 8227.4 USD MARKET<br>Total: 116.34 USD - Comm.: 0.00004255 BTC\", \"opacity\": 0.6, \"showarrow\": true, \"x\": 37, \"xref\": \"x\", \"y\": 8227.4, \"yref\": \"y\"}, {\"arrowcolor\": \"FireBrick\", \"arrowhead\": 2, \"arrowsize\": 0.8, \"arrowwidth\": 4, \"ax\": 0, \"ay\": -15, \"hoverlabel\": {\"bgcolor\": \"FireBrick\"}, \"hovertext\": \"Step 37 [2018-05-16 18:00:00]<br>SELL 0.04713627 BTC @ 8266.2 USD MARKET<br>Total: 389.64 USD - Comm.: 0.00014183 BTC\", \"opacity\": 0.6, \"showarrow\": true, \"x\": 36, \"xref\": \"x\", \"y\": 8266.2, \"yref\": \"y\"}, {\"arrowcolor\": \"FireBrick\", \"arrowhead\": 2, \"arrowsize\": 0.8, \"arrowwidth\": 4, \"ax\": 0, \"ay\": -15, \"hoverlabel\": {\"bgcolor\": \"FireBrick\"}, \"hovertext\": \"Step 36 [2018-05-16 17:00:00]<br>SELL 0.07856044 BTC @ 8286.4 USD MARKET<br>Total: 650.98 USD - Comm.: 0.00023639 BTC\", \"opacity\": 0.6, \"showarrow\": true, \"x\": 35, \"xref\": \"x\", \"y\": 8286.4, \"yref\": \"y\"}, {\"arrowcolor\": \"FireBrick\", \"arrowhead\": 2, \"arrowsize\": 0.8, \"arrowwidth\": 4, \"ax\": 0, \"ay\": -15, \"hoverlabel\": {\"bgcolor\": \"FireBrick\"}, \"hovertext\": \"Step 35 [2018-05-16 16:00:00]<br>SELL 0.04910028 BTC @ 8255.2 USD MARKET<br>Total: 405.33 USD - Comm.: 0.00014774 BTC\", \"opacity\": 0.6, \"showarrow\": true, \"x\": 34, \"xref\": \"x\", \"y\": 8255.2, \"yref\": \"y\"}, {\"arrowcolor\": \"FireBrick\", \"arrowhead\": 2, \"arrowsize\": 0.8, \"arrowwidth\": 4, \"ax\": 0, \"ay\": -15, \"hoverlabel\": {\"bgcolor\": \"FireBrick\"}, \"hovertext\": \"Step 34 [2018-05-16 15:00:00]<br>SELL 0.24550137 BTC @ 8276.0 USD MARKET<br>Total: 2031.77 USD - Comm.: 0.00073872 BTC\", \"opacity\": 0.6, \"showarrow\": true, \"x\": 33, \"xref\": \"x\", \"y\": 8276.0, \"yref\": \"y\"}, {\"arrowcolor\": \"DarkGreen\", \"arrowhead\": 2, \"arrowsize\": 0.8, \"arrowwidth\": 4, \"ax\": 0, \"ay\": 15, \"hoverlabel\": {\"bgcolor\": \"DarkGreen\"}, \"hovertext\": \"Step 33 [2018-05-16 14:00:00]<br>BUY 0.24159446 BTC @ 8205.9 USD MARKET<br>Total: 1982.5 USD - Comm.: 5.97 USD\", \"opacity\": 0.6, \"showarrow\": true, \"x\": 32, \"xref\": \"x\", \"y\": 8205.9, \"yref\": \"y\"}, {\"arrowcolor\": \"DarkGreen\", \"arrowhead\": 2, \"arrowsize\": 0.8, \"arrowwidth\": 4, \"ax\": 0, \"ay\": 15, \"hoverlabel\": {\"bgcolor\": \"DarkGreen\"}, \"hovertext\": \"Step 32 [2018-05-16 13:00:00]<br>BUY 0.48602125 BTC @ 8158.1 USD MARKET<br>Total: 3965.01 USD - Comm.: 11.93 USD\", \"opacity\": 0.6, \"showarrow\": true, \"x\": 31, \"xref\": \"x\", \"y\": 8158.1, \"yref\": \"y\"}, {\"arrowcolor\": \"DarkGreen\", \"arrowhead\": 2, \"arrowsize\": 0.8, \"arrowwidth\": 4, \"ax\": 0, \"ay\": 15, \"hoverlabel\": {\"bgcolor\": \"DarkGreen\"}, \"hovertext\": \"Step 32 [2018-05-16 13:00:00]<br>BUY 0.08073081 BTC @ 8158.1 USD MARKET<br>Total: 658.61 USD - Comm.: 1.98 USD\", \"opacity\": 0.6, \"showarrow\": true, \"x\": 31, \"xref\": \"x\", \"y\": 8158.1, \"yref\": \"y\"}, {\"arrowcolor\": \"FireBrick\", \"arrowhead\": 2, \"arrowsize\": 0.8, \"arrowwidth\": 4, \"ax\": 0, \"ay\": -15, \"hoverlabel\": {\"bgcolor\": \"FireBrick\"}, \"hovertext\": \"Step 31 [2018-05-16 12:00:00]<br>SELL 0.41051414 BTC @ 8348.6 USD MARKET<br>Total: 3427.22 USD - Comm.: 0.00123525 BTC\", \"opacity\": 0.6, \"showarrow\": true, \"x\": 30, \"xref\": \"x\", \"y\": 8348.6, \"yref\": \"y\"}, {\"arrowcolor\": \"FireBrick\", \"arrowhead\": 2, \"arrowsize\": 0.8, \"arrowwidth\": 4, \"ax\": 0, \"ay\": -15, \"hoverlabel\": {\"bgcolor\": \"FireBrick\"}, \"hovertext\": \"Step 30 [2018-05-16 11:00:00]<br>SELL 0.82102828 BTC @ 8358.5 USD MARKET<br>Total: 6862.56 USD - Comm.: 0.00247050 BTC\", \"opacity\": 0.6, \"showarrow\": true, \"x\": 29, \"xref\": \"x\", \"y\": 8358.5, \"yref\": \"y\"}, {\"arrowcolor\": \"FireBrick\", \"arrowhead\": 2, \"arrowsize\": 0.8, \"arrowwidth\": 4, \"ax\": 0, \"ay\": -15, \"hoverlabel\": {\"bgcolor\": \"FireBrick\"}, \"hovertext\": \"Step 30 [2018-05-16 11:00:00]<br>SELL 0.08052093 BTC @ 8358.5 USD MARKET<br>Total: 673.03 USD - Comm.: 0.00024229 BTC\", \"opacity\": 0.6, \"showarrow\": true, \"x\": 29, \"xref\": \"x\", \"y\": 8358.5, \"yref\": \"y\"}, {\"arrowcolor\": \"FireBrick\", \"arrowhead\": 2, \"arrowsize\": 0.8, \"arrowwidth\": 4, \"ax\": 0, \"ay\": -15, \"hoverlabel\": {\"bgcolor\": \"FireBrick\"}, \"hovertext\": \"Step 30 [2018-05-16 11:00:00]<br>SELL 0.32375471 BTC @ 8358.5 USD MARKET<br>Total: 2706.1 USD - Comm.: 0.00097419 BTC\", \"opacity\": 0.6, \"showarrow\": true, \"x\": 29, \"xref\": \"x\", \"y\": 8358.5, \"yref\": \"y\"}, {\"arrowcolor\": \"FireBrick\", \"arrowhead\": 2, \"arrowsize\": 0.8, \"arrowwidth\": 4, \"ax\": 0, \"ay\": -15, \"hoverlabel\": {\"bgcolor\": \"FireBrick\"}, \"hovertext\": \"Step 29 [2018-05-16 10:00:00]<br>SELL 1.64205656 BTC @ 8357.2 USD MARKET<br>Total: 13723.0 USD - Comm.: 0.00494099 BTC\", \"opacity\": 0.6, \"showarrow\": true, \"x\": 28, \"xref\": \"x\", \"y\": 8357.2, \"yref\": \"y\"}, {\"arrowcolor\": \"DarkGreen\", \"arrowhead\": 2, \"arrowsize\": 0.8, \"arrowwidth\": 4, \"ax\": 0, \"ay\": 15, \"hoverlabel\": {\"bgcolor\": \"DarkGreen\"}, \"hovertext\": \"Step 29 [2018-05-16 10:00:00]<br>BUY 3.16848346 BTC @ 8357.2 USD MARKET<br>Total: 26479.65 USD - Comm.: 79.68 USD\", \"opacity\": 0.6, \"showarrow\": true, \"x\": 28, \"xref\": \"x\", \"y\": 8357.2, \"yref\": \"y\"}, {\"arrowcolor\": \"FireBrick\", \"arrowhead\": 2, \"arrowsize\": 0.8, \"arrowwidth\": 4, \"ax\": 0, \"ay\": -15, \"hoverlabel\": {\"bgcolor\": \"FireBrick\"}, \"hovertext\": \"Step 29 [2018-05-16 10:00:00]<br>SELL 0.5076878 BTC @ 8357.2 USD MARKET<br>Total: 4242.85 USD - Comm.: 0.00152765 BTC\", \"opacity\": 0.6, \"showarrow\": true, \"x\": 28, \"xref\": \"x\", \"y\": 8357.2, \"yref\": \"y\"}, {\"arrowcolor\": \"DarkGreen\", \"arrowhead\": 2, \"arrowsize\": 0.8, \"arrowwidth\": 4, \"ax\": 0, \"ay\": 15, \"hoverlabel\": {\"bgcolor\": \"DarkGreen\"}, \"hovertext\": \"Step 28 [2018-05-16 09:00:00]<br>BUY 0.0402293 BTC @ 8225.1 USD MARKET<br>Total: 330.89 USD - Comm.: 1.00 USD\", \"opacity\": 0.6, \"showarrow\": true, \"x\": 27, \"xref\": \"x\", \"y\": 8225.1, \"yref\": \"y\"}, {\"arrowcolor\": \"DarkGreen\", \"arrowhead\": 2, \"arrowsize\": 0.8, \"arrowwidth\": 4, \"ax\": 0, \"ay\": 15, \"hoverlabel\": {\"bgcolor\": \"DarkGreen\"}, \"hovertext\": \"Step 27 [2018-05-16 08:00:00]<br>BUY 0.08076322 BTC @ 8194.2 USD MARKET<br>Total: 661.79 USD - Comm.: 1.99 USD\", \"opacity\": 0.6, \"showarrow\": true, \"x\": 26, \"xref\": \"x\", \"y\": 8194.2, \"yref\": \"y\"}, {\"arrowcolor\": \"FireBrick\", \"arrowhead\": 2, \"arrowsize\": 0.8, \"arrowwidth\": 4, \"ax\": 0, \"ay\": -15, \"hoverlabel\": {\"bgcolor\": \"FireBrick\"}, \"hovertext\": \"Step 26 [2018-05-16 07:00:00]<br>SELL 3.28411312 BTC @ 8221.1 USD MARKET<br>Total: 26999.02 USD - Comm.: 0.00988199 BTC\", \"opacity\": 0.6, \"showarrow\": true, \"x\": 25, \"xref\": \"x\", \"y\": 8221.1, \"yref\": \"y\"}, {\"arrowcolor\": \"FireBrick\", \"arrowhead\": 2, \"arrowsize\": 0.8, \"arrowwidth\": 4, \"ax\": 0, \"ay\": -15, \"hoverlabel\": {\"bgcolor\": \"FireBrick\"}, \"hovertext\": \"Step 25 [2018-05-16 06:00:00]<br>SELL 1.64205656 BTC @ 8223.9 USD MARKET<br>Total: 13504.11 USD - Comm.: 0.00494099 BTC\", \"opacity\": 0.6, \"showarrow\": true, \"x\": 24, \"xref\": \"x\", \"y\": 8223.9, \"yref\": \"y\"}, {\"arrowcolor\": \"DarkGreen\", \"arrowhead\": 2, \"arrowsize\": 0.8, \"arrowwidth\": 4, \"ax\": 0, \"ay\": 15, \"hoverlabel\": {\"bgcolor\": \"DarkGreen\"}, \"hovertext\": \"Step 24 [2018-05-16 05:00:00]<br>BUY 0.16145992 BTC @ 8197.7 USD MARKET<br>Total: 1323.6 USD - Comm.: 3.98 USD\", \"opacity\": 0.6, \"showarrow\": true, \"x\": 23, \"xref\": \"x\", \"y\": 8197.7, \"yref\": \"y\"}, {\"arrowcolor\": \"FireBrick\", \"arrowhead\": 2, \"arrowsize\": 0.8, \"arrowwidth\": 4, \"ax\": 0, \"ay\": -15, \"hoverlabel\": {\"bgcolor\": \"FireBrick\"}, \"hovertext\": \"Step 23 [2018-05-16 04:00:00]<br>SELL 2.0525707 BTC @ 8205.3 USD MARKET<br>Total: 16841.96 USD - Comm.: 0.00617624 BTC\", \"opacity\": 0.6, \"showarrow\": true, \"x\": 22, \"xref\": \"x\", \"y\": 8205.3, \"yref\": \"y\"}, {\"arrowcolor\": \"DarkGreen\", \"arrowhead\": 2, \"arrowsize\": 0.8, \"arrowwidth\": 4, \"ax\": 0, \"ay\": 15, \"hoverlabel\": {\"bgcolor\": \"DarkGreen\"}, \"hovertext\": \"Step 22 [2018-05-16 03:00:00]<br>BUY 0.3247289 BTC @ 8152.0 USD MARKET<br>Total: 2647.19 USD - Comm.: 7.97 USD\", \"opacity\": 0.6, \"showarrow\": true, \"x\": 21, \"xref\": \"x\", \"y\": 8152.0, \"yref\": \"y\"}, {\"arrowcolor\": \"DarkGreen\", \"arrowhead\": 2, \"arrowsize\": 0.8, \"arrowwidth\": 4, \"ax\": 0, \"ay\": 15, \"hoverlabel\": {\"bgcolor\": \"DarkGreen\"}, \"hovertext\": \"Step 22 [2018-05-16 03:00:00]<br>BUY 0.92308881 BTC @ 8152.0 USD MARKET<br>Total: 7525.02 USD - Comm.: 22.64 USD\", \"opacity\": 0.6, \"showarrow\": true, \"x\": 21, \"xref\": \"x\", \"y\": 8152.0, \"yref\": \"y\"}, {\"arrowcolor\": \"DarkGreen\", \"arrowhead\": 2, \"arrowsize\": 0.8, \"arrowwidth\": 4, \"ax\": 0, \"ay\": 15, \"hoverlabel\": {\"bgcolor\": \"DarkGreen\"}, \"hovertext\": \"Step 21 [2018-05-16 02:00:00]<br>BUY 0.50921545 BTC @ 8124.4 USD MARKET<br>Total: 4137.07 USD - Comm.: 12.45 USD\", \"opacity\": 0.6, \"showarrow\": true, \"x\": 20, \"xref\": \"x\", \"y\": 8124.4, \"yref\": \"y\"}, {\"arrowcolor\": \"FireBrick\", \"arrowhead\": 2, \"arrowsize\": 0.8, \"arrowwidth\": 4, \"ax\": 0, \"ay\": -15, \"hoverlabel\": {\"bgcolor\": \"FireBrick\"}, \"hovertext\": \"Step 21 [2018-05-16 02:00:00]<br>SELL 0.14287556 BTC @ 8124.4 USD MARKET<br>Total: 1160.78 USD - Comm.: 0.00042992 BTC\", \"opacity\": 0.6, \"showarrow\": true, \"x\": 20, \"xref\": \"x\", \"y\": 8124.4, \"yref\": \"y\"}, {\"arrowcolor\": \"DarkGreen\", \"arrowhead\": 2, \"arrowsize\": 0.8, \"arrowwidth\": 4, \"ax\": 0, \"ay\": 15, \"hoverlabel\": {\"bgcolor\": \"DarkGreen\"}, \"hovertext\": \"Step 21 [2018-05-16 02:00:00]<br>BUY 0.13020777 BTC @ 8124.4 USD MARKET<br>Total: 1057.86 USD - Comm.: 3.18 USD\", \"opacity\": 0.6, \"showarrow\": true, \"x\": 20, \"xref\": \"x\", \"y\": 8124.4, \"yref\": \"y\"}, {\"arrowcolor\": \"DarkGreen\", \"arrowhead\": 2, \"arrowsize\": 0.8, \"arrowwidth\": 4, \"ax\": 0, \"ay\": 15, \"hoverlabel\": {\"bgcolor\": \"DarkGreen\"}, \"hovertext\": \"Step 21 [2018-05-16 02:00:00]<br>BUY 0.40490867 BTC @ 8124.4 USD MARKET<br>Total: 3289.64 USD - Comm.: 9.90 USD\", \"opacity\": 0.6, \"showarrow\": true, \"x\": 20, \"xref\": \"x\", \"y\": 8124.4, \"yref\": \"y\"}, {\"arrowcolor\": \"DarkGreen\", \"arrowhead\": 2, \"arrowsize\": 0.8, \"arrowwidth\": 4, \"ax\": 0, \"ay\": 15, \"hoverlabel\": {\"bgcolor\": \"DarkGreen\"}, \"hovertext\": \"Step 21 [2018-05-16 02:00:00]<br>BUY 2.56159839 BTC @ 8124.4 USD MARKET<br>Total: 20811.45 USD - Comm.: 62.62 USD\", \"opacity\": 0.6, \"showarrow\": true, \"x\": 20, \"xref\": \"x\", \"y\": 8124.4, \"yref\": \"y\"}, {\"arrowcolor\": \"FireBrick\", \"arrowhead\": 2, \"arrowsize\": 0.8, \"arrowwidth\": 4, \"ax\": 0, \"ay\": -15, \"hoverlabel\": {\"bgcolor\": \"FireBrick\"}, \"hovertext\": \"Step 20 [2018-05-16 01:00:00]<br>SELL 0.0121939 BTC @ 8327.9 USD MARKET<br>Total: 101.55 USD - Comm.: 0.00003669 BTC\", \"opacity\": 0.6, \"showarrow\": true, \"x\": 19, \"xref\": \"x\", \"y\": 8327.9, \"yref\": \"y\"}, {\"arrowcolor\": \"FireBrick\", \"arrowhead\": 2, \"arrowsize\": 0.8, \"arrowwidth\": 4, \"ax\": 0, \"ay\": -15, \"hoverlabel\": {\"bgcolor\": \"FireBrick\"}, \"hovertext\": \"Step 20 [2018-05-16 01:00:00]<br>SELL 0.28385204 BTC @ 8327.9 USD MARKET<br>Total: 2363.89 USD - Comm.: 0.00085412 BTC\", \"opacity\": 0.6, \"showarrow\": true, \"x\": 19, \"xref\": \"x\", \"y\": 8327.9, \"yref\": \"y\"}, {\"arrowcolor\": \"FireBrick\", \"arrowhead\": 2, \"arrowsize\": 0.8, \"arrowwidth\": 4, \"ax\": 0, \"ay\": -15, \"hoverlabel\": {\"bgcolor\": \"FireBrick\"}, \"hovertext\": \"Step 20 [2018-05-16 01:00:00]<br>SELL 0.56666843 BTC @ 8327.9 USD MARKET<br>Total: 4719.16 USD - Comm.: 0.00170512 BTC\", \"opacity\": 0.6, \"showarrow\": true, \"x\": 19, \"xref\": \"x\", \"y\": 8327.9, \"yref\": \"y\"}, {\"arrowcolor\": \"DarkGreen\", \"arrowhead\": 2, \"arrowsize\": 0.8, \"arrowwidth\": 4, \"ax\": 0, \"ay\": 15, \"hoverlabel\": {\"bgcolor\": \"DarkGreen\"}, \"hovertext\": \"Step 20 [2018-05-16 01:00:00]<br>BUY 0.5409539 BTC @ 8327.9 USD MARKET<br>Total: 4505.01 USD - Comm.: 13.56 USD\", \"opacity\": 0.6, \"showarrow\": true, \"x\": 19, \"xref\": \"x\", \"y\": 8327.9, \"yref\": \"y\"}, {\"arrowcolor\": \"DarkGreen\", \"arrowhead\": 2, \"arrowsize\": 0.8, \"arrowwidth\": 4, \"ax\": 0, \"ay\": 15, \"hoverlabel\": {\"bgcolor\": \"DarkGreen\"}, \"hovertext\": \"Step 20 [2018-05-16 01:00:00]<br>BUY 1.50983561 BTC @ 8327.9 USD MARKET<br>Total: 12573.76 USD - Comm.: 37.83 USD\", \"opacity\": 0.6, \"showarrow\": true, \"x\": 19, \"xref\": \"x\", \"y\": 8327.9, \"yref\": \"y\"}, {\"arrowcolor\": \"DarkGreen\", \"arrowhead\": 2, \"arrowsize\": 0.8, \"arrowwidth\": 4, \"ax\": 0, \"ay\": 15, \"hoverlabel\": {\"bgcolor\": \"DarkGreen\"}, \"hovertext\": \"Step 20 [2018-05-16 01:00:00]<br>BUY 4.17421919 BTC @ 8327.9 USD MARKET<br>Total: 34762.48 USD - Comm.: 104.60 USD\", \"opacity\": 0.6, \"showarrow\": true, \"x\": 19, \"xref\": \"x\", \"y\": 8327.9, \"yref\": \"y\"}, {\"arrowcolor\": \"FireBrick\", \"arrowhead\": 2, \"arrowsize\": 0.8, \"arrowwidth\": 4, \"ax\": 0, \"ay\": -15, \"hoverlabel\": {\"bgcolor\": \"FireBrick\"}, \"hovertext\": \"Step 19 [2018-05-16 00:00:00]<br>SELL 0.01524238 BTC @ 8454.2 USD MARKET<br>Total: 128.86 USD - Comm.: 0.00004586 BTC\", \"opacity\": 0.6, \"showarrow\": true, \"x\": 18, \"xref\": \"x\", \"y\": 8454.2, \"yref\": \"y\"}, {\"arrowcolor\": \"FireBrick\", \"arrowhead\": 2, \"arrowsize\": 0.8, \"arrowwidth\": 4, \"ax\": 0, \"ay\": -15, \"hoverlabel\": {\"bgcolor\": \"FireBrick\"}, \"hovertext\": \"Step 18 [2018-05-15 23:00:00]<br>SELL 0.01905297 BTC @ 8467.5 USD MARKET<br>Total: 161.33 USD - Comm.: 0.00005733 BTC\", \"opacity\": 0.6, \"showarrow\": true, \"x\": 17, \"xref\": \"x\", \"y\": 8467.5, \"yref\": \"y\"}, {\"arrowcolor\": \"DarkGreen\", \"arrowhead\": 2, \"arrowsize\": 0.8, \"arrowwidth\": 4, \"ax\": 0, \"ay\": 15, \"hoverlabel\": {\"bgcolor\": \"DarkGreen\"}, \"hovertext\": \"Step 17 [2018-05-15 22:00:00]<br>BUY 0.14330548 BTC @ 8459.9 USD MARKET<br>Total: 1212.35 USD - Comm.: 3.65 USD\", \"opacity\": 0.6, \"showarrow\": true, \"x\": 16, \"xref\": \"x\", \"y\": 8459.9, \"yref\": \"y\"}, {\"arrowcolor\": \"FireBrick\", \"arrowhead\": 2, \"arrowsize\": 0.8, \"arrowwidth\": 4, \"ax\": 0, \"ay\": -15, \"hoverlabel\": {\"bgcolor\": \"FireBrick\"}, \"hovertext\": \"Step 16 [2018-05-15 21:00:00]<br>SELL 0.02381621 BTC @ 8476.0 USD MARKET<br>Total: 201.87 USD - Comm.: 0.00007166 BTC\", \"opacity\": 0.6, \"showarrow\": true, \"x\": 15, \"xref\": \"x\", \"y\": 8476.0, \"yref\": \"y\"}, {\"arrowcolor\": \"FireBrick\", \"arrowhead\": 2, \"arrowsize\": 0.8, \"arrowwidth\": 4, \"ax\": 0, \"ay\": -15, \"hoverlabel\": {\"bgcolor\": \"FireBrick\"}, \"hovertext\": \"Step 15 [2018-05-15 20:00:00]<br>SELL 0.02977026 BTC @ 8516.7 USD MARKET<br>Total: 253.54 USD - Comm.: 0.00008958 BTC\", \"opacity\": 0.6, \"showarrow\": true, \"x\": 14, \"xref\": \"x\", \"y\": 8516.7, \"yref\": \"y\"}, {\"arrowcolor\": \"FireBrick\", \"arrowhead\": 2, \"arrowsize\": 0.8, \"arrowwidth\": 4, \"ax\": 0, \"ay\": -15, \"hoverlabel\": {\"bgcolor\": \"FireBrick\"}, \"hovertext\": \"Step 14 [2018-05-15 19:00:00]<br>SELL 0.03721283 BTC @ 8551.2 USD MARKET<br>Total: 318.21 USD - Comm.: 0.00011197 BTC\", \"opacity\": 0.6, \"showarrow\": true, \"x\": 13, \"xref\": \"x\", \"y\": 8551.2, \"yref\": \"y\"}, {\"arrowcolor\": \"DarkGreen\", \"arrowhead\": 2, \"arrowsize\": 0.8, \"arrowwidth\": 4, \"ax\": 0, \"ay\": 15, \"hoverlabel\": {\"bgcolor\": \"DarkGreen\"}, \"hovertext\": \"Step 13 [2018-05-15 18:00:00]<br>BUY 0.28470616 BTC @ 8516.5 USD MARKET<br>Total: 2424.7 USD - Comm.: 7.30 USD\", \"opacity\": 0.6, \"showarrow\": true, \"x\": 12, \"xref\": \"x\", \"y\": 8516.5, \"yref\": \"y\"}, {\"arrowcolor\": \"FireBrick\", \"arrowhead\": 2, \"arrowsize\": 0.8, \"arrowwidth\": 4, \"ax\": 0, \"ay\": -15, \"hoverlabel\": {\"bgcolor\": \"FireBrick\"}, \"hovertext\": \"Step 12 [2018-05-15 17:00:00]<br>SELL 0.12404275 BTC @ 8553.8 USD MARKET<br>Total: 1061.04 USD - Comm.: 0.00037325 BTC\", \"opacity\": 0.6, \"showarrow\": true, \"x\": 11, \"xref\": \"x\", \"y\": 8553.8, \"yref\": \"y\"}, {\"arrowcolor\": \"DarkGreen\", \"arrowhead\": 2, \"arrowsize\": 0.8, \"arrowwidth\": 4, \"ax\": 0, \"ay\": 15, \"hoverlabel\": {\"bgcolor\": \"DarkGreen\"}, \"hovertext\": \"Step 11 [2018-05-15 16:00:00]<br>BUY 0.56837355 BTC @ 8532.1 USD MARKET<br>Total: 4849.42 USD - Comm.: 14.59 USD\", \"opacity\": 0.6, \"showarrow\": true, \"x\": 10, \"xref\": \"x\", \"y\": 8532.1, \"yref\": \"y\"}, {\"arrowcolor\": \"FireBrick\", \"arrowhead\": 2, \"arrowsize\": 0.8, \"arrowwidth\": 4, \"ax\": 0, \"ay\": -15, \"hoverlabel\": {\"bgcolor\": \"FireBrick\"}, \"hovertext\": \"Step 10 [2018-05-15 15:00:00]<br>SELL 0.07752672 BTC @ 8520.8 USD MARKET<br>Total: 660.59 USD - Comm.: 0.00023328 BTC\", \"opacity\": 0.6, \"showarrow\": true, \"x\": 9, \"xref\": \"x\", \"y\": 8520.8, \"yref\": \"y\"}, {\"arrowcolor\": \"FireBrick\", \"arrowhead\": 2, \"arrowsize\": 0.8, \"arrowwidth\": 4, \"ax\": 0, \"ay\": -15, \"hoverlabel\": {\"bgcolor\": \"FireBrick\"}, \"hovertext\": \"Step 9 [2018-05-15 14:00:00]<br>SELL 0.3876336 BTC @ 8512.0 USD MARKET<br>Total: 3299.54 USD - Comm.: 0.00116640 BTC\", \"opacity\": 0.6, \"showarrow\": true, \"x\": 8, \"xref\": \"x\", \"y\": 8512.0, \"yref\": \"y\"}, {\"arrowcolor\": \"FireBrick\", \"arrowhead\": 2, \"arrowsize\": 0.8, \"arrowwidth\": 4, \"ax\": 0, \"ay\": -15, \"hoverlabel\": {\"bgcolor\": \"FireBrick\"}, \"hovertext\": \"Step 9 [2018-05-15 14:00:00]<br>SELL 0.14191695 BTC @ 8512.0 USD MARKET<br>Total: 1208.0 USD - Comm.: 0.00042703 BTC\", \"opacity\": 0.6, \"showarrow\": true, \"x\": 8, \"xref\": \"x\", \"y\": 8512.0, \"yref\": \"y\"}, {\"arrowcolor\": \"FireBrick\", \"arrowhead\": 2, \"arrowsize\": 0.8, \"arrowwidth\": 4, \"ax\": 0, \"ay\": -15, \"hoverlabel\": {\"bgcolor\": \"FireBrick\"}, \"hovertext\": \"Step 9 [2018-05-15 14:00:00]<br>SELL 0.28536908 BTC @ 8512.0 USD MARKET<br>Total: 2429.06 USD - Comm.: 0.00085868 BTC\", \"opacity\": 0.6, \"showarrow\": true, \"x\": 8, \"xref\": \"x\", \"y\": 8512.0, \"yref\": \"y\"}, {\"arrowcolor\": \"FireBrick\", \"arrowhead\": 2, \"arrowsize\": 0.8, \"arrowwidth\": 4, \"ax\": 0, \"ay\": -15, \"hoverlabel\": {\"bgcolor\": \"FireBrick\"}, \"hovertext\": \"Step 9 [2018-05-15 14:00:00]<br>SELL 0.56872011 BTC @ 8512.0 USD MARKET<br>Total: 4840.95 USD - Comm.: 0.00171129 BTC\", \"opacity\": 0.6, \"showarrow\": true, \"x\": 8, \"xref\": \"x\", \"y\": 8512.0, \"yref\": \"y\"}, {\"arrowcolor\": \"FireBrick\", \"arrowhead\": 2, \"arrowsize\": 0.8, \"arrowwidth\": 4, \"ax\": 0, \"ay\": -15, \"hoverlabel\": {\"bgcolor\": \"FireBrick\"}, \"hovertext\": \"Step 8 [2018-05-15 13:00:00]<br>SELL 0.5168448 BTC @ 8742.6 USD MARKET<br>Total: 4518.57 USD - Comm.: 0.00155520 BTC\", \"opacity\": 0.6, \"showarrow\": true, \"x\": 7, \"xref\": \"x\", \"y\": 8742.6, \"yref\": \"y\"}, {\"arrowcolor\": \"FireBrick\", \"arrowhead\": 2, \"arrowsize\": 0.8, \"arrowwidth\": 4, \"ax\": 0, \"ay\": -15, \"hoverlabel\": {\"bgcolor\": \"FireBrick\"}, \"hovertext\": \"Step 7 [2018-05-15 12:00:00]<br>SELL 0.861408 BTC @ 8762.0 USD MARKET<br>Total: 7547.66 USD - Comm.: 0.00259200 BTC\", \"opacity\": 0.6, \"showarrow\": true, \"x\": 6, \"xref\": \"x\", \"y\": 8762.0, \"yref\": \"y\"}, {\"arrowcolor\": \"DarkGreen\", \"arrowhead\": 2, \"arrowsize\": 0.8, \"arrowwidth\": 4, \"ax\": 0, \"ay\": 15, \"hoverlabel\": {\"bgcolor\": \"DarkGreen\"}, \"hovertext\": \"Step 6 [2018-05-15 11:00:00]<br>BUY 0.14234398 BTC @ 8755.2 USD MARKET<br>Total: 1246.25 USD - Comm.: 3.75 USD\", \"opacity\": 0.6, \"showarrow\": true, \"x\": 5, \"xref\": \"x\", \"y\": 8755.2, \"yref\": \"y\"}, {\"arrowcolor\": \"FireBrick\", \"arrowhead\": 2, \"arrowsize\": 0.8, \"arrowwidth\": 4, \"ax\": 0, \"ay\": -15, \"hoverlabel\": {\"bgcolor\": \"FireBrick\"}, \"hovertext\": \"Step 5 [2018-05-15 10:00:00]<br>SELL 1.43568 BTC @ 8784.4 USD MARKET<br>Total: 12611.59 USD - Comm.: 0.00432000 BTC\", \"opacity\": 0.6, \"showarrow\": true, \"x\": 4, \"xref\": \"x\", \"y\": 8784.4, \"yref\": \"y\"}, {\"arrowcolor\": \"DarkGreen\", \"arrowhead\": 2, \"arrowsize\": 0.8, \"arrowwidth\": 4, \"ax\": 0, \"ay\": 15, \"hoverlabel\": {\"bgcolor\": \"DarkGreen\"}, \"hovertext\": \"Step 4 [2018-05-15 09:00:00]<br>BUY 0.28622776 BTC @ 8708.1 USD MARKET<br>Total: 2492.5 USD - Comm.: 7.50 USD\", \"opacity\": 0.6, \"showarrow\": true, \"x\": 3, \"xref\": \"x\", \"y\": 8708.1, \"yref\": \"y\"}, {\"arrowcolor\": \"FireBrick\", \"arrowhead\": 2, \"arrowsize\": 0.8, \"arrowwidth\": 4, \"ax\": 0, \"ay\": -15, \"hoverlabel\": {\"bgcolor\": \"FireBrick\"}, \"hovertext\": \"Step 3 [2018-05-15 08:00:00]<br>SELL 2.3928 BTC @ 8723.7 USD MARKET<br>Total: 20874.07 USD - Comm.: 0.00720000 BTC\", \"opacity\": 0.6, \"showarrow\": true, \"x\": 2, \"xref\": \"x\", \"y\": 8723.7, \"yref\": \"y\"}, {\"arrowcolor\": \"FireBrick\", \"arrowhead\": 2, \"arrowsize\": 0.8, \"arrowwidth\": 4, \"ax\": 0, \"ay\": -15, \"hoverlabel\": {\"bgcolor\": \"FireBrick\"}, \"hovertext\": \"Step 2 [2018-05-15 07:00:00]<br>SELL 3.988 BTC @ 8743.0 USD MARKET<br>Total: 34867.08 USD - Comm.: 0.01200000 BTC\", \"opacity\": 0.6, \"showarrow\": true, \"x\": 1, \"xref\": \"x\", \"y\": 8743.0, \"yref\": \"y\"}, {\"arrowcolor\": \"DarkGreen\", \"arrowhead\": 2, \"arrowsize\": 0.8, \"arrowwidth\": 4, \"ax\": 0, \"ay\": 15, \"hoverlabel\": {\"bgcolor\": \"DarkGreen\"}, \"hovertext\": \"Step 1 [2018-05-15 06:00:00]<br>BUY 0.5704314 BTC @ 8739.0 USD MARKET<br>Total: 4985.0 USD - Comm.: 15.00 USD\", \"opacity\": 0.6, \"showarrow\": true, \"x\": 0, \"xref\": \"x\", \"y\": 8739.0, \"yref\": \"y\"}, {\"arrowcolor\": \"DarkGreen\", \"arrowhead\": 2, \"arrowsize\": 0.8, \"arrowwidth\": 4, \"ax\": 0, \"ay\": 15, \"hoverlabel\": {\"bgcolor\": \"DarkGreen\"}, \"hovertext\": \"Step 90 [2018-05-18 23:00:00]<br>BUY 0.01502628 BTC @ 8238.9 USD MARKET<br>Total: 123.8 USD - Comm.: 0.37 USD\", \"opacity\": 0.6, \"showarrow\": true, \"x\": 89, \"xref\": \"x\", \"y\": 8238.9, \"yref\": \"y\"}, {\"arrowcolor\": \"FireBrick\", \"arrowhead\": 2, \"arrowsize\": 0.8, \"arrowwidth\": 4, \"ax\": 0, \"ay\": -15, \"hoverlabel\": {\"bgcolor\": \"FireBrick\"}, \"hovertext\": \"Step 86 [2018-05-18 19:00:00]<br>SELL 0.01606648 BTC @ 8224.9 USD MARKET<br>Total: 132.15 USD - Comm.: 0.00004834 BTC\", \"opacity\": 0.6, \"showarrow\": true, \"x\": 85, \"xref\": \"x\", \"y\": 8224.9, \"yref\": \"y\"}, {\"arrowcolor\": \"FireBrick\", \"arrowhead\": 2, \"arrowsize\": 0.8, \"arrowwidth\": 4, \"ax\": 0, \"ay\": -15, \"hoverlabel\": {\"bgcolor\": \"FireBrick\"}, \"hovertext\": \"Step 86 [2018-05-18 19:00:00]<br>SELL 0.08390907 BTC @ 8224.9 USD MARKET<br>Total: 690.14 USD - Comm.: 0.00025248 BTC\", \"opacity\": 0.6, \"showarrow\": true, \"x\": 85, \"xref\": \"x\", \"y\": 8224.9, \"yref\": \"y\"}, {\"arrowcolor\": \"FireBrick\", \"arrowhead\": 2, \"arrowsize\": 0.8, \"arrowwidth\": 4, \"ax\": 0, \"ay\": -15, \"hoverlabel\": {\"bgcolor\": \"FireBrick\"}, \"hovertext\": \"Step 85 [2018-05-18 18:00:00]<br>SELL 0.00626188 BTC @ 8209.1 USD MARKET<br>Total: 51.4 USD - Comm.: 0.00001884 BTC\", \"opacity\": 0.6, \"showarrow\": true, \"x\": 84, \"xref\": \"x\", \"y\": 8209.1, \"yref\": \"y\"}, {\"arrowcolor\": \"FireBrick\", \"arrowhead\": 2, \"arrowsize\": 0.8, \"arrowwidth\": 4, \"ax\": 0, \"ay\": -15, \"hoverlabel\": {\"bgcolor\": \"FireBrick\"}, \"hovertext\": \"Step 85 [2018-05-18 18:00:00]<br>SELL 0.04194981 BTC @ 8209.1 USD MARKET<br>Total: 344.37 USD - Comm.: 0.00012623 BTC\", \"opacity\": 0.6, \"showarrow\": true, \"x\": 84, \"xref\": \"x\", \"y\": 8209.1, \"yref\": \"y\"}, {\"arrowcolor\": \"FireBrick\", \"arrowhead\": 2, \"arrowsize\": 0.8, \"arrowwidth\": 4, \"ax\": 0, \"ay\": -15, \"hoverlabel\": {\"bgcolor\": \"FireBrick\"}, \"hovertext\": \"Step 85 [2018-05-18 18:00:00]<br>SELL 0.1681125 BTC @ 8209.1 USD MARKET<br>Total: 1380.05 USD - Comm.: 0.00050586 BTC\", \"opacity\": 0.6, \"showarrow\": true, \"x\": 84, \"xref\": \"x\", \"y\": 8209.1, \"yref\": \"y\"}, {\"arrowcolor\": \"FireBrick\", \"arrowhead\": 2, \"arrowsize\": 0.8, \"arrowwidth\": 4, \"ax\": 0, \"ay\": -15, \"hoverlabel\": {\"bgcolor\": \"FireBrick\"}, \"hovertext\": \"Step 83 [2018-05-18 16:00:00]<br>SELL 0.01004155 BTC @ 8130.0 USD MARKET<br>Total: 81.64 USD - Comm.: 0.00003022 BTC\", \"opacity\": 0.6, \"showarrow\": true, \"x\": 82, \"xref\": \"x\", \"y\": 8130.0, \"yref\": \"y\"}, {\"arrowcolor\": \"FireBrick\", \"arrowhead\": 2, \"arrowsize\": 0.8, \"arrowwidth\": 4, \"ax\": 0, \"ay\": -15, \"hoverlabel\": {\"bgcolor\": \"FireBrick\"}, \"hovertext\": \"Step 82 [2018-05-18 15:00:00]<br>SELL 0.01255194 BTC @ 8105.0 USD MARKET<br>Total: 101.73 USD - Comm.: 0.00003777 BTC\", \"opacity\": 0.6, \"showarrow\": true, \"x\": 81, \"xref\": \"x\", \"y\": 8105.0, \"yref\": \"y\"}, {\"arrowcolor\": \"FireBrick\", \"arrowhead\": 2, \"arrowsize\": 0.8, \"arrowwidth\": 4, \"ax\": 0, \"ay\": -15, \"hoverlabel\": {\"bgcolor\": \"FireBrick\"}, \"hovertext\": \"Step 81 [2018-05-18 14:00:00]<br>SELL 0.01568993 BTC @ 8074.9 USD MARKET<br>Total: 126.69 USD - Comm.: 0.00004721 BTC\", \"opacity\": 0.6, \"showarrow\": true, \"x\": 80, \"xref\": \"x\", \"y\": 8074.9, \"yref\": \"y\"}, {\"arrowcolor\": \"FireBrick\", \"arrowhead\": 2, \"arrowsize\": 0.8, \"arrowwidth\": 4, \"ax\": 0, \"ay\": -15, \"hoverlabel\": {\"bgcolor\": \"FireBrick\"}, \"hovertext\": \"Step 80 [2018-05-18 13:00:00]<br>SELL 0.01961241 BTC @ 8095.7 USD MARKET<br>Total: 158.78 USD - Comm.: 0.00005901 BTC\", \"opacity\": 0.6, \"showarrow\": true, \"x\": 79, \"xref\": \"x\", \"y\": 8095.7, \"yref\": \"y\"}, {\"arrowcolor\": \"FireBrick\", \"arrowhead\": 2, \"arrowsize\": 0.8, \"arrowwidth\": 4, \"ax\": 0, \"ay\": -15, \"hoverlabel\": {\"bgcolor\": \"FireBrick\"}, \"hovertext\": \"Step 79 [2018-05-18 12:00:00]<br>SELL 0.02451551 BTC @ 8105.5 USD MARKET<br>Total: 198.71 USD - Comm.: 0.00007377 BTC\", \"opacity\": 0.6, \"showarrow\": true, \"x\": 78, \"xref\": \"x\", \"y\": 8105.5, \"yref\": \"y\"}, {\"arrowcolor\": \"DarkGreen\", \"arrowhead\": 2, \"arrowsize\": 0.8, \"arrowwidth\": 4, \"ax\": 0, \"ay\": 15, \"hoverlabel\": {\"bgcolor\": \"DarkGreen\"}, \"hovertext\": \"Step 78 [2018-05-18 11:00:00]<br>BUY 0.07360859 BTC @ 8101.5 USD MARKET<br>Total: 596.34 USD - Comm.: 1.79 USD\", \"opacity\": 0.6, \"showarrow\": true, \"x\": 77, \"xref\": \"x\", \"y\": 8101.5, \"yref\": \"y\"}, {\"arrowcolor\": \"FireBrick\", \"arrowhead\": 2, \"arrowsize\": 0.8, \"arrowwidth\": 4, \"ax\": 0, \"ay\": -15, \"hoverlabel\": {\"bgcolor\": \"FireBrick\"}, \"hovertext\": \"Step 77 [2018-05-18 10:00:00]<br>SELL 0.03064439 BTC @ 8130.0 USD MARKET<br>Total: 249.14 USD - Comm.: 0.00009221 BTC\", \"opacity\": 0.6, \"showarrow\": true, \"x\": 76, \"xref\": \"x\", \"y\": 8130.0, \"yref\": \"y\"}, {\"arrowcolor\": \"DarkGreen\", \"arrowhead\": 2, \"arrowsize\": 0.8, \"arrowwidth\": 4, \"ax\": 0, \"ay\": 15, \"hoverlabel\": {\"bgcolor\": \"DarkGreen\"}, \"hovertext\": \"Step 76 [2018-05-18 09:00:00]<br>BUY 0.14720206 BTC @ 8102.4 USD MARKET<br>Total: 1192.69 USD - Comm.: 3.59 USD\", \"opacity\": 0.6, \"showarrow\": true, \"x\": 75, \"xref\": \"x\", \"y\": 8102.4, \"yref\": \"y\"}, {\"arrowcolor\": \"FireBrick\", \"arrowhead\": 2, \"arrowsize\": 0.8, \"arrowwidth\": 4, \"ax\": 0, \"ay\": -15, \"hoverlabel\": {\"bgcolor\": \"FireBrick\"}, \"hovertext\": \"Step 75 [2018-05-18 08:00:00]<br>SELL 0.03830549 BTC @ 8123.6 USD MARKET<br>Total: 311.18 USD - Comm.: 0.00011526 BTC\", \"opacity\": 0.6, \"showarrow\": true, \"x\": 74, \"xref\": \"x\", \"y\": 8123.6, \"yref\": \"y\"}, {\"arrowcolor\": \"FireBrick\", \"arrowhead\": 2, \"arrowsize\": 0.8, \"arrowwidth\": 4, \"ax\": 0, \"ay\": -15, \"hoverlabel\": {\"bgcolor\": \"FireBrick\"}, \"hovertext\": \"Step 75 [2018-05-18 08:00:00]<br>SELL 0.00315851 BTC @ 8123.6 USD MARKET<br>Total: 25.66 USD - Comm.: 0.00000950 BTC\", \"opacity\": 0.6, \"showarrow\": true, \"x\": 74, \"xref\": \"x\", \"y\": 8123.6, \"yref\": \"y\"}, {\"arrowcolor\": \"FireBrick\", \"arrowhead\": 2, \"arrowsize\": 0.8, \"arrowwidth\": 4, \"ax\": 0, \"ay\": -15, \"hoverlabel\": {\"bgcolor\": \"FireBrick\"}, \"hovertext\": \"Step 75 [2018-05-18 08:00:00]<br>SELL 0.28980152 BTC @ 8123.6 USD MARKET<br>Total: 2354.23 USD - Comm.: 0.00087202 BTC\", \"opacity\": 0.6, \"showarrow\": true, \"x\": 74, \"xref\": \"x\", \"y\": 8123.6, \"yref\": \"y\"}, {\"arrowcolor\": \"DarkGreen\", \"arrowhead\": 2, \"arrowsize\": 0.8, \"arrowwidth\": 4, \"ax\": 0, \"ay\": 15, \"hoverlabel\": {\"bgcolor\": \"DarkGreen\"}, \"hovertext\": \"Step 74 [2018-05-18 07:00:00]<br>BUY 0.00155968 BTC @ 8085.0 USD MARKET<br>Total: 12.61 USD - Comm.: 0.04 USD\", \"opacity\": 0.6, \"showarrow\": true, \"x\": 73, \"xref\": \"x\", \"y\": 8085.0, \"yref\": \"y\"}, {\"arrowcolor\": \"DarkGreen\", \"arrowhead\": 2, \"arrowsize\": 0.8, \"arrowwidth\": 4, \"ax\": 0, \"ay\": 15, \"hoverlabel\": {\"bgcolor\": \"DarkGreen\"}, \"hovertext\": \"Step 73 [2018-05-18 06:00:00]<br>BUY 0.00316801 BTC @ 7964.0 USD MARKET<br>Total: 25.23 USD - Comm.: 0.08 USD\", \"opacity\": 0.6, \"showarrow\": true, \"x\": 72, \"xref\": \"x\", \"y\": 7964.0, \"yref\": \"y\"}, {\"arrowcolor\": \"DarkGreen\", \"arrowhead\": 2, \"arrowsize\": 0.8, \"arrowwidth\": 4, \"ax\": 0, \"ay\": 15, \"hoverlabel\": {\"bgcolor\": \"DarkGreen\"}, \"hovertext\": \"Step 73 [2018-05-18 06:00:00]<br>BUY 0.01271346 BTC @ 7964.0 USD MARKET<br>Total: 101.25 USD - Comm.: 0.30 USD\", \"opacity\": 0.6, \"showarrow\": true, \"x\": 72, \"xref\": \"x\", \"y\": 7964.0, \"yref\": \"y\"}, {\"arrowcolor\": \"DarkGreen\", \"arrowhead\": 2, \"arrowsize\": 0.8, \"arrowwidth\": 4, \"ax\": 0, \"ay\": 15, \"hoverlabel\": {\"bgcolor\": \"DarkGreen\"}, \"hovertext\": \"Step 72 [2018-05-18 05:00:00]<br>BUY 0.00628072 BTC @ 8035.7 USD MARKET<br>Total: 50.47 USD - Comm.: 0.15 USD\", \"opacity\": 0.6, \"showarrow\": true, \"x\": 71, \"xref\": \"x\", \"y\": 8035.7, \"yref\": \"y\"}, {\"arrowcolor\": \"DarkGreen\", \"arrowhead\": 2, \"arrowsize\": 0.8, \"arrowwidth\": 4, \"ax\": 0, \"ay\": 15, \"hoverlabel\": {\"bgcolor\": \"DarkGreen\"}, \"hovertext\": \"Step 71 [2018-05-18 04:00:00]<br>BUY 0.02937999 BTC @ 8016.0 USD MARKET<br>Total: 235.51 USD - Comm.: 0.71 USD\", \"opacity\": 0.6, \"showarrow\": true, \"x\": 70, \"xref\": \"x\", \"y\": 8016.0, \"yref\": \"y\"}, {\"arrowcolor\": \"DarkGreen\", \"arrowhead\": 2, \"arrowsize\": 0.8, \"arrowwidth\": 4, \"ax\": 0, \"ay\": 15, \"hoverlabel\": {\"bgcolor\": \"DarkGreen\"}, \"hovertext\": \"Step 70 [2018-05-18 03:00:00]<br>BUY 0.04207604 BTC @ 7996.0 USD MARKET<br>Total: 336.44 USD - Comm.: 1.01 USD\", \"opacity\": 0.6, \"showarrow\": true, \"x\": 69, \"xref\": \"x\", \"y\": 7996.0, \"yref\": \"y\"}, {\"arrowcolor\": \"DarkGreen\", \"arrowhead\": 2, \"arrowsize\": 0.8, \"arrowwidth\": 4, \"ax\": 0, \"ay\": 15, \"hoverlabel\": {\"bgcolor\": \"DarkGreen\"}, \"hovertext\": \"Step 69 [2018-05-18 02:00:00]<br>BUY 0.08416155 BTC @ 7995.1 USD MARKET<br>Total: 672.88 USD - Comm.: 2.02 USD\", \"opacity\": 0.6, \"showarrow\": true, \"x\": 68, \"xref\": \"x\", \"y\": 7995.1, \"yref\": \"y\"}, {\"arrowcolor\": \"DarkGreen\", \"arrowhead\": 2, \"arrowsize\": 0.8, \"arrowwidth\": 4, \"ax\": 0, \"ay\": 15, \"hoverlabel\": {\"bgcolor\": \"DarkGreen\"}, \"hovertext\": \"Step 68 [2018-05-18 01:00:00]<br>BUY 0.16861836 BTC @ 7981.1 USD MARKET<br>Total: 1345.76 USD - Comm.: 4.05 USD\", \"opacity\": 0.6, \"showarrow\": true, \"x\": 67, \"xref\": \"x\", \"y\": 7981.1, \"yref\": \"y\"}, {\"arrowcolor\": \"DarkGreen\", \"arrowhead\": 2, \"arrowsize\": 0.8, \"arrowwidth\": 4, \"ax\": 0, \"ay\": 15, \"hoverlabel\": {\"bgcolor\": \"DarkGreen\"}, \"hovertext\": \"Step 68 [2018-05-18 01:00:00]<br>BUY 0.01136059 BTC @ 7981.1 USD MARKET<br>Total: 90.67 USD - Comm.: 0.27 USD\", \"opacity\": 0.6, \"showarrow\": true, \"x\": 67, \"xref\": \"x\", \"y\": 7981.1, \"yref\": \"y\"}, {\"arrowcolor\": \"DarkGreen\", \"arrowhead\": 2, \"arrowsize\": 0.8, \"arrowwidth\": 4, \"ax\": 0, \"ay\": 15, \"hoverlabel\": {\"bgcolor\": \"DarkGreen\"}, \"hovertext\": \"Step 68 [2018-05-18 01:00:00]<br>BUY 0.03167233 BTC @ 7981.1 USD MARKET<br>Total: 252.78 USD - Comm.: 0.76 USD\", \"opacity\": 0.6, \"showarrow\": true, \"x\": 67, \"xref\": \"x\", \"y\": 7981.1, \"yref\": \"y\"}, {\"arrowcolor\": \"DarkGreen\", \"arrowhead\": 2, \"arrowsize\": 0.8, \"arrowwidth\": 4, \"ax\": 0, \"ay\": 15, \"hoverlabel\": {\"bgcolor\": \"DarkGreen\"}, \"hovertext\": \"Step 67 [2018-05-18 00:00:00]<br>BUY 0.29067354 BTC @ 7958.0 USD MARKET<br>Total: 2313.18 USD - Comm.: 6.96 USD\", \"opacity\": 0.6, \"showarrow\": true, \"x\": 66, \"xref\": \"x\", \"y\": 7958.0, \"yref\": \"y\"}, {\"arrowcolor\": \"DarkGreen\", \"arrowhead\": 2, \"arrowsize\": 0.8, \"arrowwidth\": 4, \"ax\": 0, \"ay\": 15, \"hoverlabel\": {\"bgcolor\": \"DarkGreen\"}, \"hovertext\": \"Step 67 [2018-05-18 00:00:00]<br>BUY 0.01897839 BTC @ 7958.0 USD MARKET<br>Total: 151.03 USD - Comm.: 0.45 USD\", \"opacity\": 0.6, \"showarrow\": true, \"x\": 66, \"xref\": \"x\", \"y\": 7958.0, \"yref\": \"y\"}, {\"arrowcolor\": \"FireBrick\", \"arrowhead\": 2, \"arrowsize\": 0.8, \"arrowwidth\": 4, \"ax\": 0, \"ay\": -15, \"hoverlabel\": {\"bgcolor\": \"FireBrick\"}, \"hovertext\": \"Step 67 [2018-05-18 00:00:00]<br>SELL 0.04768522 BTC @ 7958.0 USD MARKET<br>Total: 379.48 USD - Comm.: 0.00014349 BTC\", \"opacity\": 0.6, \"showarrow\": true, \"x\": 66, \"xref\": \"x\", \"y\": 7958.0, \"yref\": \"y\"}, {\"arrowcolor\": \"DarkGreen\", \"arrowhead\": 2, \"arrowsize\": 0.8, \"arrowwidth\": 4, \"ax\": 0, \"ay\": 15, \"hoverlabel\": {\"bgcolor\": \"DarkGreen\"}, \"hovertext\": \"Step 67 [2018-05-18 00:00:00]<br>BUY 0.02529027 BTC @ 7958.0 USD MARKET<br>Total: 201.26 USD - Comm.: 0.61 USD\", \"opacity\": 0.6, \"showarrow\": true, \"x\": 66, \"xref\": \"x\", \"y\": 7958.0, \"yref\": \"y\"}, {\"arrowcolor\": \"DarkGreen\", \"arrowhead\": 2, \"arrowsize\": 0.8, \"arrowwidth\": 4, \"ax\": 0, \"ay\": 15, \"hoverlabel\": {\"bgcolor\": \"DarkGreen\"}, \"hovertext\": \"Step 67 [2018-05-18 00:00:00]<br>BUY 0.0398668 BTC @ 7958.0 USD MARKET<br>Total: 317.26 USD - Comm.: 0.95 USD\", \"opacity\": 0.6, \"showarrow\": true, \"x\": 66, \"xref\": \"x\", \"y\": 7958.0, \"yref\": \"y\"}, {\"arrowcolor\": \"DarkGreen\", \"arrowhead\": 2, \"arrowsize\": 0.8, \"arrowwidth\": 4, \"ax\": 0, \"ay\": 15, \"hoverlabel\": {\"bgcolor\": \"DarkGreen\"}, \"hovertext\": \"Step 66 [2018-05-17 23:00:00]<br>BUY 0.13360193 BTC @ 8054.3 USD MARKET<br>Total: 1076.07 USD - Comm.: 3.24 USD\", \"opacity\": 0.6, \"showarrow\": true, \"x\": 65, \"xref\": \"x\", \"y\": 8054.3, \"yref\": \"y\"}, {\"arrowcolor\": \"FireBrick\", \"arrowhead\": 2, \"arrowsize\": 0.8, \"arrowwidth\": 4, \"ax\": 0, \"ay\": -15, \"hoverlabel\": {\"bgcolor\": \"FireBrick\"}, \"hovertext\": \"Step 66 [2018-05-17 23:00:00]<br>SELL 0.04010861 BTC @ 8054.3 USD MARKET<br>Total: 323.05 USD - Comm.: 0.00012069 BTC\", \"opacity\": 0.6, \"showarrow\": true, \"x\": 65, \"xref\": \"x\", \"y\": 8054.3, \"yref\": \"y\"}, {\"arrowcolor\": \"DarkGreen\", \"arrowhead\": 2, \"arrowsize\": 0.8, \"arrowwidth\": 4, \"ax\": 0, \"ay\": 15, \"hoverlabel\": {\"bgcolor\": \"DarkGreen\"}, \"hovertext\": \"Step 66 [2018-05-17 23:00:00]<br>BUY 0.01595049 BTC @ 8054.3 USD MARKET<br>Total: 128.47 USD - Comm.: 0.39 USD\", \"opacity\": 0.6, \"showarrow\": true, \"x\": 65, \"xref\": \"x\", \"y\": 8054.3, \"yref\": \"y\"}, {\"arrowcolor\": \"DarkGreen\", \"arrowhead\": 2, \"arrowsize\": 0.8, \"arrowwidth\": 4, \"ax\": 0, \"ay\": 15, \"hoverlabel\": {\"bgcolor\": \"DarkGreen\"}, \"hovertext\": \"Step 65 [2018-05-17 22:00:00]<br>BUY 0.01993209 BTC @ 8069.9 USD MARKET<br>Total: 160.85 USD - Comm.: 0.48 USD\", \"opacity\": 0.6, \"showarrow\": true, \"x\": 64, \"xref\": \"x\", \"y\": 8069.9, \"yref\": \"y\"}, {\"arrowcolor\": \"DarkGreen\", \"arrowhead\": 2, \"arrowsize\": 0.8, \"arrowwidth\": 4, \"ax\": 0, \"ay\": 15, \"hoverlabel\": {\"bgcolor\": \"DarkGreen\"}, \"hovertext\": \"Step 63 [2018-05-17 20:00:00]<br>BUY 0.43710167 BTC @ 8206.1 USD MARKET<br>Total: 3586.9 USD - Comm.: 10.79 USD\", \"opacity\": 0.6, \"showarrow\": true, \"x\": 62, \"xref\": \"x\", \"y\": 8206.1, \"yref\": \"y\"}], \"margin\": {\"t\": 50}, \"template\": {\"data\": {\"bar\": [{\"error_x\": {\"color\": \"#2a3f5f\"}, \"error_y\": {\"color\": \"#2a3f5f\"}, \"marker\": {\"line\": {\"color\": \"white\", \"width\": 0.5}}, \"type\": \"bar\"}], \"barpolar\": [{\"marker\": {\"line\": {\"color\": \"white\", \"width\": 0.5}}, \"type\": \"barpolar\"}], \"carpet\": [{\"aaxis\": {\"endlinecolor\": \"#2a3f5f\", \"gridcolor\": \"#C8D4E3\", \"linecolor\": \"#C8D4E3\", \"minorgridcolor\": \"#C8D4E3\", \"startlinecolor\": \"#2a3f5f\"}, \"baxis\": {\"endlinecolor\": \"#2a3f5f\", \"gridcolor\": \"#C8D4E3\", \"linecolor\": \"#C8D4E3\", \"minorgridcolor\": \"#C8D4E3\", \"startlinecolor\": \"#2a3f5f\"}, \"type\": \"carpet\"}], \"choropleth\": [{\"colorbar\": {\"outlinewidth\": 0, \"ticks\": \"\"}, \"type\": \"choropleth\"}], \"contour\": [{\"colorbar\": {\"outlinewidth\": 0, \"ticks\": \"\"}, \"colorscale\": [[0.0, \"#0d0887\"], [0.1111111111111111, \"#46039f\"], [0.2222222222222222, \"#7201a8\"], [0.3333333333333333, \"#9c179e\"], [0.4444444444444444, \"#bd3786\"], [0.5555555555555556, \"#d8576b\"], [0.6666666666666666, \"#ed7953\"], [0.7777777777777778, \"#fb9f3a\"], [0.8888888888888888, \"#fdca26\"], [1.0, \"#f0f921\"]], \"type\": \"contour\"}], \"contourcarpet\": [{\"colorbar\": {\"outlinewidth\": 0, \"ticks\": \"\"}, \"type\": \"contourcarpet\"}], \"heatmap\": [{\"colorbar\": {\"outlinewidth\": 0, \"ticks\": \"\"}, \"colorscale\": [[0.0, \"#0d0887\"], [0.1111111111111111, \"#46039f\"], [0.2222222222222222, \"#7201a8\"], [0.3333333333333333, \"#9c179e\"], [0.4444444444444444, \"#bd3786\"], [0.5555555555555556, \"#d8576b\"], [0.6666666666666666, \"#ed7953\"], [0.7777777777777778, \"#fb9f3a\"], [0.8888888888888888, \"#fdca26\"], [1.0, \"#f0f921\"]], \"type\": \"heatmap\"}], \"heatmapgl\": [{\"colorbar\": {\"outlinewidth\": 0, \"ticks\": \"\"}, \"colorscale\": [[0.0, \"#0d0887\"], [0.1111111111111111, \"#46039f\"], [0.2222222222222222, \"#7201a8\"], [0.3333333333333333, \"#9c179e\"], [0.4444444444444444, \"#bd3786\"], [0.5555555555555556, \"#d8576b\"], [0.6666666666666666, \"#ed7953\"], [0.7777777777777778, \"#fb9f3a\"], [0.8888888888888888, \"#fdca26\"], [1.0, \"#f0f921\"]], \"type\": \"heatmapgl\"}], \"histogram\": [{\"marker\": {\"colorbar\": {\"outlinewidth\": 0, \"ticks\": \"\"}}, \"type\": \"histogram\"}], \"histogram2d\": [{\"colorbar\": {\"outlinewidth\": 0, \"ticks\": \"\"}, \"colorscale\": [[0.0, \"#0d0887\"], [0.1111111111111111, \"#46039f\"], [0.2222222222222222, \"#7201a8\"], [0.3333333333333333, \"#9c179e\"], [0.4444444444444444, \"#bd3786\"], [0.5555555555555556, \"#d8576b\"], [0.6666666666666666, \"#ed7953\"], [0.7777777777777778, \"#fb9f3a\"], [0.8888888888888888, \"#fdca26\"], [1.0, \"#f0f921\"]], \"type\": \"histogram2d\"}], \"histogram2dcontour\": [{\"colorbar\": {\"outlinewidth\": 0, \"ticks\": \"\"}, \"colorscale\": [[0.0, \"#0d0887\"], [0.1111111111111111, \"#46039f\"], [0.2222222222222222, \"#7201a8\"], [0.3333333333333333, \"#9c179e\"], [0.4444444444444444, \"#bd3786\"], [0.5555555555555556, \"#d8576b\"], [0.6666666666666666, \"#ed7953\"], [0.7777777777777778, \"#fb9f3a\"], [0.8888888888888888, \"#fdca26\"], [1.0, \"#f0f921\"]], \"type\": \"histogram2dcontour\"}], \"mesh3d\": [{\"colorbar\": {\"outlinewidth\": 0, \"ticks\": \"\"}, \"type\": \"mesh3d\"}], \"parcoords\": [{\"line\": {\"colorbar\": {\"outlinewidth\": 0, \"ticks\": \"\"}}, \"type\": \"parcoords\"}], \"pie\": [{\"automargin\": true, \"type\": \"pie\"}], \"scatter\": [{\"marker\": {\"colorbar\": {\"outlinewidth\": 0, \"ticks\": \"\"}}, \"type\": \"scatter\"}], \"scatter3d\": [{\"line\": {\"colorbar\": {\"outlinewidth\": 0, \"ticks\": \"\"}}, \"marker\": {\"colorbar\": {\"outlinewidth\": 0, \"ticks\": \"\"}}, \"type\": \"scatter3d\"}], \"scattercarpet\": [{\"marker\": {\"colorbar\": {\"outlinewidth\": 0, \"ticks\": \"\"}}, \"type\": \"scattercarpet\"}], \"scattergeo\": [{\"marker\": {\"colorbar\": {\"outlinewidth\": 0, \"ticks\": \"\"}}, \"type\": \"scattergeo\"}], \"scattergl\": [{\"marker\": {\"colorbar\": {\"outlinewidth\": 0, \"ticks\": \"\"}}, \"type\": \"scattergl\"}], \"scattermapbox\": [{\"marker\": {\"colorbar\": {\"outlinewidth\": 0, \"ticks\": \"\"}}, \"type\": \"scattermapbox\"}], \"scatterpolar\": [{\"marker\": {\"colorbar\": {\"outlinewidth\": 0, \"ticks\": \"\"}}, \"type\": \"scatterpolar\"}], \"scatterpolargl\": [{\"marker\": {\"colorbar\": {\"outlinewidth\": 0, \"ticks\": \"\"}}, \"type\": \"scatterpolargl\"}], \"scatterternary\": [{\"marker\": {\"colorbar\": {\"outlinewidth\": 0, \"ticks\": \"\"}}, \"type\": \"scatterternary\"}], \"surface\": [{\"colorbar\": {\"outlinewidth\": 0, \"ticks\": \"\"}, \"colorscale\": [[0.0, \"#0d0887\"], [0.1111111111111111, \"#46039f\"], [0.2222222222222222, \"#7201a8\"], [0.3333333333333333, \"#9c179e\"], [0.4444444444444444, \"#bd3786\"], [0.5555555555555556, \"#d8576b\"], [0.6666666666666666, \"#ed7953\"], [0.7777777777777778, \"#fb9f3a\"], [0.8888888888888888, \"#fdca26\"], [1.0, \"#f0f921\"]], \"type\": \"surface\"}], \"table\": [{\"cells\": {\"fill\": {\"color\": \"#EBF0F8\"}, \"line\": {\"color\": \"white\"}}, \"header\": {\"fill\": {\"color\": \"#C8D4E3\"}, \"line\": {\"color\": \"white\"}}, \"type\": \"table\"}]}, \"layout\": {\"annotationdefaults\": {\"arrowcolor\": \"#2a3f5f\", \"arrowhead\": 0, \"arrowwidth\": 1}, \"autotypenumbers\": \"strict\", \"coloraxis\": {\"colorbar\": {\"outlinewidth\": 0, \"ticks\": \"\"}}, \"colorscale\": {\"diverging\": [[0, \"#8e0152\"], [0.1, \"#c51b7d\"], [0.2, \"#de77ae\"], [0.3, \"#f1b6da\"], [0.4, \"#fde0ef\"], [0.5, \"#f7f7f7\"], [0.6, \"#e6f5d0\"], [0.7, \"#b8e186\"], [0.8, \"#7fbc41\"], [0.9, \"#4d9221\"], [1, \"#276419\"]], \"sequential\": [[0.0, \"#0d0887\"], [0.1111111111111111, \"#46039f\"], [0.2222222222222222, \"#7201a8\"], [0.3333333333333333, \"#9c179e\"], [0.4444444444444444, \"#bd3786\"], [0.5555555555555556, \"#d8576b\"], [0.6666666666666666, \"#ed7953\"], [0.7777777777777778, \"#fb9f3a\"], [0.8888888888888888, \"#fdca26\"], [1.0, \"#f0f921\"]], \"sequentialminus\": [[0.0, \"#0d0887\"], [0.1111111111111111, \"#46039f\"], [0.2222222222222222, \"#7201a8\"], [0.3333333333333333, \"#9c179e\"], [0.4444444444444444, \"#bd3786\"], [0.5555555555555556, \"#d8576b\"], [0.6666666666666666, \"#ed7953\"], [0.7777777777777778, \"#fb9f3a\"], [0.8888888888888888, \"#fdca26\"], [1.0, \"#f0f921\"]]}, \"colorway\": [\"#636efa\", \"#EF553B\", \"#00cc96\", \"#ab63fa\", \"#FFA15A\", \"#19d3f3\", \"#FF6692\", \"#B6E880\", \"#FF97FF\", \"#FECB52\"], \"font\": {\"color\": \"#2a3f5f\"}, \"geo\": {\"bgcolor\": \"white\", \"lakecolor\": \"white\", \"landcolor\": \"white\", \"showlakes\": true, \"showland\": true, \"subunitcolor\": \"#C8D4E3\"}, \"hoverlabel\": {\"align\": \"left\"}, \"hovermode\": \"closest\", \"mapbox\": {\"style\": \"light\"}, \"paper_bgcolor\": \"white\", \"plot_bgcolor\": \"white\", \"polar\": {\"angularaxis\": {\"gridcolor\": \"#EBF0F8\", \"linecolor\": \"#EBF0F8\", \"ticks\": \"\"}, \"bgcolor\": \"white\", \"radialaxis\": {\"gridcolor\": \"#EBF0F8\", \"linecolor\": \"#EBF0F8\", \"ticks\": \"\"}}, \"scene\": {\"xaxis\": {\"backgroundcolor\": \"white\", \"gridcolor\": \"#DFE8F3\", \"gridwidth\": 2, \"linecolor\": \"#EBF0F8\", \"showbackground\": true, \"ticks\": \"\", \"zerolinecolor\": \"#EBF0F8\"}, \"yaxis\": {\"backgroundcolor\": \"white\", \"gridcolor\": \"#DFE8F3\", \"gridwidth\": 2, \"linecolor\": \"#EBF0F8\", \"showbackground\": true, \"ticks\": \"\", \"zerolinecolor\": \"#EBF0F8\"}, \"zaxis\": {\"backgroundcolor\": \"white\", \"gridcolor\": \"#DFE8F3\", \"gridwidth\": 2, \"linecolor\": \"#EBF0F8\", \"showbackground\": true, \"ticks\": \"\", \"zerolinecolor\": \"#EBF0F8\"}}, \"shapedefaults\": {\"line\": {\"color\": \"#2a3f5f\"}}, \"ternary\": {\"aaxis\": {\"gridcolor\": \"#DFE8F3\", \"linecolor\": \"#A2B1C6\", \"ticks\": \"\"}, \"baxis\": {\"gridcolor\": \"#DFE8F3\", \"linecolor\": \"#A2B1C6\", \"ticks\": \"\"}, \"bgcolor\": \"white\", \"caxis\": {\"gridcolor\": \"#DFE8F3\", \"linecolor\": \"#A2B1C6\", \"ticks\": \"\"}}, \"title\": {\"x\": 0.05}, \"xaxis\": {\"automargin\": true, \"gridcolor\": \"#EBF0F8\", \"linecolor\": \"#EBF0F8\", \"ticks\": \"\", \"title\": {\"standoff\": 15}, \"zerolinecolor\": \"#EBF0F8\", \"zerolinewidth\": 2}, \"yaxis\": {\"automargin\": true, \"gridcolor\": \"#EBF0F8\", \"linecolor\": \"#EBF0F8\", \"ticks\": \"\", \"title\": {\"standoff\": 15}, \"zerolinecolor\": \"#EBF0F8\", \"zerolinewidth\": 2}}}, \"title\": {\"text\": \"[2021-02-10 15:36:29 PM] Episode: 200/200 Step: 101/200\"}, \"xaxis\": {\"anchor\": \"y\", \"domain\": [0.0, 1.0], \"gridcolor\": \"Gainsboro\", \"linecolor\": \"Grey\", \"matches\": \"x4\", \"rangeslider\": {\"visible\": false}, \"showticklabels\": false, \"title\": {\"font\": {\"size\": 12}, \"standoff\": 7, \"text\": \"Price\"}}, \"xaxis2\": {\"anchor\": \"y2\", \"domain\": [0.0, 1.0], \"gridcolor\": \"Gainsboro\", \"linecolor\": \"Grey\", \"matches\": \"x4\", \"showticklabels\": false, \"title\": {\"font\": {\"size\": 12}, \"standoff\": 7, \"text\": \"Volume\"}}, \"xaxis3\": {\"anchor\": \"y3\", \"domain\": [0.0, 1.0], \"gridcolor\": \"Gainsboro\", \"linecolor\": \"Grey\", \"matches\": \"x4\", \"showticklabels\": false, \"title\": {\"font\": {\"size\": 12}, \"standoff\": 7, \"text\": \"Performance\"}}, \"xaxis4\": {\"anchor\": \"y4\", \"domain\": [0.0, 1.0], \"gridcolor\": \"Gainsboro\", \"linecolor\": \"Grey\", \"title\": {\"font\": {\"size\": 12}, \"standoff\": 7, \"text\": \"Net Worth\"}}, \"yaxis\": {\"anchor\": \"x\", \"domain\": [0.49950000000000006, 1.0], \"gridcolor\": \"Gainsboro\", \"linecolor\": \"Grey\"}, \"yaxis2\": {\"anchor\": \"x2\", \"domain\": [0.333, 0.46950000000000003], \"gridcolor\": \"Gainsboro\", \"linecolor\": \"Grey\"}, \"yaxis3\": {\"anchor\": \"x3\", \"domain\": [0.1665, 0.30300000000000005], \"gridcolor\": \"Gainsboro\", \"linecolor\": \"Grey\"}, \"yaxis4\": {\"anchor\": \"x4\", \"domain\": [0.0, 0.1365], \"gridcolor\": \"Gainsboro\", \"linecolor\": \"Grey\"}},                        {\"responsive\": true}                    ).then(function(){\n",
       "                            \n",
       "var gd = document.getElementById('9a2d57d4-7f5b-445b-99b3-0d330c8e1752');\n",
       "var x = new MutationObserver(function (mutations, observer) {{\n",
       "        var display = window.getComputedStyle(gd).display;\n",
       "        if (!display || display === 'none') {{\n",
       "            console.log([gd, 'removed!']);\n",
       "            Plotly.purge(gd);\n",
       "            observer.disconnect();\n",
       "        }}\n",
       "}});\n",
       "\n",
       "// Listen for the removal of the full notebook cells\n",
       "var notebookContainer = gd.closest('#notebook-container');\n",
       "if (notebookContainer) {{\n",
       "    x.observe(notebookContainer, {childList: true});\n",
       "}}\n",
       "\n",
       "// Listen for the clearing of the current output cell\n",
       "var outputEl = gd.closest('.output');\n",
       "if (outputEl) {{\n",
       "    x.observe(outputEl, {childList: true});\n",
       "}}\n",
       "\n",
       "                        })                };                });            </script>        </div>"
      ]
     },
     "metadata": {},
     "output_type": "display_data"
    },
    {
     "data": {
      "application/vnd.jupyter.widget-view+json": {
       "model_id": "8064246932534587a59ed6f71a603ecb",
       "version_major": 2,
       "version_minor": 0
      },
      "text/plain": [
       "FigureWidget({\n",
       "    'data': [{'close': array([8739.  , 8743.  , 8723.7 , 8708.1 , 8784.4 , 8755.2 , 8762.  , 87…"
      ]
     },
     "metadata": {},
     "output_type": "display_data"
    },
    {
     "data": {
      "application/vnd.plotly.v1+json": {
       "config": {
        "plotlyServerURL": "https://plot.ly"
       },
       "data": [
        {
         "close": [
          8739,
          8743,
          8723.7,
          8708.1,
          8784.4,
          8755.2,
          8762,
          8742.6,
          8512,
          8520.8,
          8532.1,
          8553.8,
          8516.5,
          8551.2,
          8516.7,
          8476,
          8459.9,
          8467.5,
          8454.2,
          8327.9,
          8124.4,
          8152,
          8205.3,
          8197.7,
          8223.9,
          8221.1,
          8194.2,
          8225.1,
          8357.2,
          8358.5,
          8348.6,
          8158.1,
          8205.9,
          8276,
          8255.2,
          8286.4,
          8266.2,
          8227.4,
          8290,
          8271.9,
          8278.1,
          8336.1,
          8346.07,
          8368.7,
          8373.5,
          8355,
          8319.5,
          8352.2,
          8337.8,
          8246.7,
          8270.1,
          8279.4,
          8296.4,
          8302,
          8274.8,
          8288.8,
          8311.8,
          8300.9,
          8271.6,
          8250,
          8163.4,
          8170,
          8206.1,
          8147.08,
          8069.9,
          8054.3,
          7958,
          7981.1,
          7995.1,
          7996,
          8016,
          8035.7,
          7964,
          8085,
          8123.6,
          8102.4,
          8130,
          8101.5,
          8105.5,
          8095.7,
          8074.9,
          8105,
          8130,
          8103.3,
          8209.1,
          8224.9,
          8224.2,
          8226.9,
          8214,
          8238.9,
          8215,
          8192.9,
          8200,
          8237.5,
          8226.4,
          8236.2,
          8216.7,
          8171.4,
          8210,
          8188.9,
          8238.5,
          8382,
          8345.2,
          8300.6,
          8302.7,
          8307.9,
          8289.8,
          8296.4,
          8289.8,
          8304,
          8254,
          8195.1,
          8215.5,
          8231,
          8190.6,
          8218.3,
          8281.2,
          8252,
          8257,
          8247.6,
          8247.9,
          8257.6,
          8276.5,
          8342.7,
          8343,
          8342.7,
          8305.9,
          8319.8,
          8342,
          8373.2,
          8484.6,
          8517.8,
          8519.5,
          8513.1,
          8551.5,
          8524.1,
          8492.2,
          8523.6,
          8489.7,
          8460,
          8500.3,
          8496.7,
          8523.2,
          8509.42,
          8555,
          8528.1,
          8513.1,
          8475.6,
          8468.4,
          8483.6,
          8495.8
         ],
         "high": [
          8793,
          8754.8,
          8743.1,
          8737.8,
          8855.7,
          8804.9,
          8789.1,
          8798.1,
          8742.7,
          8544,
          8580,
          8578.4,
          8553.8,
          8560.5,
          8558,
          8540.9,
          8552,
          8498.4,
          8492.7,
          8462.1,
          8328.7,
          8217,
          8236.87,
          8221.3,
          8270.8,
          8241.4,
          8241.9,
          8258.5,
          8420,
          8426.3,
          8380,
          8372.8,
          8212,
          8370.2,
          8318.5,
          8349.3,
          8328,
          8375,
          8290.8,
          8314,
          8366.9,
          8357.3,
          8396.8,
          8376.1,
          8394,
          8482.2,
          8373.5,
          8374.8,
          8364.3,
          8345.7,
          8280.6,
          8315.6,
          8313.2,
          8316,
          8337.4,
          8299.9,
          8363,
          8323.8,
          8320.6,
          8271.6,
          8266.4,
          8192,
          8232,
          8206.5,
          8147.08,
          8093,
          8063,
          8024.9,
          8022.7,
          8023,
          8057,
          8046.2,
          8035.7,
          8161,
          8138.7,
          8130.8,
          8145.8,
          8131.7,
          8128,
          8116,
          8095.8,
          8133,
          8157.6,
          8143.9,
          8224,
          8277.2,
          8250.1,
          8265.5,
          8246.9,
          8247.5,
          8255,
          8225.2,
          8211.6,
          8277.8,
          8270.7,
          8236.92,
          8250,
          8219,
          8210,
          8213,
          8250,
          8430,
          8401,
          8374.3,
          8330.1,
          8315.1,
          8315.2,
          8302.1,
          8315.4,
          8304.1,
          8310,
          8254,
          8234,
          8248.7,
          8231,
          8220,
          8282.04,
          8286.1,
          8265.9,
          8270,
          8291,
          8268.9,
          8298.9,
          8357.5,
          8379,
          8346.5,
          8360.4,
          8337.5,
          8350.4,
          8374.1,
          8535,
          8530.1,
          8549,
          8520.6,
          8597.9,
          8564.8,
          8547.4,
          8525,
          8550,
          8492,
          8519.8,
          8515.9,
          8533.7,
          8526.2,
          8635.5,
          8644,
          8528.3,
          8516,
          8483.8,
          8486.5,
          8503.2
         ],
         "low": [
          8714.9,
          8719.3,
          8653.2,
          8701.2,
          8695.8,
          8734.8,
          8743,
          8633,
          8480.2,
          8472.5,
          8485.7,
          8499,
          8438.1,
          8436.8,
          8479.3,
          8476,
          8415,
          8451,
          8420,
          8282,
          8100,
          8124.4,
          8152,
          8152,
          8156.1,
          8197.33,
          8177.4,
          8194.2,
          8225.1,
          8356.8,
          8342.2,
          8121.7,
          8158.07,
          8205.8,
          8192.6,
          8240.9,
          8266.1,
          8227.01,
          8222,
          8252.2,
          8271.9,
          8274,
          8319.2,
          8311.3,
          8354.9,
          8320.9,
          8316.4,
          8274.2,
          8333.1,
          8190.4,
          8202.5,
          8263,
          8256.7,
          8280,
          8227.8,
          8266.44,
          8287.8,
          8286.9,
          8218.3,
          8228.76,
          8119.4,
          8153,
          8170,
          8144.4,
          7982.5,
          7990.7,
          7925,
          7941.3,
          7944.8,
          7977.03,
          7995.8,
          7990.12,
          7950.8,
          7964,
          8080.3,
          8085.1,
          8093.1,
          8050,
          8079.7,
          8050,
          8036.7,
          8066.2,
          8080,
          8093.8,
          8085.9,
          8200.3,
          8205.5,
          8222.8,
          8200.3,
          8214,
          8211,
          8164.1,
          8178.7,
          8185.86,
          8222.1,
          8216,
          8216.1,
          8140.2,
          8145.2,
          8185.1,
          8188.8,
          8230.2,
          8327.2,
          8283.5,
          8294.5,
          8279,
          8273.6,
          8271,
          8289.8,
          8274.4,
          8254,
          8189.2,
          8172.4,
          8197.2,
          8182.1,
          8171.5,
          8212,
          8240.2,
          8237.7,
          8241,
          8247.6,
          8229.7,
          8255.4,
          8276.5,
          8324.9,
          8316.5,
          8290.3,
          8292.8,
          8319.8,
          8337.5,
          8373.2,
          8470.3,
          8505.8,
          8484,
          8506.6,
          8512,
          8472.9,
          8492.1,
          8465.1,
          8432.1,
          8460,
          8479.9,
          8489.1,
          8500.7,
          8477.57,
          8509.5,
          8480.07,
          8468.4,
          8432.5,
          8440,
          8466.6
         ],
         "name": "Price",
         "open": [
          8723.8,
          8739,
          8743,
          8723.7,
          8708.1,
          8784.4,
          8755.2,
          8762,
          8742.6,
          8512,
          8520.8,
          8532.1,
          8553.8,
          8516.5,
          8551.2,
          8516.7,
          8476,
          8459.9,
          8467.5,
          8454.2,
          8327.9,
          8124.4,
          8152,
          8205.3,
          8197.7,
          8223.9,
          8221.1,
          8194.2,
          8225.1,
          8357.2,
          8358.5,
          8348.6,
          8158.1,
          8205.9,
          8276,
          8255.2,
          8286.4,
          8266.2,
          8227.4,
          8290,
          8271.9,
          8278.1,
          8336.1,
          8346.07,
          8368.7,
          8373.5,
          8355,
          8319.5,
          8352.2,
          8337.8,
          8246.7,
          8270.1,
          8279.4,
          8296.4,
          8302,
          8274.8,
          8288.8,
          8311.8,
          8300.9,
          8271.6,
          8250,
          8163.4,
          8170,
          8206.1,
          8147.08,
          8069.9,
          8054.3,
          7958,
          7981.1,
          7995.1,
          7996,
          8016,
          8035.7,
          7964,
          8085,
          8123.6,
          8102.4,
          8130,
          8101.5,
          8105.5,
          8095.7,
          8074.9,
          8105,
          8130,
          8103.3,
          8209.1,
          8224.9,
          8224.2,
          8226.9,
          8214,
          8238.9,
          8215,
          8192.9,
          8200,
          8237.5,
          8226.4,
          8236.2,
          8216.7,
          8171.4,
          8210,
          8188.9,
          8238.5,
          8382,
          8345.2,
          8300.6,
          8302.7,
          8307.9,
          8289.8,
          8296.4,
          8289.8,
          8304,
          8254,
          8195.1,
          8215.5,
          8231,
          8190.6,
          8218.3,
          8281.2,
          8252,
          8257,
          8247.6,
          8247.9,
          8257.6,
          8276.5,
          8342.7,
          8343,
          8342.7,
          8305.9,
          8319.8,
          8342,
          8373.2,
          8484.6,
          8517.8,
          8519.5,
          8513.1,
          8551.5,
          8524.1,
          8492.2,
          8523.6,
          8489.7,
          8460,
          8500.3,
          8496.7,
          8523.2,
          8509.42,
          8555,
          8528.1,
          8513.1,
          8475.6,
          8468.4,
          8483.6
         ],
         "showlegend": false,
         "type": "candlestick",
         "uid": "be5690eb-1fb1-447f-bbe2-c87085671b48",
         "xaxis": "x",
         "yaxis": "y"
        },
        {
         "marker": {
          "color": "DodgerBlue"
         },
         "name": "Volume",
         "showlegend": false,
         "type": "bar",
         "uid": "5ce9108d-9052-4658-8ea9-4c5a42f7f751",
         "xaxis": "x2",
         "y": [
          8988053.53,
          2288904.12,
          8891773.14,
          2054868.28,
          17309722.58,
          5755257.93,
          4406994.79,
          16375559.14,
          30884779.63,
          13585970.87,
          10472251.96,
          8155202.96,
          23290913.96,
          12093565.11,
          4843869.92,
          3853166.53,
          10032951.79,
          3405881.75,
          4240758.74,
          16395261.35,
          35444924.51,
          8483096.75,
          5883397.96,
          8490665.11,
          12865221.51,
          4455698.32,
          8168354.32,
          5245383.3,
          25717067.45,
          10531322.67,
          5479810.58,
          24269108.57,
          5457501.18,
          15802905.65,
          15226854.34,
          22453283.24,
          2340358.52,
          6197892.42,
          4343002.13,
          4066149.47,
          6783076.23,
          6912962.07,
          7878424.24,
          5713233.04,
          4875954.44,
          18714875.92,
          2581490.9,
          7487354.53,
          2795240.16,
          15044687.38,
          8332633.39,
          3351047.32,
          3576555.25,
          4412616.65,
          10318967.27,
          3219867.82,
          6528544.81,
          2382210.39,
          14537481.76,
          4152516.31,
          14783512.43,
          5582076.74,
          6338329.71,
          4880828.76,
          38371646.78,
          7470965.86,
          13753738,
          7557856.78,
          7570792.35,
          5015084.5,
          9380234.91,
          4996646.68,
          6179627.26,
          23205279.31,
          7010761.88,
          4485979.41,
          5708771.23,
          7389891.81,
          8258179.49,
          6649750.04,
          6531746.84,
          5094499.16,
          8542485.5,
          4862989.56,
          10479980.91,
          22630523.07,
          2287274.86,
          2232387.29,
          1645824.8,
          2765733.43,
          3205020.99,
          3952721.71,
          1140139.1,
          7996865.15,
          2889095.12,
          1665538.5,
          1151743,
          9742621.25,
          2324514.41,
          2334663.76,
          2927809.75,
          10054408.73,
          11994488.53,
          10677166.64,
          2714399.46,
          9219522.04,
          3947596.69,
          2038591.51,
          1794741.6,
          3154886.12,
          2134195.09,
          5748652,
          2924028.64,
          3827287.69,
          6168063.38,
          2415201.32,
          3497915.46,
          2793383.07,
          1063847.44,
          1265013.21,
          2593800.38,
          975383.46,
          3526062.84,
          8391262.5,
          10551816.42,
          2410417.1,
          4167090.12,
          2402958.29,
          3281445.66,
          4790161.14,
          32112292.21,
          8414953.43,
          4331045.83,
          2377630.74,
          9561521.09,
          3326566.88,
          5055280.71,
          1759777.52,
          4813504.98,
          2737503.35,
          3864542.95,
          2585601.42,
          2417391.2,
          2733111,
          10199547.48,
          11618582.86,
          3892092.62,
          2831684.29,
          5544414.73,
          2628818.44,
          3442683.24
         ],
         "yaxis": "y2"
        },
        {
         "mode": "lines",
         "name": "bitfinex:/USD-BTC",
         "type": "scatter",
         "uid": "3e0fa295-9351-4c5a-b276-05cb885bc559",
         "xaxis": "x3",
         "y": [
          8739,
          8743,
          8723.7,
          8708.1,
          8784.4,
          8755.2,
          8762,
          8742.6,
          8512,
          8520.8,
          8532.1,
          8553.8,
          8516.5,
          8551.2,
          8516.7,
          8476,
          8459.9,
          8467.5,
          8454.2,
          8327.9,
          8124.4,
          8152,
          8205.3,
          8197.7,
          8223.9,
          8221.1,
          8194.2,
          8225.1,
          8357.2,
          8358.5,
          8348.6,
          8158.1,
          8205.9,
          8276,
          8255.2,
          8286.4,
          8266.2,
          8227.4,
          8290,
          8271.9,
          8278.1,
          8336.1,
          8346.07,
          8368.7,
          8373.5,
          8355,
          8319.5,
          8352.2,
          8337.8,
          8246.7,
          8270.1,
          8279.4,
          8296.4,
          8302,
          8274.8,
          8288.8,
          8311.8,
          8300.9,
          8271.6,
          8250,
          8163.4,
          8170,
          8206.1,
          8147.08,
          8069.9,
          8054.3,
          7958,
          7981.1,
          7995.1,
          7996,
          8016,
          8035.7,
          7964,
          8085,
          8123.6,
          8102.4,
          8130,
          8101.5,
          8105.5,
          8095.7,
          8074.9,
          8105,
          8130,
          8103.3,
          8209.1,
          8224.9,
          8224.2,
          8226.9,
          8214,
          8238.9,
          8215,
          8192.9,
          8200,
          8237.5,
          8226.4,
          8236.2,
          8216.7,
          8171.4,
          8210,
          8188.9,
          8238.5,
          8382,
          8345.2,
          8300.6,
          8302.7,
          8307.9,
          8289.8,
          8296.4,
          8289.8,
          8304,
          8254,
          8195.1,
          8215.5,
          8231,
          8190.6,
          8218.3,
          8281.2,
          8252,
          8257,
          8247.6,
          8247.9,
          8257.6,
          8276.5,
          8342.7,
          8343,
          8342.7,
          8305.9,
          8319.8,
          8342,
          8373.2,
          8484.6,
          8517.8,
          8519.5,
          8513.1,
          8551.5,
          8524.1,
          8492.2,
          8523.6,
          8489.7,
          8460,
          8500.3,
          8496.7,
          8523.2,
          8509.42,
          8555,
          8528.1,
          8513.1,
          8475.6,
          8468.4,
          8483.6,
          8495.8
         ],
         "yaxis": "y3"
        },
        {
         "mode": "lines",
         "name": "bitfinex:/USD:/free",
         "type": "scatter",
         "uid": "f151d270-20bc-4f9f-bdb2-6c20abb873e6",
         "xaxis": "x3",
         "y": [
          10000,
          5000,
          5000,
          5000,
          2500,
          2500,
          1250,
          1250,
          1250,
          9728.01,
          9728.01,
          4864,
          4864,
          2432,
          2432,
          2432,
          2432,
          1216,
          1216,
          1216,
          8299.05,
          5310.31,
          2655.15,
          2655.15,
          1327.57,
          1327.57,
          1327.57,
          663.79,
          331.9,
          4574.75,
          7953.88,
          7953.88,
          3976.94,
          1988.47,
          1988.47,
          1988.47,
          1988.47,
          1988.47,
          1988.47,
          1590.78,
          1590.78,
          1590.78,
          5630.15,
          5630.15,
          6977.31,
          8994.23,
          8994.23,
          8994.23,
          8994.23,
          8994.23,
          8994.23,
          8994.23,
          8994.23,
          8994.23,
          8994.23,
          8994.23,
          8994.23,
          8994.23,
          8994.23,
          8994.23,
          8994.23,
          8994.23,
          8994.23,
          5396.54,
          5396.54,
          5396.54,
          4640.28,
          2699.62,
          1349.81,
          674.91,
          337.46,
          101.24,
          50.62,
          25.31,
          12.66,
          2392.55,
          1196.27,
          1196.27,
          598.14,
          598.14,
          598.14,
          598.14,
          598.14,
          598.14,
          598.14,
          2373.96,
          3064.1,
          3064.1,
          3064.1,
          3064.1,
          3064.1,
          3064.1,
          3064.1,
          3064.1,
          3064.1,
          3064.1,
          3064.1,
          3064.1,
          3064.1,
          3064.1,
          3064.1,
          3064.1,
          6962.41,
          9298.75,
          9311.66,
          9920.98,
          9920.98,
          9920.98,
          9920.98,
          4960.49,
          4960.49,
          4960.49,
          4960.49,
          4960.49,
          4960.49,
          4960.49,
          4960.49,
          4960.49,
          2480.25,
          1240.13,
          620.06,
          310.03,
          155.02,
          77.51,
          62.01,
          62.01,
          62.01,
          62.01,
          62.01,
          62.01,
          62.01,
          3389.26,
          4740.18,
          9807.58,
          9807.58,
          10127.1,
          10127.1,
          10127.1,
          10127.1,
          10127.1,
          10127.1,
          10127.1,
          10127.1,
          10127.1,
          10127.1,
          10127.1,
          10127.1,
          10127.1,
          6076.26,
          3038.13,
          1519.06
         ],
         "yaxis": "y3"
        },
        {
         "mode": "lines",
         "name": "bitfinex:/USD:/locked",
         "type": "scatter",
         "uid": "44aadd7f-fc29-4cef-a13e-32b972b5c765",
         "xaxis": "x3",
         "y": [
          0,
          0,
          34867.08,
          55741.15,
          55741.15,
          68352.74,
          68352.74,
          75900.4,
          80418.97,
          83718.51,
          84379.1,
          84379.1,
          85440.14,
          85440.14,
          85758.35,
          86011.89,
          86213.76,
          86213.76,
          86375.09,
          86503.95,
          34608.26,
          9373.61,
          1825.95,
          18667.91,
          18667.91,
          32172.02,
          59171.04,
          59171.04,
          59171.04,
          46334.71,
          53197.27,
          56624.49,
          55963.9,
          55963.9,
          57995.67,
          58401,
          59051.98,
          59441.62,
          59557.96,
          59557.96,
          59651.54,
          59651.54,
          59651.54,
          59651.54,
          57793.75,
          57884.69,
          57884.69,
          57884.69,
          57884.69,
          57884.69,
          57884.69,
          57884.69,
          57884.69,
          57884.69,
          57884.69,
          57884.69,
          57884.69,
          57884.69,
          57884.69,
          57884.69,
          57884.69,
          57884.69,
          57884.69,
          57884.69,
          57884.69,
          57723.36,
          57594.5,
          56922.94,
          56578.46,
          56578.46,
          56578.46,
          56578.46,
          56578.46,
          56476.91,
          56476.91,
          56788.09,
          56788.09,
          57037.23,
          57037.23,
          57235.94,
          57394.72,
          57521.41,
          57623.14,
          57704.78,
          57704.78,
          57704.78,
          57836.93,
          57836.93,
          57836.93,
          57836.93,
          57712.76,
          57712.76,
          57712.76,
          57712.76,
          57712.76,
          57712.76,
          57712.76,
          57712.76,
          57712.76,
          57712.76,
          57712.76,
          57712.76,
          56879.01,
          56724.98,
          56645.02,
          56645.02,
          56645.02,
          56645.02,
          56645.02,
          56645.02,
          56645.02,
          56645.02,
          56645.02,
          56645.02,
          56645.02,
          56645.02,
          56645.02,
          56645.02,
          56645.02,
          56645.02,
          56645.02,
          56645.02,
          56645.02,
          56645.02,
          56645.02,
          56645.02,
          56645.02,
          56645.02,
          56645.02,
          56645.02,
          56645.02,
          22591.55,
          9069.67,
          2336.8,
          1958.46,
          1958.46,
          1958.46,
          1958.46,
          1958.46,
          1958.46,
          1958.46,
          1958.46,
          1958.46,
          1958.46,
          1958.46,
          1958.46,
          2122.88,
          2122.88,
          2122.88,
          2122.88,
          2122.88
         ],
         "yaxis": "y3"
        },
        {
         "mode": "lines",
         "name": "bitfinex:/USD:/total",
         "type": "scatter",
         "uid": "18c61f0d-5270-439e-80cd-523e136dd11a",
         "xaxis": "x3",
         "y": [
          10000,
          5000,
          39867.08,
          60741.15,
          58241.15,
          70852.74,
          69602.74,
          77150.4,
          81668.97,
          93446.52,
          94107.11,
          89243.1,
          90304.14,
          87872.14,
          88190.35,
          88443.89,
          88645.76,
          87429.76,
          87591.09,
          87719.95,
          42907.31,
          14683.92,
          4481.1,
          21323.06,
          19995.48,
          33499.59,
          60498.61,
          59834.83,
          59502.94,
          50909.46,
          61151.15,
          64578.37,
          59940.84,
          57952.37,
          59984.14,
          60389.47,
          61040.45,
          61430.09,
          61546.43,
          61148.74,
          61242.32,
          61242.32,
          65281.69,
          65281.69,
          64771.06,
          66878.92,
          66878.92,
          66878.92,
          66878.92,
          66878.92,
          66878.92,
          66878.92,
          66878.92,
          66878.92,
          66878.92,
          66878.92,
          66878.92,
          66878.92,
          66878.92,
          66878.92,
          66878.92,
          66878.92,
          66878.92,
          63281.23,
          63281.23,
          63119.9,
          62234.78,
          59622.56,
          57928.27,
          57253.37,
          56915.92,
          56679.7,
          56629.08,
          56502.22,
          56489.57,
          59180.64,
          57984.36,
          58233.5,
          57635.37,
          57834.08,
          57992.86,
          58119.55,
          58221.28,
          58302.92,
          58302.92,
          60078.74,
          60901.03,
          60901.03,
          60901.03,
          60901.03,
          60776.86,
          60776.86,
          60776.86,
          60776.86,
          60776.86,
          60776.86,
          60776.86,
          60776.86,
          60776.86,
          60776.86,
          60776.86,
          60776.86,
          63841.42,
          66023.73,
          65956.68,
          66566,
          66566,
          66566,
          66566,
          61605.51,
          61605.51,
          61605.51,
          61605.51,
          61605.51,
          61605.51,
          61605.51,
          61605.51,
          61605.51,
          59125.27,
          57885.15,
          57265.08,
          56955.05,
          56800.04,
          56722.53,
          56707.03,
          56707.03,
          56707.03,
          56707.03,
          56707.03,
          56707.03,
          56707.03,
          25980.81,
          13809.85,
          12144.38,
          11766.04,
          12085.56,
          12085.56,
          12085.56,
          12085.56,
          12085.56,
          12085.56,
          12085.56,
          12085.56,
          12085.56,
          12085.56,
          12085.56,
          12249.98,
          12249.98,
          8199.14,
          5161.01,
          3641.94
         ],
         "yaxis": "y3"
        },
        {
         "mode": "lines",
         "name": "bitfinex:/BTC:/free",
         "type": "scatter",
         "uid": "89e35d7a-6159-4e93-9f8a-fcf29279fad7",
         "xaxis": "x3",
         "y": [
          10,
          10,
          6,
          3.6,
          3.6,
          2.16,
          2.16,
          1.296,
          0.7776,
          0.3888,
          0.31104,
          0.31104,
          0.186624,
          0.186624,
          0.1492992,
          0.11943936,
          0.09555149,
          0.09555149,
          0.07644119,
          0.06115295,
          6.27393106,
          9.37064589,
          10.2937347,
          8.23498776,
          8.23498776,
          6.58799021,
          3.2939951,
          3.2939951,
          3.2939951,
          1.64699755,
          0.82349877,
          0.41174938,
          0.49248019,
          0.49248019,
          0.2462401,
          0.19699208,
          0.11819525,
          0.07091715,
          0.05673372,
          0.05673372,
          0.04538698,
          0.04538698,
          0.04538698,
          0.04538698,
          0.02723219,
          0.01633931,
          0.01633931,
          0.01633931,
          0.01633931,
          0.01633931,
          0.01633931,
          0.01633931,
          0.01633931,
          0.01633931,
          0.01633931,
          0.01633931,
          0.01633931,
          0.01633931,
          0.01633931,
          0.01633931,
          0.01633931,
          0.01633931,
          0.01633931,
          0.01633931,
          0.01633931,
          0.0362714,
          0.05222189,
          0.13635735,
          0.17939027,
          0.17939027,
          0.17939027,
          0.17939027,
          0.17939027,
          0.19210373,
          0.19210373,
          0.15368298,
          0.15368298,
          0.12294638,
          0.12294638,
          0.0983571,
          0.07868568,
          0.06294854,
          0.05035883,
          0.04028706,
          0.04028706,
          0.04028706,
          0.02417224,
          0.02417224,
          0.02417224,
          0.02417224,
          0.02417224,
          0.02417224,
          0.02417224,
          0.02417224,
          0.02417224,
          0.02417224,
          0.02417224,
          0.02417224,
          0.02417224,
          0.02417224,
          0.02417224,
          0.02417224,
          0.02417224,
          0.02417224,
          0.02417224,
          0.02417224,
          0.02417224,
          0.02417224,
          0.02417224,
          0.02417224,
          0.02417224,
          0.02417224,
          0.02417224,
          0.02417224,
          0.02417224,
          0.02417224,
          0.02417224,
          0.02417224,
          0.02417224,
          0.02417224,
          0.02417224,
          0.02417224,
          0.02417224,
          0.02417224,
          0.02417224,
          0.02417224,
          0.02417224,
          0.02417224,
          0.02417224,
          0.02417224,
          0.02417224,
          0.02417224,
          0.02417224,
          0.02417224,
          0.02417224,
          0.02417224,
          0.02417224,
          0.02417224,
          0.02417224,
          0.02417224,
          0.02417224,
          0.02417224,
          0.02417224,
          0.02417224,
          0.02417224,
          0.02417224,
          0.00483445,
          0.00483445,
          0.00483445,
          0.00483445,
          0.00483445
         ],
         "yaxis": "y3"
        },
        {
         "mode": "lines",
         "name": "bitfinex:/BTC:/locked",
         "type": "scatter",
         "uid": "9f6eac37-950d-42bd-960c-9739c8f15114",
         "xaxis": "x3",
         "y": [
          0,
          0.5704314,
          0.5704314,
          0.5704314,
          0.85665916,
          0.85665916,
          0.99900314,
          0.99900314,
          0.99900314,
          0,
          0,
          0.56837355,
          0.56837355,
          0.85307971,
          0.85307971,
          0.85307971,
          0.85307971,
          0.99638519,
          0.99638519,
          0.99638519,
          0.14330548,
          0.50921545,
          0.83394435,
          0.83394435,
          0.99540427,
          0.99540427,
          0.99540427,
          1.07616749,
          1.11639679,
          3.7756648,
          3.37017268,
          3.37017268,
          3.85619393,
          4.09778839,
          4.09778839,
          4.09778839,
          4.09778839,
          4.09778839,
          4.09778839,
          4.1456171,
          4.1456171,
          4.1456171,
          3.65959585,
          3.65959585,
          3.73750883,
          3.49591437,
          3.49591437,
          3.49591437,
          3.49591437,
          3.49591437,
          3.49591437,
          3.49591437,
          3.49591437,
          3.49591437,
          3.49591437,
          3.49591437,
          3.49591437,
          3.49591437,
          3.49591437,
          3.49591437,
          3.49591437,
          3.49591437,
          3.49591437,
          3.93301604,
          3.93301604,
          3.93301604,
          4.02638867,
          4.2692335,
          4.43785186,
          4.52201341,
          4.56408945,
          4.59346944,
          4.59975016,
          4.60291817,
          4.60447785,
          4.3106363,
          4.45783836,
          4.45783836,
          4.53144695,
          4.53144695,
          4.53144695,
          4.53144695,
          4.53144695,
          4.53144695,
          4.53144695,
          4.31447183,
          4.23031028,
          4.23031028,
          4.23031028,
          4.23031028,
          4.24533656,
          4.24533656,
          4.24533656,
          4.24533656,
          4.24533656,
          4.24533656,
          4.24533656,
          4.24533656,
          4.24533656,
          4.24533656,
          4.24533656,
          4.24533656,
          3.87802574,
          3.61562395,
          3.6236684,
          3.55005981,
          3.55005981,
          3.55005981,
          3.55005981,
          4.1466496,
          4.1466496,
          4.1466496,
          4.1466496,
          4.1466496,
          4.1466496,
          4.1466496,
          4.1466496,
          4.1466496,
          4.44631029,
          4.5960499,
          4.67100625,
          4.70848246,
          4.72719734,
          4.73653462,
          4.73838654,
          4.73838654,
          4.73838654,
          4.73838654,
          4.73838654,
          4.73838654,
          4.73838654,
          8.34657621,
          9.77022256,
          9.96155108,
          10.00585926,
          9.96838305,
          9.96838305,
          9.96838305,
          9.96838305,
          9.96838305,
          9.96838305,
          9.96838305,
          9.96838305,
          9.96838305,
          9.96838305,
          9.96838305,
          9.96838305,
          9.96838305,
          10.44489091,
          10.80257595,
          10.98109804
         ],
         "yaxis": "y3"
        },
        {
         "mode": "lines",
         "name": "bitfinex:/BTC:/total",
         "type": "scatter",
         "uid": "84533d1b-dfe4-4b7c-9a54-d1bca7484577",
         "xaxis": "x3",
         "y": [
          10,
          10.5704314,
          6.5704314,
          4.1704314,
          4.45665916,
          3.01665916,
          3.15900314,
          2.29500314,
          1.77660314,
          0.3888,
          0.31104,
          0.87941355,
          0.75499755,
          1.03970371,
          1.00237891,
          0.97251907,
          0.9486312,
          1.09193668,
          1.07282638,
          1.05753814,
          6.41723654,
          9.87986134,
          11.12767905,
          9.06893211,
          9.23039203,
          7.58339448,
          4.28939937,
          4.37016259,
          4.41039189,
          5.42266235,
          4.19367145,
          3.78192206,
          4.34867412,
          4.59026858,
          4.34402849,
          4.29478047,
          4.21598364,
          4.16870554,
          4.15452211,
          4.20235082,
          4.19100408,
          4.19100408,
          3.70498283,
          3.70498283,
          3.76474102,
          3.51225368,
          3.51225368,
          3.51225368,
          3.51225368,
          3.51225368,
          3.51225368,
          3.51225368,
          3.51225368,
          3.51225368,
          3.51225368,
          3.51225368,
          3.51225368,
          3.51225368,
          3.51225368,
          3.51225368,
          3.51225368,
          3.51225368,
          3.51225368,
          3.94935535,
          3.94935535,
          3.96928744,
          4.07861056,
          4.40559085,
          4.61724213,
          4.70140368,
          4.74347972,
          4.77285971,
          4.77914043,
          4.7950219,
          4.79658158,
          4.46431928,
          4.61152134,
          4.58078474,
          4.65439333,
          4.62980405,
          4.61013263,
          4.59439549,
          4.58180578,
          4.57173401,
          4.57173401,
          4.35475889,
          4.25448252,
          4.25448252,
          4.25448252,
          4.25448252,
          4.2695088,
          4.2695088,
          4.2695088,
          4.2695088,
          4.2695088,
          4.2695088,
          4.2695088,
          4.2695088,
          4.2695088,
          4.2695088,
          4.2695088,
          4.2695088,
          3.90219798,
          3.63979619,
          3.64784064,
          3.57423205,
          3.57423205,
          3.57423205,
          3.57423205,
          4.17082184,
          4.17082184,
          4.17082184,
          4.17082184,
          4.17082184,
          4.17082184,
          4.17082184,
          4.17082184,
          4.17082184,
          4.47048253,
          4.62022214,
          4.69517849,
          4.7326547,
          4.75136958,
          4.76070686,
          4.76255878,
          4.76255878,
          4.76255878,
          4.76255878,
          4.76255878,
          4.76255878,
          4.76255878,
          8.37074845,
          9.7943948,
          9.98572332,
          10.0300315,
          9.99255529,
          9.99255529,
          9.99255529,
          9.99255529,
          9.99255529,
          9.99255529,
          9.99255529,
          9.99255529,
          9.99255529,
          9.99255529,
          9.99255529,
          9.9732175,
          9.9732175,
          10.44972536,
          10.8074104,
          10.98593249
         ],
         "yaxis": "y3"
        },
        {
         "mode": "lines",
         "name": "bitfinex:/BTC:/worth",
         "type": "scatter",
         "uid": "1c8adcbc-2465-4e55-9c69-d7fc2291196b",
         "xaxis": "x3",
         "y": [
          87390,
          92417.2817302,
          57318.47240418001,
          36316.533674340004,
          39149.076725104,
          26411.454277632005,
          27679.18551268,
          20064.294451764,
          15122.445927679999,
          3312.8870399999996,
          2653.824384,
          7522.32762399,
          6429.936634575,
          8890.714364952,
          8536.960462797,
          8243.071637320001,
          8025.325088879999,
          9245.973837900001,
          9069.888781796,
          8807.071876105998,
          52136.196545576,
          80540.62964368,
          91305.94490896499,
          74344.384758147,
          75909.82101551701,
          62343.844359528004,
          35148.196317654,
          35945.024319009,
          36858.527103108,
          45325.323252475006,
          35011.28546747,
          30853.298357686,
          35684.784961307996,
          37989.06276808,
          35860.82399064801,
          35588.268886608,
          34850.16396496801,
          34297.607959796005,
          34440.9882919,
          34761.425747958005,
          34693.550874648,
          34936.629111288,
          30922.0460479781,
          31005.889809421,
          31524.05893097,
          29344.8794964,
          29220.19449076,
          29335.045186096006,
          29284.468733104,
          28964.502422856003,
          29046.689158968,
          29079.353118192,
          29139.061430752,
          29158.730051360002,
          29063.196751264,
          29112.368302783998,
          29193.150137424,
          29154.866572312,
          29051.957539488,
          28976.09286,
          28671.931691312,
          28695.1125656,
          28821.904923448,
          32175.713984878,
          31870.902738964996,
          31969.831827992002,
          32457.582836480004,
          35161.461132935,
          36915.312553563,
          37592.423825280006,
          38023.73343552,
          38353.268771646995,
          38061.07438452,
          38767.7520615,
          38965.510123288,
          36171.70053427199,
          37491.66849420001,
          37111.22757111,
          37726.185136315005,
          37481.504647584996,
          37226.359973987,
          37237.57544645,
          37250.0809914,
          37046.132203233,
          37529.821661491005,
          35817.456394361,
          34989.715140984,
          35001.202243788,
          34946.31941928,
          35052.256034027996,
          35074.014791999994,
          34979.658647519995,
          35009.97216,
          35170.07874,
          35122.687192319994,
          35164.52837856,
          35081.27295696,
          34887.864208319996,
          35052.667248,
          34962.580612319995,
          35174.34824879999,
          35787.0227616,
          32564.622582696004,
          30212.492254714,
          30286.926481728,
          29694.362448195,
          29629.668848089997,
          29653.25877962,
          29629.668848089997,
          34634.50455936,
          34425.96346736,
          34180.302060984,
          34265.38682652,
          34330.034565040005,
          34161.533362704,
          34277.065127672,
          34539.40982140801,
          34417.621823680005,
          36912.77425021,
          38105.744121864,
          38725.362667671,
          39080.369450720005,
          39324.71032887,
          39717.149120922004,
          39734.02790154,
          39732.599133906006,
          39557.336970801996,
          39623.536537844,
          39729.26534276,
          39877.857176696,
          40408.406224788,
          71300.36114741,
          83443.34649859999,
          85009.461195492,
          85771.81437225,
          85177.540547489,
          84858.77803373801,
          85172.544269844,
          84833.79664551301,
          84537.0177534,
          84939.71773158699,
          84903.74453254302,
          85168.54724772801,
          85030.8498358318,
          85486.31050595001,
          85217.51076864901,
          84902.99789925001,
          84529.00224300001,
          88492.454238624,
          91685.74686944,
          93334.28524854199
         ],
         "yaxis": "y3"
        },
        {
         "mode": "lines",
         "name": "net_worth",
         "type": "scatter",
         "uid": "2dc2075a-de83-4e22-9001-14c4f33b0696",
         "xaxis": "x3",
         "y": [
          97390,
          97417.2817302,
          97185.55240418001,
          97057.68367434,
          97390.226725104,
          97264.194277632,
          97281.92551268,
          97214.694451764,
          96791.41592768,
          96759.40704,
          96760.93438400001,
          96765.42762399,
          96734.076634575,
          96762.854364952,
          96727.310462797,
          96686.96163732,
          96671.08508887999,
          96675.7338379,
          96660.978781796,
          96527.021876106,
          95043.506545576,
          95224.54964368,
          95787.04490896499,
          95667.444758147,
          95905.301015517,
          95843.43435952801,
          95646.806317654,
          95779.854319009,
          96361.467103108,
          96234.783252475,
          96162.43546747,
          95431.668357686,
          95625.624961308,
          95941.43276808,
          95844.96399064802,
          95977.738886608,
          95890.61396496801,
          95727.697959796,
          95987.4182919,
          95910.165747958,
          95935.870874648,
          96178.949111288,
          96203.7360479781,
          96287.579809421,
          96295.11893097,
          96223.7994964,
          96099.11449076,
          96213.965186096,
          96163.388733104,
          95843.422422856,
          95925.609158968,
          95958.273118192,
          96017.981430752,
          96037.65005136,
          95942.116751264,
          95991.288302784,
          96072.070137424,
          96033.786572312,
          95930.87753948799,
          95855.01286,
          95550.851691312,
          95574.0325656,
          95700.824923448,
          95456.943984878,
          95152.132738965,
          95089.731827992,
          94692.36283648,
          94784.021132935,
          94843.582553563,
          94845.79382528001,
          94939.65343552,
          95032.96877164699,
          94690.15438451999,
          95269.97206150001,
          95455.080123288,
          95352.34053427199,
          95476.0284942,
          95344.72757111001,
          95361.555136315,
          95315.584647585,
          95219.219973987,
          95357.12544645,
          95471.3609914,
          95349.052203233,
          95832.741661491,
          95896.196394361,
          95890.745140984,
          95902.23224378799,
          95847.34941928,
          95953.28603402799,
          95850.87479199999,
          95756.51864751999,
          95786.83215999999,
          95946.93874,
          95899.54719232,
          95941.38837855999,
          95858.13295696,
          95664.72420832,
          95829.527248,
          95739.44061232,
          95951.20824879999,
          96563.88276159999,
          96406.042582696,
          96236.222254714,
          96243.606481728,
          96260.362448195,
          96195.66884808999,
          96219.25877962,
          96195.66884808999,
          96240.01455936,
          96031.47346736,
          95785.812060984,
          95870.89682652001,
          95935.54456504,
          95767.043362704,
          95882.575127672,
          96144.91982140801,
          96023.13182368001,
          96038.04425020999,
          95990.894121864,
          95990.442667671,
          96035.41945072002,
          96124.75032887,
          96439.679120922,
          96441.05790154,
          96439.62913390601,
          96264.36697080199,
          96330.56653784399,
          96436.29534276,
          96584.88717669601,
          97115.43622478799,
          97281.17114741,
          97253.1964986,
          97153.841195492,
          97537.85437225,
          97263.100547489,
          96944.33803373801,
          97258.104269844,
          96919.356645513,
          96622.5777534,
          97025.27773158699,
          96989.30453254301,
          97254.10724772801,
          97116.4098358318,
          97571.87050595,
          97303.070768649,
          97152.97789925,
          96778.982243,
          96691.594238624,
          96846.75686944,
          96976.22524854199
         ],
         "yaxis": "y3"
        },
        {
         "marker": {
          "color": "DarkGreen"
         },
         "mode": "lines",
         "name": "Net Worth",
         "type": "scatter",
         "uid": "d9691fd2-f666-4ad6-9d95-37178101d890",
         "xaxis": "x4",
         "y": [
          97390,
          97417.2817302,
          97185.55240418001,
          97057.68367434,
          97390.226725104,
          97264.194277632,
          97281.92551268,
          97214.694451764,
          96791.41592768,
          96759.40704,
          96760.93438400001,
          96765.42762399,
          96734.076634575,
          96762.854364952,
          96727.310462797,
          96686.96163732,
          96671.08508887999,
          96675.7338379,
          96660.978781796,
          96527.021876106,
          95043.506545576,
          95224.54964368,
          95787.04490896499,
          95667.444758147,
          95905.301015517,
          95843.43435952801,
          95646.806317654,
          95779.854319009,
          96361.467103108,
          96234.783252475,
          96162.43546747,
          95431.668357686,
          95625.624961308,
          95941.43276808,
          95844.96399064802,
          95977.738886608,
          95890.61396496801,
          95727.697959796,
          95987.4182919,
          95910.165747958,
          95935.870874648,
          96178.949111288,
          96203.7360479781,
          96287.579809421,
          96295.11893097,
          96223.7994964,
          96099.11449076,
          96213.965186096,
          96163.388733104,
          95843.422422856,
          95925.609158968,
          95958.273118192,
          96017.981430752,
          96037.65005136,
          95942.116751264,
          95991.288302784,
          96072.070137424,
          96033.786572312,
          95930.87753948799,
          95855.01286,
          95550.851691312,
          95574.0325656,
          95700.824923448,
          95456.943984878,
          95152.132738965,
          95089.731827992,
          94692.36283648,
          94784.021132935,
          94843.582553563,
          94845.79382528001,
          94939.65343552,
          95032.96877164699,
          94690.15438451999,
          95269.97206150001,
          95455.080123288,
          95352.34053427199,
          95476.0284942,
          95344.72757111001,
          95361.555136315,
          95315.584647585,
          95219.219973987,
          95357.12544645,
          95471.3609914,
          95349.052203233,
          95832.741661491,
          95896.196394361,
          95890.745140984,
          95902.23224378799,
          95847.34941928,
          95953.28603402799,
          95850.87479199999,
          95756.51864751999,
          95786.83215999999,
          95946.93874,
          95899.54719232,
          95941.38837855999,
          95858.13295696,
          95664.72420832,
          95829.527248,
          95739.44061232,
          95951.20824879999,
          96563.88276159999,
          96406.042582696,
          96236.222254714,
          96243.606481728,
          96260.362448195,
          96195.66884808999,
          96219.25877962,
          96195.66884808999,
          96240.01455936,
          96031.47346736,
          95785.812060984,
          95870.89682652001,
          95935.54456504,
          95767.043362704,
          95882.575127672,
          96144.91982140801,
          96023.13182368001,
          96038.04425020999,
          95990.894121864,
          95990.442667671,
          96035.41945072002,
          96124.75032887,
          96439.679120922,
          96441.05790154,
          96439.62913390601,
          96264.36697080199,
          96330.56653784399,
          96436.29534276,
          96584.88717669601,
          97115.43622478799,
          97281.17114741,
          97253.1964986,
          97153.841195492,
          97537.85437225,
          97263.100547489,
          96944.33803373801,
          97258.104269844,
          96919.356645513,
          96622.5777534,
          97025.27773158699,
          96989.30453254301,
          97254.10724772801,
          97116.4098358318,
          97571.87050595,
          97303.070768649,
          97152.97789925,
          96778.982243,
          96691.594238624,
          96846.75686944,
          96976.22524854199
         ],
         "yaxis": "y4"
        }
       ],
       "layout": {
        "annotations": [
         {
          "arrowcolor": "FireBrick",
          "arrowhead": 2,
          "arrowsize": 0.8,
          "arrowwidth": 4,
          "ax": 0,
          "ay": -15,
          "hoverlabel": {
           "bgcolor": "FireBrick"
          },
          "hovertext": "Step 45 [2018-05-17 02:00:00]<br>SELL 0.0108602 BTC @ 8373.5 USD MARKET<br>Total: 90.94 USD - Comm.: 0.00003268 BTC",
          "opacity": 0.6,
          "showarrow": true,
          "x": 44,
          "xref": "x",
          "y": 8373.5,
          "yref": "y"
         },
         {
          "arrowcolor": "FireBrick",
          "arrowhead": 2,
          "arrowsize": 0.8,
          "arrowwidth": 4,
          "ax": 0,
          "ay": -15,
          "hoverlabel": {
           "bgcolor": "FireBrick"
          },
          "hovertext": "Step 45 [2018-05-17 02:00:00]<br>SELL 0.24086968 BTC @ 8373.5 USD MARKET<br>Total: 2016.92 USD - Comm.: 0.00072478 BTC",
          "opacity": 0.6,
          "showarrow": true,
          "x": 44,
          "xref": "x",
          "y": 8373.5,
          "yref": "y"
         },
         {
          "arrowcolor": "FireBrick",
          "arrowhead": 2,
          "arrowsize": 0.8,
          "arrowwidth": 4,
          "ax": 0,
          "ay": -15,
          "hoverlabel": {
           "bgcolor": "FireBrick"
          },
          "hovertext": "Step 44 [2018-05-17 01:00:00]<br>SELL 0.01810033 BTC @ 8368.7 USD MARKET<br>Total: 151.48 USD - Comm.: 0.00005446 BTC",
          "opacity": 0.6,
          "showarrow": true,
          "x": 43,
          "xref": "x",
          "y": 8368.7,
          "yref": "y"
         },
         {
          "arrowcolor": "DarkGreen",
          "arrowhead": 2,
          "arrowsize": 0.8,
          "arrowwidth": 4,
          "ax": 0,
          "ay": 15,
          "hoverlabel": {
           "bgcolor": "DarkGreen"
          },
          "hovertext": "Step 44 [2018-05-17 01:00:00]<br>BUY 0.2393729 BTC @ 8368.7 USD MARKET<br>Total: 2003.24 USD - Comm.: 6.03 USD",
          "opacity": 0.6,
          "showarrow": true,
          "x": 43,
          "xref": "x",
          "y": 8368.7,
          "yref": "y"
         },
         {
          "arrowcolor": "FireBrick",
          "arrowhead": 2,
          "arrowsize": 0.8,
          "arrowwidth": 4,
          "ax": 0,
          "ay": -15,
          "hoverlabel": {
           "bgcolor": "FireBrick"
          },
          "hovertext": "Step 44 [2018-05-17 01:00:00]<br>SELL 0.16097554 BTC @ 8368.7 USD MARKET<br>Total: 1347.16 USD - Comm.: 0.00048438 BTC",
          "opacity": 0.6,
          "showarrow": true,
          "x": 43,
          "xref": "x",
          "y": 8368.7,
          "yref": "y"
         },
         {
          "arrowcolor": "FireBrick",
          "arrowhead": 2,
          "arrowsize": 0.8,
          "arrowwidth": 4,
          "ax": 0,
          "ay": -15,
          "hoverlabel": {
           "bgcolor": "FireBrick"
          },
          "hovertext": "Step 42 [2018-05-16 23:00:00]<br>SELL 0.48456319 BTC @ 8336.1 USD MARKET<br>Total: 4039.37 USD - Comm.: 0.00145806 BTC",
          "opacity": 0.6,
          "showarrow": true,
          "x": 41,
          "xref": "x",
          "y": 8336.1,
          "yref": "y"
         },
         {
          "arrowcolor": "FireBrick",
          "arrowhead": 2,
          "arrowsize": 0.8,
          "arrowwidth": 4,
          "ax": 0,
          "ay": -15,
          "hoverlabel": {
           "bgcolor": "FireBrick"
          },
          "hovertext": "Step 40 [2018-05-16 21:00:00]<br>SELL 0.0113127 BTC @ 8271.9 USD MARKET<br>Total: 93.58 USD - Comm.: 0.00003404 BTC",
          "opacity": 0.6,
          "showarrow": true,
          "x": 39,
          "xref": "x",
          "y": 8271.9,
          "yref": "y"
         },
         {
          "arrowcolor": "DarkGreen",
          "arrowhead": 2,
          "arrowsize": 0.8,
          "arrowwidth": 4,
          "ax": 0,
          "ay": 15,
          "hoverlabel": {
           "bgcolor": "DarkGreen"
          },
          "hovertext": "Step 39 [2018-05-16 20:00:00]<br>BUY 0.04782871 BTC @ 8290.0 USD MARKET<br>Total: 396.5 USD - Comm.: 1.19 USD",
          "opacity": 0.6,
          "showarrow": true,
          "x": 38,
          "xref": "x",
          "y": 8290,
          "yref": "y"
         },
         {
          "arrowcolor": "FireBrick",
          "arrowhead": 2,
          "arrowsize": 0.8,
          "arrowwidth": 4,
          "ax": 0,
          "ay": -15,
          "hoverlabel": {
           "bgcolor": "FireBrick"
          },
          "hovertext": "Step 38 [2018-05-16 19:00:00]<br>SELL 0.01414088 BTC @ 8227.4 USD MARKET<br>Total: 116.34 USD - Comm.: 0.00004255 BTC",
          "opacity": 0.6,
          "showarrow": true,
          "x": 37,
          "xref": "x",
          "y": 8227.4,
          "yref": "y"
         },
         {
          "arrowcolor": "FireBrick",
          "arrowhead": 2,
          "arrowsize": 0.8,
          "arrowwidth": 4,
          "ax": 0,
          "ay": -15,
          "hoverlabel": {
           "bgcolor": "FireBrick"
          },
          "hovertext": "Step 37 [2018-05-16 18:00:00]<br>SELL 0.04713627 BTC @ 8266.2 USD MARKET<br>Total: 389.64 USD - Comm.: 0.00014183 BTC",
          "opacity": 0.6,
          "showarrow": true,
          "x": 36,
          "xref": "x",
          "y": 8266.2,
          "yref": "y"
         },
         {
          "arrowcolor": "FireBrick",
          "arrowhead": 2,
          "arrowsize": 0.8,
          "arrowwidth": 4,
          "ax": 0,
          "ay": -15,
          "hoverlabel": {
           "bgcolor": "FireBrick"
          },
          "hovertext": "Step 36 [2018-05-16 17:00:00]<br>SELL 0.07856044 BTC @ 8286.4 USD MARKET<br>Total: 650.98 USD - Comm.: 0.00023639 BTC",
          "opacity": 0.6,
          "showarrow": true,
          "x": 35,
          "xref": "x",
          "y": 8286.4,
          "yref": "y"
         },
         {
          "arrowcolor": "FireBrick",
          "arrowhead": 2,
          "arrowsize": 0.8,
          "arrowwidth": 4,
          "ax": 0,
          "ay": -15,
          "hoverlabel": {
           "bgcolor": "FireBrick"
          },
          "hovertext": "Step 35 [2018-05-16 16:00:00]<br>SELL 0.04910028 BTC @ 8255.2 USD MARKET<br>Total: 405.33 USD - Comm.: 0.00014774 BTC",
          "opacity": 0.6,
          "showarrow": true,
          "x": 34,
          "xref": "x",
          "y": 8255.2,
          "yref": "y"
         },
         {
          "arrowcolor": "FireBrick",
          "arrowhead": 2,
          "arrowsize": 0.8,
          "arrowwidth": 4,
          "ax": 0,
          "ay": -15,
          "hoverlabel": {
           "bgcolor": "FireBrick"
          },
          "hovertext": "Step 34 [2018-05-16 15:00:00]<br>SELL 0.24550137 BTC @ 8276.0 USD MARKET<br>Total: 2031.77 USD - Comm.: 0.00073872 BTC",
          "opacity": 0.6,
          "showarrow": true,
          "x": 33,
          "xref": "x",
          "y": 8276,
          "yref": "y"
         },
         {
          "arrowcolor": "DarkGreen",
          "arrowhead": 2,
          "arrowsize": 0.8,
          "arrowwidth": 4,
          "ax": 0,
          "ay": 15,
          "hoverlabel": {
           "bgcolor": "DarkGreen"
          },
          "hovertext": "Step 33 [2018-05-16 14:00:00]<br>BUY 0.24159446 BTC @ 8205.9 USD MARKET<br>Total: 1982.5 USD - Comm.: 5.97 USD",
          "opacity": 0.6,
          "showarrow": true,
          "x": 32,
          "xref": "x",
          "y": 8205.9,
          "yref": "y"
         },
         {
          "arrowcolor": "DarkGreen",
          "arrowhead": 2,
          "arrowsize": 0.8,
          "arrowwidth": 4,
          "ax": 0,
          "ay": 15,
          "hoverlabel": {
           "bgcolor": "DarkGreen"
          },
          "hovertext": "Step 32 [2018-05-16 13:00:00]<br>BUY 0.48602125 BTC @ 8158.1 USD MARKET<br>Total: 3965.01 USD - Comm.: 11.93 USD",
          "opacity": 0.6,
          "showarrow": true,
          "x": 31,
          "xref": "x",
          "y": 8158.1,
          "yref": "y"
         },
         {
          "arrowcolor": "DarkGreen",
          "arrowhead": 2,
          "arrowsize": 0.8,
          "arrowwidth": 4,
          "ax": 0,
          "ay": 15,
          "hoverlabel": {
           "bgcolor": "DarkGreen"
          },
          "hovertext": "Step 32 [2018-05-16 13:00:00]<br>BUY 0.08073081 BTC @ 8158.1 USD MARKET<br>Total: 658.61 USD - Comm.: 1.98 USD",
          "opacity": 0.6,
          "showarrow": true,
          "x": 31,
          "xref": "x",
          "y": 8158.1,
          "yref": "y"
         },
         {
          "arrowcolor": "FireBrick",
          "arrowhead": 2,
          "arrowsize": 0.8,
          "arrowwidth": 4,
          "ax": 0,
          "ay": -15,
          "hoverlabel": {
           "bgcolor": "FireBrick"
          },
          "hovertext": "Step 31 [2018-05-16 12:00:00]<br>SELL 0.41051414 BTC @ 8348.6 USD MARKET<br>Total: 3427.22 USD - Comm.: 0.00123525 BTC",
          "opacity": 0.6,
          "showarrow": true,
          "x": 30,
          "xref": "x",
          "y": 8348.6,
          "yref": "y"
         },
         {
          "arrowcolor": "FireBrick",
          "arrowhead": 2,
          "arrowsize": 0.8,
          "arrowwidth": 4,
          "ax": 0,
          "ay": -15,
          "hoverlabel": {
           "bgcolor": "FireBrick"
          },
          "hovertext": "Step 30 [2018-05-16 11:00:00]<br>SELL 0.82102828 BTC @ 8358.5 USD MARKET<br>Total: 6862.56 USD - Comm.: 0.00247050 BTC",
          "opacity": 0.6,
          "showarrow": true,
          "x": 29,
          "xref": "x",
          "y": 8358.5,
          "yref": "y"
         },
         {
          "arrowcolor": "FireBrick",
          "arrowhead": 2,
          "arrowsize": 0.8,
          "arrowwidth": 4,
          "ax": 0,
          "ay": -15,
          "hoverlabel": {
           "bgcolor": "FireBrick"
          },
          "hovertext": "Step 30 [2018-05-16 11:00:00]<br>SELL 0.08052093 BTC @ 8358.5 USD MARKET<br>Total: 673.03 USD - Comm.: 0.00024229 BTC",
          "opacity": 0.6,
          "showarrow": true,
          "x": 29,
          "xref": "x",
          "y": 8358.5,
          "yref": "y"
         },
         {
          "arrowcolor": "FireBrick",
          "arrowhead": 2,
          "arrowsize": 0.8,
          "arrowwidth": 4,
          "ax": 0,
          "ay": -15,
          "hoverlabel": {
           "bgcolor": "FireBrick"
          },
          "hovertext": "Step 30 [2018-05-16 11:00:00]<br>SELL 0.32375471 BTC @ 8358.5 USD MARKET<br>Total: 2706.1 USD - Comm.: 0.00097419 BTC",
          "opacity": 0.6,
          "showarrow": true,
          "x": 29,
          "xref": "x",
          "y": 8358.5,
          "yref": "y"
         },
         {
          "arrowcolor": "FireBrick",
          "arrowhead": 2,
          "arrowsize": 0.8,
          "arrowwidth": 4,
          "ax": 0,
          "ay": -15,
          "hoverlabel": {
           "bgcolor": "FireBrick"
          },
          "hovertext": "Step 29 [2018-05-16 10:00:00]<br>SELL 1.64205656 BTC @ 8357.2 USD MARKET<br>Total: 13723.0 USD - Comm.: 0.00494099 BTC",
          "opacity": 0.6,
          "showarrow": true,
          "x": 28,
          "xref": "x",
          "y": 8357.2,
          "yref": "y"
         },
         {
          "arrowcolor": "DarkGreen",
          "arrowhead": 2,
          "arrowsize": 0.8,
          "arrowwidth": 4,
          "ax": 0,
          "ay": 15,
          "hoverlabel": {
           "bgcolor": "DarkGreen"
          },
          "hovertext": "Step 29 [2018-05-16 10:00:00]<br>BUY 3.16848346 BTC @ 8357.2 USD MARKET<br>Total: 26479.65 USD - Comm.: 79.68 USD",
          "opacity": 0.6,
          "showarrow": true,
          "x": 28,
          "xref": "x",
          "y": 8357.2,
          "yref": "y"
         },
         {
          "arrowcolor": "FireBrick",
          "arrowhead": 2,
          "arrowsize": 0.8,
          "arrowwidth": 4,
          "ax": 0,
          "ay": -15,
          "hoverlabel": {
           "bgcolor": "FireBrick"
          },
          "hovertext": "Step 29 [2018-05-16 10:00:00]<br>SELL 0.5076878 BTC @ 8357.2 USD MARKET<br>Total: 4242.85 USD - Comm.: 0.00152765 BTC",
          "opacity": 0.6,
          "showarrow": true,
          "x": 28,
          "xref": "x",
          "y": 8357.2,
          "yref": "y"
         },
         {
          "arrowcolor": "DarkGreen",
          "arrowhead": 2,
          "arrowsize": 0.8,
          "arrowwidth": 4,
          "ax": 0,
          "ay": 15,
          "hoverlabel": {
           "bgcolor": "DarkGreen"
          },
          "hovertext": "Step 28 [2018-05-16 09:00:00]<br>BUY 0.0402293 BTC @ 8225.1 USD MARKET<br>Total: 330.89 USD - Comm.: 1.00 USD",
          "opacity": 0.6,
          "showarrow": true,
          "x": 27,
          "xref": "x",
          "y": 8225.1,
          "yref": "y"
         },
         {
          "arrowcolor": "DarkGreen",
          "arrowhead": 2,
          "arrowsize": 0.8,
          "arrowwidth": 4,
          "ax": 0,
          "ay": 15,
          "hoverlabel": {
           "bgcolor": "DarkGreen"
          },
          "hovertext": "Step 27 [2018-05-16 08:00:00]<br>BUY 0.08076322 BTC @ 8194.2 USD MARKET<br>Total: 661.79 USD - Comm.: 1.99 USD",
          "opacity": 0.6,
          "showarrow": true,
          "x": 26,
          "xref": "x",
          "y": 8194.2,
          "yref": "y"
         },
         {
          "arrowcolor": "FireBrick",
          "arrowhead": 2,
          "arrowsize": 0.8,
          "arrowwidth": 4,
          "ax": 0,
          "ay": -15,
          "hoverlabel": {
           "bgcolor": "FireBrick"
          },
          "hovertext": "Step 26 [2018-05-16 07:00:00]<br>SELL 3.28411312 BTC @ 8221.1 USD MARKET<br>Total: 26999.02 USD - Comm.: 0.00988199 BTC",
          "opacity": 0.6,
          "showarrow": true,
          "x": 25,
          "xref": "x",
          "y": 8221.1,
          "yref": "y"
         },
         {
          "arrowcolor": "FireBrick",
          "arrowhead": 2,
          "arrowsize": 0.8,
          "arrowwidth": 4,
          "ax": 0,
          "ay": -15,
          "hoverlabel": {
           "bgcolor": "FireBrick"
          },
          "hovertext": "Step 25 [2018-05-16 06:00:00]<br>SELL 1.64205656 BTC @ 8223.9 USD MARKET<br>Total: 13504.11 USD - Comm.: 0.00494099 BTC",
          "opacity": 0.6,
          "showarrow": true,
          "x": 24,
          "xref": "x",
          "y": 8223.9,
          "yref": "y"
         },
         {
          "arrowcolor": "DarkGreen",
          "arrowhead": 2,
          "arrowsize": 0.8,
          "arrowwidth": 4,
          "ax": 0,
          "ay": 15,
          "hoverlabel": {
           "bgcolor": "DarkGreen"
          },
          "hovertext": "Step 24 [2018-05-16 05:00:00]<br>BUY 0.16145992 BTC @ 8197.7 USD MARKET<br>Total: 1323.6 USD - Comm.: 3.98 USD",
          "opacity": 0.6,
          "showarrow": true,
          "x": 23,
          "xref": "x",
          "y": 8197.7,
          "yref": "y"
         },
         {
          "arrowcolor": "FireBrick",
          "arrowhead": 2,
          "arrowsize": 0.8,
          "arrowwidth": 4,
          "ax": 0,
          "ay": -15,
          "hoverlabel": {
           "bgcolor": "FireBrick"
          },
          "hovertext": "Step 23 [2018-05-16 04:00:00]<br>SELL 2.0525707 BTC @ 8205.3 USD MARKET<br>Total: 16841.96 USD - Comm.: 0.00617624 BTC",
          "opacity": 0.6,
          "showarrow": true,
          "x": 22,
          "xref": "x",
          "y": 8205.3,
          "yref": "y"
         },
         {
          "arrowcolor": "DarkGreen",
          "arrowhead": 2,
          "arrowsize": 0.8,
          "arrowwidth": 4,
          "ax": 0,
          "ay": 15,
          "hoverlabel": {
           "bgcolor": "DarkGreen"
          },
          "hovertext": "Step 22 [2018-05-16 03:00:00]<br>BUY 0.3247289 BTC @ 8152.0 USD MARKET<br>Total: 2647.19 USD - Comm.: 7.97 USD",
          "opacity": 0.6,
          "showarrow": true,
          "x": 21,
          "xref": "x",
          "y": 8152,
          "yref": "y"
         },
         {
          "arrowcolor": "DarkGreen",
          "arrowhead": 2,
          "arrowsize": 0.8,
          "arrowwidth": 4,
          "ax": 0,
          "ay": 15,
          "hoverlabel": {
           "bgcolor": "DarkGreen"
          },
          "hovertext": "Step 22 [2018-05-16 03:00:00]<br>BUY 0.92308881 BTC @ 8152.0 USD MARKET<br>Total: 7525.02 USD - Comm.: 22.64 USD",
          "opacity": 0.6,
          "showarrow": true,
          "x": 21,
          "xref": "x",
          "y": 8152,
          "yref": "y"
         },
         {
          "arrowcolor": "DarkGreen",
          "arrowhead": 2,
          "arrowsize": 0.8,
          "arrowwidth": 4,
          "ax": 0,
          "ay": 15,
          "hoverlabel": {
           "bgcolor": "DarkGreen"
          },
          "hovertext": "Step 21 [2018-05-16 02:00:00]<br>BUY 0.50921545 BTC @ 8124.4 USD MARKET<br>Total: 4137.07 USD - Comm.: 12.45 USD",
          "opacity": 0.6,
          "showarrow": true,
          "x": 20,
          "xref": "x",
          "y": 8124.4,
          "yref": "y"
         },
         {
          "arrowcolor": "FireBrick",
          "arrowhead": 2,
          "arrowsize": 0.8,
          "arrowwidth": 4,
          "ax": 0,
          "ay": -15,
          "hoverlabel": {
           "bgcolor": "FireBrick"
          },
          "hovertext": "Step 21 [2018-05-16 02:00:00]<br>SELL 0.14287556 BTC @ 8124.4 USD MARKET<br>Total: 1160.78 USD - Comm.: 0.00042992 BTC",
          "opacity": 0.6,
          "showarrow": true,
          "x": 20,
          "xref": "x",
          "y": 8124.4,
          "yref": "y"
         },
         {
          "arrowcolor": "DarkGreen",
          "arrowhead": 2,
          "arrowsize": 0.8,
          "arrowwidth": 4,
          "ax": 0,
          "ay": 15,
          "hoverlabel": {
           "bgcolor": "DarkGreen"
          },
          "hovertext": "Step 21 [2018-05-16 02:00:00]<br>BUY 0.13020777 BTC @ 8124.4 USD MARKET<br>Total: 1057.86 USD - Comm.: 3.18 USD",
          "opacity": 0.6,
          "showarrow": true,
          "x": 20,
          "xref": "x",
          "y": 8124.4,
          "yref": "y"
         },
         {
          "arrowcolor": "DarkGreen",
          "arrowhead": 2,
          "arrowsize": 0.8,
          "arrowwidth": 4,
          "ax": 0,
          "ay": 15,
          "hoverlabel": {
           "bgcolor": "DarkGreen"
          },
          "hovertext": "Step 21 [2018-05-16 02:00:00]<br>BUY 0.40490867 BTC @ 8124.4 USD MARKET<br>Total: 3289.64 USD - Comm.: 9.90 USD",
          "opacity": 0.6,
          "showarrow": true,
          "x": 20,
          "xref": "x",
          "y": 8124.4,
          "yref": "y"
         },
         {
          "arrowcolor": "DarkGreen",
          "arrowhead": 2,
          "arrowsize": 0.8,
          "arrowwidth": 4,
          "ax": 0,
          "ay": 15,
          "hoverlabel": {
           "bgcolor": "DarkGreen"
          },
          "hovertext": "Step 21 [2018-05-16 02:00:00]<br>BUY 2.56159839 BTC @ 8124.4 USD MARKET<br>Total: 20811.45 USD - Comm.: 62.62 USD",
          "opacity": 0.6,
          "showarrow": true,
          "x": 20,
          "xref": "x",
          "y": 8124.4,
          "yref": "y"
         },
         {
          "arrowcolor": "FireBrick",
          "arrowhead": 2,
          "arrowsize": 0.8,
          "arrowwidth": 4,
          "ax": 0,
          "ay": -15,
          "hoverlabel": {
           "bgcolor": "FireBrick"
          },
          "hovertext": "Step 20 [2018-05-16 01:00:00]<br>SELL 0.0121939 BTC @ 8327.9 USD MARKET<br>Total: 101.55 USD - Comm.: 0.00003669 BTC",
          "opacity": 0.6,
          "showarrow": true,
          "x": 19,
          "xref": "x",
          "y": 8327.9,
          "yref": "y"
         },
         {
          "arrowcolor": "FireBrick",
          "arrowhead": 2,
          "arrowsize": 0.8,
          "arrowwidth": 4,
          "ax": 0,
          "ay": -15,
          "hoverlabel": {
           "bgcolor": "FireBrick"
          },
          "hovertext": "Step 20 [2018-05-16 01:00:00]<br>SELL 0.28385204 BTC @ 8327.9 USD MARKET<br>Total: 2363.89 USD - Comm.: 0.00085412 BTC",
          "opacity": 0.6,
          "showarrow": true,
          "x": 19,
          "xref": "x",
          "y": 8327.9,
          "yref": "y"
         },
         {
          "arrowcolor": "FireBrick",
          "arrowhead": 2,
          "arrowsize": 0.8,
          "arrowwidth": 4,
          "ax": 0,
          "ay": -15,
          "hoverlabel": {
           "bgcolor": "FireBrick"
          },
          "hovertext": "Step 20 [2018-05-16 01:00:00]<br>SELL 0.56666843 BTC @ 8327.9 USD MARKET<br>Total: 4719.16 USD - Comm.: 0.00170512 BTC",
          "opacity": 0.6,
          "showarrow": true,
          "x": 19,
          "xref": "x",
          "y": 8327.9,
          "yref": "y"
         },
         {
          "arrowcolor": "DarkGreen",
          "arrowhead": 2,
          "arrowsize": 0.8,
          "arrowwidth": 4,
          "ax": 0,
          "ay": 15,
          "hoverlabel": {
           "bgcolor": "DarkGreen"
          },
          "hovertext": "Step 20 [2018-05-16 01:00:00]<br>BUY 0.5409539 BTC @ 8327.9 USD MARKET<br>Total: 4505.01 USD - Comm.: 13.56 USD",
          "opacity": 0.6,
          "showarrow": true,
          "x": 19,
          "xref": "x",
          "y": 8327.9,
          "yref": "y"
         },
         {
          "arrowcolor": "DarkGreen",
          "arrowhead": 2,
          "arrowsize": 0.8,
          "arrowwidth": 4,
          "ax": 0,
          "ay": 15,
          "hoverlabel": {
           "bgcolor": "DarkGreen"
          },
          "hovertext": "Step 20 [2018-05-16 01:00:00]<br>BUY 1.50983561 BTC @ 8327.9 USD MARKET<br>Total: 12573.76 USD - Comm.: 37.83 USD",
          "opacity": 0.6,
          "showarrow": true,
          "x": 19,
          "xref": "x",
          "y": 8327.9,
          "yref": "y"
         },
         {
          "arrowcolor": "DarkGreen",
          "arrowhead": 2,
          "arrowsize": 0.8,
          "arrowwidth": 4,
          "ax": 0,
          "ay": 15,
          "hoverlabel": {
           "bgcolor": "DarkGreen"
          },
          "hovertext": "Step 20 [2018-05-16 01:00:00]<br>BUY 4.17421919 BTC @ 8327.9 USD MARKET<br>Total: 34762.48 USD - Comm.: 104.60 USD",
          "opacity": 0.6,
          "showarrow": true,
          "x": 19,
          "xref": "x",
          "y": 8327.9,
          "yref": "y"
         },
         {
          "arrowcolor": "FireBrick",
          "arrowhead": 2,
          "arrowsize": 0.8,
          "arrowwidth": 4,
          "ax": 0,
          "ay": -15,
          "hoverlabel": {
           "bgcolor": "FireBrick"
          },
          "hovertext": "Step 19 [2018-05-16 00:00:00]<br>SELL 0.01524238 BTC @ 8454.2 USD MARKET<br>Total: 128.86 USD - Comm.: 0.00004586 BTC",
          "opacity": 0.6,
          "showarrow": true,
          "x": 18,
          "xref": "x",
          "y": 8454.2,
          "yref": "y"
         },
         {
          "arrowcolor": "FireBrick",
          "arrowhead": 2,
          "arrowsize": 0.8,
          "arrowwidth": 4,
          "ax": 0,
          "ay": -15,
          "hoverlabel": {
           "bgcolor": "FireBrick"
          },
          "hovertext": "Step 18 [2018-05-15 23:00:00]<br>SELL 0.01905297 BTC @ 8467.5 USD MARKET<br>Total: 161.33 USD - Comm.: 0.00005733 BTC",
          "opacity": 0.6,
          "showarrow": true,
          "x": 17,
          "xref": "x",
          "y": 8467.5,
          "yref": "y"
         },
         {
          "arrowcolor": "DarkGreen",
          "arrowhead": 2,
          "arrowsize": 0.8,
          "arrowwidth": 4,
          "ax": 0,
          "ay": 15,
          "hoverlabel": {
           "bgcolor": "DarkGreen"
          },
          "hovertext": "Step 17 [2018-05-15 22:00:00]<br>BUY 0.14330548 BTC @ 8459.9 USD MARKET<br>Total: 1212.35 USD - Comm.: 3.65 USD",
          "opacity": 0.6,
          "showarrow": true,
          "x": 16,
          "xref": "x",
          "y": 8459.9,
          "yref": "y"
         },
         {
          "arrowcolor": "FireBrick",
          "arrowhead": 2,
          "arrowsize": 0.8,
          "arrowwidth": 4,
          "ax": 0,
          "ay": -15,
          "hoverlabel": {
           "bgcolor": "FireBrick"
          },
          "hovertext": "Step 16 [2018-05-15 21:00:00]<br>SELL 0.02381621 BTC @ 8476.0 USD MARKET<br>Total: 201.87 USD - Comm.: 0.00007166 BTC",
          "opacity": 0.6,
          "showarrow": true,
          "x": 15,
          "xref": "x",
          "y": 8476,
          "yref": "y"
         },
         {
          "arrowcolor": "FireBrick",
          "arrowhead": 2,
          "arrowsize": 0.8,
          "arrowwidth": 4,
          "ax": 0,
          "ay": -15,
          "hoverlabel": {
           "bgcolor": "FireBrick"
          },
          "hovertext": "Step 15 [2018-05-15 20:00:00]<br>SELL 0.02977026 BTC @ 8516.7 USD MARKET<br>Total: 253.54 USD - Comm.: 0.00008958 BTC",
          "opacity": 0.6,
          "showarrow": true,
          "x": 14,
          "xref": "x",
          "y": 8516.7,
          "yref": "y"
         },
         {
          "arrowcolor": "FireBrick",
          "arrowhead": 2,
          "arrowsize": 0.8,
          "arrowwidth": 4,
          "ax": 0,
          "ay": -15,
          "hoverlabel": {
           "bgcolor": "FireBrick"
          },
          "hovertext": "Step 14 [2018-05-15 19:00:00]<br>SELL 0.03721283 BTC @ 8551.2 USD MARKET<br>Total: 318.21 USD - Comm.: 0.00011197 BTC",
          "opacity": 0.6,
          "showarrow": true,
          "x": 13,
          "xref": "x",
          "y": 8551.2,
          "yref": "y"
         },
         {
          "arrowcolor": "DarkGreen",
          "arrowhead": 2,
          "arrowsize": 0.8,
          "arrowwidth": 4,
          "ax": 0,
          "ay": 15,
          "hoverlabel": {
           "bgcolor": "DarkGreen"
          },
          "hovertext": "Step 13 [2018-05-15 18:00:00]<br>BUY 0.28470616 BTC @ 8516.5 USD MARKET<br>Total: 2424.7 USD - Comm.: 7.30 USD",
          "opacity": 0.6,
          "showarrow": true,
          "x": 12,
          "xref": "x",
          "y": 8516.5,
          "yref": "y"
         },
         {
          "arrowcolor": "FireBrick",
          "arrowhead": 2,
          "arrowsize": 0.8,
          "arrowwidth": 4,
          "ax": 0,
          "ay": -15,
          "hoverlabel": {
           "bgcolor": "FireBrick"
          },
          "hovertext": "Step 12 [2018-05-15 17:00:00]<br>SELL 0.12404275 BTC @ 8553.8 USD MARKET<br>Total: 1061.04 USD - Comm.: 0.00037325 BTC",
          "opacity": 0.6,
          "showarrow": true,
          "x": 11,
          "xref": "x",
          "y": 8553.8,
          "yref": "y"
         },
         {
          "arrowcolor": "DarkGreen",
          "arrowhead": 2,
          "arrowsize": 0.8,
          "arrowwidth": 4,
          "ax": 0,
          "ay": 15,
          "hoverlabel": {
           "bgcolor": "DarkGreen"
          },
          "hovertext": "Step 11 [2018-05-15 16:00:00]<br>BUY 0.56837355 BTC @ 8532.1 USD MARKET<br>Total: 4849.42 USD - Comm.: 14.59 USD",
          "opacity": 0.6,
          "showarrow": true,
          "x": 10,
          "xref": "x",
          "y": 8532.1,
          "yref": "y"
         },
         {
          "arrowcolor": "FireBrick",
          "arrowhead": 2,
          "arrowsize": 0.8,
          "arrowwidth": 4,
          "ax": 0,
          "ay": -15,
          "hoverlabel": {
           "bgcolor": "FireBrick"
          },
          "hovertext": "Step 10 [2018-05-15 15:00:00]<br>SELL 0.07752672 BTC @ 8520.8 USD MARKET<br>Total: 660.59 USD - Comm.: 0.00023328 BTC",
          "opacity": 0.6,
          "showarrow": true,
          "x": 9,
          "xref": "x",
          "y": 8520.8,
          "yref": "y"
         },
         {
          "arrowcolor": "FireBrick",
          "arrowhead": 2,
          "arrowsize": 0.8,
          "arrowwidth": 4,
          "ax": 0,
          "ay": -15,
          "hoverlabel": {
           "bgcolor": "FireBrick"
          },
          "hovertext": "Step 9 [2018-05-15 14:00:00]<br>SELL 0.3876336 BTC @ 8512.0 USD MARKET<br>Total: 3299.54 USD - Comm.: 0.00116640 BTC",
          "opacity": 0.6,
          "showarrow": true,
          "x": 8,
          "xref": "x",
          "y": 8512,
          "yref": "y"
         },
         {
          "arrowcolor": "FireBrick",
          "arrowhead": 2,
          "arrowsize": 0.8,
          "arrowwidth": 4,
          "ax": 0,
          "ay": -15,
          "hoverlabel": {
           "bgcolor": "FireBrick"
          },
          "hovertext": "Step 9 [2018-05-15 14:00:00]<br>SELL 0.14191695 BTC @ 8512.0 USD MARKET<br>Total: 1208.0 USD - Comm.: 0.00042703 BTC",
          "opacity": 0.6,
          "showarrow": true,
          "x": 8,
          "xref": "x",
          "y": 8512,
          "yref": "y"
         },
         {
          "arrowcolor": "FireBrick",
          "arrowhead": 2,
          "arrowsize": 0.8,
          "arrowwidth": 4,
          "ax": 0,
          "ay": -15,
          "hoverlabel": {
           "bgcolor": "FireBrick"
          },
          "hovertext": "Step 9 [2018-05-15 14:00:00]<br>SELL 0.28536908 BTC @ 8512.0 USD MARKET<br>Total: 2429.06 USD - Comm.: 0.00085868 BTC",
          "opacity": 0.6,
          "showarrow": true,
          "x": 8,
          "xref": "x",
          "y": 8512,
          "yref": "y"
         },
         {
          "arrowcolor": "FireBrick",
          "arrowhead": 2,
          "arrowsize": 0.8,
          "arrowwidth": 4,
          "ax": 0,
          "ay": -15,
          "hoverlabel": {
           "bgcolor": "FireBrick"
          },
          "hovertext": "Step 9 [2018-05-15 14:00:00]<br>SELL 0.56872011 BTC @ 8512.0 USD MARKET<br>Total: 4840.95 USD - Comm.: 0.00171129 BTC",
          "opacity": 0.6,
          "showarrow": true,
          "x": 8,
          "xref": "x",
          "y": 8512,
          "yref": "y"
         },
         {
          "arrowcolor": "FireBrick",
          "arrowhead": 2,
          "arrowsize": 0.8,
          "arrowwidth": 4,
          "ax": 0,
          "ay": -15,
          "hoverlabel": {
           "bgcolor": "FireBrick"
          },
          "hovertext": "Step 8 [2018-05-15 13:00:00]<br>SELL 0.5168448 BTC @ 8742.6 USD MARKET<br>Total: 4518.57 USD - Comm.: 0.00155520 BTC",
          "opacity": 0.6,
          "showarrow": true,
          "x": 7,
          "xref": "x",
          "y": 8742.6,
          "yref": "y"
         },
         {
          "arrowcolor": "FireBrick",
          "arrowhead": 2,
          "arrowsize": 0.8,
          "arrowwidth": 4,
          "ax": 0,
          "ay": -15,
          "hoverlabel": {
           "bgcolor": "FireBrick"
          },
          "hovertext": "Step 7 [2018-05-15 12:00:00]<br>SELL 0.861408 BTC @ 8762.0 USD MARKET<br>Total: 7547.66 USD - Comm.: 0.00259200 BTC",
          "opacity": 0.6,
          "showarrow": true,
          "x": 6,
          "xref": "x",
          "y": 8762,
          "yref": "y"
         },
         {
          "arrowcolor": "DarkGreen",
          "arrowhead": 2,
          "arrowsize": 0.8,
          "arrowwidth": 4,
          "ax": 0,
          "ay": 15,
          "hoverlabel": {
           "bgcolor": "DarkGreen"
          },
          "hovertext": "Step 6 [2018-05-15 11:00:00]<br>BUY 0.14234398 BTC @ 8755.2 USD MARKET<br>Total: 1246.25 USD - Comm.: 3.75 USD",
          "opacity": 0.6,
          "showarrow": true,
          "x": 5,
          "xref": "x",
          "y": 8755.2,
          "yref": "y"
         },
         {
          "arrowcolor": "FireBrick",
          "arrowhead": 2,
          "arrowsize": 0.8,
          "arrowwidth": 4,
          "ax": 0,
          "ay": -15,
          "hoverlabel": {
           "bgcolor": "FireBrick"
          },
          "hovertext": "Step 5 [2018-05-15 10:00:00]<br>SELL 1.43568 BTC @ 8784.4 USD MARKET<br>Total: 12611.59 USD - Comm.: 0.00432000 BTC",
          "opacity": 0.6,
          "showarrow": true,
          "x": 4,
          "xref": "x",
          "y": 8784.4,
          "yref": "y"
         },
         {
          "arrowcolor": "DarkGreen",
          "arrowhead": 2,
          "arrowsize": 0.8,
          "arrowwidth": 4,
          "ax": 0,
          "ay": 15,
          "hoverlabel": {
           "bgcolor": "DarkGreen"
          },
          "hovertext": "Step 4 [2018-05-15 09:00:00]<br>BUY 0.28622776 BTC @ 8708.1 USD MARKET<br>Total: 2492.5 USD - Comm.: 7.50 USD",
          "opacity": 0.6,
          "showarrow": true,
          "x": 3,
          "xref": "x",
          "y": 8708.1,
          "yref": "y"
         },
         {
          "arrowcolor": "FireBrick",
          "arrowhead": 2,
          "arrowsize": 0.8,
          "arrowwidth": 4,
          "ax": 0,
          "ay": -15,
          "hoverlabel": {
           "bgcolor": "FireBrick"
          },
          "hovertext": "Step 3 [2018-05-15 08:00:00]<br>SELL 2.3928 BTC @ 8723.7 USD MARKET<br>Total: 20874.07 USD - Comm.: 0.00720000 BTC",
          "opacity": 0.6,
          "showarrow": true,
          "x": 2,
          "xref": "x",
          "y": 8723.7,
          "yref": "y"
         },
         {
          "arrowcolor": "FireBrick",
          "arrowhead": 2,
          "arrowsize": 0.8,
          "arrowwidth": 4,
          "ax": 0,
          "ay": -15,
          "hoverlabel": {
           "bgcolor": "FireBrick"
          },
          "hovertext": "Step 2 [2018-05-15 07:00:00]<br>SELL 3.988 BTC @ 8743.0 USD MARKET<br>Total: 34867.08 USD - Comm.: 0.01200000 BTC",
          "opacity": 0.6,
          "showarrow": true,
          "x": 1,
          "xref": "x",
          "y": 8743,
          "yref": "y"
         },
         {
          "arrowcolor": "DarkGreen",
          "arrowhead": 2,
          "arrowsize": 0.8,
          "arrowwidth": 4,
          "ax": 0,
          "ay": 15,
          "hoverlabel": {
           "bgcolor": "DarkGreen"
          },
          "hovertext": "Step 1 [2018-05-15 06:00:00]<br>BUY 0.5704314 BTC @ 8739.0 USD MARKET<br>Total: 4985.0 USD - Comm.: 15.00 USD",
          "opacity": 0.6,
          "showarrow": true,
          "x": 0,
          "xref": "x",
          "y": 8739,
          "yref": "y"
         },
         {
          "arrowcolor": "DarkGreen",
          "arrowhead": 2,
          "arrowsize": 0.8,
          "arrowwidth": 4,
          "ax": 0,
          "ay": 15,
          "hoverlabel": {
           "bgcolor": "DarkGreen"
          },
          "hovertext": "Step 90 [2018-05-18 23:00:00]<br>BUY 0.01502628 BTC @ 8238.9 USD MARKET<br>Total: 123.8 USD - Comm.: 0.37 USD",
          "opacity": 0.6,
          "showarrow": true,
          "x": 89,
          "xref": "x",
          "y": 8238.9,
          "yref": "y"
         },
         {
          "arrowcolor": "FireBrick",
          "arrowhead": 2,
          "arrowsize": 0.8,
          "arrowwidth": 4,
          "ax": 0,
          "ay": -15,
          "hoverlabel": {
           "bgcolor": "FireBrick"
          },
          "hovertext": "Step 86 [2018-05-18 19:00:00]<br>SELL 0.01606648 BTC @ 8224.9 USD MARKET<br>Total: 132.15 USD - Comm.: 0.00004834 BTC",
          "opacity": 0.6,
          "showarrow": true,
          "x": 85,
          "xref": "x",
          "y": 8224.9,
          "yref": "y"
         },
         {
          "arrowcolor": "FireBrick",
          "arrowhead": 2,
          "arrowsize": 0.8,
          "arrowwidth": 4,
          "ax": 0,
          "ay": -15,
          "hoverlabel": {
           "bgcolor": "FireBrick"
          },
          "hovertext": "Step 86 [2018-05-18 19:00:00]<br>SELL 0.08390907 BTC @ 8224.9 USD MARKET<br>Total: 690.14 USD - Comm.: 0.00025248 BTC",
          "opacity": 0.6,
          "showarrow": true,
          "x": 85,
          "xref": "x",
          "y": 8224.9,
          "yref": "y"
         },
         {
          "arrowcolor": "FireBrick",
          "arrowhead": 2,
          "arrowsize": 0.8,
          "arrowwidth": 4,
          "ax": 0,
          "ay": -15,
          "hoverlabel": {
           "bgcolor": "FireBrick"
          },
          "hovertext": "Step 85 [2018-05-18 18:00:00]<br>SELL 0.00626188 BTC @ 8209.1 USD MARKET<br>Total: 51.4 USD - Comm.: 0.00001884 BTC",
          "opacity": 0.6,
          "showarrow": true,
          "x": 84,
          "xref": "x",
          "y": 8209.1,
          "yref": "y"
         },
         {
          "arrowcolor": "FireBrick",
          "arrowhead": 2,
          "arrowsize": 0.8,
          "arrowwidth": 4,
          "ax": 0,
          "ay": -15,
          "hoverlabel": {
           "bgcolor": "FireBrick"
          },
          "hovertext": "Step 85 [2018-05-18 18:00:00]<br>SELL 0.04194981 BTC @ 8209.1 USD MARKET<br>Total: 344.37 USD - Comm.: 0.00012623 BTC",
          "opacity": 0.6,
          "showarrow": true,
          "x": 84,
          "xref": "x",
          "y": 8209.1,
          "yref": "y"
         },
         {
          "arrowcolor": "FireBrick",
          "arrowhead": 2,
          "arrowsize": 0.8,
          "arrowwidth": 4,
          "ax": 0,
          "ay": -15,
          "hoverlabel": {
           "bgcolor": "FireBrick"
          },
          "hovertext": "Step 85 [2018-05-18 18:00:00]<br>SELL 0.1681125 BTC @ 8209.1 USD MARKET<br>Total: 1380.05 USD - Comm.: 0.00050586 BTC",
          "opacity": 0.6,
          "showarrow": true,
          "x": 84,
          "xref": "x",
          "y": 8209.1,
          "yref": "y"
         },
         {
          "arrowcolor": "FireBrick",
          "arrowhead": 2,
          "arrowsize": 0.8,
          "arrowwidth": 4,
          "ax": 0,
          "ay": -15,
          "hoverlabel": {
           "bgcolor": "FireBrick"
          },
          "hovertext": "Step 83 [2018-05-18 16:00:00]<br>SELL 0.01004155 BTC @ 8130.0 USD MARKET<br>Total: 81.64 USD - Comm.: 0.00003022 BTC",
          "opacity": 0.6,
          "showarrow": true,
          "x": 82,
          "xref": "x",
          "y": 8130,
          "yref": "y"
         },
         {
          "arrowcolor": "FireBrick",
          "arrowhead": 2,
          "arrowsize": 0.8,
          "arrowwidth": 4,
          "ax": 0,
          "ay": -15,
          "hoverlabel": {
           "bgcolor": "FireBrick"
          },
          "hovertext": "Step 82 [2018-05-18 15:00:00]<br>SELL 0.01255194 BTC @ 8105.0 USD MARKET<br>Total: 101.73 USD - Comm.: 0.00003777 BTC",
          "opacity": 0.6,
          "showarrow": true,
          "x": 81,
          "xref": "x",
          "y": 8105,
          "yref": "y"
         },
         {
          "arrowcolor": "FireBrick",
          "arrowhead": 2,
          "arrowsize": 0.8,
          "arrowwidth": 4,
          "ax": 0,
          "ay": -15,
          "hoverlabel": {
           "bgcolor": "FireBrick"
          },
          "hovertext": "Step 81 [2018-05-18 14:00:00]<br>SELL 0.01568993 BTC @ 8074.9 USD MARKET<br>Total: 126.69 USD - Comm.: 0.00004721 BTC",
          "opacity": 0.6,
          "showarrow": true,
          "x": 80,
          "xref": "x",
          "y": 8074.9,
          "yref": "y"
         },
         {
          "arrowcolor": "FireBrick",
          "arrowhead": 2,
          "arrowsize": 0.8,
          "arrowwidth": 4,
          "ax": 0,
          "ay": -15,
          "hoverlabel": {
           "bgcolor": "FireBrick"
          },
          "hovertext": "Step 80 [2018-05-18 13:00:00]<br>SELL 0.01961241 BTC @ 8095.7 USD MARKET<br>Total: 158.78 USD - Comm.: 0.00005901 BTC",
          "opacity": 0.6,
          "showarrow": true,
          "x": 79,
          "xref": "x",
          "y": 8095.7,
          "yref": "y"
         },
         {
          "arrowcolor": "FireBrick",
          "arrowhead": 2,
          "arrowsize": 0.8,
          "arrowwidth": 4,
          "ax": 0,
          "ay": -15,
          "hoverlabel": {
           "bgcolor": "FireBrick"
          },
          "hovertext": "Step 79 [2018-05-18 12:00:00]<br>SELL 0.02451551 BTC @ 8105.5 USD MARKET<br>Total: 198.71 USD - Comm.: 0.00007377 BTC",
          "opacity": 0.6,
          "showarrow": true,
          "x": 78,
          "xref": "x",
          "y": 8105.5,
          "yref": "y"
         },
         {
          "arrowcolor": "DarkGreen",
          "arrowhead": 2,
          "arrowsize": 0.8,
          "arrowwidth": 4,
          "ax": 0,
          "ay": 15,
          "hoverlabel": {
           "bgcolor": "DarkGreen"
          },
          "hovertext": "Step 78 [2018-05-18 11:00:00]<br>BUY 0.07360859 BTC @ 8101.5 USD MARKET<br>Total: 596.34 USD - Comm.: 1.79 USD",
          "opacity": 0.6,
          "showarrow": true,
          "x": 77,
          "xref": "x",
          "y": 8101.5,
          "yref": "y"
         },
         {
          "arrowcolor": "FireBrick",
          "arrowhead": 2,
          "arrowsize": 0.8,
          "arrowwidth": 4,
          "ax": 0,
          "ay": -15,
          "hoverlabel": {
           "bgcolor": "FireBrick"
          },
          "hovertext": "Step 77 [2018-05-18 10:00:00]<br>SELL 0.03064439 BTC @ 8130.0 USD MARKET<br>Total: 249.14 USD - Comm.: 0.00009221 BTC",
          "opacity": 0.6,
          "showarrow": true,
          "x": 76,
          "xref": "x",
          "y": 8130,
          "yref": "y"
         },
         {
          "arrowcolor": "DarkGreen",
          "arrowhead": 2,
          "arrowsize": 0.8,
          "arrowwidth": 4,
          "ax": 0,
          "ay": 15,
          "hoverlabel": {
           "bgcolor": "DarkGreen"
          },
          "hovertext": "Step 76 [2018-05-18 09:00:00]<br>BUY 0.14720206 BTC @ 8102.4 USD MARKET<br>Total: 1192.69 USD - Comm.: 3.59 USD",
          "opacity": 0.6,
          "showarrow": true,
          "x": 75,
          "xref": "x",
          "y": 8102.4,
          "yref": "y"
         },
         {
          "arrowcolor": "FireBrick",
          "arrowhead": 2,
          "arrowsize": 0.8,
          "arrowwidth": 4,
          "ax": 0,
          "ay": -15,
          "hoverlabel": {
           "bgcolor": "FireBrick"
          },
          "hovertext": "Step 75 [2018-05-18 08:00:00]<br>SELL 0.03830549 BTC @ 8123.6 USD MARKET<br>Total: 311.18 USD - Comm.: 0.00011526 BTC",
          "opacity": 0.6,
          "showarrow": true,
          "x": 74,
          "xref": "x",
          "y": 8123.6,
          "yref": "y"
         },
         {
          "arrowcolor": "FireBrick",
          "arrowhead": 2,
          "arrowsize": 0.8,
          "arrowwidth": 4,
          "ax": 0,
          "ay": -15,
          "hoverlabel": {
           "bgcolor": "FireBrick"
          },
          "hovertext": "Step 75 [2018-05-18 08:00:00]<br>SELL 0.00315851 BTC @ 8123.6 USD MARKET<br>Total: 25.66 USD - Comm.: 0.00000950 BTC",
          "opacity": 0.6,
          "showarrow": true,
          "x": 74,
          "xref": "x",
          "y": 8123.6,
          "yref": "y"
         },
         {
          "arrowcolor": "FireBrick",
          "arrowhead": 2,
          "arrowsize": 0.8,
          "arrowwidth": 4,
          "ax": 0,
          "ay": -15,
          "hoverlabel": {
           "bgcolor": "FireBrick"
          },
          "hovertext": "Step 75 [2018-05-18 08:00:00]<br>SELL 0.28980152 BTC @ 8123.6 USD MARKET<br>Total: 2354.23 USD - Comm.: 0.00087202 BTC",
          "opacity": 0.6,
          "showarrow": true,
          "x": 74,
          "xref": "x",
          "y": 8123.6,
          "yref": "y"
         },
         {
          "arrowcolor": "DarkGreen",
          "arrowhead": 2,
          "arrowsize": 0.8,
          "arrowwidth": 4,
          "ax": 0,
          "ay": 15,
          "hoverlabel": {
           "bgcolor": "DarkGreen"
          },
          "hovertext": "Step 74 [2018-05-18 07:00:00]<br>BUY 0.00155968 BTC @ 8085.0 USD MARKET<br>Total: 12.61 USD - Comm.: 0.04 USD",
          "opacity": 0.6,
          "showarrow": true,
          "x": 73,
          "xref": "x",
          "y": 8085,
          "yref": "y"
         },
         {
          "arrowcolor": "DarkGreen",
          "arrowhead": 2,
          "arrowsize": 0.8,
          "arrowwidth": 4,
          "ax": 0,
          "ay": 15,
          "hoverlabel": {
           "bgcolor": "DarkGreen"
          },
          "hovertext": "Step 73 [2018-05-18 06:00:00]<br>BUY 0.00316801 BTC @ 7964.0 USD MARKET<br>Total: 25.23 USD - Comm.: 0.08 USD",
          "opacity": 0.6,
          "showarrow": true,
          "x": 72,
          "xref": "x",
          "y": 7964,
          "yref": "y"
         },
         {
          "arrowcolor": "DarkGreen",
          "arrowhead": 2,
          "arrowsize": 0.8,
          "arrowwidth": 4,
          "ax": 0,
          "ay": 15,
          "hoverlabel": {
           "bgcolor": "DarkGreen"
          },
          "hovertext": "Step 73 [2018-05-18 06:00:00]<br>BUY 0.01271346 BTC @ 7964.0 USD MARKET<br>Total: 101.25 USD - Comm.: 0.30 USD",
          "opacity": 0.6,
          "showarrow": true,
          "x": 72,
          "xref": "x",
          "y": 7964,
          "yref": "y"
         },
         {
          "arrowcolor": "DarkGreen",
          "arrowhead": 2,
          "arrowsize": 0.8,
          "arrowwidth": 4,
          "ax": 0,
          "ay": 15,
          "hoverlabel": {
           "bgcolor": "DarkGreen"
          },
          "hovertext": "Step 72 [2018-05-18 05:00:00]<br>BUY 0.00628072 BTC @ 8035.7 USD MARKET<br>Total: 50.47 USD - Comm.: 0.15 USD",
          "opacity": 0.6,
          "showarrow": true,
          "x": 71,
          "xref": "x",
          "y": 8035.7,
          "yref": "y"
         },
         {
          "arrowcolor": "DarkGreen",
          "arrowhead": 2,
          "arrowsize": 0.8,
          "arrowwidth": 4,
          "ax": 0,
          "ay": 15,
          "hoverlabel": {
           "bgcolor": "DarkGreen"
          },
          "hovertext": "Step 71 [2018-05-18 04:00:00]<br>BUY 0.02937999 BTC @ 8016.0 USD MARKET<br>Total: 235.51 USD - Comm.: 0.71 USD",
          "opacity": 0.6,
          "showarrow": true,
          "x": 70,
          "xref": "x",
          "y": 8016,
          "yref": "y"
         },
         {
          "arrowcolor": "DarkGreen",
          "arrowhead": 2,
          "arrowsize": 0.8,
          "arrowwidth": 4,
          "ax": 0,
          "ay": 15,
          "hoverlabel": {
           "bgcolor": "DarkGreen"
          },
          "hovertext": "Step 70 [2018-05-18 03:00:00]<br>BUY 0.04207604 BTC @ 7996.0 USD MARKET<br>Total: 336.44 USD - Comm.: 1.01 USD",
          "opacity": 0.6,
          "showarrow": true,
          "x": 69,
          "xref": "x",
          "y": 7996,
          "yref": "y"
         },
         {
          "arrowcolor": "DarkGreen",
          "arrowhead": 2,
          "arrowsize": 0.8,
          "arrowwidth": 4,
          "ax": 0,
          "ay": 15,
          "hoverlabel": {
           "bgcolor": "DarkGreen"
          },
          "hovertext": "Step 69 [2018-05-18 02:00:00]<br>BUY 0.08416155 BTC @ 7995.1 USD MARKET<br>Total: 672.88 USD - Comm.: 2.02 USD",
          "opacity": 0.6,
          "showarrow": true,
          "x": 68,
          "xref": "x",
          "y": 7995.1,
          "yref": "y"
         },
         {
          "arrowcolor": "DarkGreen",
          "arrowhead": 2,
          "arrowsize": 0.8,
          "arrowwidth": 4,
          "ax": 0,
          "ay": 15,
          "hoverlabel": {
           "bgcolor": "DarkGreen"
          },
          "hovertext": "Step 68 [2018-05-18 01:00:00]<br>BUY 0.16861836 BTC @ 7981.1 USD MARKET<br>Total: 1345.76 USD - Comm.: 4.05 USD",
          "opacity": 0.6,
          "showarrow": true,
          "x": 67,
          "xref": "x",
          "y": 7981.1,
          "yref": "y"
         },
         {
          "arrowcolor": "DarkGreen",
          "arrowhead": 2,
          "arrowsize": 0.8,
          "arrowwidth": 4,
          "ax": 0,
          "ay": 15,
          "hoverlabel": {
           "bgcolor": "DarkGreen"
          },
          "hovertext": "Step 68 [2018-05-18 01:00:00]<br>BUY 0.01136059 BTC @ 7981.1 USD MARKET<br>Total: 90.67 USD - Comm.: 0.27 USD",
          "opacity": 0.6,
          "showarrow": true,
          "x": 67,
          "xref": "x",
          "y": 7981.1,
          "yref": "y"
         },
         {
          "arrowcolor": "DarkGreen",
          "arrowhead": 2,
          "arrowsize": 0.8,
          "arrowwidth": 4,
          "ax": 0,
          "ay": 15,
          "hoverlabel": {
           "bgcolor": "DarkGreen"
          },
          "hovertext": "Step 68 [2018-05-18 01:00:00]<br>BUY 0.03167233 BTC @ 7981.1 USD MARKET<br>Total: 252.78 USD - Comm.: 0.76 USD",
          "opacity": 0.6,
          "showarrow": true,
          "x": 67,
          "xref": "x",
          "y": 7981.1,
          "yref": "y"
         },
         {
          "arrowcolor": "DarkGreen",
          "arrowhead": 2,
          "arrowsize": 0.8,
          "arrowwidth": 4,
          "ax": 0,
          "ay": 15,
          "hoverlabel": {
           "bgcolor": "DarkGreen"
          },
          "hovertext": "Step 67 [2018-05-18 00:00:00]<br>BUY 0.29067354 BTC @ 7958.0 USD MARKET<br>Total: 2313.18 USD - Comm.: 6.96 USD",
          "opacity": 0.6,
          "showarrow": true,
          "x": 66,
          "xref": "x",
          "y": 7958,
          "yref": "y"
         },
         {
          "arrowcolor": "DarkGreen",
          "arrowhead": 2,
          "arrowsize": 0.8,
          "arrowwidth": 4,
          "ax": 0,
          "ay": 15,
          "hoverlabel": {
           "bgcolor": "DarkGreen"
          },
          "hovertext": "Step 67 [2018-05-18 00:00:00]<br>BUY 0.01897839 BTC @ 7958.0 USD MARKET<br>Total: 151.03 USD - Comm.: 0.45 USD",
          "opacity": 0.6,
          "showarrow": true,
          "x": 66,
          "xref": "x",
          "y": 7958,
          "yref": "y"
         },
         {
          "arrowcolor": "FireBrick",
          "arrowhead": 2,
          "arrowsize": 0.8,
          "arrowwidth": 4,
          "ax": 0,
          "ay": -15,
          "hoverlabel": {
           "bgcolor": "FireBrick"
          },
          "hovertext": "Step 67 [2018-05-18 00:00:00]<br>SELL 0.04768522 BTC @ 7958.0 USD MARKET<br>Total: 379.48 USD - Comm.: 0.00014349 BTC",
          "opacity": 0.6,
          "showarrow": true,
          "x": 66,
          "xref": "x",
          "y": 7958,
          "yref": "y"
         },
         {
          "arrowcolor": "DarkGreen",
          "arrowhead": 2,
          "arrowsize": 0.8,
          "arrowwidth": 4,
          "ax": 0,
          "ay": 15,
          "hoverlabel": {
           "bgcolor": "DarkGreen"
          },
          "hovertext": "Step 67 [2018-05-18 00:00:00]<br>BUY 0.02529027 BTC @ 7958.0 USD MARKET<br>Total: 201.26 USD - Comm.: 0.61 USD",
          "opacity": 0.6,
          "showarrow": true,
          "x": 66,
          "xref": "x",
          "y": 7958,
          "yref": "y"
         },
         {
          "arrowcolor": "DarkGreen",
          "arrowhead": 2,
          "arrowsize": 0.8,
          "arrowwidth": 4,
          "ax": 0,
          "ay": 15,
          "hoverlabel": {
           "bgcolor": "DarkGreen"
          },
          "hovertext": "Step 67 [2018-05-18 00:00:00]<br>BUY 0.0398668 BTC @ 7958.0 USD MARKET<br>Total: 317.26 USD - Comm.: 0.95 USD",
          "opacity": 0.6,
          "showarrow": true,
          "x": 66,
          "xref": "x",
          "y": 7958,
          "yref": "y"
         },
         {
          "arrowcolor": "DarkGreen",
          "arrowhead": 2,
          "arrowsize": 0.8,
          "arrowwidth": 4,
          "ax": 0,
          "ay": 15,
          "hoverlabel": {
           "bgcolor": "DarkGreen"
          },
          "hovertext": "Step 66 [2018-05-17 23:00:00]<br>BUY 0.13360193 BTC @ 8054.3 USD MARKET<br>Total: 1076.07 USD - Comm.: 3.24 USD",
          "opacity": 0.6,
          "showarrow": true,
          "x": 65,
          "xref": "x",
          "y": 8054.3,
          "yref": "y"
         },
         {
          "arrowcolor": "FireBrick",
          "arrowhead": 2,
          "arrowsize": 0.8,
          "arrowwidth": 4,
          "ax": 0,
          "ay": -15,
          "hoverlabel": {
           "bgcolor": "FireBrick"
          },
          "hovertext": "Step 66 [2018-05-17 23:00:00]<br>SELL 0.04010861 BTC @ 8054.3 USD MARKET<br>Total: 323.05 USD - Comm.: 0.00012069 BTC",
          "opacity": 0.6,
          "showarrow": true,
          "x": 65,
          "xref": "x",
          "y": 8054.3,
          "yref": "y"
         },
         {
          "arrowcolor": "DarkGreen",
          "arrowhead": 2,
          "arrowsize": 0.8,
          "arrowwidth": 4,
          "ax": 0,
          "ay": 15,
          "hoverlabel": {
           "bgcolor": "DarkGreen"
          },
          "hovertext": "Step 66 [2018-05-17 23:00:00]<br>BUY 0.01595049 BTC @ 8054.3 USD MARKET<br>Total: 128.47 USD - Comm.: 0.39 USD",
          "opacity": 0.6,
          "showarrow": true,
          "x": 65,
          "xref": "x",
          "y": 8054.3,
          "yref": "y"
         },
         {
          "arrowcolor": "DarkGreen",
          "arrowhead": 2,
          "arrowsize": 0.8,
          "arrowwidth": 4,
          "ax": 0,
          "ay": 15,
          "hoverlabel": {
           "bgcolor": "DarkGreen"
          },
          "hovertext": "Step 65 [2018-05-17 22:00:00]<br>BUY 0.01993209 BTC @ 8069.9 USD MARKET<br>Total: 160.85 USD - Comm.: 0.48 USD",
          "opacity": 0.6,
          "showarrow": true,
          "x": 64,
          "xref": "x",
          "y": 8069.9,
          "yref": "y"
         },
         {
          "arrowcolor": "DarkGreen",
          "arrowhead": 2,
          "arrowsize": 0.8,
          "arrowwidth": 4,
          "ax": 0,
          "ay": 15,
          "hoverlabel": {
           "bgcolor": "DarkGreen"
          },
          "hovertext": "Step 63 [2018-05-17 20:00:00]<br>BUY 0.43710167 BTC @ 8206.1 USD MARKET<br>Total: 3586.9 USD - Comm.: 10.79 USD",
          "opacity": 0.6,
          "showarrow": true,
          "x": 62,
          "xref": "x",
          "y": 8206.1,
          "yref": "y"
         },
         {
          "arrowcolor": "DarkGreen",
          "arrowhead": 2,
          "arrowsize": 0.8,
          "arrowwidth": 4,
          "ax": 0,
          "ay": 15,
          "hoverlabel": {
           "bgcolor": "DarkGreen"
          },
          "hovertext": "Step 150 [2018-05-21 11:00:00]<br>BUY 0.17852209 BTC @ 8483.6 USD MARKET<br>Total: 1514.51 USD - Comm.: 4.56 USD",
          "opacity": 0.6,
          "showarrow": true,
          "x": 149,
          "xref": "x",
          "y": 8483.6,
          "yref": "y"
         },
         {
          "arrowcolor": "DarkGreen",
          "arrowhead": 2,
          "arrowsize": 0.8,
          "arrowwidth": 4,
          "ax": 0,
          "ay": 15,
          "hoverlabel": {
           "bgcolor": "DarkGreen"
          },
          "hovertext": "Step 149 [2018-05-21 10:00:00]<br>BUY 0.35768504 BTC @ 8468.4 USD MARKET<br>Total: 3029.02 USD - Comm.: 9.11 USD",
          "opacity": 0.6,
          "showarrow": true,
          "x": 148,
          "xref": "x",
          "y": 8468.4,
          "yref": "y"
         },
         {
          "arrowcolor": "DarkGreen",
          "arrowhead": 2,
          "arrowsize": 0.8,
          "arrowwidth": 4,
          "ax": 0,
          "ay": 15,
          "hoverlabel": {
           "bgcolor": "DarkGreen"
          },
          "hovertext": "Step 148 [2018-05-21 09:00:00]<br>BUY 0.47650786 BTC @ 8475.6 USD MARKET<br>Total: 4038.69 USD - Comm.: 12.15 USD",
          "opacity": 0.6,
          "showarrow": true,
          "x": 147,
          "xref": "x",
          "y": 8475.6,
          "yref": "y"
         },
         {
          "arrowcolor": "FireBrick",
          "arrowhead": 2,
          "arrowsize": 0.8,
          "arrowwidth": 4,
          "ax": 0,
          "ay": -15,
          "hoverlabel": {
           "bgcolor": "FireBrick"
          },
          "hovertext": "Step 146 [2018-05-21 07:00:00]<br>SELL 0.01927978 BTC @ 8528.1 USD MARKET<br>Total: 164.42 USD - Comm.: 0.00005801 BTC",
          "opacity": 0.6,
          "showarrow": true,
          "x": 145,
          "xref": "x",
          "y": 8528.1,
          "yref": "y"
         },
         {
          "arrowcolor": "FireBrick",
          "arrowhead": 2,
          "arrowsize": 0.8,
          "arrowwidth": 4,
          "ax": 0,
          "ay": -15,
          "hoverlabel": {
           "bgcolor": "FireBrick"
          },
          "hovertext": "Step 135 [2018-05-20 20:00:00]<br>SELL 0.03736378 BTC @ 8551.5 USD MARKET<br>Total: 319.52 USD - Comm.: 0.00011243 BTC",
          "opacity": 0.6,
          "showarrow": true,
          "x": 134,
          "xref": "x",
          "y": 8551.5,
          "yref": "y"
         },
         {
          "arrowcolor": "DarkGreen",
          "arrowhead": 2,
          "arrowsize": 0.8,
          "arrowwidth": 4,
          "ax": 0,
          "ay": 15,
          "hoverlabel": {
           "bgcolor": "DarkGreen"
          },
          "hovertext": "Step 134 [2018-05-20 19:00:00]<br>BUY 0.04430818 BTC @ 8513.1 USD MARKET<br>Total: 377.2 USD - Comm.: 1.14 USD",
          "opacity": 0.6,
          "showarrow": true,
          "x": 133,
          "xref": "x",
          "y": 8513.1,
          "yref": "y"
         },
         {
          "arrowcolor": "FireBrick",
          "arrowhead": 2,
          "arrowsize": 0.8,
          "arrowwidth": 4,
          "ax": 0,
          "ay": -15,
          "hoverlabel": {
           "bgcolor": "FireBrick"
          },
          "hovertext": "Step 133 [2018-05-20 18:00:00]<br>SELL 0.59480002 BTC @ 8519.5 USD MARKET<br>Total: 5067.4 USD - Comm.: 0.00178977 BTC",
          "opacity": 0.6,
          "showarrow": true,
          "x": 132,
          "xref": "x",
          "y": 8519.5,
          "yref": "y"
         },
         {
          "arrowcolor": "DarkGreen",
          "arrowhead": 2,
          "arrowsize": 0.8,
          "arrowwidth": 4,
          "ax": 0,
          "ay": 15,
          "hoverlabel": {
           "bgcolor": "DarkGreen"
          },
          "hovertext": "Step 133 [2018-05-20 18:00:00]<br>BUY 0.78791831 BTC @ 8519.5 USD MARKET<br>Total: 6712.67 USD - Comm.: 20.20 USD",
          "opacity": 0.6,
          "showarrow": true,
          "x": 132,
          "xref": "x",
          "y": 8519.5,
          "yref": "y"
         },
         {
          "arrowcolor": "FireBrick",
          "arrowhead": 2,
          "arrowsize": 0.8,
          "arrowwidth": 4,
          "ax": 0,
          "ay": -15,
          "hoverlabel": {
           "bgcolor": "FireBrick"
          },
          "hovertext": "Step 132 [2018-05-20 17:00:00]<br>SELL 0.00930927 BTC @ 8517.8 USD MARKET<br>Total: 79.29 USD - Comm.: 0.00002801 BTC",
          "opacity": 0.6,
          "showarrow": true,
          "x": 131,
          "xref": "x",
          "y": 8517.8,
          "yref": "y"
         },
         {
          "arrowcolor": "FireBrick",
          "arrowhead": 2,
          "arrowsize": 0.8,
          "arrowwidth": 4,
          "ax": 0,
          "ay": -15,
          "hoverlabel": {
           "bgcolor": "FireBrick"
          },
          "hovertext": "Step 132 [2018-05-20 17:00:00]<br>SELL 0.14929039 BTC @ 8517.8 USD MARKET<br>Total: 1271.63 USD - Comm.: 0.00044922 BTC",
          "opacity": 0.6,
          "showarrow": true,
          "x": 131,
          "xref": "x",
          "y": 8517.8,
          "yref": "y"
         },
         {
          "arrowcolor": "DarkGreen",
          "arrowhead": 2,
          "arrowsize": 0.8,
          "arrowwidth": 4,
          "ax": 0,
          "ay": 15,
          "hoverlabel": {
           "bgcolor": "DarkGreen"
          },
          "hovertext": "Step 132 [2018-05-20 17:00:00]<br>BUY 0.01063772 BTC @ 8517.8 USD MARKET<br>Total: 90.61 USD - Comm.: 0.27 USD",
          "opacity": 0.6,
          "showarrow": true,
          "x": 131,
          "xref": "x",
          "y": 8517.8,
          "yref": "y"
         },
         {
          "arrowcolor": "DarkGreen",
          "arrowhead": 2,
          "arrowsize": 0.8,
          "arrowwidth": 4,
          "ax": 0,
          "ay": 15,
          "hoverlabel": {
           "bgcolor": "DarkGreen"
          },
          "hovertext": "Step 132 [2018-05-20 17:00:00]<br>BUY 0.04598136 BTC @ 8517.8 USD MARKET<br>Total: 391.66 USD - Comm.: 1.18 USD",
          "opacity": 0.6,
          "showarrow": true,
          "x": 131,
          "xref": "x",
          "y": 8517.8,
          "yref": "y"
         },
         {
          "arrowcolor": "DarkGreen",
          "arrowhead": 2,
          "arrowsize": 0.8,
          "arrowwidth": 4,
          "ax": 0,
          "ay": 15,
          "hoverlabel": {
           "bgcolor": "DarkGreen"
          },
          "hovertext": "Step 132 [2018-05-20 17:00:00]<br>BUY 1.52610416 BTC @ 8517.8 USD MARKET<br>Total: 12999.05 USD - Comm.: 39.11 USD",
          "opacity": 0.6,
          "showarrow": true,
          "x": 131,
          "xref": "x",
          "y": 8517.8,
          "yref": "y"
         },
         {
          "arrowcolor": "FireBrick",
          "arrowhead": 2,
          "arrowsize": 0.8,
          "arrowwidth": 4,
          "ax": 0,
          "ay": -15,
          "hoverlabel": {
           "bgcolor": "FireBrick"
          },
          "hovertext": "Step 131 [2018-05-20 16:00:00]<br>SELL 0.01865874 BTC @ 8484.6 USD MARKET<br>Total: 158.31 USD - Comm.: 0.00005614 BTC",
          "opacity": 0.6,
          "showarrow": true,
          "x": 130,
          "xref": "x",
          "y": 8484.6,
          "yref": "y"
         },
         {
          "arrowcolor": "FireBrick",
          "arrowhead": 2,
          "arrowsize": 0.8,
          "arrowwidth": 4,
          "ax": 0,
          "ay": -15,
          "hoverlabel": {
           "bgcolor": "FireBrick"
          },
          "hovertext": "Step 131 [2018-05-20 16:00:00]<br>SELL 0.07473148 BTC @ 8484.6 USD MARKET<br>Total: 634.07 USD - Comm.: 0.00022487 BTC",
          "opacity": 0.6,
          "showarrow": true,
          "x": 130,
          "xref": "x",
          "y": 8484.6,
          "yref": "y"
         },
         {
          "arrowcolor": "FireBrick",
          "arrowhead": 2,
          "arrowsize": 0.8,
          "arrowwidth": 4,
          "ax": 0,
          "ay": -15,
          "hoverlabel": {
           "bgcolor": "FireBrick"
          },
          "hovertext": "Step 131 [2018-05-20 16:00:00]<br>SELL 0.29876171 BTC @ 8484.6 USD MARKET<br>Total: 2534.87 USD - Comm.: 0.00089898 BTC",
          "opacity": 0.6,
          "showarrow": true,
          "x": 130,
          "xref": "x",
          "y": 8484.6,
          "yref": "y"
         },
         {
          "arrowcolor": "DarkGreen",
          "arrowhead": 2,
          "arrowsize": 0.8,
          "arrowwidth": 4,
          "ax": 0,
          "ay": 15,
          "hoverlabel": {
           "bgcolor": "DarkGreen"
          },
          "hovertext": "Step 131 [2018-05-20 16:00:00]<br>BUY 0.01505316 BTC @ 8484.6 USD MARKET<br>Total: 127.72 USD - Comm.: 0.38 USD",
          "opacity": 0.6,
          "showarrow": true,
          "x": 130,
          "xref": "x",
          "y": 8484.6,
          "yref": "y"
         },
         {
          "arrowcolor": "DarkGreen",
          "arrowhead": 2,
          "arrowsize": 0.8,
          "arrowwidth": 4,
          "ax": 0,
          "ay": 15,
          "hoverlabel": {
           "bgcolor": "DarkGreen"
          },
          "hovertext": "Step 131 [2018-05-20 16:00:00]<br>BUY 0.01325578 BTC @ 8484.6 USD MARKET<br>Total: 112.47 USD - Comm.: 0.34 USD",
          "opacity": 0.6,
          "showarrow": true,
          "x": 130,
          "xref": "x",
          "y": 8484.6,
          "yref": "y"
         },
         {
          "arrowcolor": "DarkGreen",
          "arrowhead": 2,
          "arrowsize": 0.8,
          "arrowwidth": 4,
          "ax": 0,
          "ay": 15,
          "hoverlabel": {
           "bgcolor": "DarkGreen"
          },
          "hovertext": "Step 131 [2018-05-20 16:00:00]<br>BUY 0.0747083 BTC @ 8484.6 USD MARKET<br>Total: 633.87 USD - Comm.: 1.91 USD",
          "opacity": 0.6,
          "showarrow": true,
          "x": 130,
          "xref": "x",
          "y": 8484.6,
          "yref": "y"
         },
         {
          "arrowcolor": "DarkGreen",
          "arrowhead": 2,
          "arrowsize": 0.8,
          "arrowwidth": 4,
          "ax": 0,
          "ay": 15,
          "hoverlabel": {
           "bgcolor": "DarkGreen"
          },
          "hovertext": "Step 131 [2018-05-20 16:00:00]<br>BUY 0.39626735 BTC @ 8484.6 USD MARKET<br>Total: 3362.17 USD - Comm.: 10.12 USD",
          "opacity": 0.6,
          "showarrow": true,
          "x": 130,
          "xref": "x",
          "y": 8484.6,
          "yref": "y"
         },
         {
          "arrowcolor": "DarkGreen",
          "arrowhead": 2,
          "arrowsize": 0.8,
          "arrowwidth": 4,
          "ax": 0,
          "ay": 15,
          "hoverlabel": {
           "bgcolor": "DarkGreen"
          },
          "hovertext": "Step 131 [2018-05-20 16:00:00]<br>BUY 1.58833534 BTC @ 8484.6 USD MARKET<br>Total: 13476.39 USD - Comm.: 40.55 USD",
          "opacity": 0.6,
          "showarrow": true,
          "x": 130,
          "xref": "x",
          "y": 8484.6,
          "yref": "y"
         },
         {
          "arrowcolor": "DarkGreen",
          "arrowhead": 2,
          "arrowsize": 0.8,
          "arrowwidth": 4,
          "ax": 0,
          "ay": 15,
          "hoverlabel": {
           "bgcolor": "DarkGreen"
          },
          "hovertext": "Step 131 [2018-05-20 16:00:00]<br>BUY 1.91390166 BTC @ 8484.6 USD MARKET<br>Total: 16238.69 USD - Comm.: 48.86 USD",
          "opacity": 0.6,
          "showarrow": true,
          "x": 130,
          "xref": "x",
          "y": 8484.6,
          "yref": "y"
         },
         {
          "arrowcolor": "DarkGreen",
          "arrowhead": 2,
          "arrowsize": 0.8,
          "arrowwidth": 4,
          "ax": 0,
          "ay": 15,
          "hoverlabel": {
           "bgcolor": "DarkGreen"
          },
          "hovertext": "Step 124 [2018-05-20 09:00:00]<br>BUY 0.00185192 BTC @ 8342.7 USD MARKET<br>Total: 15.45 USD - Comm.: 0.05 USD",
          "opacity": 0.6,
          "showarrow": true,
          "x": 123,
          "xref": "x",
          "y": 8342.7,
          "yref": "y"
         },
         {
          "arrowcolor": "DarkGreen",
          "arrowhead": 2,
          "arrowsize": 0.8,
          "arrowwidth": 4,
          "ax": 0,
          "ay": 15,
          "hoverlabel": {
           "bgcolor": "DarkGreen"
          },
          "hovertext": "Step 123 [2018-05-20 08:00:00]<br>BUY 0.00933728 BTC @ 8276.5 USD MARKET<br>Total: 77.28 USD - Comm.: 0.23 USD",
          "opacity": 0.6,
          "showarrow": true,
          "x": 122,
          "xref": "x",
          "y": 8276.5,
          "yref": "y"
         },
         {
          "arrowcolor": "DarkGreen",
          "arrowhead": 2,
          "arrowsize": 0.8,
          "arrowwidth": 4,
          "ax": 0,
          "ay": 15,
          "hoverlabel": {
           "bgcolor": "DarkGreen"
          },
          "hovertext": "Step 122 [2018-05-20 07:00:00]<br>BUY 0.01871488 BTC @ 8257.6 USD MARKET<br>Total: 154.54 USD - Comm.: 0.47 USD",
          "opacity": 0.6,
          "showarrow": true,
          "x": 121,
          "xref": "x",
          "y": 8257.6,
          "yref": "y"
         },
         {
          "arrowcolor": "DarkGreen",
          "arrowhead": 2,
          "arrowsize": 0.8,
          "arrowwidth": 4,
          "ax": 0,
          "ay": 15,
          "hoverlabel": {
           "bgcolor": "DarkGreen"
          },
          "hovertext": "Step 121 [2018-05-20 06:00:00]<br>BUY 0.03747621 BTC @ 8247.9 USD MARKET<br>Total: 309.1 USD - Comm.: 0.93 USD",
          "opacity": 0.6,
          "showarrow": true,
          "x": 120,
          "xref": "x",
          "y": 8247.9,
          "yref": "y"
         },
         {
          "arrowcolor": "DarkGreen",
          "arrowhead": 2,
          "arrowsize": 0.8,
          "arrowwidth": 4,
          "ax": 0,
          "ay": 15,
          "hoverlabel": {
           "bgcolor": "DarkGreen"
          },
          "hovertext": "Step 120 [2018-05-20 05:00:00]<br>BUY 0.07495635 BTC @ 8247.6 USD MARKET<br>Total: 618.21 USD - Comm.: 1.86 USD",
          "opacity": 0.6,
          "showarrow": true,
          "x": 119,
          "xref": "x",
          "y": 8247.6,
          "yref": "y"
         },
         {
          "arrowcolor": "DarkGreen",
          "arrowhead": 2,
          "arrowsize": 0.8,
          "arrowwidth": 4,
          "ax": 0,
          "ay": 15,
          "hoverlabel": {
           "bgcolor": "DarkGreen"
          },
          "hovertext": "Step 119 [2018-05-20 04:00:00]<br>BUY 0.14973961 BTC @ 8257.0 USD MARKET<br>Total: 1236.4 USD - Comm.: 3.72 USD",
          "opacity": 0.6,
          "showarrow": true,
          "x": 118,
          "xref": "x",
          "y": 8257,
          "yref": "y"
         },
         {
          "arrowcolor": "DarkGreen",
          "arrowhead": 2,
          "arrowsize": 0.8,
          "arrowwidth": 4,
          "ax": 0,
          "ay": 15,
          "hoverlabel": {
           "bgcolor": "DarkGreen"
          },
          "hovertext": "Step 118 [2018-05-20 03:00:00]<br>BUY 0.29966069 BTC @ 8252.0 USD MARKET<br>Total: 2472.8 USD - Comm.: 7.44 USD",
          "opacity": 0.6,
          "showarrow": true,
          "x": 117,
          "xref": "x",
          "y": 8252,
          "yref": "y"
         },
         {
          "arrowcolor": "DarkGreen",
          "arrowhead": 2,
          "arrowsize": 0.8,
          "arrowwidth": 4,
          "ax": 0,
          "ay": 15,
          "hoverlabel": {
           "bgcolor": "DarkGreen"
          },
          "hovertext": "Step 109 [2018-05-19 18:00:00]<br>BUY 0.59658979 BTC @ 8289.8 USD MARKET<br>Total: 4945.61 USD - Comm.: 14.88 USD",
          "opacity": 0.6,
          "showarrow": true,
          "x": 108,
          "xref": "x",
          "y": 8289.8,
          "yref": "y"
         },
         {
          "arrowcolor": "FireBrick",
          "arrowhead": 2,
          "arrowsize": 0.8,
          "arrowwidth": 4,
          "ax": 0,
          "ay": -15,
          "hoverlabel": {
           "bgcolor": "FireBrick"
          },
          "hovertext": "Step 105 [2018-05-19 14:00:00]<br>SELL 0.07338776 BTC @ 8302.7 USD MARKET<br>Total: 609.32 USD - Comm.: 0.00022083 BTC",
          "opacity": 0.6,
          "showarrow": true,
          "x": 104,
          "xref": "x",
          "y": 8302.7,
          "yref": "y"
         },
         {
          "arrowcolor": "DarkGreen",
          "arrowhead": 2,
          "arrowsize": 0.8,
          "arrowwidth": 4,
          "ax": 0,
          "ay": 15,
          "hoverlabel": {
           "bgcolor": "DarkGreen"
          },
          "hovertext": "Step 104 [2018-05-19 13:00:00]<br>BUY 0.00960413 BTC @ 8300.6 USD MARKET<br>Total: 79.72 USD - Comm.: 0.24 USD",
          "opacity": 0.6,
          "showarrow": true,
          "x": 103,
          "xref": "x",
          "y": 8300.6,
          "yref": "y"
         },
         {
          "arrowcolor": "FireBrick",
          "arrowhead": 2,
          "arrowsize": 0.8,
          "arrowwidth": 4,
          "ax": 0,
          "ay": -15,
          "hoverlabel": {
           "bgcolor": "FireBrick"
          },
          "hovertext": "Step 104 [2018-05-19 13:00:00]<br>SELL 0.001555 BTC @ 8300.6 USD MARKET<br>Total: 12.91 USD - Comm.: 0.00000468 BTC",
          "opacity": 0.6,
          "showarrow": true,
          "x": 103,
          "xref": "x",
          "y": 8300.6,
          "yref": "y"
         },
         {
          "arrowcolor": "DarkGreen",
          "arrowhead": 2,
          "arrowsize": 0.8,
          "arrowwidth": 4,
          "ax": 0,
          "ay": 15,
          "hoverlabel": {
           "bgcolor": "DarkGreen"
          },
          "hovertext": "Step 103 [2018-05-19 12:00:00]<br>BUY 0.0184022 BTC @ 8345.2 USD MARKET<br>Total: 153.57 USD - Comm.: 0.46 USD",
          "opacity": 0.6,
          "showarrow": true,
          "x": 102,
          "xref": "x",
          "y": 8345.2,
          "yref": "y"
         },
         {
          "arrowcolor": "FireBrick",
          "arrowhead": 2,
          "arrowsize": 0.8,
          "arrowwidth": 4,
          "ax": 0,
          "ay": -15,
          "hoverlabel": {
           "bgcolor": "FireBrick"
          },
          "hovertext": "Step 103 [2018-05-19 12:00:00]<br>SELL 0.14676045 BTC @ 8345.2 USD MARKET<br>Total: 1224.75 USD - Comm.: 0.00044161 BTC",
          "opacity": 0.6,
          "showarrow": true,
          "x": 102,
          "xref": "x",
          "y": 8345.2,
          "yref": "y"
         },
         {
          "arrowcolor": "FireBrick",
          "arrowhead": 2,
          "arrowsize": 0.8,
          "arrowwidth": 4,
          "ax": 0,
          "ay": -15,
          "hoverlabel": {
           "bgcolor": "FireBrick"
          },
          "hovertext": "Step 103 [2018-05-19 12:00:00]<br>SELL 0.13320112 BTC @ 8345.2 USD MARKET<br>Total: 1111.59 USD - Comm.: 0.00040081 BTC",
          "opacity": 0.6,
          "showarrow": true,
          "x": 102,
          "xref": "x",
          "y": 8345.2,
          "yref": "y"
         },
         {
          "arrowcolor": "DarkGreen",
          "arrowhead": 2,
          "arrowsize": 0.8,
          "arrowwidth": 4,
          "ax": 0,
          "ay": 15,
          "hoverlabel": {
           "bgcolor": "DarkGreen"
          },
          "hovertext": "Step 102 [2018-05-19 11:00:00]<br>BUY 0.01170007 BTC @ 8382.0 USD MARKET<br>Total: 98.07 USD - Comm.: 0.30 USD",
          "opacity": 0.6,
          "showarrow": true,
          "x": 101,
          "xref": "x",
          "y": 8382,
          "yref": "y"
         },
         {
          "arrowcolor": "DarkGreen",
          "arrowhead": 2,
          "arrowsize": 0.8,
          "arrowwidth": 4,
          "ax": 0,
          "ay": 15,
          "hoverlabel": {
           "bgcolor": "DarkGreen"
          },
          "hovertext": "Step 102 [2018-05-19 11:00:00]<br>BUY 0.02285612 BTC @ 8382.0 USD MARKET<br>Total: 191.58 USD - Comm.: 0.58 USD",
          "opacity": 0.6,
          "showarrow": true,
          "x": 101,
          "xref": "x",
          "y": 8382,
          "yref": "y"
         },
         {
          "arrowcolor": "DarkGreen",
          "arrowhead": 2,
          "arrowsize": 0.8,
          "arrowwidth": 4,
          "ax": 0,
          "ay": 15,
          "hoverlabel": {
           "bgcolor": "DarkGreen"
          },
          "hovertext": "Step 102 [2018-05-19 11:00:00]<br>BUY 0.02874254 BTC @ 8382.0 USD MARKET<br>Total: 240.92 USD - Comm.: 0.72 USD",
          "opacity": 0.6,
          "showarrow": true,
          "x": 101,
          "xref": "x",
          "y": 8382,
          "yref": "y"
         },
         {
          "arrowcolor": "DarkGreen",
          "arrowhead": 2,
          "arrowsize": 0.8,
          "arrowwidth": 4,
          "ax": 0,
          "ay": 15,
          "hoverlabel": {
           "bgcolor": "DarkGreen"
          },
          "hovertext": "Step 102 [2018-05-19 11:00:00]<br>BUY 0.03587211 BTC @ 8382.0 USD MARKET<br>Total: 300.68 USD - Comm.: 0.90 USD",
          "opacity": 0.6,
          "showarrow": true,
          "x": 101,
          "xref": "x",
          "y": 8382,
          "yref": "y"
         },
         {
          "arrowcolor": "FireBrick",
          "arrowhead": 2,
          "arrowsize": 0.8,
          "arrowwidth": 4,
          "ax": 0,
          "ay": -15,
          "hoverlabel": {
           "bgcolor": "FireBrick"
          },
          "hovertext": "Step 102 [2018-05-19 11:00:00]<br>SELL 0.02929185 BTC @ 8382.0 USD MARKET<br>Total: 245.52 USD - Comm.: 0.00008814 BTC",
          "opacity": 0.6,
          "showarrow": true,
          "x": 101,
          "xref": "x",
          "y": 8382,
          "yref": "y"
         },
         {
          "arrowcolor": "FireBrick",
          "arrowhead": 2,
          "arrowsize": 0.8,
          "arrowwidth": 4,
          "ax": 0,
          "ay": -15,
          "hoverlabel": {
           "bgcolor": "FireBrick"
          },
          "hovertext": "Step 102 [2018-05-19 11:00:00]<br>SELL 0.43579036 BTC @ 8382.0 USD MARKET<br>Total: 3652.79 USD - Comm.: 0.00131131 BTC",
          "opacity": 0.6,
          "showarrow": true,
          "x": 101,
          "xref": "x",
          "y": 8382,
          "yref": "y"
         }
        ],
        "margin": {
         "t": 50
        },
        "template": {
         "data": {
          "bar": [
           {
            "error_x": {
             "color": "#2a3f5f"
            },
            "error_y": {
             "color": "#2a3f5f"
            },
            "marker": {
             "line": {
              "color": "white",
              "width": 0.5
             }
            },
            "type": "bar"
           }
          ],
          "barpolar": [
           {
            "marker": {
             "line": {
              "color": "white",
              "width": 0.5
             }
            },
            "type": "barpolar"
           }
          ],
          "carpet": [
           {
            "aaxis": {
             "endlinecolor": "#2a3f5f",
             "gridcolor": "#C8D4E3",
             "linecolor": "#C8D4E3",
             "minorgridcolor": "#C8D4E3",
             "startlinecolor": "#2a3f5f"
            },
            "baxis": {
             "endlinecolor": "#2a3f5f",
             "gridcolor": "#C8D4E3",
             "linecolor": "#C8D4E3",
             "minorgridcolor": "#C8D4E3",
             "startlinecolor": "#2a3f5f"
            },
            "type": "carpet"
           }
          ],
          "choropleth": [
           {
            "colorbar": {
             "outlinewidth": 0,
             "ticks": ""
            },
            "type": "choropleth"
           }
          ],
          "contour": [
           {
            "colorbar": {
             "outlinewidth": 0,
             "ticks": ""
            },
            "colorscale": [
             [
              0,
              "#0d0887"
             ],
             [
              0.1111111111111111,
              "#46039f"
             ],
             [
              0.2222222222222222,
              "#7201a8"
             ],
             [
              0.3333333333333333,
              "#9c179e"
             ],
             [
              0.4444444444444444,
              "#bd3786"
             ],
             [
              0.5555555555555556,
              "#d8576b"
             ],
             [
              0.6666666666666666,
              "#ed7953"
             ],
             [
              0.7777777777777778,
              "#fb9f3a"
             ],
             [
              0.8888888888888888,
              "#fdca26"
             ],
             [
              1,
              "#f0f921"
             ]
            ],
            "type": "contour"
           }
          ],
          "contourcarpet": [
           {
            "colorbar": {
             "outlinewidth": 0,
             "ticks": ""
            },
            "type": "contourcarpet"
           }
          ],
          "heatmap": [
           {
            "colorbar": {
             "outlinewidth": 0,
             "ticks": ""
            },
            "colorscale": [
             [
              0,
              "#0d0887"
             ],
             [
              0.1111111111111111,
              "#46039f"
             ],
             [
              0.2222222222222222,
              "#7201a8"
             ],
             [
              0.3333333333333333,
              "#9c179e"
             ],
             [
              0.4444444444444444,
              "#bd3786"
             ],
             [
              0.5555555555555556,
              "#d8576b"
             ],
             [
              0.6666666666666666,
              "#ed7953"
             ],
             [
              0.7777777777777778,
              "#fb9f3a"
             ],
             [
              0.8888888888888888,
              "#fdca26"
             ],
             [
              1,
              "#f0f921"
             ]
            ],
            "type": "heatmap"
           }
          ],
          "heatmapgl": [
           {
            "colorbar": {
             "outlinewidth": 0,
             "ticks": ""
            },
            "colorscale": [
             [
              0,
              "#0d0887"
             ],
             [
              0.1111111111111111,
              "#46039f"
             ],
             [
              0.2222222222222222,
              "#7201a8"
             ],
             [
              0.3333333333333333,
              "#9c179e"
             ],
             [
              0.4444444444444444,
              "#bd3786"
             ],
             [
              0.5555555555555556,
              "#d8576b"
             ],
             [
              0.6666666666666666,
              "#ed7953"
             ],
             [
              0.7777777777777778,
              "#fb9f3a"
             ],
             [
              0.8888888888888888,
              "#fdca26"
             ],
             [
              1,
              "#f0f921"
             ]
            ],
            "type": "heatmapgl"
           }
          ],
          "histogram": [
           {
            "marker": {
             "colorbar": {
              "outlinewidth": 0,
              "ticks": ""
             }
            },
            "type": "histogram"
           }
          ],
          "histogram2d": [
           {
            "colorbar": {
             "outlinewidth": 0,
             "ticks": ""
            },
            "colorscale": [
             [
              0,
              "#0d0887"
             ],
             [
              0.1111111111111111,
              "#46039f"
             ],
             [
              0.2222222222222222,
              "#7201a8"
             ],
             [
              0.3333333333333333,
              "#9c179e"
             ],
             [
              0.4444444444444444,
              "#bd3786"
             ],
             [
              0.5555555555555556,
              "#d8576b"
             ],
             [
              0.6666666666666666,
              "#ed7953"
             ],
             [
              0.7777777777777778,
              "#fb9f3a"
             ],
             [
              0.8888888888888888,
              "#fdca26"
             ],
             [
              1,
              "#f0f921"
             ]
            ],
            "type": "histogram2d"
           }
          ],
          "histogram2dcontour": [
           {
            "colorbar": {
             "outlinewidth": 0,
             "ticks": ""
            },
            "colorscale": [
             [
              0,
              "#0d0887"
             ],
             [
              0.1111111111111111,
              "#46039f"
             ],
             [
              0.2222222222222222,
              "#7201a8"
             ],
             [
              0.3333333333333333,
              "#9c179e"
             ],
             [
              0.4444444444444444,
              "#bd3786"
             ],
             [
              0.5555555555555556,
              "#d8576b"
             ],
             [
              0.6666666666666666,
              "#ed7953"
             ],
             [
              0.7777777777777778,
              "#fb9f3a"
             ],
             [
              0.8888888888888888,
              "#fdca26"
             ],
             [
              1,
              "#f0f921"
             ]
            ],
            "type": "histogram2dcontour"
           }
          ],
          "mesh3d": [
           {
            "colorbar": {
             "outlinewidth": 0,
             "ticks": ""
            },
            "type": "mesh3d"
           }
          ],
          "parcoords": [
           {
            "line": {
             "colorbar": {
              "outlinewidth": 0,
              "ticks": ""
             }
            },
            "type": "parcoords"
           }
          ],
          "pie": [
           {
            "automargin": true,
            "type": "pie"
           }
          ],
          "scatter": [
           {
            "marker": {
             "colorbar": {
              "outlinewidth": 0,
              "ticks": ""
             }
            },
            "type": "scatter"
           }
          ],
          "scatter3d": [
           {
            "line": {
             "colorbar": {
              "outlinewidth": 0,
              "ticks": ""
             }
            },
            "marker": {
             "colorbar": {
              "outlinewidth": 0,
              "ticks": ""
             }
            },
            "type": "scatter3d"
           }
          ],
          "scattercarpet": [
           {
            "marker": {
             "colorbar": {
              "outlinewidth": 0,
              "ticks": ""
             }
            },
            "type": "scattercarpet"
           }
          ],
          "scattergeo": [
           {
            "marker": {
             "colorbar": {
              "outlinewidth": 0,
              "ticks": ""
             }
            },
            "type": "scattergeo"
           }
          ],
          "scattergl": [
           {
            "marker": {
             "colorbar": {
              "outlinewidth": 0,
              "ticks": ""
             }
            },
            "type": "scattergl"
           }
          ],
          "scattermapbox": [
           {
            "marker": {
             "colorbar": {
              "outlinewidth": 0,
              "ticks": ""
             }
            },
            "type": "scattermapbox"
           }
          ],
          "scatterpolar": [
           {
            "marker": {
             "colorbar": {
              "outlinewidth": 0,
              "ticks": ""
             }
            },
            "type": "scatterpolar"
           }
          ],
          "scatterpolargl": [
           {
            "marker": {
             "colorbar": {
              "outlinewidth": 0,
              "ticks": ""
             }
            },
            "type": "scatterpolargl"
           }
          ],
          "scatterternary": [
           {
            "marker": {
             "colorbar": {
              "outlinewidth": 0,
              "ticks": ""
             }
            },
            "type": "scatterternary"
           }
          ],
          "surface": [
           {
            "colorbar": {
             "outlinewidth": 0,
             "ticks": ""
            },
            "colorscale": [
             [
              0,
              "#0d0887"
             ],
             [
              0.1111111111111111,
              "#46039f"
             ],
             [
              0.2222222222222222,
              "#7201a8"
             ],
             [
              0.3333333333333333,
              "#9c179e"
             ],
             [
              0.4444444444444444,
              "#bd3786"
             ],
             [
              0.5555555555555556,
              "#d8576b"
             ],
             [
              0.6666666666666666,
              "#ed7953"
             ],
             [
              0.7777777777777778,
              "#fb9f3a"
             ],
             [
              0.8888888888888888,
              "#fdca26"
             ],
             [
              1,
              "#f0f921"
             ]
            ],
            "type": "surface"
           }
          ],
          "table": [
           {
            "cells": {
             "fill": {
              "color": "#EBF0F8"
             },
             "line": {
              "color": "white"
             }
            },
            "header": {
             "fill": {
              "color": "#C8D4E3"
             },
             "line": {
              "color": "white"
             }
            },
            "type": "table"
           }
          ]
         },
         "layout": {
          "annotationdefaults": {
           "arrowcolor": "#2a3f5f",
           "arrowhead": 0,
           "arrowwidth": 1
          },
          "autotypenumbers": "strict",
          "coloraxis": {
           "colorbar": {
            "outlinewidth": 0,
            "ticks": ""
           }
          },
          "colorscale": {
           "diverging": [
            [
             0,
             "#8e0152"
            ],
            [
             0.1,
             "#c51b7d"
            ],
            [
             0.2,
             "#de77ae"
            ],
            [
             0.3,
             "#f1b6da"
            ],
            [
             0.4,
             "#fde0ef"
            ],
            [
             0.5,
             "#f7f7f7"
            ],
            [
             0.6,
             "#e6f5d0"
            ],
            [
             0.7,
             "#b8e186"
            ],
            [
             0.8,
             "#7fbc41"
            ],
            [
             0.9,
             "#4d9221"
            ],
            [
             1,
             "#276419"
            ]
           ],
           "sequential": [
            [
             0,
             "#0d0887"
            ],
            [
             0.1111111111111111,
             "#46039f"
            ],
            [
             0.2222222222222222,
             "#7201a8"
            ],
            [
             0.3333333333333333,
             "#9c179e"
            ],
            [
             0.4444444444444444,
             "#bd3786"
            ],
            [
             0.5555555555555556,
             "#d8576b"
            ],
            [
             0.6666666666666666,
             "#ed7953"
            ],
            [
             0.7777777777777778,
             "#fb9f3a"
            ],
            [
             0.8888888888888888,
             "#fdca26"
            ],
            [
             1,
             "#f0f921"
            ]
           ],
           "sequentialminus": [
            [
             0,
             "#0d0887"
            ],
            [
             0.1111111111111111,
             "#46039f"
            ],
            [
             0.2222222222222222,
             "#7201a8"
            ],
            [
             0.3333333333333333,
             "#9c179e"
            ],
            [
             0.4444444444444444,
             "#bd3786"
            ],
            [
             0.5555555555555556,
             "#d8576b"
            ],
            [
             0.6666666666666666,
             "#ed7953"
            ],
            [
             0.7777777777777778,
             "#fb9f3a"
            ],
            [
             0.8888888888888888,
             "#fdca26"
            ],
            [
             1,
             "#f0f921"
            ]
           ]
          },
          "colorway": [
           "#636efa",
           "#EF553B",
           "#00cc96",
           "#ab63fa",
           "#FFA15A",
           "#19d3f3",
           "#FF6692",
           "#B6E880",
           "#FF97FF",
           "#FECB52"
          ],
          "font": {
           "color": "#2a3f5f"
          },
          "geo": {
           "bgcolor": "white",
           "lakecolor": "white",
           "landcolor": "white",
           "showlakes": true,
           "showland": true,
           "subunitcolor": "#C8D4E3"
          },
          "hoverlabel": {
           "align": "left"
          },
          "hovermode": "closest",
          "mapbox": {
           "style": "light"
          },
          "paper_bgcolor": "white",
          "plot_bgcolor": "white",
          "polar": {
           "angularaxis": {
            "gridcolor": "#EBF0F8",
            "linecolor": "#EBF0F8",
            "ticks": ""
           },
           "bgcolor": "white",
           "radialaxis": {
            "gridcolor": "#EBF0F8",
            "linecolor": "#EBF0F8",
            "ticks": ""
           }
          },
          "scene": {
           "xaxis": {
            "backgroundcolor": "white",
            "gridcolor": "#DFE8F3",
            "gridwidth": 2,
            "linecolor": "#EBF0F8",
            "showbackground": true,
            "ticks": "",
            "zerolinecolor": "#EBF0F8"
           },
           "yaxis": {
            "backgroundcolor": "white",
            "gridcolor": "#DFE8F3",
            "gridwidth": 2,
            "linecolor": "#EBF0F8",
            "showbackground": true,
            "ticks": "",
            "zerolinecolor": "#EBF0F8"
           },
           "zaxis": {
            "backgroundcolor": "white",
            "gridcolor": "#DFE8F3",
            "gridwidth": 2,
            "linecolor": "#EBF0F8",
            "showbackground": true,
            "ticks": "",
            "zerolinecolor": "#EBF0F8"
           }
          },
          "shapedefaults": {
           "line": {
            "color": "#2a3f5f"
           }
          },
          "ternary": {
           "aaxis": {
            "gridcolor": "#DFE8F3",
            "linecolor": "#A2B1C6",
            "ticks": ""
           },
           "baxis": {
            "gridcolor": "#DFE8F3",
            "linecolor": "#A2B1C6",
            "ticks": ""
           },
           "bgcolor": "white",
           "caxis": {
            "gridcolor": "#DFE8F3",
            "linecolor": "#A2B1C6",
            "ticks": ""
           }
          },
          "title": {
           "x": 0.05
          },
          "xaxis": {
           "automargin": true,
           "gridcolor": "#EBF0F8",
           "linecolor": "#EBF0F8",
           "ticks": "",
           "title": {
            "standoff": 15
           },
           "zerolinecolor": "#EBF0F8",
           "zerolinewidth": 2
          },
          "yaxis": {
           "automargin": true,
           "gridcolor": "#EBF0F8",
           "linecolor": "#EBF0F8",
           "ticks": "",
           "title": {
            "standoff": 15
           },
           "zerolinecolor": "#EBF0F8",
           "zerolinewidth": 2
          }
         }
        },
        "title": {
         "text": "[2021-02-10 15:36:32 PM] Episode: 200/200 Step: 151/200"
        },
        "xaxis": {
         "anchor": "y",
         "domain": [
          0,
          1
         ],
         "gridcolor": "Gainsboro",
         "linecolor": "Grey",
         "matches": "x4",
         "rangeslider": {
          "visible": false
         },
         "showticklabels": false,
         "title": {
          "font": {
           "size": 12
          },
          "standoff": 7,
          "text": "Price"
         }
        },
        "xaxis2": {
         "anchor": "y2",
         "domain": [
          0,
          1
         ],
         "gridcolor": "Gainsboro",
         "linecolor": "Grey",
         "matches": "x4",
         "showticklabels": false,
         "title": {
          "font": {
           "size": 12
          },
          "standoff": 7,
          "text": "Volume"
         }
        },
        "xaxis3": {
         "anchor": "y3",
         "domain": [
          0,
          1
         ],
         "gridcolor": "Gainsboro",
         "linecolor": "Grey",
         "matches": "x4",
         "showticklabels": false,
         "title": {
          "font": {
           "size": 12
          },
          "standoff": 7,
          "text": "Performance"
         }
        },
        "xaxis4": {
         "anchor": "y4",
         "domain": [
          0,
          1
         ],
         "gridcolor": "Gainsboro",
         "linecolor": "Grey",
         "title": {
          "font": {
           "size": 12
          },
          "standoff": 7,
          "text": "Net Worth"
         }
        },
        "yaxis": {
         "anchor": "x",
         "domain": [
          0.49950000000000006,
          1
         ],
         "gridcolor": "Gainsboro",
         "linecolor": "Grey"
        },
        "yaxis2": {
         "anchor": "x2",
         "domain": [
          0.333,
          0.46950000000000003
         ],
         "gridcolor": "Gainsboro",
         "linecolor": "Grey"
        },
        "yaxis3": {
         "anchor": "x3",
         "domain": [
          0.1665,
          0.30300000000000005
         ],
         "gridcolor": "Gainsboro",
         "linecolor": "Grey"
        },
        "yaxis4": {
         "anchor": "x4",
         "domain": [
          0,
          0.1365
         ],
         "gridcolor": "Gainsboro",
         "linecolor": "Grey"
        }
       }
      },
      "text/html": [
       "<div>                            <div id=\"e07cd17a-31c1-4ab5-ac10-82da78bb1074\" class=\"plotly-graph-div\" style=\"height:525px; width:100%;\"></div>            <script type=\"text/javascript\">                require([\"plotly\"], function(Plotly) {                    window.PLOTLYENV=window.PLOTLYENV || {};                                    if (document.getElementById(\"e07cd17a-31c1-4ab5-ac10-82da78bb1074\")) {                    Plotly.newPlot(                        \"e07cd17a-31c1-4ab5-ac10-82da78bb1074\",                        [{\"close\": [8739.0, 8743.0, 8723.7, 8708.1, 8784.4, 8755.2, 8762.0, 8742.6, 8512.0, 8520.8, 8532.1, 8553.8, 8516.5, 8551.2, 8516.7, 8476.0, 8459.9, 8467.5, 8454.2, 8327.9, 8124.4, 8152.0, 8205.3, 8197.7, 8223.9, 8221.1, 8194.2, 8225.1, 8357.2, 8358.5, 8348.6, 8158.1, 8205.9, 8276.0, 8255.2, 8286.4, 8266.2, 8227.4, 8290.0, 8271.9, 8278.1, 8336.1, 8346.07, 8368.7, 8373.5, 8355.0, 8319.5, 8352.2, 8337.8, 8246.7, 8270.1, 8279.4, 8296.4, 8302.0, 8274.8, 8288.8, 8311.8, 8300.9, 8271.6, 8250.0, 8163.4, 8170.0, 8206.1, 8147.08, 8069.9, 8054.3, 7958.0, 7981.1, 7995.1, 7996.0, 8016.0, 8035.7, 7964.0, 8085.0, 8123.6, 8102.4, 8130.0, 8101.5, 8105.5, 8095.7, 8074.9, 8105.0, 8130.0, 8103.3, 8209.1, 8224.9, 8224.2, 8226.9, 8214.0, 8238.9, 8215.0, 8192.9, 8200.0, 8237.5, 8226.4, 8236.2, 8216.7, 8171.4, 8210.0, 8188.9, 8238.5, 8382.0, 8345.2, 8300.6, 8302.7, 8307.9, 8289.8, 8296.4, 8289.8, 8304.0, 8254.0, 8195.1, 8215.5, 8231.0, 8190.6, 8218.3, 8281.2, 8252.0, 8257.0, 8247.6, 8247.9, 8257.6, 8276.5, 8342.7, 8343.0, 8342.7, 8305.9, 8319.8, 8342.0, 8373.2, 8484.6, 8517.8, 8519.5, 8513.1, 8551.5, 8524.1, 8492.2, 8523.6, 8489.7, 8460.0, 8500.3, 8496.7, 8523.2, 8509.42, 8555.0, 8528.1, 8513.1, 8475.6, 8468.4, 8483.6, 8495.8], \"high\": [8793.0, 8754.8, 8743.1, 8737.8, 8855.7, 8804.9, 8789.1, 8798.1, 8742.7, 8544.0, 8580.0, 8578.4, 8553.8, 8560.5, 8558.0, 8540.9, 8552.0, 8498.4, 8492.7, 8462.1, 8328.7, 8217.0, 8236.87, 8221.3, 8270.8, 8241.4, 8241.9, 8258.5, 8420.0, 8426.3, 8380.0, 8372.8, 8212.0, 8370.2, 8318.5, 8349.3, 8328.0, 8375.0, 8290.8, 8314.0, 8366.9, 8357.3, 8396.8, 8376.1, 8394.0, 8482.2, 8373.5, 8374.8, 8364.3, 8345.7, 8280.6, 8315.6, 8313.2, 8316.0, 8337.4, 8299.9, 8363.0, 8323.8, 8320.6, 8271.6, 8266.4, 8192.0, 8232.0, 8206.5, 8147.08, 8093.0, 8063.0, 8024.9, 8022.7, 8023.0, 8057.0, 8046.2, 8035.7, 8161.0, 8138.7, 8130.8, 8145.8, 8131.7, 8128.0, 8116.0, 8095.8, 8133.0, 8157.6, 8143.9, 8224.0, 8277.2, 8250.1, 8265.5, 8246.9, 8247.5, 8255.0, 8225.2, 8211.6, 8277.8, 8270.7, 8236.92, 8250.0, 8219.0, 8210.0, 8213.0, 8250.0, 8430.0, 8401.0, 8374.3, 8330.1, 8315.1, 8315.2, 8302.1, 8315.4, 8304.1, 8310.0, 8254.0, 8234.0, 8248.7, 8231.0, 8220.0, 8282.04, 8286.1, 8265.9, 8270.0, 8291.0, 8268.9, 8298.9, 8357.5, 8379.0, 8346.5, 8360.4, 8337.5, 8350.4, 8374.1, 8535.0, 8530.1, 8549.0, 8520.6, 8597.9, 8564.8, 8547.4, 8525.0, 8550.0, 8492.0, 8519.8, 8515.9, 8533.7, 8526.2, 8635.5, 8644.0, 8528.3, 8516.0, 8483.8, 8486.5, 8503.2], \"low\": [8714.9, 8719.3, 8653.2, 8701.2, 8695.8, 8734.8, 8743.0, 8633.0, 8480.2, 8472.5, 8485.7, 8499.0, 8438.1, 8436.8, 8479.3, 8476.0, 8415.0, 8451.0, 8420.0, 8282.0, 8100.0, 8124.4, 8152.0, 8152.0, 8156.1, 8197.33, 8177.4, 8194.2, 8225.1, 8356.8, 8342.2, 8121.7, 8158.07, 8205.8, 8192.6, 8240.9, 8266.1, 8227.01, 8222.0, 8252.2, 8271.9, 8274.0, 8319.2, 8311.3, 8354.9, 8320.9, 8316.4, 8274.2, 8333.1, 8190.4, 8202.5, 8263.0, 8256.7, 8280.0, 8227.8, 8266.44, 8287.8, 8286.9, 8218.3, 8228.76, 8119.4, 8153.0, 8170.0, 8144.4, 7982.5, 7990.7, 7925.0, 7941.3, 7944.8, 7977.03, 7995.8, 7990.12, 7950.8, 7964.0, 8080.3, 8085.1, 8093.1, 8050.0, 8079.7, 8050.0, 8036.7, 8066.2, 8080.0, 8093.8, 8085.9, 8200.3, 8205.5, 8222.8, 8200.3, 8214.0, 8211.0, 8164.1, 8178.7, 8185.86, 8222.1, 8216.0, 8216.1, 8140.2, 8145.2, 8185.1, 8188.8, 8230.2, 8327.2, 8283.5, 8294.5, 8279.0, 8273.6, 8271.0, 8289.8, 8274.4, 8254.0, 8189.2, 8172.4, 8197.2, 8182.1, 8171.5, 8212.0, 8240.2, 8237.7, 8241.0, 8247.6, 8229.7, 8255.4, 8276.5, 8324.9, 8316.5, 8290.3, 8292.8, 8319.8, 8337.5, 8373.2, 8470.3, 8505.8, 8484.0, 8506.6, 8512.0, 8472.9, 8492.1, 8465.1, 8432.1, 8460.0, 8479.9, 8489.1, 8500.7, 8477.57, 8509.5, 8480.07, 8468.4, 8432.5, 8440.0, 8466.6], \"name\": \"Price\", \"open\": [8723.8, 8739.0, 8743.0, 8723.7, 8708.1, 8784.4, 8755.2, 8762.0, 8742.6, 8512.0, 8520.8, 8532.1, 8553.8, 8516.5, 8551.2, 8516.7, 8476.0, 8459.9, 8467.5, 8454.2, 8327.9, 8124.4, 8152.0, 8205.3, 8197.7, 8223.9, 8221.1, 8194.2, 8225.1, 8357.2, 8358.5, 8348.6, 8158.1, 8205.9, 8276.0, 8255.2, 8286.4, 8266.2, 8227.4, 8290.0, 8271.9, 8278.1, 8336.1, 8346.07, 8368.7, 8373.5, 8355.0, 8319.5, 8352.2, 8337.8, 8246.7, 8270.1, 8279.4, 8296.4, 8302.0, 8274.8, 8288.8, 8311.8, 8300.9, 8271.6, 8250.0, 8163.4, 8170.0, 8206.1, 8147.08, 8069.9, 8054.3, 7958.0, 7981.1, 7995.1, 7996.0, 8016.0, 8035.7, 7964.0, 8085.0, 8123.6, 8102.4, 8130.0, 8101.5, 8105.5, 8095.7, 8074.9, 8105.0, 8130.0, 8103.3, 8209.1, 8224.9, 8224.2, 8226.9, 8214.0, 8238.9, 8215.0, 8192.9, 8200.0, 8237.5, 8226.4, 8236.2, 8216.7, 8171.4, 8210.0, 8188.9, 8238.5, 8382.0, 8345.2, 8300.6, 8302.7, 8307.9, 8289.8, 8296.4, 8289.8, 8304.0, 8254.0, 8195.1, 8215.5, 8231.0, 8190.6, 8218.3, 8281.2, 8252.0, 8257.0, 8247.6, 8247.9, 8257.6, 8276.5, 8342.7, 8343.0, 8342.7, 8305.9, 8319.8, 8342.0, 8373.2, 8484.6, 8517.8, 8519.5, 8513.1, 8551.5, 8524.1, 8492.2, 8523.6, 8489.7, 8460.0, 8500.3, 8496.7, 8523.2, 8509.42, 8555.0, 8528.1, 8513.1, 8475.6, 8468.4, 8483.6], \"showlegend\": false, \"type\": \"candlestick\", \"uid\": \"be5690eb-1fb1-447f-bbe2-c87085671b48\", \"xaxis\": \"x\", \"yaxis\": \"y\"}, {\"marker\": {\"color\": \"DodgerBlue\"}, \"name\": \"Volume\", \"showlegend\": false, \"type\": \"bar\", \"uid\": \"5ce9108d-9052-4658-8ea9-4c5a42f7f751\", \"xaxis\": \"x2\", \"y\": [8988053.53, 2288904.12, 8891773.14, 2054868.28, 17309722.58, 5755257.93, 4406994.79, 16375559.14, 30884779.63, 13585970.87, 10472251.96, 8155202.96, 23290913.96, 12093565.11, 4843869.92, 3853166.53, 10032951.79, 3405881.75, 4240758.74, 16395261.35, 35444924.51, 8483096.75, 5883397.96, 8490665.11, 12865221.51, 4455698.32, 8168354.32, 5245383.3, 25717067.45, 10531322.67, 5479810.58, 24269108.57, 5457501.18, 15802905.65, 15226854.34, 22453283.24, 2340358.52, 6197892.42, 4343002.13, 4066149.47, 6783076.23, 6912962.07, 7878424.24, 5713233.04, 4875954.44, 18714875.92, 2581490.9, 7487354.53, 2795240.16, 15044687.38, 8332633.39, 3351047.32, 3576555.25, 4412616.65, 10318967.27, 3219867.82, 6528544.81, 2382210.39, 14537481.76, 4152516.31, 14783512.43, 5582076.74, 6338329.71, 4880828.76, 38371646.78, 7470965.86, 13753738.0, 7557856.78, 7570792.35, 5015084.5, 9380234.91, 4996646.68, 6179627.26, 23205279.31, 7010761.88, 4485979.41, 5708771.23, 7389891.81, 8258179.49, 6649750.04, 6531746.84, 5094499.16, 8542485.5, 4862989.56, 10479980.91, 22630523.07, 2287274.86, 2232387.29, 1645824.8, 2765733.43, 3205020.99, 3952721.71, 1140139.1, 7996865.15, 2889095.12, 1665538.5, 1151743.0, 9742621.25, 2324514.41, 2334663.76, 2927809.75, 10054408.73, 11994488.53, 10677166.64, 2714399.46, 9219522.04, 3947596.69, 2038591.51, 1794741.6, 3154886.12, 2134195.09, 5748652.0, 2924028.64, 3827287.69, 6168063.38, 2415201.32, 3497915.46, 2793383.07, 1063847.44, 1265013.21, 2593800.38, 975383.46, 3526062.84, 8391262.5, 10551816.42, 2410417.1, 4167090.12, 2402958.29, 3281445.66, 4790161.14, 32112292.21, 8414953.43, 4331045.83, 2377630.74, 9561521.09, 3326566.88, 5055280.71, 1759777.52, 4813504.98, 2737503.35, 3864542.95, 2585601.42, 2417391.2, 2733111.0, 10199547.48, 11618582.86, 3892092.62, 2831684.29, 5544414.73, 2628818.44, 3442683.24], \"yaxis\": \"y2\"}, {\"mode\": \"lines\", \"name\": \"bitfinex:/USD-BTC\", \"type\": \"scatter\", \"uid\": \"3e0fa295-9351-4c5a-b276-05cb885bc559\", \"xaxis\": \"x3\", \"y\": [8739.0, 8743.0, 8723.7, 8708.1, 8784.4, 8755.2, 8762.0, 8742.6, 8512.0, 8520.8, 8532.1, 8553.8, 8516.5, 8551.2, 8516.7, 8476.0, 8459.9, 8467.5, 8454.2, 8327.9, 8124.4, 8152.0, 8205.3, 8197.7, 8223.9, 8221.1, 8194.2, 8225.1, 8357.2, 8358.5, 8348.6, 8158.1, 8205.9, 8276.0, 8255.2, 8286.4, 8266.2, 8227.4, 8290.0, 8271.9, 8278.1, 8336.1, 8346.07, 8368.7, 8373.5, 8355.0, 8319.5, 8352.2, 8337.8, 8246.7, 8270.1, 8279.4, 8296.4, 8302.0, 8274.8, 8288.8, 8311.8, 8300.9, 8271.6, 8250.0, 8163.4, 8170.0, 8206.1, 8147.08, 8069.9, 8054.3, 7958.0, 7981.1, 7995.1, 7996.0, 8016.0, 8035.7, 7964.0, 8085.0, 8123.6, 8102.4, 8130.0, 8101.5, 8105.5, 8095.7, 8074.9, 8105.0, 8130.0, 8103.3, 8209.1, 8224.9, 8224.2, 8226.9, 8214.0, 8238.9, 8215.0, 8192.9, 8200.0, 8237.5, 8226.4, 8236.2, 8216.7, 8171.4, 8210.0, 8188.9, 8238.5, 8382.0, 8345.2, 8300.6, 8302.7, 8307.9, 8289.8, 8296.4, 8289.8, 8304.0, 8254.0, 8195.1, 8215.5, 8231.0, 8190.6, 8218.3, 8281.2, 8252.0, 8257.0, 8247.6, 8247.9, 8257.6, 8276.5, 8342.7, 8343.0, 8342.7, 8305.9, 8319.8, 8342.0, 8373.2, 8484.6, 8517.8, 8519.5, 8513.1, 8551.5, 8524.1, 8492.2, 8523.6, 8489.7, 8460.0, 8500.3, 8496.7, 8523.2, 8509.42, 8555.0, 8528.1, 8513.1, 8475.6, 8468.4, 8483.6, 8495.8], \"yaxis\": \"y3\"}, {\"mode\": \"lines\", \"name\": \"bitfinex:/USD:/free\", \"type\": \"scatter\", \"uid\": \"f151d270-20bc-4f9f-bdb2-6c20abb873e6\", \"xaxis\": \"x3\", \"y\": [10000.0, 5000.0, 5000.0, 5000.0, 2500.0, 2500.0, 1250.0, 1250.0, 1250.0, 9728.01, 9728.01, 4864.0, 4864.0, 2432.0, 2432.0, 2432.0, 2432.0, 1216.0, 1216.0, 1216.0, 8299.05, 5310.31, 2655.15, 2655.15, 1327.57, 1327.57, 1327.57, 663.79, 331.9, 4574.75, 7953.88, 7953.88, 3976.94, 1988.47, 1988.47, 1988.47, 1988.47, 1988.47, 1988.47, 1590.78, 1590.78, 1590.78, 5630.15, 5630.15, 6977.31, 8994.23, 8994.23, 8994.23, 8994.23, 8994.23, 8994.23, 8994.23, 8994.23, 8994.23, 8994.23, 8994.23, 8994.23, 8994.23, 8994.23, 8994.23, 8994.23, 8994.23, 8994.23, 5396.54, 5396.54, 5396.54, 4640.28, 2699.62, 1349.81, 674.91, 337.46, 101.24, 50.62, 25.31, 12.66, 2392.55, 1196.27, 1196.27, 598.14, 598.14, 598.14, 598.14, 598.14, 598.14, 598.14, 2373.96, 3064.1, 3064.1, 3064.1, 3064.1, 3064.1, 3064.1, 3064.1, 3064.1, 3064.1, 3064.1, 3064.1, 3064.1, 3064.1, 3064.1, 3064.1, 3064.1, 6962.41, 9298.75, 9311.66, 9920.98, 9920.98, 9920.98, 9920.98, 4960.49, 4960.49, 4960.49, 4960.49, 4960.49, 4960.49, 4960.49, 4960.49, 4960.49, 2480.25, 1240.13, 620.06, 310.03, 155.02, 77.51, 62.01, 62.01, 62.01, 62.01, 62.01, 62.01, 62.01, 3389.26, 4740.18, 9807.58, 9807.58, 10127.1, 10127.1, 10127.1, 10127.1, 10127.1, 10127.1, 10127.1, 10127.1, 10127.1, 10127.1, 10127.1, 10127.1, 10127.1, 6076.26, 3038.13, 1519.06], \"yaxis\": \"y3\"}, {\"mode\": \"lines\", \"name\": \"bitfinex:/USD:/locked\", \"type\": \"scatter\", \"uid\": \"44aadd7f-fc29-4cef-a13e-32b972b5c765\", \"xaxis\": \"x3\", \"y\": [0.0, 0.0, 34867.08, 55741.15, 55741.15, 68352.74, 68352.74, 75900.4, 80418.97, 83718.51, 84379.1, 84379.1, 85440.14, 85440.14, 85758.35, 86011.89, 86213.76, 86213.76, 86375.09, 86503.95, 34608.26, 9373.61, 1825.95, 18667.91, 18667.91, 32172.02, 59171.04, 59171.04, 59171.04, 46334.71, 53197.27, 56624.49, 55963.9, 55963.9, 57995.67, 58401.0, 59051.98, 59441.62, 59557.96, 59557.96, 59651.54, 59651.54, 59651.54, 59651.54, 57793.75, 57884.69, 57884.69, 57884.69, 57884.69, 57884.69, 57884.69, 57884.69, 57884.69, 57884.69, 57884.69, 57884.69, 57884.69, 57884.69, 57884.69, 57884.69, 57884.69, 57884.69, 57884.69, 57884.69, 57884.69, 57723.36, 57594.5, 56922.94, 56578.46, 56578.46, 56578.46, 56578.46, 56578.46, 56476.91, 56476.91, 56788.09, 56788.09, 57037.23, 57037.23, 57235.94, 57394.72, 57521.41, 57623.14, 57704.78, 57704.78, 57704.78, 57836.93, 57836.93, 57836.93, 57836.93, 57712.76, 57712.76, 57712.76, 57712.76, 57712.76, 57712.76, 57712.76, 57712.76, 57712.76, 57712.76, 57712.76, 57712.76, 56879.01, 56724.98, 56645.02, 56645.02, 56645.02, 56645.02, 56645.02, 56645.02, 56645.02, 56645.02, 56645.02, 56645.02, 56645.02, 56645.02, 56645.02, 56645.02, 56645.02, 56645.02, 56645.02, 56645.02, 56645.02, 56645.02, 56645.02, 56645.02, 56645.02, 56645.02, 56645.02, 56645.02, 56645.02, 22591.55, 9069.67, 2336.8, 1958.46, 1958.46, 1958.46, 1958.46, 1958.46, 1958.46, 1958.46, 1958.46, 1958.46, 1958.46, 1958.46, 1958.46, 2122.88, 2122.88, 2122.88, 2122.88, 2122.88], \"yaxis\": \"y3\"}, {\"mode\": \"lines\", \"name\": \"bitfinex:/USD:/total\", \"type\": \"scatter\", \"uid\": \"18c61f0d-5270-439e-80cd-523e136dd11a\", \"xaxis\": \"x3\", \"y\": [10000.0, 5000.0, 39867.08, 60741.15, 58241.15, 70852.74, 69602.74, 77150.4, 81668.97, 93446.52, 94107.11, 89243.1, 90304.14, 87872.14, 88190.35, 88443.89, 88645.76, 87429.76, 87591.09, 87719.95, 42907.31, 14683.92, 4481.1, 21323.06, 19995.48, 33499.59, 60498.61, 59834.83, 59502.94, 50909.46, 61151.15, 64578.37, 59940.84, 57952.37, 59984.14, 60389.47, 61040.45, 61430.09, 61546.43, 61148.74, 61242.32, 61242.32, 65281.69, 65281.69, 64771.06, 66878.92, 66878.92, 66878.92, 66878.92, 66878.92, 66878.92, 66878.92, 66878.92, 66878.92, 66878.92, 66878.92, 66878.92, 66878.92, 66878.92, 66878.92, 66878.92, 66878.92, 66878.92, 63281.23, 63281.23, 63119.9, 62234.78, 59622.56, 57928.27, 57253.37, 56915.92, 56679.7, 56629.08, 56502.22, 56489.57, 59180.64, 57984.36, 58233.5, 57635.37, 57834.08, 57992.86, 58119.55, 58221.28, 58302.92, 58302.92, 60078.74, 60901.03, 60901.03, 60901.03, 60901.03, 60776.86, 60776.86, 60776.86, 60776.86, 60776.86, 60776.86, 60776.86, 60776.86, 60776.86, 60776.86, 60776.86, 60776.86, 63841.42, 66023.73, 65956.68, 66566.0, 66566.0, 66566.0, 66566.0, 61605.51, 61605.51, 61605.51, 61605.51, 61605.51, 61605.51, 61605.51, 61605.51, 61605.51, 59125.27, 57885.15, 57265.08, 56955.05, 56800.04, 56722.53, 56707.03, 56707.03, 56707.03, 56707.03, 56707.03, 56707.03, 56707.03, 25980.81, 13809.85, 12144.38, 11766.04, 12085.56, 12085.56, 12085.56, 12085.56, 12085.56, 12085.56, 12085.56, 12085.56, 12085.56, 12085.56, 12085.56, 12249.98, 12249.98, 8199.14, 5161.01, 3641.94], \"yaxis\": \"y3\"}, {\"mode\": \"lines\", \"name\": \"bitfinex:/BTC:/free\", \"type\": \"scatter\", \"uid\": \"89e35d7a-6159-4e93-9f8a-fcf29279fad7\", \"xaxis\": \"x3\", \"y\": [10.0, 10.0, 6.0, 3.6, 3.6, 2.16, 2.16, 1.296, 0.7776, 0.3888, 0.31104, 0.31104, 0.186624, 0.186624, 0.1492992, 0.11943936, 0.09555149, 0.09555149, 0.07644119, 0.06115295, 6.27393106, 9.37064589, 10.2937347, 8.23498776, 8.23498776, 6.58799021, 3.2939951, 3.2939951, 3.2939951, 1.64699755, 0.82349877, 0.41174938, 0.49248019, 0.49248019, 0.2462401, 0.19699208, 0.11819525, 0.07091715, 0.05673372, 0.05673372, 0.04538698, 0.04538698, 0.04538698, 0.04538698, 0.02723219, 0.01633931, 0.01633931, 0.01633931, 0.01633931, 0.01633931, 0.01633931, 0.01633931, 0.01633931, 0.01633931, 0.01633931, 0.01633931, 0.01633931, 0.01633931, 0.01633931, 0.01633931, 0.01633931, 0.01633931, 0.01633931, 0.01633931, 0.01633931, 0.0362714, 0.05222189, 0.13635735, 0.17939027, 0.17939027, 0.17939027, 0.17939027, 0.17939027, 0.19210373, 0.19210373, 0.15368298, 0.15368298, 0.12294638, 0.12294638, 0.0983571, 0.07868568, 0.06294854, 0.05035883, 0.04028706, 0.04028706, 0.04028706, 0.02417224, 0.02417224, 0.02417224, 0.02417224, 0.02417224, 0.02417224, 0.02417224, 0.02417224, 0.02417224, 0.02417224, 0.02417224, 0.02417224, 0.02417224, 0.02417224, 0.02417224, 0.02417224, 0.02417224, 0.02417224, 0.02417224, 0.02417224, 0.02417224, 0.02417224, 0.02417224, 0.02417224, 0.02417224, 0.02417224, 0.02417224, 0.02417224, 0.02417224, 0.02417224, 0.02417224, 0.02417224, 0.02417224, 0.02417224, 0.02417224, 0.02417224, 0.02417224, 0.02417224, 0.02417224, 0.02417224, 0.02417224, 0.02417224, 0.02417224, 0.02417224, 0.02417224, 0.02417224, 0.02417224, 0.02417224, 0.02417224, 0.02417224, 0.02417224, 0.02417224, 0.02417224, 0.02417224, 0.02417224, 0.02417224, 0.02417224, 0.02417224, 0.02417224, 0.02417224, 0.00483445, 0.00483445, 0.00483445, 0.00483445, 0.00483445], \"yaxis\": \"y3\"}, {\"mode\": \"lines\", \"name\": \"bitfinex:/BTC:/locked\", \"type\": \"scatter\", \"uid\": \"9f6eac37-950d-42bd-960c-9739c8f15114\", \"xaxis\": \"x3\", \"y\": [0.0, 0.5704314, 0.5704314, 0.5704314, 0.85665916, 0.85665916, 0.99900314, 0.99900314, 0.99900314, 0.0, 0.0, 0.56837355, 0.56837355, 0.85307971, 0.85307971, 0.85307971, 0.85307971, 0.99638519, 0.99638519, 0.99638519, 0.14330548, 0.50921545, 0.83394435, 0.83394435, 0.99540427, 0.99540427, 0.99540427, 1.07616749, 1.11639679, 3.7756648, 3.37017268, 3.37017268, 3.85619393, 4.09778839, 4.09778839, 4.09778839, 4.09778839, 4.09778839, 4.09778839, 4.1456171, 4.1456171, 4.1456171, 3.65959585, 3.65959585, 3.73750883, 3.49591437, 3.49591437, 3.49591437, 3.49591437, 3.49591437, 3.49591437, 3.49591437, 3.49591437, 3.49591437, 3.49591437, 3.49591437, 3.49591437, 3.49591437, 3.49591437, 3.49591437, 3.49591437, 3.49591437, 3.49591437, 3.93301604, 3.93301604, 3.93301604, 4.02638867, 4.2692335, 4.43785186, 4.52201341, 4.56408945, 4.59346944, 4.59975016, 4.60291817, 4.60447785, 4.3106363, 4.45783836, 4.45783836, 4.53144695, 4.53144695, 4.53144695, 4.53144695, 4.53144695, 4.53144695, 4.53144695, 4.31447183, 4.23031028, 4.23031028, 4.23031028, 4.23031028, 4.24533656, 4.24533656, 4.24533656, 4.24533656, 4.24533656, 4.24533656, 4.24533656, 4.24533656, 4.24533656, 4.24533656, 4.24533656, 4.24533656, 3.87802574, 3.61562395, 3.6236684, 3.55005981, 3.55005981, 3.55005981, 3.55005981, 4.1466496, 4.1466496, 4.1466496, 4.1466496, 4.1466496, 4.1466496, 4.1466496, 4.1466496, 4.1466496, 4.44631029, 4.5960499, 4.67100625, 4.70848246, 4.72719734, 4.73653462, 4.73838654, 4.73838654, 4.73838654, 4.73838654, 4.73838654, 4.73838654, 4.73838654, 8.34657621, 9.77022256, 9.96155108, 10.00585926, 9.96838305, 9.96838305, 9.96838305, 9.96838305, 9.96838305, 9.96838305, 9.96838305, 9.96838305, 9.96838305, 9.96838305, 9.96838305, 9.96838305, 9.96838305, 10.44489091, 10.80257595, 10.98109804], \"yaxis\": \"y3\"}, {\"mode\": \"lines\", \"name\": \"bitfinex:/BTC:/total\", \"type\": \"scatter\", \"uid\": \"84533d1b-dfe4-4b7c-9a54-d1bca7484577\", \"xaxis\": \"x3\", \"y\": [10.0, 10.5704314, 6.5704314, 4.1704314, 4.45665916, 3.01665916, 3.15900314, 2.29500314, 1.77660314, 0.3888, 0.31104, 0.87941355, 0.75499755, 1.03970371, 1.00237891, 0.97251907, 0.9486312, 1.09193668, 1.07282638, 1.05753814, 6.41723654, 9.87986134, 11.12767905, 9.06893211, 9.23039203, 7.58339448, 4.28939937, 4.37016259, 4.41039189, 5.42266235, 4.19367145, 3.78192206, 4.34867412, 4.59026858, 4.34402849, 4.29478047, 4.21598364, 4.16870554, 4.15452211, 4.20235082, 4.19100408, 4.19100408, 3.70498283, 3.70498283, 3.76474102, 3.51225368, 3.51225368, 3.51225368, 3.51225368, 3.51225368, 3.51225368, 3.51225368, 3.51225368, 3.51225368, 3.51225368, 3.51225368, 3.51225368, 3.51225368, 3.51225368, 3.51225368, 3.51225368, 3.51225368, 3.51225368, 3.94935535, 3.94935535, 3.96928744, 4.07861056, 4.40559085, 4.61724213, 4.70140368, 4.74347972, 4.77285971, 4.77914043, 4.7950219, 4.79658158, 4.46431928, 4.61152134, 4.58078474, 4.65439333, 4.62980405, 4.61013263, 4.59439549, 4.58180578, 4.57173401, 4.57173401, 4.35475889, 4.25448252, 4.25448252, 4.25448252, 4.25448252, 4.2695088, 4.2695088, 4.2695088, 4.2695088, 4.2695088, 4.2695088, 4.2695088, 4.2695088, 4.2695088, 4.2695088, 4.2695088, 4.2695088, 3.90219798, 3.63979619, 3.64784064, 3.57423205, 3.57423205, 3.57423205, 3.57423205, 4.17082184, 4.17082184, 4.17082184, 4.17082184, 4.17082184, 4.17082184, 4.17082184, 4.17082184, 4.17082184, 4.47048253, 4.62022214, 4.69517849, 4.7326547, 4.75136958, 4.76070686, 4.76255878, 4.76255878, 4.76255878, 4.76255878, 4.76255878, 4.76255878, 4.76255878, 8.37074845, 9.7943948, 9.98572332, 10.0300315, 9.99255529, 9.99255529, 9.99255529, 9.99255529, 9.99255529, 9.99255529, 9.99255529, 9.99255529, 9.99255529, 9.99255529, 9.99255529, 9.9732175, 9.9732175, 10.44972536, 10.8074104, 10.98593249], \"yaxis\": \"y3\"}, {\"mode\": \"lines\", \"name\": \"bitfinex:/BTC:/worth\", \"type\": \"scatter\", \"uid\": \"1c8adcbc-2465-4e55-9c69-d7fc2291196b\", \"xaxis\": \"x3\", \"y\": [87390.0, 92417.2817302, 57318.47240418001, 36316.533674340004, 39149.076725104, 26411.454277632005, 27679.18551268, 20064.294451764, 15122.445927679999, 3312.8870399999996, 2653.824384, 7522.32762399, 6429.936634575, 8890.714364952, 8536.960462797, 8243.071637320001, 8025.325088879999, 9245.973837900001, 9069.888781796, 8807.071876105998, 52136.196545576, 80540.62964368, 91305.94490896499, 74344.384758147, 75909.82101551701, 62343.844359528004, 35148.196317654, 35945.024319009, 36858.527103108, 45325.323252475006, 35011.28546747, 30853.298357686, 35684.784961307996, 37989.06276808, 35860.82399064801, 35588.268886608, 34850.16396496801, 34297.607959796005, 34440.9882919, 34761.425747958005, 34693.550874648, 34936.629111288, 30922.0460479781, 31005.889809421, 31524.05893097, 29344.8794964, 29220.19449076, 29335.045186096006, 29284.468733104, 28964.502422856003, 29046.689158968, 29079.353118192, 29139.061430752, 29158.730051360002, 29063.196751264, 29112.368302783998, 29193.150137424, 29154.866572312, 29051.957539488, 28976.09286, 28671.931691312, 28695.1125656, 28821.904923448, 32175.713984878, 31870.902738964996, 31969.831827992002, 32457.582836480004, 35161.461132935, 36915.312553563, 37592.423825280006, 38023.73343552, 38353.268771646995, 38061.07438452, 38767.7520615, 38965.510123288, 36171.70053427199, 37491.66849420001, 37111.22757111, 37726.185136315005, 37481.504647584996, 37226.359973987, 37237.57544645, 37250.0809914, 37046.132203233, 37529.821661491005, 35817.456394361, 34989.715140984, 35001.202243788, 34946.31941928, 35052.256034027996, 35074.014791999994, 34979.658647519995, 35009.97216, 35170.07874, 35122.687192319994, 35164.52837856, 35081.27295696, 34887.864208319996, 35052.667248, 34962.580612319995, 35174.34824879999, 35787.0227616, 32564.622582696004, 30212.492254714, 30286.926481728, 29694.362448195, 29629.668848089997, 29653.25877962, 29629.668848089997, 34634.50455936, 34425.96346736, 34180.302060984, 34265.38682652, 34330.034565040005, 34161.533362704, 34277.065127672, 34539.40982140801, 34417.621823680005, 36912.77425021, 38105.744121864, 38725.362667671, 39080.369450720005, 39324.71032887, 39717.149120922004, 39734.02790154, 39732.599133906006, 39557.336970801996, 39623.536537844, 39729.26534276, 39877.857176696, 40408.406224788, 71300.36114741, 83443.34649859999, 85009.461195492, 85771.81437225, 85177.540547489, 84858.77803373801, 85172.544269844, 84833.79664551301, 84537.0177534, 84939.71773158699, 84903.74453254302, 85168.54724772801, 85030.8498358318, 85486.31050595001, 85217.51076864901, 84902.99789925001, 84529.00224300001, 88492.454238624, 91685.74686944, 93334.28524854199], \"yaxis\": \"y3\"}, {\"mode\": \"lines\", \"name\": \"net_worth\", \"type\": \"scatter\", \"uid\": \"2dc2075a-de83-4e22-9001-14c4f33b0696\", \"xaxis\": \"x3\", \"y\": [97390.0, 97417.2817302, 97185.55240418001, 97057.68367434, 97390.226725104, 97264.194277632, 97281.92551268, 97214.694451764, 96791.41592768, 96759.40704, 96760.93438400001, 96765.42762399, 96734.076634575, 96762.854364952, 96727.310462797, 96686.96163732, 96671.08508887999, 96675.7338379, 96660.978781796, 96527.021876106, 95043.506545576, 95224.54964368, 95787.04490896499, 95667.444758147, 95905.301015517, 95843.43435952801, 95646.806317654, 95779.854319009, 96361.467103108, 96234.783252475, 96162.43546747, 95431.668357686, 95625.624961308, 95941.43276808, 95844.96399064802, 95977.738886608, 95890.61396496801, 95727.697959796, 95987.4182919, 95910.165747958, 95935.870874648, 96178.949111288, 96203.7360479781, 96287.579809421, 96295.11893097, 96223.7994964, 96099.11449076, 96213.965186096, 96163.388733104, 95843.422422856, 95925.609158968, 95958.273118192, 96017.981430752, 96037.65005136, 95942.116751264, 95991.288302784, 96072.070137424, 96033.786572312, 95930.87753948799, 95855.01286, 95550.851691312, 95574.0325656, 95700.824923448, 95456.943984878, 95152.132738965, 95089.731827992, 94692.36283648, 94784.021132935, 94843.582553563, 94845.79382528001, 94939.65343552, 95032.96877164699, 94690.15438451999, 95269.97206150001, 95455.080123288, 95352.34053427199, 95476.0284942, 95344.72757111001, 95361.555136315, 95315.584647585, 95219.219973987, 95357.12544645, 95471.3609914, 95349.052203233, 95832.741661491, 95896.196394361, 95890.745140984, 95902.23224378799, 95847.34941928, 95953.28603402799, 95850.87479199999, 95756.51864751999, 95786.83215999999, 95946.93874, 95899.54719232, 95941.38837855999, 95858.13295696, 95664.72420832, 95829.527248, 95739.44061232, 95951.20824879999, 96563.88276159999, 96406.042582696, 96236.222254714, 96243.606481728, 96260.362448195, 96195.66884808999, 96219.25877962, 96195.66884808999, 96240.01455936, 96031.47346736, 95785.812060984, 95870.89682652001, 95935.54456504, 95767.043362704, 95882.575127672, 96144.91982140801, 96023.13182368001, 96038.04425020999, 95990.894121864, 95990.442667671, 96035.41945072002, 96124.75032887, 96439.679120922, 96441.05790154, 96439.62913390601, 96264.36697080199, 96330.56653784399, 96436.29534276, 96584.88717669601, 97115.43622478799, 97281.17114741, 97253.1964986, 97153.841195492, 97537.85437225, 97263.100547489, 96944.33803373801, 97258.104269844, 96919.356645513, 96622.5777534, 97025.27773158699, 96989.30453254301, 97254.10724772801, 97116.4098358318, 97571.87050595, 97303.070768649, 97152.97789925, 96778.982243, 96691.594238624, 96846.75686944, 96976.22524854199], \"yaxis\": \"y3\"}, {\"marker\": {\"color\": \"DarkGreen\"}, \"mode\": \"lines\", \"name\": \"Net Worth\", \"type\": \"scatter\", \"uid\": \"d9691fd2-f666-4ad6-9d95-37178101d890\", \"xaxis\": \"x4\", \"y\": [97390.0, 97417.2817302, 97185.55240418001, 97057.68367434, 97390.226725104, 97264.194277632, 97281.92551268, 97214.694451764, 96791.41592768, 96759.40704, 96760.93438400001, 96765.42762399, 96734.076634575, 96762.854364952, 96727.310462797, 96686.96163732, 96671.08508887999, 96675.7338379, 96660.978781796, 96527.021876106, 95043.506545576, 95224.54964368, 95787.04490896499, 95667.444758147, 95905.301015517, 95843.43435952801, 95646.806317654, 95779.854319009, 96361.467103108, 96234.783252475, 96162.43546747, 95431.668357686, 95625.624961308, 95941.43276808, 95844.96399064802, 95977.738886608, 95890.61396496801, 95727.697959796, 95987.4182919, 95910.165747958, 95935.870874648, 96178.949111288, 96203.7360479781, 96287.579809421, 96295.11893097, 96223.7994964, 96099.11449076, 96213.965186096, 96163.388733104, 95843.422422856, 95925.609158968, 95958.273118192, 96017.981430752, 96037.65005136, 95942.116751264, 95991.288302784, 96072.070137424, 96033.786572312, 95930.87753948799, 95855.01286, 95550.851691312, 95574.0325656, 95700.824923448, 95456.943984878, 95152.132738965, 95089.731827992, 94692.36283648, 94784.021132935, 94843.582553563, 94845.79382528001, 94939.65343552, 95032.96877164699, 94690.15438451999, 95269.97206150001, 95455.080123288, 95352.34053427199, 95476.0284942, 95344.72757111001, 95361.555136315, 95315.584647585, 95219.219973987, 95357.12544645, 95471.3609914, 95349.052203233, 95832.741661491, 95896.196394361, 95890.745140984, 95902.23224378799, 95847.34941928, 95953.28603402799, 95850.87479199999, 95756.51864751999, 95786.83215999999, 95946.93874, 95899.54719232, 95941.38837855999, 95858.13295696, 95664.72420832, 95829.527248, 95739.44061232, 95951.20824879999, 96563.88276159999, 96406.042582696, 96236.222254714, 96243.606481728, 96260.362448195, 96195.66884808999, 96219.25877962, 96195.66884808999, 96240.01455936, 96031.47346736, 95785.812060984, 95870.89682652001, 95935.54456504, 95767.043362704, 95882.575127672, 96144.91982140801, 96023.13182368001, 96038.04425020999, 95990.894121864, 95990.442667671, 96035.41945072002, 96124.75032887, 96439.679120922, 96441.05790154, 96439.62913390601, 96264.36697080199, 96330.56653784399, 96436.29534276, 96584.88717669601, 97115.43622478799, 97281.17114741, 97253.1964986, 97153.841195492, 97537.85437225, 97263.100547489, 96944.33803373801, 97258.104269844, 96919.356645513, 96622.5777534, 97025.27773158699, 96989.30453254301, 97254.10724772801, 97116.4098358318, 97571.87050595, 97303.070768649, 97152.97789925, 96778.982243, 96691.594238624, 96846.75686944, 96976.22524854199], \"yaxis\": \"y4\"}],                        {\"annotations\": [{\"arrowcolor\": \"FireBrick\", \"arrowhead\": 2, \"arrowsize\": 0.8, \"arrowwidth\": 4, \"ax\": 0, \"ay\": -15, \"hoverlabel\": {\"bgcolor\": \"FireBrick\"}, \"hovertext\": \"Step 45 [2018-05-17 02:00:00]<br>SELL 0.0108602 BTC @ 8373.5 USD MARKET<br>Total: 90.94 USD - Comm.: 0.00003268 BTC\", \"opacity\": 0.6, \"showarrow\": true, \"x\": 44, \"xref\": \"x\", \"y\": 8373.5, \"yref\": \"y\"}, {\"arrowcolor\": \"FireBrick\", \"arrowhead\": 2, \"arrowsize\": 0.8, \"arrowwidth\": 4, \"ax\": 0, \"ay\": -15, \"hoverlabel\": {\"bgcolor\": \"FireBrick\"}, \"hovertext\": \"Step 45 [2018-05-17 02:00:00]<br>SELL 0.24086968 BTC @ 8373.5 USD MARKET<br>Total: 2016.92 USD - Comm.: 0.00072478 BTC\", \"opacity\": 0.6, \"showarrow\": true, \"x\": 44, \"xref\": \"x\", \"y\": 8373.5, \"yref\": \"y\"}, {\"arrowcolor\": \"FireBrick\", \"arrowhead\": 2, \"arrowsize\": 0.8, \"arrowwidth\": 4, \"ax\": 0, \"ay\": -15, \"hoverlabel\": {\"bgcolor\": \"FireBrick\"}, \"hovertext\": \"Step 44 [2018-05-17 01:00:00]<br>SELL 0.01810033 BTC @ 8368.7 USD MARKET<br>Total: 151.48 USD - Comm.: 0.00005446 BTC\", \"opacity\": 0.6, \"showarrow\": true, \"x\": 43, \"xref\": \"x\", \"y\": 8368.7, \"yref\": \"y\"}, {\"arrowcolor\": \"DarkGreen\", \"arrowhead\": 2, \"arrowsize\": 0.8, \"arrowwidth\": 4, \"ax\": 0, \"ay\": 15, \"hoverlabel\": {\"bgcolor\": \"DarkGreen\"}, \"hovertext\": \"Step 44 [2018-05-17 01:00:00]<br>BUY 0.2393729 BTC @ 8368.7 USD MARKET<br>Total: 2003.24 USD - Comm.: 6.03 USD\", \"opacity\": 0.6, \"showarrow\": true, \"x\": 43, \"xref\": \"x\", \"y\": 8368.7, \"yref\": \"y\"}, {\"arrowcolor\": \"FireBrick\", \"arrowhead\": 2, \"arrowsize\": 0.8, \"arrowwidth\": 4, \"ax\": 0, \"ay\": -15, \"hoverlabel\": {\"bgcolor\": \"FireBrick\"}, \"hovertext\": \"Step 44 [2018-05-17 01:00:00]<br>SELL 0.16097554 BTC @ 8368.7 USD MARKET<br>Total: 1347.16 USD - Comm.: 0.00048438 BTC\", \"opacity\": 0.6, \"showarrow\": true, \"x\": 43, \"xref\": \"x\", \"y\": 8368.7, \"yref\": \"y\"}, {\"arrowcolor\": \"FireBrick\", \"arrowhead\": 2, \"arrowsize\": 0.8, \"arrowwidth\": 4, \"ax\": 0, \"ay\": -15, \"hoverlabel\": {\"bgcolor\": \"FireBrick\"}, \"hovertext\": \"Step 42 [2018-05-16 23:00:00]<br>SELL 0.48456319 BTC @ 8336.1 USD MARKET<br>Total: 4039.37 USD - Comm.: 0.00145806 BTC\", \"opacity\": 0.6, \"showarrow\": true, \"x\": 41, \"xref\": \"x\", \"y\": 8336.1, \"yref\": \"y\"}, {\"arrowcolor\": \"FireBrick\", \"arrowhead\": 2, \"arrowsize\": 0.8, \"arrowwidth\": 4, \"ax\": 0, \"ay\": -15, \"hoverlabel\": {\"bgcolor\": \"FireBrick\"}, \"hovertext\": \"Step 40 [2018-05-16 21:00:00]<br>SELL 0.0113127 BTC @ 8271.9 USD MARKET<br>Total: 93.58 USD - Comm.: 0.00003404 BTC\", \"opacity\": 0.6, \"showarrow\": true, \"x\": 39, \"xref\": \"x\", \"y\": 8271.9, \"yref\": \"y\"}, {\"arrowcolor\": \"DarkGreen\", \"arrowhead\": 2, \"arrowsize\": 0.8, \"arrowwidth\": 4, \"ax\": 0, \"ay\": 15, \"hoverlabel\": {\"bgcolor\": \"DarkGreen\"}, \"hovertext\": \"Step 39 [2018-05-16 20:00:00]<br>BUY 0.04782871 BTC @ 8290.0 USD MARKET<br>Total: 396.5 USD - Comm.: 1.19 USD\", \"opacity\": 0.6, \"showarrow\": true, \"x\": 38, \"xref\": \"x\", \"y\": 8290.0, \"yref\": \"y\"}, {\"arrowcolor\": \"FireBrick\", \"arrowhead\": 2, \"arrowsize\": 0.8, \"arrowwidth\": 4, \"ax\": 0, \"ay\": -15, \"hoverlabel\": {\"bgcolor\": \"FireBrick\"}, \"hovertext\": \"Step 38 [2018-05-16 19:00:00]<br>SELL 0.01414088 BTC @ 8227.4 USD MARKET<br>Total: 116.34 USD - Comm.: 0.00004255 BTC\", \"opacity\": 0.6, \"showarrow\": true, \"x\": 37, \"xref\": \"x\", \"y\": 8227.4, \"yref\": \"y\"}, {\"arrowcolor\": \"FireBrick\", \"arrowhead\": 2, \"arrowsize\": 0.8, \"arrowwidth\": 4, \"ax\": 0, \"ay\": -15, \"hoverlabel\": {\"bgcolor\": \"FireBrick\"}, \"hovertext\": \"Step 37 [2018-05-16 18:00:00]<br>SELL 0.04713627 BTC @ 8266.2 USD MARKET<br>Total: 389.64 USD - Comm.: 0.00014183 BTC\", \"opacity\": 0.6, \"showarrow\": true, \"x\": 36, \"xref\": \"x\", \"y\": 8266.2, \"yref\": \"y\"}, {\"arrowcolor\": \"FireBrick\", \"arrowhead\": 2, \"arrowsize\": 0.8, \"arrowwidth\": 4, \"ax\": 0, \"ay\": -15, \"hoverlabel\": {\"bgcolor\": \"FireBrick\"}, \"hovertext\": \"Step 36 [2018-05-16 17:00:00]<br>SELL 0.07856044 BTC @ 8286.4 USD MARKET<br>Total: 650.98 USD - Comm.: 0.00023639 BTC\", \"opacity\": 0.6, \"showarrow\": true, \"x\": 35, \"xref\": \"x\", \"y\": 8286.4, \"yref\": \"y\"}, {\"arrowcolor\": \"FireBrick\", \"arrowhead\": 2, \"arrowsize\": 0.8, \"arrowwidth\": 4, \"ax\": 0, \"ay\": -15, \"hoverlabel\": {\"bgcolor\": \"FireBrick\"}, \"hovertext\": \"Step 35 [2018-05-16 16:00:00]<br>SELL 0.04910028 BTC @ 8255.2 USD MARKET<br>Total: 405.33 USD - Comm.: 0.00014774 BTC\", \"opacity\": 0.6, \"showarrow\": true, \"x\": 34, \"xref\": \"x\", \"y\": 8255.2, \"yref\": \"y\"}, {\"arrowcolor\": \"FireBrick\", \"arrowhead\": 2, \"arrowsize\": 0.8, \"arrowwidth\": 4, \"ax\": 0, \"ay\": -15, \"hoverlabel\": {\"bgcolor\": \"FireBrick\"}, \"hovertext\": \"Step 34 [2018-05-16 15:00:00]<br>SELL 0.24550137 BTC @ 8276.0 USD MARKET<br>Total: 2031.77 USD - Comm.: 0.00073872 BTC\", \"opacity\": 0.6, \"showarrow\": true, \"x\": 33, \"xref\": \"x\", \"y\": 8276.0, \"yref\": \"y\"}, {\"arrowcolor\": \"DarkGreen\", \"arrowhead\": 2, \"arrowsize\": 0.8, \"arrowwidth\": 4, \"ax\": 0, \"ay\": 15, \"hoverlabel\": {\"bgcolor\": \"DarkGreen\"}, \"hovertext\": \"Step 33 [2018-05-16 14:00:00]<br>BUY 0.24159446 BTC @ 8205.9 USD MARKET<br>Total: 1982.5 USD - Comm.: 5.97 USD\", \"opacity\": 0.6, \"showarrow\": true, \"x\": 32, \"xref\": \"x\", \"y\": 8205.9, \"yref\": \"y\"}, {\"arrowcolor\": \"DarkGreen\", \"arrowhead\": 2, \"arrowsize\": 0.8, \"arrowwidth\": 4, \"ax\": 0, \"ay\": 15, \"hoverlabel\": {\"bgcolor\": \"DarkGreen\"}, \"hovertext\": \"Step 32 [2018-05-16 13:00:00]<br>BUY 0.48602125 BTC @ 8158.1 USD MARKET<br>Total: 3965.01 USD - Comm.: 11.93 USD\", \"opacity\": 0.6, \"showarrow\": true, \"x\": 31, \"xref\": \"x\", \"y\": 8158.1, \"yref\": \"y\"}, {\"arrowcolor\": \"DarkGreen\", \"arrowhead\": 2, \"arrowsize\": 0.8, \"arrowwidth\": 4, \"ax\": 0, \"ay\": 15, \"hoverlabel\": {\"bgcolor\": \"DarkGreen\"}, \"hovertext\": \"Step 32 [2018-05-16 13:00:00]<br>BUY 0.08073081 BTC @ 8158.1 USD MARKET<br>Total: 658.61 USD - Comm.: 1.98 USD\", \"opacity\": 0.6, \"showarrow\": true, \"x\": 31, \"xref\": \"x\", \"y\": 8158.1, \"yref\": \"y\"}, {\"arrowcolor\": \"FireBrick\", \"arrowhead\": 2, \"arrowsize\": 0.8, \"arrowwidth\": 4, \"ax\": 0, \"ay\": -15, \"hoverlabel\": {\"bgcolor\": \"FireBrick\"}, \"hovertext\": \"Step 31 [2018-05-16 12:00:00]<br>SELL 0.41051414 BTC @ 8348.6 USD MARKET<br>Total: 3427.22 USD - Comm.: 0.00123525 BTC\", \"opacity\": 0.6, \"showarrow\": true, \"x\": 30, \"xref\": \"x\", \"y\": 8348.6, \"yref\": \"y\"}, {\"arrowcolor\": \"FireBrick\", \"arrowhead\": 2, \"arrowsize\": 0.8, \"arrowwidth\": 4, \"ax\": 0, \"ay\": -15, \"hoverlabel\": {\"bgcolor\": \"FireBrick\"}, \"hovertext\": \"Step 30 [2018-05-16 11:00:00]<br>SELL 0.82102828 BTC @ 8358.5 USD MARKET<br>Total: 6862.56 USD - Comm.: 0.00247050 BTC\", \"opacity\": 0.6, \"showarrow\": true, \"x\": 29, \"xref\": \"x\", \"y\": 8358.5, \"yref\": \"y\"}, {\"arrowcolor\": \"FireBrick\", \"arrowhead\": 2, \"arrowsize\": 0.8, \"arrowwidth\": 4, \"ax\": 0, \"ay\": -15, \"hoverlabel\": {\"bgcolor\": \"FireBrick\"}, \"hovertext\": \"Step 30 [2018-05-16 11:00:00]<br>SELL 0.08052093 BTC @ 8358.5 USD MARKET<br>Total: 673.03 USD - Comm.: 0.00024229 BTC\", \"opacity\": 0.6, \"showarrow\": true, \"x\": 29, \"xref\": \"x\", \"y\": 8358.5, \"yref\": \"y\"}, {\"arrowcolor\": \"FireBrick\", \"arrowhead\": 2, \"arrowsize\": 0.8, \"arrowwidth\": 4, \"ax\": 0, \"ay\": -15, \"hoverlabel\": {\"bgcolor\": \"FireBrick\"}, \"hovertext\": \"Step 30 [2018-05-16 11:00:00]<br>SELL 0.32375471 BTC @ 8358.5 USD MARKET<br>Total: 2706.1 USD - Comm.: 0.00097419 BTC\", \"opacity\": 0.6, \"showarrow\": true, \"x\": 29, \"xref\": \"x\", \"y\": 8358.5, \"yref\": \"y\"}, {\"arrowcolor\": \"FireBrick\", \"arrowhead\": 2, \"arrowsize\": 0.8, \"arrowwidth\": 4, \"ax\": 0, \"ay\": -15, \"hoverlabel\": {\"bgcolor\": \"FireBrick\"}, \"hovertext\": \"Step 29 [2018-05-16 10:00:00]<br>SELL 1.64205656 BTC @ 8357.2 USD MARKET<br>Total: 13723.0 USD - Comm.: 0.00494099 BTC\", \"opacity\": 0.6, \"showarrow\": true, \"x\": 28, \"xref\": \"x\", \"y\": 8357.2, \"yref\": \"y\"}, {\"arrowcolor\": \"DarkGreen\", \"arrowhead\": 2, \"arrowsize\": 0.8, \"arrowwidth\": 4, \"ax\": 0, \"ay\": 15, \"hoverlabel\": {\"bgcolor\": \"DarkGreen\"}, \"hovertext\": \"Step 29 [2018-05-16 10:00:00]<br>BUY 3.16848346 BTC @ 8357.2 USD MARKET<br>Total: 26479.65 USD - Comm.: 79.68 USD\", \"opacity\": 0.6, \"showarrow\": true, \"x\": 28, \"xref\": \"x\", \"y\": 8357.2, \"yref\": \"y\"}, {\"arrowcolor\": \"FireBrick\", \"arrowhead\": 2, \"arrowsize\": 0.8, \"arrowwidth\": 4, \"ax\": 0, \"ay\": -15, \"hoverlabel\": {\"bgcolor\": \"FireBrick\"}, \"hovertext\": \"Step 29 [2018-05-16 10:00:00]<br>SELL 0.5076878 BTC @ 8357.2 USD MARKET<br>Total: 4242.85 USD - Comm.: 0.00152765 BTC\", \"opacity\": 0.6, \"showarrow\": true, \"x\": 28, \"xref\": \"x\", \"y\": 8357.2, \"yref\": \"y\"}, {\"arrowcolor\": \"DarkGreen\", \"arrowhead\": 2, \"arrowsize\": 0.8, \"arrowwidth\": 4, \"ax\": 0, \"ay\": 15, \"hoverlabel\": {\"bgcolor\": \"DarkGreen\"}, \"hovertext\": \"Step 28 [2018-05-16 09:00:00]<br>BUY 0.0402293 BTC @ 8225.1 USD MARKET<br>Total: 330.89 USD - Comm.: 1.00 USD\", \"opacity\": 0.6, \"showarrow\": true, \"x\": 27, \"xref\": \"x\", \"y\": 8225.1, \"yref\": \"y\"}, {\"arrowcolor\": \"DarkGreen\", \"arrowhead\": 2, \"arrowsize\": 0.8, \"arrowwidth\": 4, \"ax\": 0, \"ay\": 15, \"hoverlabel\": {\"bgcolor\": \"DarkGreen\"}, \"hovertext\": \"Step 27 [2018-05-16 08:00:00]<br>BUY 0.08076322 BTC @ 8194.2 USD MARKET<br>Total: 661.79 USD - Comm.: 1.99 USD\", \"opacity\": 0.6, \"showarrow\": true, \"x\": 26, \"xref\": \"x\", \"y\": 8194.2, \"yref\": \"y\"}, {\"arrowcolor\": \"FireBrick\", \"arrowhead\": 2, \"arrowsize\": 0.8, \"arrowwidth\": 4, \"ax\": 0, \"ay\": -15, \"hoverlabel\": {\"bgcolor\": \"FireBrick\"}, \"hovertext\": \"Step 26 [2018-05-16 07:00:00]<br>SELL 3.28411312 BTC @ 8221.1 USD MARKET<br>Total: 26999.02 USD - Comm.: 0.00988199 BTC\", \"opacity\": 0.6, \"showarrow\": true, \"x\": 25, \"xref\": \"x\", \"y\": 8221.1, \"yref\": \"y\"}, {\"arrowcolor\": \"FireBrick\", \"arrowhead\": 2, \"arrowsize\": 0.8, \"arrowwidth\": 4, \"ax\": 0, \"ay\": -15, \"hoverlabel\": {\"bgcolor\": \"FireBrick\"}, \"hovertext\": \"Step 25 [2018-05-16 06:00:00]<br>SELL 1.64205656 BTC @ 8223.9 USD MARKET<br>Total: 13504.11 USD - Comm.: 0.00494099 BTC\", \"opacity\": 0.6, \"showarrow\": true, \"x\": 24, \"xref\": \"x\", \"y\": 8223.9, \"yref\": \"y\"}, {\"arrowcolor\": \"DarkGreen\", \"arrowhead\": 2, \"arrowsize\": 0.8, \"arrowwidth\": 4, \"ax\": 0, \"ay\": 15, \"hoverlabel\": {\"bgcolor\": \"DarkGreen\"}, \"hovertext\": \"Step 24 [2018-05-16 05:00:00]<br>BUY 0.16145992 BTC @ 8197.7 USD MARKET<br>Total: 1323.6 USD - Comm.: 3.98 USD\", \"opacity\": 0.6, \"showarrow\": true, \"x\": 23, \"xref\": \"x\", \"y\": 8197.7, \"yref\": \"y\"}, {\"arrowcolor\": \"FireBrick\", \"arrowhead\": 2, \"arrowsize\": 0.8, \"arrowwidth\": 4, \"ax\": 0, \"ay\": -15, \"hoverlabel\": {\"bgcolor\": \"FireBrick\"}, \"hovertext\": \"Step 23 [2018-05-16 04:00:00]<br>SELL 2.0525707 BTC @ 8205.3 USD MARKET<br>Total: 16841.96 USD - Comm.: 0.00617624 BTC\", \"opacity\": 0.6, \"showarrow\": true, \"x\": 22, \"xref\": \"x\", \"y\": 8205.3, \"yref\": \"y\"}, {\"arrowcolor\": \"DarkGreen\", \"arrowhead\": 2, \"arrowsize\": 0.8, \"arrowwidth\": 4, \"ax\": 0, \"ay\": 15, \"hoverlabel\": {\"bgcolor\": \"DarkGreen\"}, \"hovertext\": \"Step 22 [2018-05-16 03:00:00]<br>BUY 0.3247289 BTC @ 8152.0 USD MARKET<br>Total: 2647.19 USD - Comm.: 7.97 USD\", \"opacity\": 0.6, \"showarrow\": true, \"x\": 21, \"xref\": \"x\", \"y\": 8152.0, \"yref\": \"y\"}, {\"arrowcolor\": \"DarkGreen\", \"arrowhead\": 2, \"arrowsize\": 0.8, \"arrowwidth\": 4, \"ax\": 0, \"ay\": 15, \"hoverlabel\": {\"bgcolor\": \"DarkGreen\"}, \"hovertext\": \"Step 22 [2018-05-16 03:00:00]<br>BUY 0.92308881 BTC @ 8152.0 USD MARKET<br>Total: 7525.02 USD - Comm.: 22.64 USD\", \"opacity\": 0.6, \"showarrow\": true, \"x\": 21, \"xref\": \"x\", \"y\": 8152.0, \"yref\": \"y\"}, {\"arrowcolor\": \"DarkGreen\", \"arrowhead\": 2, \"arrowsize\": 0.8, \"arrowwidth\": 4, \"ax\": 0, \"ay\": 15, \"hoverlabel\": {\"bgcolor\": \"DarkGreen\"}, \"hovertext\": \"Step 21 [2018-05-16 02:00:00]<br>BUY 0.50921545 BTC @ 8124.4 USD MARKET<br>Total: 4137.07 USD - Comm.: 12.45 USD\", \"opacity\": 0.6, \"showarrow\": true, \"x\": 20, \"xref\": \"x\", \"y\": 8124.4, \"yref\": \"y\"}, {\"arrowcolor\": \"FireBrick\", \"arrowhead\": 2, \"arrowsize\": 0.8, \"arrowwidth\": 4, \"ax\": 0, \"ay\": -15, \"hoverlabel\": {\"bgcolor\": \"FireBrick\"}, \"hovertext\": \"Step 21 [2018-05-16 02:00:00]<br>SELL 0.14287556 BTC @ 8124.4 USD MARKET<br>Total: 1160.78 USD - Comm.: 0.00042992 BTC\", \"opacity\": 0.6, \"showarrow\": true, \"x\": 20, \"xref\": \"x\", \"y\": 8124.4, \"yref\": \"y\"}, {\"arrowcolor\": \"DarkGreen\", \"arrowhead\": 2, \"arrowsize\": 0.8, \"arrowwidth\": 4, \"ax\": 0, \"ay\": 15, \"hoverlabel\": {\"bgcolor\": \"DarkGreen\"}, \"hovertext\": \"Step 21 [2018-05-16 02:00:00]<br>BUY 0.13020777 BTC @ 8124.4 USD MARKET<br>Total: 1057.86 USD - Comm.: 3.18 USD\", \"opacity\": 0.6, \"showarrow\": true, \"x\": 20, \"xref\": \"x\", \"y\": 8124.4, \"yref\": \"y\"}, {\"arrowcolor\": \"DarkGreen\", \"arrowhead\": 2, \"arrowsize\": 0.8, \"arrowwidth\": 4, \"ax\": 0, \"ay\": 15, \"hoverlabel\": {\"bgcolor\": \"DarkGreen\"}, \"hovertext\": \"Step 21 [2018-05-16 02:00:00]<br>BUY 0.40490867 BTC @ 8124.4 USD MARKET<br>Total: 3289.64 USD - Comm.: 9.90 USD\", \"opacity\": 0.6, \"showarrow\": true, \"x\": 20, \"xref\": \"x\", \"y\": 8124.4, \"yref\": \"y\"}, {\"arrowcolor\": \"DarkGreen\", \"arrowhead\": 2, \"arrowsize\": 0.8, \"arrowwidth\": 4, \"ax\": 0, \"ay\": 15, \"hoverlabel\": {\"bgcolor\": \"DarkGreen\"}, \"hovertext\": \"Step 21 [2018-05-16 02:00:00]<br>BUY 2.56159839 BTC @ 8124.4 USD MARKET<br>Total: 20811.45 USD - Comm.: 62.62 USD\", \"opacity\": 0.6, \"showarrow\": true, \"x\": 20, \"xref\": \"x\", \"y\": 8124.4, \"yref\": \"y\"}, {\"arrowcolor\": \"FireBrick\", \"arrowhead\": 2, \"arrowsize\": 0.8, \"arrowwidth\": 4, \"ax\": 0, \"ay\": -15, \"hoverlabel\": {\"bgcolor\": \"FireBrick\"}, \"hovertext\": \"Step 20 [2018-05-16 01:00:00]<br>SELL 0.0121939 BTC @ 8327.9 USD MARKET<br>Total: 101.55 USD - Comm.: 0.00003669 BTC\", \"opacity\": 0.6, \"showarrow\": true, \"x\": 19, \"xref\": \"x\", \"y\": 8327.9, \"yref\": \"y\"}, {\"arrowcolor\": \"FireBrick\", \"arrowhead\": 2, \"arrowsize\": 0.8, \"arrowwidth\": 4, \"ax\": 0, \"ay\": -15, \"hoverlabel\": {\"bgcolor\": \"FireBrick\"}, \"hovertext\": \"Step 20 [2018-05-16 01:00:00]<br>SELL 0.28385204 BTC @ 8327.9 USD MARKET<br>Total: 2363.89 USD - Comm.: 0.00085412 BTC\", \"opacity\": 0.6, \"showarrow\": true, \"x\": 19, \"xref\": \"x\", \"y\": 8327.9, \"yref\": \"y\"}, {\"arrowcolor\": \"FireBrick\", \"arrowhead\": 2, \"arrowsize\": 0.8, \"arrowwidth\": 4, \"ax\": 0, \"ay\": -15, \"hoverlabel\": {\"bgcolor\": \"FireBrick\"}, \"hovertext\": \"Step 20 [2018-05-16 01:00:00]<br>SELL 0.56666843 BTC @ 8327.9 USD MARKET<br>Total: 4719.16 USD - Comm.: 0.00170512 BTC\", \"opacity\": 0.6, \"showarrow\": true, \"x\": 19, \"xref\": \"x\", \"y\": 8327.9, \"yref\": \"y\"}, {\"arrowcolor\": \"DarkGreen\", \"arrowhead\": 2, \"arrowsize\": 0.8, \"arrowwidth\": 4, \"ax\": 0, \"ay\": 15, \"hoverlabel\": {\"bgcolor\": \"DarkGreen\"}, \"hovertext\": \"Step 20 [2018-05-16 01:00:00]<br>BUY 0.5409539 BTC @ 8327.9 USD MARKET<br>Total: 4505.01 USD - Comm.: 13.56 USD\", \"opacity\": 0.6, \"showarrow\": true, \"x\": 19, \"xref\": \"x\", \"y\": 8327.9, \"yref\": \"y\"}, {\"arrowcolor\": \"DarkGreen\", \"arrowhead\": 2, \"arrowsize\": 0.8, \"arrowwidth\": 4, \"ax\": 0, \"ay\": 15, \"hoverlabel\": {\"bgcolor\": \"DarkGreen\"}, \"hovertext\": \"Step 20 [2018-05-16 01:00:00]<br>BUY 1.50983561 BTC @ 8327.9 USD MARKET<br>Total: 12573.76 USD - Comm.: 37.83 USD\", \"opacity\": 0.6, \"showarrow\": true, \"x\": 19, \"xref\": \"x\", \"y\": 8327.9, \"yref\": \"y\"}, {\"arrowcolor\": \"DarkGreen\", \"arrowhead\": 2, \"arrowsize\": 0.8, \"arrowwidth\": 4, \"ax\": 0, \"ay\": 15, \"hoverlabel\": {\"bgcolor\": \"DarkGreen\"}, \"hovertext\": \"Step 20 [2018-05-16 01:00:00]<br>BUY 4.17421919 BTC @ 8327.9 USD MARKET<br>Total: 34762.48 USD - Comm.: 104.60 USD\", \"opacity\": 0.6, \"showarrow\": true, \"x\": 19, \"xref\": \"x\", \"y\": 8327.9, \"yref\": \"y\"}, {\"arrowcolor\": \"FireBrick\", \"arrowhead\": 2, \"arrowsize\": 0.8, \"arrowwidth\": 4, \"ax\": 0, \"ay\": -15, \"hoverlabel\": {\"bgcolor\": \"FireBrick\"}, \"hovertext\": \"Step 19 [2018-05-16 00:00:00]<br>SELL 0.01524238 BTC @ 8454.2 USD MARKET<br>Total: 128.86 USD - Comm.: 0.00004586 BTC\", \"opacity\": 0.6, \"showarrow\": true, \"x\": 18, \"xref\": \"x\", \"y\": 8454.2, \"yref\": \"y\"}, {\"arrowcolor\": \"FireBrick\", \"arrowhead\": 2, \"arrowsize\": 0.8, \"arrowwidth\": 4, \"ax\": 0, \"ay\": -15, \"hoverlabel\": {\"bgcolor\": \"FireBrick\"}, \"hovertext\": \"Step 18 [2018-05-15 23:00:00]<br>SELL 0.01905297 BTC @ 8467.5 USD MARKET<br>Total: 161.33 USD - Comm.: 0.00005733 BTC\", \"opacity\": 0.6, \"showarrow\": true, \"x\": 17, \"xref\": \"x\", \"y\": 8467.5, \"yref\": \"y\"}, {\"arrowcolor\": \"DarkGreen\", \"arrowhead\": 2, \"arrowsize\": 0.8, \"arrowwidth\": 4, \"ax\": 0, \"ay\": 15, \"hoverlabel\": {\"bgcolor\": \"DarkGreen\"}, \"hovertext\": \"Step 17 [2018-05-15 22:00:00]<br>BUY 0.14330548 BTC @ 8459.9 USD MARKET<br>Total: 1212.35 USD - Comm.: 3.65 USD\", \"opacity\": 0.6, \"showarrow\": true, \"x\": 16, \"xref\": \"x\", \"y\": 8459.9, \"yref\": \"y\"}, {\"arrowcolor\": \"FireBrick\", \"arrowhead\": 2, \"arrowsize\": 0.8, \"arrowwidth\": 4, \"ax\": 0, \"ay\": -15, \"hoverlabel\": {\"bgcolor\": \"FireBrick\"}, \"hovertext\": \"Step 16 [2018-05-15 21:00:00]<br>SELL 0.02381621 BTC @ 8476.0 USD MARKET<br>Total: 201.87 USD - Comm.: 0.00007166 BTC\", \"opacity\": 0.6, \"showarrow\": true, \"x\": 15, \"xref\": \"x\", \"y\": 8476.0, \"yref\": \"y\"}, {\"arrowcolor\": \"FireBrick\", \"arrowhead\": 2, \"arrowsize\": 0.8, \"arrowwidth\": 4, \"ax\": 0, \"ay\": -15, \"hoverlabel\": {\"bgcolor\": \"FireBrick\"}, \"hovertext\": \"Step 15 [2018-05-15 20:00:00]<br>SELL 0.02977026 BTC @ 8516.7 USD MARKET<br>Total: 253.54 USD - Comm.: 0.00008958 BTC\", \"opacity\": 0.6, \"showarrow\": true, \"x\": 14, \"xref\": \"x\", \"y\": 8516.7, \"yref\": \"y\"}, {\"arrowcolor\": \"FireBrick\", \"arrowhead\": 2, \"arrowsize\": 0.8, \"arrowwidth\": 4, \"ax\": 0, \"ay\": -15, \"hoverlabel\": {\"bgcolor\": \"FireBrick\"}, \"hovertext\": \"Step 14 [2018-05-15 19:00:00]<br>SELL 0.03721283 BTC @ 8551.2 USD MARKET<br>Total: 318.21 USD - Comm.: 0.00011197 BTC\", \"opacity\": 0.6, \"showarrow\": true, \"x\": 13, \"xref\": \"x\", \"y\": 8551.2, \"yref\": \"y\"}, {\"arrowcolor\": \"DarkGreen\", \"arrowhead\": 2, \"arrowsize\": 0.8, \"arrowwidth\": 4, \"ax\": 0, \"ay\": 15, \"hoverlabel\": {\"bgcolor\": \"DarkGreen\"}, \"hovertext\": \"Step 13 [2018-05-15 18:00:00]<br>BUY 0.28470616 BTC @ 8516.5 USD MARKET<br>Total: 2424.7 USD - Comm.: 7.30 USD\", \"opacity\": 0.6, \"showarrow\": true, \"x\": 12, \"xref\": \"x\", \"y\": 8516.5, \"yref\": \"y\"}, {\"arrowcolor\": \"FireBrick\", \"arrowhead\": 2, \"arrowsize\": 0.8, \"arrowwidth\": 4, \"ax\": 0, \"ay\": -15, \"hoverlabel\": {\"bgcolor\": \"FireBrick\"}, \"hovertext\": \"Step 12 [2018-05-15 17:00:00]<br>SELL 0.12404275 BTC @ 8553.8 USD MARKET<br>Total: 1061.04 USD - Comm.: 0.00037325 BTC\", \"opacity\": 0.6, \"showarrow\": true, \"x\": 11, \"xref\": \"x\", \"y\": 8553.8, \"yref\": \"y\"}, {\"arrowcolor\": \"DarkGreen\", \"arrowhead\": 2, \"arrowsize\": 0.8, \"arrowwidth\": 4, \"ax\": 0, \"ay\": 15, \"hoverlabel\": {\"bgcolor\": \"DarkGreen\"}, \"hovertext\": \"Step 11 [2018-05-15 16:00:00]<br>BUY 0.56837355 BTC @ 8532.1 USD MARKET<br>Total: 4849.42 USD - Comm.: 14.59 USD\", \"opacity\": 0.6, \"showarrow\": true, \"x\": 10, \"xref\": \"x\", \"y\": 8532.1, \"yref\": \"y\"}, {\"arrowcolor\": \"FireBrick\", \"arrowhead\": 2, \"arrowsize\": 0.8, \"arrowwidth\": 4, \"ax\": 0, \"ay\": -15, \"hoverlabel\": {\"bgcolor\": \"FireBrick\"}, \"hovertext\": \"Step 10 [2018-05-15 15:00:00]<br>SELL 0.07752672 BTC @ 8520.8 USD MARKET<br>Total: 660.59 USD - Comm.: 0.00023328 BTC\", \"opacity\": 0.6, \"showarrow\": true, \"x\": 9, \"xref\": \"x\", \"y\": 8520.8, \"yref\": \"y\"}, {\"arrowcolor\": \"FireBrick\", \"arrowhead\": 2, \"arrowsize\": 0.8, \"arrowwidth\": 4, \"ax\": 0, \"ay\": -15, \"hoverlabel\": {\"bgcolor\": \"FireBrick\"}, \"hovertext\": \"Step 9 [2018-05-15 14:00:00]<br>SELL 0.3876336 BTC @ 8512.0 USD MARKET<br>Total: 3299.54 USD - Comm.: 0.00116640 BTC\", \"opacity\": 0.6, \"showarrow\": true, \"x\": 8, \"xref\": \"x\", \"y\": 8512.0, \"yref\": \"y\"}, {\"arrowcolor\": \"FireBrick\", \"arrowhead\": 2, \"arrowsize\": 0.8, \"arrowwidth\": 4, \"ax\": 0, \"ay\": -15, \"hoverlabel\": {\"bgcolor\": \"FireBrick\"}, \"hovertext\": \"Step 9 [2018-05-15 14:00:00]<br>SELL 0.14191695 BTC @ 8512.0 USD MARKET<br>Total: 1208.0 USD - Comm.: 0.00042703 BTC\", \"opacity\": 0.6, \"showarrow\": true, \"x\": 8, \"xref\": \"x\", \"y\": 8512.0, \"yref\": \"y\"}, {\"arrowcolor\": \"FireBrick\", \"arrowhead\": 2, \"arrowsize\": 0.8, \"arrowwidth\": 4, \"ax\": 0, \"ay\": -15, \"hoverlabel\": {\"bgcolor\": \"FireBrick\"}, \"hovertext\": \"Step 9 [2018-05-15 14:00:00]<br>SELL 0.28536908 BTC @ 8512.0 USD MARKET<br>Total: 2429.06 USD - Comm.: 0.00085868 BTC\", \"opacity\": 0.6, \"showarrow\": true, \"x\": 8, \"xref\": \"x\", \"y\": 8512.0, \"yref\": \"y\"}, {\"arrowcolor\": \"FireBrick\", \"arrowhead\": 2, \"arrowsize\": 0.8, \"arrowwidth\": 4, \"ax\": 0, \"ay\": -15, \"hoverlabel\": {\"bgcolor\": \"FireBrick\"}, \"hovertext\": \"Step 9 [2018-05-15 14:00:00]<br>SELL 0.56872011 BTC @ 8512.0 USD MARKET<br>Total: 4840.95 USD - Comm.: 0.00171129 BTC\", \"opacity\": 0.6, \"showarrow\": true, \"x\": 8, \"xref\": \"x\", \"y\": 8512.0, \"yref\": \"y\"}, {\"arrowcolor\": \"FireBrick\", \"arrowhead\": 2, \"arrowsize\": 0.8, \"arrowwidth\": 4, \"ax\": 0, \"ay\": -15, \"hoverlabel\": {\"bgcolor\": \"FireBrick\"}, \"hovertext\": \"Step 8 [2018-05-15 13:00:00]<br>SELL 0.5168448 BTC @ 8742.6 USD MARKET<br>Total: 4518.57 USD - Comm.: 0.00155520 BTC\", \"opacity\": 0.6, \"showarrow\": true, \"x\": 7, \"xref\": \"x\", \"y\": 8742.6, \"yref\": \"y\"}, {\"arrowcolor\": \"FireBrick\", \"arrowhead\": 2, \"arrowsize\": 0.8, \"arrowwidth\": 4, \"ax\": 0, \"ay\": -15, \"hoverlabel\": {\"bgcolor\": \"FireBrick\"}, \"hovertext\": \"Step 7 [2018-05-15 12:00:00]<br>SELL 0.861408 BTC @ 8762.0 USD MARKET<br>Total: 7547.66 USD - Comm.: 0.00259200 BTC\", \"opacity\": 0.6, \"showarrow\": true, \"x\": 6, \"xref\": \"x\", \"y\": 8762.0, \"yref\": \"y\"}, {\"arrowcolor\": \"DarkGreen\", \"arrowhead\": 2, \"arrowsize\": 0.8, \"arrowwidth\": 4, \"ax\": 0, \"ay\": 15, \"hoverlabel\": {\"bgcolor\": \"DarkGreen\"}, \"hovertext\": \"Step 6 [2018-05-15 11:00:00]<br>BUY 0.14234398 BTC @ 8755.2 USD MARKET<br>Total: 1246.25 USD - Comm.: 3.75 USD\", \"opacity\": 0.6, \"showarrow\": true, \"x\": 5, \"xref\": \"x\", \"y\": 8755.2, \"yref\": \"y\"}, {\"arrowcolor\": \"FireBrick\", \"arrowhead\": 2, \"arrowsize\": 0.8, \"arrowwidth\": 4, \"ax\": 0, \"ay\": -15, \"hoverlabel\": {\"bgcolor\": \"FireBrick\"}, \"hovertext\": \"Step 5 [2018-05-15 10:00:00]<br>SELL 1.43568 BTC @ 8784.4 USD MARKET<br>Total: 12611.59 USD - Comm.: 0.00432000 BTC\", \"opacity\": 0.6, \"showarrow\": true, \"x\": 4, \"xref\": \"x\", \"y\": 8784.4, \"yref\": \"y\"}, {\"arrowcolor\": \"DarkGreen\", \"arrowhead\": 2, \"arrowsize\": 0.8, \"arrowwidth\": 4, \"ax\": 0, \"ay\": 15, \"hoverlabel\": {\"bgcolor\": \"DarkGreen\"}, \"hovertext\": \"Step 4 [2018-05-15 09:00:00]<br>BUY 0.28622776 BTC @ 8708.1 USD MARKET<br>Total: 2492.5 USD - Comm.: 7.50 USD\", \"opacity\": 0.6, \"showarrow\": true, \"x\": 3, \"xref\": \"x\", \"y\": 8708.1, \"yref\": \"y\"}, {\"arrowcolor\": \"FireBrick\", \"arrowhead\": 2, \"arrowsize\": 0.8, \"arrowwidth\": 4, \"ax\": 0, \"ay\": -15, \"hoverlabel\": {\"bgcolor\": \"FireBrick\"}, \"hovertext\": \"Step 3 [2018-05-15 08:00:00]<br>SELL 2.3928 BTC @ 8723.7 USD MARKET<br>Total: 20874.07 USD - Comm.: 0.00720000 BTC\", \"opacity\": 0.6, \"showarrow\": true, \"x\": 2, \"xref\": \"x\", \"y\": 8723.7, \"yref\": \"y\"}, {\"arrowcolor\": \"FireBrick\", \"arrowhead\": 2, \"arrowsize\": 0.8, \"arrowwidth\": 4, \"ax\": 0, \"ay\": -15, \"hoverlabel\": {\"bgcolor\": \"FireBrick\"}, \"hovertext\": \"Step 2 [2018-05-15 07:00:00]<br>SELL 3.988 BTC @ 8743.0 USD MARKET<br>Total: 34867.08 USD - Comm.: 0.01200000 BTC\", \"opacity\": 0.6, \"showarrow\": true, \"x\": 1, \"xref\": \"x\", \"y\": 8743.0, \"yref\": \"y\"}, {\"arrowcolor\": \"DarkGreen\", \"arrowhead\": 2, \"arrowsize\": 0.8, \"arrowwidth\": 4, \"ax\": 0, \"ay\": 15, \"hoverlabel\": {\"bgcolor\": \"DarkGreen\"}, \"hovertext\": \"Step 1 [2018-05-15 06:00:00]<br>BUY 0.5704314 BTC @ 8739.0 USD MARKET<br>Total: 4985.0 USD - Comm.: 15.00 USD\", \"opacity\": 0.6, \"showarrow\": true, \"x\": 0, \"xref\": \"x\", \"y\": 8739.0, \"yref\": \"y\"}, {\"arrowcolor\": \"DarkGreen\", \"arrowhead\": 2, \"arrowsize\": 0.8, \"arrowwidth\": 4, \"ax\": 0, \"ay\": 15, \"hoverlabel\": {\"bgcolor\": \"DarkGreen\"}, \"hovertext\": \"Step 90 [2018-05-18 23:00:00]<br>BUY 0.01502628 BTC @ 8238.9 USD MARKET<br>Total: 123.8 USD - Comm.: 0.37 USD\", \"opacity\": 0.6, \"showarrow\": true, \"x\": 89, \"xref\": \"x\", \"y\": 8238.9, \"yref\": \"y\"}, {\"arrowcolor\": \"FireBrick\", \"arrowhead\": 2, \"arrowsize\": 0.8, \"arrowwidth\": 4, \"ax\": 0, \"ay\": -15, \"hoverlabel\": {\"bgcolor\": \"FireBrick\"}, \"hovertext\": \"Step 86 [2018-05-18 19:00:00]<br>SELL 0.01606648 BTC @ 8224.9 USD MARKET<br>Total: 132.15 USD - Comm.: 0.00004834 BTC\", \"opacity\": 0.6, \"showarrow\": true, \"x\": 85, \"xref\": \"x\", \"y\": 8224.9, \"yref\": \"y\"}, {\"arrowcolor\": \"FireBrick\", \"arrowhead\": 2, \"arrowsize\": 0.8, \"arrowwidth\": 4, \"ax\": 0, \"ay\": -15, \"hoverlabel\": {\"bgcolor\": \"FireBrick\"}, \"hovertext\": \"Step 86 [2018-05-18 19:00:00]<br>SELL 0.08390907 BTC @ 8224.9 USD MARKET<br>Total: 690.14 USD - Comm.: 0.00025248 BTC\", \"opacity\": 0.6, \"showarrow\": true, \"x\": 85, \"xref\": \"x\", \"y\": 8224.9, \"yref\": \"y\"}, {\"arrowcolor\": \"FireBrick\", \"arrowhead\": 2, \"arrowsize\": 0.8, \"arrowwidth\": 4, \"ax\": 0, \"ay\": -15, \"hoverlabel\": {\"bgcolor\": \"FireBrick\"}, \"hovertext\": \"Step 85 [2018-05-18 18:00:00]<br>SELL 0.00626188 BTC @ 8209.1 USD MARKET<br>Total: 51.4 USD - Comm.: 0.00001884 BTC\", \"opacity\": 0.6, \"showarrow\": true, \"x\": 84, \"xref\": \"x\", \"y\": 8209.1, \"yref\": \"y\"}, {\"arrowcolor\": \"FireBrick\", \"arrowhead\": 2, \"arrowsize\": 0.8, \"arrowwidth\": 4, \"ax\": 0, \"ay\": -15, \"hoverlabel\": {\"bgcolor\": \"FireBrick\"}, \"hovertext\": \"Step 85 [2018-05-18 18:00:00]<br>SELL 0.04194981 BTC @ 8209.1 USD MARKET<br>Total: 344.37 USD - Comm.: 0.00012623 BTC\", \"opacity\": 0.6, \"showarrow\": true, \"x\": 84, \"xref\": \"x\", \"y\": 8209.1, \"yref\": \"y\"}, {\"arrowcolor\": \"FireBrick\", \"arrowhead\": 2, \"arrowsize\": 0.8, \"arrowwidth\": 4, \"ax\": 0, \"ay\": -15, \"hoverlabel\": {\"bgcolor\": \"FireBrick\"}, \"hovertext\": \"Step 85 [2018-05-18 18:00:00]<br>SELL 0.1681125 BTC @ 8209.1 USD MARKET<br>Total: 1380.05 USD - Comm.: 0.00050586 BTC\", \"opacity\": 0.6, \"showarrow\": true, \"x\": 84, \"xref\": \"x\", \"y\": 8209.1, \"yref\": \"y\"}, {\"arrowcolor\": \"FireBrick\", \"arrowhead\": 2, \"arrowsize\": 0.8, \"arrowwidth\": 4, \"ax\": 0, \"ay\": -15, \"hoverlabel\": {\"bgcolor\": \"FireBrick\"}, \"hovertext\": \"Step 83 [2018-05-18 16:00:00]<br>SELL 0.01004155 BTC @ 8130.0 USD MARKET<br>Total: 81.64 USD - Comm.: 0.00003022 BTC\", \"opacity\": 0.6, \"showarrow\": true, \"x\": 82, \"xref\": \"x\", \"y\": 8130.0, \"yref\": \"y\"}, {\"arrowcolor\": \"FireBrick\", \"arrowhead\": 2, \"arrowsize\": 0.8, \"arrowwidth\": 4, \"ax\": 0, \"ay\": -15, \"hoverlabel\": {\"bgcolor\": \"FireBrick\"}, \"hovertext\": \"Step 82 [2018-05-18 15:00:00]<br>SELL 0.01255194 BTC @ 8105.0 USD MARKET<br>Total: 101.73 USD - Comm.: 0.00003777 BTC\", \"opacity\": 0.6, \"showarrow\": true, \"x\": 81, \"xref\": \"x\", \"y\": 8105.0, \"yref\": \"y\"}, {\"arrowcolor\": \"FireBrick\", \"arrowhead\": 2, \"arrowsize\": 0.8, \"arrowwidth\": 4, \"ax\": 0, \"ay\": -15, \"hoverlabel\": {\"bgcolor\": \"FireBrick\"}, \"hovertext\": \"Step 81 [2018-05-18 14:00:00]<br>SELL 0.01568993 BTC @ 8074.9 USD MARKET<br>Total: 126.69 USD - Comm.: 0.00004721 BTC\", \"opacity\": 0.6, \"showarrow\": true, \"x\": 80, \"xref\": \"x\", \"y\": 8074.9, \"yref\": \"y\"}, {\"arrowcolor\": \"FireBrick\", \"arrowhead\": 2, \"arrowsize\": 0.8, \"arrowwidth\": 4, \"ax\": 0, \"ay\": -15, \"hoverlabel\": {\"bgcolor\": \"FireBrick\"}, \"hovertext\": \"Step 80 [2018-05-18 13:00:00]<br>SELL 0.01961241 BTC @ 8095.7 USD MARKET<br>Total: 158.78 USD - Comm.: 0.00005901 BTC\", \"opacity\": 0.6, \"showarrow\": true, \"x\": 79, \"xref\": \"x\", \"y\": 8095.7, \"yref\": \"y\"}, {\"arrowcolor\": \"FireBrick\", \"arrowhead\": 2, \"arrowsize\": 0.8, \"arrowwidth\": 4, \"ax\": 0, \"ay\": -15, \"hoverlabel\": {\"bgcolor\": \"FireBrick\"}, \"hovertext\": \"Step 79 [2018-05-18 12:00:00]<br>SELL 0.02451551 BTC @ 8105.5 USD MARKET<br>Total: 198.71 USD - Comm.: 0.00007377 BTC\", \"opacity\": 0.6, \"showarrow\": true, \"x\": 78, \"xref\": \"x\", \"y\": 8105.5, \"yref\": \"y\"}, {\"arrowcolor\": \"DarkGreen\", \"arrowhead\": 2, \"arrowsize\": 0.8, \"arrowwidth\": 4, \"ax\": 0, \"ay\": 15, \"hoverlabel\": {\"bgcolor\": \"DarkGreen\"}, \"hovertext\": \"Step 78 [2018-05-18 11:00:00]<br>BUY 0.07360859 BTC @ 8101.5 USD MARKET<br>Total: 596.34 USD - Comm.: 1.79 USD\", \"opacity\": 0.6, \"showarrow\": true, \"x\": 77, \"xref\": \"x\", \"y\": 8101.5, \"yref\": \"y\"}, {\"arrowcolor\": \"FireBrick\", \"arrowhead\": 2, \"arrowsize\": 0.8, \"arrowwidth\": 4, \"ax\": 0, \"ay\": -15, \"hoverlabel\": {\"bgcolor\": \"FireBrick\"}, \"hovertext\": \"Step 77 [2018-05-18 10:00:00]<br>SELL 0.03064439 BTC @ 8130.0 USD MARKET<br>Total: 249.14 USD - Comm.: 0.00009221 BTC\", \"opacity\": 0.6, \"showarrow\": true, \"x\": 76, \"xref\": \"x\", \"y\": 8130.0, \"yref\": \"y\"}, {\"arrowcolor\": \"DarkGreen\", \"arrowhead\": 2, \"arrowsize\": 0.8, \"arrowwidth\": 4, \"ax\": 0, \"ay\": 15, \"hoverlabel\": {\"bgcolor\": \"DarkGreen\"}, \"hovertext\": \"Step 76 [2018-05-18 09:00:00]<br>BUY 0.14720206 BTC @ 8102.4 USD MARKET<br>Total: 1192.69 USD - Comm.: 3.59 USD\", \"opacity\": 0.6, \"showarrow\": true, \"x\": 75, \"xref\": \"x\", \"y\": 8102.4, \"yref\": \"y\"}, {\"arrowcolor\": \"FireBrick\", \"arrowhead\": 2, \"arrowsize\": 0.8, \"arrowwidth\": 4, \"ax\": 0, \"ay\": -15, \"hoverlabel\": {\"bgcolor\": \"FireBrick\"}, \"hovertext\": \"Step 75 [2018-05-18 08:00:00]<br>SELL 0.03830549 BTC @ 8123.6 USD MARKET<br>Total: 311.18 USD - Comm.: 0.00011526 BTC\", \"opacity\": 0.6, \"showarrow\": true, \"x\": 74, \"xref\": \"x\", \"y\": 8123.6, \"yref\": \"y\"}, {\"arrowcolor\": \"FireBrick\", \"arrowhead\": 2, \"arrowsize\": 0.8, \"arrowwidth\": 4, \"ax\": 0, \"ay\": -15, \"hoverlabel\": {\"bgcolor\": \"FireBrick\"}, \"hovertext\": \"Step 75 [2018-05-18 08:00:00]<br>SELL 0.00315851 BTC @ 8123.6 USD MARKET<br>Total: 25.66 USD - Comm.: 0.00000950 BTC\", \"opacity\": 0.6, \"showarrow\": true, \"x\": 74, \"xref\": \"x\", \"y\": 8123.6, \"yref\": \"y\"}, {\"arrowcolor\": \"FireBrick\", \"arrowhead\": 2, \"arrowsize\": 0.8, \"arrowwidth\": 4, \"ax\": 0, \"ay\": -15, \"hoverlabel\": {\"bgcolor\": \"FireBrick\"}, \"hovertext\": \"Step 75 [2018-05-18 08:00:00]<br>SELL 0.28980152 BTC @ 8123.6 USD MARKET<br>Total: 2354.23 USD - Comm.: 0.00087202 BTC\", \"opacity\": 0.6, \"showarrow\": true, \"x\": 74, \"xref\": \"x\", \"y\": 8123.6, \"yref\": \"y\"}, {\"arrowcolor\": \"DarkGreen\", \"arrowhead\": 2, \"arrowsize\": 0.8, \"arrowwidth\": 4, \"ax\": 0, \"ay\": 15, \"hoverlabel\": {\"bgcolor\": \"DarkGreen\"}, \"hovertext\": \"Step 74 [2018-05-18 07:00:00]<br>BUY 0.00155968 BTC @ 8085.0 USD MARKET<br>Total: 12.61 USD - Comm.: 0.04 USD\", \"opacity\": 0.6, \"showarrow\": true, \"x\": 73, \"xref\": \"x\", \"y\": 8085.0, \"yref\": \"y\"}, {\"arrowcolor\": \"DarkGreen\", \"arrowhead\": 2, \"arrowsize\": 0.8, \"arrowwidth\": 4, \"ax\": 0, \"ay\": 15, \"hoverlabel\": {\"bgcolor\": \"DarkGreen\"}, \"hovertext\": \"Step 73 [2018-05-18 06:00:00]<br>BUY 0.00316801 BTC @ 7964.0 USD MARKET<br>Total: 25.23 USD - Comm.: 0.08 USD\", \"opacity\": 0.6, \"showarrow\": true, \"x\": 72, \"xref\": \"x\", \"y\": 7964.0, \"yref\": \"y\"}, {\"arrowcolor\": \"DarkGreen\", \"arrowhead\": 2, \"arrowsize\": 0.8, \"arrowwidth\": 4, \"ax\": 0, \"ay\": 15, \"hoverlabel\": {\"bgcolor\": \"DarkGreen\"}, \"hovertext\": \"Step 73 [2018-05-18 06:00:00]<br>BUY 0.01271346 BTC @ 7964.0 USD MARKET<br>Total: 101.25 USD - Comm.: 0.30 USD\", \"opacity\": 0.6, \"showarrow\": true, \"x\": 72, \"xref\": \"x\", \"y\": 7964.0, \"yref\": \"y\"}, {\"arrowcolor\": \"DarkGreen\", \"arrowhead\": 2, \"arrowsize\": 0.8, \"arrowwidth\": 4, \"ax\": 0, \"ay\": 15, \"hoverlabel\": {\"bgcolor\": \"DarkGreen\"}, \"hovertext\": \"Step 72 [2018-05-18 05:00:00]<br>BUY 0.00628072 BTC @ 8035.7 USD MARKET<br>Total: 50.47 USD - Comm.: 0.15 USD\", \"opacity\": 0.6, \"showarrow\": true, \"x\": 71, \"xref\": \"x\", \"y\": 8035.7, \"yref\": \"y\"}, {\"arrowcolor\": \"DarkGreen\", \"arrowhead\": 2, \"arrowsize\": 0.8, \"arrowwidth\": 4, \"ax\": 0, \"ay\": 15, \"hoverlabel\": {\"bgcolor\": \"DarkGreen\"}, \"hovertext\": \"Step 71 [2018-05-18 04:00:00]<br>BUY 0.02937999 BTC @ 8016.0 USD MARKET<br>Total: 235.51 USD - Comm.: 0.71 USD\", \"opacity\": 0.6, \"showarrow\": true, \"x\": 70, \"xref\": \"x\", \"y\": 8016.0, \"yref\": \"y\"}, {\"arrowcolor\": \"DarkGreen\", \"arrowhead\": 2, \"arrowsize\": 0.8, \"arrowwidth\": 4, \"ax\": 0, \"ay\": 15, \"hoverlabel\": {\"bgcolor\": \"DarkGreen\"}, \"hovertext\": \"Step 70 [2018-05-18 03:00:00]<br>BUY 0.04207604 BTC @ 7996.0 USD MARKET<br>Total: 336.44 USD - Comm.: 1.01 USD\", \"opacity\": 0.6, \"showarrow\": true, \"x\": 69, \"xref\": \"x\", \"y\": 7996.0, \"yref\": \"y\"}, {\"arrowcolor\": \"DarkGreen\", \"arrowhead\": 2, \"arrowsize\": 0.8, \"arrowwidth\": 4, \"ax\": 0, \"ay\": 15, \"hoverlabel\": {\"bgcolor\": \"DarkGreen\"}, \"hovertext\": \"Step 69 [2018-05-18 02:00:00]<br>BUY 0.08416155 BTC @ 7995.1 USD MARKET<br>Total: 672.88 USD - Comm.: 2.02 USD\", \"opacity\": 0.6, \"showarrow\": true, \"x\": 68, \"xref\": \"x\", \"y\": 7995.1, \"yref\": \"y\"}, {\"arrowcolor\": \"DarkGreen\", \"arrowhead\": 2, \"arrowsize\": 0.8, \"arrowwidth\": 4, \"ax\": 0, \"ay\": 15, \"hoverlabel\": {\"bgcolor\": \"DarkGreen\"}, \"hovertext\": \"Step 68 [2018-05-18 01:00:00]<br>BUY 0.16861836 BTC @ 7981.1 USD MARKET<br>Total: 1345.76 USD - Comm.: 4.05 USD\", \"opacity\": 0.6, \"showarrow\": true, \"x\": 67, \"xref\": \"x\", \"y\": 7981.1, \"yref\": \"y\"}, {\"arrowcolor\": \"DarkGreen\", \"arrowhead\": 2, \"arrowsize\": 0.8, \"arrowwidth\": 4, \"ax\": 0, \"ay\": 15, \"hoverlabel\": {\"bgcolor\": \"DarkGreen\"}, \"hovertext\": \"Step 68 [2018-05-18 01:00:00]<br>BUY 0.01136059 BTC @ 7981.1 USD MARKET<br>Total: 90.67 USD - Comm.: 0.27 USD\", \"opacity\": 0.6, \"showarrow\": true, \"x\": 67, \"xref\": \"x\", \"y\": 7981.1, \"yref\": \"y\"}, {\"arrowcolor\": \"DarkGreen\", \"arrowhead\": 2, \"arrowsize\": 0.8, \"arrowwidth\": 4, \"ax\": 0, \"ay\": 15, \"hoverlabel\": {\"bgcolor\": \"DarkGreen\"}, \"hovertext\": \"Step 68 [2018-05-18 01:00:00]<br>BUY 0.03167233 BTC @ 7981.1 USD MARKET<br>Total: 252.78 USD - Comm.: 0.76 USD\", \"opacity\": 0.6, \"showarrow\": true, \"x\": 67, \"xref\": \"x\", \"y\": 7981.1, \"yref\": \"y\"}, {\"arrowcolor\": \"DarkGreen\", \"arrowhead\": 2, \"arrowsize\": 0.8, \"arrowwidth\": 4, \"ax\": 0, \"ay\": 15, \"hoverlabel\": {\"bgcolor\": \"DarkGreen\"}, \"hovertext\": \"Step 67 [2018-05-18 00:00:00]<br>BUY 0.29067354 BTC @ 7958.0 USD MARKET<br>Total: 2313.18 USD - Comm.: 6.96 USD\", \"opacity\": 0.6, \"showarrow\": true, \"x\": 66, \"xref\": \"x\", \"y\": 7958.0, \"yref\": \"y\"}, {\"arrowcolor\": \"DarkGreen\", \"arrowhead\": 2, \"arrowsize\": 0.8, \"arrowwidth\": 4, \"ax\": 0, \"ay\": 15, \"hoverlabel\": {\"bgcolor\": \"DarkGreen\"}, \"hovertext\": \"Step 67 [2018-05-18 00:00:00]<br>BUY 0.01897839 BTC @ 7958.0 USD MARKET<br>Total: 151.03 USD - Comm.: 0.45 USD\", \"opacity\": 0.6, \"showarrow\": true, \"x\": 66, \"xref\": \"x\", \"y\": 7958.0, \"yref\": \"y\"}, {\"arrowcolor\": \"FireBrick\", \"arrowhead\": 2, \"arrowsize\": 0.8, \"arrowwidth\": 4, \"ax\": 0, \"ay\": -15, \"hoverlabel\": {\"bgcolor\": \"FireBrick\"}, \"hovertext\": \"Step 67 [2018-05-18 00:00:00]<br>SELL 0.04768522 BTC @ 7958.0 USD MARKET<br>Total: 379.48 USD - Comm.: 0.00014349 BTC\", \"opacity\": 0.6, \"showarrow\": true, \"x\": 66, \"xref\": \"x\", \"y\": 7958.0, \"yref\": \"y\"}, {\"arrowcolor\": \"DarkGreen\", \"arrowhead\": 2, \"arrowsize\": 0.8, \"arrowwidth\": 4, \"ax\": 0, \"ay\": 15, \"hoverlabel\": {\"bgcolor\": \"DarkGreen\"}, \"hovertext\": \"Step 67 [2018-05-18 00:00:00]<br>BUY 0.02529027 BTC @ 7958.0 USD MARKET<br>Total: 201.26 USD - Comm.: 0.61 USD\", \"opacity\": 0.6, \"showarrow\": true, \"x\": 66, \"xref\": \"x\", \"y\": 7958.0, \"yref\": \"y\"}, {\"arrowcolor\": \"DarkGreen\", \"arrowhead\": 2, \"arrowsize\": 0.8, \"arrowwidth\": 4, \"ax\": 0, \"ay\": 15, \"hoverlabel\": {\"bgcolor\": \"DarkGreen\"}, \"hovertext\": \"Step 67 [2018-05-18 00:00:00]<br>BUY 0.0398668 BTC @ 7958.0 USD MARKET<br>Total: 317.26 USD - Comm.: 0.95 USD\", \"opacity\": 0.6, \"showarrow\": true, \"x\": 66, \"xref\": \"x\", \"y\": 7958.0, \"yref\": \"y\"}, {\"arrowcolor\": \"DarkGreen\", \"arrowhead\": 2, \"arrowsize\": 0.8, \"arrowwidth\": 4, \"ax\": 0, \"ay\": 15, \"hoverlabel\": {\"bgcolor\": \"DarkGreen\"}, \"hovertext\": \"Step 66 [2018-05-17 23:00:00]<br>BUY 0.13360193 BTC @ 8054.3 USD MARKET<br>Total: 1076.07 USD - Comm.: 3.24 USD\", \"opacity\": 0.6, \"showarrow\": true, \"x\": 65, \"xref\": \"x\", \"y\": 8054.3, \"yref\": \"y\"}, {\"arrowcolor\": \"FireBrick\", \"arrowhead\": 2, \"arrowsize\": 0.8, \"arrowwidth\": 4, \"ax\": 0, \"ay\": -15, \"hoverlabel\": {\"bgcolor\": \"FireBrick\"}, \"hovertext\": \"Step 66 [2018-05-17 23:00:00]<br>SELL 0.04010861 BTC @ 8054.3 USD MARKET<br>Total: 323.05 USD - Comm.: 0.00012069 BTC\", \"opacity\": 0.6, \"showarrow\": true, \"x\": 65, \"xref\": \"x\", \"y\": 8054.3, \"yref\": \"y\"}, {\"arrowcolor\": \"DarkGreen\", \"arrowhead\": 2, \"arrowsize\": 0.8, \"arrowwidth\": 4, \"ax\": 0, \"ay\": 15, \"hoverlabel\": {\"bgcolor\": \"DarkGreen\"}, \"hovertext\": \"Step 66 [2018-05-17 23:00:00]<br>BUY 0.01595049 BTC @ 8054.3 USD MARKET<br>Total: 128.47 USD - Comm.: 0.39 USD\", \"opacity\": 0.6, \"showarrow\": true, \"x\": 65, \"xref\": \"x\", \"y\": 8054.3, \"yref\": \"y\"}, {\"arrowcolor\": \"DarkGreen\", \"arrowhead\": 2, \"arrowsize\": 0.8, \"arrowwidth\": 4, \"ax\": 0, \"ay\": 15, \"hoverlabel\": {\"bgcolor\": \"DarkGreen\"}, \"hovertext\": \"Step 65 [2018-05-17 22:00:00]<br>BUY 0.01993209 BTC @ 8069.9 USD MARKET<br>Total: 160.85 USD - Comm.: 0.48 USD\", \"opacity\": 0.6, \"showarrow\": true, \"x\": 64, \"xref\": \"x\", \"y\": 8069.9, \"yref\": \"y\"}, {\"arrowcolor\": \"DarkGreen\", \"arrowhead\": 2, \"arrowsize\": 0.8, \"arrowwidth\": 4, \"ax\": 0, \"ay\": 15, \"hoverlabel\": {\"bgcolor\": \"DarkGreen\"}, \"hovertext\": \"Step 63 [2018-05-17 20:00:00]<br>BUY 0.43710167 BTC @ 8206.1 USD MARKET<br>Total: 3586.9 USD - Comm.: 10.79 USD\", \"opacity\": 0.6, \"showarrow\": true, \"x\": 62, \"xref\": \"x\", \"y\": 8206.1, \"yref\": \"y\"}, {\"arrowcolor\": \"DarkGreen\", \"arrowhead\": 2, \"arrowsize\": 0.8, \"arrowwidth\": 4, \"ax\": 0, \"ay\": 15, \"hoverlabel\": {\"bgcolor\": \"DarkGreen\"}, \"hovertext\": \"Step 150 [2018-05-21 11:00:00]<br>BUY 0.17852209 BTC @ 8483.6 USD MARKET<br>Total: 1514.51 USD - Comm.: 4.56 USD\", \"opacity\": 0.6, \"showarrow\": true, \"x\": 149, \"xref\": \"x\", \"y\": 8483.6, \"yref\": \"y\"}, {\"arrowcolor\": \"DarkGreen\", \"arrowhead\": 2, \"arrowsize\": 0.8, \"arrowwidth\": 4, \"ax\": 0, \"ay\": 15, \"hoverlabel\": {\"bgcolor\": \"DarkGreen\"}, \"hovertext\": \"Step 149 [2018-05-21 10:00:00]<br>BUY 0.35768504 BTC @ 8468.4 USD MARKET<br>Total: 3029.02 USD - Comm.: 9.11 USD\", \"opacity\": 0.6, \"showarrow\": true, \"x\": 148, \"xref\": \"x\", \"y\": 8468.4, \"yref\": \"y\"}, {\"arrowcolor\": \"DarkGreen\", \"arrowhead\": 2, \"arrowsize\": 0.8, \"arrowwidth\": 4, \"ax\": 0, \"ay\": 15, \"hoverlabel\": {\"bgcolor\": \"DarkGreen\"}, \"hovertext\": \"Step 148 [2018-05-21 09:00:00]<br>BUY 0.47650786 BTC @ 8475.6 USD MARKET<br>Total: 4038.69 USD - Comm.: 12.15 USD\", \"opacity\": 0.6, \"showarrow\": true, \"x\": 147, \"xref\": \"x\", \"y\": 8475.6, \"yref\": \"y\"}, {\"arrowcolor\": \"FireBrick\", \"arrowhead\": 2, \"arrowsize\": 0.8, \"arrowwidth\": 4, \"ax\": 0, \"ay\": -15, \"hoverlabel\": {\"bgcolor\": \"FireBrick\"}, \"hovertext\": \"Step 146 [2018-05-21 07:00:00]<br>SELL 0.01927978 BTC @ 8528.1 USD MARKET<br>Total: 164.42 USD - Comm.: 0.00005801 BTC\", \"opacity\": 0.6, \"showarrow\": true, \"x\": 145, \"xref\": \"x\", \"y\": 8528.1, \"yref\": \"y\"}, {\"arrowcolor\": \"FireBrick\", \"arrowhead\": 2, \"arrowsize\": 0.8, \"arrowwidth\": 4, \"ax\": 0, \"ay\": -15, \"hoverlabel\": {\"bgcolor\": \"FireBrick\"}, \"hovertext\": \"Step 135 [2018-05-20 20:00:00]<br>SELL 0.03736378 BTC @ 8551.5 USD MARKET<br>Total: 319.52 USD - Comm.: 0.00011243 BTC\", \"opacity\": 0.6, \"showarrow\": true, \"x\": 134, \"xref\": \"x\", \"y\": 8551.5, \"yref\": \"y\"}, {\"arrowcolor\": \"DarkGreen\", \"arrowhead\": 2, \"arrowsize\": 0.8, \"arrowwidth\": 4, \"ax\": 0, \"ay\": 15, \"hoverlabel\": {\"bgcolor\": \"DarkGreen\"}, \"hovertext\": \"Step 134 [2018-05-20 19:00:00]<br>BUY 0.04430818 BTC @ 8513.1 USD MARKET<br>Total: 377.2 USD - Comm.: 1.14 USD\", \"opacity\": 0.6, \"showarrow\": true, \"x\": 133, \"xref\": \"x\", \"y\": 8513.1, \"yref\": \"y\"}, {\"arrowcolor\": \"FireBrick\", \"arrowhead\": 2, \"arrowsize\": 0.8, \"arrowwidth\": 4, \"ax\": 0, \"ay\": -15, \"hoverlabel\": {\"bgcolor\": \"FireBrick\"}, \"hovertext\": \"Step 133 [2018-05-20 18:00:00]<br>SELL 0.59480002 BTC @ 8519.5 USD MARKET<br>Total: 5067.4 USD - Comm.: 0.00178977 BTC\", \"opacity\": 0.6, \"showarrow\": true, \"x\": 132, \"xref\": \"x\", \"y\": 8519.5, \"yref\": \"y\"}, {\"arrowcolor\": \"DarkGreen\", \"arrowhead\": 2, \"arrowsize\": 0.8, \"arrowwidth\": 4, \"ax\": 0, \"ay\": 15, \"hoverlabel\": {\"bgcolor\": \"DarkGreen\"}, \"hovertext\": \"Step 133 [2018-05-20 18:00:00]<br>BUY 0.78791831 BTC @ 8519.5 USD MARKET<br>Total: 6712.67 USD - Comm.: 20.20 USD\", \"opacity\": 0.6, \"showarrow\": true, \"x\": 132, \"xref\": \"x\", \"y\": 8519.5, \"yref\": \"y\"}, {\"arrowcolor\": \"FireBrick\", \"arrowhead\": 2, \"arrowsize\": 0.8, \"arrowwidth\": 4, \"ax\": 0, \"ay\": -15, \"hoverlabel\": {\"bgcolor\": \"FireBrick\"}, \"hovertext\": \"Step 132 [2018-05-20 17:00:00]<br>SELL 0.00930927 BTC @ 8517.8 USD MARKET<br>Total: 79.29 USD - Comm.: 0.00002801 BTC\", \"opacity\": 0.6, \"showarrow\": true, \"x\": 131, \"xref\": \"x\", \"y\": 8517.8, \"yref\": \"y\"}, {\"arrowcolor\": \"FireBrick\", \"arrowhead\": 2, \"arrowsize\": 0.8, \"arrowwidth\": 4, \"ax\": 0, \"ay\": -15, \"hoverlabel\": {\"bgcolor\": \"FireBrick\"}, \"hovertext\": \"Step 132 [2018-05-20 17:00:00]<br>SELL 0.14929039 BTC @ 8517.8 USD MARKET<br>Total: 1271.63 USD - Comm.: 0.00044922 BTC\", \"opacity\": 0.6, \"showarrow\": true, \"x\": 131, \"xref\": \"x\", \"y\": 8517.8, \"yref\": \"y\"}, {\"arrowcolor\": \"DarkGreen\", \"arrowhead\": 2, \"arrowsize\": 0.8, \"arrowwidth\": 4, \"ax\": 0, \"ay\": 15, \"hoverlabel\": {\"bgcolor\": \"DarkGreen\"}, \"hovertext\": \"Step 132 [2018-05-20 17:00:00]<br>BUY 0.01063772 BTC @ 8517.8 USD MARKET<br>Total: 90.61 USD - Comm.: 0.27 USD\", \"opacity\": 0.6, \"showarrow\": true, \"x\": 131, \"xref\": \"x\", \"y\": 8517.8, \"yref\": \"y\"}, {\"arrowcolor\": \"DarkGreen\", \"arrowhead\": 2, \"arrowsize\": 0.8, \"arrowwidth\": 4, \"ax\": 0, \"ay\": 15, \"hoverlabel\": {\"bgcolor\": \"DarkGreen\"}, \"hovertext\": \"Step 132 [2018-05-20 17:00:00]<br>BUY 0.04598136 BTC @ 8517.8 USD MARKET<br>Total: 391.66 USD - Comm.: 1.18 USD\", \"opacity\": 0.6, \"showarrow\": true, \"x\": 131, \"xref\": \"x\", \"y\": 8517.8, \"yref\": \"y\"}, {\"arrowcolor\": \"DarkGreen\", \"arrowhead\": 2, \"arrowsize\": 0.8, \"arrowwidth\": 4, \"ax\": 0, \"ay\": 15, \"hoverlabel\": {\"bgcolor\": \"DarkGreen\"}, \"hovertext\": \"Step 132 [2018-05-20 17:00:00]<br>BUY 1.52610416 BTC @ 8517.8 USD MARKET<br>Total: 12999.05 USD - Comm.: 39.11 USD\", \"opacity\": 0.6, \"showarrow\": true, \"x\": 131, \"xref\": \"x\", \"y\": 8517.8, \"yref\": \"y\"}, {\"arrowcolor\": \"FireBrick\", \"arrowhead\": 2, \"arrowsize\": 0.8, \"arrowwidth\": 4, \"ax\": 0, \"ay\": -15, \"hoverlabel\": {\"bgcolor\": \"FireBrick\"}, \"hovertext\": \"Step 131 [2018-05-20 16:00:00]<br>SELL 0.01865874 BTC @ 8484.6 USD MARKET<br>Total: 158.31 USD - Comm.: 0.00005614 BTC\", \"opacity\": 0.6, \"showarrow\": true, \"x\": 130, \"xref\": \"x\", \"y\": 8484.6, \"yref\": \"y\"}, {\"arrowcolor\": \"FireBrick\", \"arrowhead\": 2, \"arrowsize\": 0.8, \"arrowwidth\": 4, \"ax\": 0, \"ay\": -15, \"hoverlabel\": {\"bgcolor\": \"FireBrick\"}, \"hovertext\": \"Step 131 [2018-05-20 16:00:00]<br>SELL 0.07473148 BTC @ 8484.6 USD MARKET<br>Total: 634.07 USD - Comm.: 0.00022487 BTC\", \"opacity\": 0.6, \"showarrow\": true, \"x\": 130, \"xref\": \"x\", \"y\": 8484.6, \"yref\": \"y\"}, {\"arrowcolor\": \"FireBrick\", \"arrowhead\": 2, \"arrowsize\": 0.8, \"arrowwidth\": 4, \"ax\": 0, \"ay\": -15, \"hoverlabel\": {\"bgcolor\": \"FireBrick\"}, \"hovertext\": \"Step 131 [2018-05-20 16:00:00]<br>SELL 0.29876171 BTC @ 8484.6 USD MARKET<br>Total: 2534.87 USD - Comm.: 0.00089898 BTC\", \"opacity\": 0.6, \"showarrow\": true, \"x\": 130, \"xref\": \"x\", \"y\": 8484.6, \"yref\": \"y\"}, {\"arrowcolor\": \"DarkGreen\", \"arrowhead\": 2, \"arrowsize\": 0.8, \"arrowwidth\": 4, \"ax\": 0, \"ay\": 15, \"hoverlabel\": {\"bgcolor\": \"DarkGreen\"}, \"hovertext\": \"Step 131 [2018-05-20 16:00:00]<br>BUY 0.01505316 BTC @ 8484.6 USD MARKET<br>Total: 127.72 USD - Comm.: 0.38 USD\", \"opacity\": 0.6, \"showarrow\": true, \"x\": 130, \"xref\": \"x\", \"y\": 8484.6, \"yref\": \"y\"}, {\"arrowcolor\": \"DarkGreen\", \"arrowhead\": 2, \"arrowsize\": 0.8, \"arrowwidth\": 4, \"ax\": 0, \"ay\": 15, \"hoverlabel\": {\"bgcolor\": \"DarkGreen\"}, \"hovertext\": \"Step 131 [2018-05-20 16:00:00]<br>BUY 0.01325578 BTC @ 8484.6 USD MARKET<br>Total: 112.47 USD - Comm.: 0.34 USD\", \"opacity\": 0.6, \"showarrow\": true, \"x\": 130, \"xref\": \"x\", \"y\": 8484.6, \"yref\": \"y\"}, {\"arrowcolor\": \"DarkGreen\", \"arrowhead\": 2, \"arrowsize\": 0.8, \"arrowwidth\": 4, \"ax\": 0, \"ay\": 15, \"hoverlabel\": {\"bgcolor\": \"DarkGreen\"}, \"hovertext\": \"Step 131 [2018-05-20 16:00:00]<br>BUY 0.0747083 BTC @ 8484.6 USD MARKET<br>Total: 633.87 USD - Comm.: 1.91 USD\", \"opacity\": 0.6, \"showarrow\": true, \"x\": 130, \"xref\": \"x\", \"y\": 8484.6, \"yref\": \"y\"}, {\"arrowcolor\": \"DarkGreen\", \"arrowhead\": 2, \"arrowsize\": 0.8, \"arrowwidth\": 4, \"ax\": 0, \"ay\": 15, \"hoverlabel\": {\"bgcolor\": \"DarkGreen\"}, \"hovertext\": \"Step 131 [2018-05-20 16:00:00]<br>BUY 0.39626735 BTC @ 8484.6 USD MARKET<br>Total: 3362.17 USD - Comm.: 10.12 USD\", \"opacity\": 0.6, \"showarrow\": true, \"x\": 130, \"xref\": \"x\", \"y\": 8484.6, \"yref\": \"y\"}, {\"arrowcolor\": \"DarkGreen\", \"arrowhead\": 2, \"arrowsize\": 0.8, \"arrowwidth\": 4, \"ax\": 0, \"ay\": 15, \"hoverlabel\": {\"bgcolor\": \"DarkGreen\"}, \"hovertext\": \"Step 131 [2018-05-20 16:00:00]<br>BUY 1.58833534 BTC @ 8484.6 USD MARKET<br>Total: 13476.39 USD - Comm.: 40.55 USD\", \"opacity\": 0.6, \"showarrow\": true, \"x\": 130, \"xref\": \"x\", \"y\": 8484.6, \"yref\": \"y\"}, {\"arrowcolor\": \"DarkGreen\", \"arrowhead\": 2, \"arrowsize\": 0.8, \"arrowwidth\": 4, \"ax\": 0, \"ay\": 15, \"hoverlabel\": {\"bgcolor\": \"DarkGreen\"}, \"hovertext\": \"Step 131 [2018-05-20 16:00:00]<br>BUY 1.91390166 BTC @ 8484.6 USD MARKET<br>Total: 16238.69 USD - Comm.: 48.86 USD\", \"opacity\": 0.6, \"showarrow\": true, \"x\": 130, \"xref\": \"x\", \"y\": 8484.6, \"yref\": \"y\"}, {\"arrowcolor\": \"DarkGreen\", \"arrowhead\": 2, \"arrowsize\": 0.8, \"arrowwidth\": 4, \"ax\": 0, \"ay\": 15, \"hoverlabel\": {\"bgcolor\": \"DarkGreen\"}, \"hovertext\": \"Step 124 [2018-05-20 09:00:00]<br>BUY 0.00185192 BTC @ 8342.7 USD MARKET<br>Total: 15.45 USD - Comm.: 0.05 USD\", \"opacity\": 0.6, \"showarrow\": true, \"x\": 123, \"xref\": \"x\", \"y\": 8342.7, \"yref\": \"y\"}, {\"arrowcolor\": \"DarkGreen\", \"arrowhead\": 2, \"arrowsize\": 0.8, \"arrowwidth\": 4, \"ax\": 0, \"ay\": 15, \"hoverlabel\": {\"bgcolor\": \"DarkGreen\"}, \"hovertext\": \"Step 123 [2018-05-20 08:00:00]<br>BUY 0.00933728 BTC @ 8276.5 USD MARKET<br>Total: 77.28 USD - Comm.: 0.23 USD\", \"opacity\": 0.6, \"showarrow\": true, \"x\": 122, \"xref\": \"x\", \"y\": 8276.5, \"yref\": \"y\"}, {\"arrowcolor\": \"DarkGreen\", \"arrowhead\": 2, \"arrowsize\": 0.8, \"arrowwidth\": 4, \"ax\": 0, \"ay\": 15, \"hoverlabel\": {\"bgcolor\": \"DarkGreen\"}, \"hovertext\": \"Step 122 [2018-05-20 07:00:00]<br>BUY 0.01871488 BTC @ 8257.6 USD MARKET<br>Total: 154.54 USD - Comm.: 0.47 USD\", \"opacity\": 0.6, \"showarrow\": true, \"x\": 121, \"xref\": \"x\", \"y\": 8257.6, \"yref\": \"y\"}, {\"arrowcolor\": \"DarkGreen\", \"arrowhead\": 2, \"arrowsize\": 0.8, \"arrowwidth\": 4, \"ax\": 0, \"ay\": 15, \"hoverlabel\": {\"bgcolor\": \"DarkGreen\"}, \"hovertext\": \"Step 121 [2018-05-20 06:00:00]<br>BUY 0.03747621 BTC @ 8247.9 USD MARKET<br>Total: 309.1 USD - Comm.: 0.93 USD\", \"opacity\": 0.6, \"showarrow\": true, \"x\": 120, \"xref\": \"x\", \"y\": 8247.9, \"yref\": \"y\"}, {\"arrowcolor\": \"DarkGreen\", \"arrowhead\": 2, \"arrowsize\": 0.8, \"arrowwidth\": 4, \"ax\": 0, \"ay\": 15, \"hoverlabel\": {\"bgcolor\": \"DarkGreen\"}, \"hovertext\": \"Step 120 [2018-05-20 05:00:00]<br>BUY 0.07495635 BTC @ 8247.6 USD MARKET<br>Total: 618.21 USD - Comm.: 1.86 USD\", \"opacity\": 0.6, \"showarrow\": true, \"x\": 119, \"xref\": \"x\", \"y\": 8247.6, \"yref\": \"y\"}, {\"arrowcolor\": \"DarkGreen\", \"arrowhead\": 2, \"arrowsize\": 0.8, \"arrowwidth\": 4, \"ax\": 0, \"ay\": 15, \"hoverlabel\": {\"bgcolor\": \"DarkGreen\"}, \"hovertext\": \"Step 119 [2018-05-20 04:00:00]<br>BUY 0.14973961 BTC @ 8257.0 USD MARKET<br>Total: 1236.4 USD - Comm.: 3.72 USD\", \"opacity\": 0.6, \"showarrow\": true, \"x\": 118, \"xref\": \"x\", \"y\": 8257.0, \"yref\": \"y\"}, {\"arrowcolor\": \"DarkGreen\", \"arrowhead\": 2, \"arrowsize\": 0.8, \"arrowwidth\": 4, \"ax\": 0, \"ay\": 15, \"hoverlabel\": {\"bgcolor\": \"DarkGreen\"}, \"hovertext\": \"Step 118 [2018-05-20 03:00:00]<br>BUY 0.29966069 BTC @ 8252.0 USD MARKET<br>Total: 2472.8 USD - Comm.: 7.44 USD\", \"opacity\": 0.6, \"showarrow\": true, \"x\": 117, \"xref\": \"x\", \"y\": 8252.0, \"yref\": \"y\"}, {\"arrowcolor\": \"DarkGreen\", \"arrowhead\": 2, \"arrowsize\": 0.8, \"arrowwidth\": 4, \"ax\": 0, \"ay\": 15, \"hoverlabel\": {\"bgcolor\": \"DarkGreen\"}, \"hovertext\": \"Step 109 [2018-05-19 18:00:00]<br>BUY 0.59658979 BTC @ 8289.8 USD MARKET<br>Total: 4945.61 USD - Comm.: 14.88 USD\", \"opacity\": 0.6, \"showarrow\": true, \"x\": 108, \"xref\": \"x\", \"y\": 8289.8, \"yref\": \"y\"}, {\"arrowcolor\": \"FireBrick\", \"arrowhead\": 2, \"arrowsize\": 0.8, \"arrowwidth\": 4, \"ax\": 0, \"ay\": -15, \"hoverlabel\": {\"bgcolor\": \"FireBrick\"}, \"hovertext\": \"Step 105 [2018-05-19 14:00:00]<br>SELL 0.07338776 BTC @ 8302.7 USD MARKET<br>Total: 609.32 USD - Comm.: 0.00022083 BTC\", \"opacity\": 0.6, \"showarrow\": true, \"x\": 104, \"xref\": \"x\", \"y\": 8302.7, \"yref\": \"y\"}, {\"arrowcolor\": \"DarkGreen\", \"arrowhead\": 2, \"arrowsize\": 0.8, \"arrowwidth\": 4, \"ax\": 0, \"ay\": 15, \"hoverlabel\": {\"bgcolor\": \"DarkGreen\"}, \"hovertext\": \"Step 104 [2018-05-19 13:00:00]<br>BUY 0.00960413 BTC @ 8300.6 USD MARKET<br>Total: 79.72 USD - Comm.: 0.24 USD\", \"opacity\": 0.6, \"showarrow\": true, \"x\": 103, \"xref\": \"x\", \"y\": 8300.6, \"yref\": \"y\"}, {\"arrowcolor\": \"FireBrick\", \"arrowhead\": 2, \"arrowsize\": 0.8, \"arrowwidth\": 4, \"ax\": 0, \"ay\": -15, \"hoverlabel\": {\"bgcolor\": \"FireBrick\"}, \"hovertext\": \"Step 104 [2018-05-19 13:00:00]<br>SELL 0.001555 BTC @ 8300.6 USD MARKET<br>Total: 12.91 USD - Comm.: 0.00000468 BTC\", \"opacity\": 0.6, \"showarrow\": true, \"x\": 103, \"xref\": \"x\", \"y\": 8300.6, \"yref\": \"y\"}, {\"arrowcolor\": \"DarkGreen\", \"arrowhead\": 2, \"arrowsize\": 0.8, \"arrowwidth\": 4, \"ax\": 0, \"ay\": 15, \"hoverlabel\": {\"bgcolor\": \"DarkGreen\"}, \"hovertext\": \"Step 103 [2018-05-19 12:00:00]<br>BUY 0.0184022 BTC @ 8345.2 USD MARKET<br>Total: 153.57 USD - Comm.: 0.46 USD\", \"opacity\": 0.6, \"showarrow\": true, \"x\": 102, \"xref\": \"x\", \"y\": 8345.2, \"yref\": \"y\"}, {\"arrowcolor\": \"FireBrick\", \"arrowhead\": 2, \"arrowsize\": 0.8, \"arrowwidth\": 4, \"ax\": 0, \"ay\": -15, \"hoverlabel\": {\"bgcolor\": \"FireBrick\"}, \"hovertext\": \"Step 103 [2018-05-19 12:00:00]<br>SELL 0.14676045 BTC @ 8345.2 USD MARKET<br>Total: 1224.75 USD - Comm.: 0.00044161 BTC\", \"opacity\": 0.6, \"showarrow\": true, \"x\": 102, \"xref\": \"x\", \"y\": 8345.2, \"yref\": \"y\"}, {\"arrowcolor\": \"FireBrick\", \"arrowhead\": 2, \"arrowsize\": 0.8, \"arrowwidth\": 4, \"ax\": 0, \"ay\": -15, \"hoverlabel\": {\"bgcolor\": \"FireBrick\"}, \"hovertext\": \"Step 103 [2018-05-19 12:00:00]<br>SELL 0.13320112 BTC @ 8345.2 USD MARKET<br>Total: 1111.59 USD - Comm.: 0.00040081 BTC\", \"opacity\": 0.6, \"showarrow\": true, \"x\": 102, \"xref\": \"x\", \"y\": 8345.2, \"yref\": \"y\"}, {\"arrowcolor\": \"DarkGreen\", \"arrowhead\": 2, \"arrowsize\": 0.8, \"arrowwidth\": 4, \"ax\": 0, \"ay\": 15, \"hoverlabel\": {\"bgcolor\": \"DarkGreen\"}, \"hovertext\": \"Step 102 [2018-05-19 11:00:00]<br>BUY 0.01170007 BTC @ 8382.0 USD MARKET<br>Total: 98.07 USD - Comm.: 0.30 USD\", \"opacity\": 0.6, \"showarrow\": true, \"x\": 101, \"xref\": \"x\", \"y\": 8382.0, \"yref\": \"y\"}, {\"arrowcolor\": \"DarkGreen\", \"arrowhead\": 2, \"arrowsize\": 0.8, \"arrowwidth\": 4, \"ax\": 0, \"ay\": 15, \"hoverlabel\": {\"bgcolor\": \"DarkGreen\"}, \"hovertext\": \"Step 102 [2018-05-19 11:00:00]<br>BUY 0.02285612 BTC @ 8382.0 USD MARKET<br>Total: 191.58 USD - Comm.: 0.58 USD\", \"opacity\": 0.6, \"showarrow\": true, \"x\": 101, \"xref\": \"x\", \"y\": 8382.0, \"yref\": \"y\"}, {\"arrowcolor\": \"DarkGreen\", \"arrowhead\": 2, \"arrowsize\": 0.8, \"arrowwidth\": 4, \"ax\": 0, \"ay\": 15, \"hoverlabel\": {\"bgcolor\": \"DarkGreen\"}, \"hovertext\": \"Step 102 [2018-05-19 11:00:00]<br>BUY 0.02874254 BTC @ 8382.0 USD MARKET<br>Total: 240.92 USD - Comm.: 0.72 USD\", \"opacity\": 0.6, \"showarrow\": true, \"x\": 101, \"xref\": \"x\", \"y\": 8382.0, \"yref\": \"y\"}, {\"arrowcolor\": \"DarkGreen\", \"arrowhead\": 2, \"arrowsize\": 0.8, \"arrowwidth\": 4, \"ax\": 0, \"ay\": 15, \"hoverlabel\": {\"bgcolor\": \"DarkGreen\"}, \"hovertext\": \"Step 102 [2018-05-19 11:00:00]<br>BUY 0.03587211 BTC @ 8382.0 USD MARKET<br>Total: 300.68 USD - Comm.: 0.90 USD\", \"opacity\": 0.6, \"showarrow\": true, \"x\": 101, \"xref\": \"x\", \"y\": 8382.0, \"yref\": \"y\"}, {\"arrowcolor\": \"FireBrick\", \"arrowhead\": 2, \"arrowsize\": 0.8, \"arrowwidth\": 4, \"ax\": 0, \"ay\": -15, \"hoverlabel\": {\"bgcolor\": \"FireBrick\"}, \"hovertext\": \"Step 102 [2018-05-19 11:00:00]<br>SELL 0.02929185 BTC @ 8382.0 USD MARKET<br>Total: 245.52 USD - Comm.: 0.00008814 BTC\", \"opacity\": 0.6, \"showarrow\": true, \"x\": 101, \"xref\": \"x\", \"y\": 8382.0, \"yref\": \"y\"}, {\"arrowcolor\": \"FireBrick\", \"arrowhead\": 2, \"arrowsize\": 0.8, \"arrowwidth\": 4, \"ax\": 0, \"ay\": -15, \"hoverlabel\": {\"bgcolor\": \"FireBrick\"}, \"hovertext\": \"Step 102 [2018-05-19 11:00:00]<br>SELL 0.43579036 BTC @ 8382.0 USD MARKET<br>Total: 3652.79 USD - Comm.: 0.00131131 BTC\", \"opacity\": 0.6, \"showarrow\": true, \"x\": 101, \"xref\": \"x\", \"y\": 8382.0, \"yref\": \"y\"}], \"margin\": {\"t\": 50}, \"template\": {\"data\": {\"bar\": [{\"error_x\": {\"color\": \"#2a3f5f\"}, \"error_y\": {\"color\": \"#2a3f5f\"}, \"marker\": {\"line\": {\"color\": \"white\", \"width\": 0.5}}, \"type\": \"bar\"}], \"barpolar\": [{\"marker\": {\"line\": {\"color\": \"white\", \"width\": 0.5}}, \"type\": \"barpolar\"}], \"carpet\": [{\"aaxis\": {\"endlinecolor\": \"#2a3f5f\", \"gridcolor\": \"#C8D4E3\", \"linecolor\": \"#C8D4E3\", \"minorgridcolor\": \"#C8D4E3\", \"startlinecolor\": \"#2a3f5f\"}, \"baxis\": {\"endlinecolor\": \"#2a3f5f\", \"gridcolor\": \"#C8D4E3\", \"linecolor\": \"#C8D4E3\", \"minorgridcolor\": \"#C8D4E3\", \"startlinecolor\": \"#2a3f5f\"}, \"type\": \"carpet\"}], \"choropleth\": [{\"colorbar\": {\"outlinewidth\": 0, \"ticks\": \"\"}, \"type\": \"choropleth\"}], \"contour\": [{\"colorbar\": {\"outlinewidth\": 0, \"ticks\": \"\"}, \"colorscale\": [[0.0, \"#0d0887\"], [0.1111111111111111, \"#46039f\"], [0.2222222222222222, \"#7201a8\"], [0.3333333333333333, \"#9c179e\"], [0.4444444444444444, \"#bd3786\"], [0.5555555555555556, \"#d8576b\"], [0.6666666666666666, \"#ed7953\"], [0.7777777777777778, \"#fb9f3a\"], [0.8888888888888888, \"#fdca26\"], [1.0, \"#f0f921\"]], \"type\": \"contour\"}], \"contourcarpet\": [{\"colorbar\": {\"outlinewidth\": 0, \"ticks\": \"\"}, \"type\": \"contourcarpet\"}], \"heatmap\": [{\"colorbar\": {\"outlinewidth\": 0, \"ticks\": \"\"}, \"colorscale\": [[0.0, \"#0d0887\"], [0.1111111111111111, \"#46039f\"], [0.2222222222222222, \"#7201a8\"], [0.3333333333333333, \"#9c179e\"], [0.4444444444444444, \"#bd3786\"], [0.5555555555555556, \"#d8576b\"], [0.6666666666666666, \"#ed7953\"], [0.7777777777777778, \"#fb9f3a\"], [0.8888888888888888, \"#fdca26\"], [1.0, \"#f0f921\"]], \"type\": \"heatmap\"}], \"heatmapgl\": [{\"colorbar\": {\"outlinewidth\": 0, \"ticks\": \"\"}, \"colorscale\": [[0.0, \"#0d0887\"], [0.1111111111111111, \"#46039f\"], [0.2222222222222222, \"#7201a8\"], [0.3333333333333333, \"#9c179e\"], [0.4444444444444444, \"#bd3786\"], [0.5555555555555556, \"#d8576b\"], [0.6666666666666666, \"#ed7953\"], [0.7777777777777778, \"#fb9f3a\"], [0.8888888888888888, \"#fdca26\"], [1.0, \"#f0f921\"]], \"type\": \"heatmapgl\"}], \"histogram\": [{\"marker\": {\"colorbar\": {\"outlinewidth\": 0, \"ticks\": \"\"}}, \"type\": \"histogram\"}], \"histogram2d\": [{\"colorbar\": {\"outlinewidth\": 0, \"ticks\": \"\"}, \"colorscale\": [[0.0, \"#0d0887\"], [0.1111111111111111, \"#46039f\"], [0.2222222222222222, \"#7201a8\"], [0.3333333333333333, \"#9c179e\"], [0.4444444444444444, \"#bd3786\"], [0.5555555555555556, \"#d8576b\"], [0.6666666666666666, \"#ed7953\"], [0.7777777777777778, \"#fb9f3a\"], [0.8888888888888888, \"#fdca26\"], [1.0, \"#f0f921\"]], \"type\": \"histogram2d\"}], \"histogram2dcontour\": [{\"colorbar\": {\"outlinewidth\": 0, \"ticks\": \"\"}, \"colorscale\": [[0.0, \"#0d0887\"], [0.1111111111111111, \"#46039f\"], [0.2222222222222222, \"#7201a8\"], [0.3333333333333333, \"#9c179e\"], [0.4444444444444444, \"#bd3786\"], [0.5555555555555556, \"#d8576b\"], [0.6666666666666666, \"#ed7953\"], [0.7777777777777778, \"#fb9f3a\"], [0.8888888888888888, \"#fdca26\"], [1.0, \"#f0f921\"]], \"type\": \"histogram2dcontour\"}], \"mesh3d\": [{\"colorbar\": {\"outlinewidth\": 0, \"ticks\": \"\"}, \"type\": \"mesh3d\"}], \"parcoords\": [{\"line\": {\"colorbar\": {\"outlinewidth\": 0, \"ticks\": \"\"}}, \"type\": \"parcoords\"}], \"pie\": [{\"automargin\": true, \"type\": \"pie\"}], \"scatter\": [{\"marker\": {\"colorbar\": {\"outlinewidth\": 0, \"ticks\": \"\"}}, \"type\": \"scatter\"}], \"scatter3d\": [{\"line\": {\"colorbar\": {\"outlinewidth\": 0, \"ticks\": \"\"}}, \"marker\": {\"colorbar\": {\"outlinewidth\": 0, \"ticks\": \"\"}}, \"type\": \"scatter3d\"}], \"scattercarpet\": [{\"marker\": {\"colorbar\": {\"outlinewidth\": 0, \"ticks\": \"\"}}, \"type\": \"scattercarpet\"}], \"scattergeo\": [{\"marker\": {\"colorbar\": {\"outlinewidth\": 0, \"ticks\": \"\"}}, \"type\": \"scattergeo\"}], \"scattergl\": [{\"marker\": {\"colorbar\": {\"outlinewidth\": 0, \"ticks\": \"\"}}, \"type\": \"scattergl\"}], \"scattermapbox\": [{\"marker\": {\"colorbar\": {\"outlinewidth\": 0, \"ticks\": \"\"}}, \"type\": \"scattermapbox\"}], \"scatterpolar\": [{\"marker\": {\"colorbar\": {\"outlinewidth\": 0, \"ticks\": \"\"}}, \"type\": \"scatterpolar\"}], \"scatterpolargl\": [{\"marker\": {\"colorbar\": {\"outlinewidth\": 0, \"ticks\": \"\"}}, \"type\": \"scatterpolargl\"}], \"scatterternary\": [{\"marker\": {\"colorbar\": {\"outlinewidth\": 0, \"ticks\": \"\"}}, \"type\": \"scatterternary\"}], \"surface\": [{\"colorbar\": {\"outlinewidth\": 0, \"ticks\": \"\"}, \"colorscale\": [[0.0, \"#0d0887\"], [0.1111111111111111, \"#46039f\"], [0.2222222222222222, \"#7201a8\"], [0.3333333333333333, \"#9c179e\"], [0.4444444444444444, \"#bd3786\"], [0.5555555555555556, \"#d8576b\"], [0.6666666666666666, \"#ed7953\"], [0.7777777777777778, \"#fb9f3a\"], [0.8888888888888888, \"#fdca26\"], [1.0, \"#f0f921\"]], \"type\": \"surface\"}], \"table\": [{\"cells\": {\"fill\": {\"color\": \"#EBF0F8\"}, \"line\": {\"color\": \"white\"}}, \"header\": {\"fill\": {\"color\": \"#C8D4E3\"}, \"line\": {\"color\": \"white\"}}, \"type\": \"table\"}]}, \"layout\": {\"annotationdefaults\": {\"arrowcolor\": \"#2a3f5f\", \"arrowhead\": 0, \"arrowwidth\": 1}, \"autotypenumbers\": \"strict\", \"coloraxis\": {\"colorbar\": {\"outlinewidth\": 0, \"ticks\": \"\"}}, \"colorscale\": {\"diverging\": [[0, \"#8e0152\"], [0.1, \"#c51b7d\"], [0.2, \"#de77ae\"], [0.3, \"#f1b6da\"], [0.4, \"#fde0ef\"], [0.5, \"#f7f7f7\"], [0.6, \"#e6f5d0\"], [0.7, \"#b8e186\"], [0.8, \"#7fbc41\"], [0.9, \"#4d9221\"], [1, \"#276419\"]], \"sequential\": [[0.0, \"#0d0887\"], [0.1111111111111111, \"#46039f\"], [0.2222222222222222, \"#7201a8\"], [0.3333333333333333, \"#9c179e\"], [0.4444444444444444, \"#bd3786\"], [0.5555555555555556, \"#d8576b\"], [0.6666666666666666, \"#ed7953\"], [0.7777777777777778, \"#fb9f3a\"], [0.8888888888888888, \"#fdca26\"], [1.0, \"#f0f921\"]], \"sequentialminus\": [[0.0, \"#0d0887\"], [0.1111111111111111, \"#46039f\"], [0.2222222222222222, \"#7201a8\"], [0.3333333333333333, \"#9c179e\"], [0.4444444444444444, \"#bd3786\"], [0.5555555555555556, \"#d8576b\"], [0.6666666666666666, \"#ed7953\"], [0.7777777777777778, \"#fb9f3a\"], [0.8888888888888888, \"#fdca26\"], [1.0, \"#f0f921\"]]}, \"colorway\": [\"#636efa\", \"#EF553B\", \"#00cc96\", \"#ab63fa\", \"#FFA15A\", \"#19d3f3\", \"#FF6692\", \"#B6E880\", \"#FF97FF\", \"#FECB52\"], \"font\": {\"color\": \"#2a3f5f\"}, \"geo\": {\"bgcolor\": \"white\", \"lakecolor\": \"white\", \"landcolor\": \"white\", \"showlakes\": true, \"showland\": true, \"subunitcolor\": \"#C8D4E3\"}, \"hoverlabel\": {\"align\": \"left\"}, \"hovermode\": \"closest\", \"mapbox\": {\"style\": \"light\"}, \"paper_bgcolor\": \"white\", \"plot_bgcolor\": \"white\", \"polar\": {\"angularaxis\": {\"gridcolor\": \"#EBF0F8\", \"linecolor\": \"#EBF0F8\", \"ticks\": \"\"}, \"bgcolor\": \"white\", \"radialaxis\": {\"gridcolor\": \"#EBF0F8\", \"linecolor\": \"#EBF0F8\", \"ticks\": \"\"}}, \"scene\": {\"xaxis\": {\"backgroundcolor\": \"white\", \"gridcolor\": \"#DFE8F3\", \"gridwidth\": 2, \"linecolor\": \"#EBF0F8\", \"showbackground\": true, \"ticks\": \"\", \"zerolinecolor\": \"#EBF0F8\"}, \"yaxis\": {\"backgroundcolor\": \"white\", \"gridcolor\": \"#DFE8F3\", \"gridwidth\": 2, \"linecolor\": \"#EBF0F8\", \"showbackground\": true, \"ticks\": \"\", \"zerolinecolor\": \"#EBF0F8\"}, \"zaxis\": {\"backgroundcolor\": \"white\", \"gridcolor\": \"#DFE8F3\", \"gridwidth\": 2, \"linecolor\": \"#EBF0F8\", \"showbackground\": true, \"ticks\": \"\", \"zerolinecolor\": \"#EBF0F8\"}}, \"shapedefaults\": {\"line\": {\"color\": \"#2a3f5f\"}}, \"ternary\": {\"aaxis\": {\"gridcolor\": \"#DFE8F3\", \"linecolor\": \"#A2B1C6\", \"ticks\": \"\"}, \"baxis\": {\"gridcolor\": \"#DFE8F3\", \"linecolor\": \"#A2B1C6\", \"ticks\": \"\"}, \"bgcolor\": \"white\", \"caxis\": {\"gridcolor\": \"#DFE8F3\", \"linecolor\": \"#A2B1C6\", \"ticks\": \"\"}}, \"title\": {\"x\": 0.05}, \"xaxis\": {\"automargin\": true, \"gridcolor\": \"#EBF0F8\", \"linecolor\": \"#EBF0F8\", \"ticks\": \"\", \"title\": {\"standoff\": 15}, \"zerolinecolor\": \"#EBF0F8\", \"zerolinewidth\": 2}, \"yaxis\": {\"automargin\": true, \"gridcolor\": \"#EBF0F8\", \"linecolor\": \"#EBF0F8\", \"ticks\": \"\", \"title\": {\"standoff\": 15}, \"zerolinecolor\": \"#EBF0F8\", \"zerolinewidth\": 2}}}, \"title\": {\"text\": \"[2021-02-10 15:36:32 PM] Episode: 200/200 Step: 151/200\"}, \"xaxis\": {\"anchor\": \"y\", \"domain\": [0.0, 1.0], \"gridcolor\": \"Gainsboro\", \"linecolor\": \"Grey\", \"matches\": \"x4\", \"rangeslider\": {\"visible\": false}, \"showticklabels\": false, \"title\": {\"font\": {\"size\": 12}, \"standoff\": 7, \"text\": \"Price\"}}, \"xaxis2\": {\"anchor\": \"y2\", \"domain\": [0.0, 1.0], \"gridcolor\": \"Gainsboro\", \"linecolor\": \"Grey\", \"matches\": \"x4\", \"showticklabels\": false, \"title\": {\"font\": {\"size\": 12}, \"standoff\": 7, \"text\": \"Volume\"}}, \"xaxis3\": {\"anchor\": \"y3\", \"domain\": [0.0, 1.0], \"gridcolor\": \"Gainsboro\", \"linecolor\": \"Grey\", \"matches\": \"x4\", \"showticklabels\": false, \"title\": {\"font\": {\"size\": 12}, \"standoff\": 7, \"text\": \"Performance\"}}, \"xaxis4\": {\"anchor\": \"y4\", \"domain\": [0.0, 1.0], \"gridcolor\": \"Gainsboro\", \"linecolor\": \"Grey\", \"title\": {\"font\": {\"size\": 12}, \"standoff\": 7, \"text\": \"Net Worth\"}}, \"yaxis\": {\"anchor\": \"x\", \"domain\": [0.49950000000000006, 1.0], \"gridcolor\": \"Gainsboro\", \"linecolor\": \"Grey\"}, \"yaxis2\": {\"anchor\": \"x2\", \"domain\": [0.333, 0.46950000000000003], \"gridcolor\": \"Gainsboro\", \"linecolor\": \"Grey\"}, \"yaxis3\": {\"anchor\": \"x3\", \"domain\": [0.1665, 0.30300000000000005], \"gridcolor\": \"Gainsboro\", \"linecolor\": \"Grey\"}, \"yaxis4\": {\"anchor\": \"x4\", \"domain\": [0.0, 0.1365], \"gridcolor\": \"Gainsboro\", \"linecolor\": \"Grey\"}},                        {\"responsive\": true}                    ).then(function(){\n",
       "                            \n",
       "var gd = document.getElementById('e07cd17a-31c1-4ab5-ac10-82da78bb1074');\n",
       "var x = new MutationObserver(function (mutations, observer) {{\n",
       "        var display = window.getComputedStyle(gd).display;\n",
       "        if (!display || display === 'none') {{\n",
       "            console.log([gd, 'removed!']);\n",
       "            Plotly.purge(gd);\n",
       "            observer.disconnect();\n",
       "        }}\n",
       "}});\n",
       "\n",
       "// Listen for the removal of the full notebook cells\n",
       "var notebookContainer = gd.closest('#notebook-container');\n",
       "if (notebookContainer) {{\n",
       "    x.observe(notebookContainer, {childList: true});\n",
       "}}\n",
       "\n",
       "// Listen for the clearing of the current output cell\n",
       "var outputEl = gd.closest('.output');\n",
       "if (outputEl) {{\n",
       "    x.observe(outputEl, {childList: true});\n",
       "}}\n",
       "\n",
       "                        })                };                });            </script>        </div>"
      ]
     },
     "metadata": {},
     "output_type": "display_data"
    },
    {
     "data": {
      "application/vnd.jupyter.widget-view+json": {
       "model_id": "8064246932534587a59ed6f71a603ecb",
       "version_major": 2,
       "version_minor": 0
      },
      "text/plain": [
       "FigureWidget({\n",
       "    'data': [{'close': array([8739.  , 8743.  , 8723.7 , 8708.1 , 8784.4 , 8755.2 , 8762.  , 87…"
      ]
     },
     "metadata": {},
     "output_type": "display_data"
    },
    {
     "data": {
      "application/vnd.plotly.v1+json": {
       "config": {
        "plotlyServerURL": "https://plot.ly"
       },
       "data": [
        {
         "close": [
          8739,
          8743,
          8723.7,
          8708.1,
          8784.4,
          8755.2,
          8762,
          8742.6,
          8512,
          8520.8,
          8532.1,
          8553.8,
          8516.5,
          8551.2,
          8516.7,
          8476,
          8459.9,
          8467.5,
          8454.2,
          8327.9,
          8124.4,
          8152,
          8205.3,
          8197.7,
          8223.9,
          8221.1,
          8194.2,
          8225.1,
          8357.2,
          8358.5,
          8348.6,
          8158.1,
          8205.9,
          8276,
          8255.2,
          8286.4,
          8266.2,
          8227.4,
          8290,
          8271.9,
          8278.1,
          8336.1,
          8346.07,
          8368.7,
          8373.5,
          8355,
          8319.5,
          8352.2,
          8337.8,
          8246.7,
          8270.1,
          8279.4,
          8296.4,
          8302,
          8274.8,
          8288.8,
          8311.8,
          8300.9,
          8271.6,
          8250,
          8163.4,
          8170,
          8206.1,
          8147.08,
          8069.9,
          8054.3,
          7958,
          7981.1,
          7995.1,
          7996,
          8016,
          8035.7,
          7964,
          8085,
          8123.6,
          8102.4,
          8130,
          8101.5,
          8105.5,
          8095.7,
          8074.9,
          8105,
          8130,
          8103.3,
          8209.1,
          8224.9,
          8224.2,
          8226.9,
          8214,
          8238.9,
          8215,
          8192.9,
          8200,
          8237.5,
          8226.4,
          8236.2,
          8216.7,
          8171.4,
          8210,
          8188.9,
          8238.5,
          8382,
          8345.2,
          8300.6,
          8302.7,
          8307.9,
          8289.8,
          8296.4,
          8289.8,
          8304,
          8254,
          8195.1,
          8215.5,
          8231,
          8190.6,
          8218.3,
          8281.2,
          8252,
          8257,
          8247.6,
          8247.9,
          8257.6,
          8276.5,
          8342.7,
          8343,
          8342.7,
          8305.9,
          8319.8,
          8342,
          8373.2,
          8484.6,
          8517.8,
          8519.5,
          8513.1,
          8551.5,
          8524.1,
          8492.2,
          8523.6,
          8489.7,
          8460,
          8500.3,
          8496.7,
          8523.2,
          8509.42,
          8555,
          8528.1,
          8513.1,
          8475.6,
          8468.4,
          8483.6,
          8495.8,
          8492.1,
          8409.8,
          8409.7,
          8394.6,
          8380.6,
          8343.7,
          8376.87,
          8406.45,
          8385.03,
          8395,
          8398.8,
          8361.9,
          8278.8,
          8288.3,
          8313.5,
          8280.4,
          8297.8,
          8318,
          8313.2,
          8291,
          8235.9,
          8265.13,
          8205.2,
          8170.3,
          8213.96,
          8225,
          8230.1,
          8217.7,
          8203.1,
          8213.9,
          8183.4,
          8108.4,
          8068.9,
          7968.8,
          7977.85,
          7955,
          7898.67,
          7897.2,
          7950.1,
          7890,
          7906.2,
          7942.2,
          7844.1,
          7845.5,
          7845,
          7839.9,
          7848.9,
          7905.9,
          7897.3,
          7877.4
         ],
         "high": [
          8793,
          8754.8,
          8743.1,
          8737.8,
          8855.7,
          8804.9,
          8789.1,
          8798.1,
          8742.7,
          8544,
          8580,
          8578.4,
          8553.8,
          8560.5,
          8558,
          8540.9,
          8552,
          8498.4,
          8492.7,
          8462.1,
          8328.7,
          8217,
          8236.87,
          8221.3,
          8270.8,
          8241.4,
          8241.9,
          8258.5,
          8420,
          8426.3,
          8380,
          8372.8,
          8212,
          8370.2,
          8318.5,
          8349.3,
          8328,
          8375,
          8290.8,
          8314,
          8366.9,
          8357.3,
          8396.8,
          8376.1,
          8394,
          8482.2,
          8373.5,
          8374.8,
          8364.3,
          8345.7,
          8280.6,
          8315.6,
          8313.2,
          8316,
          8337.4,
          8299.9,
          8363,
          8323.8,
          8320.6,
          8271.6,
          8266.4,
          8192,
          8232,
          8206.5,
          8147.08,
          8093,
          8063,
          8024.9,
          8022.7,
          8023,
          8057,
          8046.2,
          8035.7,
          8161,
          8138.7,
          8130.8,
          8145.8,
          8131.7,
          8128,
          8116,
          8095.8,
          8133,
          8157.6,
          8143.9,
          8224,
          8277.2,
          8250.1,
          8265.5,
          8246.9,
          8247.5,
          8255,
          8225.2,
          8211.6,
          8277.8,
          8270.7,
          8236.92,
          8250,
          8219,
          8210,
          8213,
          8250,
          8430,
          8401,
          8374.3,
          8330.1,
          8315.1,
          8315.2,
          8302.1,
          8315.4,
          8304.1,
          8310,
          8254,
          8234,
          8248.7,
          8231,
          8220,
          8282.04,
          8286.1,
          8265.9,
          8270,
          8291,
          8268.9,
          8298.9,
          8357.5,
          8379,
          8346.5,
          8360.4,
          8337.5,
          8350.4,
          8374.1,
          8535,
          8530.1,
          8549,
          8520.6,
          8597.9,
          8564.8,
          8547.4,
          8525,
          8550,
          8492,
          8519.8,
          8515.9,
          8533.7,
          8526.2,
          8635.5,
          8644,
          8528.3,
          8516,
          8483.8,
          8486.5,
          8503.2,
          8510.8,
          8492.2,
          8421.4,
          8409.7,
          8406.4,
          8380.7,
          8391.4,
          8443.1,
          8431.18,
          8395,
          8421,
          8408.28,
          8365.1,
          8313,
          8316.8,
          8319,
          8300,
          8354.6,
          8324.5,
          8313.2,
          8291.1,
          8268.9,
          8269.1,
          8215.87,
          8233.5,
          8250.1,
          8240.3,
          8246.6,
          8233,
          8221.4,
          8228.6,
          8196.8,
          8108.6,
          8102.9,
          8027.66,
          8020,
          7955.1,
          7920.5,
          7967,
          7950.1,
          7923.7,
          7949.4,
          7942.3,
          7875.2,
          7858.1,
          7896.4,
          7870.2,
          7925,
          7934,
          7898.8
         ],
         "low": [
          8714.9,
          8719.3,
          8653.2,
          8701.2,
          8695.8,
          8734.8,
          8743,
          8633,
          8480.2,
          8472.5,
          8485.7,
          8499,
          8438.1,
          8436.8,
          8479.3,
          8476,
          8415,
          8451,
          8420,
          8282,
          8100,
          8124.4,
          8152,
          8152,
          8156.1,
          8197.33,
          8177.4,
          8194.2,
          8225.1,
          8356.8,
          8342.2,
          8121.7,
          8158.07,
          8205.8,
          8192.6,
          8240.9,
          8266.1,
          8227.01,
          8222,
          8252.2,
          8271.9,
          8274,
          8319.2,
          8311.3,
          8354.9,
          8320.9,
          8316.4,
          8274.2,
          8333.1,
          8190.4,
          8202.5,
          8263,
          8256.7,
          8280,
          8227.8,
          8266.44,
          8287.8,
          8286.9,
          8218.3,
          8228.76,
          8119.4,
          8153,
          8170,
          8144.4,
          7982.5,
          7990.7,
          7925,
          7941.3,
          7944.8,
          7977.03,
          7995.8,
          7990.12,
          7950.8,
          7964,
          8080.3,
          8085.1,
          8093.1,
          8050,
          8079.7,
          8050,
          8036.7,
          8066.2,
          8080,
          8093.8,
          8085.9,
          8200.3,
          8205.5,
          8222.8,
          8200.3,
          8214,
          8211,
          8164.1,
          8178.7,
          8185.86,
          8222.1,
          8216,
          8216.1,
          8140.2,
          8145.2,
          8185.1,
          8188.8,
          8230.2,
          8327.2,
          8283.5,
          8294.5,
          8279,
          8273.6,
          8271,
          8289.8,
          8274.4,
          8254,
          8189.2,
          8172.4,
          8197.2,
          8182.1,
          8171.5,
          8212,
          8240.2,
          8237.7,
          8241,
          8247.6,
          8229.7,
          8255.4,
          8276.5,
          8324.9,
          8316.5,
          8290.3,
          8292.8,
          8319.8,
          8337.5,
          8373.2,
          8470.3,
          8505.8,
          8484,
          8506.6,
          8512,
          8472.9,
          8492.1,
          8465.1,
          8432.1,
          8460,
          8479.9,
          8489.1,
          8500.7,
          8477.57,
          8509.5,
          8480.07,
          8468.4,
          8432.5,
          8440,
          8466.6,
          8479.4,
          8343.3,
          8377,
          8366.8,
          8377,
          8309.1,
          8343.7,
          8360.21,
          8364.6,
          8364,
          8376.11,
          8325,
          8253,
          8262.4,
          8273.5,
          8274.2,
          8276,
          8280,
          8290,
          8291,
          8216,
          8235.8,
          8194.6,
          8131.5,
          8170.2,
          8189.4,
          8207,
          8206.4,
          8192.6,
          8182,
          8160,
          8080.1,
          8041.1,
          7943.3,
          7968.8,
          7952,
          7840.3,
          7867,
          7889.6,
          7870,
          7885.13,
          7893.1,
          7784.89,
          7792.3,
          7800,
          7825.8,
          7794.9,
          7842.3,
          7875.1,
          7849.8
         ],
         "name": "Price",
         "open": [
          8723.8,
          8739,
          8743,
          8723.7,
          8708.1,
          8784.4,
          8755.2,
          8762,
          8742.6,
          8512,
          8520.8,
          8532.1,
          8553.8,
          8516.5,
          8551.2,
          8516.7,
          8476,
          8459.9,
          8467.5,
          8454.2,
          8327.9,
          8124.4,
          8152,
          8205.3,
          8197.7,
          8223.9,
          8221.1,
          8194.2,
          8225.1,
          8357.2,
          8358.5,
          8348.6,
          8158.1,
          8205.9,
          8276,
          8255.2,
          8286.4,
          8266.2,
          8227.4,
          8290,
          8271.9,
          8278.1,
          8336.1,
          8346.07,
          8368.7,
          8373.5,
          8355,
          8319.5,
          8352.2,
          8337.8,
          8246.7,
          8270.1,
          8279.4,
          8296.4,
          8302,
          8274.8,
          8288.8,
          8311.8,
          8300.9,
          8271.6,
          8250,
          8163.4,
          8170,
          8206.1,
          8147.08,
          8069.9,
          8054.3,
          7958,
          7981.1,
          7995.1,
          7996,
          8016,
          8035.7,
          7964,
          8085,
          8123.6,
          8102.4,
          8130,
          8101.5,
          8105.5,
          8095.7,
          8074.9,
          8105,
          8130,
          8103.3,
          8209.1,
          8224.9,
          8224.2,
          8226.9,
          8214,
          8238.9,
          8215,
          8192.9,
          8200,
          8237.5,
          8226.4,
          8236.2,
          8216.7,
          8171.4,
          8210,
          8188.9,
          8238.5,
          8382,
          8345.2,
          8300.6,
          8302.7,
          8307.9,
          8289.8,
          8296.4,
          8289.8,
          8304,
          8254,
          8195.1,
          8215.5,
          8231,
          8190.6,
          8218.3,
          8281.2,
          8252,
          8257,
          8247.6,
          8247.9,
          8257.6,
          8276.5,
          8342.7,
          8343,
          8342.7,
          8305.9,
          8319.8,
          8342,
          8373.2,
          8484.6,
          8517.8,
          8519.5,
          8513.1,
          8551.5,
          8524.1,
          8492.2,
          8523.6,
          8489.7,
          8460,
          8500.3,
          8496.7,
          8523.2,
          8509.42,
          8555,
          8528.1,
          8513.1,
          8475.6,
          8468.4,
          8483.6,
          8495.8,
          8492.1,
          8409.8,
          8409.7,
          8394.6,
          8380.6,
          8343.7,
          8376.87,
          8406.45,
          8385.03,
          8395,
          8398.8,
          8361.9,
          8278.8,
          8288.3,
          8313.5,
          8280.4,
          8297.8,
          8318,
          8313.2,
          8291,
          8235.9,
          8265.13,
          8205.2,
          8170.3,
          8213.96,
          8225,
          8230.1,
          8217.7,
          8203.1,
          8213.9,
          8183.4,
          8108.4,
          8068.9,
          7968.8,
          7977.85,
          7955,
          7898.67,
          7897.2,
          7950.1,
          7890,
          7906.2,
          7942.2,
          7844.1,
          7845.5,
          7845,
          7839.9,
          7848.9,
          7905.9,
          7897.3
         ],
         "showlegend": false,
         "type": "candlestick",
         "uid": "be5690eb-1fb1-447f-bbe2-c87085671b48",
         "xaxis": "x",
         "yaxis": "y"
        },
        {
         "marker": {
          "color": "DodgerBlue"
         },
         "name": "Volume",
         "showlegend": false,
         "type": "bar",
         "uid": "5ce9108d-9052-4658-8ea9-4c5a42f7f751",
         "xaxis": "x2",
         "y": [
          8988053.53,
          2288904.12,
          8891773.14,
          2054868.28,
          17309722.58,
          5755257.93,
          4406994.79,
          16375559.14,
          30884779.63,
          13585970.87,
          10472251.96,
          8155202.96,
          23290913.96,
          12093565.11,
          4843869.92,
          3853166.53,
          10032951.79,
          3405881.75,
          4240758.74,
          16395261.35,
          35444924.51,
          8483096.75,
          5883397.96,
          8490665.11,
          12865221.51,
          4455698.32,
          8168354.32,
          5245383.3,
          25717067.45,
          10531322.67,
          5479810.58,
          24269108.57,
          5457501.18,
          15802905.65,
          15226854.34,
          22453283.24,
          2340358.52,
          6197892.42,
          4343002.13,
          4066149.47,
          6783076.23,
          6912962.07,
          7878424.24,
          5713233.04,
          4875954.44,
          18714875.92,
          2581490.9,
          7487354.53,
          2795240.16,
          15044687.38,
          8332633.39,
          3351047.32,
          3576555.25,
          4412616.65,
          10318967.27,
          3219867.82,
          6528544.81,
          2382210.39,
          14537481.76,
          4152516.31,
          14783512.43,
          5582076.74,
          6338329.71,
          4880828.76,
          38371646.78,
          7470965.86,
          13753738,
          7557856.78,
          7570792.35,
          5015084.5,
          9380234.91,
          4996646.68,
          6179627.26,
          23205279.31,
          7010761.88,
          4485979.41,
          5708771.23,
          7389891.81,
          8258179.49,
          6649750.04,
          6531746.84,
          5094499.16,
          8542485.5,
          4862989.56,
          10479980.91,
          22630523.07,
          2287274.86,
          2232387.29,
          1645824.8,
          2765733.43,
          3205020.99,
          3952721.71,
          1140139.1,
          7996865.15,
          2889095.12,
          1665538.5,
          1151743,
          9742621.25,
          2324514.41,
          2334663.76,
          2927809.75,
          10054408.73,
          11994488.53,
          10677166.64,
          2714399.46,
          9219522.04,
          3947596.69,
          2038591.51,
          1794741.6,
          3154886.12,
          2134195.09,
          5748652,
          2924028.64,
          3827287.69,
          6168063.38,
          2415201.32,
          3497915.46,
          2793383.07,
          1063847.44,
          1265013.21,
          2593800.38,
          975383.46,
          3526062.84,
          8391262.5,
          10551816.42,
          2410417.1,
          4167090.12,
          2402958.29,
          3281445.66,
          4790161.14,
          32112292.21,
          8414953.43,
          4331045.83,
          2377630.74,
          9561521.09,
          3326566.88,
          5055280.71,
          1759777.52,
          4813504.98,
          2737503.35,
          3864542.95,
          2585601.42,
          2417391.2,
          2733111,
          10199547.48,
          11618582.86,
          3892092.62,
          2831684.29,
          5544414.73,
          2628818.44,
          3442683.24,
          4854378.4,
          18937125.5,
          8134435.71,
          4256611.03,
          2076678.05,
          6057524.99,
          2218106.47,
          4132533.12,
          24482389.13,
          1007305.8,
          2121333.12,
          5142931.84,
          10417287.53,
          4179932.81,
          2166980.34,
          1656817.73,
          1210418.21,
          6280893.84,
          2924961.63,
          3256222.92,
          9404046.53,
          3265484.85,
          8761627.77,
          17069692.03,
          7336422.44,
          4885423.12,
          6138230.38,
          4736103.43,
          3950680.33,
          4391248.65,
          5073325.2,
          12213175.1,
          9687024.49,
          22149450.48,
          8845847.72,
          6508199.92,
          16083897.65,
          3714283.6,
          5127784.52,
          9317052.44,
          4812037.9,
          3422480.97,
          20465614.86,
          11209632.31,
          7776784.77,
          9265376.88,
          5794893.52,
          6591597.2,
          7194865.6,
          9341499.18
         ],
         "yaxis": "y2"
        },
        {
         "mode": "lines",
         "name": "bitfinex:/USD-BTC",
         "type": "scatter",
         "uid": "3e0fa295-9351-4c5a-b276-05cb885bc559",
         "xaxis": "x3",
         "y": [
          8739,
          8743,
          8723.7,
          8708.1,
          8784.4,
          8755.2,
          8762,
          8742.6,
          8512,
          8520.8,
          8532.1,
          8553.8,
          8516.5,
          8551.2,
          8516.7,
          8476,
          8459.9,
          8467.5,
          8454.2,
          8327.9,
          8124.4,
          8152,
          8205.3,
          8197.7,
          8223.9,
          8221.1,
          8194.2,
          8225.1,
          8357.2,
          8358.5,
          8348.6,
          8158.1,
          8205.9,
          8276,
          8255.2,
          8286.4,
          8266.2,
          8227.4,
          8290,
          8271.9,
          8278.1,
          8336.1,
          8346.07,
          8368.7,
          8373.5,
          8355,
          8319.5,
          8352.2,
          8337.8,
          8246.7,
          8270.1,
          8279.4,
          8296.4,
          8302,
          8274.8,
          8288.8,
          8311.8,
          8300.9,
          8271.6,
          8250,
          8163.4,
          8170,
          8206.1,
          8147.08,
          8069.9,
          8054.3,
          7958,
          7981.1,
          7995.1,
          7996,
          8016,
          8035.7,
          7964,
          8085,
          8123.6,
          8102.4,
          8130,
          8101.5,
          8105.5,
          8095.7,
          8074.9,
          8105,
          8130,
          8103.3,
          8209.1,
          8224.9,
          8224.2,
          8226.9,
          8214,
          8238.9,
          8215,
          8192.9,
          8200,
          8237.5,
          8226.4,
          8236.2,
          8216.7,
          8171.4,
          8210,
          8188.9,
          8238.5,
          8382,
          8345.2,
          8300.6,
          8302.7,
          8307.9,
          8289.8,
          8296.4,
          8289.8,
          8304,
          8254,
          8195.1,
          8215.5,
          8231,
          8190.6,
          8218.3,
          8281.2,
          8252,
          8257,
          8247.6,
          8247.9,
          8257.6,
          8276.5,
          8342.7,
          8343,
          8342.7,
          8305.9,
          8319.8,
          8342,
          8373.2,
          8484.6,
          8517.8,
          8519.5,
          8513.1,
          8551.5,
          8524.1,
          8492.2,
          8523.6,
          8489.7,
          8460,
          8500.3,
          8496.7,
          8523.2,
          8509.42,
          8555,
          8528.1,
          8513.1,
          8475.6,
          8468.4,
          8483.6,
          8495.8,
          8492.1,
          8409.8,
          8409.7,
          8394.6,
          8380.6,
          8343.7,
          8376.87,
          8406.45,
          8385.03,
          8395,
          8398.8,
          8361.9,
          8278.8,
          8288.3,
          8313.5,
          8280.4,
          8297.8,
          8318,
          8313.2,
          8291,
          8235.9,
          8265.13,
          8205.2,
          8170.3,
          8213.96,
          8225,
          8230.1,
          8217.7,
          8203.1,
          8213.9,
          8183.4,
          8108.4,
          8068.9,
          7968.8,
          7977.85,
          7955,
          7898.67,
          7897.2,
          7950.1,
          7890,
          7906.2,
          7942.2,
          7844.1,
          7845.5,
          7845,
          7839.9,
          7848.9,
          7905.9,
          7897.3,
          7877.4
         ],
         "yaxis": "y3"
        },
        {
         "mode": "lines",
         "name": "bitfinex:/USD:/free",
         "type": "scatter",
         "uid": "f151d270-20bc-4f9f-bdb2-6c20abb873e6",
         "xaxis": "x3",
         "y": [
          10000,
          5000,
          5000,
          5000,
          2500,
          2500,
          1250,
          1250,
          1250,
          9728.01,
          9728.01,
          4864,
          4864,
          2432,
          2432,
          2432,
          2432,
          1216,
          1216,
          1216,
          8299.05,
          5310.31,
          2655.15,
          2655.15,
          1327.57,
          1327.57,
          1327.57,
          663.79,
          331.9,
          4574.75,
          7953.88,
          7953.88,
          3976.94,
          1988.47,
          1988.47,
          1988.47,
          1988.47,
          1988.47,
          1988.47,
          1590.78,
          1590.78,
          1590.78,
          5630.15,
          5630.15,
          6977.31,
          8994.23,
          8994.23,
          8994.23,
          8994.23,
          8994.23,
          8994.23,
          8994.23,
          8994.23,
          8994.23,
          8994.23,
          8994.23,
          8994.23,
          8994.23,
          8994.23,
          8994.23,
          8994.23,
          8994.23,
          8994.23,
          5396.54,
          5396.54,
          5396.54,
          4640.28,
          2699.62,
          1349.81,
          674.91,
          337.46,
          101.24,
          50.62,
          25.31,
          12.66,
          2392.55,
          1196.27,
          1196.27,
          598.14,
          598.14,
          598.14,
          598.14,
          598.14,
          598.14,
          598.14,
          2373.96,
          3064.1,
          3064.1,
          3064.1,
          3064.1,
          3064.1,
          3064.1,
          3064.1,
          3064.1,
          3064.1,
          3064.1,
          3064.1,
          3064.1,
          3064.1,
          3064.1,
          3064.1,
          3064.1,
          6962.41,
          9298.75,
          9311.66,
          9920.98,
          9920.98,
          9920.98,
          9920.98,
          4960.49,
          4960.49,
          4960.49,
          4960.49,
          4960.49,
          4960.49,
          4960.49,
          4960.49,
          4960.49,
          2480.25,
          1240.13,
          620.06,
          310.03,
          155.02,
          77.51,
          62.01,
          62.01,
          62.01,
          62.01,
          62.01,
          62.01,
          62.01,
          3389.26,
          4740.18,
          9807.58,
          9807.58,
          10127.1,
          10127.1,
          10127.1,
          10127.1,
          10127.1,
          10127.1,
          10127.1,
          10127.1,
          10127.1,
          10127.1,
          10127.1,
          10127.1,
          10127.1,
          6076.26,
          3038.13,
          1519.06,
          1215.25,
          972.2,
          777.76,
          777.76,
          388.88,
          194.44,
          97.22,
          48.61,
          38.89,
          19.44,
          9.72,
          9.72,
          9.72,
          2957.18,
          2953.8,
          2953.8,
          1476.9,
          738.45,
          738.45,
          738.45,
          738.45,
          738.45,
          738.45,
          1182.52,
          907.34,
          453.67,
          226.83,
          226.83,
          226.83,
          226.83,
          226.83,
          226.83,
          5615.17,
          7045.99,
          4892.12,
          2948.35,
          1474.18,
          1655.71,
          1664.79,
          1664.79,
          832.4,
          416.2,
          332.96,
          166.48,
          83.24,
          41.62,
          35.29,
          17.65,
          0,
          0
         ],
         "yaxis": "y3"
        },
        {
         "mode": "lines",
         "name": "bitfinex:/USD:/locked",
         "type": "scatter",
         "uid": "44aadd7f-fc29-4cef-a13e-32b972b5c765",
         "xaxis": "x3",
         "y": [
          0,
          0,
          34867.08,
          55741.15,
          55741.15,
          68352.74,
          68352.74,
          75900.4,
          80418.97,
          83718.51,
          84379.1,
          84379.1,
          85440.14,
          85440.14,
          85758.35,
          86011.89,
          86213.76,
          86213.76,
          86375.09,
          86503.95,
          34608.26,
          9373.61,
          1825.95,
          18667.91,
          18667.91,
          32172.02,
          59171.04,
          59171.04,
          59171.04,
          46334.71,
          53197.27,
          56624.49,
          55963.9,
          55963.9,
          57995.67,
          58401,
          59051.98,
          59441.62,
          59557.96,
          59557.96,
          59651.54,
          59651.54,
          59651.54,
          59651.54,
          57793.75,
          57884.69,
          57884.69,
          57884.69,
          57884.69,
          57884.69,
          57884.69,
          57884.69,
          57884.69,
          57884.69,
          57884.69,
          57884.69,
          57884.69,
          57884.69,
          57884.69,
          57884.69,
          57884.69,
          57884.69,
          57884.69,
          57884.69,
          57884.69,
          57723.36,
          57594.5,
          56922.94,
          56578.46,
          56578.46,
          56578.46,
          56578.46,
          56578.46,
          56476.91,
          56476.91,
          56788.09,
          56788.09,
          57037.23,
          57037.23,
          57235.94,
          57394.72,
          57521.41,
          57623.14,
          57704.78,
          57704.78,
          57704.78,
          57836.93,
          57836.93,
          57836.93,
          57836.93,
          57712.76,
          57712.76,
          57712.76,
          57712.76,
          57712.76,
          57712.76,
          57712.76,
          57712.76,
          57712.76,
          57712.76,
          57712.76,
          57712.76,
          56879.01,
          56724.98,
          56645.02,
          56645.02,
          56645.02,
          56645.02,
          56645.02,
          56645.02,
          56645.02,
          56645.02,
          56645.02,
          56645.02,
          56645.02,
          56645.02,
          56645.02,
          56645.02,
          56645.02,
          56645.02,
          56645.02,
          56645.02,
          56645.02,
          56645.02,
          56645.02,
          56645.02,
          56645.02,
          56645.02,
          56645.02,
          56645.02,
          56645.02,
          22591.55,
          9069.67,
          2336.8,
          1958.46,
          1958.46,
          1958.46,
          1958.46,
          1958.46,
          1958.46,
          1958.46,
          1958.46,
          1958.46,
          1958.46,
          1958.46,
          1958.46,
          2122.88,
          2122.88,
          2122.88,
          2122.88,
          2122.88,
          2122.88,
          2122.88,
          2122.88,
          2122.88,
          2122.88,
          2122.88,
          2122.88,
          2122.88,
          2122.88,
          2122.88,
          2122.88,
          2122.88,
          2122.88,
          2122.88,
          2122.88,
          2122.88,
          2122.88,
          2122.88,
          2122.88,
          2122.88,
          2122.88,
          2122.88,
          2122.88,
          2122.88,
          2122.88,
          2122.88,
          2122.88,
          2122.88,
          2122.88,
          2122.88,
          2122.88,
          2122.88,
          2122.88,
          2122.88,
          1958.46,
          1958.46,
          1958.46,
          2118.52,
          2118.52,
          2118.52,
          2118.52,
          2118.52,
          2118.52,
          2118.52,
          2118.52,
          2118.52,
          2118.52,
          2118.52,
          2118.52,
          2118.52
         ],
         "yaxis": "y3"
        },
        {
         "mode": "lines",
         "name": "bitfinex:/USD:/total",
         "type": "scatter",
         "uid": "18c61f0d-5270-439e-80cd-523e136dd11a",
         "xaxis": "x3",
         "y": [
          10000,
          5000,
          39867.08,
          60741.15,
          58241.15,
          70852.74,
          69602.74,
          77150.4,
          81668.97,
          93446.52,
          94107.11,
          89243.1,
          90304.14,
          87872.14,
          88190.35,
          88443.89,
          88645.76,
          87429.76,
          87591.09,
          87719.95,
          42907.31,
          14683.92,
          4481.1,
          21323.06,
          19995.48,
          33499.59,
          60498.61,
          59834.83,
          59502.94,
          50909.46,
          61151.15,
          64578.37,
          59940.84,
          57952.37,
          59984.14,
          60389.47,
          61040.45,
          61430.09,
          61546.43,
          61148.74,
          61242.32,
          61242.32,
          65281.69,
          65281.69,
          64771.06,
          66878.92,
          66878.92,
          66878.92,
          66878.92,
          66878.92,
          66878.92,
          66878.92,
          66878.92,
          66878.92,
          66878.92,
          66878.92,
          66878.92,
          66878.92,
          66878.92,
          66878.92,
          66878.92,
          66878.92,
          66878.92,
          63281.23,
          63281.23,
          63119.9,
          62234.78,
          59622.56,
          57928.27,
          57253.37,
          56915.92,
          56679.7,
          56629.08,
          56502.22,
          56489.57,
          59180.64,
          57984.36,
          58233.5,
          57635.37,
          57834.08,
          57992.86,
          58119.55,
          58221.28,
          58302.92,
          58302.92,
          60078.74,
          60901.03,
          60901.03,
          60901.03,
          60901.03,
          60776.86,
          60776.86,
          60776.86,
          60776.86,
          60776.86,
          60776.86,
          60776.86,
          60776.86,
          60776.86,
          60776.86,
          60776.86,
          60776.86,
          63841.42,
          66023.73,
          65956.68,
          66566,
          66566,
          66566,
          66566,
          61605.51,
          61605.51,
          61605.51,
          61605.51,
          61605.51,
          61605.51,
          61605.51,
          61605.51,
          61605.51,
          59125.27,
          57885.15,
          57265.08,
          56955.05,
          56800.04,
          56722.53,
          56707.03,
          56707.03,
          56707.03,
          56707.03,
          56707.03,
          56707.03,
          56707.03,
          25980.81,
          13809.85,
          12144.38,
          11766.04,
          12085.56,
          12085.56,
          12085.56,
          12085.56,
          12085.56,
          12085.56,
          12085.56,
          12085.56,
          12085.56,
          12085.56,
          12085.56,
          12249.98,
          12249.98,
          8199.14,
          5161.01,
          3641.94,
          3338.13,
          3095.08,
          2900.64,
          2900.64,
          2511.76,
          2317.32,
          2220.1,
          2171.49,
          2161.77,
          2142.32,
          2132.6,
          2132.6,
          2132.6,
          5080.06,
          5076.68,
          5076.68,
          3599.78,
          2861.33,
          2861.33,
          2861.33,
          2861.33,
          2861.33,
          2861.33,
          3305.4,
          3030.22,
          2576.55,
          2349.71,
          2349.71,
          2349.71,
          2349.71,
          2349.71,
          2349.71,
          7738.05,
          9168.87,
          6850.58,
          4906.81,
          3432.64,
          3774.23,
          3783.31,
          3783.31,
          2950.92,
          2534.72,
          2451.48,
          2285,
          2201.76,
          2160.14,
          2153.81,
          2136.17,
          2118.52,
          2118.52
         ],
         "yaxis": "y3"
        },
        {
         "mode": "lines",
         "name": "bitfinex:/BTC:/free",
         "type": "scatter",
         "uid": "89e35d7a-6159-4e93-9f8a-fcf29279fad7",
         "xaxis": "x3",
         "y": [
          10,
          10,
          6,
          3.6,
          3.6,
          2.16,
          2.16,
          1.296,
          0.7776,
          0.3888,
          0.31104,
          0.31104,
          0.186624,
          0.186624,
          0.1492992,
          0.11943936,
          0.09555149,
          0.09555149,
          0.07644119,
          0.06115295,
          6.27393106,
          9.37064589,
          10.2937347,
          8.23498776,
          8.23498776,
          6.58799021,
          3.2939951,
          3.2939951,
          3.2939951,
          1.64699755,
          0.82349877,
          0.41174938,
          0.49248019,
          0.49248019,
          0.2462401,
          0.19699208,
          0.11819525,
          0.07091715,
          0.05673372,
          0.05673372,
          0.04538698,
          0.04538698,
          0.04538698,
          0.04538698,
          0.02723219,
          0.01633931,
          0.01633931,
          0.01633931,
          0.01633931,
          0.01633931,
          0.01633931,
          0.01633931,
          0.01633931,
          0.01633931,
          0.01633931,
          0.01633931,
          0.01633931,
          0.01633931,
          0.01633931,
          0.01633931,
          0.01633931,
          0.01633931,
          0.01633931,
          0.01633931,
          0.01633931,
          0.0362714,
          0.05222189,
          0.13635735,
          0.17939027,
          0.17939027,
          0.17939027,
          0.17939027,
          0.17939027,
          0.19210373,
          0.19210373,
          0.15368298,
          0.15368298,
          0.12294638,
          0.12294638,
          0.0983571,
          0.07868568,
          0.06294854,
          0.05035883,
          0.04028706,
          0.04028706,
          0.04028706,
          0.02417224,
          0.02417224,
          0.02417224,
          0.02417224,
          0.02417224,
          0.02417224,
          0.02417224,
          0.02417224,
          0.02417224,
          0.02417224,
          0.02417224,
          0.02417224,
          0.02417224,
          0.02417224,
          0.02417224,
          0.02417224,
          0.02417224,
          0.02417224,
          0.02417224,
          0.02417224,
          0.02417224,
          0.02417224,
          0.02417224,
          0.02417224,
          0.02417224,
          0.02417224,
          0.02417224,
          0.02417224,
          0.02417224,
          0.02417224,
          0.02417224,
          0.02417224,
          0.02417224,
          0.02417224,
          0.02417224,
          0.02417224,
          0.02417224,
          0.02417224,
          0.02417224,
          0.02417224,
          0.02417224,
          0.02417224,
          0.02417224,
          0.02417224,
          0.02417224,
          0.02417224,
          0.02417224,
          0.02417224,
          0.02417224,
          0.02417224,
          0.02417224,
          0.02417224,
          0.02417224,
          0.02417224,
          0.02417224,
          0.02417224,
          0.02417224,
          0.02417224,
          0.02417224,
          0.02417224,
          0.00483445,
          0.00483445,
          0.00483445,
          0.00483445,
          0.00483445,
          0.00483445,
          0.00483445,
          0.00483445,
          0.00483445,
          0.00483445,
          0.00483445,
          0.00483445,
          0.00483445,
          0.00483445,
          0.00483445,
          0.00483445,
          0.00483445,
          0.00483445,
          0.00483445,
          0.00483445,
          0.00483445,
          0.00483445,
          0.00483445,
          0.00483445,
          0.00483445,
          0.00483445,
          0.00483445,
          0.00483445,
          0.00483445,
          0.00483445,
          0.00483445,
          0.00483445,
          0.00483445,
          0.00483445,
          0.00483445,
          0.00483445,
          0.00483445,
          0.00483445,
          0.00483445,
          0.02540593,
          0.02540593,
          0.02540593,
          0.00508119,
          0.00508119,
          0.00508119,
          0.00508119,
          0.00508119,
          0.00508119,
          0.00508119,
          0.00508119,
          0.00508119,
          0.00508119,
          0.00508119,
          0.00508119,
          0.00508119
         ],
         "yaxis": "y3"
        },
        {
         "mode": "lines",
         "name": "bitfinex:/BTC:/locked",
         "type": "scatter",
         "uid": "9f6eac37-950d-42bd-960c-9739c8f15114",
         "xaxis": "x3",
         "y": [
          0,
          0.5704314,
          0.5704314,
          0.5704314,
          0.85665916,
          0.85665916,
          0.99900314,
          0.99900314,
          0.99900314,
          0,
          0,
          0.56837355,
          0.56837355,
          0.85307971,
          0.85307971,
          0.85307971,
          0.85307971,
          0.99638519,
          0.99638519,
          0.99638519,
          0.14330548,
          0.50921545,
          0.83394435,
          0.83394435,
          0.99540427,
          0.99540427,
          0.99540427,
          1.07616749,
          1.11639679,
          3.7756648,
          3.37017268,
          3.37017268,
          3.85619393,
          4.09778839,
          4.09778839,
          4.09778839,
          4.09778839,
          4.09778839,
          4.09778839,
          4.1456171,
          4.1456171,
          4.1456171,
          3.65959585,
          3.65959585,
          3.73750883,
          3.49591437,
          3.49591437,
          3.49591437,
          3.49591437,
          3.49591437,
          3.49591437,
          3.49591437,
          3.49591437,
          3.49591437,
          3.49591437,
          3.49591437,
          3.49591437,
          3.49591437,
          3.49591437,
          3.49591437,
          3.49591437,
          3.49591437,
          3.49591437,
          3.93301604,
          3.93301604,
          3.93301604,
          4.02638867,
          4.2692335,
          4.43785186,
          4.52201341,
          4.56408945,
          4.59346944,
          4.59975016,
          4.60291817,
          4.60447785,
          4.3106363,
          4.45783836,
          4.45783836,
          4.53144695,
          4.53144695,
          4.53144695,
          4.53144695,
          4.53144695,
          4.53144695,
          4.53144695,
          4.31447183,
          4.23031028,
          4.23031028,
          4.23031028,
          4.23031028,
          4.24533656,
          4.24533656,
          4.24533656,
          4.24533656,
          4.24533656,
          4.24533656,
          4.24533656,
          4.24533656,
          4.24533656,
          4.24533656,
          4.24533656,
          4.24533656,
          3.87802574,
          3.61562395,
          3.6236684,
          3.55005981,
          3.55005981,
          3.55005981,
          3.55005981,
          4.1466496,
          4.1466496,
          4.1466496,
          4.1466496,
          4.1466496,
          4.1466496,
          4.1466496,
          4.1466496,
          4.1466496,
          4.44631029,
          4.5960499,
          4.67100625,
          4.70848246,
          4.72719734,
          4.73653462,
          4.73838654,
          4.73838654,
          4.73838654,
          4.73838654,
          4.73838654,
          4.73838654,
          4.73838654,
          8.34657621,
          9.77022256,
          9.96155108,
          10.00585926,
          9.96838305,
          9.96838305,
          9.96838305,
          9.96838305,
          9.96838305,
          9.96838305,
          9.96838305,
          9.96838305,
          9.96838305,
          9.96838305,
          9.96838305,
          9.96838305,
          9.96838305,
          10.44489091,
          10.80257595,
          10.98109804,
          11.01675095,
          11.04528571,
          11.06833739,
          11.06833739,
          11.11452303,
          11.13765503,
          11.14927218,
          11.15505716,
          11.15620985,
          11.1585223,
          11.15967656,
          11.15967656,
          11.15967656,
          10.80257735,
          10.80191441,
          10.80191441,
          10.97974036,
          11.06846629,
          11.06846629,
          11.06846629,
          11.06846629,
          11.06846629,
          11.06846629,
          11.01418322,
          11.04761699,
          11.102683,
          11.13017966,
          11.13017966,
          11.13017966,
          11.13017966,
          11.13017966,
          11.13017966,
          10.46364287,
          10.28578372,
          10.55422853,
          10.79676533,
          10.98152334,
          10.95847166,
          10.95731897,
          10.95731897,
          11.06250148,
          11.11498561,
          11.12543486,
          11.14659471,
          11.15717275,
          11.16246274,
          11.16325754,
          11.16549862,
          11.16772481,
          11.16772481
         ],
         "yaxis": "y3"
        },
        {
         "mode": "lines",
         "name": "bitfinex:/BTC:/total",
         "type": "scatter",
         "uid": "84533d1b-dfe4-4b7c-9a54-d1bca7484577",
         "xaxis": "x3",
         "y": [
          10,
          10.5704314,
          6.5704314,
          4.1704314,
          4.45665916,
          3.01665916,
          3.15900314,
          2.29500314,
          1.77660314,
          0.3888,
          0.31104,
          0.87941355,
          0.75499755,
          1.03970371,
          1.00237891,
          0.97251907,
          0.9486312,
          1.09193668,
          1.07282638,
          1.05753814,
          6.41723654,
          9.87986134,
          11.12767905,
          9.06893211,
          9.23039203,
          7.58339448,
          4.28939937,
          4.37016259,
          4.41039189,
          5.42266235,
          4.19367145,
          3.78192206,
          4.34867412,
          4.59026858,
          4.34402849,
          4.29478047,
          4.21598364,
          4.16870554,
          4.15452211,
          4.20235082,
          4.19100408,
          4.19100408,
          3.70498283,
          3.70498283,
          3.76474102,
          3.51225368,
          3.51225368,
          3.51225368,
          3.51225368,
          3.51225368,
          3.51225368,
          3.51225368,
          3.51225368,
          3.51225368,
          3.51225368,
          3.51225368,
          3.51225368,
          3.51225368,
          3.51225368,
          3.51225368,
          3.51225368,
          3.51225368,
          3.51225368,
          3.94935535,
          3.94935535,
          3.96928744,
          4.07861056,
          4.40559085,
          4.61724213,
          4.70140368,
          4.74347972,
          4.77285971,
          4.77914043,
          4.7950219,
          4.79658158,
          4.46431928,
          4.61152134,
          4.58078474,
          4.65439333,
          4.62980405,
          4.61013263,
          4.59439549,
          4.58180578,
          4.57173401,
          4.57173401,
          4.35475889,
          4.25448252,
          4.25448252,
          4.25448252,
          4.25448252,
          4.2695088,
          4.2695088,
          4.2695088,
          4.2695088,
          4.2695088,
          4.2695088,
          4.2695088,
          4.2695088,
          4.2695088,
          4.2695088,
          4.2695088,
          4.2695088,
          3.90219798,
          3.63979619,
          3.64784064,
          3.57423205,
          3.57423205,
          3.57423205,
          3.57423205,
          4.17082184,
          4.17082184,
          4.17082184,
          4.17082184,
          4.17082184,
          4.17082184,
          4.17082184,
          4.17082184,
          4.17082184,
          4.47048253,
          4.62022214,
          4.69517849,
          4.7326547,
          4.75136958,
          4.76070686,
          4.76255878,
          4.76255878,
          4.76255878,
          4.76255878,
          4.76255878,
          4.76255878,
          4.76255878,
          8.37074845,
          9.7943948,
          9.98572332,
          10.0300315,
          9.99255529,
          9.99255529,
          9.99255529,
          9.99255529,
          9.99255529,
          9.99255529,
          9.99255529,
          9.99255529,
          9.99255529,
          9.99255529,
          9.99255529,
          9.9732175,
          9.9732175,
          10.44972536,
          10.8074104,
          10.98593249,
          11.0215854,
          11.05012016,
          11.07317184,
          11.07317184,
          11.11935748,
          11.14248948,
          11.15410663,
          11.15989161,
          11.1610443,
          11.16335675,
          11.16451101,
          11.16451101,
          11.16451101,
          10.8074118,
          10.80674886,
          10.80674886,
          10.98457481,
          11.07330074,
          11.07330074,
          11.07330074,
          11.07330074,
          11.07330074,
          11.07330074,
          11.01901767,
          11.05245144,
          11.10751745,
          11.13501411,
          11.13501411,
          11.13501411,
          11.13501411,
          11.13501411,
          11.13501411,
          10.46847732,
          10.29061817,
          10.57963446,
          10.82217126,
          11.00692927,
          10.96355285,
          10.96240016,
          10.96240016,
          11.06758267,
          11.1200668,
          11.13051605,
          11.1516759,
          11.16225394,
          11.16754393,
          11.16833873,
          11.17057981,
          11.172806,
          11.172806
         ],
         "yaxis": "y3"
        },
        {
         "mode": "lines",
         "name": "bitfinex:/BTC:/worth",
         "type": "scatter",
         "uid": "1c8adcbc-2465-4e55-9c69-d7fc2291196b",
         "xaxis": "x3",
         "y": [
          87390,
          92417.2817302,
          57318.47240418001,
          36316.533674340004,
          39149.076725104,
          26411.454277632005,
          27679.18551268,
          20064.294451764,
          15122.445927679999,
          3312.8870399999996,
          2653.824384,
          7522.32762399,
          6429.936634575,
          8890.714364952,
          8536.960462797,
          8243.071637320001,
          8025.325088879999,
          9245.973837900001,
          9069.888781796,
          8807.071876105998,
          52136.196545576,
          80540.62964368,
          91305.94490896499,
          74344.384758147,
          75909.82101551701,
          62343.844359528004,
          35148.196317654,
          35945.024319009,
          36858.527103108,
          45325.323252475006,
          35011.28546747,
          30853.298357686,
          35684.784961307996,
          37989.06276808,
          35860.82399064801,
          35588.268886608,
          34850.16396496801,
          34297.607959796005,
          34440.9882919,
          34761.425747958005,
          34693.550874648,
          34936.629111288,
          30922.0460479781,
          31005.889809421,
          31524.05893097,
          29344.8794964,
          29220.19449076,
          29335.045186096006,
          29284.468733104,
          28964.502422856003,
          29046.689158968,
          29079.353118192,
          29139.061430752,
          29158.730051360002,
          29063.196751264,
          29112.368302783998,
          29193.150137424,
          29154.866572312,
          29051.957539488,
          28976.09286,
          28671.931691312,
          28695.1125656,
          28821.904923448,
          32175.713984878,
          31870.902738964996,
          31969.831827992002,
          32457.582836480004,
          35161.461132935,
          36915.312553563,
          37592.423825280006,
          38023.73343552,
          38353.268771646995,
          38061.07438452,
          38767.7520615,
          38965.510123288,
          36171.70053427199,
          37491.66849420001,
          37111.22757111,
          37726.185136315005,
          37481.504647584996,
          37226.359973987,
          37237.57544645,
          37250.0809914,
          37046.132203233,
          37529.821661491005,
          35817.456394361,
          34989.715140984,
          35001.202243788,
          34946.31941928,
          35052.256034027996,
          35074.014791999994,
          34979.658647519995,
          35009.97216,
          35170.07874,
          35122.687192319994,
          35164.52837856,
          35081.27295696,
          34887.864208319996,
          35052.667248,
          34962.580612319995,
          35174.34824879999,
          35787.0227616,
          32564.622582696004,
          30212.492254714,
          30286.926481728,
          29694.362448195,
          29629.668848089997,
          29653.25877962,
          29629.668848089997,
          34634.50455936,
          34425.96346736,
          34180.302060984,
          34265.38682652,
          34330.034565040005,
          34161.533362704,
          34277.065127672,
          34539.40982140801,
          34417.621823680005,
          36912.77425021,
          38105.744121864,
          38725.362667671,
          39080.369450720005,
          39324.71032887,
          39717.149120922004,
          39734.02790154,
          39732.599133906006,
          39557.336970801996,
          39623.536537844,
          39729.26534276,
          39877.857176696,
          40408.406224788,
          71300.36114741,
          83443.34649859999,
          85009.461195492,
          85771.81437225,
          85177.540547489,
          84858.77803373801,
          85172.544269844,
          84833.79664551301,
          84537.0177534,
          84939.71773158699,
          84903.74453254302,
          85168.54724772801,
          85030.8498358318,
          85486.31050595001,
          85217.51076864901,
          84902.99789925001,
          84529.00224300001,
          88492.454238624,
          91685.74686944,
          93334.28524854199,
          93596.40537534,
          92929.300521568,
          93122.05322284802,
          92954.848328064,
          93186.887296888,
          92969.58947427601,
          93436.5012056481,
          93815.07082488452,
          93585.69128682901,
          93716.37991625,
          93768.49507078799,
          93356.524614519,
          92428.753749588,
          89575.07122194,
          89841.90664761001,
          89484.203260344,
          91147.80485841799,
          92107.71555532,
          92054.56371176802,
          91808.73643534,
          91198.59756456601,
          91522.27014519619,
          90858.64723184801,
          90028.680069201,
          90784.3940301024,
          91359.33102625,
          91642.27962671101,
          91504.20545174701,
          91341.634245741,
          91461.892398129,
          91122.274467774,
          90287.148409524,
          84469.096647348,
          82003.878073096,
          84402.736776711,
          86090.3723733,
          86940.10201707091,
          86581.36956702,
          87152.177512016,
          86493.3372624,
          87502.522105554,
          88317.79453895999,
          87308.88094780501,
          87490.47327345,
          87567.88215929999,
          87552.427656807,
          87659.173857897,
          88313.486919879,
          88235.0008238,
          88012.6619844
         ],
         "yaxis": "y3"
        },
        {
         "mode": "lines",
         "name": "net_worth",
         "type": "scatter",
         "uid": "2dc2075a-de83-4e22-9001-14c4f33b0696",
         "xaxis": "x3",
         "y": [
          97390,
          97417.2817302,
          97185.55240418001,
          97057.68367434,
          97390.226725104,
          97264.194277632,
          97281.92551268,
          97214.694451764,
          96791.41592768,
          96759.40704,
          96760.93438400001,
          96765.42762399,
          96734.076634575,
          96762.854364952,
          96727.310462797,
          96686.96163732,
          96671.08508887999,
          96675.7338379,
          96660.978781796,
          96527.021876106,
          95043.506545576,
          95224.54964368,
          95787.04490896499,
          95667.444758147,
          95905.301015517,
          95843.43435952801,
          95646.806317654,
          95779.854319009,
          96361.467103108,
          96234.783252475,
          96162.43546747,
          95431.668357686,
          95625.624961308,
          95941.43276808,
          95844.96399064802,
          95977.738886608,
          95890.61396496801,
          95727.697959796,
          95987.4182919,
          95910.165747958,
          95935.870874648,
          96178.949111288,
          96203.7360479781,
          96287.579809421,
          96295.11893097,
          96223.7994964,
          96099.11449076,
          96213.965186096,
          96163.388733104,
          95843.422422856,
          95925.609158968,
          95958.273118192,
          96017.981430752,
          96037.65005136,
          95942.116751264,
          95991.288302784,
          96072.070137424,
          96033.786572312,
          95930.87753948799,
          95855.01286,
          95550.851691312,
          95574.0325656,
          95700.824923448,
          95456.943984878,
          95152.132738965,
          95089.731827992,
          94692.36283648,
          94784.021132935,
          94843.582553563,
          94845.79382528001,
          94939.65343552,
          95032.96877164699,
          94690.15438451999,
          95269.97206150001,
          95455.080123288,
          95352.34053427199,
          95476.0284942,
          95344.72757111001,
          95361.555136315,
          95315.584647585,
          95219.219973987,
          95357.12544645,
          95471.3609914,
          95349.052203233,
          95832.741661491,
          95896.196394361,
          95890.745140984,
          95902.23224378799,
          95847.34941928,
          95953.28603402799,
          95850.87479199999,
          95756.51864751999,
          95786.83215999999,
          95946.93874,
          95899.54719232,
          95941.38837855999,
          95858.13295696,
          95664.72420832,
          95829.527248,
          95739.44061232,
          95951.20824879999,
          96563.88276159999,
          96406.042582696,
          96236.222254714,
          96243.606481728,
          96260.362448195,
          96195.66884808999,
          96219.25877962,
          96195.66884808999,
          96240.01455936,
          96031.47346736,
          95785.812060984,
          95870.89682652001,
          95935.54456504,
          95767.043362704,
          95882.575127672,
          96144.91982140801,
          96023.13182368001,
          96038.04425020999,
          95990.894121864,
          95990.442667671,
          96035.41945072002,
          96124.75032887,
          96439.679120922,
          96441.05790154,
          96439.62913390601,
          96264.36697080199,
          96330.56653784399,
          96436.29534276,
          96584.88717669601,
          97115.43622478799,
          97281.17114741,
          97253.1964986,
          97153.841195492,
          97537.85437225,
          97263.100547489,
          96944.33803373801,
          97258.104269844,
          96919.356645513,
          96622.5777534,
          97025.27773158699,
          96989.30453254301,
          97254.10724772801,
          97116.4098358318,
          97571.87050595,
          97303.070768649,
          97152.97789925,
          96778.982243,
          96691.594238624,
          96846.75686944,
          96976.22524854199,
          96934.53537534,
          96024.380521568,
          96022.69322284801,
          95855.488328064,
          95698.647296888,
          95286.90947427602,
          95656.60120564811,
          95986.56082488452,
          95747.46128682901,
          95858.69991625001,
          95901.095070788,
          95489.12461451901,
          94561.353749588,
          94655.13122194,
          94918.58664761,
          94560.88326034401,
          94747.58485841799,
          94969.04555532,
          94915.89371176802,
          94670.06643534,
          94059.92756456601,
          94383.6001451962,
          93719.97723184801,
          93334.080069201,
          93814.6140301024,
          93935.88102625,
          93991.98962671102,
          93853.91545174702,
          93691.34424574101,
          93811.602398129,
          93471.984467774,
          92636.85840952401,
          92207.146647348,
          91172.748073096,
          91253.316776711,
          90997.18237329999,
          90372.74201707091,
          90355.59956701999,
          90935.487512016,
          90276.6472624,
          90453.442105554,
          90852.51453896,
          89760.360947805,
          89775.47327345,
          89769.64215929998,
          89712.567656807,
          89812.983857897,
          90449.656919879,
          90353.5208238,
          90131.1819844
         ],
         "yaxis": "y3"
        },
        {
         "marker": {
          "color": "DarkGreen"
         },
         "mode": "lines",
         "name": "Net Worth",
         "type": "scatter",
         "uid": "d9691fd2-f666-4ad6-9d95-37178101d890",
         "xaxis": "x4",
         "y": [
          97390,
          97417.2817302,
          97185.55240418001,
          97057.68367434,
          97390.226725104,
          97264.194277632,
          97281.92551268,
          97214.694451764,
          96791.41592768,
          96759.40704,
          96760.93438400001,
          96765.42762399,
          96734.076634575,
          96762.854364952,
          96727.310462797,
          96686.96163732,
          96671.08508887999,
          96675.7338379,
          96660.978781796,
          96527.021876106,
          95043.506545576,
          95224.54964368,
          95787.04490896499,
          95667.444758147,
          95905.301015517,
          95843.43435952801,
          95646.806317654,
          95779.854319009,
          96361.467103108,
          96234.783252475,
          96162.43546747,
          95431.668357686,
          95625.624961308,
          95941.43276808,
          95844.96399064802,
          95977.738886608,
          95890.61396496801,
          95727.697959796,
          95987.4182919,
          95910.165747958,
          95935.870874648,
          96178.949111288,
          96203.7360479781,
          96287.579809421,
          96295.11893097,
          96223.7994964,
          96099.11449076,
          96213.965186096,
          96163.388733104,
          95843.422422856,
          95925.609158968,
          95958.273118192,
          96017.981430752,
          96037.65005136,
          95942.116751264,
          95991.288302784,
          96072.070137424,
          96033.786572312,
          95930.87753948799,
          95855.01286,
          95550.851691312,
          95574.0325656,
          95700.824923448,
          95456.943984878,
          95152.132738965,
          95089.731827992,
          94692.36283648,
          94784.021132935,
          94843.582553563,
          94845.79382528001,
          94939.65343552,
          95032.96877164699,
          94690.15438451999,
          95269.97206150001,
          95455.080123288,
          95352.34053427199,
          95476.0284942,
          95344.72757111001,
          95361.555136315,
          95315.584647585,
          95219.219973987,
          95357.12544645,
          95471.3609914,
          95349.052203233,
          95832.741661491,
          95896.196394361,
          95890.745140984,
          95902.23224378799,
          95847.34941928,
          95953.28603402799,
          95850.87479199999,
          95756.51864751999,
          95786.83215999999,
          95946.93874,
          95899.54719232,
          95941.38837855999,
          95858.13295696,
          95664.72420832,
          95829.527248,
          95739.44061232,
          95951.20824879999,
          96563.88276159999,
          96406.042582696,
          96236.222254714,
          96243.606481728,
          96260.362448195,
          96195.66884808999,
          96219.25877962,
          96195.66884808999,
          96240.01455936,
          96031.47346736,
          95785.812060984,
          95870.89682652001,
          95935.54456504,
          95767.043362704,
          95882.575127672,
          96144.91982140801,
          96023.13182368001,
          96038.04425020999,
          95990.894121864,
          95990.442667671,
          96035.41945072002,
          96124.75032887,
          96439.679120922,
          96441.05790154,
          96439.62913390601,
          96264.36697080199,
          96330.56653784399,
          96436.29534276,
          96584.88717669601,
          97115.43622478799,
          97281.17114741,
          97253.1964986,
          97153.841195492,
          97537.85437225,
          97263.100547489,
          96944.33803373801,
          97258.104269844,
          96919.356645513,
          96622.5777534,
          97025.27773158699,
          96989.30453254301,
          97254.10724772801,
          97116.4098358318,
          97571.87050595,
          97303.070768649,
          97152.97789925,
          96778.982243,
          96691.594238624,
          96846.75686944,
          96976.22524854199,
          96934.53537534,
          96024.380521568,
          96022.69322284801,
          95855.488328064,
          95698.647296888,
          95286.90947427602,
          95656.60120564811,
          95986.56082488452,
          95747.46128682901,
          95858.69991625001,
          95901.095070788,
          95489.12461451901,
          94561.353749588,
          94655.13122194,
          94918.58664761,
          94560.88326034401,
          94747.58485841799,
          94969.04555532,
          94915.89371176802,
          94670.06643534,
          94059.92756456601,
          94383.6001451962,
          93719.97723184801,
          93334.080069201,
          93814.6140301024,
          93935.88102625,
          93991.98962671102,
          93853.91545174702,
          93691.34424574101,
          93811.602398129,
          93471.984467774,
          92636.85840952401,
          92207.146647348,
          91172.748073096,
          91253.316776711,
          90997.18237329999,
          90372.74201707091,
          90355.59956701999,
          90935.487512016,
          90276.6472624,
          90453.442105554,
          90852.51453896,
          89760.360947805,
          89775.47327345,
          89769.64215929998,
          89712.567656807,
          89812.983857897,
          90449.656919879,
          90353.5208238,
          90131.1819844
         ],
         "yaxis": "y4"
        }
       ],
       "layout": {
        "annotations": [
         {
          "arrowcolor": "FireBrick",
          "arrowhead": 2,
          "arrowsize": 0.8,
          "arrowwidth": 4,
          "ax": 0,
          "ay": -15,
          "hoverlabel": {
           "bgcolor": "FireBrick"
          },
          "hovertext": "Step 45 [2018-05-17 02:00:00]<br>SELL 0.0108602 BTC @ 8373.5 USD MARKET<br>Total: 90.94 USD - Comm.: 0.00003268 BTC",
          "opacity": 0.6,
          "showarrow": true,
          "x": 44,
          "xref": "x",
          "y": 8373.5,
          "yref": "y"
         },
         {
          "arrowcolor": "FireBrick",
          "arrowhead": 2,
          "arrowsize": 0.8,
          "arrowwidth": 4,
          "ax": 0,
          "ay": -15,
          "hoverlabel": {
           "bgcolor": "FireBrick"
          },
          "hovertext": "Step 45 [2018-05-17 02:00:00]<br>SELL 0.24086968 BTC @ 8373.5 USD MARKET<br>Total: 2016.92 USD - Comm.: 0.00072478 BTC",
          "opacity": 0.6,
          "showarrow": true,
          "x": 44,
          "xref": "x",
          "y": 8373.5,
          "yref": "y"
         },
         {
          "arrowcolor": "FireBrick",
          "arrowhead": 2,
          "arrowsize": 0.8,
          "arrowwidth": 4,
          "ax": 0,
          "ay": -15,
          "hoverlabel": {
           "bgcolor": "FireBrick"
          },
          "hovertext": "Step 44 [2018-05-17 01:00:00]<br>SELL 0.01810033 BTC @ 8368.7 USD MARKET<br>Total: 151.48 USD - Comm.: 0.00005446 BTC",
          "opacity": 0.6,
          "showarrow": true,
          "x": 43,
          "xref": "x",
          "y": 8368.7,
          "yref": "y"
         },
         {
          "arrowcolor": "DarkGreen",
          "arrowhead": 2,
          "arrowsize": 0.8,
          "arrowwidth": 4,
          "ax": 0,
          "ay": 15,
          "hoverlabel": {
           "bgcolor": "DarkGreen"
          },
          "hovertext": "Step 44 [2018-05-17 01:00:00]<br>BUY 0.2393729 BTC @ 8368.7 USD MARKET<br>Total: 2003.24 USD - Comm.: 6.03 USD",
          "opacity": 0.6,
          "showarrow": true,
          "x": 43,
          "xref": "x",
          "y": 8368.7,
          "yref": "y"
         },
         {
          "arrowcolor": "FireBrick",
          "arrowhead": 2,
          "arrowsize": 0.8,
          "arrowwidth": 4,
          "ax": 0,
          "ay": -15,
          "hoverlabel": {
           "bgcolor": "FireBrick"
          },
          "hovertext": "Step 44 [2018-05-17 01:00:00]<br>SELL 0.16097554 BTC @ 8368.7 USD MARKET<br>Total: 1347.16 USD - Comm.: 0.00048438 BTC",
          "opacity": 0.6,
          "showarrow": true,
          "x": 43,
          "xref": "x",
          "y": 8368.7,
          "yref": "y"
         },
         {
          "arrowcolor": "FireBrick",
          "arrowhead": 2,
          "arrowsize": 0.8,
          "arrowwidth": 4,
          "ax": 0,
          "ay": -15,
          "hoverlabel": {
           "bgcolor": "FireBrick"
          },
          "hovertext": "Step 42 [2018-05-16 23:00:00]<br>SELL 0.48456319 BTC @ 8336.1 USD MARKET<br>Total: 4039.37 USD - Comm.: 0.00145806 BTC",
          "opacity": 0.6,
          "showarrow": true,
          "x": 41,
          "xref": "x",
          "y": 8336.1,
          "yref": "y"
         },
         {
          "arrowcolor": "FireBrick",
          "arrowhead": 2,
          "arrowsize": 0.8,
          "arrowwidth": 4,
          "ax": 0,
          "ay": -15,
          "hoverlabel": {
           "bgcolor": "FireBrick"
          },
          "hovertext": "Step 40 [2018-05-16 21:00:00]<br>SELL 0.0113127 BTC @ 8271.9 USD MARKET<br>Total: 93.58 USD - Comm.: 0.00003404 BTC",
          "opacity": 0.6,
          "showarrow": true,
          "x": 39,
          "xref": "x",
          "y": 8271.9,
          "yref": "y"
         },
         {
          "arrowcolor": "DarkGreen",
          "arrowhead": 2,
          "arrowsize": 0.8,
          "arrowwidth": 4,
          "ax": 0,
          "ay": 15,
          "hoverlabel": {
           "bgcolor": "DarkGreen"
          },
          "hovertext": "Step 39 [2018-05-16 20:00:00]<br>BUY 0.04782871 BTC @ 8290.0 USD MARKET<br>Total: 396.5 USD - Comm.: 1.19 USD",
          "opacity": 0.6,
          "showarrow": true,
          "x": 38,
          "xref": "x",
          "y": 8290,
          "yref": "y"
         },
         {
          "arrowcolor": "FireBrick",
          "arrowhead": 2,
          "arrowsize": 0.8,
          "arrowwidth": 4,
          "ax": 0,
          "ay": -15,
          "hoverlabel": {
           "bgcolor": "FireBrick"
          },
          "hovertext": "Step 38 [2018-05-16 19:00:00]<br>SELL 0.01414088 BTC @ 8227.4 USD MARKET<br>Total: 116.34 USD - Comm.: 0.00004255 BTC",
          "opacity": 0.6,
          "showarrow": true,
          "x": 37,
          "xref": "x",
          "y": 8227.4,
          "yref": "y"
         },
         {
          "arrowcolor": "FireBrick",
          "arrowhead": 2,
          "arrowsize": 0.8,
          "arrowwidth": 4,
          "ax": 0,
          "ay": -15,
          "hoverlabel": {
           "bgcolor": "FireBrick"
          },
          "hovertext": "Step 37 [2018-05-16 18:00:00]<br>SELL 0.04713627 BTC @ 8266.2 USD MARKET<br>Total: 389.64 USD - Comm.: 0.00014183 BTC",
          "opacity": 0.6,
          "showarrow": true,
          "x": 36,
          "xref": "x",
          "y": 8266.2,
          "yref": "y"
         },
         {
          "arrowcolor": "FireBrick",
          "arrowhead": 2,
          "arrowsize": 0.8,
          "arrowwidth": 4,
          "ax": 0,
          "ay": -15,
          "hoverlabel": {
           "bgcolor": "FireBrick"
          },
          "hovertext": "Step 36 [2018-05-16 17:00:00]<br>SELL 0.07856044 BTC @ 8286.4 USD MARKET<br>Total: 650.98 USD - Comm.: 0.00023639 BTC",
          "opacity": 0.6,
          "showarrow": true,
          "x": 35,
          "xref": "x",
          "y": 8286.4,
          "yref": "y"
         },
         {
          "arrowcolor": "FireBrick",
          "arrowhead": 2,
          "arrowsize": 0.8,
          "arrowwidth": 4,
          "ax": 0,
          "ay": -15,
          "hoverlabel": {
           "bgcolor": "FireBrick"
          },
          "hovertext": "Step 35 [2018-05-16 16:00:00]<br>SELL 0.04910028 BTC @ 8255.2 USD MARKET<br>Total: 405.33 USD - Comm.: 0.00014774 BTC",
          "opacity": 0.6,
          "showarrow": true,
          "x": 34,
          "xref": "x",
          "y": 8255.2,
          "yref": "y"
         },
         {
          "arrowcolor": "FireBrick",
          "arrowhead": 2,
          "arrowsize": 0.8,
          "arrowwidth": 4,
          "ax": 0,
          "ay": -15,
          "hoverlabel": {
           "bgcolor": "FireBrick"
          },
          "hovertext": "Step 34 [2018-05-16 15:00:00]<br>SELL 0.24550137 BTC @ 8276.0 USD MARKET<br>Total: 2031.77 USD - Comm.: 0.00073872 BTC",
          "opacity": 0.6,
          "showarrow": true,
          "x": 33,
          "xref": "x",
          "y": 8276,
          "yref": "y"
         },
         {
          "arrowcolor": "DarkGreen",
          "arrowhead": 2,
          "arrowsize": 0.8,
          "arrowwidth": 4,
          "ax": 0,
          "ay": 15,
          "hoverlabel": {
           "bgcolor": "DarkGreen"
          },
          "hovertext": "Step 33 [2018-05-16 14:00:00]<br>BUY 0.24159446 BTC @ 8205.9 USD MARKET<br>Total: 1982.5 USD - Comm.: 5.97 USD",
          "opacity": 0.6,
          "showarrow": true,
          "x": 32,
          "xref": "x",
          "y": 8205.9,
          "yref": "y"
         },
         {
          "arrowcolor": "DarkGreen",
          "arrowhead": 2,
          "arrowsize": 0.8,
          "arrowwidth": 4,
          "ax": 0,
          "ay": 15,
          "hoverlabel": {
           "bgcolor": "DarkGreen"
          },
          "hovertext": "Step 32 [2018-05-16 13:00:00]<br>BUY 0.48602125 BTC @ 8158.1 USD MARKET<br>Total: 3965.01 USD - Comm.: 11.93 USD",
          "opacity": 0.6,
          "showarrow": true,
          "x": 31,
          "xref": "x",
          "y": 8158.1,
          "yref": "y"
         },
         {
          "arrowcolor": "DarkGreen",
          "arrowhead": 2,
          "arrowsize": 0.8,
          "arrowwidth": 4,
          "ax": 0,
          "ay": 15,
          "hoverlabel": {
           "bgcolor": "DarkGreen"
          },
          "hovertext": "Step 32 [2018-05-16 13:00:00]<br>BUY 0.08073081 BTC @ 8158.1 USD MARKET<br>Total: 658.61 USD - Comm.: 1.98 USD",
          "opacity": 0.6,
          "showarrow": true,
          "x": 31,
          "xref": "x",
          "y": 8158.1,
          "yref": "y"
         },
         {
          "arrowcolor": "FireBrick",
          "arrowhead": 2,
          "arrowsize": 0.8,
          "arrowwidth": 4,
          "ax": 0,
          "ay": -15,
          "hoverlabel": {
           "bgcolor": "FireBrick"
          },
          "hovertext": "Step 31 [2018-05-16 12:00:00]<br>SELL 0.41051414 BTC @ 8348.6 USD MARKET<br>Total: 3427.22 USD - Comm.: 0.00123525 BTC",
          "opacity": 0.6,
          "showarrow": true,
          "x": 30,
          "xref": "x",
          "y": 8348.6,
          "yref": "y"
         },
         {
          "arrowcolor": "FireBrick",
          "arrowhead": 2,
          "arrowsize": 0.8,
          "arrowwidth": 4,
          "ax": 0,
          "ay": -15,
          "hoverlabel": {
           "bgcolor": "FireBrick"
          },
          "hovertext": "Step 30 [2018-05-16 11:00:00]<br>SELL 0.82102828 BTC @ 8358.5 USD MARKET<br>Total: 6862.56 USD - Comm.: 0.00247050 BTC",
          "opacity": 0.6,
          "showarrow": true,
          "x": 29,
          "xref": "x",
          "y": 8358.5,
          "yref": "y"
         },
         {
          "arrowcolor": "FireBrick",
          "arrowhead": 2,
          "arrowsize": 0.8,
          "arrowwidth": 4,
          "ax": 0,
          "ay": -15,
          "hoverlabel": {
           "bgcolor": "FireBrick"
          },
          "hovertext": "Step 30 [2018-05-16 11:00:00]<br>SELL 0.08052093 BTC @ 8358.5 USD MARKET<br>Total: 673.03 USD - Comm.: 0.00024229 BTC",
          "opacity": 0.6,
          "showarrow": true,
          "x": 29,
          "xref": "x",
          "y": 8358.5,
          "yref": "y"
         },
         {
          "arrowcolor": "FireBrick",
          "arrowhead": 2,
          "arrowsize": 0.8,
          "arrowwidth": 4,
          "ax": 0,
          "ay": -15,
          "hoverlabel": {
           "bgcolor": "FireBrick"
          },
          "hovertext": "Step 30 [2018-05-16 11:00:00]<br>SELL 0.32375471 BTC @ 8358.5 USD MARKET<br>Total: 2706.1 USD - Comm.: 0.00097419 BTC",
          "opacity": 0.6,
          "showarrow": true,
          "x": 29,
          "xref": "x",
          "y": 8358.5,
          "yref": "y"
         },
         {
          "arrowcolor": "FireBrick",
          "arrowhead": 2,
          "arrowsize": 0.8,
          "arrowwidth": 4,
          "ax": 0,
          "ay": -15,
          "hoverlabel": {
           "bgcolor": "FireBrick"
          },
          "hovertext": "Step 29 [2018-05-16 10:00:00]<br>SELL 1.64205656 BTC @ 8357.2 USD MARKET<br>Total: 13723.0 USD - Comm.: 0.00494099 BTC",
          "opacity": 0.6,
          "showarrow": true,
          "x": 28,
          "xref": "x",
          "y": 8357.2,
          "yref": "y"
         },
         {
          "arrowcolor": "DarkGreen",
          "arrowhead": 2,
          "arrowsize": 0.8,
          "arrowwidth": 4,
          "ax": 0,
          "ay": 15,
          "hoverlabel": {
           "bgcolor": "DarkGreen"
          },
          "hovertext": "Step 29 [2018-05-16 10:00:00]<br>BUY 3.16848346 BTC @ 8357.2 USD MARKET<br>Total: 26479.65 USD - Comm.: 79.68 USD",
          "opacity": 0.6,
          "showarrow": true,
          "x": 28,
          "xref": "x",
          "y": 8357.2,
          "yref": "y"
         },
         {
          "arrowcolor": "FireBrick",
          "arrowhead": 2,
          "arrowsize": 0.8,
          "arrowwidth": 4,
          "ax": 0,
          "ay": -15,
          "hoverlabel": {
           "bgcolor": "FireBrick"
          },
          "hovertext": "Step 29 [2018-05-16 10:00:00]<br>SELL 0.5076878 BTC @ 8357.2 USD MARKET<br>Total: 4242.85 USD - Comm.: 0.00152765 BTC",
          "opacity": 0.6,
          "showarrow": true,
          "x": 28,
          "xref": "x",
          "y": 8357.2,
          "yref": "y"
         },
         {
          "arrowcolor": "DarkGreen",
          "arrowhead": 2,
          "arrowsize": 0.8,
          "arrowwidth": 4,
          "ax": 0,
          "ay": 15,
          "hoverlabel": {
           "bgcolor": "DarkGreen"
          },
          "hovertext": "Step 28 [2018-05-16 09:00:00]<br>BUY 0.0402293 BTC @ 8225.1 USD MARKET<br>Total: 330.89 USD - Comm.: 1.00 USD",
          "opacity": 0.6,
          "showarrow": true,
          "x": 27,
          "xref": "x",
          "y": 8225.1,
          "yref": "y"
         },
         {
          "arrowcolor": "DarkGreen",
          "arrowhead": 2,
          "arrowsize": 0.8,
          "arrowwidth": 4,
          "ax": 0,
          "ay": 15,
          "hoverlabel": {
           "bgcolor": "DarkGreen"
          },
          "hovertext": "Step 27 [2018-05-16 08:00:00]<br>BUY 0.08076322 BTC @ 8194.2 USD MARKET<br>Total: 661.79 USD - Comm.: 1.99 USD",
          "opacity": 0.6,
          "showarrow": true,
          "x": 26,
          "xref": "x",
          "y": 8194.2,
          "yref": "y"
         },
         {
          "arrowcolor": "FireBrick",
          "arrowhead": 2,
          "arrowsize": 0.8,
          "arrowwidth": 4,
          "ax": 0,
          "ay": -15,
          "hoverlabel": {
           "bgcolor": "FireBrick"
          },
          "hovertext": "Step 26 [2018-05-16 07:00:00]<br>SELL 3.28411312 BTC @ 8221.1 USD MARKET<br>Total: 26999.02 USD - Comm.: 0.00988199 BTC",
          "opacity": 0.6,
          "showarrow": true,
          "x": 25,
          "xref": "x",
          "y": 8221.1,
          "yref": "y"
         },
         {
          "arrowcolor": "FireBrick",
          "arrowhead": 2,
          "arrowsize": 0.8,
          "arrowwidth": 4,
          "ax": 0,
          "ay": -15,
          "hoverlabel": {
           "bgcolor": "FireBrick"
          },
          "hovertext": "Step 25 [2018-05-16 06:00:00]<br>SELL 1.64205656 BTC @ 8223.9 USD MARKET<br>Total: 13504.11 USD - Comm.: 0.00494099 BTC",
          "opacity": 0.6,
          "showarrow": true,
          "x": 24,
          "xref": "x",
          "y": 8223.9,
          "yref": "y"
         },
         {
          "arrowcolor": "DarkGreen",
          "arrowhead": 2,
          "arrowsize": 0.8,
          "arrowwidth": 4,
          "ax": 0,
          "ay": 15,
          "hoverlabel": {
           "bgcolor": "DarkGreen"
          },
          "hovertext": "Step 24 [2018-05-16 05:00:00]<br>BUY 0.16145992 BTC @ 8197.7 USD MARKET<br>Total: 1323.6 USD - Comm.: 3.98 USD",
          "opacity": 0.6,
          "showarrow": true,
          "x": 23,
          "xref": "x",
          "y": 8197.7,
          "yref": "y"
         },
         {
          "arrowcolor": "FireBrick",
          "arrowhead": 2,
          "arrowsize": 0.8,
          "arrowwidth": 4,
          "ax": 0,
          "ay": -15,
          "hoverlabel": {
           "bgcolor": "FireBrick"
          },
          "hovertext": "Step 23 [2018-05-16 04:00:00]<br>SELL 2.0525707 BTC @ 8205.3 USD MARKET<br>Total: 16841.96 USD - Comm.: 0.00617624 BTC",
          "opacity": 0.6,
          "showarrow": true,
          "x": 22,
          "xref": "x",
          "y": 8205.3,
          "yref": "y"
         },
         {
          "arrowcolor": "DarkGreen",
          "arrowhead": 2,
          "arrowsize": 0.8,
          "arrowwidth": 4,
          "ax": 0,
          "ay": 15,
          "hoverlabel": {
           "bgcolor": "DarkGreen"
          },
          "hovertext": "Step 22 [2018-05-16 03:00:00]<br>BUY 0.3247289 BTC @ 8152.0 USD MARKET<br>Total: 2647.19 USD - Comm.: 7.97 USD",
          "opacity": 0.6,
          "showarrow": true,
          "x": 21,
          "xref": "x",
          "y": 8152,
          "yref": "y"
         },
         {
          "arrowcolor": "DarkGreen",
          "arrowhead": 2,
          "arrowsize": 0.8,
          "arrowwidth": 4,
          "ax": 0,
          "ay": 15,
          "hoverlabel": {
           "bgcolor": "DarkGreen"
          },
          "hovertext": "Step 22 [2018-05-16 03:00:00]<br>BUY 0.92308881 BTC @ 8152.0 USD MARKET<br>Total: 7525.02 USD - Comm.: 22.64 USD",
          "opacity": 0.6,
          "showarrow": true,
          "x": 21,
          "xref": "x",
          "y": 8152,
          "yref": "y"
         },
         {
          "arrowcolor": "DarkGreen",
          "arrowhead": 2,
          "arrowsize": 0.8,
          "arrowwidth": 4,
          "ax": 0,
          "ay": 15,
          "hoverlabel": {
           "bgcolor": "DarkGreen"
          },
          "hovertext": "Step 21 [2018-05-16 02:00:00]<br>BUY 0.50921545 BTC @ 8124.4 USD MARKET<br>Total: 4137.07 USD - Comm.: 12.45 USD",
          "opacity": 0.6,
          "showarrow": true,
          "x": 20,
          "xref": "x",
          "y": 8124.4,
          "yref": "y"
         },
         {
          "arrowcolor": "FireBrick",
          "arrowhead": 2,
          "arrowsize": 0.8,
          "arrowwidth": 4,
          "ax": 0,
          "ay": -15,
          "hoverlabel": {
           "bgcolor": "FireBrick"
          },
          "hovertext": "Step 21 [2018-05-16 02:00:00]<br>SELL 0.14287556 BTC @ 8124.4 USD MARKET<br>Total: 1160.78 USD - Comm.: 0.00042992 BTC",
          "opacity": 0.6,
          "showarrow": true,
          "x": 20,
          "xref": "x",
          "y": 8124.4,
          "yref": "y"
         },
         {
          "arrowcolor": "DarkGreen",
          "arrowhead": 2,
          "arrowsize": 0.8,
          "arrowwidth": 4,
          "ax": 0,
          "ay": 15,
          "hoverlabel": {
           "bgcolor": "DarkGreen"
          },
          "hovertext": "Step 21 [2018-05-16 02:00:00]<br>BUY 0.13020777 BTC @ 8124.4 USD MARKET<br>Total: 1057.86 USD - Comm.: 3.18 USD",
          "opacity": 0.6,
          "showarrow": true,
          "x": 20,
          "xref": "x",
          "y": 8124.4,
          "yref": "y"
         },
         {
          "arrowcolor": "DarkGreen",
          "arrowhead": 2,
          "arrowsize": 0.8,
          "arrowwidth": 4,
          "ax": 0,
          "ay": 15,
          "hoverlabel": {
           "bgcolor": "DarkGreen"
          },
          "hovertext": "Step 21 [2018-05-16 02:00:00]<br>BUY 0.40490867 BTC @ 8124.4 USD MARKET<br>Total: 3289.64 USD - Comm.: 9.90 USD",
          "opacity": 0.6,
          "showarrow": true,
          "x": 20,
          "xref": "x",
          "y": 8124.4,
          "yref": "y"
         },
         {
          "arrowcolor": "DarkGreen",
          "arrowhead": 2,
          "arrowsize": 0.8,
          "arrowwidth": 4,
          "ax": 0,
          "ay": 15,
          "hoverlabel": {
           "bgcolor": "DarkGreen"
          },
          "hovertext": "Step 21 [2018-05-16 02:00:00]<br>BUY 2.56159839 BTC @ 8124.4 USD MARKET<br>Total: 20811.45 USD - Comm.: 62.62 USD",
          "opacity": 0.6,
          "showarrow": true,
          "x": 20,
          "xref": "x",
          "y": 8124.4,
          "yref": "y"
         },
         {
          "arrowcolor": "FireBrick",
          "arrowhead": 2,
          "arrowsize": 0.8,
          "arrowwidth": 4,
          "ax": 0,
          "ay": -15,
          "hoverlabel": {
           "bgcolor": "FireBrick"
          },
          "hovertext": "Step 20 [2018-05-16 01:00:00]<br>SELL 0.0121939 BTC @ 8327.9 USD MARKET<br>Total: 101.55 USD - Comm.: 0.00003669 BTC",
          "opacity": 0.6,
          "showarrow": true,
          "x": 19,
          "xref": "x",
          "y": 8327.9,
          "yref": "y"
         },
         {
          "arrowcolor": "FireBrick",
          "arrowhead": 2,
          "arrowsize": 0.8,
          "arrowwidth": 4,
          "ax": 0,
          "ay": -15,
          "hoverlabel": {
           "bgcolor": "FireBrick"
          },
          "hovertext": "Step 20 [2018-05-16 01:00:00]<br>SELL 0.28385204 BTC @ 8327.9 USD MARKET<br>Total: 2363.89 USD - Comm.: 0.00085412 BTC",
          "opacity": 0.6,
          "showarrow": true,
          "x": 19,
          "xref": "x",
          "y": 8327.9,
          "yref": "y"
         },
         {
          "arrowcolor": "FireBrick",
          "arrowhead": 2,
          "arrowsize": 0.8,
          "arrowwidth": 4,
          "ax": 0,
          "ay": -15,
          "hoverlabel": {
           "bgcolor": "FireBrick"
          },
          "hovertext": "Step 20 [2018-05-16 01:00:00]<br>SELL 0.56666843 BTC @ 8327.9 USD MARKET<br>Total: 4719.16 USD - Comm.: 0.00170512 BTC",
          "opacity": 0.6,
          "showarrow": true,
          "x": 19,
          "xref": "x",
          "y": 8327.9,
          "yref": "y"
         },
         {
          "arrowcolor": "DarkGreen",
          "arrowhead": 2,
          "arrowsize": 0.8,
          "arrowwidth": 4,
          "ax": 0,
          "ay": 15,
          "hoverlabel": {
           "bgcolor": "DarkGreen"
          },
          "hovertext": "Step 20 [2018-05-16 01:00:00]<br>BUY 0.5409539 BTC @ 8327.9 USD MARKET<br>Total: 4505.01 USD - Comm.: 13.56 USD",
          "opacity": 0.6,
          "showarrow": true,
          "x": 19,
          "xref": "x",
          "y": 8327.9,
          "yref": "y"
         },
         {
          "arrowcolor": "DarkGreen",
          "arrowhead": 2,
          "arrowsize": 0.8,
          "arrowwidth": 4,
          "ax": 0,
          "ay": 15,
          "hoverlabel": {
           "bgcolor": "DarkGreen"
          },
          "hovertext": "Step 20 [2018-05-16 01:00:00]<br>BUY 1.50983561 BTC @ 8327.9 USD MARKET<br>Total: 12573.76 USD - Comm.: 37.83 USD",
          "opacity": 0.6,
          "showarrow": true,
          "x": 19,
          "xref": "x",
          "y": 8327.9,
          "yref": "y"
         },
         {
          "arrowcolor": "DarkGreen",
          "arrowhead": 2,
          "arrowsize": 0.8,
          "arrowwidth": 4,
          "ax": 0,
          "ay": 15,
          "hoverlabel": {
           "bgcolor": "DarkGreen"
          },
          "hovertext": "Step 20 [2018-05-16 01:00:00]<br>BUY 4.17421919 BTC @ 8327.9 USD MARKET<br>Total: 34762.48 USD - Comm.: 104.60 USD",
          "opacity": 0.6,
          "showarrow": true,
          "x": 19,
          "xref": "x",
          "y": 8327.9,
          "yref": "y"
         },
         {
          "arrowcolor": "FireBrick",
          "arrowhead": 2,
          "arrowsize": 0.8,
          "arrowwidth": 4,
          "ax": 0,
          "ay": -15,
          "hoverlabel": {
           "bgcolor": "FireBrick"
          },
          "hovertext": "Step 19 [2018-05-16 00:00:00]<br>SELL 0.01524238 BTC @ 8454.2 USD MARKET<br>Total: 128.86 USD - Comm.: 0.00004586 BTC",
          "opacity": 0.6,
          "showarrow": true,
          "x": 18,
          "xref": "x",
          "y": 8454.2,
          "yref": "y"
         },
         {
          "arrowcolor": "FireBrick",
          "arrowhead": 2,
          "arrowsize": 0.8,
          "arrowwidth": 4,
          "ax": 0,
          "ay": -15,
          "hoverlabel": {
           "bgcolor": "FireBrick"
          },
          "hovertext": "Step 18 [2018-05-15 23:00:00]<br>SELL 0.01905297 BTC @ 8467.5 USD MARKET<br>Total: 161.33 USD - Comm.: 0.00005733 BTC",
          "opacity": 0.6,
          "showarrow": true,
          "x": 17,
          "xref": "x",
          "y": 8467.5,
          "yref": "y"
         },
         {
          "arrowcolor": "DarkGreen",
          "arrowhead": 2,
          "arrowsize": 0.8,
          "arrowwidth": 4,
          "ax": 0,
          "ay": 15,
          "hoverlabel": {
           "bgcolor": "DarkGreen"
          },
          "hovertext": "Step 17 [2018-05-15 22:00:00]<br>BUY 0.14330548 BTC @ 8459.9 USD MARKET<br>Total: 1212.35 USD - Comm.: 3.65 USD",
          "opacity": 0.6,
          "showarrow": true,
          "x": 16,
          "xref": "x",
          "y": 8459.9,
          "yref": "y"
         },
         {
          "arrowcolor": "FireBrick",
          "arrowhead": 2,
          "arrowsize": 0.8,
          "arrowwidth": 4,
          "ax": 0,
          "ay": -15,
          "hoverlabel": {
           "bgcolor": "FireBrick"
          },
          "hovertext": "Step 16 [2018-05-15 21:00:00]<br>SELL 0.02381621 BTC @ 8476.0 USD MARKET<br>Total: 201.87 USD - Comm.: 0.00007166 BTC",
          "opacity": 0.6,
          "showarrow": true,
          "x": 15,
          "xref": "x",
          "y": 8476,
          "yref": "y"
         },
         {
          "arrowcolor": "FireBrick",
          "arrowhead": 2,
          "arrowsize": 0.8,
          "arrowwidth": 4,
          "ax": 0,
          "ay": -15,
          "hoverlabel": {
           "bgcolor": "FireBrick"
          },
          "hovertext": "Step 15 [2018-05-15 20:00:00]<br>SELL 0.02977026 BTC @ 8516.7 USD MARKET<br>Total: 253.54 USD - Comm.: 0.00008958 BTC",
          "opacity": 0.6,
          "showarrow": true,
          "x": 14,
          "xref": "x",
          "y": 8516.7,
          "yref": "y"
         },
         {
          "arrowcolor": "FireBrick",
          "arrowhead": 2,
          "arrowsize": 0.8,
          "arrowwidth": 4,
          "ax": 0,
          "ay": -15,
          "hoverlabel": {
           "bgcolor": "FireBrick"
          },
          "hovertext": "Step 14 [2018-05-15 19:00:00]<br>SELL 0.03721283 BTC @ 8551.2 USD MARKET<br>Total: 318.21 USD - Comm.: 0.00011197 BTC",
          "opacity": 0.6,
          "showarrow": true,
          "x": 13,
          "xref": "x",
          "y": 8551.2,
          "yref": "y"
         },
         {
          "arrowcolor": "DarkGreen",
          "arrowhead": 2,
          "arrowsize": 0.8,
          "arrowwidth": 4,
          "ax": 0,
          "ay": 15,
          "hoverlabel": {
           "bgcolor": "DarkGreen"
          },
          "hovertext": "Step 13 [2018-05-15 18:00:00]<br>BUY 0.28470616 BTC @ 8516.5 USD MARKET<br>Total: 2424.7 USD - Comm.: 7.30 USD",
          "opacity": 0.6,
          "showarrow": true,
          "x": 12,
          "xref": "x",
          "y": 8516.5,
          "yref": "y"
         },
         {
          "arrowcolor": "FireBrick",
          "arrowhead": 2,
          "arrowsize": 0.8,
          "arrowwidth": 4,
          "ax": 0,
          "ay": -15,
          "hoverlabel": {
           "bgcolor": "FireBrick"
          },
          "hovertext": "Step 12 [2018-05-15 17:00:00]<br>SELL 0.12404275 BTC @ 8553.8 USD MARKET<br>Total: 1061.04 USD - Comm.: 0.00037325 BTC",
          "opacity": 0.6,
          "showarrow": true,
          "x": 11,
          "xref": "x",
          "y": 8553.8,
          "yref": "y"
         },
         {
          "arrowcolor": "DarkGreen",
          "arrowhead": 2,
          "arrowsize": 0.8,
          "arrowwidth": 4,
          "ax": 0,
          "ay": 15,
          "hoverlabel": {
           "bgcolor": "DarkGreen"
          },
          "hovertext": "Step 11 [2018-05-15 16:00:00]<br>BUY 0.56837355 BTC @ 8532.1 USD MARKET<br>Total: 4849.42 USD - Comm.: 14.59 USD",
          "opacity": 0.6,
          "showarrow": true,
          "x": 10,
          "xref": "x",
          "y": 8532.1,
          "yref": "y"
         },
         {
          "arrowcolor": "FireBrick",
          "arrowhead": 2,
          "arrowsize": 0.8,
          "arrowwidth": 4,
          "ax": 0,
          "ay": -15,
          "hoverlabel": {
           "bgcolor": "FireBrick"
          },
          "hovertext": "Step 10 [2018-05-15 15:00:00]<br>SELL 0.07752672 BTC @ 8520.8 USD MARKET<br>Total: 660.59 USD - Comm.: 0.00023328 BTC",
          "opacity": 0.6,
          "showarrow": true,
          "x": 9,
          "xref": "x",
          "y": 8520.8,
          "yref": "y"
         },
         {
          "arrowcolor": "FireBrick",
          "arrowhead": 2,
          "arrowsize": 0.8,
          "arrowwidth": 4,
          "ax": 0,
          "ay": -15,
          "hoverlabel": {
           "bgcolor": "FireBrick"
          },
          "hovertext": "Step 9 [2018-05-15 14:00:00]<br>SELL 0.3876336 BTC @ 8512.0 USD MARKET<br>Total: 3299.54 USD - Comm.: 0.00116640 BTC",
          "opacity": 0.6,
          "showarrow": true,
          "x": 8,
          "xref": "x",
          "y": 8512,
          "yref": "y"
         },
         {
          "arrowcolor": "FireBrick",
          "arrowhead": 2,
          "arrowsize": 0.8,
          "arrowwidth": 4,
          "ax": 0,
          "ay": -15,
          "hoverlabel": {
           "bgcolor": "FireBrick"
          },
          "hovertext": "Step 9 [2018-05-15 14:00:00]<br>SELL 0.14191695 BTC @ 8512.0 USD MARKET<br>Total: 1208.0 USD - Comm.: 0.00042703 BTC",
          "opacity": 0.6,
          "showarrow": true,
          "x": 8,
          "xref": "x",
          "y": 8512,
          "yref": "y"
         },
         {
          "arrowcolor": "FireBrick",
          "arrowhead": 2,
          "arrowsize": 0.8,
          "arrowwidth": 4,
          "ax": 0,
          "ay": -15,
          "hoverlabel": {
           "bgcolor": "FireBrick"
          },
          "hovertext": "Step 9 [2018-05-15 14:00:00]<br>SELL 0.28536908 BTC @ 8512.0 USD MARKET<br>Total: 2429.06 USD - Comm.: 0.00085868 BTC",
          "opacity": 0.6,
          "showarrow": true,
          "x": 8,
          "xref": "x",
          "y": 8512,
          "yref": "y"
         },
         {
          "arrowcolor": "FireBrick",
          "arrowhead": 2,
          "arrowsize": 0.8,
          "arrowwidth": 4,
          "ax": 0,
          "ay": -15,
          "hoverlabel": {
           "bgcolor": "FireBrick"
          },
          "hovertext": "Step 9 [2018-05-15 14:00:00]<br>SELL 0.56872011 BTC @ 8512.0 USD MARKET<br>Total: 4840.95 USD - Comm.: 0.00171129 BTC",
          "opacity": 0.6,
          "showarrow": true,
          "x": 8,
          "xref": "x",
          "y": 8512,
          "yref": "y"
         },
         {
          "arrowcolor": "FireBrick",
          "arrowhead": 2,
          "arrowsize": 0.8,
          "arrowwidth": 4,
          "ax": 0,
          "ay": -15,
          "hoverlabel": {
           "bgcolor": "FireBrick"
          },
          "hovertext": "Step 8 [2018-05-15 13:00:00]<br>SELL 0.5168448 BTC @ 8742.6 USD MARKET<br>Total: 4518.57 USD - Comm.: 0.00155520 BTC",
          "opacity": 0.6,
          "showarrow": true,
          "x": 7,
          "xref": "x",
          "y": 8742.6,
          "yref": "y"
         },
         {
          "arrowcolor": "FireBrick",
          "arrowhead": 2,
          "arrowsize": 0.8,
          "arrowwidth": 4,
          "ax": 0,
          "ay": -15,
          "hoverlabel": {
           "bgcolor": "FireBrick"
          },
          "hovertext": "Step 7 [2018-05-15 12:00:00]<br>SELL 0.861408 BTC @ 8762.0 USD MARKET<br>Total: 7547.66 USD - Comm.: 0.00259200 BTC",
          "opacity": 0.6,
          "showarrow": true,
          "x": 6,
          "xref": "x",
          "y": 8762,
          "yref": "y"
         },
         {
          "arrowcolor": "DarkGreen",
          "arrowhead": 2,
          "arrowsize": 0.8,
          "arrowwidth": 4,
          "ax": 0,
          "ay": 15,
          "hoverlabel": {
           "bgcolor": "DarkGreen"
          },
          "hovertext": "Step 6 [2018-05-15 11:00:00]<br>BUY 0.14234398 BTC @ 8755.2 USD MARKET<br>Total: 1246.25 USD - Comm.: 3.75 USD",
          "opacity": 0.6,
          "showarrow": true,
          "x": 5,
          "xref": "x",
          "y": 8755.2,
          "yref": "y"
         },
         {
          "arrowcolor": "FireBrick",
          "arrowhead": 2,
          "arrowsize": 0.8,
          "arrowwidth": 4,
          "ax": 0,
          "ay": -15,
          "hoverlabel": {
           "bgcolor": "FireBrick"
          },
          "hovertext": "Step 5 [2018-05-15 10:00:00]<br>SELL 1.43568 BTC @ 8784.4 USD MARKET<br>Total: 12611.59 USD - Comm.: 0.00432000 BTC",
          "opacity": 0.6,
          "showarrow": true,
          "x": 4,
          "xref": "x",
          "y": 8784.4,
          "yref": "y"
         },
         {
          "arrowcolor": "DarkGreen",
          "arrowhead": 2,
          "arrowsize": 0.8,
          "arrowwidth": 4,
          "ax": 0,
          "ay": 15,
          "hoverlabel": {
           "bgcolor": "DarkGreen"
          },
          "hovertext": "Step 4 [2018-05-15 09:00:00]<br>BUY 0.28622776 BTC @ 8708.1 USD MARKET<br>Total: 2492.5 USD - Comm.: 7.50 USD",
          "opacity": 0.6,
          "showarrow": true,
          "x": 3,
          "xref": "x",
          "y": 8708.1,
          "yref": "y"
         },
         {
          "arrowcolor": "FireBrick",
          "arrowhead": 2,
          "arrowsize": 0.8,
          "arrowwidth": 4,
          "ax": 0,
          "ay": -15,
          "hoverlabel": {
           "bgcolor": "FireBrick"
          },
          "hovertext": "Step 3 [2018-05-15 08:00:00]<br>SELL 2.3928 BTC @ 8723.7 USD MARKET<br>Total: 20874.07 USD - Comm.: 0.00720000 BTC",
          "opacity": 0.6,
          "showarrow": true,
          "x": 2,
          "xref": "x",
          "y": 8723.7,
          "yref": "y"
         },
         {
          "arrowcolor": "FireBrick",
          "arrowhead": 2,
          "arrowsize": 0.8,
          "arrowwidth": 4,
          "ax": 0,
          "ay": -15,
          "hoverlabel": {
           "bgcolor": "FireBrick"
          },
          "hovertext": "Step 2 [2018-05-15 07:00:00]<br>SELL 3.988 BTC @ 8743.0 USD MARKET<br>Total: 34867.08 USD - Comm.: 0.01200000 BTC",
          "opacity": 0.6,
          "showarrow": true,
          "x": 1,
          "xref": "x",
          "y": 8743,
          "yref": "y"
         },
         {
          "arrowcolor": "DarkGreen",
          "arrowhead": 2,
          "arrowsize": 0.8,
          "arrowwidth": 4,
          "ax": 0,
          "ay": 15,
          "hoverlabel": {
           "bgcolor": "DarkGreen"
          },
          "hovertext": "Step 1 [2018-05-15 06:00:00]<br>BUY 0.5704314 BTC @ 8739.0 USD MARKET<br>Total: 4985.0 USD - Comm.: 15.00 USD",
          "opacity": 0.6,
          "showarrow": true,
          "x": 0,
          "xref": "x",
          "y": 8739,
          "yref": "y"
         },
         {
          "arrowcolor": "DarkGreen",
          "arrowhead": 2,
          "arrowsize": 0.8,
          "arrowwidth": 4,
          "ax": 0,
          "ay": 15,
          "hoverlabel": {
           "bgcolor": "DarkGreen"
          },
          "hovertext": "Step 90 [2018-05-18 23:00:00]<br>BUY 0.01502628 BTC @ 8238.9 USD MARKET<br>Total: 123.8 USD - Comm.: 0.37 USD",
          "opacity": 0.6,
          "showarrow": true,
          "x": 89,
          "xref": "x",
          "y": 8238.9,
          "yref": "y"
         },
         {
          "arrowcolor": "FireBrick",
          "arrowhead": 2,
          "arrowsize": 0.8,
          "arrowwidth": 4,
          "ax": 0,
          "ay": -15,
          "hoverlabel": {
           "bgcolor": "FireBrick"
          },
          "hovertext": "Step 86 [2018-05-18 19:00:00]<br>SELL 0.01606648 BTC @ 8224.9 USD MARKET<br>Total: 132.15 USD - Comm.: 0.00004834 BTC",
          "opacity": 0.6,
          "showarrow": true,
          "x": 85,
          "xref": "x",
          "y": 8224.9,
          "yref": "y"
         },
         {
          "arrowcolor": "FireBrick",
          "arrowhead": 2,
          "arrowsize": 0.8,
          "arrowwidth": 4,
          "ax": 0,
          "ay": -15,
          "hoverlabel": {
           "bgcolor": "FireBrick"
          },
          "hovertext": "Step 86 [2018-05-18 19:00:00]<br>SELL 0.08390907 BTC @ 8224.9 USD MARKET<br>Total: 690.14 USD - Comm.: 0.00025248 BTC",
          "opacity": 0.6,
          "showarrow": true,
          "x": 85,
          "xref": "x",
          "y": 8224.9,
          "yref": "y"
         },
         {
          "arrowcolor": "FireBrick",
          "arrowhead": 2,
          "arrowsize": 0.8,
          "arrowwidth": 4,
          "ax": 0,
          "ay": -15,
          "hoverlabel": {
           "bgcolor": "FireBrick"
          },
          "hovertext": "Step 85 [2018-05-18 18:00:00]<br>SELL 0.00626188 BTC @ 8209.1 USD MARKET<br>Total: 51.4 USD - Comm.: 0.00001884 BTC",
          "opacity": 0.6,
          "showarrow": true,
          "x": 84,
          "xref": "x",
          "y": 8209.1,
          "yref": "y"
         },
         {
          "arrowcolor": "FireBrick",
          "arrowhead": 2,
          "arrowsize": 0.8,
          "arrowwidth": 4,
          "ax": 0,
          "ay": -15,
          "hoverlabel": {
           "bgcolor": "FireBrick"
          },
          "hovertext": "Step 85 [2018-05-18 18:00:00]<br>SELL 0.04194981 BTC @ 8209.1 USD MARKET<br>Total: 344.37 USD - Comm.: 0.00012623 BTC",
          "opacity": 0.6,
          "showarrow": true,
          "x": 84,
          "xref": "x",
          "y": 8209.1,
          "yref": "y"
         },
         {
          "arrowcolor": "FireBrick",
          "arrowhead": 2,
          "arrowsize": 0.8,
          "arrowwidth": 4,
          "ax": 0,
          "ay": -15,
          "hoverlabel": {
           "bgcolor": "FireBrick"
          },
          "hovertext": "Step 85 [2018-05-18 18:00:00]<br>SELL 0.1681125 BTC @ 8209.1 USD MARKET<br>Total: 1380.05 USD - Comm.: 0.00050586 BTC",
          "opacity": 0.6,
          "showarrow": true,
          "x": 84,
          "xref": "x",
          "y": 8209.1,
          "yref": "y"
         },
         {
          "arrowcolor": "FireBrick",
          "arrowhead": 2,
          "arrowsize": 0.8,
          "arrowwidth": 4,
          "ax": 0,
          "ay": -15,
          "hoverlabel": {
           "bgcolor": "FireBrick"
          },
          "hovertext": "Step 83 [2018-05-18 16:00:00]<br>SELL 0.01004155 BTC @ 8130.0 USD MARKET<br>Total: 81.64 USD - Comm.: 0.00003022 BTC",
          "opacity": 0.6,
          "showarrow": true,
          "x": 82,
          "xref": "x",
          "y": 8130,
          "yref": "y"
         },
         {
          "arrowcolor": "FireBrick",
          "arrowhead": 2,
          "arrowsize": 0.8,
          "arrowwidth": 4,
          "ax": 0,
          "ay": -15,
          "hoverlabel": {
           "bgcolor": "FireBrick"
          },
          "hovertext": "Step 82 [2018-05-18 15:00:00]<br>SELL 0.01255194 BTC @ 8105.0 USD MARKET<br>Total: 101.73 USD - Comm.: 0.00003777 BTC",
          "opacity": 0.6,
          "showarrow": true,
          "x": 81,
          "xref": "x",
          "y": 8105,
          "yref": "y"
         },
         {
          "arrowcolor": "FireBrick",
          "arrowhead": 2,
          "arrowsize": 0.8,
          "arrowwidth": 4,
          "ax": 0,
          "ay": -15,
          "hoverlabel": {
           "bgcolor": "FireBrick"
          },
          "hovertext": "Step 81 [2018-05-18 14:00:00]<br>SELL 0.01568993 BTC @ 8074.9 USD MARKET<br>Total: 126.69 USD - Comm.: 0.00004721 BTC",
          "opacity": 0.6,
          "showarrow": true,
          "x": 80,
          "xref": "x",
          "y": 8074.9,
          "yref": "y"
         },
         {
          "arrowcolor": "FireBrick",
          "arrowhead": 2,
          "arrowsize": 0.8,
          "arrowwidth": 4,
          "ax": 0,
          "ay": -15,
          "hoverlabel": {
           "bgcolor": "FireBrick"
          },
          "hovertext": "Step 80 [2018-05-18 13:00:00]<br>SELL 0.01961241 BTC @ 8095.7 USD MARKET<br>Total: 158.78 USD - Comm.: 0.00005901 BTC",
          "opacity": 0.6,
          "showarrow": true,
          "x": 79,
          "xref": "x",
          "y": 8095.7,
          "yref": "y"
         },
         {
          "arrowcolor": "FireBrick",
          "arrowhead": 2,
          "arrowsize": 0.8,
          "arrowwidth": 4,
          "ax": 0,
          "ay": -15,
          "hoverlabel": {
           "bgcolor": "FireBrick"
          },
          "hovertext": "Step 79 [2018-05-18 12:00:00]<br>SELL 0.02451551 BTC @ 8105.5 USD MARKET<br>Total: 198.71 USD - Comm.: 0.00007377 BTC",
          "opacity": 0.6,
          "showarrow": true,
          "x": 78,
          "xref": "x",
          "y": 8105.5,
          "yref": "y"
         },
         {
          "arrowcolor": "DarkGreen",
          "arrowhead": 2,
          "arrowsize": 0.8,
          "arrowwidth": 4,
          "ax": 0,
          "ay": 15,
          "hoverlabel": {
           "bgcolor": "DarkGreen"
          },
          "hovertext": "Step 78 [2018-05-18 11:00:00]<br>BUY 0.07360859 BTC @ 8101.5 USD MARKET<br>Total: 596.34 USD - Comm.: 1.79 USD",
          "opacity": 0.6,
          "showarrow": true,
          "x": 77,
          "xref": "x",
          "y": 8101.5,
          "yref": "y"
         },
         {
          "arrowcolor": "FireBrick",
          "arrowhead": 2,
          "arrowsize": 0.8,
          "arrowwidth": 4,
          "ax": 0,
          "ay": -15,
          "hoverlabel": {
           "bgcolor": "FireBrick"
          },
          "hovertext": "Step 77 [2018-05-18 10:00:00]<br>SELL 0.03064439 BTC @ 8130.0 USD MARKET<br>Total: 249.14 USD - Comm.: 0.00009221 BTC",
          "opacity": 0.6,
          "showarrow": true,
          "x": 76,
          "xref": "x",
          "y": 8130,
          "yref": "y"
         },
         {
          "arrowcolor": "DarkGreen",
          "arrowhead": 2,
          "arrowsize": 0.8,
          "arrowwidth": 4,
          "ax": 0,
          "ay": 15,
          "hoverlabel": {
           "bgcolor": "DarkGreen"
          },
          "hovertext": "Step 76 [2018-05-18 09:00:00]<br>BUY 0.14720206 BTC @ 8102.4 USD MARKET<br>Total: 1192.69 USD - Comm.: 3.59 USD",
          "opacity": 0.6,
          "showarrow": true,
          "x": 75,
          "xref": "x",
          "y": 8102.4,
          "yref": "y"
         },
         {
          "arrowcolor": "FireBrick",
          "arrowhead": 2,
          "arrowsize": 0.8,
          "arrowwidth": 4,
          "ax": 0,
          "ay": -15,
          "hoverlabel": {
           "bgcolor": "FireBrick"
          },
          "hovertext": "Step 75 [2018-05-18 08:00:00]<br>SELL 0.03830549 BTC @ 8123.6 USD MARKET<br>Total: 311.18 USD - Comm.: 0.00011526 BTC",
          "opacity": 0.6,
          "showarrow": true,
          "x": 74,
          "xref": "x",
          "y": 8123.6,
          "yref": "y"
         },
         {
          "arrowcolor": "FireBrick",
          "arrowhead": 2,
          "arrowsize": 0.8,
          "arrowwidth": 4,
          "ax": 0,
          "ay": -15,
          "hoverlabel": {
           "bgcolor": "FireBrick"
          },
          "hovertext": "Step 75 [2018-05-18 08:00:00]<br>SELL 0.00315851 BTC @ 8123.6 USD MARKET<br>Total: 25.66 USD - Comm.: 0.00000950 BTC",
          "opacity": 0.6,
          "showarrow": true,
          "x": 74,
          "xref": "x",
          "y": 8123.6,
          "yref": "y"
         },
         {
          "arrowcolor": "FireBrick",
          "arrowhead": 2,
          "arrowsize": 0.8,
          "arrowwidth": 4,
          "ax": 0,
          "ay": -15,
          "hoverlabel": {
           "bgcolor": "FireBrick"
          },
          "hovertext": "Step 75 [2018-05-18 08:00:00]<br>SELL 0.28980152 BTC @ 8123.6 USD MARKET<br>Total: 2354.23 USD - Comm.: 0.00087202 BTC",
          "opacity": 0.6,
          "showarrow": true,
          "x": 74,
          "xref": "x",
          "y": 8123.6,
          "yref": "y"
         },
         {
          "arrowcolor": "DarkGreen",
          "arrowhead": 2,
          "arrowsize": 0.8,
          "arrowwidth": 4,
          "ax": 0,
          "ay": 15,
          "hoverlabel": {
           "bgcolor": "DarkGreen"
          },
          "hovertext": "Step 74 [2018-05-18 07:00:00]<br>BUY 0.00155968 BTC @ 8085.0 USD MARKET<br>Total: 12.61 USD - Comm.: 0.04 USD",
          "opacity": 0.6,
          "showarrow": true,
          "x": 73,
          "xref": "x",
          "y": 8085,
          "yref": "y"
         },
         {
          "arrowcolor": "DarkGreen",
          "arrowhead": 2,
          "arrowsize": 0.8,
          "arrowwidth": 4,
          "ax": 0,
          "ay": 15,
          "hoverlabel": {
           "bgcolor": "DarkGreen"
          },
          "hovertext": "Step 73 [2018-05-18 06:00:00]<br>BUY 0.00316801 BTC @ 7964.0 USD MARKET<br>Total: 25.23 USD - Comm.: 0.08 USD",
          "opacity": 0.6,
          "showarrow": true,
          "x": 72,
          "xref": "x",
          "y": 7964,
          "yref": "y"
         },
         {
          "arrowcolor": "DarkGreen",
          "arrowhead": 2,
          "arrowsize": 0.8,
          "arrowwidth": 4,
          "ax": 0,
          "ay": 15,
          "hoverlabel": {
           "bgcolor": "DarkGreen"
          },
          "hovertext": "Step 73 [2018-05-18 06:00:00]<br>BUY 0.01271346 BTC @ 7964.0 USD MARKET<br>Total: 101.25 USD - Comm.: 0.30 USD",
          "opacity": 0.6,
          "showarrow": true,
          "x": 72,
          "xref": "x",
          "y": 7964,
          "yref": "y"
         },
         {
          "arrowcolor": "DarkGreen",
          "arrowhead": 2,
          "arrowsize": 0.8,
          "arrowwidth": 4,
          "ax": 0,
          "ay": 15,
          "hoverlabel": {
           "bgcolor": "DarkGreen"
          },
          "hovertext": "Step 72 [2018-05-18 05:00:00]<br>BUY 0.00628072 BTC @ 8035.7 USD MARKET<br>Total: 50.47 USD - Comm.: 0.15 USD",
          "opacity": 0.6,
          "showarrow": true,
          "x": 71,
          "xref": "x",
          "y": 8035.7,
          "yref": "y"
         },
         {
          "arrowcolor": "DarkGreen",
          "arrowhead": 2,
          "arrowsize": 0.8,
          "arrowwidth": 4,
          "ax": 0,
          "ay": 15,
          "hoverlabel": {
           "bgcolor": "DarkGreen"
          },
          "hovertext": "Step 71 [2018-05-18 04:00:00]<br>BUY 0.02937999 BTC @ 8016.0 USD MARKET<br>Total: 235.51 USD - Comm.: 0.71 USD",
          "opacity": 0.6,
          "showarrow": true,
          "x": 70,
          "xref": "x",
          "y": 8016,
          "yref": "y"
         },
         {
          "arrowcolor": "DarkGreen",
          "arrowhead": 2,
          "arrowsize": 0.8,
          "arrowwidth": 4,
          "ax": 0,
          "ay": 15,
          "hoverlabel": {
           "bgcolor": "DarkGreen"
          },
          "hovertext": "Step 70 [2018-05-18 03:00:00]<br>BUY 0.04207604 BTC @ 7996.0 USD MARKET<br>Total: 336.44 USD - Comm.: 1.01 USD",
          "opacity": 0.6,
          "showarrow": true,
          "x": 69,
          "xref": "x",
          "y": 7996,
          "yref": "y"
         },
         {
          "arrowcolor": "DarkGreen",
          "arrowhead": 2,
          "arrowsize": 0.8,
          "arrowwidth": 4,
          "ax": 0,
          "ay": 15,
          "hoverlabel": {
           "bgcolor": "DarkGreen"
          },
          "hovertext": "Step 69 [2018-05-18 02:00:00]<br>BUY 0.08416155 BTC @ 7995.1 USD MARKET<br>Total: 672.88 USD - Comm.: 2.02 USD",
          "opacity": 0.6,
          "showarrow": true,
          "x": 68,
          "xref": "x",
          "y": 7995.1,
          "yref": "y"
         },
         {
          "arrowcolor": "DarkGreen",
          "arrowhead": 2,
          "arrowsize": 0.8,
          "arrowwidth": 4,
          "ax": 0,
          "ay": 15,
          "hoverlabel": {
           "bgcolor": "DarkGreen"
          },
          "hovertext": "Step 68 [2018-05-18 01:00:00]<br>BUY 0.16861836 BTC @ 7981.1 USD MARKET<br>Total: 1345.76 USD - Comm.: 4.05 USD",
          "opacity": 0.6,
          "showarrow": true,
          "x": 67,
          "xref": "x",
          "y": 7981.1,
          "yref": "y"
         },
         {
          "arrowcolor": "DarkGreen",
          "arrowhead": 2,
          "arrowsize": 0.8,
          "arrowwidth": 4,
          "ax": 0,
          "ay": 15,
          "hoverlabel": {
           "bgcolor": "DarkGreen"
          },
          "hovertext": "Step 68 [2018-05-18 01:00:00]<br>BUY 0.01136059 BTC @ 7981.1 USD MARKET<br>Total: 90.67 USD - Comm.: 0.27 USD",
          "opacity": 0.6,
          "showarrow": true,
          "x": 67,
          "xref": "x",
          "y": 7981.1,
          "yref": "y"
         },
         {
          "arrowcolor": "DarkGreen",
          "arrowhead": 2,
          "arrowsize": 0.8,
          "arrowwidth": 4,
          "ax": 0,
          "ay": 15,
          "hoverlabel": {
           "bgcolor": "DarkGreen"
          },
          "hovertext": "Step 68 [2018-05-18 01:00:00]<br>BUY 0.03167233 BTC @ 7981.1 USD MARKET<br>Total: 252.78 USD - Comm.: 0.76 USD",
          "opacity": 0.6,
          "showarrow": true,
          "x": 67,
          "xref": "x",
          "y": 7981.1,
          "yref": "y"
         },
         {
          "arrowcolor": "DarkGreen",
          "arrowhead": 2,
          "arrowsize": 0.8,
          "arrowwidth": 4,
          "ax": 0,
          "ay": 15,
          "hoverlabel": {
           "bgcolor": "DarkGreen"
          },
          "hovertext": "Step 67 [2018-05-18 00:00:00]<br>BUY 0.29067354 BTC @ 7958.0 USD MARKET<br>Total: 2313.18 USD - Comm.: 6.96 USD",
          "opacity": 0.6,
          "showarrow": true,
          "x": 66,
          "xref": "x",
          "y": 7958,
          "yref": "y"
         },
         {
          "arrowcolor": "DarkGreen",
          "arrowhead": 2,
          "arrowsize": 0.8,
          "arrowwidth": 4,
          "ax": 0,
          "ay": 15,
          "hoverlabel": {
           "bgcolor": "DarkGreen"
          },
          "hovertext": "Step 67 [2018-05-18 00:00:00]<br>BUY 0.01897839 BTC @ 7958.0 USD MARKET<br>Total: 151.03 USD - Comm.: 0.45 USD",
          "opacity": 0.6,
          "showarrow": true,
          "x": 66,
          "xref": "x",
          "y": 7958,
          "yref": "y"
         },
         {
          "arrowcolor": "FireBrick",
          "arrowhead": 2,
          "arrowsize": 0.8,
          "arrowwidth": 4,
          "ax": 0,
          "ay": -15,
          "hoverlabel": {
           "bgcolor": "FireBrick"
          },
          "hovertext": "Step 67 [2018-05-18 00:00:00]<br>SELL 0.04768522 BTC @ 7958.0 USD MARKET<br>Total: 379.48 USD - Comm.: 0.00014349 BTC",
          "opacity": 0.6,
          "showarrow": true,
          "x": 66,
          "xref": "x",
          "y": 7958,
          "yref": "y"
         },
         {
          "arrowcolor": "DarkGreen",
          "arrowhead": 2,
          "arrowsize": 0.8,
          "arrowwidth": 4,
          "ax": 0,
          "ay": 15,
          "hoverlabel": {
           "bgcolor": "DarkGreen"
          },
          "hovertext": "Step 67 [2018-05-18 00:00:00]<br>BUY 0.02529027 BTC @ 7958.0 USD MARKET<br>Total: 201.26 USD - Comm.: 0.61 USD",
          "opacity": 0.6,
          "showarrow": true,
          "x": 66,
          "xref": "x",
          "y": 7958,
          "yref": "y"
         },
         {
          "arrowcolor": "DarkGreen",
          "arrowhead": 2,
          "arrowsize": 0.8,
          "arrowwidth": 4,
          "ax": 0,
          "ay": 15,
          "hoverlabel": {
           "bgcolor": "DarkGreen"
          },
          "hovertext": "Step 67 [2018-05-18 00:00:00]<br>BUY 0.0398668 BTC @ 7958.0 USD MARKET<br>Total: 317.26 USD - Comm.: 0.95 USD",
          "opacity": 0.6,
          "showarrow": true,
          "x": 66,
          "xref": "x",
          "y": 7958,
          "yref": "y"
         },
         {
          "arrowcolor": "DarkGreen",
          "arrowhead": 2,
          "arrowsize": 0.8,
          "arrowwidth": 4,
          "ax": 0,
          "ay": 15,
          "hoverlabel": {
           "bgcolor": "DarkGreen"
          },
          "hovertext": "Step 66 [2018-05-17 23:00:00]<br>BUY 0.13360193 BTC @ 8054.3 USD MARKET<br>Total: 1076.07 USD - Comm.: 3.24 USD",
          "opacity": 0.6,
          "showarrow": true,
          "x": 65,
          "xref": "x",
          "y": 8054.3,
          "yref": "y"
         },
         {
          "arrowcolor": "FireBrick",
          "arrowhead": 2,
          "arrowsize": 0.8,
          "arrowwidth": 4,
          "ax": 0,
          "ay": -15,
          "hoverlabel": {
           "bgcolor": "FireBrick"
          },
          "hovertext": "Step 66 [2018-05-17 23:00:00]<br>SELL 0.04010861 BTC @ 8054.3 USD MARKET<br>Total: 323.05 USD - Comm.: 0.00012069 BTC",
          "opacity": 0.6,
          "showarrow": true,
          "x": 65,
          "xref": "x",
          "y": 8054.3,
          "yref": "y"
         },
         {
          "arrowcolor": "DarkGreen",
          "arrowhead": 2,
          "arrowsize": 0.8,
          "arrowwidth": 4,
          "ax": 0,
          "ay": 15,
          "hoverlabel": {
           "bgcolor": "DarkGreen"
          },
          "hovertext": "Step 66 [2018-05-17 23:00:00]<br>BUY 0.01595049 BTC @ 8054.3 USD MARKET<br>Total: 128.47 USD - Comm.: 0.39 USD",
          "opacity": 0.6,
          "showarrow": true,
          "x": 65,
          "xref": "x",
          "y": 8054.3,
          "yref": "y"
         },
         {
          "arrowcolor": "DarkGreen",
          "arrowhead": 2,
          "arrowsize": 0.8,
          "arrowwidth": 4,
          "ax": 0,
          "ay": 15,
          "hoverlabel": {
           "bgcolor": "DarkGreen"
          },
          "hovertext": "Step 65 [2018-05-17 22:00:00]<br>BUY 0.01993209 BTC @ 8069.9 USD MARKET<br>Total: 160.85 USD - Comm.: 0.48 USD",
          "opacity": 0.6,
          "showarrow": true,
          "x": 64,
          "xref": "x",
          "y": 8069.9,
          "yref": "y"
         },
         {
          "arrowcolor": "DarkGreen",
          "arrowhead": 2,
          "arrowsize": 0.8,
          "arrowwidth": 4,
          "ax": 0,
          "ay": 15,
          "hoverlabel": {
           "bgcolor": "DarkGreen"
          },
          "hovertext": "Step 63 [2018-05-17 20:00:00]<br>BUY 0.43710167 BTC @ 8206.1 USD MARKET<br>Total: 3586.9 USD - Comm.: 10.79 USD",
          "opacity": 0.6,
          "showarrow": true,
          "x": 62,
          "xref": "x",
          "y": 8206.1,
          "yref": "y"
         },
         {
          "arrowcolor": "DarkGreen",
          "arrowhead": 2,
          "arrowsize": 0.8,
          "arrowwidth": 4,
          "ax": 0,
          "ay": 15,
          "hoverlabel": {
           "bgcolor": "DarkGreen"
          },
          "hovertext": "Step 150 [2018-05-21 11:00:00]<br>BUY 0.17852209 BTC @ 8483.6 USD MARKET<br>Total: 1514.51 USD - Comm.: 4.56 USD",
          "opacity": 0.6,
          "showarrow": true,
          "x": 149,
          "xref": "x",
          "y": 8483.6,
          "yref": "y"
         },
         {
          "arrowcolor": "DarkGreen",
          "arrowhead": 2,
          "arrowsize": 0.8,
          "arrowwidth": 4,
          "ax": 0,
          "ay": 15,
          "hoverlabel": {
           "bgcolor": "DarkGreen"
          },
          "hovertext": "Step 149 [2018-05-21 10:00:00]<br>BUY 0.35768504 BTC @ 8468.4 USD MARKET<br>Total: 3029.02 USD - Comm.: 9.11 USD",
          "opacity": 0.6,
          "showarrow": true,
          "x": 148,
          "xref": "x",
          "y": 8468.4,
          "yref": "y"
         },
         {
          "arrowcolor": "DarkGreen",
          "arrowhead": 2,
          "arrowsize": 0.8,
          "arrowwidth": 4,
          "ax": 0,
          "ay": 15,
          "hoverlabel": {
           "bgcolor": "DarkGreen"
          },
          "hovertext": "Step 148 [2018-05-21 09:00:00]<br>BUY 0.47650786 BTC @ 8475.6 USD MARKET<br>Total: 4038.69 USD - Comm.: 12.15 USD",
          "opacity": 0.6,
          "showarrow": true,
          "x": 147,
          "xref": "x",
          "y": 8475.6,
          "yref": "y"
         },
         {
          "arrowcolor": "FireBrick",
          "arrowhead": 2,
          "arrowsize": 0.8,
          "arrowwidth": 4,
          "ax": 0,
          "ay": -15,
          "hoverlabel": {
           "bgcolor": "FireBrick"
          },
          "hovertext": "Step 146 [2018-05-21 07:00:00]<br>SELL 0.01927978 BTC @ 8528.1 USD MARKET<br>Total: 164.42 USD - Comm.: 0.00005801 BTC",
          "opacity": 0.6,
          "showarrow": true,
          "x": 145,
          "xref": "x",
          "y": 8528.1,
          "yref": "y"
         },
         {
          "arrowcolor": "FireBrick",
          "arrowhead": 2,
          "arrowsize": 0.8,
          "arrowwidth": 4,
          "ax": 0,
          "ay": -15,
          "hoverlabel": {
           "bgcolor": "FireBrick"
          },
          "hovertext": "Step 135 [2018-05-20 20:00:00]<br>SELL 0.03736378 BTC @ 8551.5 USD MARKET<br>Total: 319.52 USD - Comm.: 0.00011243 BTC",
          "opacity": 0.6,
          "showarrow": true,
          "x": 134,
          "xref": "x",
          "y": 8551.5,
          "yref": "y"
         },
         {
          "arrowcolor": "DarkGreen",
          "arrowhead": 2,
          "arrowsize": 0.8,
          "arrowwidth": 4,
          "ax": 0,
          "ay": 15,
          "hoverlabel": {
           "bgcolor": "DarkGreen"
          },
          "hovertext": "Step 134 [2018-05-20 19:00:00]<br>BUY 0.04430818 BTC @ 8513.1 USD MARKET<br>Total: 377.2 USD - Comm.: 1.14 USD",
          "opacity": 0.6,
          "showarrow": true,
          "x": 133,
          "xref": "x",
          "y": 8513.1,
          "yref": "y"
         },
         {
          "arrowcolor": "FireBrick",
          "arrowhead": 2,
          "arrowsize": 0.8,
          "arrowwidth": 4,
          "ax": 0,
          "ay": -15,
          "hoverlabel": {
           "bgcolor": "FireBrick"
          },
          "hovertext": "Step 133 [2018-05-20 18:00:00]<br>SELL 0.59480002 BTC @ 8519.5 USD MARKET<br>Total: 5067.4 USD - Comm.: 0.00178977 BTC",
          "opacity": 0.6,
          "showarrow": true,
          "x": 132,
          "xref": "x",
          "y": 8519.5,
          "yref": "y"
         },
         {
          "arrowcolor": "DarkGreen",
          "arrowhead": 2,
          "arrowsize": 0.8,
          "arrowwidth": 4,
          "ax": 0,
          "ay": 15,
          "hoverlabel": {
           "bgcolor": "DarkGreen"
          },
          "hovertext": "Step 133 [2018-05-20 18:00:00]<br>BUY 0.78791831 BTC @ 8519.5 USD MARKET<br>Total: 6712.67 USD - Comm.: 20.20 USD",
          "opacity": 0.6,
          "showarrow": true,
          "x": 132,
          "xref": "x",
          "y": 8519.5,
          "yref": "y"
         },
         {
          "arrowcolor": "FireBrick",
          "arrowhead": 2,
          "arrowsize": 0.8,
          "arrowwidth": 4,
          "ax": 0,
          "ay": -15,
          "hoverlabel": {
           "bgcolor": "FireBrick"
          },
          "hovertext": "Step 132 [2018-05-20 17:00:00]<br>SELL 0.00930927 BTC @ 8517.8 USD MARKET<br>Total: 79.29 USD - Comm.: 0.00002801 BTC",
          "opacity": 0.6,
          "showarrow": true,
          "x": 131,
          "xref": "x",
          "y": 8517.8,
          "yref": "y"
         },
         {
          "arrowcolor": "FireBrick",
          "arrowhead": 2,
          "arrowsize": 0.8,
          "arrowwidth": 4,
          "ax": 0,
          "ay": -15,
          "hoverlabel": {
           "bgcolor": "FireBrick"
          },
          "hovertext": "Step 132 [2018-05-20 17:00:00]<br>SELL 0.14929039 BTC @ 8517.8 USD MARKET<br>Total: 1271.63 USD - Comm.: 0.00044922 BTC",
          "opacity": 0.6,
          "showarrow": true,
          "x": 131,
          "xref": "x",
          "y": 8517.8,
          "yref": "y"
         },
         {
          "arrowcolor": "DarkGreen",
          "arrowhead": 2,
          "arrowsize": 0.8,
          "arrowwidth": 4,
          "ax": 0,
          "ay": 15,
          "hoverlabel": {
           "bgcolor": "DarkGreen"
          },
          "hovertext": "Step 132 [2018-05-20 17:00:00]<br>BUY 0.01063772 BTC @ 8517.8 USD MARKET<br>Total: 90.61 USD - Comm.: 0.27 USD",
          "opacity": 0.6,
          "showarrow": true,
          "x": 131,
          "xref": "x",
          "y": 8517.8,
          "yref": "y"
         },
         {
          "arrowcolor": "DarkGreen",
          "arrowhead": 2,
          "arrowsize": 0.8,
          "arrowwidth": 4,
          "ax": 0,
          "ay": 15,
          "hoverlabel": {
           "bgcolor": "DarkGreen"
          },
          "hovertext": "Step 132 [2018-05-20 17:00:00]<br>BUY 0.04598136 BTC @ 8517.8 USD MARKET<br>Total: 391.66 USD - Comm.: 1.18 USD",
          "opacity": 0.6,
          "showarrow": true,
          "x": 131,
          "xref": "x",
          "y": 8517.8,
          "yref": "y"
         },
         {
          "arrowcolor": "DarkGreen",
          "arrowhead": 2,
          "arrowsize": 0.8,
          "arrowwidth": 4,
          "ax": 0,
          "ay": 15,
          "hoverlabel": {
           "bgcolor": "DarkGreen"
          },
          "hovertext": "Step 132 [2018-05-20 17:00:00]<br>BUY 1.52610416 BTC @ 8517.8 USD MARKET<br>Total: 12999.05 USD - Comm.: 39.11 USD",
          "opacity": 0.6,
          "showarrow": true,
          "x": 131,
          "xref": "x",
          "y": 8517.8,
          "yref": "y"
         },
         {
          "arrowcolor": "FireBrick",
          "arrowhead": 2,
          "arrowsize": 0.8,
          "arrowwidth": 4,
          "ax": 0,
          "ay": -15,
          "hoverlabel": {
           "bgcolor": "FireBrick"
          },
          "hovertext": "Step 131 [2018-05-20 16:00:00]<br>SELL 0.01865874 BTC @ 8484.6 USD MARKET<br>Total: 158.31 USD - Comm.: 0.00005614 BTC",
          "opacity": 0.6,
          "showarrow": true,
          "x": 130,
          "xref": "x",
          "y": 8484.6,
          "yref": "y"
         },
         {
          "arrowcolor": "FireBrick",
          "arrowhead": 2,
          "arrowsize": 0.8,
          "arrowwidth": 4,
          "ax": 0,
          "ay": -15,
          "hoverlabel": {
           "bgcolor": "FireBrick"
          },
          "hovertext": "Step 131 [2018-05-20 16:00:00]<br>SELL 0.07473148 BTC @ 8484.6 USD MARKET<br>Total: 634.07 USD - Comm.: 0.00022487 BTC",
          "opacity": 0.6,
          "showarrow": true,
          "x": 130,
          "xref": "x",
          "y": 8484.6,
          "yref": "y"
         },
         {
          "arrowcolor": "FireBrick",
          "arrowhead": 2,
          "arrowsize": 0.8,
          "arrowwidth": 4,
          "ax": 0,
          "ay": -15,
          "hoverlabel": {
           "bgcolor": "FireBrick"
          },
          "hovertext": "Step 131 [2018-05-20 16:00:00]<br>SELL 0.29876171 BTC @ 8484.6 USD MARKET<br>Total: 2534.87 USD - Comm.: 0.00089898 BTC",
          "opacity": 0.6,
          "showarrow": true,
          "x": 130,
          "xref": "x",
          "y": 8484.6,
          "yref": "y"
         },
         {
          "arrowcolor": "DarkGreen",
          "arrowhead": 2,
          "arrowsize": 0.8,
          "arrowwidth": 4,
          "ax": 0,
          "ay": 15,
          "hoverlabel": {
           "bgcolor": "DarkGreen"
          },
          "hovertext": "Step 131 [2018-05-20 16:00:00]<br>BUY 0.01505316 BTC @ 8484.6 USD MARKET<br>Total: 127.72 USD - Comm.: 0.38 USD",
          "opacity": 0.6,
          "showarrow": true,
          "x": 130,
          "xref": "x",
          "y": 8484.6,
          "yref": "y"
         },
         {
          "arrowcolor": "DarkGreen",
          "arrowhead": 2,
          "arrowsize": 0.8,
          "arrowwidth": 4,
          "ax": 0,
          "ay": 15,
          "hoverlabel": {
           "bgcolor": "DarkGreen"
          },
          "hovertext": "Step 131 [2018-05-20 16:00:00]<br>BUY 0.01325578 BTC @ 8484.6 USD MARKET<br>Total: 112.47 USD - Comm.: 0.34 USD",
          "opacity": 0.6,
          "showarrow": true,
          "x": 130,
          "xref": "x",
          "y": 8484.6,
          "yref": "y"
         },
         {
          "arrowcolor": "DarkGreen",
          "arrowhead": 2,
          "arrowsize": 0.8,
          "arrowwidth": 4,
          "ax": 0,
          "ay": 15,
          "hoverlabel": {
           "bgcolor": "DarkGreen"
          },
          "hovertext": "Step 131 [2018-05-20 16:00:00]<br>BUY 0.0747083 BTC @ 8484.6 USD MARKET<br>Total: 633.87 USD - Comm.: 1.91 USD",
          "opacity": 0.6,
          "showarrow": true,
          "x": 130,
          "xref": "x",
          "y": 8484.6,
          "yref": "y"
         },
         {
          "arrowcolor": "DarkGreen",
          "arrowhead": 2,
          "arrowsize": 0.8,
          "arrowwidth": 4,
          "ax": 0,
          "ay": 15,
          "hoverlabel": {
           "bgcolor": "DarkGreen"
          },
          "hovertext": "Step 131 [2018-05-20 16:00:00]<br>BUY 0.39626735 BTC @ 8484.6 USD MARKET<br>Total: 3362.17 USD - Comm.: 10.12 USD",
          "opacity": 0.6,
          "showarrow": true,
          "x": 130,
          "xref": "x",
          "y": 8484.6,
          "yref": "y"
         },
         {
          "arrowcolor": "DarkGreen",
          "arrowhead": 2,
          "arrowsize": 0.8,
          "arrowwidth": 4,
          "ax": 0,
          "ay": 15,
          "hoverlabel": {
           "bgcolor": "DarkGreen"
          },
          "hovertext": "Step 131 [2018-05-20 16:00:00]<br>BUY 1.58833534 BTC @ 8484.6 USD MARKET<br>Total: 13476.39 USD - Comm.: 40.55 USD",
          "opacity": 0.6,
          "showarrow": true,
          "x": 130,
          "xref": "x",
          "y": 8484.6,
          "yref": "y"
         },
         {
          "arrowcolor": "DarkGreen",
          "arrowhead": 2,
          "arrowsize": 0.8,
          "arrowwidth": 4,
          "ax": 0,
          "ay": 15,
          "hoverlabel": {
           "bgcolor": "DarkGreen"
          },
          "hovertext": "Step 131 [2018-05-20 16:00:00]<br>BUY 1.91390166 BTC @ 8484.6 USD MARKET<br>Total: 16238.69 USD - Comm.: 48.86 USD",
          "opacity": 0.6,
          "showarrow": true,
          "x": 130,
          "xref": "x",
          "y": 8484.6,
          "yref": "y"
         },
         {
          "arrowcolor": "DarkGreen",
          "arrowhead": 2,
          "arrowsize": 0.8,
          "arrowwidth": 4,
          "ax": 0,
          "ay": 15,
          "hoverlabel": {
           "bgcolor": "DarkGreen"
          },
          "hovertext": "Step 124 [2018-05-20 09:00:00]<br>BUY 0.00185192 BTC @ 8342.7 USD MARKET<br>Total: 15.45 USD - Comm.: 0.05 USD",
          "opacity": 0.6,
          "showarrow": true,
          "x": 123,
          "xref": "x",
          "y": 8342.7,
          "yref": "y"
         },
         {
          "arrowcolor": "DarkGreen",
          "arrowhead": 2,
          "arrowsize": 0.8,
          "arrowwidth": 4,
          "ax": 0,
          "ay": 15,
          "hoverlabel": {
           "bgcolor": "DarkGreen"
          },
          "hovertext": "Step 123 [2018-05-20 08:00:00]<br>BUY 0.00933728 BTC @ 8276.5 USD MARKET<br>Total: 77.28 USD - Comm.: 0.23 USD",
          "opacity": 0.6,
          "showarrow": true,
          "x": 122,
          "xref": "x",
          "y": 8276.5,
          "yref": "y"
         },
         {
          "arrowcolor": "DarkGreen",
          "arrowhead": 2,
          "arrowsize": 0.8,
          "arrowwidth": 4,
          "ax": 0,
          "ay": 15,
          "hoverlabel": {
           "bgcolor": "DarkGreen"
          },
          "hovertext": "Step 122 [2018-05-20 07:00:00]<br>BUY 0.01871488 BTC @ 8257.6 USD MARKET<br>Total: 154.54 USD - Comm.: 0.47 USD",
          "opacity": 0.6,
          "showarrow": true,
          "x": 121,
          "xref": "x",
          "y": 8257.6,
          "yref": "y"
         },
         {
          "arrowcolor": "DarkGreen",
          "arrowhead": 2,
          "arrowsize": 0.8,
          "arrowwidth": 4,
          "ax": 0,
          "ay": 15,
          "hoverlabel": {
           "bgcolor": "DarkGreen"
          },
          "hovertext": "Step 121 [2018-05-20 06:00:00]<br>BUY 0.03747621 BTC @ 8247.9 USD MARKET<br>Total: 309.1 USD - Comm.: 0.93 USD",
          "opacity": 0.6,
          "showarrow": true,
          "x": 120,
          "xref": "x",
          "y": 8247.9,
          "yref": "y"
         },
         {
          "arrowcolor": "DarkGreen",
          "arrowhead": 2,
          "arrowsize": 0.8,
          "arrowwidth": 4,
          "ax": 0,
          "ay": 15,
          "hoverlabel": {
           "bgcolor": "DarkGreen"
          },
          "hovertext": "Step 120 [2018-05-20 05:00:00]<br>BUY 0.07495635 BTC @ 8247.6 USD MARKET<br>Total: 618.21 USD - Comm.: 1.86 USD",
          "opacity": 0.6,
          "showarrow": true,
          "x": 119,
          "xref": "x",
          "y": 8247.6,
          "yref": "y"
         },
         {
          "arrowcolor": "DarkGreen",
          "arrowhead": 2,
          "arrowsize": 0.8,
          "arrowwidth": 4,
          "ax": 0,
          "ay": 15,
          "hoverlabel": {
           "bgcolor": "DarkGreen"
          },
          "hovertext": "Step 119 [2018-05-20 04:00:00]<br>BUY 0.14973961 BTC @ 8257.0 USD MARKET<br>Total: 1236.4 USD - Comm.: 3.72 USD",
          "opacity": 0.6,
          "showarrow": true,
          "x": 118,
          "xref": "x",
          "y": 8257,
          "yref": "y"
         },
         {
          "arrowcolor": "DarkGreen",
          "arrowhead": 2,
          "arrowsize": 0.8,
          "arrowwidth": 4,
          "ax": 0,
          "ay": 15,
          "hoverlabel": {
           "bgcolor": "DarkGreen"
          },
          "hovertext": "Step 118 [2018-05-20 03:00:00]<br>BUY 0.29966069 BTC @ 8252.0 USD MARKET<br>Total: 2472.8 USD - Comm.: 7.44 USD",
          "opacity": 0.6,
          "showarrow": true,
          "x": 117,
          "xref": "x",
          "y": 8252,
          "yref": "y"
         },
         {
          "arrowcolor": "DarkGreen",
          "arrowhead": 2,
          "arrowsize": 0.8,
          "arrowwidth": 4,
          "ax": 0,
          "ay": 15,
          "hoverlabel": {
           "bgcolor": "DarkGreen"
          },
          "hovertext": "Step 109 [2018-05-19 18:00:00]<br>BUY 0.59658979 BTC @ 8289.8 USD MARKET<br>Total: 4945.61 USD - Comm.: 14.88 USD",
          "opacity": 0.6,
          "showarrow": true,
          "x": 108,
          "xref": "x",
          "y": 8289.8,
          "yref": "y"
         },
         {
          "arrowcolor": "FireBrick",
          "arrowhead": 2,
          "arrowsize": 0.8,
          "arrowwidth": 4,
          "ax": 0,
          "ay": -15,
          "hoverlabel": {
           "bgcolor": "FireBrick"
          },
          "hovertext": "Step 105 [2018-05-19 14:00:00]<br>SELL 0.07338776 BTC @ 8302.7 USD MARKET<br>Total: 609.32 USD - Comm.: 0.00022083 BTC",
          "opacity": 0.6,
          "showarrow": true,
          "x": 104,
          "xref": "x",
          "y": 8302.7,
          "yref": "y"
         },
         {
          "arrowcolor": "DarkGreen",
          "arrowhead": 2,
          "arrowsize": 0.8,
          "arrowwidth": 4,
          "ax": 0,
          "ay": 15,
          "hoverlabel": {
           "bgcolor": "DarkGreen"
          },
          "hovertext": "Step 104 [2018-05-19 13:00:00]<br>BUY 0.00960413 BTC @ 8300.6 USD MARKET<br>Total: 79.72 USD - Comm.: 0.24 USD",
          "opacity": 0.6,
          "showarrow": true,
          "x": 103,
          "xref": "x",
          "y": 8300.6,
          "yref": "y"
         },
         {
          "arrowcolor": "FireBrick",
          "arrowhead": 2,
          "arrowsize": 0.8,
          "arrowwidth": 4,
          "ax": 0,
          "ay": -15,
          "hoverlabel": {
           "bgcolor": "FireBrick"
          },
          "hovertext": "Step 104 [2018-05-19 13:00:00]<br>SELL 0.001555 BTC @ 8300.6 USD MARKET<br>Total: 12.91 USD - Comm.: 0.00000468 BTC",
          "opacity": 0.6,
          "showarrow": true,
          "x": 103,
          "xref": "x",
          "y": 8300.6,
          "yref": "y"
         },
         {
          "arrowcolor": "DarkGreen",
          "arrowhead": 2,
          "arrowsize": 0.8,
          "arrowwidth": 4,
          "ax": 0,
          "ay": 15,
          "hoverlabel": {
           "bgcolor": "DarkGreen"
          },
          "hovertext": "Step 103 [2018-05-19 12:00:00]<br>BUY 0.0184022 BTC @ 8345.2 USD MARKET<br>Total: 153.57 USD - Comm.: 0.46 USD",
          "opacity": 0.6,
          "showarrow": true,
          "x": 102,
          "xref": "x",
          "y": 8345.2,
          "yref": "y"
         },
         {
          "arrowcolor": "FireBrick",
          "arrowhead": 2,
          "arrowsize": 0.8,
          "arrowwidth": 4,
          "ax": 0,
          "ay": -15,
          "hoverlabel": {
           "bgcolor": "FireBrick"
          },
          "hovertext": "Step 103 [2018-05-19 12:00:00]<br>SELL 0.14676045 BTC @ 8345.2 USD MARKET<br>Total: 1224.75 USD - Comm.: 0.00044161 BTC",
          "opacity": 0.6,
          "showarrow": true,
          "x": 102,
          "xref": "x",
          "y": 8345.2,
          "yref": "y"
         },
         {
          "arrowcolor": "FireBrick",
          "arrowhead": 2,
          "arrowsize": 0.8,
          "arrowwidth": 4,
          "ax": 0,
          "ay": -15,
          "hoverlabel": {
           "bgcolor": "FireBrick"
          },
          "hovertext": "Step 103 [2018-05-19 12:00:00]<br>SELL 0.13320112 BTC @ 8345.2 USD MARKET<br>Total: 1111.59 USD - Comm.: 0.00040081 BTC",
          "opacity": 0.6,
          "showarrow": true,
          "x": 102,
          "xref": "x",
          "y": 8345.2,
          "yref": "y"
         },
         {
          "arrowcolor": "DarkGreen",
          "arrowhead": 2,
          "arrowsize": 0.8,
          "arrowwidth": 4,
          "ax": 0,
          "ay": 15,
          "hoverlabel": {
           "bgcolor": "DarkGreen"
          },
          "hovertext": "Step 102 [2018-05-19 11:00:00]<br>BUY 0.01170007 BTC @ 8382.0 USD MARKET<br>Total: 98.07 USD - Comm.: 0.30 USD",
          "opacity": 0.6,
          "showarrow": true,
          "x": 101,
          "xref": "x",
          "y": 8382,
          "yref": "y"
         },
         {
          "arrowcolor": "DarkGreen",
          "arrowhead": 2,
          "arrowsize": 0.8,
          "arrowwidth": 4,
          "ax": 0,
          "ay": 15,
          "hoverlabel": {
           "bgcolor": "DarkGreen"
          },
          "hovertext": "Step 102 [2018-05-19 11:00:00]<br>BUY 0.02285612 BTC @ 8382.0 USD MARKET<br>Total: 191.58 USD - Comm.: 0.58 USD",
          "opacity": 0.6,
          "showarrow": true,
          "x": 101,
          "xref": "x",
          "y": 8382,
          "yref": "y"
         },
         {
          "arrowcolor": "DarkGreen",
          "arrowhead": 2,
          "arrowsize": 0.8,
          "arrowwidth": 4,
          "ax": 0,
          "ay": 15,
          "hoverlabel": {
           "bgcolor": "DarkGreen"
          },
          "hovertext": "Step 102 [2018-05-19 11:00:00]<br>BUY 0.02874254 BTC @ 8382.0 USD MARKET<br>Total: 240.92 USD - Comm.: 0.72 USD",
          "opacity": 0.6,
          "showarrow": true,
          "x": 101,
          "xref": "x",
          "y": 8382,
          "yref": "y"
         },
         {
          "arrowcolor": "DarkGreen",
          "arrowhead": 2,
          "arrowsize": 0.8,
          "arrowwidth": 4,
          "ax": 0,
          "ay": 15,
          "hoverlabel": {
           "bgcolor": "DarkGreen"
          },
          "hovertext": "Step 102 [2018-05-19 11:00:00]<br>BUY 0.03587211 BTC @ 8382.0 USD MARKET<br>Total: 300.68 USD - Comm.: 0.90 USD",
          "opacity": 0.6,
          "showarrow": true,
          "x": 101,
          "xref": "x",
          "y": 8382,
          "yref": "y"
         },
         {
          "arrowcolor": "FireBrick",
          "arrowhead": 2,
          "arrowsize": 0.8,
          "arrowwidth": 4,
          "ax": 0,
          "ay": -15,
          "hoverlabel": {
           "bgcolor": "FireBrick"
          },
          "hovertext": "Step 102 [2018-05-19 11:00:00]<br>SELL 0.02929185 BTC @ 8382.0 USD MARKET<br>Total: 245.52 USD - Comm.: 0.00008814 BTC",
          "opacity": 0.6,
          "showarrow": true,
          "x": 101,
          "xref": "x",
          "y": 8382,
          "yref": "y"
         },
         {
          "arrowcolor": "FireBrick",
          "arrowhead": 2,
          "arrowsize": 0.8,
          "arrowwidth": 4,
          "ax": 0,
          "ay": -15,
          "hoverlabel": {
           "bgcolor": "FireBrick"
          },
          "hovertext": "Step 102 [2018-05-19 11:00:00]<br>SELL 0.43579036 BTC @ 8382.0 USD MARKET<br>Total: 3652.79 USD - Comm.: 0.00131131 BTC",
          "opacity": 0.6,
          "showarrow": true,
          "x": 101,
          "xref": "x",
          "y": 8382,
          "yref": "y"
         },
         {
          "arrowcolor": "DarkGreen",
          "arrowhead": 2,
          "arrowsize": 0.8,
          "arrowwidth": 4,
          "ax": 0,
          "ay": 15,
          "hoverlabel": {
           "bgcolor": "DarkGreen"
          },
          "hovertext": "Step 199 [2018-05-23 12:00:00]<br>BUY 0.00222619 BTC @ 7905.9 USD MARKET<br>Total: 17.6 USD - Comm.: 0.05 USD",
          "opacity": 0.6,
          "showarrow": true,
          "x": 198,
          "xref": "x",
          "y": 7905.9,
          "yref": "y"
         },
         {
          "arrowcolor": "DarkGreen",
          "arrowhead": 2,
          "arrowsize": 0.8,
          "arrowwidth": 4,
          "ax": 0,
          "ay": 15,
          "hoverlabel": {
           "bgcolor": "DarkGreen"
          },
          "hovertext": "Step 198 [2018-05-23 11:00:00]<br>BUY 0.00224108 BTC @ 7848.9 USD MARKET<br>Total: 17.59 USD - Comm.: 0.05 USD",
          "opacity": 0.6,
          "showarrow": true,
          "x": 197,
          "xref": "x",
          "y": 7848.9,
          "yref": "y"
         },
         {
          "arrowcolor": "DarkGreen",
          "arrowhead": 2,
          "arrowsize": 0.8,
          "arrowwidth": 4,
          "ax": 0,
          "ay": 15,
          "hoverlabel": {
           "bgcolor": "DarkGreen"
          },
          "hovertext": "Step 197 [2018-05-23 10:00:00]<br>BUY 0.00264672 BTC @ 7839.9 USD MARKET<br>Total: 20.75 USD - Comm.: 0.06 USD",
          "opacity": 0.6,
          "showarrow": true,
          "x": 196,
          "xref": "x",
          "y": 7839.9,
          "yref": "y"
         },
         {
          "arrowcolor": "FireBrick",
          "arrowhead": 2,
          "arrowsize": 0.8,
          "arrowwidth": 4,
          "ax": 0,
          "ay": -15,
          "hoverlabel": {
           "bgcolor": "FireBrick"
          },
          "hovertext": "Step 197 [2018-05-23 10:00:00]<br>SELL 0.00184636 BTC @ 7839.9 USD MARKET<br>Total: 14.48 USD - Comm.: 0.00000556 BTC",
          "opacity": 0.6,
          "showarrow": true,
          "x": 196,
          "xref": "x",
          "y": 7839.9,
          "yref": "y"
         },
         {
          "arrowcolor": "DarkGreen",
          "arrowhead": 2,
          "arrowsize": 0.8,
          "arrowwidth": 4,
          "ax": 0,
          "ay": 15,
          "hoverlabel": {
           "bgcolor": "DarkGreen"
          },
          "hovertext": "Step 196 [2018-05-23 09:00:00]<br>BUY 0.00528999 BTC @ 7845.0 USD MARKET<br>Total: 41.5 USD - Comm.: 0.12 USD",
          "opacity": 0.6,
          "showarrow": true,
          "x": 195,
          "xref": "x",
          "y": 7845,
          "yref": "y"
         },
         {
          "arrowcolor": "DarkGreen",
          "arrowhead": 2,
          "arrowsize": 0.8,
          "arrowwidth": 4,
          "ax": 0,
          "ay": 15,
          "hoverlabel": {
           "bgcolor": "DarkGreen"
          },
          "hovertext": "Step 195 [2018-05-23 08:00:00]<br>BUY 0.01057804 BTC @ 7845.5 USD MARKET<br>Total: 82.99 USD - Comm.: 0.25 USD",
          "opacity": 0.6,
          "showarrow": true,
          "x": 194,
          "xref": "x",
          "y": 7845.5,
          "yref": "y"
         },
         {
          "arrowcolor": "DarkGreen",
          "arrowhead": 2,
          "arrowsize": 0.8,
          "arrowwidth": 4,
          "ax": 0,
          "ay": 15,
          "hoverlabel": {
           "bgcolor": "DarkGreen"
          },
          "hovertext": "Step 194 [2018-05-23 07:00:00]<br>BUY 0.02115985 BTC @ 7844.1 USD MARKET<br>Total: 165.98 USD - Comm.: 0.50 USD",
          "opacity": 0.6,
          "showarrow": true,
          "x": 193,
          "xref": "x",
          "y": 7844.1,
          "yref": "y"
         },
         {
          "arrowcolor": "DarkGreen",
          "arrowhead": 2,
          "arrowsize": 0.8,
          "arrowwidth": 4,
          "ax": 0,
          "ay": 15,
          "hoverlabel": {
           "bgcolor": "DarkGreen"
          },
          "hovertext": "Step 193 [2018-05-23 06:00:00]<br>BUY 0.01044925 BTC @ 7942.2 USD MARKET<br>Total: 82.99 USD - Comm.: 0.25 USD",
          "opacity": 0.6,
          "showarrow": true,
          "x": 192,
          "xref": "x",
          "y": 7942.2,
          "yref": "y"
         },
         {
          "arrowcolor": "DarkGreen",
          "arrowhead": 2,
          "arrowsize": 0.8,
          "arrowwidth": 4,
          "ax": 0,
          "ay": 15,
          "hoverlabel": {
           "bgcolor": "DarkGreen"
          },
          "hovertext": "Step 192 [2018-05-23 05:00:00]<br>BUY 0.05248413 BTC @ 7906.2 USD MARKET<br>Total: 414.95 USD - Comm.: 1.25 USD",
          "opacity": 0.6,
          "showarrow": true,
          "x": 191,
          "xref": "x",
          "y": 7906.2,
          "yref": "y"
         },
         {
          "arrowcolor": "DarkGreen",
          "arrowhead": 2,
          "arrowsize": 0.8,
          "arrowwidth": 4,
          "ax": 0,
          "ay": 15,
          "hoverlabel": {
           "bgcolor": "DarkGreen"
          },
          "hovertext": "Step 191 [2018-05-23 04:00:00]<br>BUY 0.10518251 BTC @ 7890.0 USD MARKET<br>Total: 829.89 USD - Comm.: 2.50 USD",
          "opacity": 0.6,
          "showarrow": true,
          "x": 190,
          "xref": "x",
          "y": 7890,
          "yref": "y"
         },
         {
          "arrowcolor": "FireBrick",
          "arrowhead": 2,
          "arrowsize": 0.8,
          "arrowwidth": 4,
          "ax": 0,
          "ay": -15,
          "hoverlabel": {
           "bgcolor": "FireBrick"
          },
          "hovertext": "Step 189 [2018-05-23 02:00:00]<br>SELL 0.00114923 BTC @ 7897.2 USD MARKET<br>Total: 9.08 USD - Comm.: 0.00000346 BTC",
          "opacity": 0.6,
          "showarrow": true,
          "x": 188,
          "xref": "x",
          "y": 7897.2,
          "yref": "y"
         },
         {
          "arrowcolor": "FireBrick",
          "arrowhead": 2,
          "arrowsize": 0.8,
          "arrowwidth": 4,
          "ax": 0,
          "ay": -15,
          "hoverlabel": {
           "bgcolor": "FireBrick"
          },
          "hovertext": "Step 188 [2018-05-23 01:00:00]<br>SELL 0.02026377 BTC @ 7898.67 USD MARKET<br>Total: 160.06 USD - Comm.: 0.00006097 BTC",
          "opacity": 0.6,
          "showarrow": true,
          "x": 187,
          "xref": "x",
          "y": 7898.67,
          "yref": "y"
         },
         {
          "arrowcolor": "FireBrick",
          "arrowhead": 2,
          "arrowsize": 0.8,
          "arrowwidth": 4,
          "ax": 0,
          "ay": -15,
          "hoverlabel": {
           "bgcolor": "FireBrick"
          },
          "hovertext": "Step 188 [2018-05-23 01:00:00]<br>SELL 0.02298252 BTC @ 7898.67 USD MARKET<br>Total: 181.53 USD - Comm.: 0.00006916 BTC",
          "opacity": 0.6,
          "showarrow": true,
          "x": 187,
          "xref": "x",
          "y": 7898.67,
          "yref": "y"
         },
         {
          "arrowcolor": "DarkGreen",
          "arrowhead": 2,
          "arrowsize": 0.8,
          "arrowwidth": 4,
          "ax": 0,
          "ay": 15,
          "hoverlabel": {
           "bgcolor": "DarkGreen"
          },
          "hovertext": "Step 187 [2018-05-23 00:00:00]<br>BUY 0.18475801 BTC @ 7955.0 USD MARKET<br>Total: 1469.75 USD - Comm.: 4.42 USD",
          "opacity": 0.6,
          "showarrow": true,
          "x": 186,
          "xref": "x",
          "y": 7955,
          "yref": "y"
         },
         {
          "arrowcolor": "DarkGreen",
          "arrowhead": 2,
          "arrowsize": 0.8,
          "arrowwidth": 4,
          "ax": 0,
          "ay": 15,
          "hoverlabel": {
           "bgcolor": "DarkGreen"
          },
          "hovertext": "Step 186 [2018-05-22 23:00:00]<br>BUY 0.30568637 BTC @ 7977.85 USD MARKET<br>Total: 2438.72 USD - Comm.: 7.34 USD",
          "opacity": 0.6,
          "showarrow": true,
          "x": 185,
          "xref": "x",
          "y": 7977.85,
          "yref": "y"
         },
         {
          "arrowcolor": "FireBrick",
          "arrowhead": 2,
          "arrowsize": 0.8,
          "arrowwidth": 4,
          "ax": 0,
          "ay": -15,
          "hoverlabel": {
           "bgcolor": "FireBrick"
          },
          "hovertext": "Step 186 [2018-05-22 23:00:00]<br>SELL 0.02741417 BTC @ 7977.85 USD MARKET<br>Total: 218.71 USD - Comm.: 0.00008249 BTC",
          "opacity": 0.6,
          "showarrow": true,
          "x": 185,
          "xref": "x",
          "y": 7977.85,
          "yref": "y"
         },
         {
          "arrowcolor": "FireBrick",
          "arrowhead": 2,
          "arrowsize": 0.8,
          "arrowwidth": 4,
          "ax": 0,
          "ay": -15,
          "hoverlabel": {
           "bgcolor": "FireBrick"
          },
          "hovertext": "Step 186 [2018-05-22 23:00:00]<br>SELL 0.03554595 BTC @ 7977.85 USD MARKET<br>Total: 283.58 USD - Comm.: 0.00010696 BTC",
          "opacity": 0.6,
          "showarrow": true,
          "x": 185,
          "xref": "x",
          "y": 7977.85,
          "yref": "y"
         },
         {
          "arrowcolor": "DarkGreen",
          "arrowhead": 2,
          "arrowsize": 0.8,
          "arrowwidth": 4,
          "ax": 0,
          "ay": 15,
          "hoverlabel": {
           "bgcolor": "DarkGreen"
          },
          "hovertext": "Step 185 [2018-05-22 22:00:00]<br>BUY 0.44077151 BTC @ 7968.8 USD MARKET<br>Total: 3512.42 USD - Comm.: 10.57 USD",
          "opacity": 0.6,
          "showarrow": true,
          "x": 184,
          "xref": "x",
          "y": 7968.8,
          "yref": "y"
         },
         {
          "arrowcolor": "FireBrick",
          "arrowhead": 2,
          "arrowsize": 0.8,
          "arrowwidth": 4,
          "ax": 0,
          "ay": -15,
          "hoverlabel": {
           "bgcolor": "FireBrick"
          },
          "hovertext": "Step 185 [2018-05-22 22:00:00]<br>SELL 0.05490081 BTC @ 7968.8 USD MARKET<br>Total: 437.49 USD - Comm.: 0.00016520 BTC",
          "opacity": 0.6,
          "showarrow": true,
          "x": 184,
          "xref": "x",
          "y": 7968.8,
          "yref": "y"
         },
         {
          "arrowcolor": "FireBrick",
          "arrowhead": 2,
          "arrowsize": 0.8,
          "arrowwidth": 4,
          "ax": 0,
          "ay": -15,
          "hoverlabel": {
           "bgcolor": "FireBrick"
          },
          "hovertext": "Step 185 [2018-05-22 22:00:00]<br>SELL 0.08845975 BTC @ 7968.8 USD MARKET<br>Total: 704.92 USD - Comm.: 0.00026618 BTC",
          "opacity": 0.6,
          "showarrow": true,
          "x": 184,
          "xref": "x",
          "y": 7968.8,
          "yref": "y"
         },
         {
          "arrowcolor": "FireBrick",
          "arrowhead": 2,
          "arrowsize": 0.8,
          "arrowwidth": 4,
          "ax": 0,
          "ay": -15,
          "hoverlabel": {
           "bgcolor": "FireBrick"
          },
          "hovertext": "Step 185 [2018-05-22 22:00:00]<br>SELL 0.02844916 BTC @ 7968.8 USD MARKET<br>Total: 226.71 USD - Comm.: 0.00008560 BTC",
          "opacity": 0.6,
          "showarrow": true,
          "x": 184,
          "xref": "x",
          "y": 7968.8,
          "yref": "y"
         },
         {
          "arrowcolor": "DarkGreen",
          "arrowhead": 2,
          "arrowsize": 0.8,
          "arrowwidth": 4,
          "ax": 0,
          "ay": 15,
          "hoverlabel": {
           "bgcolor": "DarkGreen"
          },
          "hovertext": "Step 185 [2018-05-22 22:00:00]<br>BUY 0.02057148 BTC @ 7968.8 USD MARKET<br>Total: 163.93 USD - Comm.: 0.49 USD",
          "opacity": 0.6,
          "showarrow": true,
          "x": 184,
          "xref": "x",
          "y": 7968.8,
          "yref": "y"
         },
         {
          "arrowcolor": "FireBrick",
          "arrowhead": 2,
          "arrowsize": 0.8,
          "arrowwidth": 4,
          "ax": 0,
          "ay": -15,
          "hoverlabel": {
           "bgcolor": "FireBrick"
          },
          "hovertext": "Step 184 [2018-05-22 21:00:00]<br>SELL 0.17732557 BTC @ 8068.9 USD MARKET<br>Total: 1430.82 USD - Comm.: 0.00053358 BTC",
          "opacity": 0.6,
          "showarrow": true,
          "x": 183,
          "xref": "x",
          "y": 8068.9,
          "yref": "y"
         },
         {
          "arrowcolor": "FireBrick",
          "arrowhead": 2,
          "arrowsize": 0.8,
          "arrowwidth": 4,
          "ax": 0,
          "ay": -15,
          "hoverlabel": {
           "bgcolor": "FireBrick"
          },
          "hovertext": "Step 183 [2018-05-22 20:00:00]<br>SELL 0.17729247 BTC @ 8108.4 USD MARKET<br>Total: 1437.56 USD - Comm.: 0.00053348 BTC",
          "opacity": 0.6,
          "showarrow": true,
          "x": 182,
          "xref": "x",
          "y": 8108.4,
          "yref": "y"
         },
         {
          "arrowcolor": "FireBrick",
          "arrowhead": 2,
          "arrowsize": 0.8,
          "arrowwidth": 4,
          "ax": 0,
          "ay": -15,
          "hoverlabel": {
           "bgcolor": "FireBrick"
          },
          "hovertext": "Step 183 [2018-05-22 20:00:00]<br>SELL 0.00058407 BTC @ 8108.4 USD MARKET<br>Total: 4.74 USD - Comm.: 0.00000176 BTC",
          "opacity": 0.6,
          "showarrow": true,
          "x": 182,
          "xref": "x",
          "y": 8108.4,
          "yref": "y"
         },
         {
          "arrowcolor": "FireBrick",
          "arrowhead": 2,
          "arrowsize": 0.8,
          "arrowwidth": 4,
          "ax": 0,
          "ay": -15,
          "hoverlabel": {
           "bgcolor": "FireBrick"
          },
          "hovertext": "Step 183 [2018-05-22 20:00:00]<br>SELL 0.0115823 BTC @ 8108.4 USD MARKET<br>Total: 93.91 USD - Comm.: 0.00003485 BTC",
          "opacity": 0.6,
          "showarrow": true,
          "x": 182,
          "xref": "x",
          "y": 8108.4,
          "yref": "y"
         },
         {
          "arrowcolor": "FireBrick",
          "arrowhead": 2,
          "arrowsize": 0.8,
          "arrowwidth": 4,
          "ax": 0,
          "ay": -15,
          "hoverlabel": {
           "bgcolor": "FireBrick"
          },
          "hovertext": "Step 183 [2018-05-22 20:00:00]<br>SELL 0.47507834 BTC @ 8108.4 USD MARKET<br>Total: 3852.13 USD - Comm.: 0.00142952 BTC",
          "opacity": 0.6,
          "showarrow": true,
          "x": 182,
          "xref": "x",
          "y": 8108.4,
          "yref": "y"
         },
         {
          "arrowcolor": "DarkGreen",
          "arrowhead": 2,
          "arrowsize": 0.8,
          "arrowwidth": 4,
          "ax": 0,
          "ay": 15,
          "hoverlabel": {
           "bgcolor": "DarkGreen"
          },
          "hovertext": "Step 177 [2018-05-22 14:00:00]<br>BUY 0.02749666 BTC @ 8225.0 USD MARKET<br>Total: 226.16 USD - Comm.: 0.68 USD",
          "opacity": 0.6,
          "showarrow": true,
          "x": 176,
          "xref": "x",
          "y": 8225,
          "yref": "y"
         },
         {
          "arrowcolor": "DarkGreen",
          "arrowhead": 2,
          "arrowsize": 0.8,
          "arrowwidth": 4,
          "ax": 0,
          "ay": 15,
          "hoverlabel": {
           "bgcolor": "DarkGreen"
          },
          "hovertext": "Step 176 [2018-05-22 13:00:00]<br>BUY 0.05506601 BTC @ 8213.96 USD MARKET<br>Total: 452.31 USD - Comm.: 1.36 USD",
          "opacity": 0.6,
          "showarrow": true,
          "x": 175,
          "xref": "x",
          "y": 8213.96,
          "yref": "y"
         },
         {
          "arrowcolor": "DarkGreen",
          "arrowhead": 2,
          "arrowsize": 0.8,
          "arrowwidth": 4,
          "ax": 0,
          "ay": 15,
          "hoverlabel": {
           "bgcolor": "DarkGreen"
          },
          "hovertext": "Step 175 [2018-05-22 12:00:00]<br>BUY 0.05772003 BTC @ 8170.3 USD MARKET<br>Total: 471.59 USD - Comm.: 1.42 USD",
          "opacity": 0.6,
          "showarrow": true,
          "x": 174,
          "xref": "x",
          "y": 8170.3,
          "yref": "y"
         },
         {
          "arrowcolor": "FireBrick",
          "arrowhead": 2,
          "arrowsize": 0.8,
          "arrowwidth": 4,
          "ax": 0,
          "ay": -15,
          "hoverlabel": {
           "bgcolor": "FireBrick"
          },
          "hovertext": "Step 175 [2018-05-22 12:00:00]<br>SELL 0.0011508 BTC @ 8170.3 USD MARKET<br>Total: 9.4 USD - Comm.: 0.00000346 BTC",
          "opacity": 0.6,
          "showarrow": true,
          "x": 174,
          "xref": "x",
          "y": 8170.3,
          "yref": "y"
         },
         {
          "arrowcolor": "FireBrick",
          "arrowhead": 2,
          "arrowsize": 0.8,
          "arrowwidth": 4,
          "ax": 0,
          "ay": -15,
          "hoverlabel": {
           "bgcolor": "FireBrick"
          },
          "hovertext": "Step 175 [2018-05-22 12:00:00]<br>SELL 0.0230626 BTC @ 8170.3 USD MARKET<br>Total: 188.43 USD - Comm.: 0.00006940 BTC",
          "opacity": 0.6,
          "showarrow": true,
          "x": 174,
          "xref": "x",
          "y": 8170.3,
          "yref": "y"
         },
         {
          "arrowcolor": "FireBrick",
          "arrowhead": 2,
          "arrowsize": 0.8,
          "arrowwidth": 4,
          "ax": 0,
          "ay": -15,
          "hoverlabel": {
           "bgcolor": "FireBrick"
          },
          "hovertext": "Step 174 [2018-05-22 11:00:00]<br>SELL 0.00230551 BTC @ 8205.2 USD MARKET<br>Total: 18.92 USD - Comm.: 0.00000694 BTC",
          "opacity": 0.6,
          "showarrow": true,
          "x": 173,
          "xref": "x",
          "y": 8205.2,
          "yref": "y"
         },
         {
          "arrowcolor": "FireBrick",
          "arrowhead": 2,
          "arrowsize": 0.8,
          "arrowwidth": 4,
          "ax": 0,
          "ay": -15,
          "hoverlabel": {
           "bgcolor": "FireBrick"
          },
          "hovertext": "Step 174 [2018-05-22 11:00:00]<br>SELL 0.00576763 BTC @ 8205.2 USD MARKET<br>Total: 47.32 USD - Comm.: 0.00001735 BTC",
          "opacity": 0.6,
          "showarrow": true,
          "x": 173,
          "xref": "x",
          "y": 8205.2,
          "yref": "y"
         },
         {
          "arrowcolor": "FireBrick",
          "arrowhead": 2,
          "arrowsize": 0.8,
          "arrowwidth": 4,
          "ax": 0,
          "ay": -15,
          "hoverlabel": {
           "bgcolor": "FireBrick"
          },
          "hovertext": "Step 174 [2018-05-22 11:00:00]<br>SELL 0.04604708 BTC @ 8205.2 USD MARKET<br>Total: 377.83 USD - Comm.: 0.00013856 BTC",
          "opacity": 0.6,
          "showarrow": true,
          "x": 173,
          "xref": "x",
          "y": 8205.2,
          "yref": "y"
         },
         {
          "arrowcolor": "DarkGreen",
          "arrowhead": 2,
          "arrowsize": 0.8,
          "arrowwidth": 4,
          "ax": 0,
          "ay": 15,
          "hoverlabel": {
           "bgcolor": "DarkGreen"
          },
          "hovertext": "Step 168 [2018-05-22 05:00:00]<br>BUY 0.08872593 BTC @ 8297.8 USD MARKET<br>Total: 736.23 USD - Comm.: 2.22 USD",
          "opacity": 0.6,
          "showarrow": true,
          "x": 167,
          "xref": "x",
          "y": 8297.8,
          "yref": "y"
         },
         {
          "arrowcolor": "DarkGreen",
          "arrowhead": 2,
          "arrowsize": 0.8,
          "arrowwidth": 4,
          "ax": 0,
          "ay": 15,
          "hoverlabel": {
           "bgcolor": "DarkGreen"
          },
          "hovertext": "Step 167 [2018-05-22 04:00:00]<br>BUY 0.17782595 BTC @ 8280.4 USD MARKET<br>Total: 1472.47 USD - Comm.: 4.43 USD",
          "opacity": 0.6,
          "showarrow": true,
          "x": 166,
          "xref": "x",
          "y": 8280.4,
          "yref": "y"
         },
         {
          "arrowcolor": "DarkGreen",
          "arrowhead": 2,
          "arrowsize": 0.8,
          "arrowwidth": 4,
          "ax": 0,
          "ay": 15,
          "hoverlabel": {
           "bgcolor": "DarkGreen"
          },
          "hovertext": "Step 165 [2018-05-22 02:00:00]<br>BUY 0.17785915 BTC @ 8288.3 USD MARKET<br>Total: 1474.15 USD - Comm.: 4.44 USD",
          "opacity": 0.6,
          "showarrow": true,
          "x": 164,
          "xref": "x",
          "y": 8288.3,
          "yref": "y"
         },
         {
          "arrowcolor": "FireBrick",
          "arrowhead": 2,
          "arrowsize": 0.8,
          "arrowwidth": 4,
          "ax": 0,
          "ay": -15,
          "hoverlabel": {
           "bgcolor": "FireBrick"
          },
          "hovertext": "Step 165 [2018-05-22 02:00:00]<br>SELL 0.17798652 BTC @ 8288.3 USD MARKET<br>Total: 1475.21 USD - Comm.: 0.00053557 BTC",
          "opacity": 0.6,
          "showarrow": true,
          "x": 164,
          "xref": "x",
          "y": 8288.3,
          "yref": "y"
         },
         {
          "arrowcolor": "DarkGreen",
          "arrowhead": 2,
          "arrowsize": 0.8,
          "arrowwidth": 4,
          "ax": 0,
          "ay": 15,
          "hoverlabel": {
           "bgcolor": "DarkGreen"
          },
          "hovertext": "Step 164 [2018-05-22 01:00:00]<br>BUY 0.00058583 BTC @ 8278.8 USD MARKET<br>Total: 4.85 USD - Comm.: 0.01 USD",
          "opacity": 0.6,
          "showarrow": true,
          "x": 163,
          "xref": "x",
          "y": 8278.8,
          "yref": "y"
         },
         {
          "arrowcolor": "FireBrick",
          "arrowhead": 2,
          "arrowsize": 0.8,
          "arrowwidth": 4,
          "ax": 0,
          "ay": -15,
          "hoverlabel": {
           "bgcolor": "FireBrick"
          },
          "hovertext": "Step 164 [2018-05-22 01:00:00]<br>SELL 0.35661198 BTC @ 8278.8 USD MARKET<br>Total: 2952.32 USD - Comm.: 0.00107306 BTC",
          "opacity": 0.6,
          "showarrow": true,
          "x": 163,
          "xref": "x",
          "y": 8278.8,
          "yref": "y"
         },
         {
          "arrowcolor": "DarkGreen",
          "arrowhead": 2,
          "arrowsize": 0.8,
          "arrowwidth": 4,
          "ax": 0,
          "ay": 15,
          "hoverlabel": {
           "bgcolor": "DarkGreen"
          },
          "hovertext": "Step 161 [2018-05-21 22:00:00]<br>BUY 0.00115426 BTC @ 8395.0 USD MARKET<br>Total: 9.69 USD - Comm.: 0.03 USD",
          "opacity": 0.6,
          "showarrow": true,
          "x": 160,
          "xref": "x",
          "y": 8395,
          "yref": "y"
         },
         {
          "arrowcolor": "DarkGreen",
          "arrowhead": 2,
          "arrowsize": 0.8,
          "arrowwidth": 4,
          "ax": 0,
          "ay": 15,
          "hoverlabel": {
           "bgcolor": "DarkGreen"
          },
          "hovertext": "Step 160 [2018-05-21 21:00:00]<br>BUY 0.00231245 BTC @ 8385.03 USD MARKET<br>Total: 19.39 USD - Comm.: 0.06 USD",
          "opacity": 0.6,
          "showarrow": true,
          "x": 159,
          "xref": "x",
          "y": 8385.03,
          "yref": "y"
         },
         {
          "arrowcolor": "DarkGreen",
          "arrowhead": 2,
          "arrowsize": 0.8,
          "arrowwidth": 4,
          "ax": 0,
          "ay": 15,
          "hoverlabel": {
           "bgcolor": "DarkGreen"
          },
          "hovertext": "Step 159 [2018-05-21 20:00:00]<br>BUY 0.00115269 BTC @ 8406.45 USD MARKET<br>Total: 9.69 USD - Comm.: 0.03 USD",
          "opacity": 0.6,
          "showarrow": true,
          "x": 158,
          "xref": "x",
          "y": 8406.45,
          "yref": "y"
         },
         {
          "arrowcolor": "DarkGreen",
          "arrowhead": 2,
          "arrowsize": 0.8,
          "arrowwidth": 4,
          "ax": 0,
          "ay": 15,
          "hoverlabel": {
           "bgcolor": "DarkGreen"
          },
          "hovertext": "Step 158 [2018-05-21 19:00:00]<br>BUY 0.00578498 BTC @ 8376.87 USD MARKET<br>Total: 48.46 USD - Comm.: 0.15 USD",
          "opacity": 0.6,
          "showarrow": true,
          "x": 157,
          "xref": "x",
          "y": 8376.87,
          "yref": "y"
         },
         {
          "arrowcolor": "DarkGreen",
          "arrowhead": 2,
          "arrowsize": 0.8,
          "arrowwidth": 4,
          "ax": 0,
          "ay": 15,
          "hoverlabel": {
           "bgcolor": "DarkGreen"
          },
          "hovertext": "Step 157 [2018-05-21 18:00:00]<br>BUY 0.01161715 BTC @ 8343.7 USD MARKET<br>Total: 96.93 USD - Comm.: 0.29 USD",
          "opacity": 0.6,
          "showarrow": true,
          "x": 156,
          "xref": "x",
          "y": 8343.7,
          "yref": "y"
         },
         {
          "arrowcolor": "DarkGreen",
          "arrowhead": 2,
          "arrowsize": 0.8,
          "arrowwidth": 4,
          "ax": 0,
          "ay": 15,
          "hoverlabel": {
           "bgcolor": "DarkGreen"
          },
          "hovertext": "Step 156 [2018-05-21 17:00:00]<br>BUY 0.023132 BTC @ 8380.6 USD MARKET<br>Total: 193.86 USD - Comm.: 0.58 USD",
          "opacity": 0.6,
          "showarrow": true,
          "x": 155,
          "xref": "x",
          "y": 8380.6,
          "yref": "y"
         },
         {
          "arrowcolor": "DarkGreen",
          "arrowhead": 2,
          "arrowsize": 0.8,
          "arrowwidth": 4,
          "ax": 0,
          "ay": 15,
          "hoverlabel": {
           "bgcolor": "DarkGreen"
          },
          "hovertext": "Step 155 [2018-05-21 16:00:00]<br>BUY 0.04618564 BTC @ 8394.6 USD MARKET<br>Total: 387.71 USD - Comm.: 1.17 USD",
          "opacity": 0.6,
          "showarrow": true,
          "x": 154,
          "xref": "x",
          "y": 8394.6,
          "yref": "y"
         },
         {
          "arrowcolor": "DarkGreen",
          "arrowhead": 2,
          "arrowsize": 0.8,
          "arrowwidth": 4,
          "ax": 0,
          "ay": 15,
          "hoverlabel": {
           "bgcolor": "DarkGreen"
          },
          "hovertext": "Step 153 [2018-05-21 14:00:00]<br>BUY 0.02305168 BTC @ 8409.8 USD MARKET<br>Total: 193.86 USD - Comm.: 0.58 USD",
          "opacity": 0.6,
          "showarrow": true,
          "x": 152,
          "xref": "x",
          "y": 8409.8,
          "yref": "y"
         },
         {
          "arrowcolor": "DarkGreen",
          "arrowhead": 2,
          "arrowsize": 0.8,
          "arrowwidth": 4,
          "ax": 0,
          "ay": 15,
          "hoverlabel": {
           "bgcolor": "DarkGreen"
          },
          "hovertext": "Step 152 [2018-05-21 13:00:00]<br>BUY 0.02853476 BTC @ 8492.1 USD MARKET<br>Total: 242.32 USD - Comm.: 0.73 USD",
          "opacity": 0.6,
          "showarrow": true,
          "x": 151,
          "xref": "x",
          "y": 8492.1,
          "yref": "y"
         },
         {
          "arrowcolor": "DarkGreen",
          "arrowhead": 2,
          "arrowsize": 0.8,
          "arrowwidth": 4,
          "ax": 0,
          "ay": 15,
          "hoverlabel": {
           "bgcolor": "DarkGreen"
          },
          "hovertext": "Step 151 [2018-05-21 12:00:00]<br>BUY 0.03565291 BTC @ 8495.8 USD MARKET<br>Total: 302.9 USD - Comm.: 0.91 USD",
          "opacity": 0.6,
          "showarrow": true,
          "x": 150,
          "xref": "x",
          "y": 8495.8,
          "yref": "y"
         }
        ],
        "margin": {
         "t": 50
        },
        "template": {
         "data": {
          "bar": [
           {
            "error_x": {
             "color": "#2a3f5f"
            },
            "error_y": {
             "color": "#2a3f5f"
            },
            "marker": {
             "line": {
              "color": "white",
              "width": 0.5
             }
            },
            "type": "bar"
           }
          ],
          "barpolar": [
           {
            "marker": {
             "line": {
              "color": "white",
              "width": 0.5
             }
            },
            "type": "barpolar"
           }
          ],
          "carpet": [
           {
            "aaxis": {
             "endlinecolor": "#2a3f5f",
             "gridcolor": "#C8D4E3",
             "linecolor": "#C8D4E3",
             "minorgridcolor": "#C8D4E3",
             "startlinecolor": "#2a3f5f"
            },
            "baxis": {
             "endlinecolor": "#2a3f5f",
             "gridcolor": "#C8D4E3",
             "linecolor": "#C8D4E3",
             "minorgridcolor": "#C8D4E3",
             "startlinecolor": "#2a3f5f"
            },
            "type": "carpet"
           }
          ],
          "choropleth": [
           {
            "colorbar": {
             "outlinewidth": 0,
             "ticks": ""
            },
            "type": "choropleth"
           }
          ],
          "contour": [
           {
            "colorbar": {
             "outlinewidth": 0,
             "ticks": ""
            },
            "colorscale": [
             [
              0,
              "#0d0887"
             ],
             [
              0.1111111111111111,
              "#46039f"
             ],
             [
              0.2222222222222222,
              "#7201a8"
             ],
             [
              0.3333333333333333,
              "#9c179e"
             ],
             [
              0.4444444444444444,
              "#bd3786"
             ],
             [
              0.5555555555555556,
              "#d8576b"
             ],
             [
              0.6666666666666666,
              "#ed7953"
             ],
             [
              0.7777777777777778,
              "#fb9f3a"
             ],
             [
              0.8888888888888888,
              "#fdca26"
             ],
             [
              1,
              "#f0f921"
             ]
            ],
            "type": "contour"
           }
          ],
          "contourcarpet": [
           {
            "colorbar": {
             "outlinewidth": 0,
             "ticks": ""
            },
            "type": "contourcarpet"
           }
          ],
          "heatmap": [
           {
            "colorbar": {
             "outlinewidth": 0,
             "ticks": ""
            },
            "colorscale": [
             [
              0,
              "#0d0887"
             ],
             [
              0.1111111111111111,
              "#46039f"
             ],
             [
              0.2222222222222222,
              "#7201a8"
             ],
             [
              0.3333333333333333,
              "#9c179e"
             ],
             [
              0.4444444444444444,
              "#bd3786"
             ],
             [
              0.5555555555555556,
              "#d8576b"
             ],
             [
              0.6666666666666666,
              "#ed7953"
             ],
             [
              0.7777777777777778,
              "#fb9f3a"
             ],
             [
              0.8888888888888888,
              "#fdca26"
             ],
             [
              1,
              "#f0f921"
             ]
            ],
            "type": "heatmap"
           }
          ],
          "heatmapgl": [
           {
            "colorbar": {
             "outlinewidth": 0,
             "ticks": ""
            },
            "colorscale": [
             [
              0,
              "#0d0887"
             ],
             [
              0.1111111111111111,
              "#46039f"
             ],
             [
              0.2222222222222222,
              "#7201a8"
             ],
             [
              0.3333333333333333,
              "#9c179e"
             ],
             [
              0.4444444444444444,
              "#bd3786"
             ],
             [
              0.5555555555555556,
              "#d8576b"
             ],
             [
              0.6666666666666666,
              "#ed7953"
             ],
             [
              0.7777777777777778,
              "#fb9f3a"
             ],
             [
              0.8888888888888888,
              "#fdca26"
             ],
             [
              1,
              "#f0f921"
             ]
            ],
            "type": "heatmapgl"
           }
          ],
          "histogram": [
           {
            "marker": {
             "colorbar": {
              "outlinewidth": 0,
              "ticks": ""
             }
            },
            "type": "histogram"
           }
          ],
          "histogram2d": [
           {
            "colorbar": {
             "outlinewidth": 0,
             "ticks": ""
            },
            "colorscale": [
             [
              0,
              "#0d0887"
             ],
             [
              0.1111111111111111,
              "#46039f"
             ],
             [
              0.2222222222222222,
              "#7201a8"
             ],
             [
              0.3333333333333333,
              "#9c179e"
             ],
             [
              0.4444444444444444,
              "#bd3786"
             ],
             [
              0.5555555555555556,
              "#d8576b"
             ],
             [
              0.6666666666666666,
              "#ed7953"
             ],
             [
              0.7777777777777778,
              "#fb9f3a"
             ],
             [
              0.8888888888888888,
              "#fdca26"
             ],
             [
              1,
              "#f0f921"
             ]
            ],
            "type": "histogram2d"
           }
          ],
          "histogram2dcontour": [
           {
            "colorbar": {
             "outlinewidth": 0,
             "ticks": ""
            },
            "colorscale": [
             [
              0,
              "#0d0887"
             ],
             [
              0.1111111111111111,
              "#46039f"
             ],
             [
              0.2222222222222222,
              "#7201a8"
             ],
             [
              0.3333333333333333,
              "#9c179e"
             ],
             [
              0.4444444444444444,
              "#bd3786"
             ],
             [
              0.5555555555555556,
              "#d8576b"
             ],
             [
              0.6666666666666666,
              "#ed7953"
             ],
             [
              0.7777777777777778,
              "#fb9f3a"
             ],
             [
              0.8888888888888888,
              "#fdca26"
             ],
             [
              1,
              "#f0f921"
             ]
            ],
            "type": "histogram2dcontour"
           }
          ],
          "mesh3d": [
           {
            "colorbar": {
             "outlinewidth": 0,
             "ticks": ""
            },
            "type": "mesh3d"
           }
          ],
          "parcoords": [
           {
            "line": {
             "colorbar": {
              "outlinewidth": 0,
              "ticks": ""
             }
            },
            "type": "parcoords"
           }
          ],
          "pie": [
           {
            "automargin": true,
            "type": "pie"
           }
          ],
          "scatter": [
           {
            "marker": {
             "colorbar": {
              "outlinewidth": 0,
              "ticks": ""
             }
            },
            "type": "scatter"
           }
          ],
          "scatter3d": [
           {
            "line": {
             "colorbar": {
              "outlinewidth": 0,
              "ticks": ""
             }
            },
            "marker": {
             "colorbar": {
              "outlinewidth": 0,
              "ticks": ""
             }
            },
            "type": "scatter3d"
           }
          ],
          "scattercarpet": [
           {
            "marker": {
             "colorbar": {
              "outlinewidth": 0,
              "ticks": ""
             }
            },
            "type": "scattercarpet"
           }
          ],
          "scattergeo": [
           {
            "marker": {
             "colorbar": {
              "outlinewidth": 0,
              "ticks": ""
             }
            },
            "type": "scattergeo"
           }
          ],
          "scattergl": [
           {
            "marker": {
             "colorbar": {
              "outlinewidth": 0,
              "ticks": ""
             }
            },
            "type": "scattergl"
           }
          ],
          "scattermapbox": [
           {
            "marker": {
             "colorbar": {
              "outlinewidth": 0,
              "ticks": ""
             }
            },
            "type": "scattermapbox"
           }
          ],
          "scatterpolar": [
           {
            "marker": {
             "colorbar": {
              "outlinewidth": 0,
              "ticks": ""
             }
            },
            "type": "scatterpolar"
           }
          ],
          "scatterpolargl": [
           {
            "marker": {
             "colorbar": {
              "outlinewidth": 0,
              "ticks": ""
             }
            },
            "type": "scatterpolargl"
           }
          ],
          "scatterternary": [
           {
            "marker": {
             "colorbar": {
              "outlinewidth": 0,
              "ticks": ""
             }
            },
            "type": "scatterternary"
           }
          ],
          "surface": [
           {
            "colorbar": {
             "outlinewidth": 0,
             "ticks": ""
            },
            "colorscale": [
             [
              0,
              "#0d0887"
             ],
             [
              0.1111111111111111,
              "#46039f"
             ],
             [
              0.2222222222222222,
              "#7201a8"
             ],
             [
              0.3333333333333333,
              "#9c179e"
             ],
             [
              0.4444444444444444,
              "#bd3786"
             ],
             [
              0.5555555555555556,
              "#d8576b"
             ],
             [
              0.6666666666666666,
              "#ed7953"
             ],
             [
              0.7777777777777778,
              "#fb9f3a"
             ],
             [
              0.8888888888888888,
              "#fdca26"
             ],
             [
              1,
              "#f0f921"
             ]
            ],
            "type": "surface"
           }
          ],
          "table": [
           {
            "cells": {
             "fill": {
              "color": "#EBF0F8"
             },
             "line": {
              "color": "white"
             }
            },
            "header": {
             "fill": {
              "color": "#C8D4E3"
             },
             "line": {
              "color": "white"
             }
            },
            "type": "table"
           }
          ]
         },
         "layout": {
          "annotationdefaults": {
           "arrowcolor": "#2a3f5f",
           "arrowhead": 0,
           "arrowwidth": 1
          },
          "autotypenumbers": "strict",
          "coloraxis": {
           "colorbar": {
            "outlinewidth": 0,
            "ticks": ""
           }
          },
          "colorscale": {
           "diverging": [
            [
             0,
             "#8e0152"
            ],
            [
             0.1,
             "#c51b7d"
            ],
            [
             0.2,
             "#de77ae"
            ],
            [
             0.3,
             "#f1b6da"
            ],
            [
             0.4,
             "#fde0ef"
            ],
            [
             0.5,
             "#f7f7f7"
            ],
            [
             0.6,
             "#e6f5d0"
            ],
            [
             0.7,
             "#b8e186"
            ],
            [
             0.8,
             "#7fbc41"
            ],
            [
             0.9,
             "#4d9221"
            ],
            [
             1,
             "#276419"
            ]
           ],
           "sequential": [
            [
             0,
             "#0d0887"
            ],
            [
             0.1111111111111111,
             "#46039f"
            ],
            [
             0.2222222222222222,
             "#7201a8"
            ],
            [
             0.3333333333333333,
             "#9c179e"
            ],
            [
             0.4444444444444444,
             "#bd3786"
            ],
            [
             0.5555555555555556,
             "#d8576b"
            ],
            [
             0.6666666666666666,
             "#ed7953"
            ],
            [
             0.7777777777777778,
             "#fb9f3a"
            ],
            [
             0.8888888888888888,
             "#fdca26"
            ],
            [
             1,
             "#f0f921"
            ]
           ],
           "sequentialminus": [
            [
             0,
             "#0d0887"
            ],
            [
             0.1111111111111111,
             "#46039f"
            ],
            [
             0.2222222222222222,
             "#7201a8"
            ],
            [
             0.3333333333333333,
             "#9c179e"
            ],
            [
             0.4444444444444444,
             "#bd3786"
            ],
            [
             0.5555555555555556,
             "#d8576b"
            ],
            [
             0.6666666666666666,
             "#ed7953"
            ],
            [
             0.7777777777777778,
             "#fb9f3a"
            ],
            [
             0.8888888888888888,
             "#fdca26"
            ],
            [
             1,
             "#f0f921"
            ]
           ]
          },
          "colorway": [
           "#636efa",
           "#EF553B",
           "#00cc96",
           "#ab63fa",
           "#FFA15A",
           "#19d3f3",
           "#FF6692",
           "#B6E880",
           "#FF97FF",
           "#FECB52"
          ],
          "font": {
           "color": "#2a3f5f"
          },
          "geo": {
           "bgcolor": "white",
           "lakecolor": "white",
           "landcolor": "white",
           "showlakes": true,
           "showland": true,
           "subunitcolor": "#C8D4E3"
          },
          "hoverlabel": {
           "align": "left"
          },
          "hovermode": "closest",
          "mapbox": {
           "style": "light"
          },
          "paper_bgcolor": "white",
          "plot_bgcolor": "white",
          "polar": {
           "angularaxis": {
            "gridcolor": "#EBF0F8",
            "linecolor": "#EBF0F8",
            "ticks": ""
           },
           "bgcolor": "white",
           "radialaxis": {
            "gridcolor": "#EBF0F8",
            "linecolor": "#EBF0F8",
            "ticks": ""
           }
          },
          "scene": {
           "xaxis": {
            "backgroundcolor": "white",
            "gridcolor": "#DFE8F3",
            "gridwidth": 2,
            "linecolor": "#EBF0F8",
            "showbackground": true,
            "ticks": "",
            "zerolinecolor": "#EBF0F8"
           },
           "yaxis": {
            "backgroundcolor": "white",
            "gridcolor": "#DFE8F3",
            "gridwidth": 2,
            "linecolor": "#EBF0F8",
            "showbackground": true,
            "ticks": "",
            "zerolinecolor": "#EBF0F8"
           },
           "zaxis": {
            "backgroundcolor": "white",
            "gridcolor": "#DFE8F3",
            "gridwidth": 2,
            "linecolor": "#EBF0F8",
            "showbackground": true,
            "ticks": "",
            "zerolinecolor": "#EBF0F8"
           }
          },
          "shapedefaults": {
           "line": {
            "color": "#2a3f5f"
           }
          },
          "ternary": {
           "aaxis": {
            "gridcolor": "#DFE8F3",
            "linecolor": "#A2B1C6",
            "ticks": ""
           },
           "baxis": {
            "gridcolor": "#DFE8F3",
            "linecolor": "#A2B1C6",
            "ticks": ""
           },
           "bgcolor": "white",
           "caxis": {
            "gridcolor": "#DFE8F3",
            "linecolor": "#A2B1C6",
            "ticks": ""
           }
          },
          "title": {
           "x": 0.05
          },
          "xaxis": {
           "automargin": true,
           "gridcolor": "#EBF0F8",
           "linecolor": "#EBF0F8",
           "ticks": "",
           "title": {
            "standoff": 15
           },
           "zerolinecolor": "#EBF0F8",
           "zerolinewidth": 2
          },
          "yaxis": {
           "automargin": true,
           "gridcolor": "#EBF0F8",
           "linecolor": "#EBF0F8",
           "ticks": "",
           "title": {
            "standoff": 15
           },
           "zerolinecolor": "#EBF0F8",
           "zerolinewidth": 2
          }
         }
        },
        "title": {
         "text": "[2021-02-10 15:36:35 PM] Episode: 200/200 Step: 201/200"
        },
        "xaxis": {
         "anchor": "y",
         "domain": [
          0,
          1
         ],
         "gridcolor": "Gainsboro",
         "linecolor": "Grey",
         "matches": "x4",
         "rangeslider": {
          "visible": false
         },
         "showticklabels": false,
         "title": {
          "font": {
           "size": 12
          },
          "standoff": 7,
          "text": "Price"
         }
        },
        "xaxis2": {
         "anchor": "y2",
         "domain": [
          0,
          1
         ],
         "gridcolor": "Gainsboro",
         "linecolor": "Grey",
         "matches": "x4",
         "showticklabels": false,
         "title": {
          "font": {
           "size": 12
          },
          "standoff": 7,
          "text": "Volume"
         }
        },
        "xaxis3": {
         "anchor": "y3",
         "domain": [
          0,
          1
         ],
         "gridcolor": "Gainsboro",
         "linecolor": "Grey",
         "matches": "x4",
         "showticklabels": false,
         "title": {
          "font": {
           "size": 12
          },
          "standoff": 7,
          "text": "Performance"
         }
        },
        "xaxis4": {
         "anchor": "y4",
         "domain": [
          0,
          1
         ],
         "gridcolor": "Gainsboro",
         "linecolor": "Grey",
         "title": {
          "font": {
           "size": 12
          },
          "standoff": 7,
          "text": "Net Worth"
         }
        },
        "yaxis": {
         "anchor": "x",
         "domain": [
          0.49950000000000006,
          1
         ],
         "gridcolor": "Gainsboro",
         "linecolor": "Grey"
        },
        "yaxis2": {
         "anchor": "x2",
         "domain": [
          0.333,
          0.46950000000000003
         ],
         "gridcolor": "Gainsboro",
         "linecolor": "Grey"
        },
        "yaxis3": {
         "anchor": "x3",
         "domain": [
          0.1665,
          0.30300000000000005
         ],
         "gridcolor": "Gainsboro",
         "linecolor": "Grey"
        },
        "yaxis4": {
         "anchor": "x4",
         "domain": [
          0,
          0.1365
         ],
         "gridcolor": "Gainsboro",
         "linecolor": "Grey"
        }
       }
      },
      "text/html": [
       "<div>                            <div id=\"9e959aa8-4157-4922-b1a0-1afb4d7ab67a\" class=\"plotly-graph-div\" style=\"height:525px; width:100%;\"></div>            <script type=\"text/javascript\">                require([\"plotly\"], function(Plotly) {                    window.PLOTLYENV=window.PLOTLYENV || {};                                    if (document.getElementById(\"9e959aa8-4157-4922-b1a0-1afb4d7ab67a\")) {                    Plotly.newPlot(                        \"9e959aa8-4157-4922-b1a0-1afb4d7ab67a\",                        [{\"close\": [8739.0, 8743.0, 8723.7, 8708.1, 8784.4, 8755.2, 8762.0, 8742.6, 8512.0, 8520.8, 8532.1, 8553.8, 8516.5, 8551.2, 8516.7, 8476.0, 8459.9, 8467.5, 8454.2, 8327.9, 8124.4, 8152.0, 8205.3, 8197.7, 8223.9, 8221.1, 8194.2, 8225.1, 8357.2, 8358.5, 8348.6, 8158.1, 8205.9, 8276.0, 8255.2, 8286.4, 8266.2, 8227.4, 8290.0, 8271.9, 8278.1, 8336.1, 8346.07, 8368.7, 8373.5, 8355.0, 8319.5, 8352.2, 8337.8, 8246.7, 8270.1, 8279.4, 8296.4, 8302.0, 8274.8, 8288.8, 8311.8, 8300.9, 8271.6, 8250.0, 8163.4, 8170.0, 8206.1, 8147.08, 8069.9, 8054.3, 7958.0, 7981.1, 7995.1, 7996.0, 8016.0, 8035.7, 7964.0, 8085.0, 8123.6, 8102.4, 8130.0, 8101.5, 8105.5, 8095.7, 8074.9, 8105.0, 8130.0, 8103.3, 8209.1, 8224.9, 8224.2, 8226.9, 8214.0, 8238.9, 8215.0, 8192.9, 8200.0, 8237.5, 8226.4, 8236.2, 8216.7, 8171.4, 8210.0, 8188.9, 8238.5, 8382.0, 8345.2, 8300.6, 8302.7, 8307.9, 8289.8, 8296.4, 8289.8, 8304.0, 8254.0, 8195.1, 8215.5, 8231.0, 8190.6, 8218.3, 8281.2, 8252.0, 8257.0, 8247.6, 8247.9, 8257.6, 8276.5, 8342.7, 8343.0, 8342.7, 8305.9, 8319.8, 8342.0, 8373.2, 8484.6, 8517.8, 8519.5, 8513.1, 8551.5, 8524.1, 8492.2, 8523.6, 8489.7, 8460.0, 8500.3, 8496.7, 8523.2, 8509.42, 8555.0, 8528.1, 8513.1, 8475.6, 8468.4, 8483.6, 8495.8, 8492.1, 8409.8, 8409.7, 8394.6, 8380.6, 8343.7, 8376.87, 8406.45, 8385.03, 8395.0, 8398.8, 8361.9, 8278.8, 8288.3, 8313.5, 8280.4, 8297.8, 8318.0, 8313.2, 8291.0, 8235.9, 8265.13, 8205.2, 8170.3, 8213.96, 8225.0, 8230.1, 8217.7, 8203.1, 8213.9, 8183.4, 8108.4, 8068.9, 7968.8, 7977.85, 7955.0, 7898.67, 7897.2, 7950.1, 7890.0, 7906.2, 7942.2, 7844.1, 7845.5, 7845.0, 7839.9, 7848.9, 7905.9, 7897.3, 7877.4], \"high\": [8793.0, 8754.8, 8743.1, 8737.8, 8855.7, 8804.9, 8789.1, 8798.1, 8742.7, 8544.0, 8580.0, 8578.4, 8553.8, 8560.5, 8558.0, 8540.9, 8552.0, 8498.4, 8492.7, 8462.1, 8328.7, 8217.0, 8236.87, 8221.3, 8270.8, 8241.4, 8241.9, 8258.5, 8420.0, 8426.3, 8380.0, 8372.8, 8212.0, 8370.2, 8318.5, 8349.3, 8328.0, 8375.0, 8290.8, 8314.0, 8366.9, 8357.3, 8396.8, 8376.1, 8394.0, 8482.2, 8373.5, 8374.8, 8364.3, 8345.7, 8280.6, 8315.6, 8313.2, 8316.0, 8337.4, 8299.9, 8363.0, 8323.8, 8320.6, 8271.6, 8266.4, 8192.0, 8232.0, 8206.5, 8147.08, 8093.0, 8063.0, 8024.9, 8022.7, 8023.0, 8057.0, 8046.2, 8035.7, 8161.0, 8138.7, 8130.8, 8145.8, 8131.7, 8128.0, 8116.0, 8095.8, 8133.0, 8157.6, 8143.9, 8224.0, 8277.2, 8250.1, 8265.5, 8246.9, 8247.5, 8255.0, 8225.2, 8211.6, 8277.8, 8270.7, 8236.92, 8250.0, 8219.0, 8210.0, 8213.0, 8250.0, 8430.0, 8401.0, 8374.3, 8330.1, 8315.1, 8315.2, 8302.1, 8315.4, 8304.1, 8310.0, 8254.0, 8234.0, 8248.7, 8231.0, 8220.0, 8282.04, 8286.1, 8265.9, 8270.0, 8291.0, 8268.9, 8298.9, 8357.5, 8379.0, 8346.5, 8360.4, 8337.5, 8350.4, 8374.1, 8535.0, 8530.1, 8549.0, 8520.6, 8597.9, 8564.8, 8547.4, 8525.0, 8550.0, 8492.0, 8519.8, 8515.9, 8533.7, 8526.2, 8635.5, 8644.0, 8528.3, 8516.0, 8483.8, 8486.5, 8503.2, 8510.8, 8492.2, 8421.4, 8409.7, 8406.4, 8380.7, 8391.4, 8443.1, 8431.18, 8395.0, 8421.0, 8408.28, 8365.1, 8313.0, 8316.8, 8319.0, 8300.0, 8354.6, 8324.5, 8313.2, 8291.1, 8268.9, 8269.1, 8215.87, 8233.5, 8250.1, 8240.3, 8246.6, 8233.0, 8221.4, 8228.6, 8196.8, 8108.6, 8102.9, 8027.66, 8020.0, 7955.1, 7920.5, 7967.0, 7950.1, 7923.7, 7949.4, 7942.3, 7875.2, 7858.1, 7896.4, 7870.2, 7925.0, 7934.0, 7898.8], \"low\": [8714.9, 8719.3, 8653.2, 8701.2, 8695.8, 8734.8, 8743.0, 8633.0, 8480.2, 8472.5, 8485.7, 8499.0, 8438.1, 8436.8, 8479.3, 8476.0, 8415.0, 8451.0, 8420.0, 8282.0, 8100.0, 8124.4, 8152.0, 8152.0, 8156.1, 8197.33, 8177.4, 8194.2, 8225.1, 8356.8, 8342.2, 8121.7, 8158.07, 8205.8, 8192.6, 8240.9, 8266.1, 8227.01, 8222.0, 8252.2, 8271.9, 8274.0, 8319.2, 8311.3, 8354.9, 8320.9, 8316.4, 8274.2, 8333.1, 8190.4, 8202.5, 8263.0, 8256.7, 8280.0, 8227.8, 8266.44, 8287.8, 8286.9, 8218.3, 8228.76, 8119.4, 8153.0, 8170.0, 8144.4, 7982.5, 7990.7, 7925.0, 7941.3, 7944.8, 7977.03, 7995.8, 7990.12, 7950.8, 7964.0, 8080.3, 8085.1, 8093.1, 8050.0, 8079.7, 8050.0, 8036.7, 8066.2, 8080.0, 8093.8, 8085.9, 8200.3, 8205.5, 8222.8, 8200.3, 8214.0, 8211.0, 8164.1, 8178.7, 8185.86, 8222.1, 8216.0, 8216.1, 8140.2, 8145.2, 8185.1, 8188.8, 8230.2, 8327.2, 8283.5, 8294.5, 8279.0, 8273.6, 8271.0, 8289.8, 8274.4, 8254.0, 8189.2, 8172.4, 8197.2, 8182.1, 8171.5, 8212.0, 8240.2, 8237.7, 8241.0, 8247.6, 8229.7, 8255.4, 8276.5, 8324.9, 8316.5, 8290.3, 8292.8, 8319.8, 8337.5, 8373.2, 8470.3, 8505.8, 8484.0, 8506.6, 8512.0, 8472.9, 8492.1, 8465.1, 8432.1, 8460.0, 8479.9, 8489.1, 8500.7, 8477.57, 8509.5, 8480.07, 8468.4, 8432.5, 8440.0, 8466.6, 8479.4, 8343.3, 8377.0, 8366.8, 8377.0, 8309.1, 8343.7, 8360.21, 8364.6, 8364.0, 8376.11, 8325.0, 8253.0, 8262.4, 8273.5, 8274.2, 8276.0, 8280.0, 8290.0, 8291.0, 8216.0, 8235.8, 8194.6, 8131.5, 8170.2, 8189.4, 8207.0, 8206.4, 8192.6, 8182.0, 8160.0, 8080.1, 8041.1, 7943.3, 7968.8, 7952.0, 7840.3, 7867.0, 7889.6, 7870.0, 7885.13, 7893.1, 7784.89, 7792.3, 7800.0, 7825.8, 7794.9, 7842.3, 7875.1, 7849.8], \"name\": \"Price\", \"open\": [8723.8, 8739.0, 8743.0, 8723.7, 8708.1, 8784.4, 8755.2, 8762.0, 8742.6, 8512.0, 8520.8, 8532.1, 8553.8, 8516.5, 8551.2, 8516.7, 8476.0, 8459.9, 8467.5, 8454.2, 8327.9, 8124.4, 8152.0, 8205.3, 8197.7, 8223.9, 8221.1, 8194.2, 8225.1, 8357.2, 8358.5, 8348.6, 8158.1, 8205.9, 8276.0, 8255.2, 8286.4, 8266.2, 8227.4, 8290.0, 8271.9, 8278.1, 8336.1, 8346.07, 8368.7, 8373.5, 8355.0, 8319.5, 8352.2, 8337.8, 8246.7, 8270.1, 8279.4, 8296.4, 8302.0, 8274.8, 8288.8, 8311.8, 8300.9, 8271.6, 8250.0, 8163.4, 8170.0, 8206.1, 8147.08, 8069.9, 8054.3, 7958.0, 7981.1, 7995.1, 7996.0, 8016.0, 8035.7, 7964.0, 8085.0, 8123.6, 8102.4, 8130.0, 8101.5, 8105.5, 8095.7, 8074.9, 8105.0, 8130.0, 8103.3, 8209.1, 8224.9, 8224.2, 8226.9, 8214.0, 8238.9, 8215.0, 8192.9, 8200.0, 8237.5, 8226.4, 8236.2, 8216.7, 8171.4, 8210.0, 8188.9, 8238.5, 8382.0, 8345.2, 8300.6, 8302.7, 8307.9, 8289.8, 8296.4, 8289.8, 8304.0, 8254.0, 8195.1, 8215.5, 8231.0, 8190.6, 8218.3, 8281.2, 8252.0, 8257.0, 8247.6, 8247.9, 8257.6, 8276.5, 8342.7, 8343.0, 8342.7, 8305.9, 8319.8, 8342.0, 8373.2, 8484.6, 8517.8, 8519.5, 8513.1, 8551.5, 8524.1, 8492.2, 8523.6, 8489.7, 8460.0, 8500.3, 8496.7, 8523.2, 8509.42, 8555.0, 8528.1, 8513.1, 8475.6, 8468.4, 8483.6, 8495.8, 8492.1, 8409.8, 8409.7, 8394.6, 8380.6, 8343.7, 8376.87, 8406.45, 8385.03, 8395.0, 8398.8, 8361.9, 8278.8, 8288.3, 8313.5, 8280.4, 8297.8, 8318.0, 8313.2, 8291.0, 8235.9, 8265.13, 8205.2, 8170.3, 8213.96, 8225.0, 8230.1, 8217.7, 8203.1, 8213.9, 8183.4, 8108.4, 8068.9, 7968.8, 7977.85, 7955.0, 7898.67, 7897.2, 7950.1, 7890.0, 7906.2, 7942.2, 7844.1, 7845.5, 7845.0, 7839.9, 7848.9, 7905.9, 7897.3], \"showlegend\": false, \"type\": \"candlestick\", \"uid\": \"be5690eb-1fb1-447f-bbe2-c87085671b48\", \"xaxis\": \"x\", \"yaxis\": \"y\"}, {\"marker\": {\"color\": \"DodgerBlue\"}, \"name\": \"Volume\", \"showlegend\": false, \"type\": \"bar\", \"uid\": \"5ce9108d-9052-4658-8ea9-4c5a42f7f751\", \"xaxis\": \"x2\", \"y\": [8988053.53, 2288904.12, 8891773.14, 2054868.28, 17309722.58, 5755257.93, 4406994.79, 16375559.14, 30884779.63, 13585970.87, 10472251.96, 8155202.96, 23290913.96, 12093565.11, 4843869.92, 3853166.53, 10032951.79, 3405881.75, 4240758.74, 16395261.35, 35444924.51, 8483096.75, 5883397.96, 8490665.11, 12865221.51, 4455698.32, 8168354.32, 5245383.3, 25717067.45, 10531322.67, 5479810.58, 24269108.57, 5457501.18, 15802905.65, 15226854.34, 22453283.24, 2340358.52, 6197892.42, 4343002.13, 4066149.47, 6783076.23, 6912962.07, 7878424.24, 5713233.04, 4875954.44, 18714875.92, 2581490.9, 7487354.53, 2795240.16, 15044687.38, 8332633.39, 3351047.32, 3576555.25, 4412616.65, 10318967.27, 3219867.82, 6528544.81, 2382210.39, 14537481.76, 4152516.31, 14783512.43, 5582076.74, 6338329.71, 4880828.76, 38371646.78, 7470965.86, 13753738.0, 7557856.78, 7570792.35, 5015084.5, 9380234.91, 4996646.68, 6179627.26, 23205279.31, 7010761.88, 4485979.41, 5708771.23, 7389891.81, 8258179.49, 6649750.04, 6531746.84, 5094499.16, 8542485.5, 4862989.56, 10479980.91, 22630523.07, 2287274.86, 2232387.29, 1645824.8, 2765733.43, 3205020.99, 3952721.71, 1140139.1, 7996865.15, 2889095.12, 1665538.5, 1151743.0, 9742621.25, 2324514.41, 2334663.76, 2927809.75, 10054408.73, 11994488.53, 10677166.64, 2714399.46, 9219522.04, 3947596.69, 2038591.51, 1794741.6, 3154886.12, 2134195.09, 5748652.0, 2924028.64, 3827287.69, 6168063.38, 2415201.32, 3497915.46, 2793383.07, 1063847.44, 1265013.21, 2593800.38, 975383.46, 3526062.84, 8391262.5, 10551816.42, 2410417.1, 4167090.12, 2402958.29, 3281445.66, 4790161.14, 32112292.21, 8414953.43, 4331045.83, 2377630.74, 9561521.09, 3326566.88, 5055280.71, 1759777.52, 4813504.98, 2737503.35, 3864542.95, 2585601.42, 2417391.2, 2733111.0, 10199547.48, 11618582.86, 3892092.62, 2831684.29, 5544414.73, 2628818.44, 3442683.24, 4854378.4, 18937125.5, 8134435.71, 4256611.03, 2076678.05, 6057524.99, 2218106.47, 4132533.12, 24482389.13, 1007305.8, 2121333.12, 5142931.84, 10417287.53, 4179932.81, 2166980.34, 1656817.73, 1210418.21, 6280893.84, 2924961.63, 3256222.92, 9404046.53, 3265484.85, 8761627.77, 17069692.03, 7336422.44, 4885423.12, 6138230.38, 4736103.43, 3950680.33, 4391248.65, 5073325.2, 12213175.1, 9687024.49, 22149450.48, 8845847.72, 6508199.92, 16083897.65, 3714283.6, 5127784.52, 9317052.44, 4812037.9, 3422480.97, 20465614.86, 11209632.31, 7776784.77, 9265376.88, 5794893.52, 6591597.2, 7194865.6, 9341499.18], \"yaxis\": \"y2\"}, {\"mode\": \"lines\", \"name\": \"bitfinex:/USD-BTC\", \"type\": \"scatter\", \"uid\": \"3e0fa295-9351-4c5a-b276-05cb885bc559\", \"xaxis\": \"x3\", \"y\": [8739.0, 8743.0, 8723.7, 8708.1, 8784.4, 8755.2, 8762.0, 8742.6, 8512.0, 8520.8, 8532.1, 8553.8, 8516.5, 8551.2, 8516.7, 8476.0, 8459.9, 8467.5, 8454.2, 8327.9, 8124.4, 8152.0, 8205.3, 8197.7, 8223.9, 8221.1, 8194.2, 8225.1, 8357.2, 8358.5, 8348.6, 8158.1, 8205.9, 8276.0, 8255.2, 8286.4, 8266.2, 8227.4, 8290.0, 8271.9, 8278.1, 8336.1, 8346.07, 8368.7, 8373.5, 8355.0, 8319.5, 8352.2, 8337.8, 8246.7, 8270.1, 8279.4, 8296.4, 8302.0, 8274.8, 8288.8, 8311.8, 8300.9, 8271.6, 8250.0, 8163.4, 8170.0, 8206.1, 8147.08, 8069.9, 8054.3, 7958.0, 7981.1, 7995.1, 7996.0, 8016.0, 8035.7, 7964.0, 8085.0, 8123.6, 8102.4, 8130.0, 8101.5, 8105.5, 8095.7, 8074.9, 8105.0, 8130.0, 8103.3, 8209.1, 8224.9, 8224.2, 8226.9, 8214.0, 8238.9, 8215.0, 8192.9, 8200.0, 8237.5, 8226.4, 8236.2, 8216.7, 8171.4, 8210.0, 8188.9, 8238.5, 8382.0, 8345.2, 8300.6, 8302.7, 8307.9, 8289.8, 8296.4, 8289.8, 8304.0, 8254.0, 8195.1, 8215.5, 8231.0, 8190.6, 8218.3, 8281.2, 8252.0, 8257.0, 8247.6, 8247.9, 8257.6, 8276.5, 8342.7, 8343.0, 8342.7, 8305.9, 8319.8, 8342.0, 8373.2, 8484.6, 8517.8, 8519.5, 8513.1, 8551.5, 8524.1, 8492.2, 8523.6, 8489.7, 8460.0, 8500.3, 8496.7, 8523.2, 8509.42, 8555.0, 8528.1, 8513.1, 8475.6, 8468.4, 8483.6, 8495.8, 8492.1, 8409.8, 8409.7, 8394.6, 8380.6, 8343.7, 8376.87, 8406.45, 8385.03, 8395.0, 8398.8, 8361.9, 8278.8, 8288.3, 8313.5, 8280.4, 8297.8, 8318.0, 8313.2, 8291.0, 8235.9, 8265.13, 8205.2, 8170.3, 8213.96, 8225.0, 8230.1, 8217.7, 8203.1, 8213.9, 8183.4, 8108.4, 8068.9, 7968.8, 7977.85, 7955.0, 7898.67, 7897.2, 7950.1, 7890.0, 7906.2, 7942.2, 7844.1, 7845.5, 7845.0, 7839.9, 7848.9, 7905.9, 7897.3, 7877.4], \"yaxis\": \"y3\"}, {\"mode\": \"lines\", \"name\": \"bitfinex:/USD:/free\", \"type\": \"scatter\", \"uid\": \"f151d270-20bc-4f9f-bdb2-6c20abb873e6\", \"xaxis\": \"x3\", \"y\": [10000.0, 5000.0, 5000.0, 5000.0, 2500.0, 2500.0, 1250.0, 1250.0, 1250.0, 9728.01, 9728.01, 4864.0, 4864.0, 2432.0, 2432.0, 2432.0, 2432.0, 1216.0, 1216.0, 1216.0, 8299.05, 5310.31, 2655.15, 2655.15, 1327.57, 1327.57, 1327.57, 663.79, 331.9, 4574.75, 7953.88, 7953.88, 3976.94, 1988.47, 1988.47, 1988.47, 1988.47, 1988.47, 1988.47, 1590.78, 1590.78, 1590.78, 5630.15, 5630.15, 6977.31, 8994.23, 8994.23, 8994.23, 8994.23, 8994.23, 8994.23, 8994.23, 8994.23, 8994.23, 8994.23, 8994.23, 8994.23, 8994.23, 8994.23, 8994.23, 8994.23, 8994.23, 8994.23, 5396.54, 5396.54, 5396.54, 4640.28, 2699.62, 1349.81, 674.91, 337.46, 101.24, 50.62, 25.31, 12.66, 2392.55, 1196.27, 1196.27, 598.14, 598.14, 598.14, 598.14, 598.14, 598.14, 598.14, 2373.96, 3064.1, 3064.1, 3064.1, 3064.1, 3064.1, 3064.1, 3064.1, 3064.1, 3064.1, 3064.1, 3064.1, 3064.1, 3064.1, 3064.1, 3064.1, 3064.1, 6962.41, 9298.75, 9311.66, 9920.98, 9920.98, 9920.98, 9920.98, 4960.49, 4960.49, 4960.49, 4960.49, 4960.49, 4960.49, 4960.49, 4960.49, 4960.49, 2480.25, 1240.13, 620.06, 310.03, 155.02, 77.51, 62.01, 62.01, 62.01, 62.01, 62.01, 62.01, 62.01, 3389.26, 4740.18, 9807.58, 9807.58, 10127.1, 10127.1, 10127.1, 10127.1, 10127.1, 10127.1, 10127.1, 10127.1, 10127.1, 10127.1, 10127.1, 10127.1, 10127.1, 6076.26, 3038.13, 1519.06, 1215.25, 972.2, 777.76, 777.76, 388.88, 194.44, 97.22, 48.61, 38.89, 19.44, 9.72, 9.72, 9.72, 2957.18, 2953.8, 2953.8, 1476.9, 738.45, 738.45, 738.45, 738.45, 738.45, 738.45, 1182.52, 907.34, 453.67, 226.83, 226.83, 226.83, 226.83, 226.83, 226.83, 5615.17, 7045.99, 4892.12, 2948.35, 1474.18, 1655.71, 1664.79, 1664.79, 832.4, 416.2, 332.96, 166.48, 83.24, 41.62, 35.29, 17.65, 0.0, 0.0], \"yaxis\": \"y3\"}, {\"mode\": \"lines\", \"name\": \"bitfinex:/USD:/locked\", \"type\": \"scatter\", \"uid\": \"44aadd7f-fc29-4cef-a13e-32b972b5c765\", \"xaxis\": \"x3\", \"y\": [0.0, 0.0, 34867.08, 55741.15, 55741.15, 68352.74, 68352.74, 75900.4, 80418.97, 83718.51, 84379.1, 84379.1, 85440.14, 85440.14, 85758.35, 86011.89, 86213.76, 86213.76, 86375.09, 86503.95, 34608.26, 9373.61, 1825.95, 18667.91, 18667.91, 32172.02, 59171.04, 59171.04, 59171.04, 46334.71, 53197.27, 56624.49, 55963.9, 55963.9, 57995.67, 58401.0, 59051.98, 59441.62, 59557.96, 59557.96, 59651.54, 59651.54, 59651.54, 59651.54, 57793.75, 57884.69, 57884.69, 57884.69, 57884.69, 57884.69, 57884.69, 57884.69, 57884.69, 57884.69, 57884.69, 57884.69, 57884.69, 57884.69, 57884.69, 57884.69, 57884.69, 57884.69, 57884.69, 57884.69, 57884.69, 57723.36, 57594.5, 56922.94, 56578.46, 56578.46, 56578.46, 56578.46, 56578.46, 56476.91, 56476.91, 56788.09, 56788.09, 57037.23, 57037.23, 57235.94, 57394.72, 57521.41, 57623.14, 57704.78, 57704.78, 57704.78, 57836.93, 57836.93, 57836.93, 57836.93, 57712.76, 57712.76, 57712.76, 57712.76, 57712.76, 57712.76, 57712.76, 57712.76, 57712.76, 57712.76, 57712.76, 57712.76, 56879.01, 56724.98, 56645.02, 56645.02, 56645.02, 56645.02, 56645.02, 56645.02, 56645.02, 56645.02, 56645.02, 56645.02, 56645.02, 56645.02, 56645.02, 56645.02, 56645.02, 56645.02, 56645.02, 56645.02, 56645.02, 56645.02, 56645.02, 56645.02, 56645.02, 56645.02, 56645.02, 56645.02, 56645.02, 22591.55, 9069.67, 2336.8, 1958.46, 1958.46, 1958.46, 1958.46, 1958.46, 1958.46, 1958.46, 1958.46, 1958.46, 1958.46, 1958.46, 1958.46, 2122.88, 2122.88, 2122.88, 2122.88, 2122.88, 2122.88, 2122.88, 2122.88, 2122.88, 2122.88, 2122.88, 2122.88, 2122.88, 2122.88, 2122.88, 2122.88, 2122.88, 2122.88, 2122.88, 2122.88, 2122.88, 2122.88, 2122.88, 2122.88, 2122.88, 2122.88, 2122.88, 2122.88, 2122.88, 2122.88, 2122.88, 2122.88, 2122.88, 2122.88, 2122.88, 2122.88, 2122.88, 2122.88, 2122.88, 1958.46, 1958.46, 1958.46, 2118.52, 2118.52, 2118.52, 2118.52, 2118.52, 2118.52, 2118.52, 2118.52, 2118.52, 2118.52, 2118.52, 2118.52, 2118.52], \"yaxis\": \"y3\"}, {\"mode\": \"lines\", \"name\": \"bitfinex:/USD:/total\", \"type\": \"scatter\", \"uid\": \"18c61f0d-5270-439e-80cd-523e136dd11a\", \"xaxis\": \"x3\", \"y\": [10000.0, 5000.0, 39867.08, 60741.15, 58241.15, 70852.74, 69602.74, 77150.4, 81668.97, 93446.52, 94107.11, 89243.1, 90304.14, 87872.14, 88190.35, 88443.89, 88645.76, 87429.76, 87591.09, 87719.95, 42907.31, 14683.92, 4481.1, 21323.06, 19995.48, 33499.59, 60498.61, 59834.83, 59502.94, 50909.46, 61151.15, 64578.37, 59940.84, 57952.37, 59984.14, 60389.47, 61040.45, 61430.09, 61546.43, 61148.74, 61242.32, 61242.32, 65281.69, 65281.69, 64771.06, 66878.92, 66878.92, 66878.92, 66878.92, 66878.92, 66878.92, 66878.92, 66878.92, 66878.92, 66878.92, 66878.92, 66878.92, 66878.92, 66878.92, 66878.92, 66878.92, 66878.92, 66878.92, 63281.23, 63281.23, 63119.9, 62234.78, 59622.56, 57928.27, 57253.37, 56915.92, 56679.7, 56629.08, 56502.22, 56489.57, 59180.64, 57984.36, 58233.5, 57635.37, 57834.08, 57992.86, 58119.55, 58221.28, 58302.92, 58302.92, 60078.74, 60901.03, 60901.03, 60901.03, 60901.03, 60776.86, 60776.86, 60776.86, 60776.86, 60776.86, 60776.86, 60776.86, 60776.86, 60776.86, 60776.86, 60776.86, 60776.86, 63841.42, 66023.73, 65956.68, 66566.0, 66566.0, 66566.0, 66566.0, 61605.51, 61605.51, 61605.51, 61605.51, 61605.51, 61605.51, 61605.51, 61605.51, 61605.51, 59125.27, 57885.15, 57265.08, 56955.05, 56800.04, 56722.53, 56707.03, 56707.03, 56707.03, 56707.03, 56707.03, 56707.03, 56707.03, 25980.81, 13809.85, 12144.38, 11766.04, 12085.56, 12085.56, 12085.56, 12085.56, 12085.56, 12085.56, 12085.56, 12085.56, 12085.56, 12085.56, 12085.56, 12249.98, 12249.98, 8199.14, 5161.01, 3641.94, 3338.13, 3095.08, 2900.64, 2900.64, 2511.76, 2317.32, 2220.1, 2171.49, 2161.77, 2142.32, 2132.6, 2132.6, 2132.6, 5080.06, 5076.68, 5076.68, 3599.78, 2861.33, 2861.33, 2861.33, 2861.33, 2861.33, 2861.33, 3305.4, 3030.22, 2576.55, 2349.71, 2349.71, 2349.71, 2349.71, 2349.71, 2349.71, 7738.05, 9168.87, 6850.58, 4906.81, 3432.64, 3774.23, 3783.31, 3783.31, 2950.92, 2534.72, 2451.48, 2285.0, 2201.76, 2160.14, 2153.81, 2136.17, 2118.52, 2118.52], \"yaxis\": \"y3\"}, {\"mode\": \"lines\", \"name\": \"bitfinex:/BTC:/free\", \"type\": \"scatter\", \"uid\": \"89e35d7a-6159-4e93-9f8a-fcf29279fad7\", \"xaxis\": \"x3\", \"y\": [10.0, 10.0, 6.0, 3.6, 3.6, 2.16, 2.16, 1.296, 0.7776, 0.3888, 0.31104, 0.31104, 0.186624, 0.186624, 0.1492992, 0.11943936, 0.09555149, 0.09555149, 0.07644119, 0.06115295, 6.27393106, 9.37064589, 10.2937347, 8.23498776, 8.23498776, 6.58799021, 3.2939951, 3.2939951, 3.2939951, 1.64699755, 0.82349877, 0.41174938, 0.49248019, 0.49248019, 0.2462401, 0.19699208, 0.11819525, 0.07091715, 0.05673372, 0.05673372, 0.04538698, 0.04538698, 0.04538698, 0.04538698, 0.02723219, 0.01633931, 0.01633931, 0.01633931, 0.01633931, 0.01633931, 0.01633931, 0.01633931, 0.01633931, 0.01633931, 0.01633931, 0.01633931, 0.01633931, 0.01633931, 0.01633931, 0.01633931, 0.01633931, 0.01633931, 0.01633931, 0.01633931, 0.01633931, 0.0362714, 0.05222189, 0.13635735, 0.17939027, 0.17939027, 0.17939027, 0.17939027, 0.17939027, 0.19210373, 0.19210373, 0.15368298, 0.15368298, 0.12294638, 0.12294638, 0.0983571, 0.07868568, 0.06294854, 0.05035883, 0.04028706, 0.04028706, 0.04028706, 0.02417224, 0.02417224, 0.02417224, 0.02417224, 0.02417224, 0.02417224, 0.02417224, 0.02417224, 0.02417224, 0.02417224, 0.02417224, 0.02417224, 0.02417224, 0.02417224, 0.02417224, 0.02417224, 0.02417224, 0.02417224, 0.02417224, 0.02417224, 0.02417224, 0.02417224, 0.02417224, 0.02417224, 0.02417224, 0.02417224, 0.02417224, 0.02417224, 0.02417224, 0.02417224, 0.02417224, 0.02417224, 0.02417224, 0.02417224, 0.02417224, 0.02417224, 0.02417224, 0.02417224, 0.02417224, 0.02417224, 0.02417224, 0.02417224, 0.02417224, 0.02417224, 0.02417224, 0.02417224, 0.02417224, 0.02417224, 0.02417224, 0.02417224, 0.02417224, 0.02417224, 0.02417224, 0.02417224, 0.02417224, 0.02417224, 0.02417224, 0.02417224, 0.02417224, 0.02417224, 0.00483445, 0.00483445, 0.00483445, 0.00483445, 0.00483445, 0.00483445, 0.00483445, 0.00483445, 0.00483445, 0.00483445, 0.00483445, 0.00483445, 0.00483445, 0.00483445, 0.00483445, 0.00483445, 0.00483445, 0.00483445, 0.00483445, 0.00483445, 0.00483445, 0.00483445, 0.00483445, 0.00483445, 0.00483445, 0.00483445, 0.00483445, 0.00483445, 0.00483445, 0.00483445, 0.00483445, 0.00483445, 0.00483445, 0.00483445, 0.00483445, 0.00483445, 0.00483445, 0.00483445, 0.00483445, 0.02540593, 0.02540593, 0.02540593, 0.00508119, 0.00508119, 0.00508119, 0.00508119, 0.00508119, 0.00508119, 0.00508119, 0.00508119, 0.00508119, 0.00508119, 0.00508119, 0.00508119, 0.00508119], \"yaxis\": \"y3\"}, {\"mode\": \"lines\", \"name\": \"bitfinex:/BTC:/locked\", \"type\": \"scatter\", \"uid\": \"9f6eac37-950d-42bd-960c-9739c8f15114\", \"xaxis\": \"x3\", \"y\": [0.0, 0.5704314, 0.5704314, 0.5704314, 0.85665916, 0.85665916, 0.99900314, 0.99900314, 0.99900314, 0.0, 0.0, 0.56837355, 0.56837355, 0.85307971, 0.85307971, 0.85307971, 0.85307971, 0.99638519, 0.99638519, 0.99638519, 0.14330548, 0.50921545, 0.83394435, 0.83394435, 0.99540427, 0.99540427, 0.99540427, 1.07616749, 1.11639679, 3.7756648, 3.37017268, 3.37017268, 3.85619393, 4.09778839, 4.09778839, 4.09778839, 4.09778839, 4.09778839, 4.09778839, 4.1456171, 4.1456171, 4.1456171, 3.65959585, 3.65959585, 3.73750883, 3.49591437, 3.49591437, 3.49591437, 3.49591437, 3.49591437, 3.49591437, 3.49591437, 3.49591437, 3.49591437, 3.49591437, 3.49591437, 3.49591437, 3.49591437, 3.49591437, 3.49591437, 3.49591437, 3.49591437, 3.49591437, 3.93301604, 3.93301604, 3.93301604, 4.02638867, 4.2692335, 4.43785186, 4.52201341, 4.56408945, 4.59346944, 4.59975016, 4.60291817, 4.60447785, 4.3106363, 4.45783836, 4.45783836, 4.53144695, 4.53144695, 4.53144695, 4.53144695, 4.53144695, 4.53144695, 4.53144695, 4.31447183, 4.23031028, 4.23031028, 4.23031028, 4.23031028, 4.24533656, 4.24533656, 4.24533656, 4.24533656, 4.24533656, 4.24533656, 4.24533656, 4.24533656, 4.24533656, 4.24533656, 4.24533656, 4.24533656, 3.87802574, 3.61562395, 3.6236684, 3.55005981, 3.55005981, 3.55005981, 3.55005981, 4.1466496, 4.1466496, 4.1466496, 4.1466496, 4.1466496, 4.1466496, 4.1466496, 4.1466496, 4.1466496, 4.44631029, 4.5960499, 4.67100625, 4.70848246, 4.72719734, 4.73653462, 4.73838654, 4.73838654, 4.73838654, 4.73838654, 4.73838654, 4.73838654, 4.73838654, 8.34657621, 9.77022256, 9.96155108, 10.00585926, 9.96838305, 9.96838305, 9.96838305, 9.96838305, 9.96838305, 9.96838305, 9.96838305, 9.96838305, 9.96838305, 9.96838305, 9.96838305, 9.96838305, 9.96838305, 10.44489091, 10.80257595, 10.98109804, 11.01675095, 11.04528571, 11.06833739, 11.06833739, 11.11452303, 11.13765503, 11.14927218, 11.15505716, 11.15620985, 11.1585223, 11.15967656, 11.15967656, 11.15967656, 10.80257735, 10.80191441, 10.80191441, 10.97974036, 11.06846629, 11.06846629, 11.06846629, 11.06846629, 11.06846629, 11.06846629, 11.01418322, 11.04761699, 11.102683, 11.13017966, 11.13017966, 11.13017966, 11.13017966, 11.13017966, 11.13017966, 10.46364287, 10.28578372, 10.55422853, 10.79676533, 10.98152334, 10.95847166, 10.95731897, 10.95731897, 11.06250148, 11.11498561, 11.12543486, 11.14659471, 11.15717275, 11.16246274, 11.16325754, 11.16549862, 11.16772481, 11.16772481], \"yaxis\": \"y3\"}, {\"mode\": \"lines\", \"name\": \"bitfinex:/BTC:/total\", \"type\": \"scatter\", \"uid\": \"84533d1b-dfe4-4b7c-9a54-d1bca7484577\", \"xaxis\": \"x3\", \"y\": [10.0, 10.5704314, 6.5704314, 4.1704314, 4.45665916, 3.01665916, 3.15900314, 2.29500314, 1.77660314, 0.3888, 0.31104, 0.87941355, 0.75499755, 1.03970371, 1.00237891, 0.97251907, 0.9486312, 1.09193668, 1.07282638, 1.05753814, 6.41723654, 9.87986134, 11.12767905, 9.06893211, 9.23039203, 7.58339448, 4.28939937, 4.37016259, 4.41039189, 5.42266235, 4.19367145, 3.78192206, 4.34867412, 4.59026858, 4.34402849, 4.29478047, 4.21598364, 4.16870554, 4.15452211, 4.20235082, 4.19100408, 4.19100408, 3.70498283, 3.70498283, 3.76474102, 3.51225368, 3.51225368, 3.51225368, 3.51225368, 3.51225368, 3.51225368, 3.51225368, 3.51225368, 3.51225368, 3.51225368, 3.51225368, 3.51225368, 3.51225368, 3.51225368, 3.51225368, 3.51225368, 3.51225368, 3.51225368, 3.94935535, 3.94935535, 3.96928744, 4.07861056, 4.40559085, 4.61724213, 4.70140368, 4.74347972, 4.77285971, 4.77914043, 4.7950219, 4.79658158, 4.46431928, 4.61152134, 4.58078474, 4.65439333, 4.62980405, 4.61013263, 4.59439549, 4.58180578, 4.57173401, 4.57173401, 4.35475889, 4.25448252, 4.25448252, 4.25448252, 4.25448252, 4.2695088, 4.2695088, 4.2695088, 4.2695088, 4.2695088, 4.2695088, 4.2695088, 4.2695088, 4.2695088, 4.2695088, 4.2695088, 4.2695088, 3.90219798, 3.63979619, 3.64784064, 3.57423205, 3.57423205, 3.57423205, 3.57423205, 4.17082184, 4.17082184, 4.17082184, 4.17082184, 4.17082184, 4.17082184, 4.17082184, 4.17082184, 4.17082184, 4.47048253, 4.62022214, 4.69517849, 4.7326547, 4.75136958, 4.76070686, 4.76255878, 4.76255878, 4.76255878, 4.76255878, 4.76255878, 4.76255878, 4.76255878, 8.37074845, 9.7943948, 9.98572332, 10.0300315, 9.99255529, 9.99255529, 9.99255529, 9.99255529, 9.99255529, 9.99255529, 9.99255529, 9.99255529, 9.99255529, 9.99255529, 9.99255529, 9.9732175, 9.9732175, 10.44972536, 10.8074104, 10.98593249, 11.0215854, 11.05012016, 11.07317184, 11.07317184, 11.11935748, 11.14248948, 11.15410663, 11.15989161, 11.1610443, 11.16335675, 11.16451101, 11.16451101, 11.16451101, 10.8074118, 10.80674886, 10.80674886, 10.98457481, 11.07330074, 11.07330074, 11.07330074, 11.07330074, 11.07330074, 11.07330074, 11.01901767, 11.05245144, 11.10751745, 11.13501411, 11.13501411, 11.13501411, 11.13501411, 11.13501411, 11.13501411, 10.46847732, 10.29061817, 10.57963446, 10.82217126, 11.00692927, 10.96355285, 10.96240016, 10.96240016, 11.06758267, 11.1200668, 11.13051605, 11.1516759, 11.16225394, 11.16754393, 11.16833873, 11.17057981, 11.172806, 11.172806], \"yaxis\": \"y3\"}, {\"mode\": \"lines\", \"name\": \"bitfinex:/BTC:/worth\", \"type\": \"scatter\", \"uid\": \"1c8adcbc-2465-4e55-9c69-d7fc2291196b\", \"xaxis\": \"x3\", \"y\": [87390.0, 92417.2817302, 57318.47240418001, 36316.533674340004, 39149.076725104, 26411.454277632005, 27679.18551268, 20064.294451764, 15122.445927679999, 3312.8870399999996, 2653.824384, 7522.32762399, 6429.936634575, 8890.714364952, 8536.960462797, 8243.071637320001, 8025.325088879999, 9245.973837900001, 9069.888781796, 8807.071876105998, 52136.196545576, 80540.62964368, 91305.94490896499, 74344.384758147, 75909.82101551701, 62343.844359528004, 35148.196317654, 35945.024319009, 36858.527103108, 45325.323252475006, 35011.28546747, 30853.298357686, 35684.784961307996, 37989.06276808, 35860.82399064801, 35588.268886608, 34850.16396496801, 34297.607959796005, 34440.9882919, 34761.425747958005, 34693.550874648, 34936.629111288, 30922.0460479781, 31005.889809421, 31524.05893097, 29344.8794964, 29220.19449076, 29335.045186096006, 29284.468733104, 28964.502422856003, 29046.689158968, 29079.353118192, 29139.061430752, 29158.730051360002, 29063.196751264, 29112.368302783998, 29193.150137424, 29154.866572312, 29051.957539488, 28976.09286, 28671.931691312, 28695.1125656, 28821.904923448, 32175.713984878, 31870.902738964996, 31969.831827992002, 32457.582836480004, 35161.461132935, 36915.312553563, 37592.423825280006, 38023.73343552, 38353.268771646995, 38061.07438452, 38767.7520615, 38965.510123288, 36171.70053427199, 37491.66849420001, 37111.22757111, 37726.185136315005, 37481.504647584996, 37226.359973987, 37237.57544645, 37250.0809914, 37046.132203233, 37529.821661491005, 35817.456394361, 34989.715140984, 35001.202243788, 34946.31941928, 35052.256034027996, 35074.014791999994, 34979.658647519995, 35009.97216, 35170.07874, 35122.687192319994, 35164.52837856, 35081.27295696, 34887.864208319996, 35052.667248, 34962.580612319995, 35174.34824879999, 35787.0227616, 32564.622582696004, 30212.492254714, 30286.926481728, 29694.362448195, 29629.668848089997, 29653.25877962, 29629.668848089997, 34634.50455936, 34425.96346736, 34180.302060984, 34265.38682652, 34330.034565040005, 34161.533362704, 34277.065127672, 34539.40982140801, 34417.621823680005, 36912.77425021, 38105.744121864, 38725.362667671, 39080.369450720005, 39324.71032887, 39717.149120922004, 39734.02790154, 39732.599133906006, 39557.336970801996, 39623.536537844, 39729.26534276, 39877.857176696, 40408.406224788, 71300.36114741, 83443.34649859999, 85009.461195492, 85771.81437225, 85177.540547489, 84858.77803373801, 85172.544269844, 84833.79664551301, 84537.0177534, 84939.71773158699, 84903.74453254302, 85168.54724772801, 85030.8498358318, 85486.31050595001, 85217.51076864901, 84902.99789925001, 84529.00224300001, 88492.454238624, 91685.74686944, 93334.28524854199, 93596.40537534, 92929.300521568, 93122.05322284802, 92954.848328064, 93186.887296888, 92969.58947427601, 93436.5012056481, 93815.07082488452, 93585.69128682901, 93716.37991625, 93768.49507078799, 93356.524614519, 92428.753749588, 89575.07122194, 89841.90664761001, 89484.203260344, 91147.80485841799, 92107.71555532, 92054.56371176802, 91808.73643534, 91198.59756456601, 91522.27014519619, 90858.64723184801, 90028.680069201, 90784.3940301024, 91359.33102625, 91642.27962671101, 91504.20545174701, 91341.634245741, 91461.892398129, 91122.274467774, 90287.148409524, 84469.096647348, 82003.878073096, 84402.736776711, 86090.3723733, 86940.10201707091, 86581.36956702, 87152.177512016, 86493.3372624, 87502.522105554, 88317.79453895999, 87308.88094780501, 87490.47327345, 87567.88215929999, 87552.427656807, 87659.173857897, 88313.486919879, 88235.0008238, 88012.6619844], \"yaxis\": \"y3\"}, {\"mode\": \"lines\", \"name\": \"net_worth\", \"type\": \"scatter\", \"uid\": \"2dc2075a-de83-4e22-9001-14c4f33b0696\", \"xaxis\": \"x3\", \"y\": [97390.0, 97417.2817302, 97185.55240418001, 97057.68367434, 97390.226725104, 97264.194277632, 97281.92551268, 97214.694451764, 96791.41592768, 96759.40704, 96760.93438400001, 96765.42762399, 96734.076634575, 96762.854364952, 96727.310462797, 96686.96163732, 96671.08508887999, 96675.7338379, 96660.978781796, 96527.021876106, 95043.506545576, 95224.54964368, 95787.04490896499, 95667.444758147, 95905.301015517, 95843.43435952801, 95646.806317654, 95779.854319009, 96361.467103108, 96234.783252475, 96162.43546747, 95431.668357686, 95625.624961308, 95941.43276808, 95844.96399064802, 95977.738886608, 95890.61396496801, 95727.697959796, 95987.4182919, 95910.165747958, 95935.870874648, 96178.949111288, 96203.7360479781, 96287.579809421, 96295.11893097, 96223.7994964, 96099.11449076, 96213.965186096, 96163.388733104, 95843.422422856, 95925.609158968, 95958.273118192, 96017.981430752, 96037.65005136, 95942.116751264, 95991.288302784, 96072.070137424, 96033.786572312, 95930.87753948799, 95855.01286, 95550.851691312, 95574.0325656, 95700.824923448, 95456.943984878, 95152.132738965, 95089.731827992, 94692.36283648, 94784.021132935, 94843.582553563, 94845.79382528001, 94939.65343552, 95032.96877164699, 94690.15438451999, 95269.97206150001, 95455.080123288, 95352.34053427199, 95476.0284942, 95344.72757111001, 95361.555136315, 95315.584647585, 95219.219973987, 95357.12544645, 95471.3609914, 95349.052203233, 95832.741661491, 95896.196394361, 95890.745140984, 95902.23224378799, 95847.34941928, 95953.28603402799, 95850.87479199999, 95756.51864751999, 95786.83215999999, 95946.93874, 95899.54719232, 95941.38837855999, 95858.13295696, 95664.72420832, 95829.527248, 95739.44061232, 95951.20824879999, 96563.88276159999, 96406.042582696, 96236.222254714, 96243.606481728, 96260.362448195, 96195.66884808999, 96219.25877962, 96195.66884808999, 96240.01455936, 96031.47346736, 95785.812060984, 95870.89682652001, 95935.54456504, 95767.043362704, 95882.575127672, 96144.91982140801, 96023.13182368001, 96038.04425020999, 95990.894121864, 95990.442667671, 96035.41945072002, 96124.75032887, 96439.679120922, 96441.05790154, 96439.62913390601, 96264.36697080199, 96330.56653784399, 96436.29534276, 96584.88717669601, 97115.43622478799, 97281.17114741, 97253.1964986, 97153.841195492, 97537.85437225, 97263.100547489, 96944.33803373801, 97258.104269844, 96919.356645513, 96622.5777534, 97025.27773158699, 96989.30453254301, 97254.10724772801, 97116.4098358318, 97571.87050595, 97303.070768649, 97152.97789925, 96778.982243, 96691.594238624, 96846.75686944, 96976.22524854199, 96934.53537534, 96024.380521568, 96022.69322284801, 95855.488328064, 95698.647296888, 95286.90947427602, 95656.60120564811, 95986.56082488452, 95747.46128682901, 95858.69991625001, 95901.095070788, 95489.12461451901, 94561.353749588, 94655.13122194, 94918.58664761, 94560.88326034401, 94747.58485841799, 94969.04555532, 94915.89371176802, 94670.06643534, 94059.92756456601, 94383.6001451962, 93719.97723184801, 93334.080069201, 93814.6140301024, 93935.88102625, 93991.98962671102, 93853.91545174702, 93691.34424574101, 93811.602398129, 93471.984467774, 92636.85840952401, 92207.146647348, 91172.748073096, 91253.316776711, 90997.18237329999, 90372.74201707091, 90355.59956701999, 90935.487512016, 90276.6472624, 90453.442105554, 90852.51453896, 89760.360947805, 89775.47327345, 89769.64215929998, 89712.567656807, 89812.983857897, 90449.656919879, 90353.5208238, 90131.1819844], \"yaxis\": \"y3\"}, {\"marker\": {\"color\": \"DarkGreen\"}, \"mode\": \"lines\", \"name\": \"Net Worth\", \"type\": \"scatter\", \"uid\": \"d9691fd2-f666-4ad6-9d95-37178101d890\", \"xaxis\": \"x4\", \"y\": [97390.0, 97417.2817302, 97185.55240418001, 97057.68367434, 97390.226725104, 97264.194277632, 97281.92551268, 97214.694451764, 96791.41592768, 96759.40704, 96760.93438400001, 96765.42762399, 96734.076634575, 96762.854364952, 96727.310462797, 96686.96163732, 96671.08508887999, 96675.7338379, 96660.978781796, 96527.021876106, 95043.506545576, 95224.54964368, 95787.04490896499, 95667.444758147, 95905.301015517, 95843.43435952801, 95646.806317654, 95779.854319009, 96361.467103108, 96234.783252475, 96162.43546747, 95431.668357686, 95625.624961308, 95941.43276808, 95844.96399064802, 95977.738886608, 95890.61396496801, 95727.697959796, 95987.4182919, 95910.165747958, 95935.870874648, 96178.949111288, 96203.7360479781, 96287.579809421, 96295.11893097, 96223.7994964, 96099.11449076, 96213.965186096, 96163.388733104, 95843.422422856, 95925.609158968, 95958.273118192, 96017.981430752, 96037.65005136, 95942.116751264, 95991.288302784, 96072.070137424, 96033.786572312, 95930.87753948799, 95855.01286, 95550.851691312, 95574.0325656, 95700.824923448, 95456.943984878, 95152.132738965, 95089.731827992, 94692.36283648, 94784.021132935, 94843.582553563, 94845.79382528001, 94939.65343552, 95032.96877164699, 94690.15438451999, 95269.97206150001, 95455.080123288, 95352.34053427199, 95476.0284942, 95344.72757111001, 95361.555136315, 95315.584647585, 95219.219973987, 95357.12544645, 95471.3609914, 95349.052203233, 95832.741661491, 95896.196394361, 95890.745140984, 95902.23224378799, 95847.34941928, 95953.28603402799, 95850.87479199999, 95756.51864751999, 95786.83215999999, 95946.93874, 95899.54719232, 95941.38837855999, 95858.13295696, 95664.72420832, 95829.527248, 95739.44061232, 95951.20824879999, 96563.88276159999, 96406.042582696, 96236.222254714, 96243.606481728, 96260.362448195, 96195.66884808999, 96219.25877962, 96195.66884808999, 96240.01455936, 96031.47346736, 95785.812060984, 95870.89682652001, 95935.54456504, 95767.043362704, 95882.575127672, 96144.91982140801, 96023.13182368001, 96038.04425020999, 95990.894121864, 95990.442667671, 96035.41945072002, 96124.75032887, 96439.679120922, 96441.05790154, 96439.62913390601, 96264.36697080199, 96330.56653784399, 96436.29534276, 96584.88717669601, 97115.43622478799, 97281.17114741, 97253.1964986, 97153.841195492, 97537.85437225, 97263.100547489, 96944.33803373801, 97258.104269844, 96919.356645513, 96622.5777534, 97025.27773158699, 96989.30453254301, 97254.10724772801, 97116.4098358318, 97571.87050595, 97303.070768649, 97152.97789925, 96778.982243, 96691.594238624, 96846.75686944, 96976.22524854199, 96934.53537534, 96024.380521568, 96022.69322284801, 95855.488328064, 95698.647296888, 95286.90947427602, 95656.60120564811, 95986.56082488452, 95747.46128682901, 95858.69991625001, 95901.095070788, 95489.12461451901, 94561.353749588, 94655.13122194, 94918.58664761, 94560.88326034401, 94747.58485841799, 94969.04555532, 94915.89371176802, 94670.06643534, 94059.92756456601, 94383.6001451962, 93719.97723184801, 93334.080069201, 93814.6140301024, 93935.88102625, 93991.98962671102, 93853.91545174702, 93691.34424574101, 93811.602398129, 93471.984467774, 92636.85840952401, 92207.146647348, 91172.748073096, 91253.316776711, 90997.18237329999, 90372.74201707091, 90355.59956701999, 90935.487512016, 90276.6472624, 90453.442105554, 90852.51453896, 89760.360947805, 89775.47327345, 89769.64215929998, 89712.567656807, 89812.983857897, 90449.656919879, 90353.5208238, 90131.1819844], \"yaxis\": \"y4\"}],                        {\"annotations\": [{\"arrowcolor\": \"FireBrick\", \"arrowhead\": 2, \"arrowsize\": 0.8, \"arrowwidth\": 4, \"ax\": 0, \"ay\": -15, \"hoverlabel\": {\"bgcolor\": \"FireBrick\"}, \"hovertext\": \"Step 45 [2018-05-17 02:00:00]<br>SELL 0.0108602 BTC @ 8373.5 USD MARKET<br>Total: 90.94 USD - Comm.: 0.00003268 BTC\", \"opacity\": 0.6, \"showarrow\": true, \"x\": 44, \"xref\": \"x\", \"y\": 8373.5, \"yref\": \"y\"}, {\"arrowcolor\": \"FireBrick\", \"arrowhead\": 2, \"arrowsize\": 0.8, \"arrowwidth\": 4, \"ax\": 0, \"ay\": -15, \"hoverlabel\": {\"bgcolor\": \"FireBrick\"}, \"hovertext\": \"Step 45 [2018-05-17 02:00:00]<br>SELL 0.24086968 BTC @ 8373.5 USD MARKET<br>Total: 2016.92 USD - Comm.: 0.00072478 BTC\", \"opacity\": 0.6, \"showarrow\": true, \"x\": 44, \"xref\": \"x\", \"y\": 8373.5, \"yref\": \"y\"}, {\"arrowcolor\": \"FireBrick\", \"arrowhead\": 2, \"arrowsize\": 0.8, \"arrowwidth\": 4, \"ax\": 0, \"ay\": -15, \"hoverlabel\": {\"bgcolor\": \"FireBrick\"}, \"hovertext\": \"Step 44 [2018-05-17 01:00:00]<br>SELL 0.01810033 BTC @ 8368.7 USD MARKET<br>Total: 151.48 USD - Comm.: 0.00005446 BTC\", \"opacity\": 0.6, \"showarrow\": true, \"x\": 43, \"xref\": \"x\", \"y\": 8368.7, \"yref\": \"y\"}, {\"arrowcolor\": \"DarkGreen\", \"arrowhead\": 2, \"arrowsize\": 0.8, \"arrowwidth\": 4, \"ax\": 0, \"ay\": 15, \"hoverlabel\": {\"bgcolor\": \"DarkGreen\"}, \"hovertext\": \"Step 44 [2018-05-17 01:00:00]<br>BUY 0.2393729 BTC @ 8368.7 USD MARKET<br>Total: 2003.24 USD - Comm.: 6.03 USD\", \"opacity\": 0.6, \"showarrow\": true, \"x\": 43, \"xref\": \"x\", \"y\": 8368.7, \"yref\": \"y\"}, {\"arrowcolor\": \"FireBrick\", \"arrowhead\": 2, \"arrowsize\": 0.8, \"arrowwidth\": 4, \"ax\": 0, \"ay\": -15, \"hoverlabel\": {\"bgcolor\": \"FireBrick\"}, \"hovertext\": \"Step 44 [2018-05-17 01:00:00]<br>SELL 0.16097554 BTC @ 8368.7 USD MARKET<br>Total: 1347.16 USD - Comm.: 0.00048438 BTC\", \"opacity\": 0.6, \"showarrow\": true, \"x\": 43, \"xref\": \"x\", \"y\": 8368.7, \"yref\": \"y\"}, {\"arrowcolor\": \"FireBrick\", \"arrowhead\": 2, \"arrowsize\": 0.8, \"arrowwidth\": 4, \"ax\": 0, \"ay\": -15, \"hoverlabel\": {\"bgcolor\": \"FireBrick\"}, \"hovertext\": \"Step 42 [2018-05-16 23:00:00]<br>SELL 0.48456319 BTC @ 8336.1 USD MARKET<br>Total: 4039.37 USD - Comm.: 0.00145806 BTC\", \"opacity\": 0.6, \"showarrow\": true, \"x\": 41, \"xref\": \"x\", \"y\": 8336.1, \"yref\": \"y\"}, {\"arrowcolor\": \"FireBrick\", \"arrowhead\": 2, \"arrowsize\": 0.8, \"arrowwidth\": 4, \"ax\": 0, \"ay\": -15, \"hoverlabel\": {\"bgcolor\": \"FireBrick\"}, \"hovertext\": \"Step 40 [2018-05-16 21:00:00]<br>SELL 0.0113127 BTC @ 8271.9 USD MARKET<br>Total: 93.58 USD - Comm.: 0.00003404 BTC\", \"opacity\": 0.6, \"showarrow\": true, \"x\": 39, \"xref\": \"x\", \"y\": 8271.9, \"yref\": \"y\"}, {\"arrowcolor\": \"DarkGreen\", \"arrowhead\": 2, \"arrowsize\": 0.8, \"arrowwidth\": 4, \"ax\": 0, \"ay\": 15, \"hoverlabel\": {\"bgcolor\": \"DarkGreen\"}, \"hovertext\": \"Step 39 [2018-05-16 20:00:00]<br>BUY 0.04782871 BTC @ 8290.0 USD MARKET<br>Total: 396.5 USD - Comm.: 1.19 USD\", \"opacity\": 0.6, \"showarrow\": true, \"x\": 38, \"xref\": \"x\", \"y\": 8290.0, \"yref\": \"y\"}, {\"arrowcolor\": \"FireBrick\", \"arrowhead\": 2, \"arrowsize\": 0.8, \"arrowwidth\": 4, \"ax\": 0, \"ay\": -15, \"hoverlabel\": {\"bgcolor\": \"FireBrick\"}, \"hovertext\": \"Step 38 [2018-05-16 19:00:00]<br>SELL 0.01414088 BTC @ 8227.4 USD MARKET<br>Total: 116.34 USD - Comm.: 0.00004255 BTC\", \"opacity\": 0.6, \"showarrow\": true, \"x\": 37, \"xref\": \"x\", \"y\": 8227.4, \"yref\": \"y\"}, {\"arrowcolor\": \"FireBrick\", \"arrowhead\": 2, \"arrowsize\": 0.8, \"arrowwidth\": 4, \"ax\": 0, \"ay\": -15, \"hoverlabel\": {\"bgcolor\": \"FireBrick\"}, \"hovertext\": \"Step 37 [2018-05-16 18:00:00]<br>SELL 0.04713627 BTC @ 8266.2 USD MARKET<br>Total: 389.64 USD - Comm.: 0.00014183 BTC\", \"opacity\": 0.6, \"showarrow\": true, \"x\": 36, \"xref\": \"x\", \"y\": 8266.2, \"yref\": \"y\"}, {\"arrowcolor\": \"FireBrick\", \"arrowhead\": 2, \"arrowsize\": 0.8, \"arrowwidth\": 4, \"ax\": 0, \"ay\": -15, \"hoverlabel\": {\"bgcolor\": \"FireBrick\"}, \"hovertext\": \"Step 36 [2018-05-16 17:00:00]<br>SELL 0.07856044 BTC @ 8286.4 USD MARKET<br>Total: 650.98 USD - Comm.: 0.00023639 BTC\", \"opacity\": 0.6, \"showarrow\": true, \"x\": 35, \"xref\": \"x\", \"y\": 8286.4, \"yref\": \"y\"}, {\"arrowcolor\": \"FireBrick\", \"arrowhead\": 2, \"arrowsize\": 0.8, \"arrowwidth\": 4, \"ax\": 0, \"ay\": -15, \"hoverlabel\": {\"bgcolor\": \"FireBrick\"}, \"hovertext\": \"Step 35 [2018-05-16 16:00:00]<br>SELL 0.04910028 BTC @ 8255.2 USD MARKET<br>Total: 405.33 USD - Comm.: 0.00014774 BTC\", \"opacity\": 0.6, \"showarrow\": true, \"x\": 34, \"xref\": \"x\", \"y\": 8255.2, \"yref\": \"y\"}, {\"arrowcolor\": \"FireBrick\", \"arrowhead\": 2, \"arrowsize\": 0.8, \"arrowwidth\": 4, \"ax\": 0, \"ay\": -15, \"hoverlabel\": {\"bgcolor\": \"FireBrick\"}, \"hovertext\": \"Step 34 [2018-05-16 15:00:00]<br>SELL 0.24550137 BTC @ 8276.0 USD MARKET<br>Total: 2031.77 USD - Comm.: 0.00073872 BTC\", \"opacity\": 0.6, \"showarrow\": true, \"x\": 33, \"xref\": \"x\", \"y\": 8276.0, \"yref\": \"y\"}, {\"arrowcolor\": \"DarkGreen\", \"arrowhead\": 2, \"arrowsize\": 0.8, \"arrowwidth\": 4, \"ax\": 0, \"ay\": 15, \"hoverlabel\": {\"bgcolor\": \"DarkGreen\"}, \"hovertext\": \"Step 33 [2018-05-16 14:00:00]<br>BUY 0.24159446 BTC @ 8205.9 USD MARKET<br>Total: 1982.5 USD - Comm.: 5.97 USD\", \"opacity\": 0.6, \"showarrow\": true, \"x\": 32, \"xref\": \"x\", \"y\": 8205.9, \"yref\": \"y\"}, {\"arrowcolor\": \"DarkGreen\", \"arrowhead\": 2, \"arrowsize\": 0.8, \"arrowwidth\": 4, \"ax\": 0, \"ay\": 15, \"hoverlabel\": {\"bgcolor\": \"DarkGreen\"}, \"hovertext\": \"Step 32 [2018-05-16 13:00:00]<br>BUY 0.48602125 BTC @ 8158.1 USD MARKET<br>Total: 3965.01 USD - Comm.: 11.93 USD\", \"opacity\": 0.6, \"showarrow\": true, \"x\": 31, \"xref\": \"x\", \"y\": 8158.1, \"yref\": \"y\"}, {\"arrowcolor\": \"DarkGreen\", \"arrowhead\": 2, \"arrowsize\": 0.8, \"arrowwidth\": 4, \"ax\": 0, \"ay\": 15, \"hoverlabel\": {\"bgcolor\": \"DarkGreen\"}, \"hovertext\": \"Step 32 [2018-05-16 13:00:00]<br>BUY 0.08073081 BTC @ 8158.1 USD MARKET<br>Total: 658.61 USD - Comm.: 1.98 USD\", \"opacity\": 0.6, \"showarrow\": true, \"x\": 31, \"xref\": \"x\", \"y\": 8158.1, \"yref\": \"y\"}, {\"arrowcolor\": \"FireBrick\", \"arrowhead\": 2, \"arrowsize\": 0.8, \"arrowwidth\": 4, \"ax\": 0, \"ay\": -15, \"hoverlabel\": {\"bgcolor\": \"FireBrick\"}, \"hovertext\": \"Step 31 [2018-05-16 12:00:00]<br>SELL 0.41051414 BTC @ 8348.6 USD MARKET<br>Total: 3427.22 USD - Comm.: 0.00123525 BTC\", \"opacity\": 0.6, \"showarrow\": true, \"x\": 30, \"xref\": \"x\", \"y\": 8348.6, \"yref\": \"y\"}, {\"arrowcolor\": \"FireBrick\", \"arrowhead\": 2, \"arrowsize\": 0.8, \"arrowwidth\": 4, \"ax\": 0, \"ay\": -15, \"hoverlabel\": {\"bgcolor\": \"FireBrick\"}, \"hovertext\": \"Step 30 [2018-05-16 11:00:00]<br>SELL 0.82102828 BTC @ 8358.5 USD MARKET<br>Total: 6862.56 USD - Comm.: 0.00247050 BTC\", \"opacity\": 0.6, \"showarrow\": true, \"x\": 29, \"xref\": \"x\", \"y\": 8358.5, \"yref\": \"y\"}, {\"arrowcolor\": \"FireBrick\", \"arrowhead\": 2, \"arrowsize\": 0.8, \"arrowwidth\": 4, \"ax\": 0, \"ay\": -15, \"hoverlabel\": {\"bgcolor\": \"FireBrick\"}, \"hovertext\": \"Step 30 [2018-05-16 11:00:00]<br>SELL 0.08052093 BTC @ 8358.5 USD MARKET<br>Total: 673.03 USD - Comm.: 0.00024229 BTC\", \"opacity\": 0.6, \"showarrow\": true, \"x\": 29, \"xref\": \"x\", \"y\": 8358.5, \"yref\": \"y\"}, {\"arrowcolor\": \"FireBrick\", \"arrowhead\": 2, \"arrowsize\": 0.8, \"arrowwidth\": 4, \"ax\": 0, \"ay\": -15, \"hoverlabel\": {\"bgcolor\": \"FireBrick\"}, \"hovertext\": \"Step 30 [2018-05-16 11:00:00]<br>SELL 0.32375471 BTC @ 8358.5 USD MARKET<br>Total: 2706.1 USD - Comm.: 0.00097419 BTC\", \"opacity\": 0.6, \"showarrow\": true, \"x\": 29, \"xref\": \"x\", \"y\": 8358.5, \"yref\": \"y\"}, {\"arrowcolor\": \"FireBrick\", \"arrowhead\": 2, \"arrowsize\": 0.8, \"arrowwidth\": 4, \"ax\": 0, \"ay\": -15, \"hoverlabel\": {\"bgcolor\": \"FireBrick\"}, \"hovertext\": \"Step 29 [2018-05-16 10:00:00]<br>SELL 1.64205656 BTC @ 8357.2 USD MARKET<br>Total: 13723.0 USD - Comm.: 0.00494099 BTC\", \"opacity\": 0.6, \"showarrow\": true, \"x\": 28, \"xref\": \"x\", \"y\": 8357.2, \"yref\": \"y\"}, {\"arrowcolor\": \"DarkGreen\", \"arrowhead\": 2, \"arrowsize\": 0.8, \"arrowwidth\": 4, \"ax\": 0, \"ay\": 15, \"hoverlabel\": {\"bgcolor\": \"DarkGreen\"}, \"hovertext\": \"Step 29 [2018-05-16 10:00:00]<br>BUY 3.16848346 BTC @ 8357.2 USD MARKET<br>Total: 26479.65 USD - Comm.: 79.68 USD\", \"opacity\": 0.6, \"showarrow\": true, \"x\": 28, \"xref\": \"x\", \"y\": 8357.2, \"yref\": \"y\"}, {\"arrowcolor\": \"FireBrick\", \"arrowhead\": 2, \"arrowsize\": 0.8, \"arrowwidth\": 4, \"ax\": 0, \"ay\": -15, \"hoverlabel\": {\"bgcolor\": \"FireBrick\"}, \"hovertext\": \"Step 29 [2018-05-16 10:00:00]<br>SELL 0.5076878 BTC @ 8357.2 USD MARKET<br>Total: 4242.85 USD - Comm.: 0.00152765 BTC\", \"opacity\": 0.6, \"showarrow\": true, \"x\": 28, \"xref\": \"x\", \"y\": 8357.2, \"yref\": \"y\"}, {\"arrowcolor\": \"DarkGreen\", \"arrowhead\": 2, \"arrowsize\": 0.8, \"arrowwidth\": 4, \"ax\": 0, \"ay\": 15, \"hoverlabel\": {\"bgcolor\": \"DarkGreen\"}, \"hovertext\": \"Step 28 [2018-05-16 09:00:00]<br>BUY 0.0402293 BTC @ 8225.1 USD MARKET<br>Total: 330.89 USD - Comm.: 1.00 USD\", \"opacity\": 0.6, \"showarrow\": true, \"x\": 27, \"xref\": \"x\", \"y\": 8225.1, \"yref\": \"y\"}, {\"arrowcolor\": \"DarkGreen\", \"arrowhead\": 2, \"arrowsize\": 0.8, \"arrowwidth\": 4, \"ax\": 0, \"ay\": 15, \"hoverlabel\": {\"bgcolor\": \"DarkGreen\"}, \"hovertext\": \"Step 27 [2018-05-16 08:00:00]<br>BUY 0.08076322 BTC @ 8194.2 USD MARKET<br>Total: 661.79 USD - Comm.: 1.99 USD\", \"opacity\": 0.6, \"showarrow\": true, \"x\": 26, \"xref\": \"x\", \"y\": 8194.2, \"yref\": \"y\"}, {\"arrowcolor\": \"FireBrick\", \"arrowhead\": 2, \"arrowsize\": 0.8, \"arrowwidth\": 4, \"ax\": 0, \"ay\": -15, \"hoverlabel\": {\"bgcolor\": \"FireBrick\"}, \"hovertext\": \"Step 26 [2018-05-16 07:00:00]<br>SELL 3.28411312 BTC @ 8221.1 USD MARKET<br>Total: 26999.02 USD - Comm.: 0.00988199 BTC\", \"opacity\": 0.6, \"showarrow\": true, \"x\": 25, \"xref\": \"x\", \"y\": 8221.1, \"yref\": \"y\"}, {\"arrowcolor\": \"FireBrick\", \"arrowhead\": 2, \"arrowsize\": 0.8, \"arrowwidth\": 4, \"ax\": 0, \"ay\": -15, \"hoverlabel\": {\"bgcolor\": \"FireBrick\"}, \"hovertext\": \"Step 25 [2018-05-16 06:00:00]<br>SELL 1.64205656 BTC @ 8223.9 USD MARKET<br>Total: 13504.11 USD - Comm.: 0.00494099 BTC\", \"opacity\": 0.6, \"showarrow\": true, \"x\": 24, \"xref\": \"x\", \"y\": 8223.9, \"yref\": \"y\"}, {\"arrowcolor\": \"DarkGreen\", \"arrowhead\": 2, \"arrowsize\": 0.8, \"arrowwidth\": 4, \"ax\": 0, \"ay\": 15, \"hoverlabel\": {\"bgcolor\": \"DarkGreen\"}, \"hovertext\": \"Step 24 [2018-05-16 05:00:00]<br>BUY 0.16145992 BTC @ 8197.7 USD MARKET<br>Total: 1323.6 USD - Comm.: 3.98 USD\", \"opacity\": 0.6, \"showarrow\": true, \"x\": 23, \"xref\": \"x\", \"y\": 8197.7, \"yref\": \"y\"}, {\"arrowcolor\": \"FireBrick\", \"arrowhead\": 2, \"arrowsize\": 0.8, \"arrowwidth\": 4, \"ax\": 0, \"ay\": -15, \"hoverlabel\": {\"bgcolor\": \"FireBrick\"}, \"hovertext\": \"Step 23 [2018-05-16 04:00:00]<br>SELL 2.0525707 BTC @ 8205.3 USD MARKET<br>Total: 16841.96 USD - Comm.: 0.00617624 BTC\", \"opacity\": 0.6, \"showarrow\": true, \"x\": 22, \"xref\": \"x\", \"y\": 8205.3, \"yref\": \"y\"}, {\"arrowcolor\": \"DarkGreen\", \"arrowhead\": 2, \"arrowsize\": 0.8, \"arrowwidth\": 4, \"ax\": 0, \"ay\": 15, \"hoverlabel\": {\"bgcolor\": \"DarkGreen\"}, \"hovertext\": \"Step 22 [2018-05-16 03:00:00]<br>BUY 0.3247289 BTC @ 8152.0 USD MARKET<br>Total: 2647.19 USD - Comm.: 7.97 USD\", \"opacity\": 0.6, \"showarrow\": true, \"x\": 21, \"xref\": \"x\", \"y\": 8152.0, \"yref\": \"y\"}, {\"arrowcolor\": \"DarkGreen\", \"arrowhead\": 2, \"arrowsize\": 0.8, \"arrowwidth\": 4, \"ax\": 0, \"ay\": 15, \"hoverlabel\": {\"bgcolor\": \"DarkGreen\"}, \"hovertext\": \"Step 22 [2018-05-16 03:00:00]<br>BUY 0.92308881 BTC @ 8152.0 USD MARKET<br>Total: 7525.02 USD - Comm.: 22.64 USD\", \"opacity\": 0.6, \"showarrow\": true, \"x\": 21, \"xref\": \"x\", \"y\": 8152.0, \"yref\": \"y\"}, {\"arrowcolor\": \"DarkGreen\", \"arrowhead\": 2, \"arrowsize\": 0.8, \"arrowwidth\": 4, \"ax\": 0, \"ay\": 15, \"hoverlabel\": {\"bgcolor\": \"DarkGreen\"}, \"hovertext\": \"Step 21 [2018-05-16 02:00:00]<br>BUY 0.50921545 BTC @ 8124.4 USD MARKET<br>Total: 4137.07 USD - Comm.: 12.45 USD\", \"opacity\": 0.6, \"showarrow\": true, \"x\": 20, \"xref\": \"x\", \"y\": 8124.4, \"yref\": \"y\"}, {\"arrowcolor\": \"FireBrick\", \"arrowhead\": 2, \"arrowsize\": 0.8, \"arrowwidth\": 4, \"ax\": 0, \"ay\": -15, \"hoverlabel\": {\"bgcolor\": \"FireBrick\"}, \"hovertext\": \"Step 21 [2018-05-16 02:00:00]<br>SELL 0.14287556 BTC @ 8124.4 USD MARKET<br>Total: 1160.78 USD - Comm.: 0.00042992 BTC\", \"opacity\": 0.6, \"showarrow\": true, \"x\": 20, \"xref\": \"x\", \"y\": 8124.4, \"yref\": \"y\"}, {\"arrowcolor\": \"DarkGreen\", \"arrowhead\": 2, \"arrowsize\": 0.8, \"arrowwidth\": 4, \"ax\": 0, \"ay\": 15, \"hoverlabel\": {\"bgcolor\": \"DarkGreen\"}, \"hovertext\": \"Step 21 [2018-05-16 02:00:00]<br>BUY 0.13020777 BTC @ 8124.4 USD MARKET<br>Total: 1057.86 USD - Comm.: 3.18 USD\", \"opacity\": 0.6, \"showarrow\": true, \"x\": 20, \"xref\": \"x\", \"y\": 8124.4, \"yref\": \"y\"}, {\"arrowcolor\": \"DarkGreen\", \"arrowhead\": 2, \"arrowsize\": 0.8, \"arrowwidth\": 4, \"ax\": 0, \"ay\": 15, \"hoverlabel\": {\"bgcolor\": \"DarkGreen\"}, \"hovertext\": \"Step 21 [2018-05-16 02:00:00]<br>BUY 0.40490867 BTC @ 8124.4 USD MARKET<br>Total: 3289.64 USD - Comm.: 9.90 USD\", \"opacity\": 0.6, \"showarrow\": true, \"x\": 20, \"xref\": \"x\", \"y\": 8124.4, \"yref\": \"y\"}, {\"arrowcolor\": \"DarkGreen\", \"arrowhead\": 2, \"arrowsize\": 0.8, \"arrowwidth\": 4, \"ax\": 0, \"ay\": 15, \"hoverlabel\": {\"bgcolor\": \"DarkGreen\"}, \"hovertext\": \"Step 21 [2018-05-16 02:00:00]<br>BUY 2.56159839 BTC @ 8124.4 USD MARKET<br>Total: 20811.45 USD - Comm.: 62.62 USD\", \"opacity\": 0.6, \"showarrow\": true, \"x\": 20, \"xref\": \"x\", \"y\": 8124.4, \"yref\": \"y\"}, {\"arrowcolor\": \"FireBrick\", \"arrowhead\": 2, \"arrowsize\": 0.8, \"arrowwidth\": 4, \"ax\": 0, \"ay\": -15, \"hoverlabel\": {\"bgcolor\": \"FireBrick\"}, \"hovertext\": \"Step 20 [2018-05-16 01:00:00]<br>SELL 0.0121939 BTC @ 8327.9 USD MARKET<br>Total: 101.55 USD - Comm.: 0.00003669 BTC\", \"opacity\": 0.6, \"showarrow\": true, \"x\": 19, \"xref\": \"x\", \"y\": 8327.9, \"yref\": \"y\"}, {\"arrowcolor\": \"FireBrick\", \"arrowhead\": 2, \"arrowsize\": 0.8, \"arrowwidth\": 4, \"ax\": 0, \"ay\": -15, \"hoverlabel\": {\"bgcolor\": \"FireBrick\"}, \"hovertext\": \"Step 20 [2018-05-16 01:00:00]<br>SELL 0.28385204 BTC @ 8327.9 USD MARKET<br>Total: 2363.89 USD - Comm.: 0.00085412 BTC\", \"opacity\": 0.6, \"showarrow\": true, \"x\": 19, \"xref\": \"x\", \"y\": 8327.9, \"yref\": \"y\"}, {\"arrowcolor\": \"FireBrick\", \"arrowhead\": 2, \"arrowsize\": 0.8, \"arrowwidth\": 4, \"ax\": 0, \"ay\": -15, \"hoverlabel\": {\"bgcolor\": \"FireBrick\"}, \"hovertext\": \"Step 20 [2018-05-16 01:00:00]<br>SELL 0.56666843 BTC @ 8327.9 USD MARKET<br>Total: 4719.16 USD - Comm.: 0.00170512 BTC\", \"opacity\": 0.6, \"showarrow\": true, \"x\": 19, \"xref\": \"x\", \"y\": 8327.9, \"yref\": \"y\"}, {\"arrowcolor\": \"DarkGreen\", \"arrowhead\": 2, \"arrowsize\": 0.8, \"arrowwidth\": 4, \"ax\": 0, \"ay\": 15, \"hoverlabel\": {\"bgcolor\": \"DarkGreen\"}, \"hovertext\": \"Step 20 [2018-05-16 01:00:00]<br>BUY 0.5409539 BTC @ 8327.9 USD MARKET<br>Total: 4505.01 USD - Comm.: 13.56 USD\", \"opacity\": 0.6, \"showarrow\": true, \"x\": 19, \"xref\": \"x\", \"y\": 8327.9, \"yref\": \"y\"}, {\"arrowcolor\": \"DarkGreen\", \"arrowhead\": 2, \"arrowsize\": 0.8, \"arrowwidth\": 4, \"ax\": 0, \"ay\": 15, \"hoverlabel\": {\"bgcolor\": \"DarkGreen\"}, \"hovertext\": \"Step 20 [2018-05-16 01:00:00]<br>BUY 1.50983561 BTC @ 8327.9 USD MARKET<br>Total: 12573.76 USD - Comm.: 37.83 USD\", \"opacity\": 0.6, \"showarrow\": true, \"x\": 19, \"xref\": \"x\", \"y\": 8327.9, \"yref\": \"y\"}, {\"arrowcolor\": \"DarkGreen\", \"arrowhead\": 2, \"arrowsize\": 0.8, \"arrowwidth\": 4, \"ax\": 0, \"ay\": 15, \"hoverlabel\": {\"bgcolor\": \"DarkGreen\"}, \"hovertext\": \"Step 20 [2018-05-16 01:00:00]<br>BUY 4.17421919 BTC @ 8327.9 USD MARKET<br>Total: 34762.48 USD - Comm.: 104.60 USD\", \"opacity\": 0.6, \"showarrow\": true, \"x\": 19, \"xref\": \"x\", \"y\": 8327.9, \"yref\": \"y\"}, {\"arrowcolor\": \"FireBrick\", \"arrowhead\": 2, \"arrowsize\": 0.8, \"arrowwidth\": 4, \"ax\": 0, \"ay\": -15, \"hoverlabel\": {\"bgcolor\": \"FireBrick\"}, \"hovertext\": \"Step 19 [2018-05-16 00:00:00]<br>SELL 0.01524238 BTC @ 8454.2 USD MARKET<br>Total: 128.86 USD - Comm.: 0.00004586 BTC\", \"opacity\": 0.6, \"showarrow\": true, \"x\": 18, \"xref\": \"x\", \"y\": 8454.2, \"yref\": \"y\"}, {\"arrowcolor\": \"FireBrick\", \"arrowhead\": 2, \"arrowsize\": 0.8, \"arrowwidth\": 4, \"ax\": 0, \"ay\": -15, \"hoverlabel\": {\"bgcolor\": \"FireBrick\"}, \"hovertext\": \"Step 18 [2018-05-15 23:00:00]<br>SELL 0.01905297 BTC @ 8467.5 USD MARKET<br>Total: 161.33 USD - Comm.: 0.00005733 BTC\", \"opacity\": 0.6, \"showarrow\": true, \"x\": 17, \"xref\": \"x\", \"y\": 8467.5, \"yref\": \"y\"}, {\"arrowcolor\": \"DarkGreen\", \"arrowhead\": 2, \"arrowsize\": 0.8, \"arrowwidth\": 4, \"ax\": 0, \"ay\": 15, \"hoverlabel\": {\"bgcolor\": \"DarkGreen\"}, \"hovertext\": \"Step 17 [2018-05-15 22:00:00]<br>BUY 0.14330548 BTC @ 8459.9 USD MARKET<br>Total: 1212.35 USD - Comm.: 3.65 USD\", \"opacity\": 0.6, \"showarrow\": true, \"x\": 16, \"xref\": \"x\", \"y\": 8459.9, \"yref\": \"y\"}, {\"arrowcolor\": \"FireBrick\", \"arrowhead\": 2, \"arrowsize\": 0.8, \"arrowwidth\": 4, \"ax\": 0, \"ay\": -15, \"hoverlabel\": {\"bgcolor\": \"FireBrick\"}, \"hovertext\": \"Step 16 [2018-05-15 21:00:00]<br>SELL 0.02381621 BTC @ 8476.0 USD MARKET<br>Total: 201.87 USD - Comm.: 0.00007166 BTC\", \"opacity\": 0.6, \"showarrow\": true, \"x\": 15, \"xref\": \"x\", \"y\": 8476.0, \"yref\": \"y\"}, {\"arrowcolor\": \"FireBrick\", \"arrowhead\": 2, \"arrowsize\": 0.8, \"arrowwidth\": 4, \"ax\": 0, \"ay\": -15, \"hoverlabel\": {\"bgcolor\": \"FireBrick\"}, \"hovertext\": \"Step 15 [2018-05-15 20:00:00]<br>SELL 0.02977026 BTC @ 8516.7 USD MARKET<br>Total: 253.54 USD - Comm.: 0.00008958 BTC\", \"opacity\": 0.6, \"showarrow\": true, \"x\": 14, \"xref\": \"x\", \"y\": 8516.7, \"yref\": \"y\"}, {\"arrowcolor\": \"FireBrick\", \"arrowhead\": 2, \"arrowsize\": 0.8, \"arrowwidth\": 4, \"ax\": 0, \"ay\": -15, \"hoverlabel\": {\"bgcolor\": \"FireBrick\"}, \"hovertext\": \"Step 14 [2018-05-15 19:00:00]<br>SELL 0.03721283 BTC @ 8551.2 USD MARKET<br>Total: 318.21 USD - Comm.: 0.00011197 BTC\", \"opacity\": 0.6, \"showarrow\": true, \"x\": 13, \"xref\": \"x\", \"y\": 8551.2, \"yref\": \"y\"}, {\"arrowcolor\": \"DarkGreen\", \"arrowhead\": 2, \"arrowsize\": 0.8, \"arrowwidth\": 4, \"ax\": 0, \"ay\": 15, \"hoverlabel\": {\"bgcolor\": \"DarkGreen\"}, \"hovertext\": \"Step 13 [2018-05-15 18:00:00]<br>BUY 0.28470616 BTC @ 8516.5 USD MARKET<br>Total: 2424.7 USD - Comm.: 7.30 USD\", \"opacity\": 0.6, \"showarrow\": true, \"x\": 12, \"xref\": \"x\", \"y\": 8516.5, \"yref\": \"y\"}, {\"arrowcolor\": \"FireBrick\", \"arrowhead\": 2, \"arrowsize\": 0.8, \"arrowwidth\": 4, \"ax\": 0, \"ay\": -15, \"hoverlabel\": {\"bgcolor\": \"FireBrick\"}, \"hovertext\": \"Step 12 [2018-05-15 17:00:00]<br>SELL 0.12404275 BTC @ 8553.8 USD MARKET<br>Total: 1061.04 USD - Comm.: 0.00037325 BTC\", \"opacity\": 0.6, \"showarrow\": true, \"x\": 11, \"xref\": \"x\", \"y\": 8553.8, \"yref\": \"y\"}, {\"arrowcolor\": \"DarkGreen\", \"arrowhead\": 2, \"arrowsize\": 0.8, \"arrowwidth\": 4, \"ax\": 0, \"ay\": 15, \"hoverlabel\": {\"bgcolor\": \"DarkGreen\"}, \"hovertext\": \"Step 11 [2018-05-15 16:00:00]<br>BUY 0.56837355 BTC @ 8532.1 USD MARKET<br>Total: 4849.42 USD - Comm.: 14.59 USD\", \"opacity\": 0.6, \"showarrow\": true, \"x\": 10, \"xref\": \"x\", \"y\": 8532.1, \"yref\": \"y\"}, {\"arrowcolor\": \"FireBrick\", \"arrowhead\": 2, \"arrowsize\": 0.8, \"arrowwidth\": 4, \"ax\": 0, \"ay\": -15, \"hoverlabel\": {\"bgcolor\": \"FireBrick\"}, \"hovertext\": \"Step 10 [2018-05-15 15:00:00]<br>SELL 0.07752672 BTC @ 8520.8 USD MARKET<br>Total: 660.59 USD - Comm.: 0.00023328 BTC\", \"opacity\": 0.6, \"showarrow\": true, \"x\": 9, \"xref\": \"x\", \"y\": 8520.8, \"yref\": \"y\"}, {\"arrowcolor\": \"FireBrick\", \"arrowhead\": 2, \"arrowsize\": 0.8, \"arrowwidth\": 4, \"ax\": 0, \"ay\": -15, \"hoverlabel\": {\"bgcolor\": \"FireBrick\"}, \"hovertext\": \"Step 9 [2018-05-15 14:00:00]<br>SELL 0.3876336 BTC @ 8512.0 USD MARKET<br>Total: 3299.54 USD - Comm.: 0.00116640 BTC\", \"opacity\": 0.6, \"showarrow\": true, \"x\": 8, \"xref\": \"x\", \"y\": 8512.0, \"yref\": \"y\"}, {\"arrowcolor\": \"FireBrick\", \"arrowhead\": 2, \"arrowsize\": 0.8, \"arrowwidth\": 4, \"ax\": 0, \"ay\": -15, \"hoverlabel\": {\"bgcolor\": \"FireBrick\"}, \"hovertext\": \"Step 9 [2018-05-15 14:00:00]<br>SELL 0.14191695 BTC @ 8512.0 USD MARKET<br>Total: 1208.0 USD - Comm.: 0.00042703 BTC\", \"opacity\": 0.6, \"showarrow\": true, \"x\": 8, \"xref\": \"x\", \"y\": 8512.0, \"yref\": \"y\"}, {\"arrowcolor\": \"FireBrick\", \"arrowhead\": 2, \"arrowsize\": 0.8, \"arrowwidth\": 4, \"ax\": 0, \"ay\": -15, \"hoverlabel\": {\"bgcolor\": \"FireBrick\"}, \"hovertext\": \"Step 9 [2018-05-15 14:00:00]<br>SELL 0.28536908 BTC @ 8512.0 USD MARKET<br>Total: 2429.06 USD - Comm.: 0.00085868 BTC\", \"opacity\": 0.6, \"showarrow\": true, \"x\": 8, \"xref\": \"x\", \"y\": 8512.0, \"yref\": \"y\"}, {\"arrowcolor\": \"FireBrick\", \"arrowhead\": 2, \"arrowsize\": 0.8, \"arrowwidth\": 4, \"ax\": 0, \"ay\": -15, \"hoverlabel\": {\"bgcolor\": \"FireBrick\"}, \"hovertext\": \"Step 9 [2018-05-15 14:00:00]<br>SELL 0.56872011 BTC @ 8512.0 USD MARKET<br>Total: 4840.95 USD - Comm.: 0.00171129 BTC\", \"opacity\": 0.6, \"showarrow\": true, \"x\": 8, \"xref\": \"x\", \"y\": 8512.0, \"yref\": \"y\"}, {\"arrowcolor\": \"FireBrick\", \"arrowhead\": 2, \"arrowsize\": 0.8, \"arrowwidth\": 4, \"ax\": 0, \"ay\": -15, \"hoverlabel\": {\"bgcolor\": \"FireBrick\"}, \"hovertext\": \"Step 8 [2018-05-15 13:00:00]<br>SELL 0.5168448 BTC @ 8742.6 USD MARKET<br>Total: 4518.57 USD - Comm.: 0.00155520 BTC\", \"opacity\": 0.6, \"showarrow\": true, \"x\": 7, \"xref\": \"x\", \"y\": 8742.6, \"yref\": \"y\"}, {\"arrowcolor\": \"FireBrick\", \"arrowhead\": 2, \"arrowsize\": 0.8, \"arrowwidth\": 4, \"ax\": 0, \"ay\": -15, \"hoverlabel\": {\"bgcolor\": \"FireBrick\"}, \"hovertext\": \"Step 7 [2018-05-15 12:00:00]<br>SELL 0.861408 BTC @ 8762.0 USD MARKET<br>Total: 7547.66 USD - Comm.: 0.00259200 BTC\", \"opacity\": 0.6, \"showarrow\": true, \"x\": 6, \"xref\": \"x\", \"y\": 8762.0, \"yref\": \"y\"}, {\"arrowcolor\": \"DarkGreen\", \"arrowhead\": 2, \"arrowsize\": 0.8, \"arrowwidth\": 4, \"ax\": 0, \"ay\": 15, \"hoverlabel\": {\"bgcolor\": \"DarkGreen\"}, \"hovertext\": \"Step 6 [2018-05-15 11:00:00]<br>BUY 0.14234398 BTC @ 8755.2 USD MARKET<br>Total: 1246.25 USD - Comm.: 3.75 USD\", \"opacity\": 0.6, \"showarrow\": true, \"x\": 5, \"xref\": \"x\", \"y\": 8755.2, \"yref\": \"y\"}, {\"arrowcolor\": \"FireBrick\", \"arrowhead\": 2, \"arrowsize\": 0.8, \"arrowwidth\": 4, \"ax\": 0, \"ay\": -15, \"hoverlabel\": {\"bgcolor\": \"FireBrick\"}, \"hovertext\": \"Step 5 [2018-05-15 10:00:00]<br>SELL 1.43568 BTC @ 8784.4 USD MARKET<br>Total: 12611.59 USD - Comm.: 0.00432000 BTC\", \"opacity\": 0.6, \"showarrow\": true, \"x\": 4, \"xref\": \"x\", \"y\": 8784.4, \"yref\": \"y\"}, {\"arrowcolor\": \"DarkGreen\", \"arrowhead\": 2, \"arrowsize\": 0.8, \"arrowwidth\": 4, \"ax\": 0, \"ay\": 15, \"hoverlabel\": {\"bgcolor\": \"DarkGreen\"}, \"hovertext\": \"Step 4 [2018-05-15 09:00:00]<br>BUY 0.28622776 BTC @ 8708.1 USD MARKET<br>Total: 2492.5 USD - Comm.: 7.50 USD\", \"opacity\": 0.6, \"showarrow\": true, \"x\": 3, \"xref\": \"x\", \"y\": 8708.1, \"yref\": \"y\"}, {\"arrowcolor\": \"FireBrick\", \"arrowhead\": 2, \"arrowsize\": 0.8, \"arrowwidth\": 4, \"ax\": 0, \"ay\": -15, \"hoverlabel\": {\"bgcolor\": \"FireBrick\"}, \"hovertext\": \"Step 3 [2018-05-15 08:00:00]<br>SELL 2.3928 BTC @ 8723.7 USD MARKET<br>Total: 20874.07 USD - Comm.: 0.00720000 BTC\", \"opacity\": 0.6, \"showarrow\": true, \"x\": 2, \"xref\": \"x\", \"y\": 8723.7, \"yref\": \"y\"}, {\"arrowcolor\": \"FireBrick\", \"arrowhead\": 2, \"arrowsize\": 0.8, \"arrowwidth\": 4, \"ax\": 0, \"ay\": -15, \"hoverlabel\": {\"bgcolor\": \"FireBrick\"}, \"hovertext\": \"Step 2 [2018-05-15 07:00:00]<br>SELL 3.988 BTC @ 8743.0 USD MARKET<br>Total: 34867.08 USD - Comm.: 0.01200000 BTC\", \"opacity\": 0.6, \"showarrow\": true, \"x\": 1, \"xref\": \"x\", \"y\": 8743.0, \"yref\": \"y\"}, {\"arrowcolor\": \"DarkGreen\", \"arrowhead\": 2, \"arrowsize\": 0.8, \"arrowwidth\": 4, \"ax\": 0, \"ay\": 15, \"hoverlabel\": {\"bgcolor\": \"DarkGreen\"}, \"hovertext\": \"Step 1 [2018-05-15 06:00:00]<br>BUY 0.5704314 BTC @ 8739.0 USD MARKET<br>Total: 4985.0 USD - Comm.: 15.00 USD\", \"opacity\": 0.6, \"showarrow\": true, \"x\": 0, \"xref\": \"x\", \"y\": 8739.0, \"yref\": \"y\"}, {\"arrowcolor\": \"DarkGreen\", \"arrowhead\": 2, \"arrowsize\": 0.8, \"arrowwidth\": 4, \"ax\": 0, \"ay\": 15, \"hoverlabel\": {\"bgcolor\": \"DarkGreen\"}, \"hovertext\": \"Step 90 [2018-05-18 23:00:00]<br>BUY 0.01502628 BTC @ 8238.9 USD MARKET<br>Total: 123.8 USD - Comm.: 0.37 USD\", \"opacity\": 0.6, \"showarrow\": true, \"x\": 89, \"xref\": \"x\", \"y\": 8238.9, \"yref\": \"y\"}, {\"arrowcolor\": \"FireBrick\", \"arrowhead\": 2, \"arrowsize\": 0.8, \"arrowwidth\": 4, \"ax\": 0, \"ay\": -15, \"hoverlabel\": {\"bgcolor\": \"FireBrick\"}, \"hovertext\": \"Step 86 [2018-05-18 19:00:00]<br>SELL 0.01606648 BTC @ 8224.9 USD MARKET<br>Total: 132.15 USD - Comm.: 0.00004834 BTC\", \"opacity\": 0.6, \"showarrow\": true, \"x\": 85, \"xref\": \"x\", \"y\": 8224.9, \"yref\": \"y\"}, {\"arrowcolor\": \"FireBrick\", \"arrowhead\": 2, \"arrowsize\": 0.8, \"arrowwidth\": 4, \"ax\": 0, \"ay\": -15, \"hoverlabel\": {\"bgcolor\": \"FireBrick\"}, \"hovertext\": \"Step 86 [2018-05-18 19:00:00]<br>SELL 0.08390907 BTC @ 8224.9 USD MARKET<br>Total: 690.14 USD - Comm.: 0.00025248 BTC\", \"opacity\": 0.6, \"showarrow\": true, \"x\": 85, \"xref\": \"x\", \"y\": 8224.9, \"yref\": \"y\"}, {\"arrowcolor\": \"FireBrick\", \"arrowhead\": 2, \"arrowsize\": 0.8, \"arrowwidth\": 4, \"ax\": 0, \"ay\": -15, \"hoverlabel\": {\"bgcolor\": \"FireBrick\"}, \"hovertext\": \"Step 85 [2018-05-18 18:00:00]<br>SELL 0.00626188 BTC @ 8209.1 USD MARKET<br>Total: 51.4 USD - Comm.: 0.00001884 BTC\", \"opacity\": 0.6, \"showarrow\": true, \"x\": 84, \"xref\": \"x\", \"y\": 8209.1, \"yref\": \"y\"}, {\"arrowcolor\": \"FireBrick\", \"arrowhead\": 2, \"arrowsize\": 0.8, \"arrowwidth\": 4, \"ax\": 0, \"ay\": -15, \"hoverlabel\": {\"bgcolor\": \"FireBrick\"}, \"hovertext\": \"Step 85 [2018-05-18 18:00:00]<br>SELL 0.04194981 BTC @ 8209.1 USD MARKET<br>Total: 344.37 USD - Comm.: 0.00012623 BTC\", \"opacity\": 0.6, \"showarrow\": true, \"x\": 84, \"xref\": \"x\", \"y\": 8209.1, \"yref\": \"y\"}, {\"arrowcolor\": \"FireBrick\", \"arrowhead\": 2, \"arrowsize\": 0.8, \"arrowwidth\": 4, \"ax\": 0, \"ay\": -15, \"hoverlabel\": {\"bgcolor\": \"FireBrick\"}, \"hovertext\": \"Step 85 [2018-05-18 18:00:00]<br>SELL 0.1681125 BTC @ 8209.1 USD MARKET<br>Total: 1380.05 USD - Comm.: 0.00050586 BTC\", \"opacity\": 0.6, \"showarrow\": true, \"x\": 84, \"xref\": \"x\", \"y\": 8209.1, \"yref\": \"y\"}, {\"arrowcolor\": \"FireBrick\", \"arrowhead\": 2, \"arrowsize\": 0.8, \"arrowwidth\": 4, \"ax\": 0, \"ay\": -15, \"hoverlabel\": {\"bgcolor\": \"FireBrick\"}, \"hovertext\": \"Step 83 [2018-05-18 16:00:00]<br>SELL 0.01004155 BTC @ 8130.0 USD MARKET<br>Total: 81.64 USD - Comm.: 0.00003022 BTC\", \"opacity\": 0.6, \"showarrow\": true, \"x\": 82, \"xref\": \"x\", \"y\": 8130.0, \"yref\": \"y\"}, {\"arrowcolor\": \"FireBrick\", \"arrowhead\": 2, \"arrowsize\": 0.8, \"arrowwidth\": 4, \"ax\": 0, \"ay\": -15, \"hoverlabel\": {\"bgcolor\": \"FireBrick\"}, \"hovertext\": \"Step 82 [2018-05-18 15:00:00]<br>SELL 0.01255194 BTC @ 8105.0 USD MARKET<br>Total: 101.73 USD - Comm.: 0.00003777 BTC\", \"opacity\": 0.6, \"showarrow\": true, \"x\": 81, \"xref\": \"x\", \"y\": 8105.0, \"yref\": \"y\"}, {\"arrowcolor\": \"FireBrick\", \"arrowhead\": 2, \"arrowsize\": 0.8, \"arrowwidth\": 4, \"ax\": 0, \"ay\": -15, \"hoverlabel\": {\"bgcolor\": \"FireBrick\"}, \"hovertext\": \"Step 81 [2018-05-18 14:00:00]<br>SELL 0.01568993 BTC @ 8074.9 USD MARKET<br>Total: 126.69 USD - Comm.: 0.00004721 BTC\", \"opacity\": 0.6, \"showarrow\": true, \"x\": 80, \"xref\": \"x\", \"y\": 8074.9, \"yref\": \"y\"}, {\"arrowcolor\": \"FireBrick\", \"arrowhead\": 2, \"arrowsize\": 0.8, \"arrowwidth\": 4, \"ax\": 0, \"ay\": -15, \"hoverlabel\": {\"bgcolor\": \"FireBrick\"}, \"hovertext\": \"Step 80 [2018-05-18 13:00:00]<br>SELL 0.01961241 BTC @ 8095.7 USD MARKET<br>Total: 158.78 USD - Comm.: 0.00005901 BTC\", \"opacity\": 0.6, \"showarrow\": true, \"x\": 79, \"xref\": \"x\", \"y\": 8095.7, \"yref\": \"y\"}, {\"arrowcolor\": \"FireBrick\", \"arrowhead\": 2, \"arrowsize\": 0.8, \"arrowwidth\": 4, \"ax\": 0, \"ay\": -15, \"hoverlabel\": {\"bgcolor\": \"FireBrick\"}, \"hovertext\": \"Step 79 [2018-05-18 12:00:00]<br>SELL 0.02451551 BTC @ 8105.5 USD MARKET<br>Total: 198.71 USD - Comm.: 0.00007377 BTC\", \"opacity\": 0.6, \"showarrow\": true, \"x\": 78, \"xref\": \"x\", \"y\": 8105.5, \"yref\": \"y\"}, {\"arrowcolor\": \"DarkGreen\", \"arrowhead\": 2, \"arrowsize\": 0.8, \"arrowwidth\": 4, \"ax\": 0, \"ay\": 15, \"hoverlabel\": {\"bgcolor\": \"DarkGreen\"}, \"hovertext\": \"Step 78 [2018-05-18 11:00:00]<br>BUY 0.07360859 BTC @ 8101.5 USD MARKET<br>Total: 596.34 USD - Comm.: 1.79 USD\", \"opacity\": 0.6, \"showarrow\": true, \"x\": 77, \"xref\": \"x\", \"y\": 8101.5, \"yref\": \"y\"}, {\"arrowcolor\": \"FireBrick\", \"arrowhead\": 2, \"arrowsize\": 0.8, \"arrowwidth\": 4, \"ax\": 0, \"ay\": -15, \"hoverlabel\": {\"bgcolor\": \"FireBrick\"}, \"hovertext\": \"Step 77 [2018-05-18 10:00:00]<br>SELL 0.03064439 BTC @ 8130.0 USD MARKET<br>Total: 249.14 USD - Comm.: 0.00009221 BTC\", \"opacity\": 0.6, \"showarrow\": true, \"x\": 76, \"xref\": \"x\", \"y\": 8130.0, \"yref\": \"y\"}, {\"arrowcolor\": \"DarkGreen\", \"arrowhead\": 2, \"arrowsize\": 0.8, \"arrowwidth\": 4, \"ax\": 0, \"ay\": 15, \"hoverlabel\": {\"bgcolor\": \"DarkGreen\"}, \"hovertext\": \"Step 76 [2018-05-18 09:00:00]<br>BUY 0.14720206 BTC @ 8102.4 USD MARKET<br>Total: 1192.69 USD - Comm.: 3.59 USD\", \"opacity\": 0.6, \"showarrow\": true, \"x\": 75, \"xref\": \"x\", \"y\": 8102.4, \"yref\": \"y\"}, {\"arrowcolor\": \"FireBrick\", \"arrowhead\": 2, \"arrowsize\": 0.8, \"arrowwidth\": 4, \"ax\": 0, \"ay\": -15, \"hoverlabel\": {\"bgcolor\": \"FireBrick\"}, \"hovertext\": \"Step 75 [2018-05-18 08:00:00]<br>SELL 0.03830549 BTC @ 8123.6 USD MARKET<br>Total: 311.18 USD - Comm.: 0.00011526 BTC\", \"opacity\": 0.6, \"showarrow\": true, \"x\": 74, \"xref\": \"x\", \"y\": 8123.6, \"yref\": \"y\"}, {\"arrowcolor\": \"FireBrick\", \"arrowhead\": 2, \"arrowsize\": 0.8, \"arrowwidth\": 4, \"ax\": 0, \"ay\": -15, \"hoverlabel\": {\"bgcolor\": \"FireBrick\"}, \"hovertext\": \"Step 75 [2018-05-18 08:00:00]<br>SELL 0.00315851 BTC @ 8123.6 USD MARKET<br>Total: 25.66 USD - Comm.: 0.00000950 BTC\", \"opacity\": 0.6, \"showarrow\": true, \"x\": 74, \"xref\": \"x\", \"y\": 8123.6, \"yref\": \"y\"}, {\"arrowcolor\": \"FireBrick\", \"arrowhead\": 2, \"arrowsize\": 0.8, \"arrowwidth\": 4, \"ax\": 0, \"ay\": -15, \"hoverlabel\": {\"bgcolor\": \"FireBrick\"}, \"hovertext\": \"Step 75 [2018-05-18 08:00:00]<br>SELL 0.28980152 BTC @ 8123.6 USD MARKET<br>Total: 2354.23 USD - Comm.: 0.00087202 BTC\", \"opacity\": 0.6, \"showarrow\": true, \"x\": 74, \"xref\": \"x\", \"y\": 8123.6, \"yref\": \"y\"}, {\"arrowcolor\": \"DarkGreen\", \"arrowhead\": 2, \"arrowsize\": 0.8, \"arrowwidth\": 4, \"ax\": 0, \"ay\": 15, \"hoverlabel\": {\"bgcolor\": \"DarkGreen\"}, \"hovertext\": \"Step 74 [2018-05-18 07:00:00]<br>BUY 0.00155968 BTC @ 8085.0 USD MARKET<br>Total: 12.61 USD - Comm.: 0.04 USD\", \"opacity\": 0.6, \"showarrow\": true, \"x\": 73, \"xref\": \"x\", \"y\": 8085.0, \"yref\": \"y\"}, {\"arrowcolor\": \"DarkGreen\", \"arrowhead\": 2, \"arrowsize\": 0.8, \"arrowwidth\": 4, \"ax\": 0, \"ay\": 15, \"hoverlabel\": {\"bgcolor\": \"DarkGreen\"}, \"hovertext\": \"Step 73 [2018-05-18 06:00:00]<br>BUY 0.00316801 BTC @ 7964.0 USD MARKET<br>Total: 25.23 USD - Comm.: 0.08 USD\", \"opacity\": 0.6, \"showarrow\": true, \"x\": 72, \"xref\": \"x\", \"y\": 7964.0, \"yref\": \"y\"}, {\"arrowcolor\": \"DarkGreen\", \"arrowhead\": 2, \"arrowsize\": 0.8, \"arrowwidth\": 4, \"ax\": 0, \"ay\": 15, \"hoverlabel\": {\"bgcolor\": \"DarkGreen\"}, \"hovertext\": \"Step 73 [2018-05-18 06:00:00]<br>BUY 0.01271346 BTC @ 7964.0 USD MARKET<br>Total: 101.25 USD - Comm.: 0.30 USD\", \"opacity\": 0.6, \"showarrow\": true, \"x\": 72, \"xref\": \"x\", \"y\": 7964.0, \"yref\": \"y\"}, {\"arrowcolor\": \"DarkGreen\", \"arrowhead\": 2, \"arrowsize\": 0.8, \"arrowwidth\": 4, \"ax\": 0, \"ay\": 15, \"hoverlabel\": {\"bgcolor\": \"DarkGreen\"}, \"hovertext\": \"Step 72 [2018-05-18 05:00:00]<br>BUY 0.00628072 BTC @ 8035.7 USD MARKET<br>Total: 50.47 USD - Comm.: 0.15 USD\", \"opacity\": 0.6, \"showarrow\": true, \"x\": 71, \"xref\": \"x\", \"y\": 8035.7, \"yref\": \"y\"}, {\"arrowcolor\": \"DarkGreen\", \"arrowhead\": 2, \"arrowsize\": 0.8, \"arrowwidth\": 4, \"ax\": 0, \"ay\": 15, \"hoverlabel\": {\"bgcolor\": \"DarkGreen\"}, \"hovertext\": \"Step 71 [2018-05-18 04:00:00]<br>BUY 0.02937999 BTC @ 8016.0 USD MARKET<br>Total: 235.51 USD - Comm.: 0.71 USD\", \"opacity\": 0.6, \"showarrow\": true, \"x\": 70, \"xref\": \"x\", \"y\": 8016.0, \"yref\": \"y\"}, {\"arrowcolor\": \"DarkGreen\", \"arrowhead\": 2, \"arrowsize\": 0.8, \"arrowwidth\": 4, \"ax\": 0, \"ay\": 15, \"hoverlabel\": {\"bgcolor\": \"DarkGreen\"}, \"hovertext\": \"Step 70 [2018-05-18 03:00:00]<br>BUY 0.04207604 BTC @ 7996.0 USD MARKET<br>Total: 336.44 USD - Comm.: 1.01 USD\", \"opacity\": 0.6, \"showarrow\": true, \"x\": 69, \"xref\": \"x\", \"y\": 7996.0, \"yref\": \"y\"}, {\"arrowcolor\": \"DarkGreen\", \"arrowhead\": 2, \"arrowsize\": 0.8, \"arrowwidth\": 4, \"ax\": 0, \"ay\": 15, \"hoverlabel\": {\"bgcolor\": \"DarkGreen\"}, \"hovertext\": \"Step 69 [2018-05-18 02:00:00]<br>BUY 0.08416155 BTC @ 7995.1 USD MARKET<br>Total: 672.88 USD - Comm.: 2.02 USD\", \"opacity\": 0.6, \"showarrow\": true, \"x\": 68, \"xref\": \"x\", \"y\": 7995.1, \"yref\": \"y\"}, {\"arrowcolor\": \"DarkGreen\", \"arrowhead\": 2, \"arrowsize\": 0.8, \"arrowwidth\": 4, \"ax\": 0, \"ay\": 15, \"hoverlabel\": {\"bgcolor\": \"DarkGreen\"}, \"hovertext\": \"Step 68 [2018-05-18 01:00:00]<br>BUY 0.16861836 BTC @ 7981.1 USD MARKET<br>Total: 1345.76 USD - Comm.: 4.05 USD\", \"opacity\": 0.6, \"showarrow\": true, \"x\": 67, \"xref\": \"x\", \"y\": 7981.1, \"yref\": \"y\"}, {\"arrowcolor\": \"DarkGreen\", \"arrowhead\": 2, \"arrowsize\": 0.8, \"arrowwidth\": 4, \"ax\": 0, \"ay\": 15, \"hoverlabel\": {\"bgcolor\": \"DarkGreen\"}, \"hovertext\": \"Step 68 [2018-05-18 01:00:00]<br>BUY 0.01136059 BTC @ 7981.1 USD MARKET<br>Total: 90.67 USD - Comm.: 0.27 USD\", \"opacity\": 0.6, \"showarrow\": true, \"x\": 67, \"xref\": \"x\", \"y\": 7981.1, \"yref\": \"y\"}, {\"arrowcolor\": \"DarkGreen\", \"arrowhead\": 2, \"arrowsize\": 0.8, \"arrowwidth\": 4, \"ax\": 0, \"ay\": 15, \"hoverlabel\": {\"bgcolor\": \"DarkGreen\"}, \"hovertext\": \"Step 68 [2018-05-18 01:00:00]<br>BUY 0.03167233 BTC @ 7981.1 USD MARKET<br>Total: 252.78 USD - Comm.: 0.76 USD\", \"opacity\": 0.6, \"showarrow\": true, \"x\": 67, \"xref\": \"x\", \"y\": 7981.1, \"yref\": \"y\"}, {\"arrowcolor\": \"DarkGreen\", \"arrowhead\": 2, \"arrowsize\": 0.8, \"arrowwidth\": 4, \"ax\": 0, \"ay\": 15, \"hoverlabel\": {\"bgcolor\": \"DarkGreen\"}, \"hovertext\": \"Step 67 [2018-05-18 00:00:00]<br>BUY 0.29067354 BTC @ 7958.0 USD MARKET<br>Total: 2313.18 USD - Comm.: 6.96 USD\", \"opacity\": 0.6, \"showarrow\": true, \"x\": 66, \"xref\": \"x\", \"y\": 7958.0, \"yref\": \"y\"}, {\"arrowcolor\": \"DarkGreen\", \"arrowhead\": 2, \"arrowsize\": 0.8, \"arrowwidth\": 4, \"ax\": 0, \"ay\": 15, \"hoverlabel\": {\"bgcolor\": \"DarkGreen\"}, \"hovertext\": \"Step 67 [2018-05-18 00:00:00]<br>BUY 0.01897839 BTC @ 7958.0 USD MARKET<br>Total: 151.03 USD - Comm.: 0.45 USD\", \"opacity\": 0.6, \"showarrow\": true, \"x\": 66, \"xref\": \"x\", \"y\": 7958.0, \"yref\": \"y\"}, {\"arrowcolor\": \"FireBrick\", \"arrowhead\": 2, \"arrowsize\": 0.8, \"arrowwidth\": 4, \"ax\": 0, \"ay\": -15, \"hoverlabel\": {\"bgcolor\": \"FireBrick\"}, \"hovertext\": \"Step 67 [2018-05-18 00:00:00]<br>SELL 0.04768522 BTC @ 7958.0 USD MARKET<br>Total: 379.48 USD - Comm.: 0.00014349 BTC\", \"opacity\": 0.6, \"showarrow\": true, \"x\": 66, \"xref\": \"x\", \"y\": 7958.0, \"yref\": \"y\"}, {\"arrowcolor\": \"DarkGreen\", \"arrowhead\": 2, \"arrowsize\": 0.8, \"arrowwidth\": 4, \"ax\": 0, \"ay\": 15, \"hoverlabel\": {\"bgcolor\": \"DarkGreen\"}, \"hovertext\": \"Step 67 [2018-05-18 00:00:00]<br>BUY 0.02529027 BTC @ 7958.0 USD MARKET<br>Total: 201.26 USD - Comm.: 0.61 USD\", \"opacity\": 0.6, \"showarrow\": true, \"x\": 66, \"xref\": \"x\", \"y\": 7958.0, \"yref\": \"y\"}, {\"arrowcolor\": \"DarkGreen\", \"arrowhead\": 2, \"arrowsize\": 0.8, \"arrowwidth\": 4, \"ax\": 0, \"ay\": 15, \"hoverlabel\": {\"bgcolor\": \"DarkGreen\"}, \"hovertext\": \"Step 67 [2018-05-18 00:00:00]<br>BUY 0.0398668 BTC @ 7958.0 USD MARKET<br>Total: 317.26 USD - Comm.: 0.95 USD\", \"opacity\": 0.6, \"showarrow\": true, \"x\": 66, \"xref\": \"x\", \"y\": 7958.0, \"yref\": \"y\"}, {\"arrowcolor\": \"DarkGreen\", \"arrowhead\": 2, \"arrowsize\": 0.8, \"arrowwidth\": 4, \"ax\": 0, \"ay\": 15, \"hoverlabel\": {\"bgcolor\": \"DarkGreen\"}, \"hovertext\": \"Step 66 [2018-05-17 23:00:00]<br>BUY 0.13360193 BTC @ 8054.3 USD MARKET<br>Total: 1076.07 USD - Comm.: 3.24 USD\", \"opacity\": 0.6, \"showarrow\": true, \"x\": 65, \"xref\": \"x\", \"y\": 8054.3, \"yref\": \"y\"}, {\"arrowcolor\": \"FireBrick\", \"arrowhead\": 2, \"arrowsize\": 0.8, \"arrowwidth\": 4, \"ax\": 0, \"ay\": -15, \"hoverlabel\": {\"bgcolor\": \"FireBrick\"}, \"hovertext\": \"Step 66 [2018-05-17 23:00:00]<br>SELL 0.04010861 BTC @ 8054.3 USD MARKET<br>Total: 323.05 USD - Comm.: 0.00012069 BTC\", \"opacity\": 0.6, \"showarrow\": true, \"x\": 65, \"xref\": \"x\", \"y\": 8054.3, \"yref\": \"y\"}, {\"arrowcolor\": \"DarkGreen\", \"arrowhead\": 2, \"arrowsize\": 0.8, \"arrowwidth\": 4, \"ax\": 0, \"ay\": 15, \"hoverlabel\": {\"bgcolor\": \"DarkGreen\"}, \"hovertext\": \"Step 66 [2018-05-17 23:00:00]<br>BUY 0.01595049 BTC @ 8054.3 USD MARKET<br>Total: 128.47 USD - Comm.: 0.39 USD\", \"opacity\": 0.6, \"showarrow\": true, \"x\": 65, \"xref\": \"x\", \"y\": 8054.3, \"yref\": \"y\"}, {\"arrowcolor\": \"DarkGreen\", \"arrowhead\": 2, \"arrowsize\": 0.8, \"arrowwidth\": 4, \"ax\": 0, \"ay\": 15, \"hoverlabel\": {\"bgcolor\": \"DarkGreen\"}, \"hovertext\": \"Step 65 [2018-05-17 22:00:00]<br>BUY 0.01993209 BTC @ 8069.9 USD MARKET<br>Total: 160.85 USD - Comm.: 0.48 USD\", \"opacity\": 0.6, \"showarrow\": true, \"x\": 64, \"xref\": \"x\", \"y\": 8069.9, \"yref\": \"y\"}, {\"arrowcolor\": \"DarkGreen\", \"arrowhead\": 2, \"arrowsize\": 0.8, \"arrowwidth\": 4, \"ax\": 0, \"ay\": 15, \"hoverlabel\": {\"bgcolor\": \"DarkGreen\"}, \"hovertext\": \"Step 63 [2018-05-17 20:00:00]<br>BUY 0.43710167 BTC @ 8206.1 USD MARKET<br>Total: 3586.9 USD - Comm.: 10.79 USD\", \"opacity\": 0.6, \"showarrow\": true, \"x\": 62, \"xref\": \"x\", \"y\": 8206.1, \"yref\": \"y\"}, {\"arrowcolor\": \"DarkGreen\", \"arrowhead\": 2, \"arrowsize\": 0.8, \"arrowwidth\": 4, \"ax\": 0, \"ay\": 15, \"hoverlabel\": {\"bgcolor\": \"DarkGreen\"}, \"hovertext\": \"Step 150 [2018-05-21 11:00:00]<br>BUY 0.17852209 BTC @ 8483.6 USD MARKET<br>Total: 1514.51 USD - Comm.: 4.56 USD\", \"opacity\": 0.6, \"showarrow\": true, \"x\": 149, \"xref\": \"x\", \"y\": 8483.6, \"yref\": \"y\"}, {\"arrowcolor\": \"DarkGreen\", \"arrowhead\": 2, \"arrowsize\": 0.8, \"arrowwidth\": 4, \"ax\": 0, \"ay\": 15, \"hoverlabel\": {\"bgcolor\": \"DarkGreen\"}, \"hovertext\": \"Step 149 [2018-05-21 10:00:00]<br>BUY 0.35768504 BTC @ 8468.4 USD MARKET<br>Total: 3029.02 USD - Comm.: 9.11 USD\", \"opacity\": 0.6, \"showarrow\": true, \"x\": 148, \"xref\": \"x\", \"y\": 8468.4, \"yref\": \"y\"}, {\"arrowcolor\": \"DarkGreen\", \"arrowhead\": 2, \"arrowsize\": 0.8, \"arrowwidth\": 4, \"ax\": 0, \"ay\": 15, \"hoverlabel\": {\"bgcolor\": \"DarkGreen\"}, \"hovertext\": \"Step 148 [2018-05-21 09:00:00]<br>BUY 0.47650786 BTC @ 8475.6 USD MARKET<br>Total: 4038.69 USD - Comm.: 12.15 USD\", \"opacity\": 0.6, \"showarrow\": true, \"x\": 147, \"xref\": \"x\", \"y\": 8475.6, \"yref\": \"y\"}, {\"arrowcolor\": \"FireBrick\", \"arrowhead\": 2, \"arrowsize\": 0.8, \"arrowwidth\": 4, \"ax\": 0, \"ay\": -15, \"hoverlabel\": {\"bgcolor\": \"FireBrick\"}, \"hovertext\": \"Step 146 [2018-05-21 07:00:00]<br>SELL 0.01927978 BTC @ 8528.1 USD MARKET<br>Total: 164.42 USD - Comm.: 0.00005801 BTC\", \"opacity\": 0.6, \"showarrow\": true, \"x\": 145, \"xref\": \"x\", \"y\": 8528.1, \"yref\": \"y\"}, {\"arrowcolor\": \"FireBrick\", \"arrowhead\": 2, \"arrowsize\": 0.8, \"arrowwidth\": 4, \"ax\": 0, \"ay\": -15, \"hoverlabel\": {\"bgcolor\": \"FireBrick\"}, \"hovertext\": \"Step 135 [2018-05-20 20:00:00]<br>SELL 0.03736378 BTC @ 8551.5 USD MARKET<br>Total: 319.52 USD - Comm.: 0.00011243 BTC\", \"opacity\": 0.6, \"showarrow\": true, \"x\": 134, \"xref\": \"x\", \"y\": 8551.5, \"yref\": \"y\"}, {\"arrowcolor\": \"DarkGreen\", \"arrowhead\": 2, \"arrowsize\": 0.8, \"arrowwidth\": 4, \"ax\": 0, \"ay\": 15, \"hoverlabel\": {\"bgcolor\": \"DarkGreen\"}, \"hovertext\": \"Step 134 [2018-05-20 19:00:00]<br>BUY 0.04430818 BTC @ 8513.1 USD MARKET<br>Total: 377.2 USD - Comm.: 1.14 USD\", \"opacity\": 0.6, \"showarrow\": true, \"x\": 133, \"xref\": \"x\", \"y\": 8513.1, \"yref\": \"y\"}, {\"arrowcolor\": \"FireBrick\", \"arrowhead\": 2, \"arrowsize\": 0.8, \"arrowwidth\": 4, \"ax\": 0, \"ay\": -15, \"hoverlabel\": {\"bgcolor\": \"FireBrick\"}, \"hovertext\": \"Step 133 [2018-05-20 18:00:00]<br>SELL 0.59480002 BTC @ 8519.5 USD MARKET<br>Total: 5067.4 USD - Comm.: 0.00178977 BTC\", \"opacity\": 0.6, \"showarrow\": true, \"x\": 132, \"xref\": \"x\", \"y\": 8519.5, \"yref\": \"y\"}, {\"arrowcolor\": \"DarkGreen\", \"arrowhead\": 2, \"arrowsize\": 0.8, \"arrowwidth\": 4, \"ax\": 0, \"ay\": 15, \"hoverlabel\": {\"bgcolor\": \"DarkGreen\"}, \"hovertext\": \"Step 133 [2018-05-20 18:00:00]<br>BUY 0.78791831 BTC @ 8519.5 USD MARKET<br>Total: 6712.67 USD - Comm.: 20.20 USD\", \"opacity\": 0.6, \"showarrow\": true, \"x\": 132, \"xref\": \"x\", \"y\": 8519.5, \"yref\": \"y\"}, {\"arrowcolor\": \"FireBrick\", \"arrowhead\": 2, \"arrowsize\": 0.8, \"arrowwidth\": 4, \"ax\": 0, \"ay\": -15, \"hoverlabel\": {\"bgcolor\": \"FireBrick\"}, \"hovertext\": \"Step 132 [2018-05-20 17:00:00]<br>SELL 0.00930927 BTC @ 8517.8 USD MARKET<br>Total: 79.29 USD - Comm.: 0.00002801 BTC\", \"opacity\": 0.6, \"showarrow\": true, \"x\": 131, \"xref\": \"x\", \"y\": 8517.8, \"yref\": \"y\"}, {\"arrowcolor\": \"FireBrick\", \"arrowhead\": 2, \"arrowsize\": 0.8, \"arrowwidth\": 4, \"ax\": 0, \"ay\": -15, \"hoverlabel\": {\"bgcolor\": \"FireBrick\"}, \"hovertext\": \"Step 132 [2018-05-20 17:00:00]<br>SELL 0.14929039 BTC @ 8517.8 USD MARKET<br>Total: 1271.63 USD - Comm.: 0.00044922 BTC\", \"opacity\": 0.6, \"showarrow\": true, \"x\": 131, \"xref\": \"x\", \"y\": 8517.8, \"yref\": \"y\"}, {\"arrowcolor\": \"DarkGreen\", \"arrowhead\": 2, \"arrowsize\": 0.8, \"arrowwidth\": 4, \"ax\": 0, \"ay\": 15, \"hoverlabel\": {\"bgcolor\": \"DarkGreen\"}, \"hovertext\": \"Step 132 [2018-05-20 17:00:00]<br>BUY 0.01063772 BTC @ 8517.8 USD MARKET<br>Total: 90.61 USD - Comm.: 0.27 USD\", \"opacity\": 0.6, \"showarrow\": true, \"x\": 131, \"xref\": \"x\", \"y\": 8517.8, \"yref\": \"y\"}, {\"arrowcolor\": \"DarkGreen\", \"arrowhead\": 2, \"arrowsize\": 0.8, \"arrowwidth\": 4, \"ax\": 0, \"ay\": 15, \"hoverlabel\": {\"bgcolor\": \"DarkGreen\"}, \"hovertext\": \"Step 132 [2018-05-20 17:00:00]<br>BUY 0.04598136 BTC @ 8517.8 USD MARKET<br>Total: 391.66 USD - Comm.: 1.18 USD\", \"opacity\": 0.6, \"showarrow\": true, \"x\": 131, \"xref\": \"x\", \"y\": 8517.8, \"yref\": \"y\"}, {\"arrowcolor\": \"DarkGreen\", \"arrowhead\": 2, \"arrowsize\": 0.8, \"arrowwidth\": 4, \"ax\": 0, \"ay\": 15, \"hoverlabel\": {\"bgcolor\": \"DarkGreen\"}, \"hovertext\": \"Step 132 [2018-05-20 17:00:00]<br>BUY 1.52610416 BTC @ 8517.8 USD MARKET<br>Total: 12999.05 USD - Comm.: 39.11 USD\", \"opacity\": 0.6, \"showarrow\": true, \"x\": 131, \"xref\": \"x\", \"y\": 8517.8, \"yref\": \"y\"}, {\"arrowcolor\": \"FireBrick\", \"arrowhead\": 2, \"arrowsize\": 0.8, \"arrowwidth\": 4, \"ax\": 0, \"ay\": -15, \"hoverlabel\": {\"bgcolor\": \"FireBrick\"}, \"hovertext\": \"Step 131 [2018-05-20 16:00:00]<br>SELL 0.01865874 BTC @ 8484.6 USD MARKET<br>Total: 158.31 USD - Comm.: 0.00005614 BTC\", \"opacity\": 0.6, \"showarrow\": true, \"x\": 130, \"xref\": \"x\", \"y\": 8484.6, \"yref\": \"y\"}, {\"arrowcolor\": \"FireBrick\", \"arrowhead\": 2, \"arrowsize\": 0.8, \"arrowwidth\": 4, \"ax\": 0, \"ay\": -15, \"hoverlabel\": {\"bgcolor\": \"FireBrick\"}, \"hovertext\": \"Step 131 [2018-05-20 16:00:00]<br>SELL 0.07473148 BTC @ 8484.6 USD MARKET<br>Total: 634.07 USD - Comm.: 0.00022487 BTC\", \"opacity\": 0.6, \"showarrow\": true, \"x\": 130, \"xref\": \"x\", \"y\": 8484.6, \"yref\": \"y\"}, {\"arrowcolor\": \"FireBrick\", \"arrowhead\": 2, \"arrowsize\": 0.8, \"arrowwidth\": 4, \"ax\": 0, \"ay\": -15, \"hoverlabel\": {\"bgcolor\": \"FireBrick\"}, \"hovertext\": \"Step 131 [2018-05-20 16:00:00]<br>SELL 0.29876171 BTC @ 8484.6 USD MARKET<br>Total: 2534.87 USD - Comm.: 0.00089898 BTC\", \"opacity\": 0.6, \"showarrow\": true, \"x\": 130, \"xref\": \"x\", \"y\": 8484.6, \"yref\": \"y\"}, {\"arrowcolor\": \"DarkGreen\", \"arrowhead\": 2, \"arrowsize\": 0.8, \"arrowwidth\": 4, \"ax\": 0, \"ay\": 15, \"hoverlabel\": {\"bgcolor\": \"DarkGreen\"}, \"hovertext\": \"Step 131 [2018-05-20 16:00:00]<br>BUY 0.01505316 BTC @ 8484.6 USD MARKET<br>Total: 127.72 USD - Comm.: 0.38 USD\", \"opacity\": 0.6, \"showarrow\": true, \"x\": 130, \"xref\": \"x\", \"y\": 8484.6, \"yref\": \"y\"}, {\"arrowcolor\": \"DarkGreen\", \"arrowhead\": 2, \"arrowsize\": 0.8, \"arrowwidth\": 4, \"ax\": 0, \"ay\": 15, \"hoverlabel\": {\"bgcolor\": \"DarkGreen\"}, \"hovertext\": \"Step 131 [2018-05-20 16:00:00]<br>BUY 0.01325578 BTC @ 8484.6 USD MARKET<br>Total: 112.47 USD - Comm.: 0.34 USD\", \"opacity\": 0.6, \"showarrow\": true, \"x\": 130, \"xref\": \"x\", \"y\": 8484.6, \"yref\": \"y\"}, {\"arrowcolor\": \"DarkGreen\", \"arrowhead\": 2, \"arrowsize\": 0.8, \"arrowwidth\": 4, \"ax\": 0, \"ay\": 15, \"hoverlabel\": {\"bgcolor\": \"DarkGreen\"}, \"hovertext\": \"Step 131 [2018-05-20 16:00:00]<br>BUY 0.0747083 BTC @ 8484.6 USD MARKET<br>Total: 633.87 USD - Comm.: 1.91 USD\", \"opacity\": 0.6, \"showarrow\": true, \"x\": 130, \"xref\": \"x\", \"y\": 8484.6, \"yref\": \"y\"}, {\"arrowcolor\": \"DarkGreen\", \"arrowhead\": 2, \"arrowsize\": 0.8, \"arrowwidth\": 4, \"ax\": 0, \"ay\": 15, \"hoverlabel\": {\"bgcolor\": \"DarkGreen\"}, \"hovertext\": \"Step 131 [2018-05-20 16:00:00]<br>BUY 0.39626735 BTC @ 8484.6 USD MARKET<br>Total: 3362.17 USD - Comm.: 10.12 USD\", \"opacity\": 0.6, \"showarrow\": true, \"x\": 130, \"xref\": \"x\", \"y\": 8484.6, \"yref\": \"y\"}, {\"arrowcolor\": \"DarkGreen\", \"arrowhead\": 2, \"arrowsize\": 0.8, \"arrowwidth\": 4, \"ax\": 0, \"ay\": 15, \"hoverlabel\": {\"bgcolor\": \"DarkGreen\"}, \"hovertext\": \"Step 131 [2018-05-20 16:00:00]<br>BUY 1.58833534 BTC @ 8484.6 USD MARKET<br>Total: 13476.39 USD - Comm.: 40.55 USD\", \"opacity\": 0.6, \"showarrow\": true, \"x\": 130, \"xref\": \"x\", \"y\": 8484.6, \"yref\": \"y\"}, {\"arrowcolor\": \"DarkGreen\", \"arrowhead\": 2, \"arrowsize\": 0.8, \"arrowwidth\": 4, \"ax\": 0, \"ay\": 15, \"hoverlabel\": {\"bgcolor\": \"DarkGreen\"}, \"hovertext\": \"Step 131 [2018-05-20 16:00:00]<br>BUY 1.91390166 BTC @ 8484.6 USD MARKET<br>Total: 16238.69 USD - Comm.: 48.86 USD\", \"opacity\": 0.6, \"showarrow\": true, \"x\": 130, \"xref\": \"x\", \"y\": 8484.6, \"yref\": \"y\"}, {\"arrowcolor\": \"DarkGreen\", \"arrowhead\": 2, \"arrowsize\": 0.8, \"arrowwidth\": 4, \"ax\": 0, \"ay\": 15, \"hoverlabel\": {\"bgcolor\": \"DarkGreen\"}, \"hovertext\": \"Step 124 [2018-05-20 09:00:00]<br>BUY 0.00185192 BTC @ 8342.7 USD MARKET<br>Total: 15.45 USD - Comm.: 0.05 USD\", \"opacity\": 0.6, \"showarrow\": true, \"x\": 123, \"xref\": \"x\", \"y\": 8342.7, \"yref\": \"y\"}, {\"arrowcolor\": \"DarkGreen\", \"arrowhead\": 2, \"arrowsize\": 0.8, \"arrowwidth\": 4, \"ax\": 0, \"ay\": 15, \"hoverlabel\": {\"bgcolor\": \"DarkGreen\"}, \"hovertext\": \"Step 123 [2018-05-20 08:00:00]<br>BUY 0.00933728 BTC @ 8276.5 USD MARKET<br>Total: 77.28 USD - Comm.: 0.23 USD\", \"opacity\": 0.6, \"showarrow\": true, \"x\": 122, \"xref\": \"x\", \"y\": 8276.5, \"yref\": \"y\"}, {\"arrowcolor\": \"DarkGreen\", \"arrowhead\": 2, \"arrowsize\": 0.8, \"arrowwidth\": 4, \"ax\": 0, \"ay\": 15, \"hoverlabel\": {\"bgcolor\": \"DarkGreen\"}, \"hovertext\": \"Step 122 [2018-05-20 07:00:00]<br>BUY 0.01871488 BTC @ 8257.6 USD MARKET<br>Total: 154.54 USD - Comm.: 0.47 USD\", \"opacity\": 0.6, \"showarrow\": true, \"x\": 121, \"xref\": \"x\", \"y\": 8257.6, \"yref\": \"y\"}, {\"arrowcolor\": \"DarkGreen\", \"arrowhead\": 2, \"arrowsize\": 0.8, \"arrowwidth\": 4, \"ax\": 0, \"ay\": 15, \"hoverlabel\": {\"bgcolor\": \"DarkGreen\"}, \"hovertext\": \"Step 121 [2018-05-20 06:00:00]<br>BUY 0.03747621 BTC @ 8247.9 USD MARKET<br>Total: 309.1 USD - Comm.: 0.93 USD\", \"opacity\": 0.6, \"showarrow\": true, \"x\": 120, \"xref\": \"x\", \"y\": 8247.9, \"yref\": \"y\"}, {\"arrowcolor\": \"DarkGreen\", \"arrowhead\": 2, \"arrowsize\": 0.8, \"arrowwidth\": 4, \"ax\": 0, \"ay\": 15, \"hoverlabel\": {\"bgcolor\": \"DarkGreen\"}, \"hovertext\": \"Step 120 [2018-05-20 05:00:00]<br>BUY 0.07495635 BTC @ 8247.6 USD MARKET<br>Total: 618.21 USD - Comm.: 1.86 USD\", \"opacity\": 0.6, \"showarrow\": true, \"x\": 119, \"xref\": \"x\", \"y\": 8247.6, \"yref\": \"y\"}, {\"arrowcolor\": \"DarkGreen\", \"arrowhead\": 2, \"arrowsize\": 0.8, \"arrowwidth\": 4, \"ax\": 0, \"ay\": 15, \"hoverlabel\": {\"bgcolor\": \"DarkGreen\"}, \"hovertext\": \"Step 119 [2018-05-20 04:00:00]<br>BUY 0.14973961 BTC @ 8257.0 USD MARKET<br>Total: 1236.4 USD - Comm.: 3.72 USD\", \"opacity\": 0.6, \"showarrow\": true, \"x\": 118, \"xref\": \"x\", \"y\": 8257.0, \"yref\": \"y\"}, {\"arrowcolor\": \"DarkGreen\", \"arrowhead\": 2, \"arrowsize\": 0.8, \"arrowwidth\": 4, \"ax\": 0, \"ay\": 15, \"hoverlabel\": {\"bgcolor\": \"DarkGreen\"}, \"hovertext\": \"Step 118 [2018-05-20 03:00:00]<br>BUY 0.29966069 BTC @ 8252.0 USD MARKET<br>Total: 2472.8 USD - Comm.: 7.44 USD\", \"opacity\": 0.6, \"showarrow\": true, \"x\": 117, \"xref\": \"x\", \"y\": 8252.0, \"yref\": \"y\"}, {\"arrowcolor\": \"DarkGreen\", \"arrowhead\": 2, \"arrowsize\": 0.8, \"arrowwidth\": 4, \"ax\": 0, \"ay\": 15, \"hoverlabel\": {\"bgcolor\": \"DarkGreen\"}, \"hovertext\": \"Step 109 [2018-05-19 18:00:00]<br>BUY 0.59658979 BTC @ 8289.8 USD MARKET<br>Total: 4945.61 USD - Comm.: 14.88 USD\", \"opacity\": 0.6, \"showarrow\": true, \"x\": 108, \"xref\": \"x\", \"y\": 8289.8, \"yref\": \"y\"}, {\"arrowcolor\": \"FireBrick\", \"arrowhead\": 2, \"arrowsize\": 0.8, \"arrowwidth\": 4, \"ax\": 0, \"ay\": -15, \"hoverlabel\": {\"bgcolor\": \"FireBrick\"}, \"hovertext\": \"Step 105 [2018-05-19 14:00:00]<br>SELL 0.07338776 BTC @ 8302.7 USD MARKET<br>Total: 609.32 USD - Comm.: 0.00022083 BTC\", \"opacity\": 0.6, \"showarrow\": true, \"x\": 104, \"xref\": \"x\", \"y\": 8302.7, \"yref\": \"y\"}, {\"arrowcolor\": \"DarkGreen\", \"arrowhead\": 2, \"arrowsize\": 0.8, \"arrowwidth\": 4, \"ax\": 0, \"ay\": 15, \"hoverlabel\": {\"bgcolor\": \"DarkGreen\"}, \"hovertext\": \"Step 104 [2018-05-19 13:00:00]<br>BUY 0.00960413 BTC @ 8300.6 USD MARKET<br>Total: 79.72 USD - Comm.: 0.24 USD\", \"opacity\": 0.6, \"showarrow\": true, \"x\": 103, \"xref\": \"x\", \"y\": 8300.6, \"yref\": \"y\"}, {\"arrowcolor\": \"FireBrick\", \"arrowhead\": 2, \"arrowsize\": 0.8, \"arrowwidth\": 4, \"ax\": 0, \"ay\": -15, \"hoverlabel\": {\"bgcolor\": \"FireBrick\"}, \"hovertext\": \"Step 104 [2018-05-19 13:00:00]<br>SELL 0.001555 BTC @ 8300.6 USD MARKET<br>Total: 12.91 USD - Comm.: 0.00000468 BTC\", \"opacity\": 0.6, \"showarrow\": true, \"x\": 103, \"xref\": \"x\", \"y\": 8300.6, \"yref\": \"y\"}, {\"arrowcolor\": \"DarkGreen\", \"arrowhead\": 2, \"arrowsize\": 0.8, \"arrowwidth\": 4, \"ax\": 0, \"ay\": 15, \"hoverlabel\": {\"bgcolor\": \"DarkGreen\"}, \"hovertext\": \"Step 103 [2018-05-19 12:00:00]<br>BUY 0.0184022 BTC @ 8345.2 USD MARKET<br>Total: 153.57 USD - Comm.: 0.46 USD\", \"opacity\": 0.6, \"showarrow\": true, \"x\": 102, \"xref\": \"x\", \"y\": 8345.2, \"yref\": \"y\"}, {\"arrowcolor\": \"FireBrick\", \"arrowhead\": 2, \"arrowsize\": 0.8, \"arrowwidth\": 4, \"ax\": 0, \"ay\": -15, \"hoverlabel\": {\"bgcolor\": \"FireBrick\"}, \"hovertext\": \"Step 103 [2018-05-19 12:00:00]<br>SELL 0.14676045 BTC @ 8345.2 USD MARKET<br>Total: 1224.75 USD - Comm.: 0.00044161 BTC\", \"opacity\": 0.6, \"showarrow\": true, \"x\": 102, \"xref\": \"x\", \"y\": 8345.2, \"yref\": \"y\"}, {\"arrowcolor\": \"FireBrick\", \"arrowhead\": 2, \"arrowsize\": 0.8, \"arrowwidth\": 4, \"ax\": 0, \"ay\": -15, \"hoverlabel\": {\"bgcolor\": \"FireBrick\"}, \"hovertext\": \"Step 103 [2018-05-19 12:00:00]<br>SELL 0.13320112 BTC @ 8345.2 USD MARKET<br>Total: 1111.59 USD - Comm.: 0.00040081 BTC\", \"opacity\": 0.6, \"showarrow\": true, \"x\": 102, \"xref\": \"x\", \"y\": 8345.2, \"yref\": \"y\"}, {\"arrowcolor\": \"DarkGreen\", \"arrowhead\": 2, \"arrowsize\": 0.8, \"arrowwidth\": 4, \"ax\": 0, \"ay\": 15, \"hoverlabel\": {\"bgcolor\": \"DarkGreen\"}, \"hovertext\": \"Step 102 [2018-05-19 11:00:00]<br>BUY 0.01170007 BTC @ 8382.0 USD MARKET<br>Total: 98.07 USD - Comm.: 0.30 USD\", \"opacity\": 0.6, \"showarrow\": true, \"x\": 101, \"xref\": \"x\", \"y\": 8382.0, \"yref\": \"y\"}, {\"arrowcolor\": \"DarkGreen\", \"arrowhead\": 2, \"arrowsize\": 0.8, \"arrowwidth\": 4, \"ax\": 0, \"ay\": 15, \"hoverlabel\": {\"bgcolor\": \"DarkGreen\"}, \"hovertext\": \"Step 102 [2018-05-19 11:00:00]<br>BUY 0.02285612 BTC @ 8382.0 USD MARKET<br>Total: 191.58 USD - Comm.: 0.58 USD\", \"opacity\": 0.6, \"showarrow\": true, \"x\": 101, \"xref\": \"x\", \"y\": 8382.0, \"yref\": \"y\"}, {\"arrowcolor\": \"DarkGreen\", \"arrowhead\": 2, \"arrowsize\": 0.8, \"arrowwidth\": 4, \"ax\": 0, \"ay\": 15, \"hoverlabel\": {\"bgcolor\": \"DarkGreen\"}, \"hovertext\": \"Step 102 [2018-05-19 11:00:00]<br>BUY 0.02874254 BTC @ 8382.0 USD MARKET<br>Total: 240.92 USD - Comm.: 0.72 USD\", \"opacity\": 0.6, \"showarrow\": true, \"x\": 101, \"xref\": \"x\", \"y\": 8382.0, \"yref\": \"y\"}, {\"arrowcolor\": \"DarkGreen\", \"arrowhead\": 2, \"arrowsize\": 0.8, \"arrowwidth\": 4, \"ax\": 0, \"ay\": 15, \"hoverlabel\": {\"bgcolor\": \"DarkGreen\"}, \"hovertext\": \"Step 102 [2018-05-19 11:00:00]<br>BUY 0.03587211 BTC @ 8382.0 USD MARKET<br>Total: 300.68 USD - Comm.: 0.90 USD\", \"opacity\": 0.6, \"showarrow\": true, \"x\": 101, \"xref\": \"x\", \"y\": 8382.0, \"yref\": \"y\"}, {\"arrowcolor\": \"FireBrick\", \"arrowhead\": 2, \"arrowsize\": 0.8, \"arrowwidth\": 4, \"ax\": 0, \"ay\": -15, \"hoverlabel\": {\"bgcolor\": \"FireBrick\"}, \"hovertext\": \"Step 102 [2018-05-19 11:00:00]<br>SELL 0.02929185 BTC @ 8382.0 USD MARKET<br>Total: 245.52 USD - Comm.: 0.00008814 BTC\", \"opacity\": 0.6, \"showarrow\": true, \"x\": 101, \"xref\": \"x\", \"y\": 8382.0, \"yref\": \"y\"}, {\"arrowcolor\": \"FireBrick\", \"arrowhead\": 2, \"arrowsize\": 0.8, \"arrowwidth\": 4, \"ax\": 0, \"ay\": -15, \"hoverlabel\": {\"bgcolor\": \"FireBrick\"}, \"hovertext\": \"Step 102 [2018-05-19 11:00:00]<br>SELL 0.43579036 BTC @ 8382.0 USD MARKET<br>Total: 3652.79 USD - Comm.: 0.00131131 BTC\", \"opacity\": 0.6, \"showarrow\": true, \"x\": 101, \"xref\": \"x\", \"y\": 8382.0, \"yref\": \"y\"}, {\"arrowcolor\": \"DarkGreen\", \"arrowhead\": 2, \"arrowsize\": 0.8, \"arrowwidth\": 4, \"ax\": 0, \"ay\": 15, \"hoverlabel\": {\"bgcolor\": \"DarkGreen\"}, \"hovertext\": \"Step 199 [2018-05-23 12:00:00]<br>BUY 0.00222619 BTC @ 7905.9 USD MARKET<br>Total: 17.6 USD - Comm.: 0.05 USD\", \"opacity\": 0.6, \"showarrow\": true, \"x\": 198, \"xref\": \"x\", \"y\": 7905.9, \"yref\": \"y\"}, {\"arrowcolor\": \"DarkGreen\", \"arrowhead\": 2, \"arrowsize\": 0.8, \"arrowwidth\": 4, \"ax\": 0, \"ay\": 15, \"hoverlabel\": {\"bgcolor\": \"DarkGreen\"}, \"hovertext\": \"Step 198 [2018-05-23 11:00:00]<br>BUY 0.00224108 BTC @ 7848.9 USD MARKET<br>Total: 17.59 USD - Comm.: 0.05 USD\", \"opacity\": 0.6, \"showarrow\": true, \"x\": 197, \"xref\": \"x\", \"y\": 7848.9, \"yref\": \"y\"}, {\"arrowcolor\": \"DarkGreen\", \"arrowhead\": 2, \"arrowsize\": 0.8, \"arrowwidth\": 4, \"ax\": 0, \"ay\": 15, \"hoverlabel\": {\"bgcolor\": \"DarkGreen\"}, \"hovertext\": \"Step 197 [2018-05-23 10:00:00]<br>BUY 0.00264672 BTC @ 7839.9 USD MARKET<br>Total: 20.75 USD - Comm.: 0.06 USD\", \"opacity\": 0.6, \"showarrow\": true, \"x\": 196, \"xref\": \"x\", \"y\": 7839.9, \"yref\": \"y\"}, {\"arrowcolor\": \"FireBrick\", \"arrowhead\": 2, \"arrowsize\": 0.8, \"arrowwidth\": 4, \"ax\": 0, \"ay\": -15, \"hoverlabel\": {\"bgcolor\": \"FireBrick\"}, \"hovertext\": \"Step 197 [2018-05-23 10:00:00]<br>SELL 0.00184636 BTC @ 7839.9 USD MARKET<br>Total: 14.48 USD - Comm.: 0.00000556 BTC\", \"opacity\": 0.6, \"showarrow\": true, \"x\": 196, \"xref\": \"x\", \"y\": 7839.9, \"yref\": \"y\"}, {\"arrowcolor\": \"DarkGreen\", \"arrowhead\": 2, \"arrowsize\": 0.8, \"arrowwidth\": 4, \"ax\": 0, \"ay\": 15, \"hoverlabel\": {\"bgcolor\": \"DarkGreen\"}, \"hovertext\": \"Step 196 [2018-05-23 09:00:00]<br>BUY 0.00528999 BTC @ 7845.0 USD MARKET<br>Total: 41.5 USD - Comm.: 0.12 USD\", \"opacity\": 0.6, \"showarrow\": true, \"x\": 195, \"xref\": \"x\", \"y\": 7845.0, \"yref\": \"y\"}, {\"arrowcolor\": \"DarkGreen\", \"arrowhead\": 2, \"arrowsize\": 0.8, \"arrowwidth\": 4, \"ax\": 0, \"ay\": 15, \"hoverlabel\": {\"bgcolor\": \"DarkGreen\"}, \"hovertext\": \"Step 195 [2018-05-23 08:00:00]<br>BUY 0.01057804 BTC @ 7845.5 USD MARKET<br>Total: 82.99 USD - Comm.: 0.25 USD\", \"opacity\": 0.6, \"showarrow\": true, \"x\": 194, \"xref\": \"x\", \"y\": 7845.5, \"yref\": \"y\"}, {\"arrowcolor\": \"DarkGreen\", \"arrowhead\": 2, \"arrowsize\": 0.8, \"arrowwidth\": 4, \"ax\": 0, \"ay\": 15, \"hoverlabel\": {\"bgcolor\": \"DarkGreen\"}, \"hovertext\": \"Step 194 [2018-05-23 07:00:00]<br>BUY 0.02115985 BTC @ 7844.1 USD MARKET<br>Total: 165.98 USD - Comm.: 0.50 USD\", \"opacity\": 0.6, \"showarrow\": true, \"x\": 193, \"xref\": \"x\", \"y\": 7844.1, \"yref\": \"y\"}, {\"arrowcolor\": \"DarkGreen\", \"arrowhead\": 2, \"arrowsize\": 0.8, \"arrowwidth\": 4, \"ax\": 0, \"ay\": 15, \"hoverlabel\": {\"bgcolor\": \"DarkGreen\"}, \"hovertext\": \"Step 193 [2018-05-23 06:00:00]<br>BUY 0.01044925 BTC @ 7942.2 USD MARKET<br>Total: 82.99 USD - Comm.: 0.25 USD\", \"opacity\": 0.6, \"showarrow\": true, \"x\": 192, \"xref\": \"x\", \"y\": 7942.2, \"yref\": \"y\"}, {\"arrowcolor\": \"DarkGreen\", \"arrowhead\": 2, \"arrowsize\": 0.8, \"arrowwidth\": 4, \"ax\": 0, \"ay\": 15, \"hoverlabel\": {\"bgcolor\": \"DarkGreen\"}, \"hovertext\": \"Step 192 [2018-05-23 05:00:00]<br>BUY 0.05248413 BTC @ 7906.2 USD MARKET<br>Total: 414.95 USD - Comm.: 1.25 USD\", \"opacity\": 0.6, \"showarrow\": true, \"x\": 191, \"xref\": \"x\", \"y\": 7906.2, \"yref\": \"y\"}, {\"arrowcolor\": \"DarkGreen\", \"arrowhead\": 2, \"arrowsize\": 0.8, \"arrowwidth\": 4, \"ax\": 0, \"ay\": 15, \"hoverlabel\": {\"bgcolor\": \"DarkGreen\"}, \"hovertext\": \"Step 191 [2018-05-23 04:00:00]<br>BUY 0.10518251 BTC @ 7890.0 USD MARKET<br>Total: 829.89 USD - Comm.: 2.50 USD\", \"opacity\": 0.6, \"showarrow\": true, \"x\": 190, \"xref\": \"x\", \"y\": 7890.0, \"yref\": \"y\"}, {\"arrowcolor\": \"FireBrick\", \"arrowhead\": 2, \"arrowsize\": 0.8, \"arrowwidth\": 4, \"ax\": 0, \"ay\": -15, \"hoverlabel\": {\"bgcolor\": \"FireBrick\"}, \"hovertext\": \"Step 189 [2018-05-23 02:00:00]<br>SELL 0.00114923 BTC @ 7897.2 USD MARKET<br>Total: 9.08 USD - Comm.: 0.00000346 BTC\", \"opacity\": 0.6, \"showarrow\": true, \"x\": 188, \"xref\": \"x\", \"y\": 7897.2, \"yref\": \"y\"}, {\"arrowcolor\": \"FireBrick\", \"arrowhead\": 2, \"arrowsize\": 0.8, \"arrowwidth\": 4, \"ax\": 0, \"ay\": -15, \"hoverlabel\": {\"bgcolor\": \"FireBrick\"}, \"hovertext\": \"Step 188 [2018-05-23 01:00:00]<br>SELL 0.02026377 BTC @ 7898.67 USD MARKET<br>Total: 160.06 USD - Comm.: 0.00006097 BTC\", \"opacity\": 0.6, \"showarrow\": true, \"x\": 187, \"xref\": \"x\", \"y\": 7898.67, \"yref\": \"y\"}, {\"arrowcolor\": \"FireBrick\", \"arrowhead\": 2, \"arrowsize\": 0.8, \"arrowwidth\": 4, \"ax\": 0, \"ay\": -15, \"hoverlabel\": {\"bgcolor\": \"FireBrick\"}, \"hovertext\": \"Step 188 [2018-05-23 01:00:00]<br>SELL 0.02298252 BTC @ 7898.67 USD MARKET<br>Total: 181.53 USD - Comm.: 0.00006916 BTC\", \"opacity\": 0.6, \"showarrow\": true, \"x\": 187, \"xref\": \"x\", \"y\": 7898.67, \"yref\": \"y\"}, {\"arrowcolor\": \"DarkGreen\", \"arrowhead\": 2, \"arrowsize\": 0.8, \"arrowwidth\": 4, \"ax\": 0, \"ay\": 15, \"hoverlabel\": {\"bgcolor\": \"DarkGreen\"}, \"hovertext\": \"Step 187 [2018-05-23 00:00:00]<br>BUY 0.18475801 BTC @ 7955.0 USD MARKET<br>Total: 1469.75 USD - Comm.: 4.42 USD\", \"opacity\": 0.6, \"showarrow\": true, \"x\": 186, \"xref\": \"x\", \"y\": 7955.0, \"yref\": \"y\"}, {\"arrowcolor\": \"DarkGreen\", \"arrowhead\": 2, \"arrowsize\": 0.8, \"arrowwidth\": 4, \"ax\": 0, \"ay\": 15, \"hoverlabel\": {\"bgcolor\": \"DarkGreen\"}, \"hovertext\": \"Step 186 [2018-05-22 23:00:00]<br>BUY 0.30568637 BTC @ 7977.85 USD MARKET<br>Total: 2438.72 USD - Comm.: 7.34 USD\", \"opacity\": 0.6, \"showarrow\": true, \"x\": 185, \"xref\": \"x\", \"y\": 7977.85, \"yref\": \"y\"}, {\"arrowcolor\": \"FireBrick\", \"arrowhead\": 2, \"arrowsize\": 0.8, \"arrowwidth\": 4, \"ax\": 0, \"ay\": -15, \"hoverlabel\": {\"bgcolor\": \"FireBrick\"}, \"hovertext\": \"Step 186 [2018-05-22 23:00:00]<br>SELL 0.02741417 BTC @ 7977.85 USD MARKET<br>Total: 218.71 USD - Comm.: 0.00008249 BTC\", \"opacity\": 0.6, \"showarrow\": true, \"x\": 185, \"xref\": \"x\", \"y\": 7977.85, \"yref\": \"y\"}, {\"arrowcolor\": \"FireBrick\", \"arrowhead\": 2, \"arrowsize\": 0.8, \"arrowwidth\": 4, \"ax\": 0, \"ay\": -15, \"hoverlabel\": {\"bgcolor\": \"FireBrick\"}, \"hovertext\": \"Step 186 [2018-05-22 23:00:00]<br>SELL 0.03554595 BTC @ 7977.85 USD MARKET<br>Total: 283.58 USD - Comm.: 0.00010696 BTC\", \"opacity\": 0.6, \"showarrow\": true, \"x\": 185, \"xref\": \"x\", \"y\": 7977.85, \"yref\": \"y\"}, {\"arrowcolor\": \"DarkGreen\", \"arrowhead\": 2, \"arrowsize\": 0.8, \"arrowwidth\": 4, \"ax\": 0, \"ay\": 15, \"hoverlabel\": {\"bgcolor\": \"DarkGreen\"}, \"hovertext\": \"Step 185 [2018-05-22 22:00:00]<br>BUY 0.44077151 BTC @ 7968.8 USD MARKET<br>Total: 3512.42 USD - Comm.: 10.57 USD\", \"opacity\": 0.6, \"showarrow\": true, \"x\": 184, \"xref\": \"x\", \"y\": 7968.8, \"yref\": \"y\"}, {\"arrowcolor\": \"FireBrick\", \"arrowhead\": 2, \"arrowsize\": 0.8, \"arrowwidth\": 4, \"ax\": 0, \"ay\": -15, \"hoverlabel\": {\"bgcolor\": \"FireBrick\"}, \"hovertext\": \"Step 185 [2018-05-22 22:00:00]<br>SELL 0.05490081 BTC @ 7968.8 USD MARKET<br>Total: 437.49 USD - Comm.: 0.00016520 BTC\", \"opacity\": 0.6, \"showarrow\": true, \"x\": 184, \"xref\": \"x\", \"y\": 7968.8, \"yref\": \"y\"}, {\"arrowcolor\": \"FireBrick\", \"arrowhead\": 2, \"arrowsize\": 0.8, \"arrowwidth\": 4, \"ax\": 0, \"ay\": -15, \"hoverlabel\": {\"bgcolor\": \"FireBrick\"}, \"hovertext\": \"Step 185 [2018-05-22 22:00:00]<br>SELL 0.08845975 BTC @ 7968.8 USD MARKET<br>Total: 704.92 USD - Comm.: 0.00026618 BTC\", \"opacity\": 0.6, \"showarrow\": true, \"x\": 184, \"xref\": \"x\", \"y\": 7968.8, \"yref\": \"y\"}, {\"arrowcolor\": \"FireBrick\", \"arrowhead\": 2, \"arrowsize\": 0.8, \"arrowwidth\": 4, \"ax\": 0, \"ay\": -15, \"hoverlabel\": {\"bgcolor\": \"FireBrick\"}, \"hovertext\": \"Step 185 [2018-05-22 22:00:00]<br>SELL 0.02844916 BTC @ 7968.8 USD MARKET<br>Total: 226.71 USD - Comm.: 0.00008560 BTC\", \"opacity\": 0.6, \"showarrow\": true, \"x\": 184, \"xref\": \"x\", \"y\": 7968.8, \"yref\": \"y\"}, {\"arrowcolor\": \"DarkGreen\", \"arrowhead\": 2, \"arrowsize\": 0.8, \"arrowwidth\": 4, \"ax\": 0, \"ay\": 15, \"hoverlabel\": {\"bgcolor\": \"DarkGreen\"}, \"hovertext\": \"Step 185 [2018-05-22 22:00:00]<br>BUY 0.02057148 BTC @ 7968.8 USD MARKET<br>Total: 163.93 USD - Comm.: 0.49 USD\", \"opacity\": 0.6, \"showarrow\": true, \"x\": 184, \"xref\": \"x\", \"y\": 7968.8, \"yref\": \"y\"}, {\"arrowcolor\": \"FireBrick\", \"arrowhead\": 2, \"arrowsize\": 0.8, \"arrowwidth\": 4, \"ax\": 0, \"ay\": -15, \"hoverlabel\": {\"bgcolor\": \"FireBrick\"}, \"hovertext\": \"Step 184 [2018-05-22 21:00:00]<br>SELL 0.17732557 BTC @ 8068.9 USD MARKET<br>Total: 1430.82 USD - Comm.: 0.00053358 BTC\", \"opacity\": 0.6, \"showarrow\": true, \"x\": 183, \"xref\": \"x\", \"y\": 8068.9, \"yref\": \"y\"}, {\"arrowcolor\": \"FireBrick\", \"arrowhead\": 2, \"arrowsize\": 0.8, \"arrowwidth\": 4, \"ax\": 0, \"ay\": -15, \"hoverlabel\": {\"bgcolor\": \"FireBrick\"}, \"hovertext\": \"Step 183 [2018-05-22 20:00:00]<br>SELL 0.17729247 BTC @ 8108.4 USD MARKET<br>Total: 1437.56 USD - Comm.: 0.00053348 BTC\", \"opacity\": 0.6, \"showarrow\": true, \"x\": 182, \"xref\": \"x\", \"y\": 8108.4, \"yref\": \"y\"}, {\"arrowcolor\": \"FireBrick\", \"arrowhead\": 2, \"arrowsize\": 0.8, \"arrowwidth\": 4, \"ax\": 0, \"ay\": -15, \"hoverlabel\": {\"bgcolor\": \"FireBrick\"}, \"hovertext\": \"Step 183 [2018-05-22 20:00:00]<br>SELL 0.00058407 BTC @ 8108.4 USD MARKET<br>Total: 4.74 USD - Comm.: 0.00000176 BTC\", \"opacity\": 0.6, \"showarrow\": true, \"x\": 182, \"xref\": \"x\", \"y\": 8108.4, \"yref\": \"y\"}, {\"arrowcolor\": \"FireBrick\", \"arrowhead\": 2, \"arrowsize\": 0.8, \"arrowwidth\": 4, \"ax\": 0, \"ay\": -15, \"hoverlabel\": {\"bgcolor\": \"FireBrick\"}, \"hovertext\": \"Step 183 [2018-05-22 20:00:00]<br>SELL 0.0115823 BTC @ 8108.4 USD MARKET<br>Total: 93.91 USD - Comm.: 0.00003485 BTC\", \"opacity\": 0.6, \"showarrow\": true, \"x\": 182, \"xref\": \"x\", \"y\": 8108.4, \"yref\": \"y\"}, {\"arrowcolor\": \"FireBrick\", \"arrowhead\": 2, \"arrowsize\": 0.8, \"arrowwidth\": 4, \"ax\": 0, \"ay\": -15, \"hoverlabel\": {\"bgcolor\": \"FireBrick\"}, \"hovertext\": \"Step 183 [2018-05-22 20:00:00]<br>SELL 0.47507834 BTC @ 8108.4 USD MARKET<br>Total: 3852.13 USD - Comm.: 0.00142952 BTC\", \"opacity\": 0.6, \"showarrow\": true, \"x\": 182, \"xref\": \"x\", \"y\": 8108.4, \"yref\": \"y\"}, {\"arrowcolor\": \"DarkGreen\", \"arrowhead\": 2, \"arrowsize\": 0.8, \"arrowwidth\": 4, \"ax\": 0, \"ay\": 15, \"hoverlabel\": {\"bgcolor\": \"DarkGreen\"}, \"hovertext\": \"Step 177 [2018-05-22 14:00:00]<br>BUY 0.02749666 BTC @ 8225.0 USD MARKET<br>Total: 226.16 USD - Comm.: 0.68 USD\", \"opacity\": 0.6, \"showarrow\": true, \"x\": 176, \"xref\": \"x\", \"y\": 8225.0, \"yref\": \"y\"}, {\"arrowcolor\": \"DarkGreen\", \"arrowhead\": 2, \"arrowsize\": 0.8, \"arrowwidth\": 4, \"ax\": 0, \"ay\": 15, \"hoverlabel\": {\"bgcolor\": \"DarkGreen\"}, \"hovertext\": \"Step 176 [2018-05-22 13:00:00]<br>BUY 0.05506601 BTC @ 8213.96 USD MARKET<br>Total: 452.31 USD - Comm.: 1.36 USD\", \"opacity\": 0.6, \"showarrow\": true, \"x\": 175, \"xref\": \"x\", \"y\": 8213.96, \"yref\": \"y\"}, {\"arrowcolor\": \"DarkGreen\", \"arrowhead\": 2, \"arrowsize\": 0.8, \"arrowwidth\": 4, \"ax\": 0, \"ay\": 15, \"hoverlabel\": {\"bgcolor\": \"DarkGreen\"}, \"hovertext\": \"Step 175 [2018-05-22 12:00:00]<br>BUY 0.05772003 BTC @ 8170.3 USD MARKET<br>Total: 471.59 USD - Comm.: 1.42 USD\", \"opacity\": 0.6, \"showarrow\": true, \"x\": 174, \"xref\": \"x\", \"y\": 8170.3, \"yref\": \"y\"}, {\"arrowcolor\": \"FireBrick\", \"arrowhead\": 2, \"arrowsize\": 0.8, \"arrowwidth\": 4, \"ax\": 0, \"ay\": -15, \"hoverlabel\": {\"bgcolor\": \"FireBrick\"}, \"hovertext\": \"Step 175 [2018-05-22 12:00:00]<br>SELL 0.0011508 BTC @ 8170.3 USD MARKET<br>Total: 9.4 USD - Comm.: 0.00000346 BTC\", \"opacity\": 0.6, \"showarrow\": true, \"x\": 174, \"xref\": \"x\", \"y\": 8170.3, \"yref\": \"y\"}, {\"arrowcolor\": \"FireBrick\", \"arrowhead\": 2, \"arrowsize\": 0.8, \"arrowwidth\": 4, \"ax\": 0, \"ay\": -15, \"hoverlabel\": {\"bgcolor\": \"FireBrick\"}, \"hovertext\": \"Step 175 [2018-05-22 12:00:00]<br>SELL 0.0230626 BTC @ 8170.3 USD MARKET<br>Total: 188.43 USD - Comm.: 0.00006940 BTC\", \"opacity\": 0.6, \"showarrow\": true, \"x\": 174, \"xref\": \"x\", \"y\": 8170.3, \"yref\": \"y\"}, {\"arrowcolor\": \"FireBrick\", \"arrowhead\": 2, \"arrowsize\": 0.8, \"arrowwidth\": 4, \"ax\": 0, \"ay\": -15, \"hoverlabel\": {\"bgcolor\": \"FireBrick\"}, \"hovertext\": \"Step 174 [2018-05-22 11:00:00]<br>SELL 0.00230551 BTC @ 8205.2 USD MARKET<br>Total: 18.92 USD - Comm.: 0.00000694 BTC\", \"opacity\": 0.6, \"showarrow\": true, \"x\": 173, \"xref\": \"x\", \"y\": 8205.2, \"yref\": \"y\"}, {\"arrowcolor\": \"FireBrick\", \"arrowhead\": 2, \"arrowsize\": 0.8, \"arrowwidth\": 4, \"ax\": 0, \"ay\": -15, \"hoverlabel\": {\"bgcolor\": \"FireBrick\"}, \"hovertext\": \"Step 174 [2018-05-22 11:00:00]<br>SELL 0.00576763 BTC @ 8205.2 USD MARKET<br>Total: 47.32 USD - Comm.: 0.00001735 BTC\", \"opacity\": 0.6, \"showarrow\": true, \"x\": 173, \"xref\": \"x\", \"y\": 8205.2, \"yref\": \"y\"}, {\"arrowcolor\": \"FireBrick\", \"arrowhead\": 2, \"arrowsize\": 0.8, \"arrowwidth\": 4, \"ax\": 0, \"ay\": -15, \"hoverlabel\": {\"bgcolor\": \"FireBrick\"}, \"hovertext\": \"Step 174 [2018-05-22 11:00:00]<br>SELL 0.04604708 BTC @ 8205.2 USD MARKET<br>Total: 377.83 USD - Comm.: 0.00013856 BTC\", \"opacity\": 0.6, \"showarrow\": true, \"x\": 173, \"xref\": \"x\", \"y\": 8205.2, \"yref\": \"y\"}, {\"arrowcolor\": \"DarkGreen\", \"arrowhead\": 2, \"arrowsize\": 0.8, \"arrowwidth\": 4, \"ax\": 0, \"ay\": 15, \"hoverlabel\": {\"bgcolor\": \"DarkGreen\"}, \"hovertext\": \"Step 168 [2018-05-22 05:00:00]<br>BUY 0.08872593 BTC @ 8297.8 USD MARKET<br>Total: 736.23 USD - Comm.: 2.22 USD\", \"opacity\": 0.6, \"showarrow\": true, \"x\": 167, \"xref\": \"x\", \"y\": 8297.8, \"yref\": \"y\"}, {\"arrowcolor\": \"DarkGreen\", \"arrowhead\": 2, \"arrowsize\": 0.8, \"arrowwidth\": 4, \"ax\": 0, \"ay\": 15, \"hoverlabel\": {\"bgcolor\": \"DarkGreen\"}, \"hovertext\": \"Step 167 [2018-05-22 04:00:00]<br>BUY 0.17782595 BTC @ 8280.4 USD MARKET<br>Total: 1472.47 USD - Comm.: 4.43 USD\", \"opacity\": 0.6, \"showarrow\": true, \"x\": 166, \"xref\": \"x\", \"y\": 8280.4, \"yref\": \"y\"}, {\"arrowcolor\": \"DarkGreen\", \"arrowhead\": 2, \"arrowsize\": 0.8, \"arrowwidth\": 4, \"ax\": 0, \"ay\": 15, \"hoverlabel\": {\"bgcolor\": \"DarkGreen\"}, \"hovertext\": \"Step 165 [2018-05-22 02:00:00]<br>BUY 0.17785915 BTC @ 8288.3 USD MARKET<br>Total: 1474.15 USD - Comm.: 4.44 USD\", \"opacity\": 0.6, \"showarrow\": true, \"x\": 164, \"xref\": \"x\", \"y\": 8288.3, \"yref\": \"y\"}, {\"arrowcolor\": \"FireBrick\", \"arrowhead\": 2, \"arrowsize\": 0.8, \"arrowwidth\": 4, \"ax\": 0, \"ay\": -15, \"hoverlabel\": {\"bgcolor\": \"FireBrick\"}, \"hovertext\": \"Step 165 [2018-05-22 02:00:00]<br>SELL 0.17798652 BTC @ 8288.3 USD MARKET<br>Total: 1475.21 USD - Comm.: 0.00053557 BTC\", \"opacity\": 0.6, \"showarrow\": true, \"x\": 164, \"xref\": \"x\", \"y\": 8288.3, \"yref\": \"y\"}, {\"arrowcolor\": \"DarkGreen\", \"arrowhead\": 2, \"arrowsize\": 0.8, \"arrowwidth\": 4, \"ax\": 0, \"ay\": 15, \"hoverlabel\": {\"bgcolor\": \"DarkGreen\"}, \"hovertext\": \"Step 164 [2018-05-22 01:00:00]<br>BUY 0.00058583 BTC @ 8278.8 USD MARKET<br>Total: 4.85 USD - Comm.: 0.01 USD\", \"opacity\": 0.6, \"showarrow\": true, \"x\": 163, \"xref\": \"x\", \"y\": 8278.8, \"yref\": \"y\"}, {\"arrowcolor\": \"FireBrick\", \"arrowhead\": 2, \"arrowsize\": 0.8, \"arrowwidth\": 4, \"ax\": 0, \"ay\": -15, \"hoverlabel\": {\"bgcolor\": \"FireBrick\"}, \"hovertext\": \"Step 164 [2018-05-22 01:00:00]<br>SELL 0.35661198 BTC @ 8278.8 USD MARKET<br>Total: 2952.32 USD - Comm.: 0.00107306 BTC\", \"opacity\": 0.6, \"showarrow\": true, \"x\": 163, \"xref\": \"x\", \"y\": 8278.8, \"yref\": \"y\"}, {\"arrowcolor\": \"DarkGreen\", \"arrowhead\": 2, \"arrowsize\": 0.8, \"arrowwidth\": 4, \"ax\": 0, \"ay\": 15, \"hoverlabel\": {\"bgcolor\": \"DarkGreen\"}, \"hovertext\": \"Step 161 [2018-05-21 22:00:00]<br>BUY 0.00115426 BTC @ 8395.0 USD MARKET<br>Total: 9.69 USD - Comm.: 0.03 USD\", \"opacity\": 0.6, \"showarrow\": true, \"x\": 160, \"xref\": \"x\", \"y\": 8395.0, \"yref\": \"y\"}, {\"arrowcolor\": \"DarkGreen\", \"arrowhead\": 2, \"arrowsize\": 0.8, \"arrowwidth\": 4, \"ax\": 0, \"ay\": 15, \"hoverlabel\": {\"bgcolor\": \"DarkGreen\"}, \"hovertext\": \"Step 160 [2018-05-21 21:00:00]<br>BUY 0.00231245 BTC @ 8385.03 USD MARKET<br>Total: 19.39 USD - Comm.: 0.06 USD\", \"opacity\": 0.6, \"showarrow\": true, \"x\": 159, \"xref\": \"x\", \"y\": 8385.03, \"yref\": \"y\"}, {\"arrowcolor\": \"DarkGreen\", \"arrowhead\": 2, \"arrowsize\": 0.8, \"arrowwidth\": 4, \"ax\": 0, \"ay\": 15, \"hoverlabel\": {\"bgcolor\": \"DarkGreen\"}, \"hovertext\": \"Step 159 [2018-05-21 20:00:00]<br>BUY 0.00115269 BTC @ 8406.45 USD MARKET<br>Total: 9.69 USD - Comm.: 0.03 USD\", \"opacity\": 0.6, \"showarrow\": true, \"x\": 158, \"xref\": \"x\", \"y\": 8406.45, \"yref\": \"y\"}, {\"arrowcolor\": \"DarkGreen\", \"arrowhead\": 2, \"arrowsize\": 0.8, \"arrowwidth\": 4, \"ax\": 0, \"ay\": 15, \"hoverlabel\": {\"bgcolor\": \"DarkGreen\"}, \"hovertext\": \"Step 158 [2018-05-21 19:00:00]<br>BUY 0.00578498 BTC @ 8376.87 USD MARKET<br>Total: 48.46 USD - Comm.: 0.15 USD\", \"opacity\": 0.6, \"showarrow\": true, \"x\": 157, \"xref\": \"x\", \"y\": 8376.87, \"yref\": \"y\"}, {\"arrowcolor\": \"DarkGreen\", \"arrowhead\": 2, \"arrowsize\": 0.8, \"arrowwidth\": 4, \"ax\": 0, \"ay\": 15, \"hoverlabel\": {\"bgcolor\": \"DarkGreen\"}, \"hovertext\": \"Step 157 [2018-05-21 18:00:00]<br>BUY 0.01161715 BTC @ 8343.7 USD MARKET<br>Total: 96.93 USD - Comm.: 0.29 USD\", \"opacity\": 0.6, \"showarrow\": true, \"x\": 156, \"xref\": \"x\", \"y\": 8343.7, \"yref\": \"y\"}, {\"arrowcolor\": \"DarkGreen\", \"arrowhead\": 2, \"arrowsize\": 0.8, \"arrowwidth\": 4, \"ax\": 0, \"ay\": 15, \"hoverlabel\": {\"bgcolor\": \"DarkGreen\"}, \"hovertext\": \"Step 156 [2018-05-21 17:00:00]<br>BUY 0.023132 BTC @ 8380.6 USD MARKET<br>Total: 193.86 USD - Comm.: 0.58 USD\", \"opacity\": 0.6, \"showarrow\": true, \"x\": 155, \"xref\": \"x\", \"y\": 8380.6, \"yref\": \"y\"}, {\"arrowcolor\": \"DarkGreen\", \"arrowhead\": 2, \"arrowsize\": 0.8, \"arrowwidth\": 4, \"ax\": 0, \"ay\": 15, \"hoverlabel\": {\"bgcolor\": \"DarkGreen\"}, \"hovertext\": \"Step 155 [2018-05-21 16:00:00]<br>BUY 0.04618564 BTC @ 8394.6 USD MARKET<br>Total: 387.71 USD - Comm.: 1.17 USD\", \"opacity\": 0.6, \"showarrow\": true, \"x\": 154, \"xref\": \"x\", \"y\": 8394.6, \"yref\": \"y\"}, {\"arrowcolor\": \"DarkGreen\", \"arrowhead\": 2, \"arrowsize\": 0.8, \"arrowwidth\": 4, \"ax\": 0, \"ay\": 15, \"hoverlabel\": {\"bgcolor\": \"DarkGreen\"}, \"hovertext\": \"Step 153 [2018-05-21 14:00:00]<br>BUY 0.02305168 BTC @ 8409.8 USD MARKET<br>Total: 193.86 USD - Comm.: 0.58 USD\", \"opacity\": 0.6, \"showarrow\": true, \"x\": 152, \"xref\": \"x\", \"y\": 8409.8, \"yref\": \"y\"}, {\"arrowcolor\": \"DarkGreen\", \"arrowhead\": 2, \"arrowsize\": 0.8, \"arrowwidth\": 4, \"ax\": 0, \"ay\": 15, \"hoverlabel\": {\"bgcolor\": \"DarkGreen\"}, \"hovertext\": \"Step 152 [2018-05-21 13:00:00]<br>BUY 0.02853476 BTC @ 8492.1 USD MARKET<br>Total: 242.32 USD - Comm.: 0.73 USD\", \"opacity\": 0.6, \"showarrow\": true, \"x\": 151, \"xref\": \"x\", \"y\": 8492.1, \"yref\": \"y\"}, {\"arrowcolor\": \"DarkGreen\", \"arrowhead\": 2, \"arrowsize\": 0.8, \"arrowwidth\": 4, \"ax\": 0, \"ay\": 15, \"hoverlabel\": {\"bgcolor\": \"DarkGreen\"}, \"hovertext\": \"Step 151 [2018-05-21 12:00:00]<br>BUY 0.03565291 BTC @ 8495.8 USD MARKET<br>Total: 302.9 USD - Comm.: 0.91 USD\", \"opacity\": 0.6, \"showarrow\": true, \"x\": 150, \"xref\": \"x\", \"y\": 8495.8, \"yref\": \"y\"}], \"margin\": {\"t\": 50}, \"template\": {\"data\": {\"bar\": [{\"error_x\": {\"color\": \"#2a3f5f\"}, \"error_y\": {\"color\": \"#2a3f5f\"}, \"marker\": {\"line\": {\"color\": \"white\", \"width\": 0.5}}, \"type\": \"bar\"}], \"barpolar\": [{\"marker\": {\"line\": {\"color\": \"white\", \"width\": 0.5}}, \"type\": \"barpolar\"}], \"carpet\": [{\"aaxis\": {\"endlinecolor\": \"#2a3f5f\", \"gridcolor\": \"#C8D4E3\", \"linecolor\": \"#C8D4E3\", \"minorgridcolor\": \"#C8D4E3\", \"startlinecolor\": \"#2a3f5f\"}, \"baxis\": {\"endlinecolor\": \"#2a3f5f\", \"gridcolor\": \"#C8D4E3\", \"linecolor\": \"#C8D4E3\", \"minorgridcolor\": \"#C8D4E3\", \"startlinecolor\": \"#2a3f5f\"}, \"type\": \"carpet\"}], \"choropleth\": [{\"colorbar\": {\"outlinewidth\": 0, \"ticks\": \"\"}, \"type\": \"choropleth\"}], \"contour\": [{\"colorbar\": {\"outlinewidth\": 0, \"ticks\": \"\"}, \"colorscale\": [[0.0, \"#0d0887\"], [0.1111111111111111, \"#46039f\"], [0.2222222222222222, \"#7201a8\"], [0.3333333333333333, \"#9c179e\"], [0.4444444444444444, \"#bd3786\"], [0.5555555555555556, \"#d8576b\"], [0.6666666666666666, \"#ed7953\"], [0.7777777777777778, \"#fb9f3a\"], [0.8888888888888888, \"#fdca26\"], [1.0, \"#f0f921\"]], \"type\": \"contour\"}], \"contourcarpet\": [{\"colorbar\": {\"outlinewidth\": 0, \"ticks\": \"\"}, \"type\": \"contourcarpet\"}], \"heatmap\": [{\"colorbar\": {\"outlinewidth\": 0, \"ticks\": \"\"}, \"colorscale\": [[0.0, \"#0d0887\"], [0.1111111111111111, \"#46039f\"], [0.2222222222222222, \"#7201a8\"], [0.3333333333333333, \"#9c179e\"], [0.4444444444444444, \"#bd3786\"], [0.5555555555555556, \"#d8576b\"], [0.6666666666666666, \"#ed7953\"], [0.7777777777777778, \"#fb9f3a\"], [0.8888888888888888, \"#fdca26\"], [1.0, \"#f0f921\"]], \"type\": \"heatmap\"}], \"heatmapgl\": [{\"colorbar\": {\"outlinewidth\": 0, \"ticks\": \"\"}, \"colorscale\": [[0.0, \"#0d0887\"], [0.1111111111111111, \"#46039f\"], [0.2222222222222222, \"#7201a8\"], [0.3333333333333333, \"#9c179e\"], [0.4444444444444444, \"#bd3786\"], [0.5555555555555556, \"#d8576b\"], [0.6666666666666666, \"#ed7953\"], [0.7777777777777778, \"#fb9f3a\"], [0.8888888888888888, \"#fdca26\"], [1.0, \"#f0f921\"]], \"type\": \"heatmapgl\"}], \"histogram\": [{\"marker\": {\"colorbar\": {\"outlinewidth\": 0, \"ticks\": \"\"}}, \"type\": \"histogram\"}], \"histogram2d\": [{\"colorbar\": {\"outlinewidth\": 0, \"ticks\": \"\"}, \"colorscale\": [[0.0, \"#0d0887\"], [0.1111111111111111, \"#46039f\"], [0.2222222222222222, \"#7201a8\"], [0.3333333333333333, \"#9c179e\"], [0.4444444444444444, \"#bd3786\"], [0.5555555555555556, \"#d8576b\"], [0.6666666666666666, \"#ed7953\"], [0.7777777777777778, \"#fb9f3a\"], [0.8888888888888888, \"#fdca26\"], [1.0, \"#f0f921\"]], \"type\": \"histogram2d\"}], \"histogram2dcontour\": [{\"colorbar\": {\"outlinewidth\": 0, \"ticks\": \"\"}, \"colorscale\": [[0.0, \"#0d0887\"], [0.1111111111111111, \"#46039f\"], [0.2222222222222222, \"#7201a8\"], [0.3333333333333333, \"#9c179e\"], [0.4444444444444444, \"#bd3786\"], [0.5555555555555556, \"#d8576b\"], [0.6666666666666666, \"#ed7953\"], [0.7777777777777778, \"#fb9f3a\"], [0.8888888888888888, \"#fdca26\"], [1.0, \"#f0f921\"]], \"type\": \"histogram2dcontour\"}], \"mesh3d\": [{\"colorbar\": {\"outlinewidth\": 0, \"ticks\": \"\"}, \"type\": \"mesh3d\"}], \"parcoords\": [{\"line\": {\"colorbar\": {\"outlinewidth\": 0, \"ticks\": \"\"}}, \"type\": \"parcoords\"}], \"pie\": [{\"automargin\": true, \"type\": \"pie\"}], \"scatter\": [{\"marker\": {\"colorbar\": {\"outlinewidth\": 0, \"ticks\": \"\"}}, \"type\": \"scatter\"}], \"scatter3d\": [{\"line\": {\"colorbar\": {\"outlinewidth\": 0, \"ticks\": \"\"}}, \"marker\": {\"colorbar\": {\"outlinewidth\": 0, \"ticks\": \"\"}}, \"type\": \"scatter3d\"}], \"scattercarpet\": [{\"marker\": {\"colorbar\": {\"outlinewidth\": 0, \"ticks\": \"\"}}, \"type\": \"scattercarpet\"}], \"scattergeo\": [{\"marker\": {\"colorbar\": {\"outlinewidth\": 0, \"ticks\": \"\"}}, \"type\": \"scattergeo\"}], \"scattergl\": [{\"marker\": {\"colorbar\": {\"outlinewidth\": 0, \"ticks\": \"\"}}, \"type\": \"scattergl\"}], \"scattermapbox\": [{\"marker\": {\"colorbar\": {\"outlinewidth\": 0, \"ticks\": \"\"}}, \"type\": \"scattermapbox\"}], \"scatterpolar\": [{\"marker\": {\"colorbar\": {\"outlinewidth\": 0, \"ticks\": \"\"}}, \"type\": \"scatterpolar\"}], \"scatterpolargl\": [{\"marker\": {\"colorbar\": {\"outlinewidth\": 0, \"ticks\": \"\"}}, \"type\": \"scatterpolargl\"}], \"scatterternary\": [{\"marker\": {\"colorbar\": {\"outlinewidth\": 0, \"ticks\": \"\"}}, \"type\": \"scatterternary\"}], \"surface\": [{\"colorbar\": {\"outlinewidth\": 0, \"ticks\": \"\"}, \"colorscale\": [[0.0, \"#0d0887\"], [0.1111111111111111, \"#46039f\"], [0.2222222222222222, \"#7201a8\"], [0.3333333333333333, \"#9c179e\"], [0.4444444444444444, \"#bd3786\"], [0.5555555555555556, \"#d8576b\"], [0.6666666666666666, \"#ed7953\"], [0.7777777777777778, \"#fb9f3a\"], [0.8888888888888888, \"#fdca26\"], [1.0, \"#f0f921\"]], \"type\": \"surface\"}], \"table\": [{\"cells\": {\"fill\": {\"color\": \"#EBF0F8\"}, \"line\": {\"color\": \"white\"}}, \"header\": {\"fill\": {\"color\": \"#C8D4E3\"}, \"line\": {\"color\": \"white\"}}, \"type\": \"table\"}]}, \"layout\": {\"annotationdefaults\": {\"arrowcolor\": \"#2a3f5f\", \"arrowhead\": 0, \"arrowwidth\": 1}, \"autotypenumbers\": \"strict\", \"coloraxis\": {\"colorbar\": {\"outlinewidth\": 0, \"ticks\": \"\"}}, \"colorscale\": {\"diverging\": [[0, \"#8e0152\"], [0.1, \"#c51b7d\"], [0.2, \"#de77ae\"], [0.3, \"#f1b6da\"], [0.4, \"#fde0ef\"], [0.5, \"#f7f7f7\"], [0.6, \"#e6f5d0\"], [0.7, \"#b8e186\"], [0.8, \"#7fbc41\"], [0.9, \"#4d9221\"], [1, \"#276419\"]], \"sequential\": [[0.0, \"#0d0887\"], [0.1111111111111111, \"#46039f\"], [0.2222222222222222, \"#7201a8\"], [0.3333333333333333, \"#9c179e\"], [0.4444444444444444, \"#bd3786\"], [0.5555555555555556, \"#d8576b\"], [0.6666666666666666, \"#ed7953\"], [0.7777777777777778, \"#fb9f3a\"], [0.8888888888888888, \"#fdca26\"], [1.0, \"#f0f921\"]], \"sequentialminus\": [[0.0, \"#0d0887\"], [0.1111111111111111, \"#46039f\"], [0.2222222222222222, \"#7201a8\"], [0.3333333333333333, \"#9c179e\"], [0.4444444444444444, \"#bd3786\"], [0.5555555555555556, \"#d8576b\"], [0.6666666666666666, \"#ed7953\"], [0.7777777777777778, \"#fb9f3a\"], [0.8888888888888888, \"#fdca26\"], [1.0, \"#f0f921\"]]}, \"colorway\": [\"#636efa\", \"#EF553B\", \"#00cc96\", \"#ab63fa\", \"#FFA15A\", \"#19d3f3\", \"#FF6692\", \"#B6E880\", \"#FF97FF\", \"#FECB52\"], \"font\": {\"color\": \"#2a3f5f\"}, \"geo\": {\"bgcolor\": \"white\", \"lakecolor\": \"white\", \"landcolor\": \"white\", \"showlakes\": true, \"showland\": true, \"subunitcolor\": \"#C8D4E3\"}, \"hoverlabel\": {\"align\": \"left\"}, \"hovermode\": \"closest\", \"mapbox\": {\"style\": \"light\"}, \"paper_bgcolor\": \"white\", \"plot_bgcolor\": \"white\", \"polar\": {\"angularaxis\": {\"gridcolor\": \"#EBF0F8\", \"linecolor\": \"#EBF0F8\", \"ticks\": \"\"}, \"bgcolor\": \"white\", \"radialaxis\": {\"gridcolor\": \"#EBF0F8\", \"linecolor\": \"#EBF0F8\", \"ticks\": \"\"}}, \"scene\": {\"xaxis\": {\"backgroundcolor\": \"white\", \"gridcolor\": \"#DFE8F3\", \"gridwidth\": 2, \"linecolor\": \"#EBF0F8\", \"showbackground\": true, \"ticks\": \"\", \"zerolinecolor\": \"#EBF0F8\"}, \"yaxis\": {\"backgroundcolor\": \"white\", \"gridcolor\": \"#DFE8F3\", \"gridwidth\": 2, \"linecolor\": \"#EBF0F8\", \"showbackground\": true, \"ticks\": \"\", \"zerolinecolor\": \"#EBF0F8\"}, \"zaxis\": {\"backgroundcolor\": \"white\", \"gridcolor\": \"#DFE8F3\", \"gridwidth\": 2, \"linecolor\": \"#EBF0F8\", \"showbackground\": true, \"ticks\": \"\", \"zerolinecolor\": \"#EBF0F8\"}}, \"shapedefaults\": {\"line\": {\"color\": \"#2a3f5f\"}}, \"ternary\": {\"aaxis\": {\"gridcolor\": \"#DFE8F3\", \"linecolor\": \"#A2B1C6\", \"ticks\": \"\"}, \"baxis\": {\"gridcolor\": \"#DFE8F3\", \"linecolor\": \"#A2B1C6\", \"ticks\": \"\"}, \"bgcolor\": \"white\", \"caxis\": {\"gridcolor\": \"#DFE8F3\", \"linecolor\": \"#A2B1C6\", \"ticks\": \"\"}}, \"title\": {\"x\": 0.05}, \"xaxis\": {\"automargin\": true, \"gridcolor\": \"#EBF0F8\", \"linecolor\": \"#EBF0F8\", \"ticks\": \"\", \"title\": {\"standoff\": 15}, \"zerolinecolor\": \"#EBF0F8\", \"zerolinewidth\": 2}, \"yaxis\": {\"automargin\": true, \"gridcolor\": \"#EBF0F8\", \"linecolor\": \"#EBF0F8\", \"ticks\": \"\", \"title\": {\"standoff\": 15}, \"zerolinecolor\": \"#EBF0F8\", \"zerolinewidth\": 2}}}, \"title\": {\"text\": \"[2021-02-10 15:36:35 PM] Episode: 200/200 Step: 201/200\"}, \"xaxis\": {\"anchor\": \"y\", \"domain\": [0.0, 1.0], \"gridcolor\": \"Gainsboro\", \"linecolor\": \"Grey\", \"matches\": \"x4\", \"rangeslider\": {\"visible\": false}, \"showticklabels\": false, \"title\": {\"font\": {\"size\": 12}, \"standoff\": 7, \"text\": \"Price\"}}, \"xaxis2\": {\"anchor\": \"y2\", \"domain\": [0.0, 1.0], \"gridcolor\": \"Gainsboro\", \"linecolor\": \"Grey\", \"matches\": \"x4\", \"showticklabels\": false, \"title\": {\"font\": {\"size\": 12}, \"standoff\": 7, \"text\": \"Volume\"}}, \"xaxis3\": {\"anchor\": \"y3\", \"domain\": [0.0, 1.0], \"gridcolor\": \"Gainsboro\", \"linecolor\": \"Grey\", \"matches\": \"x4\", \"showticklabels\": false, \"title\": {\"font\": {\"size\": 12}, \"standoff\": 7, \"text\": \"Performance\"}}, \"xaxis4\": {\"anchor\": \"y4\", \"domain\": [0.0, 1.0], \"gridcolor\": \"Gainsboro\", \"linecolor\": \"Grey\", \"title\": {\"font\": {\"size\": 12}, \"standoff\": 7, \"text\": \"Net Worth\"}}, \"yaxis\": {\"anchor\": \"x\", \"domain\": [0.49950000000000006, 1.0], \"gridcolor\": \"Gainsboro\", \"linecolor\": \"Grey\"}, \"yaxis2\": {\"anchor\": \"x2\", \"domain\": [0.333, 0.46950000000000003], \"gridcolor\": \"Gainsboro\", \"linecolor\": \"Grey\"}, \"yaxis3\": {\"anchor\": \"x3\", \"domain\": [0.1665, 0.30300000000000005], \"gridcolor\": \"Gainsboro\", \"linecolor\": \"Grey\"}, \"yaxis4\": {\"anchor\": \"x4\", \"domain\": [0.0, 0.1365], \"gridcolor\": \"Gainsboro\", \"linecolor\": \"Grey\"}},                        {\"responsive\": true}                    ).then(function(){\n",
       "                            \n",
       "var gd = document.getElementById('9e959aa8-4157-4922-b1a0-1afb4d7ab67a');\n",
       "var x = new MutationObserver(function (mutations, observer) {{\n",
       "        var display = window.getComputedStyle(gd).display;\n",
       "        if (!display || display === 'none') {{\n",
       "            console.log([gd, 'removed!']);\n",
       "            Plotly.purge(gd);\n",
       "            observer.disconnect();\n",
       "        }}\n",
       "}});\n",
       "\n",
       "// Listen for the removal of the full notebook cells\n",
       "var notebookContainer = gd.closest('#notebook-container');\n",
       "if (notebookContainer) {{\n",
       "    x.observe(notebookContainer, {childList: true});\n",
       "}}\n",
       "\n",
       "// Listen for the clearing of the current output cell\n",
       "var outputEl = gd.closest('.output');\n",
       "if (outputEl) {{\n",
       "    x.observe(outputEl, {childList: true});\n",
       "}}\n",
       "\n",
       "                        })                };                });            </script>        </div>"
      ]
     },
     "metadata": {},
     "output_type": "display_data"
    },
    {
     "data": {
      "text/plain": [
       "-85585895.40555248"
      ]
     },
     "execution_count": 19,
     "metadata": {},
     "output_type": "execute_result"
    }
   ],
   "source": [
    "agent = DQNAgent(env)\n",
    "\n",
    "agent.train(n_steps=200, n_episodes=200, save_path=\"agents/\")"
   ]
  },
  {
   "cell_type": "code",
   "execution_count": null,
   "metadata": {},
   "outputs": [],
   "source": []
  }
 ],
 "metadata": {
  "kernelspec": {
   "display_name": "Python 3",
   "language": "python",
   "name": "python3"
  },
  "language_info": {
   "codemirror_mode": {
    "name": "ipython",
    "version": 3
   },
   "file_extension": ".py",
   "mimetype": "text/x-python",
   "name": "python",
   "nbconvert_exporter": "python",
   "pygments_lexer": "ipython3",
   "version": "3.8.5"
  }
 },
 "nbformat": 4,
 "nbformat_minor": 4
}
