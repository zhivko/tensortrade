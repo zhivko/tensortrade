{
 "cells": [
  {
   "cell_type": "markdown",
   "metadata": {},
   "source": [
    "## Install TensorTrade"
   ]
  },
  {
   "cell_type": "code",
   "execution_count": 27,
   "metadata": {},
   "outputs": [
    {
     "name": "stdout",
     "output_type": "stream",
     "text": [
      "Collecting git+https://github.com/tensortrade-org/tensortrade.git\n",
      "  Cloning https://github.com/tensortrade-org/tensortrade.git to /tmp/pip-req-build-52b5k8i0\n",
      "  Running command git clone -q https://github.com/tensortrade-org/tensortrade.git /tmp/pip-req-build-52b5k8i0\n",
      "Requirement already satisfied (use --upgrade to upgrade): tensortrade==1.0.2.dev0 from git+https://github.com/tensortrade-org/tensortrade.git in /usr/local/lib/python3.8/dist-packages/tensortrade-1.0.2.dev0-py3.8.egg\n",
      "Requirement already satisfied: gym>=0.14.0 in /usr/local/lib/python3.8/dist-packages/gym-0.18.0-py3.8.egg (from tensortrade==1.0.2.dev0) (0.18.0)\n",
      "Requirement already satisfied: ipython>=7.12.0 in /home/klemen/.local/lib/python3.8/site-packages (from tensortrade==1.0.2.dev0) (7.19.0)\n",
      "Requirement already satisfied: matplotlib>=3.1.1 in /home/klemen/.local/lib/python3.8/site-packages (from tensortrade==1.0.2.dev0) (3.3.3)\n",
      "Requirement already satisfied: numpy>=1.17.0 in /home/klemen/.local/lib/python3.8/site-packages (from tensortrade==1.0.2.dev0) (1.19.4)\n",
      "Requirement already satisfied: pandas>=0.25.0 in /home/klemen/.local/lib/python3.8/site-packages (from tensortrade==1.0.2.dev0) (1.2.0)\n",
      "Requirement already satisfied: plotly>=4.5.0 in /home/klemen/.local/lib/python3.8/site-packages (from tensortrade==1.0.2.dev0) (4.14.1)\n",
      "Requirement already satisfied: pyyaml>=5.1.2 in /usr/lib/python3/dist-packages (from tensortrade==1.0.2.dev0) (5.3.1)\n",
      "Requirement already satisfied: stochastic>=0.6.0 in /usr/local/lib/python3.8/dist-packages/stochastic-0.6.0-py3.8.egg (from tensortrade==1.0.2.dev0) (0.6.0)\n",
      "Requirement already satisfied: tensorflow>=2.1.0 in /home/klemen/.local/lib/python3.8/site-packages (from tensortrade==1.0.2.dev0) (2.4.0)\n",
      "Requirement already satisfied: Pillow<=7.2.0 in /usr/lib/python3/dist-packages (from gym>=0.14.0->tensortrade==1.0.2.dev0) (7.0.0)\n",
      "Requirement already satisfied: cloudpickle<1.7.0,>=1.2.0 in /usr/local/lib/python3.8/dist-packages/cloudpickle-1.6.0-py3.8.egg (from gym>=0.14.0->tensortrade==1.0.2.dev0) (1.6.0)\n",
      "Requirement already satisfied: pyglet<=1.5.0,>=1.4.0 in /usr/local/lib/python3.8/dist-packages/pyglet-1.5.0-py3.8.egg (from gym>=0.14.0->tensortrade==1.0.2.dev0) (1.5.0)\n",
      "Requirement already satisfied: scipy in /home/klemen/.local/lib/python3.8/site-packages (from gym>=0.14.0->tensortrade==1.0.2.dev0) (1.5.4)\n",
      "Requirement already satisfied: jedi>=0.10 in /home/klemen/.local/lib/python3.8/site-packages (from ipython>=7.12.0->tensortrade==1.0.2.dev0) (0.18.0)\n",
      "Requirement already satisfied: decorator in /home/klemen/.local/lib/python3.8/site-packages (from ipython>=7.12.0->tensortrade==1.0.2.dev0) (4.4.2)\n",
      "Requirement already satisfied: traitlets>=4.2 in /home/klemen/.local/lib/python3.8/site-packages (from ipython>=7.12.0->tensortrade==1.0.2.dev0) (5.0.5)\n",
      "Requirement already satisfied: pygments in /home/klemen/.local/lib/python3.8/site-packages (from ipython>=7.12.0->tensortrade==1.0.2.dev0) (2.7.3)\n",
      "Requirement already satisfied: setuptools>=18.5 in /usr/lib/python3/dist-packages (from ipython>=7.12.0->tensortrade==1.0.2.dev0) (45.2.0)\n",
      "Requirement already satisfied: pickleshare in /home/klemen/.local/lib/python3.8/site-packages (from ipython>=7.12.0->tensortrade==1.0.2.dev0) (0.7.5)\n",
      "Requirement already satisfied: backcall in /home/klemen/.local/lib/python3.8/site-packages (from ipython>=7.12.0->tensortrade==1.0.2.dev0) (0.2.0)\n",
      "Requirement already satisfied: pexpect>4.3; sys_platform != \"win32\" in /usr/lib/python3/dist-packages (from ipython>=7.12.0->tensortrade==1.0.2.dev0) (4.6.0)\n",
      "Requirement already satisfied: prompt-toolkit!=3.0.0,!=3.0.1,<3.1.0,>=2.0.0 in /home/klemen/.local/lib/python3.8/site-packages (from ipython>=7.12.0->tensortrade==1.0.2.dev0) (3.0.8)\n",
      "Requirement already satisfied: kiwisolver>=1.0.1 in /home/klemen/.local/lib/python3.8/site-packages (from matplotlib>=3.1.1->tensortrade==1.0.2.dev0) (1.3.1)\n",
      "Requirement already satisfied: pyparsing!=2.0.4,!=2.1.2,!=2.1.6,>=2.0.3 in /home/klemen/.local/lib/python3.8/site-packages (from matplotlib>=3.1.1->tensortrade==1.0.2.dev0) (2.4.7)\n",
      "Requirement already satisfied: cycler>=0.10 in /home/klemen/.local/lib/python3.8/site-packages (from matplotlib>=3.1.1->tensortrade==1.0.2.dev0) (0.10.0)\n",
      "Requirement already satisfied: python-dateutil>=2.1 in /usr/lib/python3/dist-packages (from matplotlib>=3.1.1->tensortrade==1.0.2.dev0) (2.7.3)\n",
      "Requirement already satisfied: pytz>=2017.3 in /usr/lib/python3/dist-packages (from pandas>=0.25.0->tensortrade==1.0.2.dev0) (2019.3)\n",
      "Requirement already satisfied: retrying>=1.3.3 in /home/klemen/.local/lib/python3.8/site-packages (from plotly>=4.5.0->tensortrade==1.0.2.dev0) (1.3.3)\n",
      "Requirement already satisfied: six in /home/klemen/.local/lib/python3.8/site-packages (from plotly>=4.5.0->tensortrade==1.0.2.dev0) (1.15.0)\n",
      "Requirement already satisfied: gast==0.3.3 in /home/klemen/.local/lib/python3.8/site-packages (from tensorflow>=2.1.0->tensortrade==1.0.2.dev0) (0.3.3)\n",
      "Requirement already satisfied: tensorboard~=2.4 in /home/klemen/.local/lib/python3.8/site-packages (from tensorflow>=2.1.0->tensortrade==1.0.2.dev0) (2.4.0)\n",
      "Requirement already satisfied: keras-preprocessing~=1.1.2 in /home/klemen/.local/lib/python3.8/site-packages (from tensorflow>=2.1.0->tensortrade==1.0.2.dev0) (1.1.2)\n",
      "Requirement already satisfied: wrapt~=1.12.1 in /home/klemen/.local/lib/python3.8/site-packages (from tensorflow>=2.1.0->tensortrade==1.0.2.dev0) (1.12.1)\n",
      "Requirement already satisfied: protobuf>=3.9.2 in /home/klemen/.local/lib/python3.8/site-packages (from tensorflow>=2.1.0->tensortrade==1.0.2.dev0) (3.14.0)\n",
      "Requirement already satisfied: google-pasta~=0.2 in /home/klemen/.local/lib/python3.8/site-packages (from tensorflow>=2.1.0->tensortrade==1.0.2.dev0) (0.2.0)\n",
      "Requirement already satisfied: typing-extensions~=3.7.4 in /home/klemen/.local/lib/python3.8/site-packages (from tensorflow>=2.1.0->tensortrade==1.0.2.dev0) (3.7.4.3)\n",
      "Requirement already satisfied: absl-py~=0.10 in /home/klemen/.local/lib/python3.8/site-packages (from tensorflow>=2.1.0->tensortrade==1.0.2.dev0) (0.11.0)\n",
      "Requirement already satisfied: opt-einsum~=3.3.0 in /home/klemen/.local/lib/python3.8/site-packages (from tensorflow>=2.1.0->tensortrade==1.0.2.dev0) (3.3.0)\n",
      "Requirement already satisfied: tensorflow-estimator<2.5.0,>=2.4.0rc0 in /home/klemen/.local/lib/python3.8/site-packages (from tensorflow>=2.1.0->tensortrade==1.0.2.dev0) (2.4.0)\n",
      "Requirement already satisfied: astunparse~=1.6.3 in /home/klemen/.local/lib/python3.8/site-packages (from tensorflow>=2.1.0->tensortrade==1.0.2.dev0) (1.6.3)\n",
      "Requirement already satisfied: h5py~=2.10.0 in /home/klemen/.local/lib/python3.8/site-packages (from tensorflow>=2.1.0->tensortrade==1.0.2.dev0) (2.10.0)\n",
      "Requirement already satisfied: wheel~=0.35 in /home/klemen/.local/lib/python3.8/site-packages (from tensorflow>=2.1.0->tensortrade==1.0.2.dev0) (0.36.2)\n",
      "Requirement already satisfied: grpcio~=1.32.0 in /home/klemen/.local/lib/python3.8/site-packages (from tensorflow>=2.1.0->tensortrade==1.0.2.dev0) (1.32.0)\n",
      "Requirement already satisfied: flatbuffers~=1.12.0 in /home/klemen/.local/lib/python3.8/site-packages (from tensorflow>=2.1.0->tensortrade==1.0.2.dev0) (1.12)\n",
      "Requirement already satisfied: termcolor~=1.1.0 in /home/klemen/.local/lib/python3.8/site-packages (from tensorflow>=2.1.0->tensortrade==1.0.2.dev0) (1.1.0)\n",
      "Requirement already satisfied: future in /usr/lib/python3/dist-packages (from pyglet<=1.5.0,>=1.4.0->gym>=0.14.0->tensortrade==1.0.2.dev0) (0.18.2)\n",
      "Requirement already satisfied: parso<0.9.0,>=0.8.0 in /home/klemen/.local/lib/python3.8/site-packages (from jedi>=0.10->ipython>=7.12.0->tensortrade==1.0.2.dev0) (0.8.1)\n",
      "Requirement already satisfied: ipython-genutils in /home/klemen/.local/lib/python3.8/site-packages (from traitlets>=4.2->ipython>=7.12.0->tensortrade==1.0.2.dev0) (0.2.0)\n",
      "Requirement already satisfied: wcwidth in /home/klemen/.local/lib/python3.8/site-packages (from prompt-toolkit!=3.0.0,!=3.0.1,<3.1.0,>=2.0.0->ipython>=7.12.0->tensortrade==1.0.2.dev0) (0.2.5)\n",
      "Requirement already satisfied: tensorboard-plugin-wit>=1.6.0 in /home/klemen/.local/lib/python3.8/site-packages (from tensorboard~=2.4->tensorflow>=2.1.0->tensortrade==1.0.2.dev0) (1.7.0)\n",
      "Requirement already satisfied: markdown>=2.6.8 in /home/klemen/.local/lib/python3.8/site-packages (from tensorboard~=2.4->tensorflow>=2.1.0->tensortrade==1.0.2.dev0) (3.3.3)\n",
      "Requirement already satisfied: werkzeug>=0.11.15 in /home/klemen/.local/lib/python3.8/site-packages (from tensorboard~=2.4->tensorflow>=2.1.0->tensortrade==1.0.2.dev0) (1.0.1)\n",
      "Requirement already satisfied: requests<3,>=2.21.0 in /usr/lib/python3/dist-packages (from tensorboard~=2.4->tensorflow>=2.1.0->tensortrade==1.0.2.dev0) (2.22.0)\n",
      "Requirement already satisfied: google-auth<2,>=1.6.3 in /home/klemen/.local/lib/python3.8/site-packages (from tensorboard~=2.4->tensorflow>=2.1.0->tensortrade==1.0.2.dev0) (1.24.0)\n",
      "Requirement already satisfied: google-auth-oauthlib<0.5,>=0.4.1 in /home/klemen/.local/lib/python3.8/site-packages (from tensorboard~=2.4->tensorflow>=2.1.0->tensortrade==1.0.2.dev0) (0.4.2)\n",
      "Requirement already satisfied: cachetools<5.0,>=2.0.0 in /home/klemen/.local/lib/python3.8/site-packages (from google-auth<2,>=1.6.3->tensorboard~=2.4->tensorflow>=2.1.0->tensortrade==1.0.2.dev0) (4.2.0)\n",
      "Requirement already satisfied: rsa<5,>=3.1.4; python_version >= \"3.6\" in /home/klemen/.local/lib/python3.8/site-packages (from google-auth<2,>=1.6.3->tensorboard~=2.4->tensorflow>=2.1.0->tensortrade==1.0.2.dev0) (4.6)\n",
      "Requirement already satisfied: pyasn1-modules>=0.2.1 in /home/klemen/.local/lib/python3.8/site-packages (from google-auth<2,>=1.6.3->tensorboard~=2.4->tensorflow>=2.1.0->tensortrade==1.0.2.dev0) (0.2.8)\n",
      "Requirement already satisfied: requests-oauthlib>=0.7.0 in /home/klemen/.local/lib/python3.8/site-packages (from google-auth-oauthlib<0.5,>=0.4.1->tensorboard~=2.4->tensorflow>=2.1.0->tensortrade==1.0.2.dev0) (1.3.0)\n",
      "Requirement already satisfied: pyasn1>=0.1.3 in /home/klemen/.local/lib/python3.8/site-packages (from rsa<5,>=3.1.4; python_version >= \"3.6\"->google-auth<2,>=1.6.3->tensorboard~=2.4->tensorflow>=2.1.0->tensortrade==1.0.2.dev0) (0.4.8)\n",
      "Requirement already satisfied: oauthlib>=3.0.0 in /usr/lib/python3/dist-packages (from requests-oauthlib>=0.7.0->google-auth-oauthlib<0.5,>=0.4.1->tensorboard~=2.4->tensorflow>=2.1.0->tensortrade==1.0.2.dev0) (3.1.0)\n"
     ]
    },
    {
     "name": "stdout",
     "output_type": "stream",
     "text": [
      "Building wheels for collected packages: tensortrade\n",
      "  Building wheel for tensortrade (setup.py) ... \u001b[?25ldone\n",
      "\u001b[?25h  Created wheel for tensortrade: filename=tensortrade-1.0.2.dev0-py3-none-any.whl size=133825 sha256=9ce38442736a5b71c4bd8f1e177ad25d420f050c08154e3474e86fc95b2c9279\n",
      "  Stored in directory: /tmp/pip-ephem-wheel-cache-g21c5jch/wheels/56/40/cd/062610cd30890c4d916f4d2141799782cfe27a6357233016f4\n",
      "Successfully built tensortrade\n"
     ]
    }
   ],
   "source": [
    "!python3 -m pip install git+https://github.com/tensortrade-org/tensortrade.git"
   ]
  },
  {
   "cell_type": "markdown",
   "metadata": {},
   "source": [
    "## Setup Data Fetching"
   ]
  },
  {
   "cell_type": "code",
   "execution_count": 28,
   "metadata": {},
   "outputs": [],
   "source": [
    "import pandas as pd\n",
    "import tensortrade.env.default as default\n",
    "\n",
    "from tensortrade.data.cdd import CryptoDataDownload\n",
    "from tensortrade.feed.core import Stream, DataFeed\n",
    "from tensortrade.oms.exchanges import Exchange\n",
    "from tensortrade.oms.services.execution.simulated import execute_order\n",
    "from tensortrade.oms.instruments import USD, BTC, ETH\n",
    "from tensortrade.oms.wallets import Wallet, Portfolio\n",
    "from tensortrade.agents import DQNAgent\n",
    "from tensortrade.oms.instruments import Instrument\n",
    "from tensortrade.env.default.rewards import RiskAdjustedReturns\n",
    "\n",
    "\n",
    "%matplotlib inline"
   ]
  },
  {
   "cell_type": "code",
   "execution_count": 29,
   "metadata": {},
   "outputs": [],
   "source": [
    "# https://www.tensortrade.org/en/latest/examples/train_and_evaluate.html\n",
    "cdd = CryptoDataDownload()\n",
    "\n",
    "data = cdd.fetch(\"Bitstamp\", \"USD\", \"BTC\", \"1h\")"
   ]
  },
  {
   "cell_type": "code",
   "execution_count": 30,
   "metadata": {},
   "outputs": [
    {
     "data": {
      "text/html": [
       "<div>\n",
       "<style scoped>\n",
       "    .dataframe tbody tr th:only-of-type {\n",
       "        vertical-align: middle;\n",
       "    }\n",
       "\n",
       "    .dataframe tbody tr th {\n",
       "        vertical-align: top;\n",
       "    }\n",
       "\n",
       "    .dataframe thead th {\n",
       "        text-align: right;\n",
       "    }\n",
       "</style>\n",
       "<table border=\"1\" class=\"dataframe\">\n",
       "  <thead>\n",
       "    <tr style=\"text-align: right;\">\n",
       "      <th></th>\n",
       "      <th>date</th>\n",
       "      <th>unix</th>\n",
       "      <th>open</th>\n",
       "      <th>high</th>\n",
       "      <th>low</th>\n",
       "      <th>close</th>\n",
       "      <th>volume</th>\n",
       "    </tr>\n",
       "  </thead>\n",
       "  <tbody>\n",
       "    <tr>\n",
       "      <th>0</th>\n",
       "      <td>2018-05-15 06:00:00</td>\n",
       "      <td>1526364000</td>\n",
       "      <td>8733.86</td>\n",
       "      <td>8796.68</td>\n",
       "      <td>8707.28</td>\n",
       "      <td>8740.99</td>\n",
       "      <td>559.93</td>\n",
       "    </tr>\n",
       "    <tr>\n",
       "      <th>1</th>\n",
       "      <td>2018-05-15 07:00:00</td>\n",
       "      <td>1526367600</td>\n",
       "      <td>8740.99</td>\n",
       "      <td>8766.00</td>\n",
       "      <td>8721.11</td>\n",
       "      <td>8739.00</td>\n",
       "      <td>273.58</td>\n",
       "    </tr>\n",
       "    <tr>\n",
       "      <th>2</th>\n",
       "      <td>2018-05-15 08:00:00</td>\n",
       "      <td>1526371200</td>\n",
       "      <td>8739.00</td>\n",
       "      <td>8750.27</td>\n",
       "      <td>8660.53</td>\n",
       "      <td>8728.49</td>\n",
       "      <td>917.79</td>\n",
       "    </tr>\n",
       "    <tr>\n",
       "      <th>3</th>\n",
       "      <td>2018-05-15 09:00:00</td>\n",
       "      <td>1526374800</td>\n",
       "      <td>8728.49</td>\n",
       "      <td>8754.40</td>\n",
       "      <td>8701.35</td>\n",
       "      <td>8708.32</td>\n",
       "      <td>182.62</td>\n",
       "    </tr>\n",
       "    <tr>\n",
       "      <th>4</th>\n",
       "      <td>2018-05-15 10:00:00</td>\n",
       "      <td>1526378400</td>\n",
       "      <td>8708.32</td>\n",
       "      <td>8865.00</td>\n",
       "      <td>8695.11</td>\n",
       "      <td>8795.90</td>\n",
       "      <td>1260.69</td>\n",
       "    </tr>\n",
       "  </tbody>\n",
       "</table>\n",
       "</div>"
      ],
      "text/plain": [
       "                 date        unix     open     high      low    close   volume\n",
       "0 2018-05-15 06:00:00  1526364000  8733.86  8796.68  8707.28  8740.99   559.93\n",
       "1 2018-05-15 07:00:00  1526367600  8740.99  8766.00  8721.11  8739.00   273.58\n",
       "2 2018-05-15 08:00:00  1526371200  8739.00  8750.27  8660.53  8728.49   917.79\n",
       "3 2018-05-15 09:00:00  1526374800  8728.49  8754.40  8701.35  8708.32   182.62\n",
       "4 2018-05-15 10:00:00  1526378400  8708.32  8865.00  8695.11  8795.90  1260.69"
      ]
     },
     "execution_count": 30,
     "metadata": {},
     "output_type": "execute_result"
    }
   ],
   "source": [
    "data.head()"
   ]
  },
  {
   "cell_type": "markdown",
   "metadata": {},
   "source": [
    "## Create features with the feed module"
   ]
  },
  {
   "cell_type": "code",
   "execution_count": 31,
   "metadata": {},
   "outputs": [],
   "source": [
    "def rsi(price: Stream[float], period: float) -> Stream[float]:\n",
    "    r = price.diff()\n",
    "    upside = r.clamp_min(0).abs()\n",
    "    downside = r.clamp_max(0).abs()\n",
    "    rs = upside.ewm(alpha=1 / period).mean() / downside.ewm(alpha=1 / period).mean()\n",
    "    return 100*(1 - (1 + rs) ** -1)\n",
    "\n",
    "\n",
    "def macd(price: Stream[float], fast: float, slow: float, signal: float) -> Stream[float]:\n",
    "    fm = price.ewm(span=fast, adjust=False).mean()\n",
    "    sm = price.ewm(span=slow, adjust=False).mean()\n",
    "    md = fm - sm\n",
    "    signal = md - md.ewm(span=signal, adjust=False).mean()\n",
    "    return signal\n",
    "\n",
    "\n",
    "features = []\n",
    "for c in data.columns[1:]:\n",
    "    s = Stream.source(list(data[c]), dtype=\"float\").rename(data[c].name)\n",
    "    features += [s]\n",
    "\n",
    "cp = Stream.select(features, lambda s: s.name == \"close\")\n",
    "\n",
    "features = [\n",
    "    cp.log().diff().rename(\"lr\"),\n",
    "    rsi(cp, period=20).rename(\"rsi\"),\n",
    "    macd(cp, fast=10, slow=50, signal=5).rename(\"macd\")\n",
    "]\n",
    "\n",
    "feed = DataFeed(features)\n",
    "feed.compile()"
   ]
  },
  {
   "cell_type": "code",
   "execution_count": 32,
   "metadata": {},
   "outputs": [
    {
     "name": "stdout",
     "output_type": "stream",
     "text": [
      "{'lr': nan, 'rsi': nan, 'macd': 0.0}\n",
      "{'lr': -0.00022768891842694927, 'rsi': 0.0, 'macd': -0.1891859774210995}\n",
      "{'lr': -0.0012033785355889393, 'rsi': 0.0, 'macd': -1.2726616061000744}\n",
      "{'lr': -0.0023134975946028646, 'rsi': 0.0, 'macd': -3.6577343503541435}\n",
      "{'lr': 0.01000681330867259, 'rsi': 74.26253567956897, 'macd': 3.7087743627464844}\n"
     ]
    }
   ],
   "source": [
    "for i in range(5):\n",
    "    print(feed.next())"
   ]
  },
  {
   "cell_type": "markdown",
   "metadata": {},
   "source": [
    "## Setup Trading Environment"
   ]
  },
  {
   "cell_type": "code",
   "execution_count": 16,
   "metadata": {},
   "outputs": [],
   "source": [
    "bitstamp = Exchange(\"bitstamp\", service=execute_order)(\n",
    "    Stream.source(list(data[\"close\"]), dtype=\"float\").rename(\"USD-BTC\")\n",
    ")\n",
    "\n",
    "portfolio = Portfolio(USD, [\n",
    "    Wallet(bitstamp, 10000 * USD),\n",
    "    Wallet(bitstamp, 10 * BTC)\n",
    "])\n",
    "\n",
    "\n",
    "renderer_feed = DataFeed([\n",
    "    Stream.source(list(data[\"date\"])).rename(\"date\"),\n",
    "    Stream.source(list(data[\"open\"]), dtype=\"float\").rename(\"open\"),\n",
    "    Stream.source(list(data[\"high\"]), dtype=\"float\").rename(\"high\"),\n",
    "    Stream.source(list(data[\"low\"]), dtype=\"float\").rename(\"low\"),\n",
    "    Stream.source(list(data[\"close\"]), dtype=\"float\").rename(\"close\"), \n",
    "    Stream.source(list(data[\"volume\"]), dtype=\"float\").rename(\"volume\") \n",
    "])\n",
    "\n",
    "USDT = Instrument('USDT', 10, 'USD Tether')\n",
    "BTC = Instrument('BTC', 10, 'Bitcoin')\n",
    "\n",
    "env = default.create(\n",
    "    portfolio=portfolio,\n",
    "    action_scheme=\"simple\",\n",
    "    #action_scheme=\"managed-risk\",\n",
    "    reward_scheme = RiskAdjustedReturns(return_algorithm='sortino'),\n",
    "    #reward_scheme=\"risk-adjusted\",\n",
    "    feed=feed,\n",
    "    renderer_feed=renderer_feed,\n",
    "    renderer=default.renderers.PlotlyTradingChart(),\n",
    "    window_size=20\n",
    ")"
   ]
  },
  {
   "cell_type": "code",
   "execution_count": 17,
   "metadata": {},
   "outputs": [
    {
     "data": {
      "text/plain": [
       "{'internal': {'bitstamp:/USD-BTC': 8740.99,\n",
       "  'bitstamp:/USD:/free': 10000.0,\n",
       "  'bitstamp:/USD:/locked': 0.0,\n",
       "  'bitstamp:/USD:/total': 10000.0,\n",
       "  'bitstamp:/BTC:/free': 10.0,\n",
       "  'bitstamp:/BTC:/locked': 0.0,\n",
       "  'bitstamp:/BTC:/total': 10.0,\n",
       "  'bitstamp:/BTC:/worth': 87409.9,\n",
       "  'net_worth': 97409.9},\n",
       " 'external': {'lr': nan, 'rsi': nan, 'macd': 0.0},\n",
       " 'renderer': {'date': Timestamp('2018-05-15 06:00:00'),\n",
       "  'open': 8733.86,\n",
       "  'high': 8796.68,\n",
       "  'low': 8707.28,\n",
       "  'close': 8740.99,\n",
       "  'volume': 559.93}}"
      ]
     },
     "execution_count": 17,
     "metadata": {},
     "output_type": "execute_result"
    }
   ],
   "source": [
    "env.observer.feed.next()"
   ]
  },
  {
   "cell_type": "markdown",
   "metadata": {},
   "source": [
    "## Setup and Train DQN Agent"
   ]
  },
  {
   "cell_type": "code",
   "execution_count": 19,
   "metadata": {
    "scrolled": false
   },
   "outputs": [
    {
     "ename": "KeyboardInterrupt",
     "evalue": "",
     "output_type": "error",
     "traceback": [
      "\u001b[0;31m---------------------------------------------------------------------------\u001b[0m",
      "\u001b[0;31mKeyboardInterrupt\u001b[0m                         Traceback (most recent call last)",
      "\u001b[0;32m<ipython-input-19-2d0e558d2c2e>\u001b[0m in \u001b[0;36m<module>\u001b[0;34m\u001b[0m\n\u001b[1;32m      1\u001b[0m \u001b[0magent\u001b[0m \u001b[0;34m=\u001b[0m \u001b[0mDQNAgent\u001b[0m\u001b[0;34m(\u001b[0m\u001b[0menv\u001b[0m\u001b[0;34m)\u001b[0m\u001b[0;34m\u001b[0m\u001b[0;34m\u001b[0m\u001b[0m\n\u001b[1;32m      2\u001b[0m \u001b[0;34m\u001b[0m\u001b[0m\n\u001b[0;32m----> 3\u001b[0;31m \u001b[0magent\u001b[0m\u001b[0;34m.\u001b[0m\u001b[0mtrain\u001b[0m\u001b[0;34m(\u001b[0m\u001b[0mn_steps\u001b[0m\u001b[0;34m=\u001b[0m\u001b[0;36m200\u001b[0m\u001b[0;34m,\u001b[0m \u001b[0mn_episodes\u001b[0m\u001b[0;34m=\u001b[0m\u001b[0;36m200\u001b[0m\u001b[0;34m,\u001b[0m \u001b[0msave_path\u001b[0m\u001b[0;34m=\u001b[0m\u001b[0;34m\"agents/\"\u001b[0m\u001b[0;34m)\u001b[0m\u001b[0;34m\u001b[0m\u001b[0;34m\u001b[0m\u001b[0m\n\u001b[0m",
      "\u001b[0;32m/usr/local/lib/python3.8/dist-packages/tensortrade-1.0.2.dev0-py3.8.egg/tensortrade/agents/dqn_agent.py\u001b[0m in \u001b[0;36mtrain\u001b[0;34m(self, n_steps, n_episodes, save_every, save_path, callback, **kwargs)\u001b[0m\n\u001b[1;32m    167\u001b[0m                     \u001b[0;32mcontinue\u001b[0m\u001b[0;34m\u001b[0m\u001b[0;34m\u001b[0m\u001b[0m\n\u001b[1;32m    168\u001b[0m \u001b[0;34m\u001b[0m\u001b[0m\n\u001b[0;32m--> 169\u001b[0;31m                 \u001b[0mself\u001b[0m\u001b[0;34m.\u001b[0m\u001b[0m_apply_gradient_descent\u001b[0m\u001b[0;34m(\u001b[0m\u001b[0mmemory\u001b[0m\u001b[0;34m,\u001b[0m \u001b[0mbatch_size\u001b[0m\u001b[0;34m,\u001b[0m \u001b[0mlearning_rate\u001b[0m\u001b[0;34m,\u001b[0m \u001b[0mdiscount_factor\u001b[0m\u001b[0;34m)\u001b[0m\u001b[0;34m\u001b[0m\u001b[0;34m\u001b[0m\u001b[0m\n\u001b[0m\u001b[1;32m    170\u001b[0m \u001b[0;34m\u001b[0m\u001b[0m\n\u001b[1;32m    171\u001b[0m                 \u001b[0;32mif\u001b[0m \u001b[0mn_steps\u001b[0m \u001b[0;32mand\u001b[0m \u001b[0msteps_done\u001b[0m \u001b[0;34m>=\u001b[0m \u001b[0mn_steps\u001b[0m\u001b[0;34m:\u001b[0m\u001b[0;34m\u001b[0m\u001b[0;34m\u001b[0m\u001b[0m\n",
      "\u001b[0;32m/usr/local/lib/python3.8/dist-packages/tensortrade-1.0.2.dev0-py3.8.egg/tensortrade/agents/dqn_agent.py\u001b[0m in \u001b[0;36m_apply_gradient_descent\u001b[0;34m(self, memory, batch_size, learning_rate, discount_factor)\u001b[0m\n\u001b[1;32m     97\u001b[0m         \u001b[0maction_batch\u001b[0m \u001b[0;34m=\u001b[0m \u001b[0mtf\u001b[0m\u001b[0;34m.\u001b[0m\u001b[0mconvert_to_tensor\u001b[0m\u001b[0;34m(\u001b[0m\u001b[0mbatch\u001b[0m\u001b[0;34m.\u001b[0m\u001b[0maction\u001b[0m\u001b[0;34m)\u001b[0m\u001b[0;34m\u001b[0m\u001b[0;34m\u001b[0m\u001b[0m\n\u001b[1;32m     98\u001b[0m         \u001b[0mreward_batch\u001b[0m \u001b[0;34m=\u001b[0m \u001b[0mtf\u001b[0m\u001b[0;34m.\u001b[0m\u001b[0mconvert_to_tensor\u001b[0m\u001b[0;34m(\u001b[0m\u001b[0mbatch\u001b[0m\u001b[0;34m.\u001b[0m\u001b[0mreward\u001b[0m\u001b[0;34m,\u001b[0m \u001b[0mdtype\u001b[0m\u001b[0;34m=\u001b[0m\u001b[0mtf\u001b[0m\u001b[0;34m.\u001b[0m\u001b[0mfloat32\u001b[0m\u001b[0;34m)\u001b[0m\u001b[0;34m\u001b[0m\u001b[0;34m\u001b[0m\u001b[0m\n\u001b[0;32m---> 99\u001b[0;31m         \u001b[0mnext_state_batch\u001b[0m \u001b[0;34m=\u001b[0m \u001b[0mtf\u001b[0m\u001b[0;34m.\u001b[0m\u001b[0mconvert_to_tensor\u001b[0m\u001b[0;34m(\u001b[0m\u001b[0mbatch\u001b[0m\u001b[0;34m.\u001b[0m\u001b[0mnext_state\u001b[0m\u001b[0;34m)\u001b[0m\u001b[0;34m\u001b[0m\u001b[0;34m\u001b[0m\u001b[0m\n\u001b[0m\u001b[1;32m    100\u001b[0m         \u001b[0mdone_batch\u001b[0m \u001b[0;34m=\u001b[0m \u001b[0mtf\u001b[0m\u001b[0;34m.\u001b[0m\u001b[0mconvert_to_tensor\u001b[0m\u001b[0;34m(\u001b[0m\u001b[0mbatch\u001b[0m\u001b[0;34m.\u001b[0m\u001b[0mdone\u001b[0m\u001b[0;34m)\u001b[0m\u001b[0;34m\u001b[0m\u001b[0;34m\u001b[0m\u001b[0m\n\u001b[1;32m    101\u001b[0m \u001b[0;34m\u001b[0m\u001b[0m\n",
      "\u001b[0;32m~/.local/lib/python3.8/site-packages/tensorflow/python/util/dispatch.py\u001b[0m in \u001b[0;36mwrapper\u001b[0;34m(*args, **kwargs)\u001b[0m\n\u001b[1;32m    199\u001b[0m     \u001b[0;34m\"\"\"Call target, and fall back on dispatchers if there is a TypeError.\"\"\"\u001b[0m\u001b[0;34m\u001b[0m\u001b[0;34m\u001b[0m\u001b[0m\n\u001b[1;32m    200\u001b[0m     \u001b[0;32mtry\u001b[0m\u001b[0;34m:\u001b[0m\u001b[0;34m\u001b[0m\u001b[0;34m\u001b[0m\u001b[0m\n\u001b[0;32m--> 201\u001b[0;31m       \u001b[0;32mreturn\u001b[0m \u001b[0mtarget\u001b[0m\u001b[0;34m(\u001b[0m\u001b[0;34m*\u001b[0m\u001b[0margs\u001b[0m\u001b[0;34m,\u001b[0m \u001b[0;34m**\u001b[0m\u001b[0mkwargs\u001b[0m\u001b[0;34m)\u001b[0m\u001b[0;34m\u001b[0m\u001b[0;34m\u001b[0m\u001b[0m\n\u001b[0m\u001b[1;32m    202\u001b[0m     \u001b[0;32mexcept\u001b[0m \u001b[0;34m(\u001b[0m\u001b[0mTypeError\u001b[0m\u001b[0;34m,\u001b[0m \u001b[0mValueError\u001b[0m\u001b[0;34m)\u001b[0m\u001b[0;34m:\u001b[0m\u001b[0;34m\u001b[0m\u001b[0;34m\u001b[0m\u001b[0m\n\u001b[1;32m    203\u001b[0m       \u001b[0;31m# Note: convert_to_eager_tensor currently raises a ValueError, not a\u001b[0m\u001b[0;34m\u001b[0m\u001b[0;34m\u001b[0m\u001b[0;34m\u001b[0m\u001b[0m\n",
      "\u001b[0;32m~/.local/lib/python3.8/site-packages/tensorflow/python/framework/ops.py\u001b[0m in \u001b[0;36mconvert_to_tensor_v2_with_dispatch\u001b[0;34m(value, dtype, dtype_hint, name)\u001b[0m\n\u001b[1;32m   1402\u001b[0m     \u001b[0mValueError\u001b[0m\u001b[0;34m:\u001b[0m \u001b[0mIf\u001b[0m \u001b[0mthe\u001b[0m\u001b[0;31m \u001b[0m\u001b[0;31m`\u001b[0m\u001b[0mvalue\u001b[0m\u001b[0;31m`\u001b[0m \u001b[0;32mis\u001b[0m \u001b[0ma\u001b[0m \u001b[0mtensor\u001b[0m \u001b[0;32mnot\u001b[0m \u001b[0mof\u001b[0m \u001b[0mgiven\u001b[0m\u001b[0;31m \u001b[0m\u001b[0;31m`\u001b[0m\u001b[0mdtype\u001b[0m\u001b[0;31m`\u001b[0m \u001b[0;32min\u001b[0m \u001b[0mgraph\u001b[0m \u001b[0mmode\u001b[0m\u001b[0;34m.\u001b[0m\u001b[0;34m\u001b[0m\u001b[0;34m\u001b[0m\u001b[0m\n\u001b[1;32m   1403\u001b[0m   \"\"\"\n\u001b[0;32m-> 1404\u001b[0;31m   return convert_to_tensor_v2(\n\u001b[0m\u001b[1;32m   1405\u001b[0m       value, dtype=dtype, dtype_hint=dtype_hint, name=name)\n\u001b[1;32m   1406\u001b[0m \u001b[0;34m\u001b[0m\u001b[0m\n",
      "\u001b[0;32m~/.local/lib/python3.8/site-packages/tensorflow/python/framework/ops.py\u001b[0m in \u001b[0;36mconvert_to_tensor_v2\u001b[0;34m(value, dtype, dtype_hint, name)\u001b[0m\n\u001b[1;32m   1408\u001b[0m \u001b[0;32mdef\u001b[0m \u001b[0mconvert_to_tensor_v2\u001b[0m\u001b[0;34m(\u001b[0m\u001b[0mvalue\u001b[0m\u001b[0;34m,\u001b[0m \u001b[0mdtype\u001b[0m\u001b[0;34m=\u001b[0m\u001b[0;32mNone\u001b[0m\u001b[0;34m,\u001b[0m \u001b[0mdtype_hint\u001b[0m\u001b[0;34m=\u001b[0m\u001b[0;32mNone\u001b[0m\u001b[0;34m,\u001b[0m \u001b[0mname\u001b[0m\u001b[0;34m=\u001b[0m\u001b[0;32mNone\u001b[0m\u001b[0;34m)\u001b[0m\u001b[0;34m:\u001b[0m\u001b[0;34m\u001b[0m\u001b[0;34m\u001b[0m\u001b[0m\n\u001b[1;32m   1409\u001b[0m   \u001b[0;34m\"\"\"Converts the given `value` to a `Tensor`.\"\"\"\u001b[0m\u001b[0;34m\u001b[0m\u001b[0;34m\u001b[0m\u001b[0m\n\u001b[0;32m-> 1410\u001b[0;31m   return convert_to_tensor(\n\u001b[0m\u001b[1;32m   1411\u001b[0m       \u001b[0mvalue\u001b[0m\u001b[0;34m=\u001b[0m\u001b[0mvalue\u001b[0m\u001b[0;34m,\u001b[0m\u001b[0;34m\u001b[0m\u001b[0;34m\u001b[0m\u001b[0m\n\u001b[1;32m   1412\u001b[0m       \u001b[0mdtype\u001b[0m\u001b[0;34m=\u001b[0m\u001b[0mdtype\u001b[0m\u001b[0;34m,\u001b[0m\u001b[0;34m\u001b[0m\u001b[0;34m\u001b[0m\u001b[0m\n",
      "\u001b[0;32m~/.local/lib/python3.8/site-packages/tensorflow/python/profiler/trace.py\u001b[0m in \u001b[0;36mwrapped\u001b[0;34m(*args, **kwargs)\u001b[0m\n\u001b[1;32m    161\u001b[0m         \u001b[0;32mwith\u001b[0m \u001b[0mTrace\u001b[0m\u001b[0;34m(\u001b[0m\u001b[0mtrace_name\u001b[0m\u001b[0;34m,\u001b[0m \u001b[0;34m**\u001b[0m\u001b[0mtrace_kwargs\u001b[0m\u001b[0;34m)\u001b[0m\u001b[0;34m:\u001b[0m\u001b[0;34m\u001b[0m\u001b[0;34m\u001b[0m\u001b[0m\n\u001b[1;32m    162\u001b[0m           \u001b[0;32mreturn\u001b[0m \u001b[0mfunc\u001b[0m\u001b[0;34m(\u001b[0m\u001b[0;34m*\u001b[0m\u001b[0margs\u001b[0m\u001b[0;34m,\u001b[0m \u001b[0;34m**\u001b[0m\u001b[0mkwargs\u001b[0m\u001b[0;34m)\u001b[0m\u001b[0;34m\u001b[0m\u001b[0;34m\u001b[0m\u001b[0m\n\u001b[0;32m--> 163\u001b[0;31m       \u001b[0;32mreturn\u001b[0m \u001b[0mfunc\u001b[0m\u001b[0;34m(\u001b[0m\u001b[0;34m*\u001b[0m\u001b[0margs\u001b[0m\u001b[0;34m,\u001b[0m \u001b[0;34m**\u001b[0m\u001b[0mkwargs\u001b[0m\u001b[0;34m)\u001b[0m\u001b[0;34m\u001b[0m\u001b[0;34m\u001b[0m\u001b[0m\n\u001b[0m\u001b[1;32m    164\u001b[0m \u001b[0;34m\u001b[0m\u001b[0m\n\u001b[1;32m    165\u001b[0m     \u001b[0;32mreturn\u001b[0m \u001b[0mwrapped\u001b[0m\u001b[0;34m\u001b[0m\u001b[0;34m\u001b[0m\u001b[0m\n",
      "\u001b[0;32m~/.local/lib/python3.8/site-packages/tensorflow/python/framework/ops.py\u001b[0m in \u001b[0;36mconvert_to_tensor\u001b[0;34m(value, dtype, name, as_ref, preferred_dtype, dtype_hint, ctx, accepted_result_types)\u001b[0m\n\u001b[1;32m   1538\u001b[0m \u001b[0;34m\u001b[0m\u001b[0m\n\u001b[1;32m   1539\u001b[0m     \u001b[0;32mif\u001b[0m \u001b[0mret\u001b[0m \u001b[0;32mis\u001b[0m \u001b[0;32mNone\u001b[0m\u001b[0;34m:\u001b[0m\u001b[0;34m\u001b[0m\u001b[0;34m\u001b[0m\u001b[0m\n\u001b[0;32m-> 1540\u001b[0;31m       \u001b[0mret\u001b[0m \u001b[0;34m=\u001b[0m \u001b[0mconversion_func\u001b[0m\u001b[0;34m(\u001b[0m\u001b[0mvalue\u001b[0m\u001b[0;34m,\u001b[0m \u001b[0mdtype\u001b[0m\u001b[0;34m=\u001b[0m\u001b[0mdtype\u001b[0m\u001b[0;34m,\u001b[0m \u001b[0mname\u001b[0m\u001b[0;34m=\u001b[0m\u001b[0mname\u001b[0m\u001b[0;34m,\u001b[0m \u001b[0mas_ref\u001b[0m\u001b[0;34m=\u001b[0m\u001b[0mas_ref\u001b[0m\u001b[0;34m)\u001b[0m\u001b[0;34m\u001b[0m\u001b[0;34m\u001b[0m\u001b[0m\n\u001b[0m\u001b[1;32m   1541\u001b[0m \u001b[0;34m\u001b[0m\u001b[0m\n\u001b[1;32m   1542\u001b[0m     \u001b[0;32mif\u001b[0m \u001b[0mret\u001b[0m \u001b[0;32mis\u001b[0m \u001b[0mNotImplemented\u001b[0m\u001b[0;34m:\u001b[0m\u001b[0;34m\u001b[0m\u001b[0;34m\u001b[0m\u001b[0m\n",
      "\u001b[0;32m~/.local/lib/python3.8/site-packages/tensorflow/python/framework/constant_op.py\u001b[0m in \u001b[0;36m_constant_tensor_conversion_function\u001b[0;34m(v, dtype, name, as_ref)\u001b[0m\n\u001b[1;32m    337\u001b[0m                                          as_ref=False):\n\u001b[1;32m    338\u001b[0m   \u001b[0m_\u001b[0m \u001b[0;34m=\u001b[0m \u001b[0mas_ref\u001b[0m\u001b[0;34m\u001b[0m\u001b[0;34m\u001b[0m\u001b[0m\n\u001b[0;32m--> 339\u001b[0;31m   \u001b[0;32mreturn\u001b[0m \u001b[0mconstant\u001b[0m\u001b[0;34m(\u001b[0m\u001b[0mv\u001b[0m\u001b[0;34m,\u001b[0m \u001b[0mdtype\u001b[0m\u001b[0;34m=\u001b[0m\u001b[0mdtype\u001b[0m\u001b[0;34m,\u001b[0m \u001b[0mname\u001b[0m\u001b[0;34m=\u001b[0m\u001b[0mname\u001b[0m\u001b[0;34m)\u001b[0m\u001b[0;34m\u001b[0m\u001b[0;34m\u001b[0m\u001b[0m\n\u001b[0m\u001b[1;32m    340\u001b[0m \u001b[0;34m\u001b[0m\u001b[0m\n\u001b[1;32m    341\u001b[0m \u001b[0;34m\u001b[0m\u001b[0m\n",
      "\u001b[0;32m~/.local/lib/python3.8/site-packages/tensorflow/python/framework/constant_op.py\u001b[0m in \u001b[0;36mconstant\u001b[0;34m(value, dtype, shape, name)\u001b[0m\n\u001b[1;32m    262\u001b[0m     \u001b[0mValueError\u001b[0m\u001b[0;34m:\u001b[0m \u001b[0;32mif\u001b[0m \u001b[0mcalled\u001b[0m \u001b[0mon\u001b[0m \u001b[0ma\u001b[0m \u001b[0msymbolic\u001b[0m \u001b[0mtensor\u001b[0m\u001b[0;34m.\u001b[0m\u001b[0;34m\u001b[0m\u001b[0;34m\u001b[0m\u001b[0m\n\u001b[1;32m    263\u001b[0m   \"\"\"\n\u001b[0;32m--> 264\u001b[0;31m   return _constant_impl(value, dtype, shape, name, verify_shape=False,\n\u001b[0m\u001b[1;32m    265\u001b[0m                         allow_broadcast=True)\n\u001b[1;32m    266\u001b[0m \u001b[0;34m\u001b[0m\u001b[0m\n",
      "\u001b[0;32m~/.local/lib/python3.8/site-packages/tensorflow/python/framework/constant_op.py\u001b[0m in \u001b[0;36m_constant_impl\u001b[0;34m(value, dtype, shape, name, verify_shape, allow_broadcast)\u001b[0m\n\u001b[1;32m    274\u001b[0m       \u001b[0;32mwith\u001b[0m \u001b[0mtrace\u001b[0m\u001b[0;34m.\u001b[0m\u001b[0mTrace\u001b[0m\u001b[0;34m(\u001b[0m\u001b[0;34m\"tf.constant\"\u001b[0m\u001b[0;34m)\u001b[0m\u001b[0;34m:\u001b[0m\u001b[0;34m\u001b[0m\u001b[0;34m\u001b[0m\u001b[0m\n\u001b[1;32m    275\u001b[0m         \u001b[0;32mreturn\u001b[0m \u001b[0m_constant_eager_impl\u001b[0m\u001b[0;34m(\u001b[0m\u001b[0mctx\u001b[0m\u001b[0;34m,\u001b[0m \u001b[0mvalue\u001b[0m\u001b[0;34m,\u001b[0m \u001b[0mdtype\u001b[0m\u001b[0;34m,\u001b[0m \u001b[0mshape\u001b[0m\u001b[0;34m,\u001b[0m \u001b[0mverify_shape\u001b[0m\u001b[0;34m)\u001b[0m\u001b[0;34m\u001b[0m\u001b[0;34m\u001b[0m\u001b[0m\n\u001b[0;32m--> 276\u001b[0;31m     \u001b[0;32mreturn\u001b[0m \u001b[0m_constant_eager_impl\u001b[0m\u001b[0;34m(\u001b[0m\u001b[0mctx\u001b[0m\u001b[0;34m,\u001b[0m \u001b[0mvalue\u001b[0m\u001b[0;34m,\u001b[0m \u001b[0mdtype\u001b[0m\u001b[0;34m,\u001b[0m \u001b[0mshape\u001b[0m\u001b[0;34m,\u001b[0m \u001b[0mverify_shape\u001b[0m\u001b[0;34m)\u001b[0m\u001b[0;34m\u001b[0m\u001b[0;34m\u001b[0m\u001b[0m\n\u001b[0m\u001b[1;32m    277\u001b[0m \u001b[0;34m\u001b[0m\u001b[0m\n\u001b[1;32m    278\u001b[0m   \u001b[0mg\u001b[0m \u001b[0;34m=\u001b[0m \u001b[0mops\u001b[0m\u001b[0;34m.\u001b[0m\u001b[0mget_default_graph\u001b[0m\u001b[0;34m(\u001b[0m\u001b[0;34m)\u001b[0m\u001b[0;34m\u001b[0m\u001b[0;34m\u001b[0m\u001b[0m\n",
      "\u001b[0;32m~/.local/lib/python3.8/site-packages/tensorflow/python/framework/constant_op.py\u001b[0m in \u001b[0;36m_constant_eager_impl\u001b[0;34m(ctx, value, dtype, shape, verify_shape)\u001b[0m\n\u001b[1;32m    299\u001b[0m \u001b[0;32mdef\u001b[0m \u001b[0m_constant_eager_impl\u001b[0m\u001b[0;34m(\u001b[0m\u001b[0mctx\u001b[0m\u001b[0;34m,\u001b[0m \u001b[0mvalue\u001b[0m\u001b[0;34m,\u001b[0m \u001b[0mdtype\u001b[0m\u001b[0;34m,\u001b[0m \u001b[0mshape\u001b[0m\u001b[0;34m,\u001b[0m \u001b[0mverify_shape\u001b[0m\u001b[0;34m)\u001b[0m\u001b[0;34m:\u001b[0m\u001b[0;34m\u001b[0m\u001b[0;34m\u001b[0m\u001b[0m\n\u001b[1;32m    300\u001b[0m   \u001b[0;34m\"\"\"Implementation of eager constant.\"\"\"\u001b[0m\u001b[0;34m\u001b[0m\u001b[0;34m\u001b[0m\u001b[0m\n\u001b[0;32m--> 301\u001b[0;31m   \u001b[0mt\u001b[0m \u001b[0;34m=\u001b[0m \u001b[0mconvert_to_eager_tensor\u001b[0m\u001b[0;34m(\u001b[0m\u001b[0mvalue\u001b[0m\u001b[0;34m,\u001b[0m \u001b[0mctx\u001b[0m\u001b[0;34m,\u001b[0m \u001b[0mdtype\u001b[0m\u001b[0;34m)\u001b[0m\u001b[0;34m\u001b[0m\u001b[0;34m\u001b[0m\u001b[0m\n\u001b[0m\u001b[1;32m    302\u001b[0m   \u001b[0;32mif\u001b[0m \u001b[0mshape\u001b[0m \u001b[0;32mis\u001b[0m \u001b[0;32mNone\u001b[0m\u001b[0;34m:\u001b[0m\u001b[0;34m\u001b[0m\u001b[0;34m\u001b[0m\u001b[0m\n\u001b[1;32m    303\u001b[0m     \u001b[0;32mreturn\u001b[0m \u001b[0mt\u001b[0m\u001b[0;34m\u001b[0m\u001b[0;34m\u001b[0m\u001b[0m\n",
      "\u001b[0;32m~/.local/lib/python3.8/site-packages/tensorflow/python/framework/constant_op.py\u001b[0m in \u001b[0;36mconvert_to_eager_tensor\u001b[0;34m(value, ctx, dtype)\u001b[0m\n\u001b[1;32m     96\u001b[0m       \u001b[0mdtype\u001b[0m \u001b[0;34m=\u001b[0m \u001b[0mdtypes\u001b[0m\u001b[0;34m.\u001b[0m\u001b[0mas_dtype\u001b[0m\u001b[0;34m(\u001b[0m\u001b[0mdtype\u001b[0m\u001b[0;34m)\u001b[0m\u001b[0;34m.\u001b[0m\u001b[0mas_datatype_enum\u001b[0m\u001b[0;34m\u001b[0m\u001b[0;34m\u001b[0m\u001b[0m\n\u001b[1;32m     97\u001b[0m   \u001b[0mctx\u001b[0m\u001b[0;34m.\u001b[0m\u001b[0mensure_initialized\u001b[0m\u001b[0;34m(\u001b[0m\u001b[0;34m)\u001b[0m\u001b[0;34m\u001b[0m\u001b[0;34m\u001b[0m\u001b[0m\n\u001b[0;32m---> 98\u001b[0;31m   \u001b[0;32mreturn\u001b[0m \u001b[0mops\u001b[0m\u001b[0;34m.\u001b[0m\u001b[0mEagerTensor\u001b[0m\u001b[0;34m(\u001b[0m\u001b[0mvalue\u001b[0m\u001b[0;34m,\u001b[0m \u001b[0mctx\u001b[0m\u001b[0;34m.\u001b[0m\u001b[0mdevice_name\u001b[0m\u001b[0;34m,\u001b[0m \u001b[0mdtype\u001b[0m\u001b[0;34m)\u001b[0m\u001b[0;34m\u001b[0m\u001b[0;34m\u001b[0m\u001b[0m\n\u001b[0m\u001b[1;32m     99\u001b[0m \u001b[0;34m\u001b[0m\u001b[0m\n\u001b[1;32m    100\u001b[0m \u001b[0;34m\u001b[0m\u001b[0m\n",
      "\u001b[0;31mKeyboardInterrupt\u001b[0m: "
     ]
    }
   ],
   "source": [
    "agent = DQNAgent(env)\n",
    "\n",
    "agent.train(n_steps=200, n_episodes=200, save_path=\"agents/\")"
   ]
  },
  {
   "cell_type": "code",
   "execution_count": null,
   "metadata": {},
   "outputs": [],
   "source": []
  }
 ],
 "metadata": {
  "kernelspec": {
   "display_name": "Python 3",
   "language": "python",
   "name": "python3"
  },
  "language_info": {
   "codemirror_mode": {
    "name": "ipython",
    "version": 3
   },
   "file_extension": ".py",
   "mimetype": "text/x-python",
   "name": "python",
   "nbconvert_exporter": "python",
   "pygments_lexer": "ipython3",
   "version": "3.8.5"
  }
 },
 "nbformat": 4,
 "nbformat_minor": 4
}
